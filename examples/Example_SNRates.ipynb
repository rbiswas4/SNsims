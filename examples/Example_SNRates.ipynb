{
 "cells": [
  {
   "cell_type": "code",
   "execution_count": 1,
   "metadata": {
    "collapsed": true
   },
   "outputs": [],
   "source": [
    "import numpy as np"
   ]
  },
  {
   "cell_type": "code",
   "execution_count": 2,
   "metadata": {
    "collapsed": false
   },
   "outputs": [],
   "source": [
    "import snsims\n",
    "import healpy as hp"
   ]
  },
  {
   "cell_type": "code",
   "execution_count": 3,
   "metadata": {
    "collapsed": true
   },
   "outputs": [],
   "source": [
    "from astropy.cosmology import Planck15 as cosmo"
   ]
  },
  {
   "cell_type": "code",
   "execution_count": 7,
   "metadata": {
    "collapsed": false
   },
   "outputs": [
    {
     "name": "stdout",
     "output_type": "stream",
     "text": [
      "Help on class PowerLawRates in module snsims.paramDistribution:\n",
      "\n",
      "class PowerLawRates(snsims.populationParamSamples.RateDistributions)\n",
      " |  This class is a concrete implementation of `RateDistributions` with the\n",
      " |  following properties:\n",
      " |  - The SN rate : The SN rate is a single power law with numerical\n",
      " |      coefficients (alpha, beta)  passed into the instantiation. The rate is\n",
      " |      the number of SN at redshift z per comoving volume per unit observer\n",
      " |      time over the entire sky expressed in units of numbers/Mpc^3/year \n",
      " |  - A binning in redshift is used to perform the calculation of numbers of SN.\n",
      " |      This is assumed\n",
      " |  - The expected number of SN in each of these redshift bins is computed using\n",
      " |      the rate above, and a cosmology to compute the comoving volume for the\n",
      " |      redshift bin\n",
      " |  - The numbers of SN are determined by a Poisson Distribution about the\n",
      " |      expected number in each redshift bin,  determined with a random state\n",
      " |      passed in as an argument. This number must be integral.\n",
      " |  - It is assumed that the change of rates and volume within a redshift bin\n",
      " |      is negligible enough that samples to the true distribution may be drawn\n",
      " |      by obtaining number of SN samples of z from a uniform distribution\n",
      " |      within the z bin.\n",
      " |  \n",
      " |  Method resolution order:\n",
      " |      PowerLawRates\n",
      " |      snsims.populationParamSamples.RateDistributions\n",
      " |      __builtin__.object\n",
      " |  \n",
      " |  Methods defined here:\n",
      " |  \n",
      " |  __init__(self, rng, alpha=2.6e-05, beta=1.5, zbinEdges=None, zlower=1e-08, zhigher=1.4, numBins=20, surveyDuration=10.0, fieldArea=None, skyFraction=None, cosmo=FlatLambdaCDM(name=\"Planck15\", H0=67.7 km / (Mpc...ff=3.05, m_nu=[ 0.    0.    0.06] eV, Ob0=0.0486))\n",
      " |      Parameters\n",
      " |      ----------\n",
      " |      rng : instance of `np.random.RandomState`\n",
      " |      cosmo : Instance of `astropy.cosmology` class, optional, defaults to Planck15\n",
      " |          data structure specifying the cosmological parameters \n",
      " |      alpha : float, optional, defaults to 2.6e-5\n",
      " |      beta : float, optional, defaults to 1.5\n",
      " |          parameter in expression\n",
      " |  \n",
      " |  numSN(self)\n",
      " |      Return the number of expected supernovae in time DeltaT, with a rate snrate\n",
      " |      in a redshift range zlower, zhigher divided into numBins equal redshift\n",
      " |      bins. The variation of the rate within a bin is ignored.\n",
      " |      \n",
      " |      Parameters\n",
      " |      ----------\n",
      " |      zlower : mandatory, float\n",
      " |          lower limit on redshift range\n",
      " |      zhigher : mandatory, float\n",
      " |          upper limit on redshift range\n",
      " |      numBins : mandatory, integer\n",
      " |          number of bins\n",
      " |      cosmo : `astropy.cosmology` instance, mandatory\n",
      " |          cosmological parameters\n",
      " |      fieldArea : mandatory, units of radian square\n",
      " |          sky area considered\n",
      " |  \n",
      " |  snRate(self, z)\n",
      " |      The rate of SN at a redshift z in units of number of SN/ comoving\n",
      " |      volume in Mpc^3/yr in earth years according to the commonly used\n",
      " |      power-law expression \n",
      " |      \n",
      " |      .. math:: rate(z) = \u0007lpha (h/0.7)^3 (1.0 + z)eta\n",
      " |      \n",
      " |      Parameters\n",
      " |      ----------\n",
      " |      z : array-like, mandatory \n",
      " |          redshifts at which the rate is evaluated\n",
      " |      \n",
      " |      Examples\n",
      " |      --------\n",
      " |  \n",
      " |  zSampleSize(self)\n",
      " |      Parameters\n",
      " |      ----------\n",
      " |      zbinEdges : `nunpy.ndarray` of edges of zbins, defaults to None\n",
      " |          Should be of the form np.array([z0, z1, z2]) which will have\n",
      " |          zbins (z0, z1) and (z1, z2)\n",
      " |      skyFraction : np.float, optional, \n",
      " |      fieldArea : optional, units of degrees squared\n",
      " |          area of sky considered.\n",
      " |      zlower : float, optional, defaults to None\n",
      " |          lower edge of z range\n",
      " |      zhigher : float, optional, defaults to None\n",
      " |          higher edge of z range\n",
      " |      numBins : int, optional, defaults to None\n",
      " |         if not None, overrides zbinEdges\n",
      " |  \n",
      " |  ----------------------------------------------------------------------\n",
      " |  Data descriptors defined here:\n",
      " |  \n",
      " |  randomState\n",
      " |  \n",
      " |  skyFraction\n",
      " |  \n",
      " |  zSamples\n",
      " |  \n",
      " |  zbinEdges\n",
      " |  \n",
      " |  ----------------------------------------------------------------------\n",
      " |  Data and other attributes defined here:\n",
      " |  \n",
      " |  __abstractmethods__ = frozenset([])\n",
      " |  \n",
      " |  ----------------------------------------------------------------------\n",
      " |  Data descriptors inherited from snsims.populationParamSamples.RateDistributions:\n",
      " |  \n",
      " |  __dict__\n",
      " |      dictionary for instance variables (if defined)\n",
      " |  \n",
      " |  __weakref__\n",
      " |      list of weak references to the object (if defined)\n",
      "\n"
     ]
    }
   ],
   "source": [
    "help(snsims.PowerLawRates)"
   ]
  },
  {
   "cell_type": "code",
   "execution_count": 31,
   "metadata": {
    "collapsed": false
   },
   "outputs": [],
   "source": [
    "zdist = snsims.PowerLawRates(rng=np.random.RandomState(1), \n",
    "                             fieldArea=9.6,\n",
    "                             surveyDuration=10.,\n",
    "                             zbinEdges=np.arange(0.010001, 1.1, 0.1))"
   ]
  },
  {
   "cell_type": "code",
   "execution_count": 32,
   "metadata": {
    "collapsed": false
   },
   "outputs": [
    {
     "data": {
      "text/plain": [
       "10.0"
      ]
     },
     "execution_count": 32,
     "metadata": {},
     "output_type": "execute_result"
    }
   ],
   "source": [
    "# ten years\n",
    "zdist.DeltaT"
   ]
  },
  {
   "cell_type": "code",
   "execution_count": 33,
   "metadata": {
    "collapsed": false
   },
   "outputs": [
    {
     "data": {
      "text/plain": [
       "0.93084226773030898"
      ]
     },
     "execution_count": 33,
     "metadata": {},
     "output_type": "execute_result"
    }
   ],
   "source": [
    "# The sky is >~ 40000 sq degrees ~ 4000 * LSST field of view\n",
    "zdist.skyFraction * 2000 * 2"
   ]
  },
  {
   "cell_type": "code",
   "execution_count": 34,
   "metadata": {
    "collapsed": false
   },
   "outputs": [
    {
     "data": {
      "text/plain": [
       "array([ 0.010001,  0.110001,  0.210001,  0.310001,  0.410001,  0.510001,\n",
       "        0.610001,  0.710001,  0.810001,  0.910001,  1.010001])"
      ]
     },
     "execution_count": 34,
     "metadata": {},
     "output_type": "execute_result"
    }
   ],
   "source": [
    "zdist.zbinEdges"
   ]
  },
  {
   "cell_type": "code",
   "execution_count": 36,
   "metadata": {
    "collapsed": false
   },
   "outputs": [
    {
     "data": {
      "text/plain": [
       "11989.600801547122"
      ]
     },
     "execution_count": 36,
     "metadata": {},
     "output_type": "execute_result"
    }
   ],
   "source": [
    "zdist.zSampleSize().sum()"
   ]
  },
  {
   "cell_type": "code",
   "execution_count": 37,
   "metadata": {
    "collapsed": false
   },
   "outputs": [
    {
     "data": {
      "text/plain": [
       "array([ 0.010001,  0.110001,  0.210001,  0.310001,  0.410001,  0.510001,\n",
       "        0.610001,  0.710001,  0.810001,  0.910001,  1.010001])"
      ]
     },
     "execution_count": 37,
     "metadata": {},
     "output_type": "execute_result"
    }
   ],
   "source": [
    "zdist.zbinEdges"
   ]
  },
  {
   "cell_type": "code",
   "execution_count": 47,
   "metadata": {
    "collapsed": false
   },
   "outputs": [
    {
     "data": {
      "image/png": "[encoded data removed]",
      "text/plain": [
       "<matplotlib.figure.Figure at 0x110b19290>"
      ]
     },
     "metadata": {},
     "output_type": "display_data"
    }
   ],
   "source": [
    "fig, ax = plt.subplots(1, 2)\n",
    "_ = ax[0].hist(zdist.zSamples, bins=np.arange(0., 1.1, 0.1), histtype='step', lw=2)\n",
    "_ = ax[0].errorbar(0.5*(zdist.zbinEdges[:-1]+zdist.zbinEdges[1:]), zdist.zSampleSize(),\n",
    "                   yerr=np.sqrt(zdist.zSampleSize()), fmt='o')\n",
    "_ = ax[1].plot(0.5*(zdist.zbinEdges[:-1]+zdist.zbinEdges[1:]), \n",
    "               18000*zdist.zSampleSize()/ zdist.fieldArea, 'ko')"
   ]
  },
  {
   "cell_type": "markdown",
   "metadata": {},
   "source": [
    "On the left subplot, the histogram shows the samples of redshift actually simulated as a function of z. The green points are the number of samples that were expected from the rate, time, and area. The error bars show the square root of the number. \n",
    "\n",
    "On the right subplot, we show the numbers expected in 18000 degrees of a sky from this redshift distribution "
   ]
  }
 ],
 "metadata": {
  "anaconda-cloud": {},
  "kernelspec": {
   "display_name": "Python [default]",
   "language": "python",
   "name": "python2"
  },
  "language_info": {
   "codemirror_mode": {
    "name": "ipython",
    "version": 2
   },
   "file_extension": ".py",
   "mimetype": "text/x-python",
   "name": "python",
   "nbconvert_exporter": "python",
   "pygments_lexer": "ipython2",
   "version": "2.7.12"
  }
 },
 "nbformat": 4,
 "nbformat_minor": 0
}
