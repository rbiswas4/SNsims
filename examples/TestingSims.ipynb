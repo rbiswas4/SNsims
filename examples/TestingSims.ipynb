{
 "cells": [
  {
   "cell_type": "code",
   "execution_count": 1,
   "metadata": {
    "collapsed": true
   },
   "outputs": [],
   "source": [
    "import os\n",
    "import numpy as np\n",
    "import pandas as pd\n",
    "import time"
   ]
  },
  {
   "cell_type": "code",
   "execution_count": 2,
   "metadata": {
    "collapsed": true
   },
   "outputs": [],
   "source": [
    "import opsimsummary as oss"
   ]
  },
  {
   "cell_type": "code",
   "execution_count": 3,
   "metadata": {
    "collapsed": true
   },
   "outputs": [],
   "source": [
    "%matplotlib inline\n",
    "import matplotlib.pyplot as plt"
   ]
  },
  {
   "cell_type": "code",
   "execution_count": 4,
   "metadata": {
    "collapsed": false
   },
   "outputs": [],
   "source": [
    "import snsims\n",
    "import healpy as hp"
   ]
  },
  {
   "cell_type": "code",
   "execution_count": 5,
   "metadata": {
    "collapsed": false
   },
   "outputs": [],
   "source": [
    "zdist = snsims.PowerLawRates(rng=np.random.RandomState(1), \n",
    "                             fieldArea=hp.nside2pixarea(nside=4, degrees=True), \n",
    "                             zbinEdges=np.arange(0.0001, 1.1, 0.1))"
   ]
  },
  {
   "cell_type": "code",
   "execution_count": 6,
   "metadata": {
    "collapsed": false
   },
   "outputs": [
    {
     "data": {
      "text/plain": [
       "'0.2.0'"
      ]
     },
     "execution_count": 6,
     "metadata": {},
     "output_type": "execute_result"
    }
   ],
   "source": [
    "oss.__VERSION__"
   ]
  },
  {
   "cell_type": "code",
   "execution_count": 7,
   "metadata": {
    "collapsed": false
   },
   "outputs": [
    {
     "name": "stdout",
     "output_type": "stream",
     "text": [
      "/Users/rbiswas/.local/lib/python2.7/site-packages/snsims/__init__.pyc\n"
     ]
    }
   ],
   "source": [
    "print snsims.__file__"
   ]
  },
  {
   "cell_type": "code",
   "execution_count": 8,
   "metadata": {
    "collapsed": false
   },
   "outputs": [
    {
     "name": "stdout",
     "output_type": "stream",
     "text": [
      "0.2.9\n"
     ]
    }
   ],
   "source": [
    "print (snsims.__VERSION__)"
   ]
  },
  {
   "cell_type": "code",
   "execution_count": 9,
   "metadata": {
    "collapsed": false
   },
   "outputs": [
    {
     "name": "stdout",
     "output_type": "stream",
     "text": [
      "combined {u'conf/survey/northeclipticspur-18c.conf': 55, u'conf/survey/galacticplaneprop.conf': 52, 'ddf': 56, 'wfd': 54, u'conf/survey/southcelestialpole-18.conf': 53}\n"
     ]
    },
    {
     "name": "stderr",
     "output_type": "stream",
     "text": [
      "/usr/local/miniconda/lib/python2.7/site-packages/pandas/util/decorators.py:91: SettingWithCopyWarning: \n",
      "A value is trying to be set on a copy of a slice from a DataFrame\n",
      "\n",
      "See the caveats in the documentation: http://pandas.pydata.org/pandas-docs/stable/indexing.html#indexing-view-versus-copy\n",
      "  return func(*args, **kwargs)\n"
     ]
    }
   ],
   "source": [
    "opsimOut = oss.OpSimOutput.fromOpSimHDF('/Users/rbiswas/data/LSST/OpSimData/minion_1016.hdf',\n",
    "                                        subset='combined')"
   ]
  },
  {
   "cell_type": "code",
   "execution_count": 10,
   "metadata": {
    "collapsed": true
   },
   "outputs": [],
   "source": [
    "tstart = time.time()"
   ]
  },
  {
   "cell_type": "code",
   "execution_count": 11,
   "metadata": {
    "collapsed": true
   },
   "outputs": [],
   "source": [
    "NSIDE = 256"
   ]
  },
  {
   "cell_type": "code",
   "execution_count": 12,
   "metadata": {
    "collapsed": true
   },
   "outputs": [],
   "source": [
    "import multiprocessing"
   ]
  },
  {
   "cell_type": "code",
   "execution_count": 13,
   "metadata": {
    "collapsed": true
   },
   "outputs": [],
   "source": [
    "from joblib import Parallel, delayed"
   ]
  },
  {
   "cell_type": "code",
   "execution_count": 14,
   "metadata": {
    "collapsed": true
   },
   "outputs": [],
   "source": [
    "def func(i):\n",
    "    tileID = i\n",
    "    simTile = snsims.SimulationTile(snsims.SimpleSALTDist,\n",
    "                                    NSIDE=NSIDE,\n",
    "                                    tileID=tileID,\n",
    "                                    hpOpSim='/Users/rbiswas/data/LSST/OpSimData/healpixelized_MINION_1016_256.db',\n",
    "                                    rate=snsims.PowerLawRates,\n",
    "                                    allPointings=opsimOut)\n",
    "    simTile.writeTile(fileName='simTiles_{}.hdf'.format(i))\n",
    "\n"
   ]
  },
  {
   "cell_type": "code",
   "execution_count": 15,
   "metadata": {
    "collapsed": true
   },
   "outputs": [],
   "source": [
    "from math import sqrt"
   ]
  },
  {
   "cell_type": "code",
   "execution_count": 16,
   "metadata": {
    "collapsed": false
   },
   "outputs": [
    {
     "data": {
      "text/plain": [
       "[0.0, 1.0, 2.0, 3.0, 4.0, 5.0, 6.0, 7.0, 8.0, 9.0]"
      ]
     },
     "execution_count": 16,
     "metadata": {},
     "output_type": "execute_result"
    }
   ],
   "source": [
    "Parallel(n_jobs=2)(delayed(sqrt)(i ** 2) for i in range(10))\n"
   ]
  },
  {
   "cell_type": "code",
   "execution_count": 17,
   "metadata": {
    "collapsed": false,
    "scrolled": false
   },
   "outputs": [
    {
     "name": "stdout",
     "output_type": "stream",
     "text": [
      "another 50 0\n",
      "another 50 2097152\n"
     ]
    },
    {
     "name": "stderr",
     "output_type": "stream",
     "text": [
      "/Users/rbiswas/.local/lib/python2.7/site-packages/snsims/simulations.py:117: SettingWithCopyWarning: \n",
      "A value is trying to be set on a copy of a slice from a DataFrame.\n",
      "Try using .loc[row_indexer,col_indexer] = value instead\n",
      "\n",
      "See the caveats in the documentation: http://pandas.pydata.org/pandas-docs/stable/indexing.html#indexing-view-versus-copy\n",
      "  df['snid'] = snid\n",
      "/Users/rbiswas/.local/lib/python2.7/site-packages/snsims/simulations.py:117: SettingWithCopyWarning: \n",
      "A value is trying to be set on a copy of a slice from a DataFrame.\n",
      "Try using .loc[row_indexer,col_indexer] = value instead\n",
      "\n",
      "See the caveats in the documentation: http://pandas.pydata.org/pandas-docs/stable/indexing.html#indexing-view-versus-copy\n",
      "  df['snid'] = snid\n",
      "/Users/rbiswas/.local/lib/python2.7/site-packages/snsims/simulations.py:117: SettingWithCopyWarning: \n",
      "A value is trying to be set on a copy of a slice from a DataFrame.\n",
      "Try using .loc[row_indexer,col_indexer] = value instead\n",
      "\n",
      "See the caveats in the documentation: http://pandas.pydata.org/pandas-docs/stable/indexing.html#indexing-view-versus-copy\n",
      "  df['snid'] = snid\n",
      "/Users/rbiswas/.local/lib/python2.7/site-packages/snsims/simulations.py:117: SettingWithCopyWarning: \n",
      "A value is trying to be set on a copy of a slice from a DataFrame.\n",
      "Try using .loc[row_indexer,col_indexer] = value instead\n",
      "\n",
      "See the caveats in the documentation: http://pandas.pydata.org/pandas-docs/stable/indexing.html#indexing-view-versus-copy\n",
      "  df['snid'] = snid\n",
      "/Users/rbiswas/.local/lib/python2.7/site-packages/snsims/simulations.py:129: SettingWithCopyWarning: \n",
      "A value is trying to be set on a copy of a slice from a DataFrame.\n",
      "Try using .loc[row_indexer,col_indexer] = value instead\n",
      "\n",
      "See the caveats in the documentation: http://pandas.pydata.org/pandas-docs/stable/indexing.html#indexing-view-versus-copy\n",
      "  df['flux'] = fluxes\n",
      "/Users/rbiswas/.local/lib/python2.7/site-packages/snsims/simulations.py:129: SettingWithCopyWarning: \n",
      "A value is trying to be set on a copy of a slice from a DataFrame.\n",
      "Try using .loc[row_indexer,col_indexer] = value instead\n",
      "\n",
      "See the caveats in the documentation: http://pandas.pydata.org/pandas-docs/stable/indexing.html#indexing-view-versus-copy\n",
      "  df['flux'] = fluxes\n",
      "/Users/rbiswas/.local/lib/python2.7/site-packages/snsims/simulations.py:130: SettingWithCopyWarning: \n",
      "A value is trying to be set on a copy of a slice from a DataFrame.\n",
      "Try using .loc[row_indexer,col_indexer] = value instead\n",
      "\n",
      "See the caveats in the documentation: http://pandas.pydata.org/pandas-docs/stable/indexing.html#indexing-view-versus-copy\n",
      "  df['fluxerrs'] = fluxerrs\n",
      "/Users/rbiswas/.local/lib/python2.7/site-packages/snsims/simulations.py:130: SettingWithCopyWarning: \n",
      "A value is trying to be set on a copy of a slice from a DataFrame.\n",
      "Try using .loc[row_indexer,col_indexer] = value instead\n",
      "\n",
      "See the caveats in the documentation: http://pandas.pydata.org/pandas-docs/stable/indexing.html#indexing-view-versus-copy\n",
      "  df['fluxerrs'] = fluxerrs\n",
      "/Users/rbiswas/.local/lib/python2.7/site-packages/snsims/simulations.py:160: SettingWithCopyWarning: \n",
      "A value is trying to be set on a copy of a slice from a DataFrame.\n",
      "Try using .loc[row_indexer,col_indexer] = value instead\n",
      "\n",
      "See the caveats in the documentation: http://pandas.pydata.org/pandas-docs/stable/indexing.html#indexing-view-versus-copy\n",
      "  df['filter'] = df['filter'].astype(str)\n"
     ]
    },
    {
     "name": "stdout",
     "output_type": "stream",
     "text": [
      "another 50 1048576\n"
     ]
    },
    {
     "name": "stderr",
     "output_type": "stream",
     "text": [
      "/Users/rbiswas/.local/lib/python2.7/site-packages/snsims/simulations.py:160: SettingWithCopyWarning: \n",
      "A value is trying to be set on a copy of a slice from a DataFrame.\n",
      "Try using .loc[row_indexer,col_indexer] = value instead\n",
      "\n",
      "See the caveats in the documentation: http://pandas.pydata.org/pandas-docs/stable/indexing.html#indexing-view-versus-copy\n",
      "  df['filter'] = df['filter'].astype(str)\n",
      "/Users/rbiswas/.local/lib/python2.7/site-packages/snsims/simulations.py:129: SettingWithCopyWarning: \n",
      "A value is trying to be set on a copy of a slice from a DataFrame.\n",
      "Try using .loc[row_indexer,col_indexer] = value instead\n",
      "\n",
      "See the caveats in the documentation: http://pandas.pydata.org/pandas-docs/stable/indexing.html#indexing-view-versus-copy\n",
      "  df['flux'] = fluxes\n",
      "/Users/rbiswas/.local/lib/python2.7/site-packages/snsims/simulations.py:130: SettingWithCopyWarning: \n",
      "A value is trying to be set on a copy of a slice from a DataFrame.\n",
      "Try using .loc[row_indexer,col_indexer] = value instead\n",
      "\n",
      "See the caveats in the documentation: http://pandas.pydata.org/pandas-docs/stable/indexing.html#indexing-view-versus-copy\n",
      "  df['fluxerrs'] = fluxerrs\n",
      "/Users/rbiswas/.local/lib/python2.7/site-packages/snsims/simulations.py:129: SettingWithCopyWarning: \n",
      "A value is trying to be set on a copy of a slice from a DataFrame.\n",
      "Try using .loc[row_indexer,col_indexer] = value instead\n",
      "\n",
      "See the caveats in the documentation: http://pandas.pydata.org/pandas-docs/stable/indexing.html#indexing-view-versus-copy\n",
      "  df['flux'] = fluxes\n",
      "/Users/rbiswas/.local/lib/python2.7/site-packages/snsims/simulations.py:160: SettingWithCopyWarning: \n",
      "A value is trying to be set on a copy of a slice from a DataFrame.\n",
      "Try using .loc[row_indexer,col_indexer] = value instead\n",
      "\n",
      "See the caveats in the documentation: http://pandas.pydata.org/pandas-docs/stable/indexing.html#indexing-view-versus-copy\n",
      "  df['filter'] = df['filter'].astype(str)\n"
     ]
    },
    {
     "name": "stdout",
     "output_type": "stream",
     "text": [
      "another 50 3145728\n"
     ]
    },
    {
     "name": "stderr",
     "output_type": "stream",
     "text": [
      "/Users/rbiswas/.local/lib/python2.7/site-packages/snsims/simulations.py:130: SettingWithCopyWarning: \n",
      "A value is trying to be set on a copy of a slice from a DataFrame.\n",
      "Try using .loc[row_indexer,col_indexer] = value instead\n",
      "\n",
      "See the caveats in the documentation: http://pandas.pydata.org/pandas-docs/stable/indexing.html#indexing-view-versus-copy\n",
      "  df['fluxerrs'] = fluxerrs\n",
      "/Users/rbiswas/.local/lib/python2.7/site-packages/snsims/simulations.py:160: SettingWithCopyWarning: \n",
      "A value is trying to be set on a copy of a slice from a DataFrame.\n",
      "Try using .loc[row_indexer,col_indexer] = value instead\n",
      "\n",
      "See the caveats in the documentation: http://pandas.pydata.org/pandas-docs/stable/indexing.html#indexing-view-versus-copy\n",
      "  df['filter'] = df['filter'].astype(str)\n"
     ]
    },
    {
     "name": "stdout",
     "output_type": "stream",
     "text": [
      "another 50 50\n",
      "another 50 2097202\n",
      "another 50 1048626\n",
      "another 50 3145778\n",
      "another 50 100\n",
      "another 50 2097252\n",
      "another 50 1048676\n",
      "another 50 3145828\n",
      "another 50 2097302\n",
      "another 50 150\n",
      "another 50 1048726\n",
      "another 50 3145878\n",
      "another 50 200\n",
      "another 50 2097352\n",
      "another 50 1048776\n",
      "another 50 3145928\n",
      "another 50 250\n",
      "another 50 2097402\n",
      "another 50 3145978\n",
      "another 50 4194304\n",
      "another 50 1048826\n",
      "another 50 5242880\n",
      "another 50 6291456\n",
      "another 50 7340032\n",
      "another 50 4194354\n",
      "another 50 5242930\n",
      "another 50 6291506\n",
      "another 50 7340082\n",
      "another 50 5242980\n",
      "another 50 4194404\n",
      "another 50 6291556\n",
      "another 50 7340132\n",
      "another 50 5243030\n",
      "another 50 4194454\n",
      "another 50 6291606\n",
      "another 50 7340182\n",
      "another 50 5243080\n",
      "another 50 4194504\n",
      "another 50 6291656\n",
      "another 50 7340232\n",
      "another 50 4194554\n",
      "another 50 5243130\n",
      "another 50 6291706\n",
      "another 50 8388608\n",
      "another 50 9437184\n",
      "another 50 7340282\n",
      "another 50 10485760\n",
      "another 50 8388658\n",
      "another 50 9437234\n",
      "another 50 11534336\n",
      "another 50 10485810\n",
      "another 50 8388708\n",
      "another 50 9437284\n",
      "another 50 11534386\n",
      "another 50 10485860\n",
      "another 50 8388758\n",
      "another 50 9437334\n",
      "another 50 11534436\n",
      "another 50 10485910\n",
      "another 50 8388808\n",
      "another 50 9437384\n",
      "another 50 11534486\n",
      "another 50 10485960\n",
      "another 50 8388858\n",
      "another 50 9437434\n",
      "another 50 11534536\n",
      "another 50 10486010\n",
      "11.3704146504\n"
     ]
    }
   ],
   "source": [
    "!rm simTiles*.hdf\n",
    "tstart = time.time()\n",
    "Parallel(n_jobs=-1)(delayed(func)(i) for i in range(12))\n",
    "tend = time.time()\n",
    "print(tend -  tstart)/60."
   ]
  },
  {
   "cell_type": "code",
   "execution_count": 12,
   "metadata": {
    "collapsed": false
   },
   "outputs": [
    {
     "name": "stdout",
     "output_type": "stream",
     "text": [
      "another 50 2097152\n"
     ]
    },
    {
     "name": "stderr",
     "output_type": "stream",
     "text": [
      "/Users/rbiswas/.local/lib/python2.7/site-packages/snsims/simulations.py:101: SettingWithCopyWarning: \n",
      "A value is trying to be set on a copy of a slice from a DataFrame.\n",
      "Try using .loc[row_indexer,col_indexer] = value instead\n",
      "\n",
      "See the caveats in the documentation: http://pandas.pydata.org/pandas-docs/stable/indexing.html#indexing-view-versus-copy\n",
      "  df['snid'] = snid\n",
      "/Users/rbiswas/.local/lib/python2.7/site-packages/snsims/simulations.py:113: SettingWithCopyWarning: \n",
      "A value is trying to be set on a copy of a slice from a DataFrame.\n",
      "Try using .loc[row_indexer,col_indexer] = value instead\n",
      "\n",
      "See the caveats in the documentation: http://pandas.pydata.org/pandas-docs/stable/indexing.html#indexing-view-versus-copy\n",
      "  df['flux'] = fluxes\n",
      "/Users/rbiswas/.local/lib/python2.7/site-packages/snsims/simulations.py:114: SettingWithCopyWarning: \n",
      "A value is trying to be set on a copy of a slice from a DataFrame.\n",
      "Try using .loc[row_indexer,col_indexer] = value instead\n",
      "\n",
      "See the caveats in the documentation: http://pandas.pydata.org/pandas-docs/stable/indexing.html#indexing-view-versus-copy\n",
      "  df['fluxerrs'] = fluxerrs\n",
      "/Users/rbiswas/.local/lib/python2.7/site-packages/snsims/simulations.py:128: SettingWithCopyWarning: \n",
      "A value is trying to be set on a copy of a slice from a DataFrame.\n",
      "Try using .loc[row_indexer,col_indexer] = value instead\n",
      "\n",
      "See the caveats in the documentation: http://pandas.pydata.org/pandas-docs/stable/indexing.html#indexing-view-versus-copy\n",
      "  df['filter'] = df['filter'].astype(str)\n"
     ]
    },
    {
     "name": "stdout",
     "output_type": "stream",
     "text": [
      "another 50 2097202\n",
      "another 50 2097252\n",
      "another 50 2097302\n",
      "another 50 2097352\n",
      "another 50 2097402\n",
      "another 50 2097152\n",
      "another 50 2097202\n",
      "another 50 2097252\n",
      "another 50 2097302\n",
      "another 50 2097352\n",
      "another 50 2097402\n",
      "another 50 2097152\n",
      "another 50 2097202\n",
      "another 50 2097252\n",
      "another 50 2097302\n",
      "another 50 2097352\n",
      "another 50 2097402\n",
      "another 50 2097152\n",
      "another 50 2097202\n",
      "another 50 2097252\n",
      "another 50 2097302\n",
      "another 50 2097352\n",
      "another 50 2097402\n",
      "another 50 2097152\n",
      "another 50 2097202\n",
      "another 50 2097252\n",
      "another 50 2097302\n",
      "another 50 2097352\n",
      "another 50 2097402\n"
     ]
    }
   ],
   "source": [
    "tstart = time.time()\n",
    "for tileID in [0, 1, 2, 3, 4]:\n",
    "    simTile = snsims.SimulationTile(snsims.SimpleSALTDist,\n",
    "                                    NSIDE=NSIDE,\n",
    "                                    tileID=tileID,\n",
    "                                    hpOpSim='/Users/rbiswas/data/LSST/OpSimData/healpixelized_MINION_1016_256.db',\n",
    "                                    rate=snsims.PowerLawRates,\n",
    "                                    allPointings=opsimOut)\n",
    "    simTile.writeTile(fileName='simTiles.hdf')\n",
    "tend = time.time()"
   ]
  },
  {
   "cell_type": "code",
   "execution_count": 30,
   "metadata": {
    "collapsed": false
   },
   "outputs": [
    {
     "name": "stdout",
     "output_type": "stream",
     "text": [
      "58.1315309803\n"
     ]
    }
   ],
   "source": [
    "print((tend -tstart) / 60. )"
   ]
  },
  {
   "cell_type": "code",
   "execution_count": 13,
   "metadata": {
    "collapsed": false
   },
   "outputs": [],
   "source": [
    "simTile = snsims.SimulationTile(snsims.SimpleSALTDist,\n",
    "                                NSIDE=NSIDE,\n",
    "                                tileID=2,\n",
    "                                hpOpSim='/Users/rbiswas/data/LSST/OpSimData/healpixelized_MINION_1016_256.db',\n",
    "                                rate=snsims.PowerLawRates,\n",
    "                                allPointings=opsimOut)"
   ]
  },
  {
   "cell_type": "code",
   "execution_count": 14,
   "metadata": {
    "collapsed": false
   },
   "outputs": [
    {
     "data": {
      "text/html": [
       "<div>\n",
       "<table border=\"1\" class=\"dataframe\">\n",
       "  <thead>\n",
       "    <tr style=\"text-align: right;\">\n",
       "      <th></th>\n",
       "      <th>M</th>\n",
       "      <th>Mabs</th>\n",
       "      <th>c</th>\n",
       "      <th>mB</th>\n",
       "      <th>t0</th>\n",
       "      <th>x0</th>\n",
       "      <th>x1</th>\n",
       "      <th>z</th>\n",
       "      <th>ra</th>\n",
       "      <th>dec</th>\n",
       "    </tr>\n",
       "    <tr>\n",
       "      <th>snid</th>\n",
       "      <th></th>\n",
       "      <th></th>\n",
       "      <th></th>\n",
       "      <th></th>\n",
       "      <th></th>\n",
       "      <th></th>\n",
       "      <th></th>\n",
       "      <th></th>\n",
       "      <th></th>\n",
       "      <th></th>\n",
       "    </tr>\n",
       "  </thead>\n",
       "  <tbody>\n",
       "    <tr>\n",
       "      <th>2097152</th>\n",
       "      <td>0.442292</td>\n",
       "      <td>-18.992923</td>\n",
       "      <td>-0.150325</td>\n",
       "      <td>20.455115</td>\n",
       "      <td>62941.247556</td>\n",
       "      <td>0.000104</td>\n",
       "      <td>0.270252</td>\n",
       "      <td>0.157302</td>\n",
       "      <td>44.780113</td>\n",
       "      <td>0.283009</td>\n",
       "    </tr>\n",
       "    <tr>\n",
       "      <th>2097153</th>\n",
       "      <td>0.157796</td>\n",
       "      <td>-19.293411</td>\n",
       "      <td>-0.021235</td>\n",
       "      <td>20.903510</td>\n",
       "      <td>60526.898643</td>\n",
       "      <td>0.000069</td>\n",
       "      <td>-0.828357</td>\n",
       "      <td>0.214700</td>\n",
       "      <td>44.710646</td>\n",
       "      <td>0.328082</td>\n",
       "    </tr>\n",
       "    <tr>\n",
       "      <th>2097154</th>\n",
       "      <td>0.286477</td>\n",
       "      <td>-19.222541</td>\n",
       "      <td>-0.042347</td>\n",
       "      <td>22.184690</td>\n",
       "      <td>61892.986509</td>\n",
       "      <td>0.000021</td>\n",
       "      <td>-1.395514</td>\n",
       "      <td>0.349570</td>\n",
       "      <td>44.726804</td>\n",
       "      <td>0.236579</td>\n",
       "    </tr>\n",
       "    <tr>\n",
       "      <th>2097155</th>\n",
       "      <td>-0.167665</td>\n",
       "      <td>-19.404277</td>\n",
       "      <td>0.041154</td>\n",
       "      <td>21.991132</td>\n",
       "      <td>60345.984615</td>\n",
       "      <td>0.000025</td>\n",
       "      <td>0.349466</td>\n",
       "      <td>0.347941</td>\n",
       "      <td>44.836194</td>\n",
       "      <td>0.389179</td>\n",
       "    </tr>\n",
       "    <tr>\n",
       "      <th>2097156</th>\n",
       "      <td>0.170920</td>\n",
       "      <td>-18.761429</td>\n",
       "      <td>-0.030319</td>\n",
       "      <td>23.026965</td>\n",
       "      <td>62084.079594</td>\n",
       "      <td>0.000010</td>\n",
       "      <td>-0.688337</td>\n",
       "      <td>0.406018</td>\n",
       "      <td>44.733796</td>\n",
       "      <td>0.314037</td>\n",
       "    </tr>\n",
       "  </tbody>\n",
       "</table>\n",
       "</div>"
      ],
      "text/plain": [
       "                M       Mabs         c         mB            t0        x0  \\\n",
       "snid                                                                        \n",
       "2097152  0.442292 -18.992923 -0.150325  20.455115  62941.247556  0.000104   \n",
       "2097153  0.157796 -19.293411 -0.021235  20.903510  60526.898643  0.000069   \n",
       "2097154  0.286477 -19.222541 -0.042347  22.184690  61892.986509  0.000021   \n",
       "2097155 -0.167665 -19.404277  0.041154  21.991132  60345.984615  0.000025   \n",
       "2097156  0.170920 -18.761429 -0.030319  23.026965  62084.079594  0.000010   \n",
       "\n",
       "               x1         z         ra       dec  \n",
       "snid                                              \n",
       "2097152  0.270252  0.157302  44.780113  0.283009  \n",
       "2097153 -0.828357  0.214700  44.710646  0.328082  \n",
       "2097154 -1.395514  0.349570  44.726804  0.236579  \n",
       "2097155  0.349466  0.347941  44.836194  0.389179  \n",
       "2097156 -0.688337  0.406018  44.733796  0.314037  "
      ]
     },
     "execution_count": 14,
     "metadata": {},
     "output_type": "execute_result"
    }
   ],
   "source": [
    "simTile.snParamTable.head()"
   ]
  },
  {
   "cell_type": "code",
   "execution_count": 15,
   "metadata": {
    "collapsed": false
   },
   "outputs": [
    {
     "name": "stderr",
     "output_type": "stream",
     "text": [
      "/Users/rbiswas/.local/lib/python2.7/site-packages/snsims/simulations.py:135: SettingWithCopyWarning: \n",
      "A value is trying to be set on a copy of a slice from a DataFrame.\n",
      "Try using .loc[row_indexer,col_indexer] = value instead\n",
      "\n",
      "See the caveats in the documentation: http://pandas.pydata.org/pandas-docs/stable/indexing.html#indexing-view-versus-copy\n",
      "  df['snid'] = snid\n",
      "/Users/rbiswas/.local/lib/python2.7/site-packages/snsims/simulations.py:136: SettingWithCopyWarning: \n",
      "A value is trying to be set on a copy of a slice from a DataFrame.\n",
      "Try using .loc[row_indexer,col_indexer] = value instead\n",
      "\n",
      "See the caveats in the documentation: http://pandas.pydata.org/pandas-docs/stable/indexing.html#indexing-view-versus-copy\n",
      "  df['ModelFlux'] = self.modelFlux(snid=snid, times=df.expMJD.values, bands=df['filter'].values)\n",
      "/Users/rbiswas/.local/lib/python2.7/site-packages/snsims/simulations.py:148: SettingWithCopyWarning: \n",
      "A value is trying to be set on a copy of a slice from a DataFrame.\n",
      "Try using .loc[row_indexer,col_indexer] = value instead\n",
      "\n",
      "See the caveats in the documentation: http://pandas.pydata.org/pandas-docs/stable/indexing.html#indexing-view-versus-copy\n",
      "  df['fluxerr'] = fluxerr\n",
      "/Users/rbiswas/.local/lib/python2.7/site-packages/snsims/simulations.py:150: SettingWithCopyWarning: \n",
      "A value is trying to be set on a copy of a slice from a DataFrame.\n",
      "Try using .loc[row_indexer,col_indexer] = value instead\n",
      "\n",
      "See the caveats in the documentation: http://pandas.pydata.org/pandas-docs/stable/indexing.html#indexing-view-versus-copy\n",
      "  df['deviations'] = deviations\n",
      "/Users/rbiswas/.local/lib/python2.7/site-packages/snsims/simulations.py:151: SettingWithCopyWarning: \n",
      "A value is trying to be set on a copy of a slice from a DataFrame.\n",
      "Try using .loc[row_indexer,col_indexer] = value instead\n",
      "\n",
      "See the caveats in the documentation: http://pandas.pydata.org/pandas-docs/stable/indexing.html#indexing-view-versus-copy\n",
      "  df['flux'] = df['ModelFlux'] + df['deviations'] * df['fluxerr']\n",
      "/Users/rbiswas/.local/lib/python2.7/site-packages/snsims/simulations.py:152: SettingWithCopyWarning: \n",
      "A value is trying to be set on a copy of a slice from a DataFrame.\n",
      "Try using .loc[row_indexer,col_indexer] = value instead\n",
      "\n",
      "See the caveats in the documentation: http://pandas.pydata.org/pandas-docs/stable/indexing.html#indexing-view-versus-copy\n",
      "  df['zp'] = 0.\n",
      "/Users/rbiswas/.local/lib/python2.7/site-packages/snsims/simulations.py:153: SettingWithCopyWarning: \n",
      "A value is trying to be set on a copy of a slice from a DataFrame.\n",
      "Try using .loc[row_indexer,col_indexer] = value instead\n",
      "\n",
      "See the caveats in the documentation: http://pandas.pydata.org/pandas-docs/stable/indexing.html#indexing-view-versus-copy\n",
      "  df['zpsys']= 'ab'\n"
     ]
    }
   ],
   "source": [
    "lc = simTile.lc(2097153)\n"
   ]
  },
  {
   "cell_type": "code",
   "execution_count": 17,
   "metadata": {
    "collapsed": false
   },
   "outputs": [
    {
     "data": {
      "text/html": [
       "<div>\n",
       "<table border=\"1\" class=\"dataframe\">\n",
       "  <thead>\n",
       "    <tr style=\"text-align: right;\">\n",
       "      <th></th>\n",
       "      <th>band</th>\n",
       "      <th>mjd</th>\n",
       "      <th>flux</th>\n",
       "      <th>zpsys</th>\n",
       "      <th>zp</th>\n",
       "      <th>fluxerr</th>\n",
       "      <th>SNR</th>\n",
       "    </tr>\n",
       "    <tr>\n",
       "      <th>discreteTime</th>\n",
       "      <th></th>\n",
       "      <th></th>\n",
       "      <th></th>\n",
       "      <th></th>\n",
       "      <th></th>\n",
       "      <th></th>\n",
       "      <th></th>\n",
       "    </tr>\n",
       "  </thead>\n",
       "  <tbody>\n",
       "    <tr>\n",
       "      <th>0</th>\n",
       "      <td>i</td>\n",
       "      <td>60506.411646</td>\n",
       "      <td>1.603245e-10</td>\n",
       "      <td>ab</td>\n",
       "      <td>0.0</td>\n",
       "      <td>7.475844e-11</td>\n",
       "      <td>2.144567</td>\n",
       "    </tr>\n",
       "    <tr>\n",
       "      <th>0</th>\n",
       "      <td>y</td>\n",
       "      <td>60506.433772</td>\n",
       "      <td>3.457809e-10</td>\n",
       "      <td>ab</td>\n",
       "      <td>0.0</td>\n",
       "      <td>4.612780e-10</td>\n",
       "      <td>0.749615</td>\n",
       "    </tr>\n",
       "    <tr>\n",
       "      <th>6</th>\n",
       "      <td>z</td>\n",
       "      <td>60512.444334</td>\n",
       "      <td>1.250376e-09</td>\n",
       "      <td>ab</td>\n",
       "      <td>0.0</td>\n",
       "      <td>3.177229e-10</td>\n",
       "      <td>3.935428</td>\n",
       "    </tr>\n",
       "    <tr>\n",
       "      <th>7</th>\n",
       "      <td>z</td>\n",
       "      <td>60514.386858</td>\n",
       "      <td>1.350066e-09</td>\n",
       "      <td>ab</td>\n",
       "      <td>0.0</td>\n",
       "      <td>1.531379e-10</td>\n",
       "      <td>8.816016</td>\n",
       "    </tr>\n",
       "    <tr>\n",
       "      <th>8</th>\n",
       "      <td>z</td>\n",
       "      <td>60514.413775</td>\n",
       "      <td>1.524704e-09</td>\n",
       "      <td>ab</td>\n",
       "      <td>0.0</td>\n",
       "      <td>2.407971e-10</td>\n",
       "      <td>6.331905</td>\n",
       "    </tr>\n",
       "    <tr>\n",
       "      <th>11</th>\n",
       "      <td>y</td>\n",
       "      <td>60517.434732</td>\n",
       "      <td>1.039063e-09</td>\n",
       "      <td>ab</td>\n",
       "      <td>0.0</td>\n",
       "      <td>4.520203e-10</td>\n",
       "      <td>2.298710</td>\n",
       "    </tr>\n",
       "    <tr>\n",
       "      <th>22</th>\n",
       "      <td>z</td>\n",
       "      <td>60528.434356</td>\n",
       "      <td>2.683530e-09</td>\n",
       "      <td>ab</td>\n",
       "      <td>0.0</td>\n",
       "      <td>3.286021e-10</td>\n",
       "      <td>8.166505</td>\n",
       "    </tr>\n",
       "    <tr>\n",
       "      <th>27</th>\n",
       "      <td>i</td>\n",
       "      <td>60534.362835</td>\n",
       "      <td>3.331416e-09</td>\n",
       "      <td>ab</td>\n",
       "      <td>0.0</td>\n",
       "      <td>3.522925e-11</td>\n",
       "      <td>94.563917</td>\n",
       "    </tr>\n",
       "    <tr>\n",
       "      <th>28</th>\n",
       "      <td>g</td>\n",
       "      <td>60535.382644</td>\n",
       "      <td>2.181566e-09</td>\n",
       "      <td>ab</td>\n",
       "      <td>0.0</td>\n",
       "      <td>2.941917e-11</td>\n",
       "      <td>74.154570</td>\n",
       "    </tr>\n",
       "    <tr>\n",
       "      <th>29</th>\n",
       "      <td>g</td>\n",
       "      <td>60535.414186</td>\n",
       "      <td>2.220494e-09</td>\n",
       "      <td>ab</td>\n",
       "      <td>0.0</td>\n",
       "      <td>4.082698e-11</td>\n",
       "      <td>54.387894</td>\n",
       "    </tr>\n",
       "    <tr>\n",
       "      <th>30</th>\n",
       "      <td>i</td>\n",
       "      <td>60537.352445</td>\n",
       "      <td>2.700791e-09</td>\n",
       "      <td>ab</td>\n",
       "      <td>0.0</td>\n",
       "      <td>4.160005e-11</td>\n",
       "      <td>64.922772</td>\n",
       "    </tr>\n",
       "    <tr>\n",
       "      <th>32</th>\n",
       "      <td>y</td>\n",
       "      <td>60539.316547</td>\n",
       "      <td>1.960681e-09</td>\n",
       "      <td>ab</td>\n",
       "      <td>0.0</td>\n",
       "      <td>3.743783e-10</td>\n",
       "      <td>5.237165</td>\n",
       "    </tr>\n",
       "    <tr>\n",
       "      <th>33</th>\n",
       "      <td>y</td>\n",
       "      <td>60540.399926</td>\n",
       "      <td>1.636107e-09</td>\n",
       "      <td>ab</td>\n",
       "      <td>0.0</td>\n",
       "      <td>3.910953e-10</td>\n",
       "      <td>4.183398</td>\n",
       "    </tr>\n",
       "    <tr>\n",
       "      <th>36</th>\n",
       "      <td>z</td>\n",
       "      <td>60542.408324</td>\n",
       "      <td>1.659703e-09</td>\n",
       "      <td>ab</td>\n",
       "      <td>0.0</td>\n",
       "      <td>2.524729e-10</td>\n",
       "      <td>6.573789</td>\n",
       "    </tr>\n",
       "    <tr>\n",
       "      <th>47</th>\n",
       "      <td>u</td>\n",
       "      <td>60554.280828</td>\n",
       "      <td>1.003580e-10</td>\n",
       "      <td>ab</td>\n",
       "      <td>0.0</td>\n",
       "      <td>1.295333e-10</td>\n",
       "      <td>0.774766</td>\n",
       "    </tr>\n",
       "    <tr>\n",
       "      <th>48</th>\n",
       "      <td>g</td>\n",
       "      <td>60555.385082</td>\n",
       "      <td>3.198994e-10</td>\n",
       "      <td>ab</td>\n",
       "      <td>0.0</td>\n",
       "      <td>1.935025e-11</td>\n",
       "      <td>16.532052</td>\n",
       "    </tr>\n",
       "    <tr>\n",
       "      <th>49</th>\n",
       "      <td>i</td>\n",
       "      <td>60556.283191</td>\n",
       "      <td>1.660143e-09</td>\n",
       "      <td>ab</td>\n",
       "      <td>0.0</td>\n",
       "      <td>4.330102e-11</td>\n",
       "      <td>38.339587</td>\n",
       "    </tr>\n",
       "    <tr>\n",
       "      <th>50</th>\n",
       "      <td>u</td>\n",
       "      <td>60557.303364</td>\n",
       "      <td>-5.045509e-12</td>\n",
       "      <td>ab</td>\n",
       "      <td>0.0</td>\n",
       "      <td>4.837423e-11</td>\n",
       "      <td>-0.104302</td>\n",
       "    </tr>\n",
       "    <tr>\n",
       "      <th>51</th>\n",
       "      <td>r</td>\n",
       "      <td>60558.283290</td>\n",
       "      <td>9.363543e-10</td>\n",
       "      <td>ab</td>\n",
       "      <td>0.0</td>\n",
       "      <td>3.362304e-11</td>\n",
       "      <td>27.848591</td>\n",
       "    </tr>\n",
       "    <tr>\n",
       "      <th>53</th>\n",
       "      <td>g</td>\n",
       "      <td>60560.361992</td>\n",
       "      <td>2.247754e-10</td>\n",
       "      <td>ab</td>\n",
       "      <td>0.0</td>\n",
       "      <td>2.657519e-11</td>\n",
       "      <td>8.458093</td>\n",
       "    </tr>\n",
       "    <tr>\n",
       "      <th>60</th>\n",
       "      <td>y</td>\n",
       "      <td>60567.268781</td>\n",
       "      <td>7.141210e-10</td>\n",
       "      <td>ab</td>\n",
       "      <td>0.0</td>\n",
       "      <td>2.418726e-10</td>\n",
       "      <td>2.952467</td>\n",
       "    </tr>\n",
       "    <tr>\n",
       "      <th>61</th>\n",
       "      <td>y</td>\n",
       "      <td>60568.237139</td>\n",
       "      <td>1.113665e-09</td>\n",
       "      <td>ab</td>\n",
       "      <td>0.0</td>\n",
       "      <td>2.928523e-10</td>\n",
       "      <td>3.802822</td>\n",
       "    </tr>\n",
       "    <tr>\n",
       "      <th>63</th>\n",
       "      <td>y</td>\n",
       "      <td>60570.307824</td>\n",
       "      <td>5.786080e-10</td>\n",
       "      <td>ab</td>\n",
       "      <td>0.0</td>\n",
       "      <td>1.708968e-10</td>\n",
       "      <td>3.385716</td>\n",
       "    </tr>\n",
       "    <tr>\n",
       "      <th>65</th>\n",
       "      <td>z</td>\n",
       "      <td>60572.281644</td>\n",
       "      <td>9.964257e-10</td>\n",
       "      <td>ab</td>\n",
       "      <td>0.0</td>\n",
       "      <td>1.732599e-10</td>\n",
       "      <td>5.751047</td>\n",
       "    </tr>\n",
       "    <tr>\n",
       "      <th>74</th>\n",
       "      <td>r</td>\n",
       "      <td>60581.265449</td>\n",
       "      <td>4.070227e-10</td>\n",
       "      <td>ab</td>\n",
       "      <td>0.0</td>\n",
       "      <td>2.415238e-11</td>\n",
       "      <td>16.852283</td>\n",
       "    </tr>\n",
       "    <tr>\n",
       "      <th>75</th>\n",
       "      <td>u</td>\n",
       "      <td>60582.229937</td>\n",
       "      <td>-1.666570e-10</td>\n",
       "      <td>ab</td>\n",
       "      <td>0.0</td>\n",
       "      <td>1.150924e-10</td>\n",
       "      <td>-1.448027</td>\n",
       "    </tr>\n",
       "  </tbody>\n",
       "</table>\n",
       "</div>"
      ],
      "text/plain": [
       "             band           mjd          flux zpsys   zp       fluxerr  \\\n",
       "discreteTime                                                             \n",
       "0               i  60506.411646  1.603245e-10    ab  0.0  7.475844e-11   \n",
       "0               y  60506.433772  3.457809e-10    ab  0.0  4.612780e-10   \n",
       "6               z  60512.444334  1.250376e-09    ab  0.0  3.177229e-10   \n",
       "7               z  60514.386858  1.350066e-09    ab  0.0  1.531379e-10   \n",
       "8               z  60514.413775  1.524704e-09    ab  0.0  2.407971e-10   \n",
       "11              y  60517.434732  1.039063e-09    ab  0.0  4.520203e-10   \n",
       "22              z  60528.434356  2.683530e-09    ab  0.0  3.286021e-10   \n",
       "27              i  60534.362835  3.331416e-09    ab  0.0  3.522925e-11   \n",
       "28              g  60535.382644  2.181566e-09    ab  0.0  2.941917e-11   \n",
       "29              g  60535.414186  2.220494e-09    ab  0.0  4.082698e-11   \n",
       "30              i  60537.352445  2.700791e-09    ab  0.0  4.160005e-11   \n",
       "32              y  60539.316547  1.960681e-09    ab  0.0  3.743783e-10   \n",
       "33              y  60540.399926  1.636107e-09    ab  0.0  3.910953e-10   \n",
       "36              z  60542.408324  1.659703e-09    ab  0.0  2.524729e-10   \n",
       "47              u  60554.280828  1.003580e-10    ab  0.0  1.295333e-10   \n",
       "48              g  60555.385082  3.198994e-10    ab  0.0  1.935025e-11   \n",
       "49              i  60556.283191  1.660143e-09    ab  0.0  4.330102e-11   \n",
       "50              u  60557.303364 -5.045509e-12    ab  0.0  4.837423e-11   \n",
       "51              r  60558.283290  9.363543e-10    ab  0.0  3.362304e-11   \n",
       "53              g  60560.361992  2.247754e-10    ab  0.0  2.657519e-11   \n",
       "60              y  60567.268781  7.141210e-10    ab  0.0  2.418726e-10   \n",
       "61              y  60568.237139  1.113665e-09    ab  0.0  2.928523e-10   \n",
       "63              y  60570.307824  5.786080e-10    ab  0.0  1.708968e-10   \n",
       "65              z  60572.281644  9.964257e-10    ab  0.0  1.732599e-10   \n",
       "74              r  60581.265449  4.070227e-10    ab  0.0  2.415238e-11   \n",
       "75              u  60582.229937 -1.666570e-10    ab  0.0  1.150924e-10   \n",
       "\n",
       "                    SNR  \n",
       "discreteTime             \n",
       "0              2.144567  \n",
       "0              0.749615  \n",
       "6              3.935428  \n",
       "7              8.816016  \n",
       "8              6.331905  \n",
       "11             2.298710  \n",
       "22             8.166505  \n",
       "27            94.563917  \n",
       "28            74.154570  \n",
       "29            54.387894  \n",
       "30            64.922772  \n",
       "32             5.237165  \n",
       "33             4.183398  \n",
       "36             6.573789  \n",
       "47             0.774766  \n",
       "48            16.532052  \n",
       "49            38.339587  \n",
       "50            -0.104302  \n",
       "51            27.848591  \n",
       "53             8.458093  \n",
       "60             2.952467  \n",
       "61             3.802822  \n",
       "63             3.385716  \n",
       "65             5.751047  \n",
       "74            16.852283  \n",
       "75            -1.448027  "
      ]
     },
     "execution_count": 17,
     "metadata": {},
     "output_type": "execute_result"
    }
   ],
   "source": [
    "lc.coaddedLC(coaddTimes=1.)"
   ]
  },
  {
   "cell_type": "code",
   "execution_count": 20,
   "metadata": {
    "collapsed": false
   },
   "outputs": [
    {
     "data": {
      "text/html": [
       "&lt;Table length=59&gt;\n",
       "<table id=\"table4739638864\" class=\"table-striped table-bordered table-condensed\">\n",
       "<thead><tr><th>time</th><th>band</th><th>ModelFlux</th><th>fieldID [2]</th><th>flux</th><th>fluxerr</th><th>zp</th><th>zpsys</th></tr></thead>\n",
       "<thead><tr><th>float64</th><th>unicode1</th><th>float64</th><th>int64</th><th>float64</th><th>float64</th><th>float64</th><th>str2</th></tr></thead>\n",
       "<tr><td>60506.406015</td><td>i</td><td>5.60107665011e-11</td><td>2736 .. 2736</td><td>1.37291155254e-10</td><td>1.08498863144e-10</td><td>0.0</td><td>ab</td></tr>\n",
       "<tr><td>60506.417278</td><td>i</td><td>5.63801241752e-11</td><td>2736 .. 2736</td><td>1.83357830157e-10</td><td>1.0287512778e-10</td><td>0.0</td><td>ab</td></tr>\n",
       "<tr><td>60506.429944</td><td>y</td><td>3.00086952725e-11</td><td>2736 .. 2736</td><td>9.08738607278e-10</td><td>6.58830642806e-10</td><td>0.0</td><td>ab</td></tr>\n",
       "<tr><td>60506.4376</td><td>y</td><td>3.01352306532e-11</td><td>2736 .. 2736</td><td>-2.1717688328e-10</td><td>6.45795504698e-10</td><td>0.0</td><td>ab</td></tr>\n",
       "<tr><td>60512.444334</td><td>z</td><td>8.80239490846e-10</td><td>2626 .. 2626</td><td>1.2503758159e-09</td><td>3.17722947303e-10</td><td>0.0</td><td>ab</td></tr>\n",
       "<tr><td>60514.377041</td><td>z</td><td>1.29793370422e-09</td><td>2626 .. 2626</td><td>1.4645323852e-09</td><td>2.74877337943e-10</td><td>0.0</td><td>ab</td></tr>\n",
       "<tr><td>60514.38975</td><td>z</td><td>1.30087068345e-09</td><td>2626 .. 2626</td><td>1.13185446439e-09</td><td>2.57521390501e-10</td><td>0.0</td><td>ab</td></tr>\n",
       "<tr><td>60514.393784</td><td>z</td><td>1.30180347521e-09</td><td>2736 .. 2736</td><td>1.45381093515e-09</td><td>2.63032388594e-10</td><td>0.0</td><td>ab</td></tr>\n",
       "<tr><td>60514.413775</td><td>z</td><td>1.30643000276e-09</td><td>2736 .. 2736</td><td>1.52470433984e-09</td><td>2.40797112262e-10</td><td>0.0</td><td>ab</td></tr>\n",
       "<tr><td>60517.430686</td><td>y</td><td>1.46006259282e-09</td><td>2736 .. 2736</td><td>2.48306084765e-10</td><td>6.48151991345e-10</td><td>0.0</td><td>ab</td></tr>\n",
       "<tr><td>...</td><td>...</td><td>...</td><td>...</td><td>...</td><td>...</td><td>...</td><td>...</td></tr>\n",
       "<tr><td>60570.311594</td><td>y</td><td>7.07855598428e-10</td><td>2736 .. 2736</td><td>8.88348793243e-10</td><td>3.85618489289e-10</td><td>0.0</td><td>ab</td></tr>\n",
       "<tr><td>60572.270533</td><td>z</td><td>7.19981125653e-10</td><td>2626 .. 2626</td><td>3.84342398749e-10</td><td>3.49895686308e-10</td><td>0.0</td><td>ab</td></tr>\n",
       "<tr><td>60572.270982</td><td>z</td><td>7.19971367389e-10</td><td>2736 .. 2736</td><td>1.48632075239e-09</td><td>3.58320064414e-10</td><td>0.0</td><td>ab</td></tr>\n",
       "<tr><td>60572.290996</td><td>z</td><td>7.19536890897e-10</td><td>2626 .. 2626</td><td>1.00350068045e-09</td><td>3.36038342878e-10</td><td>0.0</td><td>ab</td></tr>\n",
       "<tr><td>60572.294066</td><td>z</td><td>7.19470330943e-10</td><td>2736 .. 2736</td><td>1.11153879131e-09</td><td>3.41411362652e-10</td><td>0.0</td><td>ab</td></tr>\n",
       "<tr><td>60581.222981</td><td>r</td><td>4.21702567619e-10</td><td>2614 .. 2614</td><td>3.9275213547e-10</td><td>5.23695739644e-11</td><td>0.0</td><td>ab</td></tr>\n",
       "<tr><td>60581.234687</td><td>r</td><td>4.21601595873e-10</td><td>2614 .. 2614</td><td>3.17510005132e-10</td><td>5.02401730024e-11</td><td>0.0</td><td>ab</td></tr>\n",
       "<tr><td>60581.292177</td><td>r</td><td>4.21106435071e-10</td><td>2614 .. 2614</td><td>4.74243530027e-10</td><td>4.51571098365e-11</td><td>0.0</td><td>ab</td></tr>\n",
       "<tr><td>60581.311951</td><td>r</td><td>4.20936401116e-10</td><td>2614 .. 2614</td><td>4.43585139482e-10</td><td>4.50287258716e-11</td><td>0.0</td><td>ab</td></tr>\n",
       "<tr><td>60582.229937</td><td>u</td><td>3.2608226913e-11</td><td>2614 .. 2614</td><td>-1.66656983109e-10</td><td>1.15092443562e-10</td><td>0.0</td><td>ab</td></tr>\n",
       "</table>"
      ],
      "text/plain": [
       "<Table length=59>\n",
       "    time       band       ModelFlux     ...      fluxerr         zp   zpsys\n",
       "  float64    unicode1      float64      ...      float64      float64  str2\n",
       "------------ -------- ----------------- ... ----------------- ------- -----\n",
       "60506.406015        i 5.60107665011e-11 ... 1.08498863144e-10     0.0    ab\n",
       "60506.417278        i 5.63801241752e-11 ...  1.0287512778e-10     0.0    ab\n",
       "60506.429944        y 3.00086952725e-11 ... 6.58830642806e-10     0.0    ab\n",
       "  60506.4376        y 3.01352306532e-11 ... 6.45795504698e-10     0.0    ab\n",
       "60512.444334        z 8.80239490846e-10 ... 3.17722947303e-10     0.0    ab\n",
       "60514.377041        z 1.29793370422e-09 ... 2.74877337943e-10     0.0    ab\n",
       " 60514.38975        z 1.30087068345e-09 ... 2.57521390501e-10     0.0    ab\n",
       "60514.393784        z 1.30180347521e-09 ... 2.63032388594e-10     0.0    ab\n",
       "60514.413775        z 1.30643000276e-09 ... 2.40797112262e-10     0.0    ab\n",
       "60517.430686        y 1.46006259282e-09 ... 6.48151991345e-10     0.0    ab\n",
       "         ...      ...               ... ...               ...     ...   ...\n",
       "60570.311594        y 7.07855598428e-10 ... 3.85618489289e-10     0.0    ab\n",
       "60572.270533        z 7.19981125653e-10 ... 3.49895686308e-10     0.0    ab\n",
       "60572.270982        z 7.19971367389e-10 ... 3.58320064414e-10     0.0    ab\n",
       "60572.290996        z 7.19536890897e-10 ... 3.36038342878e-10     0.0    ab\n",
       "60572.294066        z 7.19470330943e-10 ... 3.41411362652e-10     0.0    ab\n",
       "60581.222981        r 4.21702567619e-10 ... 5.23695739644e-11     0.0    ab\n",
       "60581.234687        r 4.21601595873e-10 ... 5.02401730024e-11     0.0    ab\n",
       "60581.292177        r 4.21106435071e-10 ... 4.51571098365e-11     0.0    ab\n",
       "60581.311951        r 4.20936401116e-10 ... 4.50287258716e-11     0.0    ab\n",
       "60582.229937        u  3.2608226913e-11 ... 1.15092443562e-10     0.0    ab"
      ]
     },
     "execution_count": 20,
     "metadata": {},
     "output_type": "execute_result"
    }
   ],
   "source": [
    "lc.snCosmoLC()"
   ]
  },
  {
   "cell_type": "code",
   "execution_count": 21,
   "metadata": {
    "collapsed": false
   },
   "outputs": [
    {
     "ename": "ImportError",
     "evalue": "No module named fitsio",
     "output_type": "error",
     "traceback": [
      "\u001b[0;31m---------------------------------------------------------------------------\u001b[0m",
      "\u001b[0;31mImportError\u001b[0m                               Traceback (most recent call last)",
      "\u001b[0;32m<ipython-input-21-c6c683938637>\u001b[0m in \u001b[0;36m<module>\u001b[0;34m()\u001b[0m\n\u001b[0;32m----> 1\u001b[0;31m \u001b[0;32mimport\u001b[0m \u001b[0manalyzeSN\u001b[0m \u001b[0;32mas\u001b[0m \u001b[0mans\u001b[0m\u001b[0;34m\u001b[0m\u001b[0m\n\u001b[0m",
      "\u001b[0;32m/Users/rbiswas/.local/lib/python2.7/site-packages/analyzeSN/__init__.py\u001b[0m in \u001b[0;36m<module>\u001b[0;34m()\u001b[0m\n\u001b[1;32m      3\u001b[0m \u001b[0;32mfrom\u001b[0m \u001b[0;34m.\u001b[0m\u001b[0mversion\u001b[0m \u001b[0;32mimport\u001b[0m \u001b[0m__version__\u001b[0m\u001b[0;34m\u001b[0m\u001b[0m\n\u001b[1;32m      4\u001b[0m \u001b[0;32mfrom\u001b[0m \u001b[0;34m.\u001b[0m \u001b[0;32mimport\u001b[0m \u001b[0mfilters\u001b[0m\u001b[0;34m\u001b[0m\u001b[0m\n\u001b[0;32m----> 5\u001b[0;31m \u001b[0;32mfrom\u001b[0m \u001b[0;34m.\u001b[0m \u001b[0;32mimport\u001b[0m \u001b[0msnanaSims\u001b[0m\u001b[0;34m\u001b[0m\u001b[0m\n\u001b[0m\u001b[1;32m      6\u001b[0m \u001b[0;32mfrom\u001b[0m \u001b[0;34m.\u001b[0m\u001b[0manalyzelcFits\u001b[0m \u001b[0;32mimport\u001b[0m \u001b[0;34m*\u001b[0m\u001b[0;34m\u001b[0m\u001b[0m\n\u001b[1;32m      7\u001b[0m \u001b[0;32mfrom\u001b[0m \u001b[0;34m.\u001b[0m\u001b[0mcov_utils\u001b[0m \u001b[0;32mimport\u001b[0m \u001b[0;34m*\u001b[0m\u001b[0;34m\u001b[0m\u001b[0m\n",
      "\u001b[0;32m/Users/rbiswas/.local/lib/python2.7/site-packages/analyzeSN/snanaSims.py\u001b[0m in \u001b[0;36m<module>\u001b[0;34m()\u001b[0m\n\u001b[1;32m      7\u001b[0m \u001b[0;32mimport\u001b[0m \u001b[0mnumpy\u001b[0m \u001b[0;32mas\u001b[0m \u001b[0mnp\u001b[0m\u001b[0;34m\u001b[0m\u001b[0m\n\u001b[1;32m      8\u001b[0m \u001b[0;32mfrom\u001b[0m \u001b[0mastropy\u001b[0m\u001b[0;34m.\u001b[0m\u001b[0mio\u001b[0m \u001b[0;32mimport\u001b[0m \u001b[0mfits\u001b[0m\u001b[0;34m\u001b[0m\u001b[0m\n\u001b[0;32m----> 9\u001b[0;31m \u001b[0;32mimport\u001b[0m \u001b[0mfitsio\u001b[0m\u001b[0;34m\u001b[0m\u001b[0m\n\u001b[0m\u001b[1;32m     10\u001b[0m \u001b[0;32mfrom\u001b[0m \u001b[0mastropy\u001b[0m\u001b[0;34m.\u001b[0m\u001b[0mutils\u001b[0m \u001b[0;32mimport\u001b[0m \u001b[0mlazyproperty\u001b[0m\u001b[0;34m\u001b[0m\u001b[0m\n\u001b[1;32m     11\u001b[0m \u001b[0;32mfrom\u001b[0m \u001b[0mastropy\u001b[0m\u001b[0;34m.\u001b[0m\u001b[0mtable\u001b[0m \u001b[0;32mimport\u001b[0m \u001b[0mTable\u001b[0m\u001b[0;34m,\u001b[0m \u001b[0mColumn\u001b[0m\u001b[0;34m\u001b[0m\u001b[0m\n",
      "\u001b[0;31mImportError\u001b[0m: No module named fitsio"
     ]
    }
   ],
   "source": [
    "import analyzeSN as ans"
   ]
  },
  {
   "cell_type": "code",
   "execution_count": 14,
   "metadata": {
    "collapsed": false
   },
   "outputs": [
    {
     "name": "stdout",
     "output_type": "stream",
     "text": [
      "another 50 2097152\n"
     ]
    },
    {
     "name": "stderr",
     "output_type": "stream",
     "text": [
      "/Users/rbiswas/.local/lib/python2.7/site-packages/snsims/simulations.py:101: SettingWithCopyWarning: \n",
      "A value is trying to be set on a copy of a slice from a DataFrame.\n",
      "Try using .loc[row_indexer,col_indexer] = value instead\n",
      "\n",
      "See the caveats in the documentation: http://pandas.pydata.org/pandas-docs/stable/indexing.html#indexing-view-versus-copy\n",
      "  df['snid'] = snid\n",
      "/Users/rbiswas/.local/lib/python2.7/site-packages/snsims/simulations.py:113: SettingWithCopyWarning: \n",
      "A value is trying to be set on a copy of a slice from a DataFrame.\n",
      "Try using .loc[row_indexer,col_indexer] = value instead\n",
      "\n",
      "See the caveats in the documentation: http://pandas.pydata.org/pandas-docs/stable/indexing.html#indexing-view-versus-copy\n",
      "  df['flux'] = fluxes\n",
      "/Users/rbiswas/.local/lib/python2.7/site-packages/snsims/simulations.py:114: SettingWithCopyWarning: \n",
      "A value is trying to be set on a copy of a slice from a DataFrame.\n",
      "Try using .loc[row_indexer,col_indexer] = value instead\n",
      "\n",
      "See the caveats in the documentation: http://pandas.pydata.org/pandas-docs/stable/indexing.html#indexing-view-versus-copy\n",
      "  df['fluxerrs'] = fluxerrs\n",
      "/Users/rbiswas/.local/lib/python2.7/site-packages/snsims/simulations.py:128: SettingWithCopyWarning: \n",
      "A value is trying to be set on a copy of a slice from a DataFrame.\n",
      "Try using .loc[row_indexer,col_indexer] = value instead\n",
      "\n",
      "See the caveats in the documentation: http://pandas.pydata.org/pandas-docs/stable/indexing.html#indexing-view-versus-copy\n",
      "  df['filter'] = df['filter'].astype(str)\n"
     ]
    },
    {
     "name": "stdout",
     "output_type": "stream",
     "text": [
      "another 50 2097202\n",
      "another 50 2097252\n",
      "another 50 2097302\n",
      "another 50 2097352\n",
      "another 50 2097402\n"
     ]
    }
   ],
   "source": [
    "simTile.writeTile(fileName='SimTile-2.hdf')"
   ]
  },
  {
   "cell_type": "code",
   "execution_count": 18,
   "metadata": {
    "collapsed": true
   },
   "outputs": [],
   "source": [
    "tend = time.time()"
   ]
  },
  {
   "cell_type": "code",
   "execution_count": 19,
   "metadata": {
    "collapsed": false
   },
   "outputs": [
    {
     "name": "stdout",
     "output_type": "stream",
     "text": [
      "125.169522047\n"
     ]
    }
   ],
   "source": [
    "print(tend - tstart)"
   ]
  },
  {
   "cell_type": "code",
   "execution_count": 20,
   "metadata": {
    "collapsed": false
   },
   "outputs": [
    {
     "data": {
      "text/plain": [
       "282"
      ]
     },
     "execution_count": 20,
     "metadata": {},
     "output_type": "execute_result"
    }
   ],
   "source": [
    "len(simTile.snParamTable)"
   ]
  },
  {
   "cell_type": "code",
   "execution_count": 19,
   "metadata": {
    "collapsed": false
   },
   "outputs": [
    {
     "name": "stderr",
     "output_type": "stream",
     "text": [
      "/usr/local/software/lib/python2.7/site-packages/tables/group.py:1213: UserWarning: problems loading leaf ``/tile_0/table``::\n",
      "\n",
      "  HDF5 error back trace\n",
      "\n",
      "  File \"H5Dio.c\", line 173, in H5Dread\n",
      "    can't read data\n",
      "  File \"H5Dio.c\", line 551, in H5D__read\n",
      "    can't read data\n",
      "  File \"H5Dchunk.c\", line 1875, in H5D__chunk_read\n",
      "    unable to read raw data chunk\n",
      "  File \"H5Dchunk.c\", line 2905, in H5D__chunk_lock\n",
      "    data pipeline read failed\n",
      "  File \"H5Z.c\", line 1372, in H5Z_pipeline\n",
      "    filter returned failure during read\n",
      "  File \"H5Zdeflate.c\", line 125, in H5Z_filter_deflate\n",
      "    inflate() failed\n",
      "\n",
      "End of HDF5 error back trace\n",
      "\n",
      "Problems reading the array data.\n",
      "\n",
      "The leaf will become an ``UnImplemented`` node.\n",
      "  % (self._g_join(childname), exc))\n",
      "/usr/local/software/lib/python2.7/site-packages/tables/group.py:1213: UserWarning: problems loading leaf ``/tile_1/table``::\n",
      "\n",
      "  HDF5 error back trace\n",
      "\n",
      "  File \"H5Dio.c\", line 173, in H5Dread\n",
      "    can't read data\n",
      "  File \"H5Dio.c\", line 551, in H5D__read\n",
      "    can't read data\n",
      "  File \"H5Dchunk.c\", line 1875, in H5D__chunk_read\n",
      "    unable to read raw data chunk\n",
      "  File \"H5Dchunk.c\", line 2905, in H5D__chunk_lock\n",
      "    data pipeline read failed\n",
      "  File \"H5Z.c\", line 1372, in H5Z_pipeline\n",
      "    filter returned failure during read\n",
      "  File \"H5Zdeflate.c\", line 125, in H5Z_filter_deflate\n",
      "    inflate() failed\n",
      "\n",
      "End of HDF5 error back trace\n",
      "\n",
      "Problems reading the array data.\n",
      "\n",
      "The leaf will become an ``UnImplemented`` node.\n",
      "  % (self._g_join(childname), exc))\n",
      "/usr/local/software/lib/python2.7/site-packages/tables/group.py:1213: UserWarning: problems loading leaf ``/tile_2/table``::\n",
      "\n",
      "  HDF5 error back trace\n",
      "\n",
      "  File \"H5Dio.c\", line 173, in H5Dread\n",
      "    can't read data\n",
      "  File \"H5Dio.c\", line 551, in H5D__read\n",
      "    can't read data\n",
      "  File \"H5Dchunk.c\", line 1875, in H5D__chunk_read\n",
      "    unable to read raw data chunk\n",
      "  File \"H5Dchunk.c\", line 2905, in H5D__chunk_lock\n",
      "    data pipeline read failed\n",
      "  File \"H5Z.c\", line 1372, in H5Z_pipeline\n",
      "    filter returned failure during read\n",
      "  File \"H5Zdeflate.c\", line 125, in H5Z_filter_deflate\n",
      "    inflate() failed\n",
      "\n",
      "End of HDF5 error back trace\n",
      "\n",
      "Problems reading the array data.\n",
      "\n",
      "The leaf will become an ``UnImplemented`` node.\n",
      "  % (self._g_join(childname), exc))\n",
      "/usr/local/software/lib/python2.7/site-packages/tables/group.py:1213: UserWarning: problems loading leaf ``/tile_3/table``::\n",
      "\n",
      "  HDF5 error back trace\n",
      "\n",
      "  File \"H5Dio.c\", line 173, in H5Dread\n",
      "    can't read data\n",
      "  File \"H5Dio.c\", line 551, in H5D__read\n",
      "    can't read data\n",
      "  File \"H5Dchunk.c\", line 1875, in H5D__chunk_read\n",
      "    unable to read raw data chunk\n",
      "  File \"H5Dchunk.c\", line 2905, in H5D__chunk_lock\n",
      "    data pipeline read failed\n",
      "  File \"H5Z.c\", line 1372, in H5Z_pipeline\n",
      "    filter returned failure during read\n",
      "  File \"H5Zdeflate.c\", line 125, in H5Z_filter_deflate\n",
      "    inflate() failed\n",
      "\n",
      "End of HDF5 error back trace\n",
      "\n",
      "Problems reading the array data.\n",
      "\n",
      "The leaf will become an ``UnImplemented`` node.\n",
      "  % (self._g_join(childname), exc))\n"
     ]
    },
    {
     "ename": "ValueError",
     "evalue": "key must be provided when HDF file contains multiple datasets.",
     "output_type": "error",
     "traceback": [
      "\u001b[0;31m---------------------------------------------------------------------------\u001b[0m",
      "\u001b[0;31mValueError\u001b[0m                                Traceback (most recent call last)",
      "\u001b[0;32m<ipython-input-19-d39d6bd02462>\u001b[0m in \u001b[0;36m<module>\u001b[0;34m()\u001b[0m\n\u001b[0;32m----> 1\u001b[0;31m \u001b[0mdf\u001b[0m \u001b[0;34m=\u001b[0m \u001b[0mpd\u001b[0m\u001b[0;34m.\u001b[0m\u001b[0mread_hdf\u001b[0m\u001b[0;34m(\u001b[0m\u001b[0;34m'simTiles.hdf'\u001b[0m\u001b[0;34m)\u001b[0m\u001b[0;34m\u001b[0m\u001b[0m\n\u001b[0m",
      "\u001b[0;32m/usr/local/software/lib/python2.7/site-packages/pandas/io/pytables.pyc\u001b[0m in \u001b[0;36mread_hdf\u001b[0;34m(path_or_buf, key, **kwargs)\u001b[0m\n\u001b[1;32m    325\u001b[0m             \u001b[0mkeys\u001b[0m \u001b[0;34m=\u001b[0m \u001b[0mstore\u001b[0m\u001b[0;34m.\u001b[0m\u001b[0mkeys\u001b[0m\u001b[0;34m(\u001b[0m\u001b[0;34m)\u001b[0m\u001b[0;34m\u001b[0m\u001b[0m\n\u001b[1;32m    326\u001b[0m             \u001b[0;32mif\u001b[0m \u001b[0mlen\u001b[0m\u001b[0;34m(\u001b[0m\u001b[0mkeys\u001b[0m\u001b[0;34m)\u001b[0m \u001b[0;34m!=\u001b[0m \u001b[0;36m1\u001b[0m\u001b[0;34m:\u001b[0m\u001b[0;34m\u001b[0m\u001b[0m\n\u001b[0;32m--> 327\u001b[0;31m                 raise ValueError('key must be provided when HDF file contains '\n\u001b[0m\u001b[1;32m    328\u001b[0m                                  'multiple datasets.')\n\u001b[1;32m    329\u001b[0m             \u001b[0mkey\u001b[0m \u001b[0;34m=\u001b[0m \u001b[0mkeys\u001b[0m\u001b[0;34m[\u001b[0m\u001b[0;36m0\u001b[0m\u001b[0;34m]\u001b[0m\u001b[0;34m\u001b[0m\u001b[0m\n",
      "\u001b[0;31mValueError\u001b[0m: key must be provided when HDF file contains multiple datasets."
     ]
    }
   ],
   "source": [
    "df = pd.read_hdf('simTiles.hdf')"
   ]
  },
  {
   "cell_type": "code",
   "execution_count": 23,
   "metadata": {
    "collapsed": false
   },
   "outputs": [
    {
     "data": {
      "text/plain": [
       "array([2736, 2626, 2614, 2498, 2742])"
      ]
     },
     "execution_count": 23,
     "metadata": {},
     "output_type": "execute_result"
    }
   ],
   "source": [
    "df.fieldID.unique()"
   ]
  },
  {
   "cell_type": "code",
   "execution_count": 38,
   "metadata": {
    "collapsed": false
   },
   "outputs": [],
   "source": [
    "df['SNR'] = df.flux / df.fluxerrs"
   ]
  },
  {
   "cell_type": "code",
   "execution_count": 51,
   "metadata": {
    "collapsed": false
   },
   "outputs": [],
   "source": [
    "totalCounts, edges = np.histogram(simTile.snParamTable.ix[df.query('SNR > 0').snid.unique()].z, bins=np.arange(0., 1.4, 0.1))\n",
    "fiveSigmaCounts, edges = np.histogram(simTile.snParamTable.ix[df.query('SNR > 5').snid.unique()].z, bins=np.arange(0., 1.4, 0.1))"
   ]
  },
  {
   "cell_type": "code",
   "execution_count": 65,
   "metadata": {
    "collapsed": false
   },
   "outputs": [
    {
     "data": {
      "text/plain": [
       "[<matplotlib.lines.Line2D at 0x106ec59d0>]"
      ]
     },
     "execution_count": 65,
     "metadata": {},
     "output_type": "execute_result"
    },
    {
     "data": {
      "image/png": "[encoded data removed]",
      "text/plain": [
       "<matplotlib.figure.Figure at 0x106ec5950>"
      ]
     },
     "metadata": {},
     "output_type": "display_data"
    }
   ],
   "source": [
    "fig, ax = plt.subplots()\n",
    "ax.plot(0.5 * (edges[: -1] + edges[1:] ), fiveSigmaCounts / totalCounts.astype(np.float), 'o')"
   ]
  },
  {
   "cell_type": "markdown",
   "metadata": {},
   "source": [
    "## Scratch"
   ]
  },
  {
   "cell_type": "code",
   "execution_count": 56,
   "metadata": {
    "collapsed": false
   },
   "outputs": [
    {
     "data": {
      "text/plain": [
       "array([0, 0, 1, 0, 4, 3, 6, 7, 2, 0, 0, 0, 0])"
      ]
     },
     "execution_count": 56,
     "metadata": {},
     "output_type": "execute_result"
    }
   ],
   "source": [
    "#/ np.float(totalCounts)"
   ]
  },
  {
   "cell_type": "code",
   "execution_count": 34,
   "metadata": {
    "collapsed": false
   },
   "outputs": [
    {
     "data": {
      "text/plain": [
       "5"
      ]
     },
     "execution_count": 34,
     "metadata": {},
     "output_type": "execute_result"
    }
   ],
   "source": [
    "df.snid.unique().size * 200 /10000"
   ]
  },
  {
   "cell_type": "code",
   "execution_count": 29,
   "metadata": {
    "collapsed": false
   },
   "outputs": [
    {
     "data": {
      "text/plain": [
       "3388.7746629999965"
      ]
     },
     "execution_count": 29,
     "metadata": {},
     "output_type": "execute_result"
    }
   ],
   "source": [
    "df.expMJD.max() - df.expMJD.min()"
   ]
  },
  {
   "cell_type": "code",
   "execution_count": 347,
   "metadata": {
    "collapsed": false
   },
   "outputs": [],
   "source": [
    "class SimulationTile(snsims.Universe):\n",
    "    def __init__(self, paramDist, rate, NSIDE, tileID, hpOpSim, allPointings=None, timeRange=None):\n",
    "        self._randomState = None\n",
    "        self.Tiling = snsims.HealpixTiles(nside=NSIDE, preComputedMap=hpOpSim)\n",
    "        self.tileID = tileID\n",
    "        self.fieldArea = self.Tiling.area(tileID)\n",
    "        self.zdist = rate(rng=self.randomState, fieldArea=self.fieldArea)\n",
    "        self.zsamples = self.zdist.zSamples\n",
    "        self.numSN = len(self.zsamples)\n",
    "        self.positions = self.Tiling.positions(self.tileID, self.numSN, rng=self.randomState)\n",
    "        self._snParamTable = None\n",
    "        self.columns = ('expMJD', 'filter', 'fieldID', 'fiveSigmaDepth')\n",
    "        self.tilePointings = self.Tiling.pointingSequenceForTile(self.tileID, \n",
    "                                                                 allPointings=allPointings, columns=self.columns)\n",
    "        self._timeRange = timeRange\n",
    "        self.bandPasses = BandpassDict.loadTotalBandpassesFromFiles()\n",
    "        \n",
    "    @property\n",
    "    def minPeakTime(self):\n",
    "        if  self._timeRange is None:\n",
    "            minTime = self.tilePointings.expMJD.min()\n",
    "        else:\n",
    "            minTime = self._timeRange[0]\n",
    "        return minTime\n",
    "    \n",
    "    @property\n",
    "    def maxPeakTime(self):\n",
    "        if  self._timeRange is None:\n",
    "            maxTime = self.tilePointings.expMJD.max()\n",
    "        else:\n",
    "            maxTime = self._timeRange[1]\n",
    "        return maxTime\n",
    "    \n",
    "    @property\n",
    "    def snParamTable(self):\n",
    "        if self._snParamTable is None:\n",
    "            self.snParams()\n",
    "        return self._snParamTable\n",
    "    @property\n",
    "    def randomState(self):\n",
    "        if self._randomState is None:\n",
    "            self._randomState = np.random.RandomState(self.tileID)\n",
    "        return self._randomState\n",
    "    def snParams(self):\n",
    "        zsamples = self.zdist.zSamples\n",
    "        numSN = len(zsamples)\n",
    "        positions = self.Tiling.positions(self.tileID, numSN, rng=self.randomState)\n",
    "        ra = self.positions[0]\n",
    "        dec = - self.positions[1] + 45.0 \n",
    "        # Why do we need numSN\n",
    "        sp = snsims.SimpleSALTDist(numSN=numSN, rng=self.randomState, zSamples=self.zsamples).paramSamples\n",
    "        sp['ra'] = self.positions[0]\n",
    "        sp['dec'] = self.positions[1]\n",
    "        sp['snid'] = np.left_shift(self.tileID, 20) + np.arange(numSN)\n",
    "        sp.set_index('snid', inplace=True)\n",
    "        self._snParamTable = sp\n",
    "        \n",
    "        if self.minPeakTime is None or self.maxPeakTime is None:\n",
    "            pass\n",
    "        else:\n",
    "            sp['t0'] = self.minPeakTime + (self.maxPeakTime - self.minPeakTime) * sp['t0']\n",
    "        return sp\n",
    "    \n",
    "    @staticmethod\n",
    "    def getSNCosmoParamDict(odict, SNCosmoModel):\n",
    "        mydict = dict()\n",
    "        param_names = SNCosmoModel.param_names\n",
    "        for param in odict.index.values:\n",
    "            if param in param_names:\n",
    "                mydict[param] = odict[param]\n",
    "        return mydict\n",
    "                \n",
    "    def SN(self, snid, timeRange='model'):\n",
    "        mySNParams = self.snParamTable.ix[snid]\n",
    "        sn = SNObject(ra=mySNParams.ra, dec=mySNParams.dec)\n",
    "        #print mySNParams\n",
    "        sncosmo_params = self.getSNCosmoParamDict(mySNParams, sn)\n",
    "        #print(sncosmo_params)\n",
    "        sn.set(**sncosmo_params)\n",
    "        z = sn.get('z')\n",
    "        t0 = sn.get('t0')\n",
    "        lcMinTime = t0 - 20. * (1.0 + z)\n",
    "        lcMaxTime = t0 + 50. * (1.0 + z )\n",
    "        df = self.tilePointings.query('expMJD < @lcMaxTime and expMJD > @lcMinTime')\n",
    "        df['snid'] = snid\n",
    "        fluxes = []\n",
    "        fluxerrs = []\n",
    "        for rows in df.iterrows():\n",
    "            row = rows[1]\n",
    "            # print(row['expMJD'], row['filter'], row['fiveSigmaDepth'])\n",
    "            bp = self.bandPasses[row['filter']]\n",
    "            flux = sn.catsimBandFlux(bandpassobject=bp, time=row['expMJD'])\n",
    "            fluxerr = sn.catsimBandFluxError(time=row['expMJD'], bandpassobject=bp, fluxinMaggies=flux,\n",
    "                                             m5=row['fiveSigmaDepth'])\n",
    "            fluxes.append(flux)\n",
    "            fluxerrs.append(fluxerr)\n",
    "        df['flux'] = fluxes\n",
    "        df['fluxerrs'] = fluxerrs\n",
    "        return sn, df\n",
    "    def writeTile(self, fileName, timeRange='model'):\n",
    "        count = 0\n",
    "        for snid in self.snParamTable.index.values:\n",
    "            self.writeSN(snid, fileName, timeRange=timeRange)\n",
    "            if count % 50 == 0:\n",
    "                print('another 50', snid)\n",
    "            count += 1\n",
    "    def writeSN(self, snid, fileName, timeRange='model'):\n",
    "        sn, df = self.SN(snid, timeRange)\n",
    "        df['filter'] = df['filter'].astype(str)\n",
    "        with pd.get_store(fileName) as store:\n",
    "        # with pd.HDFStore(fileName, mode='a') as hdf:\n",
    "        #    hdf.append(df, format='table')\n",
    "             store.append('tile_{}'.format(self.tileID), df)\n",
    "        #df.to_hdf(fileName, key='tile_{}'.format(self.tileID), mode='a', format='t')"
   ]
  },
  {
   "cell_type": "code",
   "execution_count": 10,
   "metadata": {
    "collapsed": false
   },
   "outputs": [
    {
     "name": "stdout",
     "output_type": "stream",
     "text": [
      " reading from database sqlite:////Users/rbiswas/.local/lib/python2.7/site-packages/opsimsummary/example_data/enigma_1189_micro.db\n",
      "SELECT * FROM Summary WHERE PROPID in (366, 364)\n"
     ]
    }
   ],
   "source": [
    "hpOpSim = oss.HealPixelizedOpSim.fromOpSimDB(opsimdb, NSIDE=256)"
   ]
  },
  {
   "cell_type": "code",
   "execution_count": 11,
   "metadata": {
    "collapsed": false
   },
   "outputs": [],
   "source": [
    "hpTiles = snsims.HealpixTiles(nside=16, healpixelizedOpSim=hpOpSim)"
   ]
  },
  {
   "cell_type": "code",
   "execution_count": 12,
   "metadata": {
    "collapsed": false
   },
   "outputs": [
    {
     "data": {
      "text/plain": [
       "(array([ 40.78438026,  40.53065749,  42.29979016,  42.23088482,\n",
       "         42.04748867,  42.23080733,  41.25210975,  41.58830994,\n",
       "         41.08216056,  43.02952082,  41.00179235,  41.70250909,\n",
       "         42.22058337,  40.72819844,  44.64701905,  42.87129852,\n",
       "         42.16330051,  40.95422055,  42.60908388,  41.49905649,\n",
       "         43.52293982,  42.23783771,  40.91914043,  39.77683503,\n",
       "         40.93875362,  42.7592876 ,  41.65064611,  43.23235613,\n",
       "         41.48024909,  43.36557202,  41.2016626 ,  40.19841896,\n",
       "         42.4880581 ,  41.60520257,  42.00338112,  42.67501915,\n",
       "         41.15691278,  40.75339679,  40.76006139,  40.25751167,\n",
       "         42.9898204 ,  40.24773312,  42.2821802 ,  42.45909195,\n",
       "         44.23997366,  41.13242615,  41.25275956,  43.02907919,\n",
       "         42.94733378,  44.4284698 ,  43.54080231,  42.62398676,\n",
       "         41.5606913 ,  41.55608179,  40.58244776,  41.74328026,\n",
       "         41.97500502,  40.45460385,  40.6112282 ,  42.84786018,\n",
       "         41.22512085,  42.88364646,  41.56590067,  40.73226624,\n",
       "         43.63989235,  44.22580378,  42.83873827,  41.71281488,\n",
       "         44.51692818,  40.41824931,  40.41955535,  41.50131486,\n",
       "         42.01389966,  40.74762892,  41.92743264,  41.77187084,\n",
       "         41.9394813 ,  41.69498235,  42.1997047 ,  41.03555032,\n",
       "         40.19057939,  42.22770515,  40.45789122,  42.9645104 ,\n",
       "         41.48243098,  40.36067236,  42.73880247,  40.39744532,\n",
       "         40.87729158,  41.77184442,  41.16654972,  42.52291993,\n",
       "         43.29058206,  41.82808798,  42.26931004,  41.35374365,\n",
       "         41.34913149,  41.3317311 ,  41.18135242,  42.39383796]),\n",
       " array([ 4.4096664 ,  4.00725996,  4.4357117 ,  4.37198771,  6.54176591,\n",
       "         5.00399039,  4.35886545,  3.5044309 ,  5.9492576 ,  5.32659848,\n",
       "         5.19739233,  5.22583866,  4.70478257,  4.55512869,  4.74476064,\n",
       "         6.1584255 ,  5.47488482,  5.22586614,  2.98710767,  5.69103113,\n",
       "         4.18730713,  3.1651741 ,  4.54765189,  5.06979222,  5.5726826 ,\n",
       "         5.29119858,  5.83224165,  3.3800472 ,  4.74287666,  6.11292237,\n",
       "         4.4860077 ,  4.29806211,  4.79475989,  5.47316263,  5.7072372 ,\n",
       "         4.57630729,  4.50610545,  4.23821891,  4.38102088,  5.31237264,\n",
       "         3.72910639,  5.30424308,  6.2792739 ,  5.30399341,  4.13876184,\n",
       "         5.21017983,  3.64020274,  4.11360259,  5.61593269,  4.806868  ,\n",
       "         5.10266995,  5.36804467,  6.392753  ,  6.14374318,  5.21651255,\n",
       "         6.41536414,  4.08006604,  5.12945509,  5.07898161,  4.48507476,\n",
       "         5.24476701,  6.46372351,  5.18235169,  5.24699723,  5.24180306,\n",
       "         5.0097361 ,  6.49608147,  4.93577215,  4.68939408,  4.82959745,\n",
       "         3.94540011,  4.74275572,  3.65773946,  4.94980261,  4.16203122,\n",
       "         3.15219073,  5.85678645,  4.41315414,  5.75406385,  3.93854688,\n",
       "         5.43097248,  2.72424967,  5.29883225,  5.60890194,  5.23494823,\n",
       "         5.31722165,  4.39154549,  4.83996934,  6.05647494,  6.57848526,\n",
       "         5.59074902,  5.88628965,  3.33679719,  4.5346994 ,  4.55214996,\n",
       "         4.44712924,  5.58984985,  3.73379447,  3.74017409,  4.19443021]))"
      ]
     },
     "execution_count": 12,
     "metadata": {},
     "output_type": "execute_result"
    }
   ],
   "source": [
    "hpTiles.positions(2, 100, rng=np.random.RandomState(2))"
   ]
  },
  {
   "cell_type": "code",
   "execution_count": 11,
   "metadata": {
    "collapsed": false
   },
   "outputs": [
    {
     "ename": "NameError",
     "evalue": "name 'hp' is not defined",
     "output_type": "error",
     "traceback": [
      "\u001b[0;31m---------------------------------------------------------------------------\u001b[0m",
      "\u001b[0;31mNameError\u001b[0m                                 Traceback (most recent call last)",
      "\u001b[0;32m<ipython-input-11-5ede3f5a91ed>\u001b[0m in \u001b[0;36m<module>\u001b[0;34m()\u001b[0m\n\u001b[0;32m----> 1\u001b[0;31m \u001b[0mmapvalues\u001b[0m \u001b[0;34m=\u001b[0m \u001b[0mnp\u001b[0m\u001b[0;34m.\u001b[0m\u001b[0mones\u001b[0m\u001b[0;34m(\u001b[0m\u001b[0mhp\u001b[0m\u001b[0;34m.\u001b[0m\u001b[0mnside2npix\u001b[0m\u001b[0;34m(\u001b[0m\u001b[0;36m256\u001b[0m\u001b[0;34m)\u001b[0m\u001b[0;34m)\u001b[0m \u001b[0;34m*\u001b[0m \u001b[0mhp\u001b[0m\u001b[0;34m.\u001b[0m\u001b[0mUNSEEN\u001b[0m\u001b[0;34m\u001b[0m\u001b[0m\n\u001b[0m",
      "\u001b[0;31mNameError\u001b[0m: name 'hp' is not defined"
     ]
    }
   ],
   "source": [
    "mapvalues = np.ones(hp.nside2npix(256)) * hp.UNSEEN"
   ]
  },
  {
   "cell_type": "code",
   "execution_count": 12,
   "metadata": {
    "collapsed": false
   },
   "outputs": [
    {
     "ename": "NameError",
     "evalue": "name 'mapvalues' is not defined",
     "output_type": "error",
     "traceback": [
      "\u001b[0;31m---------------------------------------------------------------------------\u001b[0m",
      "\u001b[0;31mNameError\u001b[0m                                 Traceback (most recent call last)",
      "\u001b[0;32m<ipython-input-12-9e3413cde9e4>\u001b[0m in \u001b[0;36m<module>\u001b[0;34m()\u001b[0m\n\u001b[0;32m----> 1\u001b[0;31m \u001b[0mmapvalues\u001b[0m\u001b[0;34m[\u001b[0m\u001b[0;36m100\u001b[0m\u001b[0;34m]\u001b[0m \u001b[0;34m=\u001b[0m \u001b[0;36m100\u001b[0m\u001b[0;34m\u001b[0m\u001b[0m\n\u001b[0m",
      "\u001b[0;31mNameError\u001b[0m: name 'mapvalues' is not defined"
     ]
    }
   ],
   "source": [
    "mapvalues[100] = 100"
   ]
  },
  {
   "cell_type": "code",
   "execution_count": 158,
   "metadata": {
    "collapsed": false
   },
   "outputs": [],
   "source": [
    "r, t = hp.pix2ang(nside=256, ipix=100, nest=True)"
   ]
  },
  {
   "cell_type": "code",
   "execution_count": 159,
   "metadata": {
    "collapsed": false
   },
   "outputs": [
    {
     "data": {
      "text/plain": [
       "87.761314039157497"
      ]
     },
     "execution_count": 159,
     "metadata": {},
     "output_type": "execute_result"
    }
   ],
   "source": [
    "np.degrees(r)"
   ]
  },
  {
   "cell_type": "code",
   "execution_count": 160,
   "metadata": {
    "collapsed": false
   },
   "outputs": [
    {
     "data": {
      "text/plain": [
       "46.054687499999993"
      ]
     },
     "execution_count": 160,
     "metadata": {},
     "output_type": "execute_result"
    }
   ],
   "source": [
    "np.degrees(t)"
   ]
  },
  {
   "cell_type": "code",
   "execution_count": 161,
   "metadata": {
    "collapsed": false
   },
   "outputs": [
    {
     "data": {
      "text/plain": [
       "<matplotlib.collections.PathCollection at 0x1145064d0>"
      ]
     },
     "execution_count": 161,
     "metadata": {},
     "output_type": "execute_result"
    },
    {
     "data": {
      "image/png": "[encoded data removed]",
      "text/plain": [
       "<matplotlib.figure.Figure at 0x11c785a50>"
      ]
     },
     "metadata": {},
     "output_type": "display_data"
    }
   ],
   "source": [
    "hp.mollview(mapvalues)\n",
    "hp.projscatter(r, t)\n",
    "hp.projscatter(theta, phi)"
   ]
  },
  {
   "cell_type": "code",
   "execution_count": 84,
   "metadata": {
    "collapsed": false
   },
   "outputs": [],
   "source": [
    "phi, theta = hpTiles.positions(100, 100)\n",
    "phi = np.radians(phi)\n",
    "theta = np.radians(theta)"
   ]
  },
  {
   "cell_type": "code",
   "execution_count": null,
   "metadata": {
    "collapsed": true
   },
   "outputs": [],
   "source": [
    "hp"
   ]
  },
  {
   "cell_type": "code",
   "execution_count": 34,
   "metadata": {
    "collapsed": false
   },
   "outputs": [
    {
     "data": {
      "text/plain": [
       "1.271565793719964e-06"
      ]
     },
     "execution_count": 34,
     "metadata": {},
     "output_type": "execute_result"
    }
   ],
   "source": [
    "hpTiles.area(tileID=23)/ 41252.96"
   ]
  },
  {
   "cell_type": "code",
   "execution_count": 35,
   "metadata": {
    "collapsed": false
   },
   "outputs": [
    {
     "ename": "TypeError",
     "evalue": "positions() takes at least 3 arguments (1 given)",
     "output_type": "error",
     "traceback": [
      "\u001b[0;31m---------------------------------------------------------------------------\u001b[0m",
      "\u001b[0;31mTypeError\u001b[0m                                 Traceback (most recent call last)",
      "\u001b[0;32m<ipython-input-35-a02077a73e27>\u001b[0m in \u001b[0;36m<module>\u001b[0;34m()\u001b[0m\n\u001b[0;32m----> 1\u001b[0;31m \u001b[0mhpTiles\u001b[0m\u001b[0;34m.\u001b[0m\u001b[0mpositions\u001b[0m\u001b[0;34m(\u001b[0m\u001b[0;34m)\u001b[0m\u001b[0;34m\u001b[0m\u001b[0m\n\u001b[0m",
      "\u001b[0;31mTypeError\u001b[0m: positions() takes at least 3 arguments (1 given)"
     ]
    }
   ],
   "source": [
    "hpTiles.positions()"
   ]
  },
  {
   "cell_type": "code",
   "execution_count": 16,
   "metadata": {
    "collapsed": true
   },
   "outputs": [],
   "source": [
    "import healpy as hp"
   ]
  },
  {
   "cell_type": "code",
   "execution_count": 18,
   "metadata": {
    "collapsed": false
   },
   "outputs": [
    {
     "data": {
      "text/plain": [
       "array([ 0.00860442,  0.00400548,  0.01708304, ...,  0.95772653,\n",
       "        0.91247313,  0.98569087])"
      ]
     },
     "execution_count": 18,
     "metadata": {},
     "output_type": "execute_result"
    }
   ],
   "source": [
    "zdist.zSamples"
   ]
  },
  {
   "cell_type": "code",
   "execution_count": 19,
   "metadata": {
    "collapsed": false
   },
   "outputs": [
    {
     "data": {
      "text/plain": [
       "array([   443,   3220,   9038,  17877,  29362,  43063,  59049,  76234,\n",
       "        95144, 115460])"
      ]
     },
     "execution_count": 19,
     "metadata": {},
     "output_type": "execute_result"
    }
   ],
   "source": [
    "zdist.numSN()"
   ]
  },
  {
   "cell_type": "code",
   "execution_count": 20,
   "metadata": {
    "collapsed": false
   },
   "outputs": [
    {
     "data": {
      "text/plain": [
       "array([  1.00000000e-04,   1.00100000e-01,   2.00100000e-01,\n",
       "         3.00100000e-01,   4.00100000e-01,   5.00100000e-01,\n",
       "         6.00100000e-01,   7.00100000e-01,   8.00100000e-01,\n",
       "         9.00100000e-01,   1.00010000e+00])"
      ]
     },
     "execution_count": 20,
     "metadata": {},
     "output_type": "execute_result"
    }
   ],
   "source": [
    "zdist.zbinEdges"
   ]
  },
  {
   "cell_type": "code",
   "execution_count": null,
   "metadata": {
    "collapsed": true
   },
   "outputs": [],
   "source": []
  },
  {
   "cell_type": "code",
   "execution_count": 22,
   "metadata": {
    "collapsed": false
   },
   "outputs": [
    {
     "data": {
      "text/plain": [
       "array([    447.65671761,    3288.5656771 ,    9134.03591601,\n",
       "         17916.69513074,   29401.70134609,   43256.16515423,\n",
       "         59105.79756238,   76575.27375973,   95313.48794103,\n",
       "        115006.94175052])"
      ]
     },
     "execution_count": 22,
     "metadata": {},
     "output_type": "execute_result"
    }
   ],
   "source": [
    "zdist.zSampleSize()"
   ]
  },
  {
   "cell_type": "code",
   "execution_count": 25,
   "metadata": {
    "collapsed": false
   },
   "outputs": [],
   "source": [
    "from future.builtins import range"
   ]
  },
  {
   "cell_type": "code",
   "execution_count": 26,
   "metadata": {
    "collapsed": false
   },
   "outputs": [],
   "source": [
    "sd = snsims.SimpleSALTDist(rng=np.random.RandomState(43), numSN=3, zSamples=[0.03, 0.2, 0.5])"
   ]
  },
  {
   "cell_type": "code",
   "execution_count": 27,
   "metadata": {
    "collapsed": false
   },
   "outputs": [
    {
     "data": {
      "text/plain": [
       "3"
      ]
     },
     "execution_count": 27,
     "metadata": {},
     "output_type": "execute_result"
    }
   ],
   "source": [
    "sd.numSN"
   ]
  },
  {
   "cell_type": "code",
   "execution_count": 28,
   "metadata": {
    "collapsed": false
   },
   "outputs": [],
   "source": [
    "sd = snsims.SimpleSALTDist(3, zSamples=[0.2, 0.5, 0.7], rng=np.random.RandomState(2))"
   ]
  },
  {
   "cell_type": "code",
   "execution_count": 29,
   "metadata": {
    "collapsed": false
   },
   "outputs": [
    {
     "data": {
      "text/html": [
       "<div>\n",
       "<table border=\"1\" class=\"dataframe\">\n",
       "  <thead>\n",
       "    <tr style=\"text-align: right;\">\n",
       "      <th></th>\n",
       "      <th>M</th>\n",
       "      <th>Mabs</th>\n",
       "      <th>c</th>\n",
       "      <th>mB</th>\n",
       "      <th>t0</th>\n",
       "      <th>x0</th>\n",
       "      <th>x1</th>\n",
       "      <th>z</th>\n",
       "    </tr>\n",
       "  </thead>\n",
       "  <tbody>\n",
       "    <tr>\n",
       "      <th>0</th>\n",
       "      <td>0.681387</td>\n",
       "      <td>-18.507682</td>\n",
       "      <td>-0.195380</td>\n",
       "      <td>21.516975</td>\n",
       "      <td>0.435995</td>\n",
       "      <td>0.000039</td>\n",
       "      <td>-0.617223</td>\n",
       "      <td>0.2</td>\n",
       "    </tr>\n",
       "    <tr>\n",
       "      <th>1</th>\n",
       "      <td>0.663392</td>\n",
       "      <td>-18.850143</td>\n",
       "      <td>-0.158688</td>\n",
       "      <td>23.475538</td>\n",
       "      <td>0.025926</td>\n",
       "      <td>0.000006</td>\n",
       "      <td>-1.501007</td>\n",
       "      <td>0.5</td>\n",
       "    </tr>\n",
       "    <tr>\n",
       "      <th>2</th>\n",
       "      <td>0.239084</td>\n",
       "      <td>-19.227525</td>\n",
       "      <td>-0.107446</td>\n",
       "      <td>23.981698</td>\n",
       "      <td>0.549662</td>\n",
       "      <td>0.000004</td>\n",
       "      <td>0.893590</td>\n",
       "      <td>0.7</td>\n",
       "    </tr>\n",
       "  </tbody>\n",
       "</table>\n",
       "</div>"
      ],
      "text/plain": [
       "          M       Mabs         c         mB        t0        x0        x1    z\n",
       "0  0.681387 -18.507682 -0.195380  21.516975  0.435995  0.000039 -0.617223  0.2\n",
       "1  0.663392 -18.850143 -0.158688  23.475538  0.025926  0.000006 -1.501007  0.5\n",
       "2  0.239084 -19.227525 -0.107446  23.981698  0.549662  0.000004  0.893590  0.7"
      ]
     },
     "execution_count": 29,
     "metadata": {},
     "output_type": "execute_result"
    }
   ],
   "source": [
    "sd.paramSamples"
   ]
  },
  {
   "cell_type": "code",
   "execution_count": 106,
   "metadata": {
    "collapsed": false
   },
   "outputs": [
    {
     "data": {
      "text/plain": [
       "786432"
      ]
     },
     "execution_count": 106,
     "metadata": {},
     "output_type": "execute_result"
    }
   ],
   "source": [
    "hp.nside2npix(256)"
   ]
  },
  {
   "cell_type": "code",
   "execution_count": 112,
   "metadata": {
    "collapsed": false
   },
   "outputs": [
    {
     "data": {
      "text/plain": [
       "'11000000000000000000'"
      ]
     },
     "execution_count": 112,
     "metadata": {},
     "output_type": "execute_result"
    }
   ],
   "source": [
    "np.binary_repr(hp.nside2npix(256))"
   ]
  },
  {
   "cell_type": "code",
   "execution_count": 113,
   "metadata": {
    "collapsed": false
   },
   "outputs": [
    {
     "data": {
      "text/plain": [
       "'1111101000'"
      ]
     },
     "execution_count": 113,
     "metadata": {},
     "output_type": "execute_result"
    }
   ],
   "source": [
    "np.binary_repr(1000)"
   ]
  },
  {
   "cell_type": "code",
   "execution_count": 116,
   "metadata": {
    "collapsed": false
   },
   "outputs": [
    {
     "data": {
      "text/plain": [
       "'111110100000000000110000000000'"
      ]
     },
     "execution_count": 116,
     "metadata": {},
     "output_type": "execute_result"
    }
   ],
   "source": [
    "np.binary_repr(x)"
   ]
  },
  {
   "cell_type": "code",
   "execution_count": 115,
   "metadata": {
    "collapsed": false
   },
   "outputs": [],
   "source": [
    "x = hp.nside2npix(16) + np.left_shift(1000, 20)"
   ]
  },
  {
   "cell_type": "code",
   "execution_count": 105,
   "metadata": {
    "collapsed": false
   },
   "outputs": [
    {
     "data": {
      "text/plain": [
       "824633720832"
      ]
     },
     "execution_count": 105,
     "metadata": {},
     "output_type": "execute_result"
    }
   ],
   "source": [
    "hp.nside2npix(256)"
   ]
  },
  {
   "cell_type": "code",
   "execution_count": 103,
   "metadata": {
    "collapsed": false
   },
   "outputs": [
    {
     "data": {
      "text/plain": [
       "19.584962500721158"
      ]
     },
     "execution_count": 103,
     "metadata": {},
     "output_type": "execute_result"
    }
   ],
   "source": [
    "np.log2(hp.nside2npix(256))"
   ]
  },
  {
   "cell_type": "code",
   "execution_count": 12,
   "metadata": {
    "collapsed": true
   },
   "outputs": [],
   "source": [
    "from lsst.sims.catUtils.supernovae import SNObject"
   ]
  },
  {
   "cell_type": "code",
   "execution_count": 32,
   "metadata": {
    "collapsed": false
   },
   "outputs": [],
   "source": [
    "NSIDE=256\n",
    "tileSim = snsims.HealpixTiles(nside=NSIDE, healpixelizedOpSim=hpOpSim)"
   ]
  },
  {
   "cell_type": "code",
   "execution_count": 33,
   "metadata": {
    "collapsed": false
   },
   "outputs": [
    {
     "data": {
      "text/plain": [
       "(array([ 44.79113638,  44.84988784,  44.79078878,  44.83928145,  44.89679089]),\n",
       " array([ 0.3861089 ,  0.23676652,  0.40196668,  0.29139572,  0.30716451]))"
      ]
     },
     "execution_count": 33,
     "metadata": {},
     "output_type": "execute_result"
    }
   ],
   "source": [
    "tileSim.positions(2, 5, rng=np.random.RandomState(2))"
   ]
  },
  {
   "cell_type": "code",
   "execution_count": null,
   "metadata": {
    "collapsed": true
   },
   "outputs": [],
   "source": [
    "SNObject(ra = sn)"
   ]
  },
  {
   "cell_type": "code",
   "execution_count": null,
   "metadata": {
    "collapsed": true
   },
   "outputs": [],
   "source": [
    "\n",
    "from lsst.sims.photUtils import BandpassDict"
   ]
  },
  {
   "cell_type": "code",
   "execution_count": 348,
   "metadata": {
    "collapsed": true
   },
   "outputs": [],
   "source": [
    "NSIDE=256"
   ]
  },
  {
   "cell_type": "code",
   "execution_count": 349,
   "metadata": {
    "collapsed": false
   },
   "outputs": [
    {
     "name": "stdout",
     "output_type": "stream",
     "text": [
      " reading from database sqlite:////Users/rbiswas/.local/lib/python2.7/site-packages/opsimsummary/example_data/enigma_1189_micro.db\n",
      "SELECT * FROM Summary WHERE PROPID in (366, 364)\n"
     ]
    }
   ],
   "source": [
    "opsimout = oss.OpSimOutput.fromOpSimDB(opsimdb)"
   ]
  },
  {
   "cell_type": "code",
   "execution_count": 350,
   "metadata": {
    "collapsed": false
   },
   "outputs": [
    {
     "name": "stdout",
     "output_type": "stream",
     "text": [
      "rm: simulatedTile-2.hdf: No such file or directory\r\n"
     ]
    }
   ],
   "source": [
    "!rm simulatedTile-2.hdf"
   ]
  },
  {
   "cell_type": "code",
   "execution_count": 351,
   "metadata": {
    "collapsed": true
   },
   "outputs": [],
   "source": [
    "import time\n",
    "tstart = time.time()"
   ]
  },
  {
   "cell_type": "code",
   "execution_count": 353,
   "metadata": {
    "collapsed": false
   },
   "outputs": [],
   "source": [
    "ss = simTile.snParamTable"
   ]
  },
  {
   "cell_type": "code",
   "execution_count": 354,
   "metadata": {
    "collapsed": false
   },
   "outputs": [
    {
     "data": {
      "text/html": [
       "<div>\n",
       "<table border=\"1\" class=\"dataframe\">\n",
       "  <thead>\n",
       "    <tr style=\"text-align: right;\">\n",
       "      <th></th>\n",
       "      <th>M</th>\n",
       "      <th>Mabs</th>\n",
       "      <th>c</th>\n",
       "      <th>mB</th>\n",
       "      <th>t0</th>\n",
       "      <th>x0</th>\n",
       "      <th>x1</th>\n",
       "      <th>z</th>\n",
       "      <th>ra</th>\n",
       "      <th>dec</th>\n",
       "    </tr>\n",
       "    <tr>\n",
       "      <th>snid</th>\n",
       "      <th></th>\n",
       "      <th></th>\n",
       "      <th></th>\n",
       "      <th></th>\n",
       "      <th></th>\n",
       "      <th></th>\n",
       "      <th></th>\n",
       "      <th></th>\n",
       "      <th></th>\n",
       "      <th></th>\n",
       "    </tr>\n",
       "  </thead>\n",
       "  <tbody>\n",
       "    <tr>\n",
       "      <th>2097429</th>\n",
       "      <td>0.084355</td>\n",
       "      <td>-19.003140</td>\n",
       "      <td>-0.012830</td>\n",
       "      <td>25.989778</td>\n",
       "      <td>49587.534368</td>\n",
       "      <td>6.373471e-07</td>\n",
       "      <td>-0.400639</td>\n",
       "      <td>1.364771</td>\n",
       "      <td>44.720561</td>\n",
       "      <td>0.292130</td>\n",
       "    </tr>\n",
       "    <tr>\n",
       "      <th>2097430</th>\n",
       "      <td>-0.084751</td>\n",
       "      <td>-19.226817</td>\n",
       "      <td>0.084354</td>\n",
       "      <td>25.706809</td>\n",
       "      <td>49575.245355</td>\n",
       "      <td>8.304062e-07</td>\n",
       "      <td>-1.637463</td>\n",
       "      <td>1.334876</td>\n",
       "      <td>44.813034</td>\n",
       "      <td>0.315281</td>\n",
       "    </tr>\n",
       "    <tr>\n",
       "      <th>2097431</th>\n",
       "      <td>0.250335</td>\n",
       "      <td>-19.460537</td>\n",
       "      <td>-0.040465</td>\n",
       "      <td>25.591896</td>\n",
       "      <td>49578.543855</td>\n",
       "      <td>9.217440e-07</td>\n",
       "      <td>-1.120686</td>\n",
       "      <td>1.395461</td>\n",
       "      <td>44.869924</td>\n",
       "      <td>0.273011</td>\n",
       "    </tr>\n",
       "    <tr>\n",
       "      <th>2097432</th>\n",
       "      <td>-0.377360</td>\n",
       "      <td>-19.669900</td>\n",
       "      <td>0.090366</td>\n",
       "      <td>25.282814</td>\n",
       "      <td>49590.864107</td>\n",
       "      <td>1.216124e-06</td>\n",
       "      <td>0.850998</td>\n",
       "      <td>1.344427</td>\n",
       "      <td>44.810630</td>\n",
       "      <td>0.182443</td>\n",
       "    </tr>\n",
       "    <tr>\n",
       "      <th>2097433</th>\n",
       "      <td>0.495625</td>\n",
       "      <td>-19.064607</td>\n",
       "      <td>-0.125411</td>\n",
       "      <td>25.923843</td>\n",
       "      <td>49576.042725</td>\n",
       "      <td>6.780369e-07</td>\n",
       "      <td>-0.925769</td>\n",
       "      <td>1.362495</td>\n",
       "      <td>44.687604</td>\n",
       "      <td>0.285268</td>\n",
       "    </tr>\n",
       "  </tbody>\n",
       "</table>\n",
       "</div>"
      ],
      "text/plain": [
       "                M       Mabs         c         mB            t0            x0  \\\n",
       "snid                                                                            \n",
       "2097429  0.084355 -19.003140 -0.012830  25.989778  49587.534368  6.373471e-07   \n",
       "2097430 -0.084751 -19.226817  0.084354  25.706809  49575.245355  8.304062e-07   \n",
       "2097431  0.250335 -19.460537 -0.040465  25.591896  49578.543855  9.217440e-07   \n",
       "2097432 -0.377360 -19.669900  0.090366  25.282814  49590.864107  1.216124e-06   \n",
       "2097433  0.495625 -19.064607 -0.125411  25.923843  49576.042725  6.780369e-07   \n",
       "\n",
       "               x1         z         ra       dec  \n",
       "snid                                              \n",
       "2097429 -0.400639  1.364771  44.720561  0.292130  \n",
       "2097430 -1.637463  1.334876  44.813034  0.315281  \n",
       "2097431 -1.120686  1.395461  44.869924  0.273011  \n",
       "2097432  0.850998  1.344427  44.810630  0.182443  \n",
       "2097433 -0.925769  1.362495  44.687604  0.285268  "
      ]
     },
     "execution_count": 354,
     "metadata": {},
     "output_type": "execute_result"
    }
   ],
   "source": [
    "ss.tail()"
   ]
  },
  {
   "cell_type": "code",
   "execution_count": 355,
   "metadata": {
    "collapsed": false
   },
   "outputs": [
    {
     "name": "stdout",
     "output_type": "stream",
     "text": [
      "('another 50', 2097152)\n",
      "('another 50', 2097202)\n",
      "('another 50', 2097252)\n",
      "('another 50', 2097302)\n",
      "('another 50', 2097352)\n",
      "('another 50', 2097402)\n"
     ]
    }
   ],
   "source": [
    "simTile.writeTile(fileName='simulatedTile-2.hdf')"
   ]
  },
  {
   "cell_type": "code",
   "execution_count": null,
   "metadata": {
    "collapsed": true
   },
   "outputs": [],
   "source": [
    "# simTile.writeSN(snid=2097152, fileName='simulatedTile-2.hdf')"
   ]
  },
  {
   "cell_type": "code",
   "execution_count": 356,
   "metadata": {
    "collapsed": false
   },
   "outputs": [
    {
     "data": {
      "text/html": [
       "<div>\n",
       "<table border=\"1\" class=\"dataframe\">\n",
       "  <thead>\n",
       "    <tr style=\"text-align: right;\">\n",
       "      <th></th>\n",
       "      <th>expMJD</th>\n",
       "      <th>filter</th>\n",
       "      <th>fieldID</th>\n",
       "      <th>fiveSigmaDepth</th>\n",
       "      <th>snid</th>\n",
       "      <th>flux</th>\n",
       "      <th>fluxerrs</th>\n",
       "    </tr>\n",
       "    <tr>\n",
       "      <th>obsHistID</th>\n",
       "      <th></th>\n",
       "      <th></th>\n",
       "      <th></th>\n",
       "      <th></th>\n",
       "      <th></th>\n",
       "      <th></th>\n",
       "      <th></th>\n",
       "    </tr>\n",
       "  </thead>\n",
       "  <tbody>\n",
       "    <tr>\n",
       "      <th>172349</th>\n",
       "      <td>49571.063219</td>\n",
       "      <td>g</td>\n",
       "      <td>2437</td>\n",
       "      <td>24.459918</td>\n",
       "      <td>2097152</td>\n",
       "      <td>1.728647e-11</td>\n",
       "      <td>3.252719e-11</td>\n",
       "    </tr>\n",
       "    <tr>\n",
       "      <th>172350</th>\n",
       "      <td>49571.063666</td>\n",
       "      <td>g</td>\n",
       "      <td>2453</td>\n",
       "      <td>24.513292</td>\n",
       "      <td>2097152</td>\n",
       "      <td>1.729167e-11</td>\n",
       "      <td>3.095152e-11</td>\n",
       "    </tr>\n",
       "    <tr>\n",
       "      <th>172351</th>\n",
       "      <td>49571.064115</td>\n",
       "      <td>g</td>\n",
       "      <td>2557</td>\n",
       "      <td>24.445066</td>\n",
       "      <td>2097152</td>\n",
       "      <td>1.729689e-11</td>\n",
       "      <td>3.297966e-11</td>\n",
       "    </tr>\n",
       "    <tr>\n",
       "      <th>172352</th>\n",
       "      <td>49571.064563</td>\n",
       "      <td>g</td>\n",
       "      <td>2679</td>\n",
       "      <td>24.430031</td>\n",
       "      <td>2097152</td>\n",
       "      <td>1.730210e-11</td>\n",
       "      <td>3.344406e-11</td>\n",
       "    </tr>\n",
       "    <tr>\n",
       "      <th>175206</th>\n",
       "      <td>49573.964751</td>\n",
       "      <td>z</td>\n",
       "      <td>2707</td>\n",
       "      <td>22.206644</td>\n",
       "      <td>2097152</td>\n",
       "      <td>2.743777e-10</td>\n",
       "      <td>2.613294e-10</td>\n",
       "    </tr>\n",
       "    <tr>\n",
       "      <th>175207</th>\n",
       "      <td>49573.965200</td>\n",
       "      <td>z</td>\n",
       "      <td>2593</td>\n",
       "      <td>22.222713</td>\n",
       "      <td>2097152</td>\n",
       "      <td>2.744513e-10</td>\n",
       "      <td>2.574825e-10</td>\n",
       "    </tr>\n",
       "    <tr>\n",
       "      <th>175213</th>\n",
       "      <td>49573.967886</td>\n",
       "      <td>z</td>\n",
       "      <td>2579</td>\n",
       "      <td>22.222465</td>\n",
       "      <td>2097152</td>\n",
       "      <td>2.748916e-10</td>\n",
       "      <td>2.575418e-10</td>\n",
       "    </tr>\n",
       "    <tr>\n",
       "      <th>175214</th>\n",
       "      <td>49573.968334</td>\n",
       "      <td>z</td>\n",
       "      <td>2703</td>\n",
       "      <td>22.177684</td>\n",
       "      <td>2097152</td>\n",
       "      <td>2.749650e-10</td>\n",
       "      <td>2.684084e-10</td>\n",
       "    </tr>\n",
       "    <tr>\n",
       "      <th>175215</th>\n",
       "      <td>49573.968797</td>\n",
       "      <td>z</td>\n",
       "      <td>2687</td>\n",
       "      <td>22.176571</td>\n",
       "      <td>2097152</td>\n",
       "      <td>2.750410e-10</td>\n",
       "      <td>2.686843e-10</td>\n",
       "    </tr>\n",
       "    <tr>\n",
       "      <th>175216</th>\n",
       "      <td>49573.969247</td>\n",
       "      <td>z</td>\n",
       "      <td>2575</td>\n",
       "      <td>22.190010</td>\n",
       "      <td>2097152</td>\n",
       "      <td>2.751148e-10</td>\n",
       "      <td>2.653725e-10</td>\n",
       "    </tr>\n",
       "    <tr>\n",
       "      <th>175217</th>\n",
       "      <td>49573.969696</td>\n",
       "      <td>z</td>\n",
       "      <td>2461</td>\n",
       "      <td>22.204532</td>\n",
       "      <td>2097152</td>\n",
       "      <td>2.751885e-10</td>\n",
       "      <td>2.618398e-10</td>\n",
       "    </tr>\n",
       "    <tr>\n",
       "      <th>175241</th>\n",
       "      <td>49573.980553</td>\n",
       "      <td>z</td>\n",
       "      <td>2579</td>\n",
       "      <td>22.213298</td>\n",
       "      <td>2097152</td>\n",
       "      <td>2.769726e-10</td>\n",
       "      <td>2.597313e-10</td>\n",
       "    </tr>\n",
       "    <tr>\n",
       "      <th>175242</th>\n",
       "      <td>49573.981018</td>\n",
       "      <td>z</td>\n",
       "      <td>2593</td>\n",
       "      <td>22.215790</td>\n",
       "      <td>2097152</td>\n",
       "      <td>2.770492e-10</td>\n",
       "      <td>2.591347e-10</td>\n",
       "    </tr>\n",
       "    <tr>\n",
       "      <th>175243</th>\n",
       "      <td>49573.981466</td>\n",
       "      <td>z</td>\n",
       "      <td>2707</td>\n",
       "      <td>22.201214</td>\n",
       "      <td>2097152</td>\n",
       "      <td>2.771229e-10</td>\n",
       "      <td>2.626441e-10</td>\n",
       "    </tr>\n",
       "    <tr>\n",
       "      <th>175244</th>\n",
       "      <td>49573.981929</td>\n",
       "      <td>z</td>\n",
       "      <td>2703</td>\n",
       "      <td>22.146786</td>\n",
       "      <td>2097152</td>\n",
       "      <td>2.771992e-10</td>\n",
       "      <td>2.761735e-10</td>\n",
       "    </tr>\n",
       "    <tr>\n",
       "      <th>175245</th>\n",
       "      <td>49573.982390</td>\n",
       "      <td>z</td>\n",
       "      <td>2687</td>\n",
       "      <td>22.142589</td>\n",
       "      <td>2097152</td>\n",
       "      <td>2.772751e-10</td>\n",
       "      <td>2.772453e-10</td>\n",
       "    </tr>\n",
       "    <tr>\n",
       "      <th>175246</th>\n",
       "      <td>49573.982843</td>\n",
       "      <td>z</td>\n",
       "      <td>2575</td>\n",
       "      <td>22.154760</td>\n",
       "      <td>2097152</td>\n",
       "      <td>2.773497e-10</td>\n",
       "      <td>2.741488e-10</td>\n",
       "    </tr>\n",
       "    <tr>\n",
       "      <th>175247</th>\n",
       "      <td>49573.983292</td>\n",
       "      <td>z</td>\n",
       "      <td>2461</td>\n",
       "      <td>22.170884</td>\n",
       "      <td>2097152</td>\n",
       "      <td>2.774236e-10</td>\n",
       "      <td>2.700997e-10</td>\n",
       "    </tr>\n",
       "    <tr>\n",
       "      <th>175285</th>\n",
       "      <td>49574.002604</td>\n",
       "      <td>i</td>\n",
       "      <td>2541</td>\n",
       "      <td>23.964494</td>\n",
       "      <td>2097152</td>\n",
       "      <td>4.003477e-10</td>\n",
       "      <td>5.224931e-11</td>\n",
       "    </tr>\n",
       "    <tr>\n",
       "      <th>175286</th>\n",
       "      <td>49574.003051</td>\n",
       "      <td>i</td>\n",
       "      <td>2534</td>\n",
       "      <td>23.927611</td>\n",
       "      <td>2097152</td>\n",
       "      <td>4.004334e-10</td>\n",
       "      <td>5.401082e-11</td>\n",
       "    </tr>\n",
       "    <tr>\n",
       "      <th>175287</th>\n",
       "      <td>49574.003500</td>\n",
       "      <td>i</td>\n",
       "      <td>2651</td>\n",
       "      <td>23.915709</td>\n",
       "      <td>2097152</td>\n",
       "      <td>4.005194e-10</td>\n",
       "      <td>5.459274e-11</td>\n",
       "    </tr>\n",
       "    <tr>\n",
       "      <th>175288</th>\n",
       "      <td>49574.003946</td>\n",
       "      <td>i</td>\n",
       "      <td>2665</td>\n",
       "      <td>23.948188</td>\n",
       "      <td>2097152</td>\n",
       "      <td>4.006049e-10</td>\n",
       "      <td>5.302096e-11</td>\n",
       "    </tr>\n",
       "    <tr>\n",
       "      <th>175289</th>\n",
       "      <td>49574.004395</td>\n",
       "      <td>i</td>\n",
       "      <td>2773</td>\n",
       "      <td>23.899535</td>\n",
       "      <td>2097152</td>\n",
       "      <td>4.006909e-10</td>\n",
       "      <td>5.539429e-11</td>\n",
       "    </tr>\n",
       "    <tr>\n",
       "      <th>175290</th>\n",
       "      <td>49574.004841</td>\n",
       "      <td>i</td>\n",
       "      <td>2763</td>\n",
       "      <td>23.859204</td>\n",
       "      <td>2097152</td>\n",
       "      <td>4.007764e-10</td>\n",
       "      <td>5.744673e-11</td>\n",
       "    </tr>\n",
       "    <tr>\n",
       "      <th>175315</th>\n",
       "      <td>49574.016625</td>\n",
       "      <td>i</td>\n",
       "      <td>2541</td>\n",
       "      <td>24.110986</td>\n",
       "      <td>2097152</td>\n",
       "      <td>4.030384e-10</td>\n",
       "      <td>4.584434e-11</td>\n",
       "    </tr>\n",
       "    <tr>\n",
       "      <th>175316</th>\n",
       "      <td>49574.017072</td>\n",
       "      <td>i</td>\n",
       "      <td>2534</td>\n",
       "      <td>24.068772</td>\n",
       "      <td>2097152</td>\n",
       "      <td>4.031244e-10</td>\n",
       "      <td>4.760048e-11</td>\n",
       "    </tr>\n",
       "    <tr>\n",
       "      <th>175317</th>\n",
       "      <td>49574.017521</td>\n",
       "      <td>i</td>\n",
       "      <td>2651</td>\n",
       "      <td>24.058710</td>\n",
       "      <td>2097152</td>\n",
       "      <td>4.032107e-10</td>\n",
       "      <td>4.802989e-11</td>\n",
       "    </tr>\n",
       "    <tr>\n",
       "      <th>175318</th>\n",
       "      <td>49574.017967</td>\n",
       "      <td>i</td>\n",
       "      <td>2665</td>\n",
       "      <td>24.096084</td>\n",
       "      <td>2097152</td>\n",
       "      <td>4.032964e-10</td>\n",
       "      <td>4.645675e-11</td>\n",
       "    </tr>\n",
       "    <tr>\n",
       "      <th>175319</th>\n",
       "      <td>49574.018416</td>\n",
       "      <td>i</td>\n",
       "      <td>2773</td>\n",
       "      <td>24.044255</td>\n",
       "      <td>2097152</td>\n",
       "      <td>4.033828e-10</td>\n",
       "      <td>4.865421e-11</td>\n",
       "    </tr>\n",
       "    <tr>\n",
       "      <th>175320</th>\n",
       "      <td>49574.018863</td>\n",
       "      <td>i</td>\n",
       "      <td>2763</td>\n",
       "      <td>23.997830</td>\n",
       "      <td>2097152</td>\n",
       "      <td>4.034687e-10</td>\n",
       "      <td>5.071767e-11</td>\n",
       "    </tr>\n",
       "    <tr>\n",
       "      <th>...</th>\n",
       "      <td>...</td>\n",
       "      <td>...</td>\n",
       "      <td>...</td>\n",
       "      <td>...</td>\n",
       "      <td>...</td>\n",
       "      <td>...</td>\n",
       "      <td>...</td>\n",
       "    </tr>\n",
       "    <tr>\n",
       "      <th>175285</th>\n",
       "      <td>49574.002604</td>\n",
       "      <td>i</td>\n",
       "      <td>2541</td>\n",
       "      <td>23.964494</td>\n",
       "      <td>2097433</td>\n",
       "      <td>3.640540e-11</td>\n",
       "      <td>5.136191e-11</td>\n",
       "    </tr>\n",
       "    <tr>\n",
       "      <th>175286</th>\n",
       "      <td>49574.003051</td>\n",
       "      <td>i</td>\n",
       "      <td>2534</td>\n",
       "      <td>23.927611</td>\n",
       "      <td>2097433</td>\n",
       "      <td>3.640482e-11</td>\n",
       "      <td>5.315264e-11</td>\n",
       "    </tr>\n",
       "    <tr>\n",
       "      <th>175287</th>\n",
       "      <td>49574.003500</td>\n",
       "      <td>i</td>\n",
       "      <td>2651</td>\n",
       "      <td>23.915709</td>\n",
       "      <td>2097433</td>\n",
       "      <td>3.640423e-11</td>\n",
       "      <td>5.374365e-11</td>\n",
       "    </tr>\n",
       "    <tr>\n",
       "      <th>175288</th>\n",
       "      <td>49574.003946</td>\n",
       "      <td>i</td>\n",
       "      <td>2665</td>\n",
       "      <td>23.948188</td>\n",
       "      <td>2097433</td>\n",
       "      <td>3.640365e-11</td>\n",
       "      <td>5.214607e-11</td>\n",
       "    </tr>\n",
       "    <tr>\n",
       "      <th>175289</th>\n",
       "      <td>49574.004395</td>\n",
       "      <td>i</td>\n",
       "      <td>2773</td>\n",
       "      <td>23.899535</td>\n",
       "      <td>2097433</td>\n",
       "      <td>3.640306e-11</td>\n",
       "      <td>5.455728e-11</td>\n",
       "    </tr>\n",
       "    <tr>\n",
       "      <th>175290</th>\n",
       "      <td>49574.004841</td>\n",
       "      <td>i</td>\n",
       "      <td>2763</td>\n",
       "      <td>23.859204</td>\n",
       "      <td>2097433</td>\n",
       "      <td>3.640248e-11</td>\n",
       "      <td>5.663986e-11</td>\n",
       "    </tr>\n",
       "    <tr>\n",
       "      <th>175315</th>\n",
       "      <td>49574.016625</td>\n",
       "      <td>i</td>\n",
       "      <td>2541</td>\n",
       "      <td>24.110986</td>\n",
       "      <td>2097433</td>\n",
       "      <td>3.638706e-11</td>\n",
       "      <td>4.482271e-11</td>\n",
       "    </tr>\n",
       "    <tr>\n",
       "      <th>175316</th>\n",
       "      <td>49574.017072</td>\n",
       "      <td>i</td>\n",
       "      <td>2534</td>\n",
       "      <td>24.068772</td>\n",
       "      <td>2097433</td>\n",
       "      <td>3.638648e-11</td>\n",
       "      <td>4.661712e-11</td>\n",
       "    </tr>\n",
       "    <tr>\n",
       "      <th>175317</th>\n",
       "      <td>49574.017521</td>\n",
       "      <td>i</td>\n",
       "      <td>2651</td>\n",
       "      <td>24.058710</td>\n",
       "      <td>2097433</td>\n",
       "      <td>3.638589e-11</td>\n",
       "      <td>4.705527e-11</td>\n",
       "    </tr>\n",
       "    <tr>\n",
       "      <th>175318</th>\n",
       "      <td>49574.017967</td>\n",
       "      <td>i</td>\n",
       "      <td>2665</td>\n",
       "      <td>24.096084</td>\n",
       "      <td>2097433</td>\n",
       "      <td>3.638530e-11</td>\n",
       "      <td>4.544816e-11</td>\n",
       "    </tr>\n",
       "    <tr>\n",
       "      <th>175319</th>\n",
       "      <td>49574.018416</td>\n",
       "      <td>i</td>\n",
       "      <td>2773</td>\n",
       "      <td>24.044255</td>\n",
       "      <td>2097433</td>\n",
       "      <td>3.638472e-11</td>\n",
       "      <td>4.769188e-11</td>\n",
       "    </tr>\n",
       "    <tr>\n",
       "      <th>175320</th>\n",
       "      <td>49574.018863</td>\n",
       "      <td>i</td>\n",
       "      <td>2763</td>\n",
       "      <td>23.997830</td>\n",
       "      <td>2097433</td>\n",
       "      <td>3.638413e-11</td>\n",
       "      <td>4.979502e-11</td>\n",
       "    </tr>\n",
       "    <tr>\n",
       "      <th>190873</th>\n",
       "      <td>49592.970260</td>\n",
       "      <td>z</td>\n",
       "      <td>2651</td>\n",
       "      <td>22.126297</td>\n",
       "      <td>2097433</td>\n",
       "      <td>3.713486e-11</td>\n",
       "      <td>2.812913e-10</td>\n",
       "    </tr>\n",
       "    <tr>\n",
       "      <th>190874</th>\n",
       "      <td>49592.970707</td>\n",
       "      <td>z</td>\n",
       "      <td>2665</td>\n",
       "      <td>22.150118</td>\n",
       "      <td>2097433</td>\n",
       "      <td>3.713422e-11</td>\n",
       "      <td>2.751684e-10</td>\n",
       "    </tr>\n",
       "    <tr>\n",
       "      <th>190875</th>\n",
       "      <td>49592.971153</td>\n",
       "      <td>z</td>\n",
       "      <td>2667</td>\n",
       "      <td>22.170356</td>\n",
       "      <td>2097433</td>\n",
       "      <td>3.713358e-11</td>\n",
       "      <td>2.700710e-10</td>\n",
       "    </tr>\n",
       "    <tr>\n",
       "      <th>190876</th>\n",
       "      <td>49592.971598</td>\n",
       "      <td>z</td>\n",
       "      <td>2679</td>\n",
       "      <td>22.187656</td>\n",
       "      <td>2097433</td>\n",
       "      <td>3.713294e-11</td>\n",
       "      <td>2.657883e-10</td>\n",
       "    </tr>\n",
       "    <tr>\n",
       "      <th>190877</th>\n",
       "      <td>49592.972050</td>\n",
       "      <td>z</td>\n",
       "      <td>2557</td>\n",
       "      <td>22.194730</td>\n",
       "      <td>2097433</td>\n",
       "      <td>3.713230e-11</td>\n",
       "      <td>2.640567e-10</td>\n",
       "    </tr>\n",
       "    <tr>\n",
       "      <th>190878</th>\n",
       "      <td>49592.972496</td>\n",
       "      <td>z</td>\n",
       "      <td>2551</td>\n",
       "      <td>22.174127</td>\n",
       "      <td>2097433</td>\n",
       "      <td>3.713166e-11</td>\n",
       "      <td>2.691317e-10</td>\n",
       "    </tr>\n",
       "    <tr>\n",
       "      <th>190879</th>\n",
       "      <td>49592.972943</td>\n",
       "      <td>z</td>\n",
       "      <td>2541</td>\n",
       "      <td>22.149981</td>\n",
       "      <td>2097433</td>\n",
       "      <td>3.713102e-11</td>\n",
       "      <td>2.752032e-10</td>\n",
       "    </tr>\n",
       "    <tr>\n",
       "      <th>190880</th>\n",
       "      <td>49592.973390</td>\n",
       "      <td>z</td>\n",
       "      <td>2534</td>\n",
       "      <td>22.121744</td>\n",
       "      <td>2097433</td>\n",
       "      <td>3.713039e-11</td>\n",
       "      <td>2.824769e-10</td>\n",
       "    </tr>\n",
       "    <tr>\n",
       "      <th>190883</th>\n",
       "      <td>49592.974732</td>\n",
       "      <td>z</td>\n",
       "      <td>2431</td>\n",
       "      <td>22.225853</td>\n",
       "      <td>2097433</td>\n",
       "      <td>3.712847e-11</td>\n",
       "      <td>2.565708e-10</td>\n",
       "    </tr>\n",
       "    <tr>\n",
       "      <th>190884</th>\n",
       "      <td>49592.975179</td>\n",
       "      <td>z</td>\n",
       "      <td>2437</td>\n",
       "      <td>22.245469</td>\n",
       "      <td>2097433</td>\n",
       "      <td>3.712783e-11</td>\n",
       "      <td>2.519617e-10</td>\n",
       "    </tr>\n",
       "    <tr>\n",
       "      <th>190913</th>\n",
       "      <td>49592.988285</td>\n",
       "      <td>z</td>\n",
       "      <td>2551</td>\n",
       "      <td>22.038242</td>\n",
       "      <td>2097433</td>\n",
       "      <td>3.710912e-11</td>\n",
       "      <td>3.051276e-10</td>\n",
       "    </tr>\n",
       "    <tr>\n",
       "      <th>190914</th>\n",
       "      <td>49592.988732</td>\n",
       "      <td>z</td>\n",
       "      <td>2557</td>\n",
       "      <td>22.062423</td>\n",
       "      <td>2097433</td>\n",
       "      <td>3.710848e-11</td>\n",
       "      <td>2.983881e-10</td>\n",
       "    </tr>\n",
       "    <tr>\n",
       "      <th>190915</th>\n",
       "      <td>49592.989180</td>\n",
       "      <td>z</td>\n",
       "      <td>2667</td>\n",
       "      <td>22.029090</td>\n",
       "      <td>2097433</td>\n",
       "      <td>3.710784e-11</td>\n",
       "      <td>3.077178e-10</td>\n",
       "    </tr>\n",
       "    <tr>\n",
       "      <th>190916</th>\n",
       "      <td>49592.989627</td>\n",
       "      <td>z</td>\n",
       "      <td>2679</td>\n",
       "      <td>23.123455</td>\n",
       "      <td>2097433</td>\n",
       "      <td>3.710720e-11</td>\n",
       "      <td>1.117833e-10</td>\n",
       "    </tr>\n",
       "    <tr>\n",
       "      <th>190919</th>\n",
       "      <td>49592.990991</td>\n",
       "      <td>z</td>\n",
       "      <td>2437</td>\n",
       "      <td>23.136405</td>\n",
       "      <td>2097433</td>\n",
       "      <td>3.710525e-11</td>\n",
       "      <td>1.104486e-10</td>\n",
       "    </tr>\n",
       "    <tr>\n",
       "      <th>190920</th>\n",
       "      <td>49592.991439</td>\n",
       "      <td>z</td>\n",
       "      <td>2431</td>\n",
       "      <td>23.089909</td>\n",
       "      <td>2097433</td>\n",
       "      <td>3.710461e-11</td>\n",
       "      <td>1.153158e-10</td>\n",
       "    </tr>\n",
       "    <tr>\n",
       "      <th>190986</th>\n",
       "      <td>49593.024216</td>\n",
       "      <td>g</td>\n",
       "      <td>2707</td>\n",
       "      <td>24.425194</td>\n",
       "      <td>2097433</td>\n",
       "      <td>2.656800e-13</td>\n",
       "      <td>3.355393e-11</td>\n",
       "    </tr>\n",
       "    <tr>\n",
       "      <th>190987</th>\n",
       "      <td>49593.024665</td>\n",
       "      <td>g</td>\n",
       "      <td>2593</td>\n",
       "      <td>24.436324</td>\n",
       "      <td>2097433</td>\n",
       "      <td>2.656502e-13</td>\n",
       "      <td>3.320757e-11</td>\n",
       "    </tr>\n",
       "  </tbody>\n",
       "</table>\n",
       "<p>13536 rows × 7 columns</p>\n",
       "</div>"
      ],
      "text/plain": [
       "                 expMJD filter  fieldID  fiveSigmaDepth     snid  \\\n",
       "obsHistID                                                          \n",
       "172349     49571.063219      g     2437       24.459918  2097152   \n",
       "172350     49571.063666      g     2453       24.513292  2097152   \n",
       "172351     49571.064115      g     2557       24.445066  2097152   \n",
       "172352     49571.064563      g     2679       24.430031  2097152   \n",
       "175206     49573.964751      z     2707       22.206644  2097152   \n",
       "175207     49573.965200      z     2593       22.222713  2097152   \n",
       "175213     49573.967886      z     2579       22.222465  2097152   \n",
       "175214     49573.968334      z     2703       22.177684  2097152   \n",
       "175215     49573.968797      z     2687       22.176571  2097152   \n",
       "175216     49573.969247      z     2575       22.190010  2097152   \n",
       "175217     49573.969696      z     2461       22.204532  2097152   \n",
       "175241     49573.980553      z     2579       22.213298  2097152   \n",
       "175242     49573.981018      z     2593       22.215790  2097152   \n",
       "175243     49573.981466      z     2707       22.201214  2097152   \n",
       "175244     49573.981929      z     2703       22.146786  2097152   \n",
       "175245     49573.982390      z     2687       22.142589  2097152   \n",
       "175246     49573.982843      z     2575       22.154760  2097152   \n",
       "175247     49573.983292      z     2461       22.170884  2097152   \n",
       "175285     49574.002604      i     2541       23.964494  2097152   \n",
       "175286     49574.003051      i     2534       23.927611  2097152   \n",
       "175287     49574.003500      i     2651       23.915709  2097152   \n",
       "175288     49574.003946      i     2665       23.948188  2097152   \n",
       "175289     49574.004395      i     2773       23.899535  2097152   \n",
       "175290     49574.004841      i     2763       23.859204  2097152   \n",
       "175315     49574.016625      i     2541       24.110986  2097152   \n",
       "175316     49574.017072      i     2534       24.068772  2097152   \n",
       "175317     49574.017521      i     2651       24.058710  2097152   \n",
       "175318     49574.017967      i     2665       24.096084  2097152   \n",
       "175319     49574.018416      i     2773       24.044255  2097152   \n",
       "175320     49574.018863      i     2763       23.997830  2097152   \n",
       "...                 ...    ...      ...             ...      ...   \n",
       "175285     49574.002604      i     2541       23.964494  2097433   \n",
       "175286     49574.003051      i     2534       23.927611  2097433   \n",
       "175287     49574.003500      i     2651       23.915709  2097433   \n",
       "175288     49574.003946      i     2665       23.948188  2097433   \n",
       "175289     49574.004395      i     2773       23.899535  2097433   \n",
       "175290     49574.004841      i     2763       23.859204  2097433   \n",
       "175315     49574.016625      i     2541       24.110986  2097433   \n",
       "175316     49574.017072      i     2534       24.068772  2097433   \n",
       "175317     49574.017521      i     2651       24.058710  2097433   \n",
       "175318     49574.017967      i     2665       24.096084  2097433   \n",
       "175319     49574.018416      i     2773       24.044255  2097433   \n",
       "175320     49574.018863      i     2763       23.997830  2097433   \n",
       "190873     49592.970260      z     2651       22.126297  2097433   \n",
       "190874     49592.970707      z     2665       22.150118  2097433   \n",
       "190875     49592.971153      z     2667       22.170356  2097433   \n",
       "190876     49592.971598      z     2679       22.187656  2097433   \n",
       "190877     49592.972050      z     2557       22.194730  2097433   \n",
       "190878     49592.972496      z     2551       22.174127  2097433   \n",
       "190879     49592.972943      z     2541       22.149981  2097433   \n",
       "190880     49592.973390      z     2534       22.121744  2097433   \n",
       "190883     49592.974732      z     2431       22.225853  2097433   \n",
       "190884     49592.975179      z     2437       22.245469  2097433   \n",
       "190913     49592.988285      z     2551       22.038242  2097433   \n",
       "190914     49592.988732      z     2557       22.062423  2097433   \n",
       "190915     49592.989180      z     2667       22.029090  2097433   \n",
       "190916     49592.989627      z     2679       23.123455  2097433   \n",
       "190919     49592.990991      z     2437       23.136405  2097433   \n",
       "190920     49592.991439      z     2431       23.089909  2097433   \n",
       "190986     49593.024216      g     2707       24.425194  2097433   \n",
       "190987     49593.024665      g     2593       24.436324  2097433   \n",
       "\n",
       "                   flux      fluxerrs  \n",
       "obsHistID                              \n",
       "172349     1.728647e-11  3.252719e-11  \n",
       "172350     1.729167e-11  3.095152e-11  \n",
       "172351     1.729689e-11  3.297966e-11  \n",
       "172352     1.730210e-11  3.344406e-11  \n",
       "175206     2.743777e-10  2.613294e-10  \n",
       "175207     2.744513e-10  2.574825e-10  \n",
       "175213     2.748916e-10  2.575418e-10  \n",
       "175214     2.749650e-10  2.684084e-10  \n",
       "175215     2.750410e-10  2.686843e-10  \n",
       "175216     2.751148e-10  2.653725e-10  \n",
       "175217     2.751885e-10  2.618398e-10  \n",
       "175241     2.769726e-10  2.597313e-10  \n",
       "175242     2.770492e-10  2.591347e-10  \n",
       "175243     2.771229e-10  2.626441e-10  \n",
       "175244     2.771992e-10  2.761735e-10  \n",
       "175245     2.772751e-10  2.772453e-10  \n",
       "175246     2.773497e-10  2.741488e-10  \n",
       "175247     2.774236e-10  2.700997e-10  \n",
       "175285     4.003477e-10  5.224931e-11  \n",
       "175286     4.004334e-10  5.401082e-11  \n",
       "175287     4.005194e-10  5.459274e-11  \n",
       "175288     4.006049e-10  5.302096e-11  \n",
       "175289     4.006909e-10  5.539429e-11  \n",
       "175290     4.007764e-10  5.744673e-11  \n",
       "175315     4.030384e-10  4.584434e-11  \n",
       "175316     4.031244e-10  4.760048e-11  \n",
       "175317     4.032107e-10  4.802989e-11  \n",
       "175318     4.032964e-10  4.645675e-11  \n",
       "175319     4.033828e-10  4.865421e-11  \n",
       "175320     4.034687e-10  5.071767e-11  \n",
       "...                 ...           ...  \n",
       "175285     3.640540e-11  5.136191e-11  \n",
       "175286     3.640482e-11  5.315264e-11  \n",
       "175287     3.640423e-11  5.374365e-11  \n",
       "175288     3.640365e-11  5.214607e-11  \n",
       "175289     3.640306e-11  5.455728e-11  \n",
       "175290     3.640248e-11  5.663986e-11  \n",
       "175315     3.638706e-11  4.482271e-11  \n",
       "175316     3.638648e-11  4.661712e-11  \n",
       "175317     3.638589e-11  4.705527e-11  \n",
       "175318     3.638530e-11  4.544816e-11  \n",
       "175319     3.638472e-11  4.769188e-11  \n",
       "175320     3.638413e-11  4.979502e-11  \n",
       "190873     3.713486e-11  2.812913e-10  \n",
       "190874     3.713422e-11  2.751684e-10  \n",
       "190875     3.713358e-11  2.700710e-10  \n",
       "190876     3.713294e-11  2.657883e-10  \n",
       "190877     3.713230e-11  2.640567e-10  \n",
       "190878     3.713166e-11  2.691317e-10  \n",
       "190879     3.713102e-11  2.752032e-10  \n",
       "190880     3.713039e-11  2.824769e-10  \n",
       "190883     3.712847e-11  2.565708e-10  \n",
       "190884     3.712783e-11  2.519617e-10  \n",
       "190913     3.710912e-11  3.051276e-10  \n",
       "190914     3.710848e-11  2.983881e-10  \n",
       "190915     3.710784e-11  3.077178e-10  \n",
       "190916     3.710720e-11  1.117833e-10  \n",
       "190919     3.710525e-11  1.104486e-10  \n",
       "190920     3.710461e-11  1.153158e-10  \n",
       "190986     2.656800e-13  3.355393e-11  \n",
       "190987     2.656502e-13  3.320757e-11  \n",
       "\n",
       "[13536 rows x 7 columns]"
      ]
     },
     "execution_count": 356,
     "metadata": {},
     "output_type": "execute_result"
    }
   ],
   "source": [
    "pd.read_hdf('simulatedTile-2.hdf')"
   ]
  },
  {
   "cell_type": "code",
   "execution_count": 276,
   "metadata": {
    "collapsed": false
   },
   "outputs": [],
   "source": [
    "sn, lc = simTile.SN(2097152)"
   ]
  },
  {
   "cell_type": "code",
   "execution_count": 357,
   "metadata": {
    "collapsed": false
   },
   "outputs": [],
   "source": [
    "tend = time.time()"
   ]
  },
  {
   "cell_type": "code",
   "execution_count": 358,
   "metadata": {
    "collapsed": false
   },
   "outputs": [
    {
     "data": {
      "text/plain": [
       "60.5964150428772"
      ]
     },
     "execution_count": 358,
     "metadata": {},
     "output_type": "execute_result"
    }
   ],
   "source": [
    "tend - tstart"
   ]
  },
  {
   "cell_type": "code",
   "execution_count": 279,
   "metadata": {
    "collapsed": false
   },
   "outputs": [
    {
     "data": {
      "text/plain": [
       "282"
      ]
     },
     "execution_count": 279,
     "metadata": {},
     "output_type": "execute_result"
    }
   ],
   "source": [
    "len(simTile.snParamTable)"
   ]
  },
  {
   "cell_type": "code",
   "execution_count": 359,
   "metadata": {
    "collapsed": true
   },
   "outputs": [],
   "source": [
    "data = pd.read_hdf('simulatedTile-2.hdf', 'tile_2')"
   ]
  },
  {
   "cell_type": "code",
   "execution_count": 361,
   "metadata": {
    "collapsed": false
   },
   "outputs": [
    {
     "data": {
      "text/plain": [
       "282"
      ]
     },
     "execution_count": 361,
     "metadata": {},
     "output_type": "execute_result"
    }
   ],
   "source": [
    "len(data.snid.unique())"
   ]
  },
  {
   "cell_type": "code",
   "execution_count": 362,
   "metadata": {
    "collapsed": false
   },
   "outputs": [
    {
     "data": {
      "text/plain": [
       "13536"
      ]
     },
     "execution_count": 362,
     "metadata": {},
     "output_type": "execute_result"
    }
   ],
   "source": [
    "len(data)"
   ]
  },
  {
   "cell_type": "code",
   "execution_count": 171,
   "metadata": {
    "collapsed": false
   },
   "outputs": [
    {
     "data": {
      "text/html": [
       "<div>\n",
       "<table border=\"1\" class=\"dataframe\">\n",
       "  <thead>\n",
       "    <tr style=\"text-align: right;\">\n",
       "      <th></th>\n",
       "      <th>expMJD</th>\n",
       "      <th>filter</th>\n",
       "      <th>fieldID</th>\n",
       "      <th>fiveSigmaDepth</th>\n",
       "      <th>snid</th>\n",
       "      <th>flux</th>\n",
       "      <th>fluxerrs</th>\n",
       "    </tr>\n",
       "    <tr>\n",
       "      <th>obsHistID</th>\n",
       "      <th></th>\n",
       "      <th></th>\n",
       "      <th></th>\n",
       "      <th></th>\n",
       "      <th></th>\n",
       "      <th></th>\n",
       "      <th></th>\n",
       "    </tr>\n",
       "  </thead>\n",
       "  <tbody>\n",
       "    <tr>\n",
       "      <th>172349</th>\n",
       "      <td>49571.063219</td>\n",
       "      <td>g</td>\n",
       "      <td>2437</td>\n",
       "      <td>24.459918</td>\n",
       "      <td>2097152</td>\n",
       "      <td>1.728647e-11</td>\n",
       "      <td>3.252719e-11</td>\n",
       "    </tr>\n",
       "    <tr>\n",
       "      <th>172350</th>\n",
       "      <td>49571.063666</td>\n",
       "      <td>g</td>\n",
       "      <td>2453</td>\n",
       "      <td>24.513292</td>\n",
       "      <td>2097152</td>\n",
       "      <td>1.729167e-11</td>\n",
       "      <td>3.095152e-11</td>\n",
       "    </tr>\n",
       "    <tr>\n",
       "      <th>172351</th>\n",
       "      <td>49571.064115</td>\n",
       "      <td>g</td>\n",
       "      <td>2557</td>\n",
       "      <td>24.445066</td>\n",
       "      <td>2097152</td>\n",
       "      <td>1.729689e-11</td>\n",
       "      <td>3.297966e-11</td>\n",
       "    </tr>\n",
       "    <tr>\n",
       "      <th>172352</th>\n",
       "      <td>49571.064563</td>\n",
       "      <td>g</td>\n",
       "      <td>2679</td>\n",
       "      <td>24.430031</td>\n",
       "      <td>2097152</td>\n",
       "      <td>1.730210e-11</td>\n",
       "      <td>3.344406e-11</td>\n",
       "    </tr>\n",
       "    <tr>\n",
       "      <th>190986</th>\n",
       "      <td>49593.024216</td>\n",
       "      <td>g</td>\n",
       "      <td>2707</td>\n",
       "      <td>24.425194</td>\n",
       "      <td>2097152</td>\n",
       "      <td>5.252354e-09</td>\n",
       "      <td>4.441515e-11</td>\n",
       "    </tr>\n",
       "    <tr>\n",
       "      <th>190987</th>\n",
       "      <td>49593.024665</td>\n",
       "      <td>g</td>\n",
       "      <td>2593</td>\n",
       "      <td>24.436324</td>\n",
       "      <td>2097152</td>\n",
       "      <td>5.252289e-09</td>\n",
       "      <td>4.415396e-11</td>\n",
       "    </tr>\n",
       "  </tbody>\n",
       "</table>\n",
       "</div>"
      ],
      "text/plain": [
       "                 expMJD filter  fieldID  fiveSigmaDepth     snid  \\\n",
       "obsHistID                                                          \n",
       "172349     49571.063219      g     2437       24.459918  2097152   \n",
       "172350     49571.063666      g     2453       24.513292  2097152   \n",
       "172351     49571.064115      g     2557       24.445066  2097152   \n",
       "172352     49571.064563      g     2679       24.430031  2097152   \n",
       "190986     49593.024216      g     2707       24.425194  2097152   \n",
       "190987     49593.024665      g     2593       24.436324  2097152   \n",
       "\n",
       "                   flux      fluxerrs  \n",
       "obsHistID                              \n",
       "172349     1.728647e-11  3.252719e-11  \n",
       "172350     1.729167e-11  3.095152e-11  \n",
       "172351     1.729689e-11  3.297966e-11  \n",
       "172352     1.730210e-11  3.344406e-11  \n",
       "190986     5.252354e-09  4.441515e-11  \n",
       "190987     5.252289e-09  4.415396e-11  "
      ]
     },
     "execution_count": 171,
     "metadata": {},
     "output_type": "execute_result"
    }
   ],
   "source": [
    "glc"
   ]
  },
  {
   "cell_type": "code",
   "execution_count": 177,
   "metadata": {
    "collapsed": false
   },
   "outputs": [
    {
     "data": {
      "text/plain": [
       "obsHistID\n",
       "172349    3.252719e-11\n",
       "172350    3.095152e-11\n",
       "172351    3.297966e-11\n",
       "172352    3.344406e-11\n",
       "190986    4.441515e-11\n",
       "190987    4.415396e-11\n",
       "Name: fluxerrs, dtype: float64"
      ]
     },
     "execution_count": 177,
     "metadata": {},
     "output_type": "execute_result"
    }
   ],
   "source": [
    "glc.fluxerrs"
   ]
  },
  {
   "cell_type": "code",
   "execution_count": 181,
   "metadata": {
    "collapsed": false
   },
   "outputs": [
    {
     "name": "stdout",
     "output_type": "stream",
     "text": [
      "12\n"
     ]
    },
    {
     "data": {
      "text/plain": [
       "<Container object of 3 artists>"
      ]
     },
     "execution_count": 181,
     "metadata": {},
     "output_type": "execute_result"
    },
    {
     "data": {
      "image/png": "[encoded data removed]",
      "text/plain": [
       "<matplotlib.figure.Figure at 0x11551e9d0>"
      ]
     },
     "metadata": {},
     "output_type": "display_data"
    }
   ],
   "source": [
    "fig, ax = plt.subplots()\n",
    "glc = lc.query('filter == \"i\"')\n",
    "print(len(glc))\n",
    "ax.errorbar(glc.expMJD, glc.flux, yerr=glc.fluxerrs.values, fmt='o')"
   ]
  },
  {
   "cell_type": "code",
   "execution_count": 142,
   "metadata": {
    "collapsed": false
   },
   "outputs": [],
   "source": [
    "mySN = SNObject(ra=44.78, dec=0.28)"
   ]
  },
  {
   "cell_type": "code",
   "execution_count": 153,
   "metadata": {
    "collapsed": false
   },
   "outputs": [
    {
     "data": {
      "text/plain": [
       "array(['M', 'Mabs', 'c', 'mB', 't0', 'x0', 'x1', 'z', 'ra', 'dec'], dtype=object)"
      ]
     },
     "execution_count": 153,
     "metadata": {},
     "output_type": "execute_result"
    }
   ],
   "source": [
    "simTile.snParamTable.ix[2097152]"
   ]
  },
  {
   "cell_type": "code",
   "execution_count": 150,
   "metadata": {
    "collapsed": false
   },
   "outputs": [
    {
     "name": "stdout",
     "output_type": "stream",
     "text": [
      "0.442291547071\n",
      "-18.9929233772\n",
      "-0.150324608986\n",
      "20.4551153582\n",
      "49591.2215108\n",
      "0.000103922920062\n",
      "0.270252046785\n",
      "0.157302415606\n",
      "44.7801132604\n",
      "0.283009138837\n"
     ]
    }
   ],
   "source": [
    "for param in simTile.snParamTable.ix[2097152]:\n",
    "    print param"
   ]
  },
  {
   "cell_type": "code",
   "execution_count": 149,
   "metadata": {
    "collapsed": false
   },
   "outputs": [
    {
     "data": {
      "text/plain": [
       "['z', 't0', 'x0', 'x1', 'c', 'hostebv', 'hostr_v', 'mwebv', 'mwr_v']"
      ]
     },
     "execution_count": 149,
     "metadata": {},
     "output_type": "execute_result"
    }
   ],
   "source": [
    "mySN.param_names"
   ]
  },
  {
   "cell_type": "code",
   "execution_count": 147,
   "metadata": {
    "collapsed": false
   },
   "outputs": [
    {
     "data": {
      "text/plain": [
       "{}"
      ]
     },
     "execution_count": 147,
     "metadata": {},
     "output_type": "execute_result"
    }
   ],
   "source": [
    "simTile.getSNCosmoParamDict(simTile.snParamTable.ix[2097152], mySN)"
   ]
  },
  {
   "cell_type": "code",
   "execution_count": 116,
   "metadata": {
    "collapsed": false
   },
   "outputs": [],
   "source": [
    "ht = snsims.HealpixTiles(nside=256, \n",
    "                         preComputedMap='/Users/rbiswas/.local/lib/python2.7/site-packages/opsimsummary/example_data/healpixels_micro.db')"
   ]
  },
  {
   "cell_type": "code",
   "execution_count": 33,
   "metadata": {
    "collapsed": false
   },
   "outputs": [],
   "source": [
    "subset = ht.pointingSequenceForTile(allPointings=opsimOut, columns=('expMJD', 'filter', 'fiveSigmaDepth'), tileID=2)"
   ]
  },
  {
   "cell_type": "code",
   "execution_count": 39,
   "metadata": {
    "collapsed": false
   },
   "outputs": [
    {
     "data": {
      "text/html": [
       "<div>\n",
       "<table border=\"1\" class=\"dataframe\">\n",
       "  <thead>\n",
       "    <tr style=\"text-align: right;\">\n",
       "      <th></th>\n",
       "      <th>expMJD</th>\n",
       "      <th>filter</th>\n",
       "      <th>fiveSigmaDepth</th>\n",
       "    </tr>\n",
       "    <tr>\n",
       "      <th>obsHistID</th>\n",
       "      <th></th>\n",
       "      <th></th>\n",
       "      <th></th>\n",
       "    </tr>\n",
       "  </thead>\n",
       "  <tbody>\n",
       "    <tr>\n",
       "      <th>172349</th>\n",
       "      <td>49571.063219</td>\n",
       "      <td>g</td>\n",
       "      <td>24.459918</td>\n",
       "    </tr>\n",
       "    <tr>\n",
       "      <th>172350</th>\n",
       "      <td>49571.063666</td>\n",
       "      <td>g</td>\n",
       "      <td>24.513292</td>\n",
       "    </tr>\n",
       "    <tr>\n",
       "      <th>172351</th>\n",
       "      <td>49571.064115</td>\n",
       "      <td>g</td>\n",
       "      <td>24.445066</td>\n",
       "    </tr>\n",
       "    <tr>\n",
       "      <th>172352</th>\n",
       "      <td>49571.064563</td>\n",
       "      <td>g</td>\n",
       "      <td>24.430031</td>\n",
       "    </tr>\n",
       "    <tr>\n",
       "      <th>175206</th>\n",
       "      <td>49573.964751</td>\n",
       "      <td>z</td>\n",
       "      <td>22.206644</td>\n",
       "    </tr>\n",
       "  </tbody>\n",
       "</table>\n",
       "</div>"
      ],
      "text/plain": [
       "                 expMJD filter  fiveSigmaDepth\n",
       "obsHistID                                     \n",
       "172349     49571.063219      g       24.459918\n",
       "172350     49571.063666      g       24.513292\n",
       "172351     49571.064115      g       24.445066\n",
       "172352     49571.064563      g       24.430031\n",
       "175206     49573.964751      z       22.206644"
      ]
     },
     "execution_count": 39,
     "metadata": {},
     "output_type": "execute_result"
    }
   ],
   "source": [
    "subset.head()"
   ]
  },
  {
   "cell_type": "code",
   "execution_count": 46,
   "metadata": {
    "collapsed": false
   },
   "outputs": [],
   "source": [
    "row = next(subset.iterrows())\n",
    "    "
   ]
  },
  {
   "cell_type": "code",
   "execution_count": 56,
   "metadata": {
    "collapsed": false
   },
   "outputs": [
    {
     "name": "stdout",
     "output_type": "stream",
     "text": [
      "(49571.063219, u'g', 24.459918)\n",
      "(49571.063666, u'g', 24.513292)\n",
      "(49571.064115, u'g', 24.445066)\n",
      "(49571.064563, u'g', 24.430031)\n",
      "(49573.964751, u'z', 22.206644)\n"
     ]
    }
   ],
   "source": [
    "for rows in subset.head().iterrows():\n",
    "    row = rows[1]\n",
    "    print(row['expMJD'], row['filter'], row['fiveSigmaDepth'])"
   ]
  },
  {
   "cell_type": "code",
   "execution_count": 52,
   "metadata": {
    "collapsed": false
   },
   "outputs": [
    {
     "data": {
      "text/plain": [
       "49571.063219"
      ]
     },
     "execution_count": 52,
     "metadata": {},
     "output_type": "execute_result"
    }
   ],
   "source": [
    "row[1]['expMJD']"
   ]
  },
  {
   "cell_type": "code",
   "execution_count": 18,
   "metadata": {
    "collapsed": false
   },
   "outputs": [
    {
     "data": {
      "text/plain": [
       "'/Users/rbiswas/.local/lib/python2.7/site-packages/opsimsummary/example_data/enigma_1189_micro.db'"
      ]
     },
     "execution_count": 18,
     "metadata": {},
     "output_type": "execute_result"
    }
   ],
   "source": [
    "opsimdb"
   ]
  },
  {
   "cell_type": "code",
   "execution_count": null,
   "metadata": {
    "collapsed": true
   },
   "outputs": [],
   "source": [
    "hpopSim = oss.HealPixelizedOpSim"
   ]
  },
  {
   "cell_type": "code",
   "execution_count": 77,
   "metadata": {
    "collapsed": true
   },
   "outputs": [],
   "source": [
    "from lsst.sims.photUtils import BandpassDict"
   ]
  },
  {
   "cell_type": "code",
   "execution_count": 76,
   "metadata": {
    "collapsed": false
   },
   "outputs": [
    {
     "data": {
      "text/plain": [
       "<opsimsummary.opsim_out.OpSimOutput at 0x104f942d0>"
      ]
     },
     "execution_count": 76,
     "metadata": {},
     "output_type": "execute_result"
    }
   ],
   "source": [
    "opsimOut"
   ]
  },
  {
   "cell_type": "code",
   "execution_count": 119,
   "metadata": {
    "collapsed": false
   },
   "outputs": [
    {
     "data": {
      "text/html": [
       "<div>\n",
       "<table border=\"1\" class=\"dataframe\">\n",
       "  <thead>\n",
       "    <tr style=\"text-align: right;\">\n",
       "      <th></th>\n",
       "      <th>M</th>\n",
       "      <th>Mabs</th>\n",
       "      <th>c</th>\n",
       "      <th>mB</th>\n",
       "      <th>t0</th>\n",
       "      <th>x0</th>\n",
       "      <th>x1</th>\n",
       "      <th>z</th>\n",
       "      <th>ra</th>\n",
       "      <th>dec</th>\n",
       "    </tr>\n",
       "    <tr>\n",
       "      <th>snid</th>\n",
       "      <th></th>\n",
       "      <th></th>\n",
       "      <th></th>\n",
       "      <th></th>\n",
       "      <th></th>\n",
       "      <th></th>\n",
       "      <th></th>\n",
       "      <th></th>\n",
       "      <th></th>\n",
       "      <th></th>\n",
       "    </tr>\n",
       "  </thead>\n",
       "  <tbody>\n",
       "    <tr>\n",
       "      <th>2097152</th>\n",
       "      <td>-0.172234</td>\n",
       "      <td>-19.193721</td>\n",
       "      <td>0.073487</td>\n",
       "      <td>16.966703</td>\n",
       "      <td>49583.315239</td>\n",
       "      <td>0.002592</td>\n",
       "      <td>-0.531945</td>\n",
       "      <td>0.037492</td>\n",
       "      <td>40.874748</td>\n",
       "      <td>3.657655</td>\n",
       "    </tr>\n",
       "    <tr>\n",
       "      <th>2097153</th>\n",
       "      <td>0.056920</td>\n",
       "      <td>-19.187167</td>\n",
       "      <td>-0.023738</td>\n",
       "      <td>18.271408</td>\n",
       "      <td>49589.279658</td>\n",
       "      <td>0.000778</td>\n",
       "      <td>0.160154</td>\n",
       "      <td>0.066762</td>\n",
       "      <td>41.139171</td>\n",
       "      <td>4.183124</td>\n",
       "    </tr>\n",
       "    <tr>\n",
       "      <th>2097154</th>\n",
       "      <td>0.402092</td>\n",
       "      <td>-18.867247</td>\n",
       "      <td>-0.087259</td>\n",
       "      <td>17.328732</td>\n",
       "      <td>49576.979866</td>\n",
       "      <td>0.001861</td>\n",
       "      <td>-1.164548</td>\n",
       "      <td>0.038095</td>\n",
       "      <td>43.627595</td>\n",
       "      <td>4.123643</td>\n",
       "    </tr>\n",
       "    <tr>\n",
       "      <th>2097155</th>\n",
       "      <td>-0.099114</td>\n",
       "      <td>-19.539191</td>\n",
       "      <td>0.025303</td>\n",
       "      <td>12.497307</td>\n",
       "      <td>49582.614289</td>\n",
       "      <td>0.158649</td>\n",
       "      <td>0.178738</td>\n",
       "      <td>0.005747</td>\n",
       "      <td>44.264664</td>\n",
       "      <td>4.600741</td>\n",
       "    </tr>\n",
       "    <tr>\n",
       "      <th>2097156</th>\n",
       "      <td>-0.009494</td>\n",
       "      <td>-19.393026</td>\n",
       "      <td>0.026732</td>\n",
       "      <td>15.923752</td>\n",
       "      <td>49588.676135</td>\n",
       "      <td>0.006780</td>\n",
       "      <td>-0.676756</td>\n",
       "      <td>0.025644</td>\n",
       "      <td>44.037583</td>\n",
       "      <td>4.858994</td>\n",
       "    </tr>\n",
       "  </tbody>\n",
       "</table>\n",
       "</div>"
      ],
      "text/plain": [
       "                M       Mabs         c         mB            t0        x0  \\\n",
       "snid                                                                        \n",
       "2097152 -0.172234 -19.193721  0.073487  16.966703  49583.315239  0.002592   \n",
       "2097153  0.056920 -19.187167 -0.023738  18.271408  49589.279658  0.000778   \n",
       "2097154  0.402092 -18.867247 -0.087259  17.328732  49576.979866  0.001861   \n",
       "2097155 -0.099114 -19.539191  0.025303  12.497307  49582.614289  0.158649   \n",
       "2097156 -0.009494 -19.393026  0.026732  15.923752  49588.676135  0.006780   \n",
       "\n",
       "               x1         z         ra       dec  \n",
       "snid                                              \n",
       "2097152 -0.531945  0.037492  40.874748  3.657655  \n",
       "2097153  0.160154  0.066762  41.139171  4.183124  \n",
       "2097154 -1.164548  0.038095  43.627595  4.123643  \n",
       "2097155  0.178738  0.005747  44.264664  4.600741  \n",
       "2097156 -0.676756  0.025644  44.037583  4.858994  "
      ]
     },
     "execution_count": 119,
     "metadata": {},
     "output_type": "execute_result"
    }
   ],
   "source": [
    "ss.head()"
   ]
  },
  {
   "cell_type": "code",
   "execution_count": 102,
   "metadata": {
    "collapsed": true
   },
   "outputs": [],
   "source": [
    "from lsst.sims.catUtils.supernovae import SNObject"
   ]
  },
  {
   "cell_type": "code",
   "execution_count": 123,
   "metadata": {
    "collapsed": false
   },
   "outputs": [],
   "source": [
    "sn, df = simTile.SN(2097152)"
   ]
  },
  {
   "cell_type": "code",
   "execution_count": 128,
   "metadata": {
    "collapsed": false
   },
   "outputs": [
    {
     "data": {
      "text/plain": [
       "{'MWE(B-V)': 0.08050362765789032,\n",
       " 'ModelSource': 'salt2-extended',\n",
       " '_dec': 0.0049394412859329953,\n",
       " '_ra': 0.78156041581027214,\n",
       " 'c': 0.0,\n",
       " 'hostebv': 0.0,\n",
       " 'hostr_v': 3.1000000000000001,\n",
       " 'mwebv': 0.0,\n",
       " 'mwr_v': 3.1000000000000001,\n",
       " 't0': 0.0,\n",
       " 'x0': 1.0,\n",
       " 'x1': 0.0,\n",
       " 'z': 0.0}"
      ]
     },
     "execution_count": 128,
     "metadata": {},
     "output_type": "execute_result"
    }
   ],
   "source": [
    "sn.SNstate"
   ]
  },
  {
   "cell_type": "code",
   "execution_count": 104,
   "metadata": {
    "collapsed": false
   },
   "outputs": [
    {
     "data": {
      "text/html": [
       "<div>\n",
       "<table border=\"1\" class=\"dataframe\">\n",
       "  <thead>\n",
       "    <tr style=\"text-align: right;\">\n",
       "      <th></th>\n",
       "      <th>expMJD</th>\n",
       "      <th>filter</th>\n",
       "      <th>fieldID</th>\n",
       "      <th>fiveSigmaDepth</th>\n",
       "    </tr>\n",
       "    <tr>\n",
       "      <th>obsHistID</th>\n",
       "      <th></th>\n",
       "      <th></th>\n",
       "      <th></th>\n",
       "      <th></th>\n",
       "    </tr>\n",
       "  </thead>\n",
       "  <tbody>\n",
       "    <tr>\n",
       "      <th>172349</th>\n",
       "      <td>49571.063219</td>\n",
       "      <td>g</td>\n",
       "      <td>2437</td>\n",
       "      <td>24.459918</td>\n",
       "    </tr>\n",
       "    <tr>\n",
       "      <th>172350</th>\n",
       "      <td>49571.063666</td>\n",
       "      <td>g</td>\n",
       "      <td>2453</td>\n",
       "      <td>24.513292</td>\n",
       "    </tr>\n",
       "    <tr>\n",
       "      <th>172351</th>\n",
       "      <td>49571.064115</td>\n",
       "      <td>g</td>\n",
       "      <td>2557</td>\n",
       "      <td>24.445066</td>\n",
       "    </tr>\n",
       "    <tr>\n",
       "      <th>172352</th>\n",
       "      <td>49571.064563</td>\n",
       "      <td>g</td>\n",
       "      <td>2679</td>\n",
       "      <td>24.430031</td>\n",
       "    </tr>\n",
       "    <tr>\n",
       "      <th>175206</th>\n",
       "      <td>49573.964751</td>\n",
       "      <td>z</td>\n",
       "      <td>2707</td>\n",
       "      <td>22.206644</td>\n",
       "    </tr>\n",
       "  </tbody>\n",
       "</table>\n",
       "</div>"
      ],
      "text/plain": [
       "                 expMJD filter  fieldID  fiveSigmaDepth\n",
       "obsHistID                                              \n",
       "172349     49571.063219      g     2437       24.459918\n",
       "172350     49571.063666      g     2453       24.513292\n",
       "172351     49571.064115      g     2557       24.445066\n",
       "172352     49571.064563      g     2679       24.430031\n",
       "175206     49573.964751      z     2707       22.206644"
      ]
     },
     "execution_count": 104,
     "metadata": {},
     "output_type": "execute_result"
    }
   ],
   "source": [
    "simTile.tilePointings.head()"
   ]
  },
  {
   "cell_type": "code",
   "execution_count": null,
   "metadata": {
    "collapsed": false
   },
   "outputs": [],
   "source": [
    "simTile.tilePointings"
   ]
  },
  {
   "cell_type": "code",
   "execution_count": 28,
   "metadata": {
    "collapsed": false
   },
   "outputs": [
    {
     "ename": "NameError",
     "evalue": "name 'pointings' is not defined",
     "output_type": "error",
     "traceback": [
      "\u001b[0;31m---------------------------------------------------------------------------\u001b[0m",
      "\u001b[0;31mNameError\u001b[0m                                 Traceback (most recent call last)",
      "\u001b[0;32m<ipython-input-28-68eb6a52f9ff>\u001b[0m in \u001b[0;36m<module>\u001b[0;34m()\u001b[0m\n\u001b[0;32m----> 1\u001b[0;31m \u001b[0mopsimout\u001b[0m\u001b[0;34m.\u001b[0m\u001b[0msummary\u001b[0m\u001b[0;34m.\u001b[0m\u001b[0mix\u001b[0m\u001b[0;34m[\u001b[0m\u001b[0mpointings\u001b[0m\u001b[0;34m]\u001b[0m\u001b[0;34m.\u001b[0m\u001b[0mfieldID\u001b[0m\u001b[0;34m.\u001b[0m\u001b[0munique\u001b[0m\u001b[0;34m(\u001b[0m\u001b[0;34m)\u001b[0m\u001b[0;34m\u001b[0m\u001b[0m\n\u001b[0m",
      "\u001b[0;31mNameError\u001b[0m: name 'pointings' is not defined"
     ]
    }
   ],
   "source": [
    "opsimout.summary.ix[pointings].fieldID.unique()"
   ]
  },
  {
   "cell_type": "code",
   "execution_count": 69,
   "metadata": {
    "collapsed": false
   },
   "outputs": [
    {
     "data": {
      "text/html": [
       "<div>\n",
       "<table border=\"1\" class=\"dataframe\">\n",
       "  <thead>\n",
       "    <tr style=\"text-align: right;\">\n",
       "      <th></th>\n",
       "      <th>fieldRA</th>\n",
       "      <th>fieldDec</th>\n",
       "      <th>fieldID</th>\n",
       "      <th>fiveSigmaDepth</th>\n",
       "      <th>expMJD</th>\n",
       "      <th>filter</th>\n",
       "    </tr>\n",
       "    <tr>\n",
       "      <th>obsHistID</th>\n",
       "      <th></th>\n",
       "      <th></th>\n",
       "      <th></th>\n",
       "      <th></th>\n",
       "      <th></th>\n",
       "      <th></th>\n",
       "    </tr>\n",
       "  </thead>\n",
       "  <tbody>\n",
       "    <tr>\n",
       "      <th>187059</th>\n",
       "      <td>0.792429</td>\n",
       "      <td>0.034090</td>\n",
       "      <td>2736</td>\n",
       "      <td>21.341876</td>\n",
       "      <td>49585.394674</td>\n",
       "      <td>y</td>\n",
       "    </tr>\n",
       "    <tr>\n",
       "      <th>187073</th>\n",
       "      <td>0.792429</td>\n",
       "      <td>0.034090</td>\n",
       "      <td>2736</td>\n",
       "      <td>21.393171</td>\n",
       "      <td>49585.401121</td>\n",
       "      <td>y</td>\n",
       "    </tr>\n",
       "    <tr>\n",
       "      <th>194374</th>\n",
       "      <td>0.792429</td>\n",
       "      <td>0.034090</td>\n",
       "      <td>2736</td>\n",
       "      <td>23.583906</td>\n",
       "      <td>49596.316600</td>\n",
       "      <td>i</td>\n",
       "    </tr>\n",
       "    <tr>\n",
       "      <th>194421</th>\n",
       "      <td>0.792429</td>\n",
       "      <td>0.034090</td>\n",
       "      <td>2736</td>\n",
       "      <td>23.552233</td>\n",
       "      <td>49596.338125</td>\n",
       "      <td>i</td>\n",
       "    </tr>\n",
       "    <tr>\n",
       "      <th>195238</th>\n",
       "      <td>0.792429</td>\n",
       "      <td>0.034090</td>\n",
       "      <td>2736</td>\n",
       "      <td>24.757496</td>\n",
       "      <td>49597.273542</td>\n",
       "      <td>g</td>\n",
       "    </tr>\n",
       "    <tr>\n",
       "      <th>195240</th>\n",
       "      <td>0.766063</td>\n",
       "      <td>-0.007846</td>\n",
       "      <td>2626</td>\n",
       "      <td>24.823001</td>\n",
       "      <td>49597.274437</td>\n",
       "      <td>g</td>\n",
       "    </tr>\n",
       "    <tr>\n",
       "      <th>195308</th>\n",
       "      <td>0.792429</td>\n",
       "      <td>0.034090</td>\n",
       "      <td>2736</td>\n",
       "      <td>25.102092</td>\n",
       "      <td>49597.307155</td>\n",
       "      <td>g</td>\n",
       "    </tr>\n",
       "    <tr>\n",
       "      <th>195309</th>\n",
       "      <td>0.766063</td>\n",
       "      <td>-0.007846</td>\n",
       "      <td>2626</td>\n",
       "      <td>25.147792</td>\n",
       "      <td>49597.307604</td>\n",
       "      <td>g</td>\n",
       "    </tr>\n",
       "    <tr>\n",
       "      <th>196190</th>\n",
       "      <td>0.766063</td>\n",
       "      <td>-0.007846</td>\n",
       "      <td>2626</td>\n",
       "      <td>24.379822</td>\n",
       "      <td>49598.283632</td>\n",
       "      <td>g</td>\n",
       "    </tr>\n",
       "    <tr>\n",
       "      <th>196191</th>\n",
       "      <td>0.792429</td>\n",
       "      <td>0.034090</td>\n",
       "      <td>2736</td>\n",
       "      <td>24.324589</td>\n",
       "      <td>49598.284081</td>\n",
       "      <td>g</td>\n",
       "    </tr>\n",
       "    <tr>\n",
       "      <th>196234</th>\n",
       "      <td>0.766063</td>\n",
       "      <td>-0.007846</td>\n",
       "      <td>2626</td>\n",
       "      <td>24.447786</td>\n",
       "      <td>49598.308991</td>\n",
       "      <td>g</td>\n",
       "    </tr>\n",
       "    <tr>\n",
       "      <th>196236</th>\n",
       "      <td>0.792429</td>\n",
       "      <td>0.034090</td>\n",
       "      <td>2736</td>\n",
       "      <td>24.582029</td>\n",
       "      <td>49598.313019</td>\n",
       "      <td>g</td>\n",
       "    </tr>\n",
       "    <tr>\n",
       "      <th>196401</th>\n",
       "      <td>0.737881</td>\n",
       "      <td>0.037368</td>\n",
       "      <td>2742</td>\n",
       "      <td>21.772138</td>\n",
       "      <td>49598.416210</td>\n",
       "      <td>z</td>\n",
       "    </tr>\n",
       "    <tr>\n",
       "      <th>196402</th>\n",
       "      <td>0.766063</td>\n",
       "      <td>-0.007846</td>\n",
       "      <td>2626</td>\n",
       "      <td>21.796638</td>\n",
       "      <td>49598.416659</td>\n",
       "      <td>z</td>\n",
       "    </tr>\n",
       "    <tr>\n",
       "      <th>196403</th>\n",
       "      <td>0.792429</td>\n",
       "      <td>0.034090</td>\n",
       "      <td>2736</td>\n",
       "      <td>21.784335</td>\n",
       "      <td>49598.417109</td>\n",
       "      <td>z</td>\n",
       "    </tr>\n",
       "    <tr>\n",
       "      <th>200849</th>\n",
       "      <td>0.792429</td>\n",
       "      <td>0.034090</td>\n",
       "      <td>2736</td>\n",
       "      <td>21.474850</td>\n",
       "      <td>49609.404495</td>\n",
       "      <td>y</td>\n",
       "    </tr>\n",
       "    <tr>\n",
       "      <th>201724</th>\n",
       "      <td>0.792429</td>\n",
       "      <td>0.034090</td>\n",
       "      <td>2736</td>\n",
       "      <td>22.377414</td>\n",
       "      <td>49610.395337</td>\n",
       "      <td>z</td>\n",
       "    </tr>\n",
       "    <tr>\n",
       "      <th>201725</th>\n",
       "      <td>0.737881</td>\n",
       "      <td>0.037368</td>\n",
       "      <td>2742</td>\n",
       "      <td>22.362867</td>\n",
       "      <td>49610.395786</td>\n",
       "      <td>z</td>\n",
       "    </tr>\n",
       "    <tr>\n",
       "      <th>201731</th>\n",
       "      <td>0.766063</td>\n",
       "      <td>-0.007846</td>\n",
       "      <td>2626</td>\n",
       "      <td>22.381839</td>\n",
       "      <td>49610.398466</td>\n",
       "      <td>z</td>\n",
       "    </tr>\n",
       "    <tr>\n",
       "      <th>201754</th>\n",
       "      <td>0.766063</td>\n",
       "      <td>-0.007846</td>\n",
       "      <td>2626</td>\n",
       "      <td>22.452820</td>\n",
       "      <td>49610.408864</td>\n",
       "      <td>z</td>\n",
       "    </tr>\n",
       "    <tr>\n",
       "      <th>203413</th>\n",
       "      <td>0.792429</td>\n",
       "      <td>0.034090</td>\n",
       "      <td>2736</td>\n",
       "      <td>21.646022</td>\n",
       "      <td>49612.302750</td>\n",
       "      <td>y</td>\n",
       "    </tr>\n",
       "    <tr>\n",
       "      <th>203421</th>\n",
       "      <td>0.792429</td>\n",
       "      <td>0.034090</td>\n",
       "      <td>2736</td>\n",
       "      <td>21.648387</td>\n",
       "      <td>49612.306372</td>\n",
       "      <td>y</td>\n",
       "    </tr>\n",
       "    <tr>\n",
       "      <th>203439</th>\n",
       "      <td>0.792429</td>\n",
       "      <td>0.034090</td>\n",
       "      <td>2736</td>\n",
       "      <td>21.522201</td>\n",
       "      <td>49612.314538</td>\n",
       "      <td>y</td>\n",
       "    </tr>\n",
       "    <tr>\n",
       "      <th>203455</th>\n",
       "      <td>0.792429</td>\n",
       "      <td>0.034090</td>\n",
       "      <td>2736</td>\n",
       "      <td>21.487602</td>\n",
       "      <td>49612.321829</td>\n",
       "      <td>y</td>\n",
       "    </tr>\n",
       "    <tr>\n",
       "      <th>203480</th>\n",
       "      <td>0.792429</td>\n",
       "      <td>0.034090</td>\n",
       "      <td>2736</td>\n",
       "      <td>21.780742</td>\n",
       "      <td>49612.335812</td>\n",
       "      <td>y</td>\n",
       "    </tr>\n",
       "    <tr>\n",
       "      <th>204360</th>\n",
       "      <td>0.792429</td>\n",
       "      <td>0.034090</td>\n",
       "      <td>2736</td>\n",
       "      <td>21.746881</td>\n",
       "      <td>49613.323212</td>\n",
       "      <td>y</td>\n",
       "    </tr>\n",
       "    <tr>\n",
       "      <th>204375</th>\n",
       "      <td>0.792429</td>\n",
       "      <td>0.034090</td>\n",
       "      <td>2736</td>\n",
       "      <td>21.723283</td>\n",
       "      <td>49613.330322</td>\n",
       "      <td>y</td>\n",
       "    </tr>\n",
       "    <tr>\n",
       "      <th>205282</th>\n",
       "      <td>0.792429</td>\n",
       "      <td>0.034090</td>\n",
       "      <td>2736</td>\n",
       "      <td>21.305452</td>\n",
       "      <td>49614.321199</td>\n",
       "      <td>y</td>\n",
       "    </tr>\n",
       "    <tr>\n",
       "      <th>205298</th>\n",
       "      <td>0.792429</td>\n",
       "      <td>0.034090</td>\n",
       "      <td>2736</td>\n",
       "      <td>21.330164</td>\n",
       "      <td>49614.328452</td>\n",
       "      <td>y</td>\n",
       "    </tr>\n",
       "    <tr>\n",
       "      <th>206016</th>\n",
       "      <td>0.792429</td>\n",
       "      <td>0.034090</td>\n",
       "      <td>2736</td>\n",
       "      <td>22.140939</td>\n",
       "      <td>49615.243678</td>\n",
       "      <td>z</td>\n",
       "    </tr>\n",
       "    <tr>\n",
       "      <th>...</th>\n",
       "      <td>...</td>\n",
       "      <td>...</td>\n",
       "      <td>...</td>\n",
       "      <td>...</td>\n",
       "      <td>...</td>\n",
       "      <td>...</td>\n",
       "    </tr>\n",
       "    <tr>\n",
       "      <th>234881</th>\n",
       "      <td>0.792429</td>\n",
       "      <td>0.034090</td>\n",
       "      <td>2736</td>\n",
       "      <td>24.859172</td>\n",
       "      <td>49658.134057</td>\n",
       "      <td>g</td>\n",
       "    </tr>\n",
       "    <tr>\n",
       "      <th>235681</th>\n",
       "      <td>0.766063</td>\n",
       "      <td>-0.007846</td>\n",
       "      <td>2626</td>\n",
       "      <td>24.749668</td>\n",
       "      <td>49659.153899</td>\n",
       "      <td>r</td>\n",
       "    </tr>\n",
       "    <tr>\n",
       "      <th>235724</th>\n",
       "      <td>0.766063</td>\n",
       "      <td>-0.007846</td>\n",
       "      <td>2626</td>\n",
       "      <td>24.870040</td>\n",
       "      <td>49659.174081</td>\n",
       "      <td>r</td>\n",
       "    </tr>\n",
       "    <tr>\n",
       "      <th>235779</th>\n",
       "      <td>0.792429</td>\n",
       "      <td>0.034090</td>\n",
       "      <td>2736</td>\n",
       "      <td>24.810938</td>\n",
       "      <td>49659.200348</td>\n",
       "      <td>r</td>\n",
       "    </tr>\n",
       "    <tr>\n",
       "      <th>235805</th>\n",
       "      <td>0.792429</td>\n",
       "      <td>0.034090</td>\n",
       "      <td>2736</td>\n",
       "      <td>25.003929</td>\n",
       "      <td>49659.213078</td>\n",
       "      <td>r</td>\n",
       "    </tr>\n",
       "    <tr>\n",
       "      <th>236380</th>\n",
       "      <td>0.792429</td>\n",
       "      <td>0.034090</td>\n",
       "      <td>2736</td>\n",
       "      <td>24.672432</td>\n",
       "      <td>49660.114418</td>\n",
       "      <td>r</td>\n",
       "    </tr>\n",
       "    <tr>\n",
       "      <th>236383</th>\n",
       "      <td>0.766063</td>\n",
       "      <td>-0.007846</td>\n",
       "      <td>2626</td>\n",
       "      <td>24.723603</td>\n",
       "      <td>49660.115758</td>\n",
       "      <td>r</td>\n",
       "    </tr>\n",
       "    <tr>\n",
       "      <th>236434</th>\n",
       "      <td>0.792429</td>\n",
       "      <td>0.034090</td>\n",
       "      <td>2736</td>\n",
       "      <td>24.834556</td>\n",
       "      <td>49660.139330</td>\n",
       "      <td>r</td>\n",
       "    </tr>\n",
       "    <tr>\n",
       "      <th>236435</th>\n",
       "      <td>0.766063</td>\n",
       "      <td>-0.007846</td>\n",
       "      <td>2626</td>\n",
       "      <td>24.873750</td>\n",
       "      <td>49660.139779</td>\n",
       "      <td>r</td>\n",
       "    </tr>\n",
       "    <tr>\n",
       "      <th>239398</th>\n",
       "      <td>0.820751</td>\n",
       "      <td>-0.011770</td>\n",
       "      <td>2614</td>\n",
       "      <td>22.203249</td>\n",
       "      <td>49671.156527</td>\n",
       "      <td>z</td>\n",
       "    </tr>\n",
       "    <tr>\n",
       "      <th>239435</th>\n",
       "      <td>0.820751</td>\n",
       "      <td>-0.011770</td>\n",
       "      <td>2614</td>\n",
       "      <td>22.180317</td>\n",
       "      <td>49671.173450</td>\n",
       "      <td>z</td>\n",
       "    </tr>\n",
       "    <tr>\n",
       "      <th>243014</th>\n",
       "      <td>0.766063</td>\n",
       "      <td>-0.007846</td>\n",
       "      <td>2626</td>\n",
       "      <td>21.972250</td>\n",
       "      <td>49676.046270</td>\n",
       "      <td>z</td>\n",
       "    </tr>\n",
       "    <tr>\n",
       "      <th>243050</th>\n",
       "      <td>0.766063</td>\n",
       "      <td>-0.007846</td>\n",
       "      <td>2626</td>\n",
       "      <td>22.135084</td>\n",
       "      <td>49676.062418</td>\n",
       "      <td>z</td>\n",
       "    </tr>\n",
       "    <tr>\n",
       "      <th>244790</th>\n",
       "      <td>0.766063</td>\n",
       "      <td>-0.007846</td>\n",
       "      <td>2626</td>\n",
       "      <td>23.350230</td>\n",
       "      <td>49678.204497</td>\n",
       "      <td>i</td>\n",
       "    </tr>\n",
       "    <tr>\n",
       "      <th>248059</th>\n",
       "      <td>0.766063</td>\n",
       "      <td>-0.007846</td>\n",
       "      <td>2626</td>\n",
       "      <td>21.468952</td>\n",
       "      <td>49683.026795</td>\n",
       "      <td>y</td>\n",
       "    </tr>\n",
       "    <tr>\n",
       "      <th>251634</th>\n",
       "      <td>0.820751</td>\n",
       "      <td>-0.011770</td>\n",
       "      <td>2614</td>\n",
       "      <td>22.055549</td>\n",
       "      <td>49688.019271</td>\n",
       "      <td>z</td>\n",
       "    </tr>\n",
       "    <tr>\n",
       "      <th>251666</th>\n",
       "      <td>0.820751</td>\n",
       "      <td>-0.011770</td>\n",
       "      <td>2614</td>\n",
       "      <td>22.080761</td>\n",
       "      <td>49688.033547</td>\n",
       "      <td>z</td>\n",
       "    </tr>\n",
       "    <tr>\n",
       "      <th>251678</th>\n",
       "      <td>0.820751</td>\n",
       "      <td>-0.011770</td>\n",
       "      <td>2614</td>\n",
       "      <td>21.987923</td>\n",
       "      <td>49688.038907</td>\n",
       "      <td>z</td>\n",
       "    </tr>\n",
       "    <tr>\n",
       "      <th>253031</th>\n",
       "      <td>0.820751</td>\n",
       "      <td>-0.011770</td>\n",
       "      <td>2614</td>\n",
       "      <td>22.087834</td>\n",
       "      <td>49690.020969</td>\n",
       "      <td>z</td>\n",
       "    </tr>\n",
       "    <tr>\n",
       "      <th>253033</th>\n",
       "      <td>0.792429</td>\n",
       "      <td>0.034090</td>\n",
       "      <td>2736</td>\n",
       "      <td>22.082767</td>\n",
       "      <td>49690.021864</td>\n",
       "      <td>z</td>\n",
       "    </tr>\n",
       "    <tr>\n",
       "      <th>253068</th>\n",
       "      <td>0.820751</td>\n",
       "      <td>-0.011770</td>\n",
       "      <td>2614</td>\n",
       "      <td>22.107926</td>\n",
       "      <td>49690.037511</td>\n",
       "      <td>z</td>\n",
       "    </tr>\n",
       "    <tr>\n",
       "      <th>253070</th>\n",
       "      <td>0.792429</td>\n",
       "      <td>0.034090</td>\n",
       "      <td>2736</td>\n",
       "      <td>22.043207</td>\n",
       "      <td>49690.038406</td>\n",
       "      <td>z</td>\n",
       "    </tr>\n",
       "    <tr>\n",
       "      <th>253742</th>\n",
       "      <td>0.792429</td>\n",
       "      <td>0.034090</td>\n",
       "      <td>2736</td>\n",
       "      <td>22.222208</td>\n",
       "      <td>49691.024274</td>\n",
       "      <td>z</td>\n",
       "    </tr>\n",
       "    <tr>\n",
       "      <th>253776</th>\n",
       "      <td>0.792429</td>\n",
       "      <td>0.034090</td>\n",
       "      <td>2736</td>\n",
       "      <td>22.464604</td>\n",
       "      <td>49691.039675</td>\n",
       "      <td>z</td>\n",
       "    </tr>\n",
       "    <tr>\n",
       "      <th>254454</th>\n",
       "      <td>0.820751</td>\n",
       "      <td>-0.011770</td>\n",
       "      <td>2614</td>\n",
       "      <td>22.092272</td>\n",
       "      <td>49692.023526</td>\n",
       "      <td>z</td>\n",
       "    </tr>\n",
       "    <tr>\n",
       "      <th>254492</th>\n",
       "      <td>0.820751</td>\n",
       "      <td>-0.011770</td>\n",
       "      <td>2614</td>\n",
       "      <td>22.121867</td>\n",
       "      <td>49692.040515</td>\n",
       "      <td>z</td>\n",
       "    </tr>\n",
       "    <tr>\n",
       "      <th>255888</th>\n",
       "      <td>0.792429</td>\n",
       "      <td>0.034090</td>\n",
       "      <td>2736</td>\n",
       "      <td>21.167007</td>\n",
       "      <td>49694.023357</td>\n",
       "      <td>y</td>\n",
       "    </tr>\n",
       "    <tr>\n",
       "      <th>255893</th>\n",
       "      <td>0.766063</td>\n",
       "      <td>-0.007846</td>\n",
       "      <td>2626</td>\n",
       "      <td>21.201085</td>\n",
       "      <td>49694.025588</td>\n",
       "      <td>y</td>\n",
       "    </tr>\n",
       "    <tr>\n",
       "      <th>266076</th>\n",
       "      <td>0.820751</td>\n",
       "      <td>-0.011770</td>\n",
       "      <td>2614</td>\n",
       "      <td>23.492887</td>\n",
       "      <td>49708.173359</td>\n",
       "      <td>i</td>\n",
       "    </tr>\n",
       "    <tr>\n",
       "      <th>266478</th>\n",
       "      <td>0.766063</td>\n",
       "      <td>-0.007846</td>\n",
       "      <td>2626</td>\n",
       "      <td>21.619843</td>\n",
       "      <td>49709.030331</td>\n",
       "      <td>y</td>\n",
       "    </tr>\n",
       "  </tbody>\n",
       "</table>\n",
       "<p>103 rows × 6 columns</p>\n",
       "</div>"
      ],
      "text/plain": [
       "            fieldRA  fieldDec  fieldID  fiveSigmaDepth        expMJD filter\n",
       "obsHistID                                                                  \n",
       "187059     0.792429  0.034090     2736       21.341876  49585.394674      y\n",
       "187073     0.792429  0.034090     2736       21.393171  49585.401121      y\n",
       "194374     0.792429  0.034090     2736       23.583906  49596.316600      i\n",
       "194421     0.792429  0.034090     2736       23.552233  49596.338125      i\n",
       "195238     0.792429  0.034090     2736       24.757496  49597.273542      g\n",
       "195240     0.766063 -0.007846     2626       24.823001  49597.274437      g\n",
       "195308     0.792429  0.034090     2736       25.102092  49597.307155      g\n",
       "195309     0.766063 -0.007846     2626       25.147792  49597.307604      g\n",
       "196190     0.766063 -0.007846     2626       24.379822  49598.283632      g\n",
       "196191     0.792429  0.034090     2736       24.324589  49598.284081      g\n",
       "196234     0.766063 -0.007846     2626       24.447786  49598.308991      g\n",
       "196236     0.792429  0.034090     2736       24.582029  49598.313019      g\n",
       "196401     0.737881  0.037368     2742       21.772138  49598.416210      z\n",
       "196402     0.766063 -0.007846     2626       21.796638  49598.416659      z\n",
       "196403     0.792429  0.034090     2736       21.784335  49598.417109      z\n",
       "200849     0.792429  0.034090     2736       21.474850  49609.404495      y\n",
       "201724     0.792429  0.034090     2736       22.377414  49610.395337      z\n",
       "201725     0.737881  0.037368     2742       22.362867  49610.395786      z\n",
       "201731     0.766063 -0.007846     2626       22.381839  49610.398466      z\n",
       "201754     0.766063 -0.007846     2626       22.452820  49610.408864      z\n",
       "203413     0.792429  0.034090     2736       21.646022  49612.302750      y\n",
       "203421     0.792429  0.034090     2736       21.648387  49612.306372      y\n",
       "203439     0.792429  0.034090     2736       21.522201  49612.314538      y\n",
       "203455     0.792429  0.034090     2736       21.487602  49612.321829      y\n",
       "203480     0.792429  0.034090     2736       21.780742  49612.335812      y\n",
       "204360     0.792429  0.034090     2736       21.746881  49613.323212      y\n",
       "204375     0.792429  0.034090     2736       21.723283  49613.330322      y\n",
       "205282     0.792429  0.034090     2736       21.305452  49614.321199      y\n",
       "205298     0.792429  0.034090     2736       21.330164  49614.328452      y\n",
       "206016     0.792429  0.034090     2736       22.140939  49615.243678      z\n",
       "...             ...       ...      ...             ...           ...    ...\n",
       "234881     0.792429  0.034090     2736       24.859172  49658.134057      g\n",
       "235681     0.766063 -0.007846     2626       24.749668  49659.153899      r\n",
       "235724     0.766063 -0.007846     2626       24.870040  49659.174081      r\n",
       "235779     0.792429  0.034090     2736       24.810938  49659.200348      r\n",
       "235805     0.792429  0.034090     2736       25.003929  49659.213078      r\n",
       "236380     0.792429  0.034090     2736       24.672432  49660.114418      r\n",
       "236383     0.766063 -0.007846     2626       24.723603  49660.115758      r\n",
       "236434     0.792429  0.034090     2736       24.834556  49660.139330      r\n",
       "236435     0.766063 -0.007846     2626       24.873750  49660.139779      r\n",
       "239398     0.820751 -0.011770     2614       22.203249  49671.156527      z\n",
       "239435     0.820751 -0.011770     2614       22.180317  49671.173450      z\n",
       "243014     0.766063 -0.007846     2626       21.972250  49676.046270      z\n",
       "243050     0.766063 -0.007846     2626       22.135084  49676.062418      z\n",
       "244790     0.766063 -0.007846     2626       23.350230  49678.204497      i\n",
       "248059     0.766063 -0.007846     2626       21.468952  49683.026795      y\n",
       "251634     0.820751 -0.011770     2614       22.055549  49688.019271      z\n",
       "251666     0.820751 -0.011770     2614       22.080761  49688.033547      z\n",
       "251678     0.820751 -0.011770     2614       21.987923  49688.038907      z\n",
       "253031     0.820751 -0.011770     2614       22.087834  49690.020969      z\n",
       "253033     0.792429  0.034090     2736       22.082767  49690.021864      z\n",
       "253068     0.820751 -0.011770     2614       22.107926  49690.037511      z\n",
       "253070     0.792429  0.034090     2736       22.043207  49690.038406      z\n",
       "253742     0.792429  0.034090     2736       22.222208  49691.024274      z\n",
       "253776     0.792429  0.034090     2736       22.464604  49691.039675      z\n",
       "254454     0.820751 -0.011770     2614       22.092272  49692.023526      z\n",
       "254492     0.820751 -0.011770     2614       22.121867  49692.040515      z\n",
       "255888     0.792429  0.034090     2736       21.167007  49694.023357      y\n",
       "255893     0.766063 -0.007846     2626       21.201085  49694.025588      y\n",
       "266076     0.820751 -0.011770     2614       23.492887  49708.173359      i\n",
       "266478     0.766063 -0.007846     2626       21.619843  49709.030331      y\n",
       "\n",
       "[103 rows x 6 columns]"
      ]
     },
     "execution_count": 69,
     "metadata": {},
     "output_type": "execute_result"
    }
   ],
   "source": [
    "opsimout.summary.ix[pointings][['fieldRA', 'fieldDec', 'fieldID', 'fiveSigmaDepth', 'expMJD', 'filter']]"
   ]
  },
  {
   "cell_type": "code",
   "execution_count": 59,
   "metadata": {
    "collapsed": false
   },
   "outputs": [],
   "source": [
    "pointings = simTile.Tiling.pointingSequenceForTile(2, allPointings=None)"
   ]
  },
  {
   "cell_type": "code",
   "execution_count": 39,
   "metadata": {
    "collapsed": false
   },
   "outputs": [
    {
     "data": {
      "text/html": [
       "<div>\n",
       "<table border=\"1\" class=\"dataframe\">\n",
       "  <thead>\n",
       "    <tr style=\"text-align: right;\">\n",
       "      <th></th>\n",
       "      <th>M</th>\n",
       "      <th>Mabs</th>\n",
       "      <th>c</th>\n",
       "      <th>mB</th>\n",
       "      <th>t0</th>\n",
       "      <th>x0</th>\n",
       "      <th>x1</th>\n",
       "      <th>z</th>\n",
       "      <th>ra</th>\n",
       "      <th>dec</th>\n",
       "    </tr>\n",
       "    <tr>\n",
       "      <th>snid</th>\n",
       "      <th></th>\n",
       "      <th></th>\n",
       "      <th></th>\n",
       "      <th></th>\n",
       "      <th></th>\n",
       "      <th></th>\n",
       "      <th></th>\n",
       "      <th></th>\n",
       "      <th></th>\n",
       "      <th></th>\n",
       "    </tr>\n",
       "  </thead>\n",
       "  <tbody>\n",
       "    <tr>\n",
       "      <th>2097152</th>\n",
       "      <td>-0.172234</td>\n",
       "      <td>-19.193721</td>\n",
       "      <td>0.073487</td>\n",
       "      <td>16.966703</td>\n",
       "      <td>0.557888</td>\n",
       "      <td>0.002592</td>\n",
       "      <td>-0.531945</td>\n",
       "      <td>0.037492</td>\n",
       "      <td>40.874748</td>\n",
       "      <td>3.657655</td>\n",
       "    </tr>\n",
       "    <tr>\n",
       "      <th>2097153</th>\n",
       "      <td>0.056920</td>\n",
       "      <td>-19.187167</td>\n",
       "      <td>-0.023738</td>\n",
       "      <td>18.271408</td>\n",
       "      <td>0.829474</td>\n",
       "      <td>0.000778</td>\n",
       "      <td>0.160154</td>\n",
       "      <td>0.066762</td>\n",
       "      <td>41.139171</td>\n",
       "      <td>4.183124</td>\n",
       "    </tr>\n",
       "    <tr>\n",
       "      <th>2097154</th>\n",
       "      <td>0.402092</td>\n",
       "      <td>-18.867247</td>\n",
       "      <td>-0.087259</td>\n",
       "      <td>17.328732</td>\n",
       "      <td>0.269411</td>\n",
       "      <td>0.001861</td>\n",
       "      <td>-1.164548</td>\n",
       "      <td>0.038095</td>\n",
       "      <td>43.627595</td>\n",
       "      <td>4.123643</td>\n",
       "    </tr>\n",
       "    <tr>\n",
       "      <th>2097155</th>\n",
       "      <td>-0.099114</td>\n",
       "      <td>-19.539191</td>\n",
       "      <td>0.025303</td>\n",
       "      <td>12.497307</td>\n",
       "      <td>0.525970</td>\n",
       "      <td>0.158649</td>\n",
       "      <td>0.178738</td>\n",
       "      <td>0.005747</td>\n",
       "      <td>44.264664</td>\n",
       "      <td>4.600741</td>\n",
       "    </tr>\n",
       "    <tr>\n",
       "      <th>2097156</th>\n",
       "      <td>-0.009494</td>\n",
       "      <td>-19.393026</td>\n",
       "      <td>0.026732</td>\n",
       "      <td>15.923752</td>\n",
       "      <td>0.801993</td>\n",
       "      <td>0.006780</td>\n",
       "      <td>-0.676756</td>\n",
       "      <td>0.025644</td>\n",
       "      <td>44.037583</td>\n",
       "      <td>4.858994</td>\n",
       "    </tr>\n",
       "  </tbody>\n",
       "</table>\n",
       "</div>"
      ],
      "text/plain": [
       "                M       Mabs         c         mB        t0        x0  \\\n",
       "snid                                                                    \n",
       "2097152 -0.172234 -19.193721  0.073487  16.966703  0.557888  0.002592   \n",
       "2097153  0.056920 -19.187167 -0.023738  18.271408  0.829474  0.000778   \n",
       "2097154  0.402092 -18.867247 -0.087259  17.328732  0.269411  0.001861   \n",
       "2097155 -0.099114 -19.539191  0.025303  12.497307  0.525970  0.158649   \n",
       "2097156 -0.009494 -19.393026  0.026732  15.923752  0.801993  0.006780   \n",
       "\n",
       "               x1         z         ra       dec  \n",
       "snid                                              \n",
       "2097152 -0.531945  0.037492  40.874748  3.657655  \n",
       "2097153  0.160154  0.066762  41.139171  4.183124  \n",
       "2097154 -1.164548  0.038095  43.627595  4.123643  \n",
       "2097155  0.178738  0.005747  44.264664  4.600741  \n",
       "2097156 -0.676756  0.025644  44.037583  4.858994  "
      ]
     },
     "execution_count": 39,
     "metadata": {},
     "output_type": "execute_result"
    }
   ],
   "source": [
    "ss.head()"
   ]
  },
  {
   "cell_type": "code",
   "execution_count": 40,
   "metadata": {
    "collapsed": true
   },
   "outputs": [],
   "source": [
    "snObj = SNObject(ra=ss.ix[2097152].ra, dec=ss.ix[2097152].dec)"
   ]
  },
  {
   "cell_type": "code",
   "execution_count": 42,
   "metadata": {
    "collapsed": false
   },
   "outputs": [
    {
     "name": "stdout",
     "output_type": "stream",
     "text": [
      "<SNObject at 0x111090550>\n",
      "source:\n",
      "  class      : SALT2Source\n",
      "  name       : 'salt2-extended'\n",
      "  version    : 1.0\n",
      "  phases     : [-20, .., 50] days\n",
      "  wavelengths: [300, .., 18000] Angstroms\n",
      "effect (name='host' frame='rest'):\n",
      "  class           : OD94Dust\n",
      "  wavelength range: [909.09, 33333.3] Angstroms\n",
      "effect (name='mw' frame='obs'):\n",
      "  class           : OD94Dust\n",
      "  wavelength range: [909.09, 33333.3] Angstroms\n",
      "parameters:\n",
      "  z       = 0.0\n",
      "  t0      = 0.0\n",
      "  x0      = 1.0\n",
      "  x1      = 0.0\n",
      "  c       = 0.0\n",
      "  hostebv = 0.0\n",
      "  hostr_v = 3.1000000000000001\n",
      "  mwebv   = 0.0\n",
      "  mwr_v   = 3.1000000000000001\n"
     ]
    }
   ],
   "source": [
    "snObj.set(ss.ix[209])"
   ]
  },
  {
   "cell_type": "code",
   "execution_count": 53,
   "metadata": {
    "collapsed": false
   },
   "outputs": [],
   "source": [
    "mydict = dict()\n",
    "for key in ss.ix[2097152].index.values:\n",
    "    if key in snObj.param_names:\n",
    "        mydict[key] = ss.ix[2097152][key]"
   ]
  },
  {
   "cell_type": "code",
   "execution_count": 52,
   "metadata": {
    "collapsed": false
   },
   "outputs": [
    {
     "data": {
      "text/plain": [
       "array(['M', 'Mabs', 'c', 'mB', 't0', 'x0', 'x1', 'z', 'ra', 'dec'], dtype=object)"
      ]
     },
     "execution_count": 52,
     "metadata": {},
     "output_type": "execute_result"
    }
   ],
   "source": [
    "ss.ix[2097152].index.values"
   ]
  },
  {
   "cell_type": "code",
   "execution_count": 54,
   "metadata": {
    "collapsed": false
   },
   "outputs": [
    {
     "data": {
      "text/plain": [
       "{'c': 0.073486538283977915,\n",
       " 't0': 0.55788769050580311,\n",
       " 'x0': 0.0025923933113910268,\n",
       " 'x1': -0.53194513206142791,\n",
       " 'z': 0.037492301877033854}"
      ]
     },
     "execution_count": 54,
     "metadata": {},
     "output_type": "execute_result"
    }
   ],
   "source": [
    "mydict"
   ]
  },
  {
   "cell_type": "code",
   "execution_count": 55,
   "metadata": {
    "collapsed": false
   },
   "outputs": [],
   "source": [
    "snObj.set(**mydict)"
   ]
  },
  {
   "cell_type": "code",
   "execution_count": null,
   "metadata": {
    "collapsed": true
   },
   "outputs": [],
   "source": []
  },
  {
   "cell_type": "code",
   "execution_count": 42,
   "metadata": {
    "collapsed": false
   },
   "outputs": [
    {
     "data": {
      "text/plain": [
       "<matplotlib.axes._subplots.AxesSubplot at 0x1129cef10>"
      ]
     },
     "execution_count": 42,
     "metadata": {},
     "output_type": "execute_result"
    },
    {
     "data": {
      "image/png": "[encoded data removed]",
      "text/plain": [
       "<matplotlib.figure.Figure at 0x1129395d0>"
      ]
     },
     "metadata": {},
     "output_type": "display_data"
    }
   ],
   "source": [
    "ss.z.hist(histtype='step')"
   ]
  },
  {
   "cell_type": "code",
   "execution_count": 43,
   "metadata": {
    "collapsed": false
   },
   "outputs": [
    {
     "data": {
      "text/plain": [
       "<matplotlib.collections.PolyCollection at 0x112fdd8d0>"
      ]
     },
     "execution_count": 43,
     "metadata": {},
     "output_type": "execute_result"
    },
    {
     "data": {
      "image/png": "[encoded data removed]",
      "text/plain": [
       "<matplotlib.figure.Figure at 0x112f49350>"
      ]
     },
     "metadata": {},
     "output_type": "display_data"
    }
   ],
   "source": [
    "plt.hexbin(ss.ra, ss.dec)"
   ]
  },
  {
   "cell_type": "code",
   "execution_count": 31,
   "metadata": {
    "collapsed": false
   },
   "outputs": [
    {
     "data": {
      "text/plain": [
       "<matplotlib.axes._subplots.AxesSubplot at 0x111ae09d0>"
      ]
     },
     "execution_count": 31,
     "metadata": {},
     "output_type": "execute_result"
    },
    {
     "data": {
      "image/png": "[encoded data removed]",
      "text/plain": [
       "<matplotlib.figure.Figure at 0x111ae02d0>"
      ]
     },
     "metadata": {},
     "output_type": "display_data"
    }
   ],
   "source": [
    "ss.dec.hist(histtype='step')"
   ]
  },
  {
   "cell_type": "code",
   "execution_count": 128,
   "metadata": {
    "collapsed": false
   },
   "outputs": [
    {
     "ename": "AttributeError",
     "evalue": "'DataFrame' object has no attribute 'ra'",
     "output_type": "error",
     "traceback": [
      "\u001b[0;31m---------------------------------------------------------------------------\u001b[0m",
      "\u001b[0;31mAttributeError\u001b[0m                            Traceback (most recent call last)",
      "\u001b[0;32m<ipython-input-128-ccc42765b558>\u001b[0m in \u001b[0;36m<module>\u001b[0;34m()\u001b[0m\n\u001b[0;32m----> 1\u001b[0;31m \u001b[0mss\u001b[0m\u001b[0;34m.\u001b[0m\u001b[0mra\u001b[0m\u001b[0;34m.\u001b[0m\u001b[0mix\u001b[0m\u001b[0;34m[\u001b[0m\u001b[0;36m0\u001b[0m\u001b[0;34m]\u001b[0m\u001b[0;34m\u001b[0m\u001b[0m\n\u001b[0m",
      "\u001b[0;32m/usr/local/software/lib/python2.7/site-packages/pandas/core/generic.pyc\u001b[0m in \u001b[0;36m__getattr__\u001b[0;34m(self, name)\u001b[0m\n\u001b[1;32m   2670\u001b[0m             \u001b[0;32mif\u001b[0m \u001b[0mname\u001b[0m \u001b[0;32min\u001b[0m \u001b[0mself\u001b[0m\u001b[0;34m.\u001b[0m\u001b[0m_info_axis\u001b[0m\u001b[0;34m:\u001b[0m\u001b[0;34m\u001b[0m\u001b[0m\n\u001b[1;32m   2671\u001b[0m                 \u001b[0;32mreturn\u001b[0m \u001b[0mself\u001b[0m\u001b[0;34m[\u001b[0m\u001b[0mname\u001b[0m\u001b[0;34m]\u001b[0m\u001b[0;34m\u001b[0m\u001b[0m\n\u001b[0;32m-> 2672\u001b[0;31m             \u001b[0;32mreturn\u001b[0m \u001b[0mobject\u001b[0m\u001b[0;34m.\u001b[0m\u001b[0m__getattribute__\u001b[0m\u001b[0;34m(\u001b[0m\u001b[0mself\u001b[0m\u001b[0;34m,\u001b[0m \u001b[0mname\u001b[0m\u001b[0;34m)\u001b[0m\u001b[0;34m\u001b[0m\u001b[0m\n\u001b[0m\u001b[1;32m   2673\u001b[0m \u001b[0;34m\u001b[0m\u001b[0m\n\u001b[1;32m   2674\u001b[0m     \u001b[0;32mdef\u001b[0m \u001b[0m__setattr__\u001b[0m\u001b[0;34m(\u001b[0m\u001b[0mself\u001b[0m\u001b[0;34m,\u001b[0m \u001b[0mname\u001b[0m\u001b[0;34m,\u001b[0m \u001b[0mvalue\u001b[0m\u001b[0;34m)\u001b[0m\u001b[0;34m:\u001b[0m\u001b[0;34m\u001b[0m\u001b[0m\n",
      "\u001b[0;31mAttributeError\u001b[0m: 'DataFrame' object has no attribute 'ra'"
     ]
    }
   ],
   "source": [
    "ss.ra.ix[0]"
   ]
  },
  {
   "cell_type": "code",
   "execution_count": 119,
   "metadata": {
    "collapsed": false
   },
   "outputs": [
    {
     "data": {
      "text/html": [
       "<div>\n",
       "<table border=\"1\" class=\"dataframe\">\n",
       "  <thead>\n",
       "    <tr style=\"text-align: right;\">\n",
       "      <th></th>\n",
       "      <th>M</th>\n",
       "      <th>Mabs</th>\n",
       "      <th>c</th>\n",
       "      <th>mB</th>\n",
       "      <th>t0</th>\n",
       "      <th>x0</th>\n",
       "      <th>x1</th>\n",
       "      <th>z</th>\n",
       "    </tr>\n",
       "  </thead>\n",
       "  <tbody>\n",
       "    <tr>\n",
       "      <th>0</th>\n",
       "      <td>-0.277888</td>\n",
       "      <td>-19.383193</td>\n",
       "      <td>0.080845</td>\n",
       "      <td>16.777230</td>\n",
       "      <td>0.192640</td>\n",
       "      <td>3.078120e-03</td>\n",
       "      <td>0.218513</td>\n",
       "      <td>0.037492</td>\n",
       "    </tr>\n",
       "    <tr>\n",
       "      <th>1</th>\n",
       "      <td>-0.351036</td>\n",
       "      <td>-19.781365</td>\n",
       "      <td>0.105987</td>\n",
       "      <td>17.677211</td>\n",
       "      <td>0.917166</td>\n",
       "      <td>1.343638e-03</td>\n",
       "      <td>0.165804</td>\n",
       "      <td>0.066762</td>\n",
       "    </tr>\n",
       "    <tr>\n",
       "      <th>2</th>\n",
       "      <td>0.247270</td>\n",
       "      <td>-19.015754</td>\n",
       "      <td>-0.099019</td>\n",
       "      <td>17.180225</td>\n",
       "      <td>0.015636</td>\n",
       "      <td>2.120422e-03</td>\n",
       "      <td>0.578635</td>\n",
       "      <td>0.038095</td>\n",
       "    </tr>\n",
       "    <tr>\n",
       "      <th>3</th>\n",
       "      <td>-0.190211</td>\n",
       "      <td>-19.750369</td>\n",
       "      <td>0.123533</td>\n",
       "      <td>12.286130</td>\n",
       "      <td>0.042574</td>\n",
       "      <td>1.939202e-01</td>\n",
       "      <td>-1.797110</td>\n",
       "      <td>0.005747</td>\n",
       "    </tr>\n",
       "    <tr>\n",
       "      <th>4</th>\n",
       "      <td>0.158791</td>\n",
       "      <td>-19.220540</td>\n",
       "      <td>-0.067292</td>\n",
       "      <td>16.096238</td>\n",
       "      <td>0.245332</td>\n",
       "      <td>5.758305e-03</td>\n",
       "      <td>0.477328</td>\n",
       "      <td>0.025644</td>\n",
       "    </tr>\n",
       "    <tr>\n",
       "      <th>5</th>\n",
       "      <td>-0.288393</td>\n",
       "      <td>-19.472536</td>\n",
       "      <td>0.057160</td>\n",
       "      <td>17.727202</td>\n",
       "      <td>0.782295</td>\n",
       "      <td>1.279627e-03</td>\n",
       "      <td>0.990104</td>\n",
       "      <td>0.059560</td>\n",
       "    </tr>\n",
       "    <tr>\n",
       "      <th>6</th>\n",
       "      <td>0.006882</td>\n",
       "      <td>-19.441654</td>\n",
       "      <td>0.035016</td>\n",
       "      <td>16.104269</td>\n",
       "      <td>0.047289</td>\n",
       "      <td>5.748751e-03</td>\n",
       "      <td>-1.062122</td>\n",
       "      <td>0.028439</td>\n",
       "    </tr>\n",
       "    <tr>\n",
       "      <th>7</th>\n",
       "      <td>0.320966</td>\n",
       "      <td>-19.137254</td>\n",
       "      <td>-0.086276</td>\n",
       "      <td>18.490193</td>\n",
       "      <td>0.223354</td>\n",
       "      <td>6.370129e-04</td>\n",
       "      <td>-0.455084</td>\n",
       "      <td>0.071904</td>\n",
       "    </tr>\n",
       "    <tr>\n",
       "      <th>8</th>\n",
       "      <td>-0.437145</td>\n",
       "      <td>-19.731452</td>\n",
       "      <td>0.222073</td>\n",
       "      <td>18.340214</td>\n",
       "      <td>0.333372</td>\n",
       "      <td>7.346587e-04</td>\n",
       "      <td>-2.365134</td>\n",
       "      <td>0.087302</td>\n",
       "    </tr>\n",
       "    <tr>\n",
       "      <th>9</th>\n",
       "      <td>0.359724</td>\n",
       "      <td>-18.642377</td>\n",
       "      <td>-0.090541</td>\n",
       "      <td>19.072094</td>\n",
       "      <td>0.734712</td>\n",
       "      <td>3.730201e-04</td>\n",
       "      <td>-0.685680</td>\n",
       "      <td>0.074700</td>\n",
       "    </tr>\n",
       "    <tr>\n",
       "      <th>10</th>\n",
       "      <td>0.067852</td>\n",
       "      <td>-19.232065</td>\n",
       "      <td>0.009348</td>\n",
       "      <td>19.932374</td>\n",
       "      <td>0.397554</td>\n",
       "      <td>1.690771e-04</td>\n",
       "      <td>-0.883674</td>\n",
       "      <td>0.139570</td>\n",
       "    </tr>\n",
       "    <tr>\n",
       "      <th>11</th>\n",
       "      <td>-0.500698</td>\n",
       "      <td>-19.712495</td>\n",
       "      <td>0.157190</td>\n",
       "      <td>19.424226</td>\n",
       "      <td>0.782596</td>\n",
       "      <td>2.687579e-04</td>\n",
       "      <td>0.064733</td>\n",
       "      <td>0.137941</td>\n",
       "    </tr>\n",
       "    <tr>\n",
       "      <th>12</th>\n",
       "      <td>-0.226028</td>\n",
       "      <td>-19.465764</td>\n",
       "      <td>0.030242</td>\n",
       "      <td>19.458233</td>\n",
       "      <td>0.266482</td>\n",
       "      <td>2.596374e-04</td>\n",
       "      <td>1.191536</td>\n",
       "      <td>0.126018</td>\n",
       "    </tr>\n",
       "    <tr>\n",
       "      <th>13</th>\n",
       "      <td>0.247713</td>\n",
       "      <td>-19.136416</td>\n",
       "      <td>-0.086172</td>\n",
       "      <td>19.514480</td>\n",
       "      <td>0.556925</td>\n",
       "      <td>2.473878e-04</td>\n",
       "      <td>0.207892</td>\n",
       "      <td>0.112127</td>\n",
       "    </tr>\n",
       "    <tr>\n",
       "      <th>14</th>\n",
       "      <td>-0.047285</td>\n",
       "      <td>-19.216028</td>\n",
       "      <td>0.066580</td>\n",
       "      <td>19.661530</td>\n",
       "      <td>0.774130</td>\n",
       "      <td>2.173767e-04</td>\n",
       "      <td>-1.470689</td>\n",
       "      <td>0.123547</td>\n",
       "    </tr>\n",
       "    <tr>\n",
       "      <th>15</th>\n",
       "      <td>-0.311997</td>\n",
       "      <td>-19.640943</td>\n",
       "      <td>0.095256</td>\n",
       "      <td>18.282531</td>\n",
       "      <td>0.147097</td>\n",
       "      <td>7.696191e-04</td>\n",
       "      <td>0.117202</td>\n",
       "      <td>0.081846</td>\n",
       "    </tr>\n",
       "    <tr>\n",
       "      <th>16</th>\n",
       "      <td>-0.300649</td>\n",
       "      <td>-19.710175</td>\n",
       "      <td>0.129031</td>\n",
       "      <td>18.444582</td>\n",
       "      <td>0.853044</td>\n",
       "      <td>6.652030e-04</td>\n",
       "      <td>-0.950074</td>\n",
       "      <td>0.090512</td>\n",
       "    </tr>\n",
       "    <tr>\n",
       "      <th>17</th>\n",
       "      <td>0.215339</td>\n",
       "      <td>-19.091920</td>\n",
       "      <td>-0.161749</td>\n",
       "      <td>19.443190</td>\n",
       "      <td>0.257458</td>\n",
       "      <td>2.611869e-04</td>\n",
       "      <td>2.659582</td>\n",
       "      <td>0.106685</td>\n",
       "    </tr>\n",
       "    <tr>\n",
       "      <th>18</th>\n",
       "      <td>-0.136113</td>\n",
       "      <td>-19.408426</td>\n",
       "      <td>-0.001707</td>\n",
       "      <td>18.857084</td>\n",
       "      <td>0.112410</td>\n",
       "      <td>4.515182e-04</td>\n",
       "      <td>1.286130</td>\n",
       "      <td>0.094964</td>\n",
       "    </tr>\n",
       "    <tr>\n",
       "      <th>19</th>\n",
       "      <td>-0.605268</td>\n",
       "      <td>-20.070655</td>\n",
       "      <td>0.144772</td>\n",
       "      <td>17.597444</td>\n",
       "      <td>0.321298</td>\n",
       "      <td>1.438689e-03</td>\n",
       "      <td>1.369842</td>\n",
       "      <td>0.073198</td>\n",
       "    </tr>\n",
       "    <tr>\n",
       "      <th>20</th>\n",
       "      <td>-0.370862</td>\n",
       "      <td>-19.683125</td>\n",
       "      <td>0.089914</td>\n",
       "      <td>19.468610</td>\n",
       "      <td>0.424846</td>\n",
       "      <td>2.574775e-04</td>\n",
       "      <td>0.804840</td>\n",
       "      <td>0.138821</td>\n",
       "    </tr>\n",
       "    <tr>\n",
       "      <th>21</th>\n",
       "      <td>-0.247948</td>\n",
       "      <td>-19.855919</td>\n",
       "      <td>0.077096</td>\n",
       "      <td>18.549723</td>\n",
       "      <td>0.036047</td>\n",
       "      <td>6.019560e-04</td>\n",
       "      <td>0.053329</td>\n",
       "      <td>0.100895</td>\n",
       "    </tr>\n",
       "    <tr>\n",
       "      <th>22</th>\n",
       "      <td>-0.108503</td>\n",
       "      <td>-19.273756</td>\n",
       "      <td>0.105129</td>\n",
       "      <td>19.230565</td>\n",
       "      <td>0.774786</td>\n",
       "      <td>3.237848e-04</td>\n",
       "      <td>-2.014570</td>\n",
       "      <td>0.105280</td>\n",
       "    </tr>\n",
       "    <tr>\n",
       "      <th>23</th>\n",
       "      <td>0.761146</td>\n",
       "      <td>-18.519220</td>\n",
       "      <td>-0.189076</td>\n",
       "      <td>19.689310</td>\n",
       "      <td>0.260755</td>\n",
       "      <td>2.116325e-04</td>\n",
       "      <td>-1.522254</td>\n",
       "      <td>0.092648</td>\n",
       "    </tr>\n",
       "    <tr>\n",
       "      <th>24</th>\n",
       "      <td>0.349584</td>\n",
       "      <td>-19.007097</td>\n",
       "      <td>-0.131288</td>\n",
       "      <td>19.087632</td>\n",
       "      <td>0.902290</td>\n",
       "      <td>3.658652e-04</td>\n",
       "      <td>0.569649</td>\n",
       "      <td>0.088182</td>\n",
       "    </tr>\n",
       "    <tr>\n",
       "      <th>25</th>\n",
       "      <td>0.171881</td>\n",
       "      <td>-18.935203</td>\n",
       "      <td>-0.066535</td>\n",
       "      <td>19.381290</td>\n",
       "      <td>0.063009</td>\n",
       "      <td>2.795805e-04</td>\n",
       "      <td>0.336721</td>\n",
       "      <td>0.097082</td>\n",
       "    </tr>\n",
       "    <tr>\n",
       "      <th>26</th>\n",
       "      <td>0.109375</td>\n",
       "      <td>-19.319587</td>\n",
       "      <td>-0.015104</td>\n",
       "      <td>19.645468</td>\n",
       "      <td>0.448599</td>\n",
       "      <td>2.199642e-04</td>\n",
       "      <td>-0.563151</td>\n",
       "      <td>0.128241</td>\n",
       "    </tr>\n",
       "    <tr>\n",
       "      <th>27</th>\n",
       "      <td>0.019211</td>\n",
       "      <td>-18.993927</td>\n",
       "      <td>0.013857</td>\n",
       "      <td>19.845883</td>\n",
       "      <td>0.663491</td>\n",
       "      <td>1.828928e-04</td>\n",
       "      <td>-0.570184</td>\n",
       "      <td>0.121572</td>\n",
       "    </tr>\n",
       "    <tr>\n",
       "      <th>28</th>\n",
       "      <td>0.444718</td>\n",
       "      <td>-18.624932</td>\n",
       "      <td>-0.065392</td>\n",
       "      <td>19.678726</td>\n",
       "      <td>0.149713</td>\n",
       "      <td>2.144910e-04</td>\n",
       "      <td>-2.176251</td>\n",
       "      <td>0.096545</td>\n",
       "    </tr>\n",
       "    <tr>\n",
       "      <th>29</th>\n",
       "      <td>-0.171293</td>\n",
       "      <td>-19.468727</td>\n",
       "      <td>0.028549</td>\n",
       "      <td>18.127034</td>\n",
       "      <td>0.058665</td>\n",
       "      <td>8.863778e-04</td>\n",
       "      <td>0.742279</td>\n",
       "      <td>0.070911</td>\n",
       "    </tr>\n",
       "    <tr>\n",
       "      <th>...</th>\n",
       "      <td>...</td>\n",
       "      <td>...</td>\n",
       "      <td>...</td>\n",
       "      <td>...</td>\n",
       "      <td>...</td>\n",
       "      <td>...</td>\n",
       "      <td>...</td>\n",
       "      <td>...</td>\n",
       "    </tr>\n",
       "    <tr>\n",
       "      <th>69772</th>\n",
       "      <td>-0.388521</td>\n",
       "      <td>-19.574390</td>\n",
       "      <td>0.077482</td>\n",
       "      <td>25.414506</td>\n",
       "      <td>0.498294</td>\n",
       "      <td>1.075304e-06</td>\n",
       "      <td>1.320255</td>\n",
       "      <td>1.362722</td>\n",
       "    </tr>\n",
       "    <tr>\n",
       "      <th>69773</th>\n",
       "      <td>-0.052506</td>\n",
       "      <td>-19.163066</td>\n",
       "      <td>0.037241</td>\n",
       "      <td>25.773485</td>\n",
       "      <td>0.555214</td>\n",
       "      <td>7.783135e-07</td>\n",
       "      <td>-0.585733</td>\n",
       "      <td>1.336335</td>\n",
       "    </tr>\n",
       "    <tr>\n",
       "      <th>69774</th>\n",
       "      <td>0.387316</td>\n",
       "      <td>-18.722915</td>\n",
       "      <td>-0.136572</td>\n",
       "      <td>26.271172</td>\n",
       "      <td>0.961061</td>\n",
       "      <td>4.899972e-07</td>\n",
       "      <td>0.377461</td>\n",
       "      <td>1.365368</td>\n",
       "    </tr>\n",
       "    <tr>\n",
       "      <th>69775</th>\n",
       "      <td>0.268600</td>\n",
       "      <td>-19.024135</td>\n",
       "      <td>-0.081363</td>\n",
       "      <td>26.014187</td>\n",
       "      <td>0.264630</td>\n",
       "      <td>6.223541e-07</td>\n",
       "      <td>-0.119280</td>\n",
       "      <td>1.388122</td>\n",
       "    </tr>\n",
       "    <tr>\n",
       "      <th>69776</th>\n",
       "      <td>0.087319</td>\n",
       "      <td>-19.300669</td>\n",
       "      <td>-0.033597</td>\n",
       "      <td>25.627969</td>\n",
       "      <td>0.583153</td>\n",
       "      <td>8.875281e-07</td>\n",
       "      <td>0.165216</td>\n",
       "      <td>1.332392</td>\n",
       "    </tr>\n",
       "    <tr>\n",
       "      <th>69777</th>\n",
       "      <td>-0.302569</td>\n",
       "      <td>-19.575877</td>\n",
       "      <td>0.071767</td>\n",
       "      <td>25.467937</td>\n",
       "      <td>0.304019</td>\n",
       "      <td>1.026218e-06</td>\n",
       "      <td>0.701997</td>\n",
       "      <td>1.390973</td>\n",
       "    </tr>\n",
       "    <tr>\n",
       "      <th>69778</th>\n",
       "      <td>0.380749</td>\n",
       "      <td>-18.792115</td>\n",
       "      <td>-0.140864</td>\n",
       "      <td>26.264444</td>\n",
       "      <td>0.509368</td>\n",
       "      <td>4.926733e-07</td>\n",
       "      <td>0.559656</td>\n",
       "      <td>1.397614</td>\n",
       "    </tr>\n",
       "    <tr>\n",
       "      <th>69779</th>\n",
       "      <td>0.421266</td>\n",
       "      <td>-18.886569</td>\n",
       "      <td>-0.186602</td>\n",
       "      <td>26.172166</td>\n",
       "      <td>0.348969</td>\n",
       "      <td>5.339890e-07</td>\n",
       "      <td>1.496961</td>\n",
       "      <td>1.398751</td>\n",
       "    </tr>\n",
       "    <tr>\n",
       "      <th>69780</th>\n",
       "      <td>-0.601684</td>\n",
       "      <td>-19.834943</td>\n",
       "      <td>0.229117</td>\n",
       "      <td>25.148399</td>\n",
       "      <td>0.938797</td>\n",
       "      <td>1.383121e-06</td>\n",
       "      <td>-1.070379</td>\n",
       "      <td>1.359897</td>\n",
       "    </tr>\n",
       "    <tr>\n",
       "      <th>69781</th>\n",
       "      <td>-0.458299</td>\n",
       "      <td>-19.469629</td>\n",
       "      <td>0.156303</td>\n",
       "      <td>25.533773</td>\n",
       "      <td>0.929159</td>\n",
       "      <td>9.685310e-07</td>\n",
       "      <td>-0.295381</td>\n",
       "      <td>1.370127</td>\n",
       "    </tr>\n",
       "    <tr>\n",
       "      <th>69782</th>\n",
       "      <td>0.393854</td>\n",
       "      <td>-19.190267</td>\n",
       "      <td>-0.215738</td>\n",
       "      <td>25.815071</td>\n",
       "      <td>0.024828</td>\n",
       "      <td>7.378499e-07</td>\n",
       "      <td>2.577840</td>\n",
       "      <td>1.371118</td>\n",
       "    </tr>\n",
       "    <tr>\n",
       "      <th>69783</th>\n",
       "      <td>0.042406</td>\n",
       "      <td>-19.375941</td>\n",
       "      <td>-0.031435</td>\n",
       "      <td>25.591418</td>\n",
       "      <td>0.570008</td>\n",
       "      <td>9.167275e-07</td>\n",
       "      <td>0.511821</td>\n",
       "      <td>1.351802</td>\n",
       "    </tr>\n",
       "    <tr>\n",
       "      <th>69784</th>\n",
       "      <td>-0.194608</td>\n",
       "      <td>-19.186644</td>\n",
       "      <td>0.007886</td>\n",
       "      <td>25.746767</td>\n",
       "      <td>0.184389</td>\n",
       "      <td>7.912917e-07</td>\n",
       "      <td>1.544061</td>\n",
       "      <td>1.334769</td>\n",
       "    </tr>\n",
       "    <tr>\n",
       "      <th>69785</th>\n",
       "      <td>-0.305197</td>\n",
       "      <td>-19.402761</td>\n",
       "      <td>0.063171</td>\n",
       "      <td>25.577427</td>\n",
       "      <td>0.055973</td>\n",
       "      <td>9.268542e-07</td>\n",
       "      <td>0.971278</td>\n",
       "      <td>1.358296</td>\n",
       "    </tr>\n",
       "    <tr>\n",
       "      <th>69786</th>\n",
       "      <td>0.317449</td>\n",
       "      <td>-19.036033</td>\n",
       "      <td>-0.117333</td>\n",
       "      <td>25.953835</td>\n",
       "      <td>0.276358</td>\n",
       "      <td>6.562772e-07</td>\n",
       "      <td>0.463418</td>\n",
       "      <td>1.363217</td>\n",
       "    </tr>\n",
       "    <tr>\n",
       "      <th>69787</th>\n",
       "      <td>-0.674798</td>\n",
       "      <td>-19.652815</td>\n",
       "      <td>0.215445</td>\n",
       "      <td>25.405560</td>\n",
       "      <td>0.480804</td>\n",
       "      <td>1.087696e-06</td>\n",
       "      <td>-0.015458</td>\n",
       "      <td>1.398563</td>\n",
       "    </tr>\n",
       "    <tr>\n",
       "      <th>69788</th>\n",
       "      <td>0.080829</td>\n",
       "      <td>-19.079826</td>\n",
       "      <td>-0.070114</td>\n",
       "      <td>25.977244</td>\n",
       "      <td>0.648973</td>\n",
       "      <td>6.405274e-07</td>\n",
       "      <td>1.266612</td>\n",
       "      <td>1.397881</td>\n",
       "    </tr>\n",
       "    <tr>\n",
       "      <th>69789</th>\n",
       "      <td>0.249279</td>\n",
       "      <td>-19.202700</td>\n",
       "      <td>-0.097536</td>\n",
       "      <td>25.785947</td>\n",
       "      <td>0.850720</td>\n",
       "      <td>7.660198e-07</td>\n",
       "      <td>0.518042</td>\n",
       "      <td>1.362595</td>\n",
       "    </tr>\n",
       "    <tr>\n",
       "      <th>69790</th>\n",
       "      <td>0.532804</td>\n",
       "      <td>-18.810910</td>\n",
       "      <td>-0.186179</td>\n",
       "      <td>26.137618</td>\n",
       "      <td>0.684613</td>\n",
       "      <td>5.535198e-07</td>\n",
       "      <td>0.470899</td>\n",
       "      <td>1.342327</td>\n",
       "    </tr>\n",
       "    <tr>\n",
       "      <th>69791</th>\n",
       "      <td>0.313382</td>\n",
       "      <td>-19.029888</td>\n",
       "      <td>-0.082609</td>\n",
       "      <td>25.932319</td>\n",
       "      <td>0.269472</td>\n",
       "      <td>6.719957e-07</td>\n",
       "      <td>-0.490809</td>\n",
       "      <td>1.349202</td>\n",
       "    </tr>\n",
       "    <tr>\n",
       "      <th>69792</th>\n",
       "      <td>0.116709</td>\n",
       "      <td>-19.193349</td>\n",
       "      <td>-0.053881</td>\n",
       "      <td>25.795883</td>\n",
       "      <td>0.533166</td>\n",
       "      <td>7.594007e-07</td>\n",
       "      <td>0.477061</td>\n",
       "      <td>1.362893</td>\n",
       "    </tr>\n",
       "    <tr>\n",
       "      <th>69793</th>\n",
       "      <td>0.001266</td>\n",
       "      <td>-19.272627</td>\n",
       "      <td>-0.020902</td>\n",
       "      <td>25.707026</td>\n",
       "      <td>0.743978</td>\n",
       "      <td>8.239257e-07</td>\n",
       "      <td>0.585159</td>\n",
       "      <td>1.358024</td>\n",
       "    </tr>\n",
       "    <tr>\n",
       "      <th>69794</th>\n",
       "      <td>-0.427050</td>\n",
       "      <td>-19.724813</td>\n",
       "      <td>0.211872</td>\n",
       "      <td>25.319152</td>\n",
       "      <td>0.206614</td>\n",
       "      <td>1.186640e-06</td>\n",
       "      <td>-2.165708</td>\n",
       "      <td>1.391052</td>\n",
       "    </tr>\n",
       "    <tr>\n",
       "      <th>69795</th>\n",
       "      <td>0.263133</td>\n",
       "      <td>-18.847040</td>\n",
       "      <td>-0.126052</td>\n",
       "      <td>26.162176</td>\n",
       "      <td>0.432544</td>\n",
       "      <td>5.400598e-07</td>\n",
       "      <td>1.206096</td>\n",
       "      <td>1.373107</td>\n",
       "    </tr>\n",
       "    <tr>\n",
       "      <th>69796</th>\n",
       "      <td>0.468168</td>\n",
       "      <td>-18.634347</td>\n",
       "      <td>-0.095418</td>\n",
       "      <td>26.390075</td>\n",
       "      <td>0.286079</td>\n",
       "      <td>4.424022e-07</td>\n",
       "      <td>-1.532318</td>\n",
       "      <td>1.380930</td>\n",
       "    </tr>\n",
       "    <tr>\n",
       "      <th>69797</th>\n",
       "      <td>0.593741</td>\n",
       "      <td>-18.864437</td>\n",
       "      <td>-0.153370</td>\n",
       "      <td>26.149996</td>\n",
       "      <td>0.387212</td>\n",
       "      <td>5.505302e-07</td>\n",
       "      <td>-1.019623</td>\n",
       "      <td>1.375786</td>\n",
       "    </tr>\n",
       "    <tr>\n",
       "      <th>69798</th>\n",
       "      <td>-0.115211</td>\n",
       "      <td>-19.470031</td>\n",
       "      <td>0.069677</td>\n",
       "      <td>25.585765</td>\n",
       "      <td>0.843383</td>\n",
       "      <td>9.262212e-07</td>\n",
       "      <td>-0.941589</td>\n",
       "      <td>1.397216</td>\n",
       "    </tr>\n",
       "    <tr>\n",
       "      <th>69799</th>\n",
       "      <td>0.012271</td>\n",
       "      <td>-19.311479</td>\n",
       "      <td>-0.077290</td>\n",
       "      <td>25.622645</td>\n",
       "      <td>0.211671</td>\n",
       "      <td>8.847044e-07</td>\n",
       "      <td>2.094730</td>\n",
       "      <td>1.335124</td>\n",
       "    </tr>\n",
       "    <tr>\n",
       "      <th>69800</th>\n",
       "      <td>-0.434992</td>\n",
       "      <td>-19.733681</td>\n",
       "      <td>0.141376</td>\n",
       "      <td>25.292332</td>\n",
       "      <td>0.953736</td>\n",
       "      <td>1.209056e-06</td>\n",
       "      <td>-0.081171</td>\n",
       "      <td>1.381751</td>\n",
       "    </tr>\n",
       "    <tr>\n",
       "      <th>69801</th>\n",
       "      <td>-0.175239</td>\n",
       "      <td>-19.476710</td>\n",
       "      <td>0.086097</td>\n",
       "      <td>25.516713</td>\n",
       "      <td>0.956131</td>\n",
       "      <td>9.866546e-07</td>\n",
       "      <td>-0.864586</td>\n",
       "      <td>1.365028</td>\n",
       "    </tr>\n",
       "  </tbody>\n",
       "</table>\n",
       "<p>69802 rows × 8 columns</p>\n",
       "</div>"
      ],
      "text/plain": [
       "              M       Mabs         c         mB        t0            x0  \\\n",
       "0     -0.277888 -19.383193  0.080845  16.777230  0.192640  3.078120e-03   \n",
       "1     -0.351036 -19.781365  0.105987  17.677211  0.917166  1.343638e-03   \n",
       "2      0.247270 -19.015754 -0.099019  17.180225  0.015636  2.120422e-03   \n",
       "3     -0.190211 -19.750369  0.123533  12.286130  0.042574  1.939202e-01   \n",
       "4      0.158791 -19.220540 -0.067292  16.096238  0.245332  5.758305e-03   \n",
       "5     -0.288393 -19.472536  0.057160  17.727202  0.782295  1.279627e-03   \n",
       "6      0.006882 -19.441654  0.035016  16.104269  0.047289  5.748751e-03   \n",
       "7      0.320966 -19.137254 -0.086276  18.490193  0.223354  6.370129e-04   \n",
       "8     -0.437145 -19.731452  0.222073  18.340214  0.333372  7.346587e-04   \n",
       "9      0.359724 -18.642377 -0.090541  19.072094  0.734712  3.730201e-04   \n",
       "10     0.067852 -19.232065  0.009348  19.932374  0.397554  1.690771e-04   \n",
       "11    -0.500698 -19.712495  0.157190  19.424226  0.782596  2.687579e-04   \n",
       "12    -0.226028 -19.465764  0.030242  19.458233  0.266482  2.596374e-04   \n",
       "13     0.247713 -19.136416 -0.086172  19.514480  0.556925  2.473878e-04   \n",
       "14    -0.047285 -19.216028  0.066580  19.661530  0.774130  2.173767e-04   \n",
       "15    -0.311997 -19.640943  0.095256  18.282531  0.147097  7.696191e-04   \n",
       "16    -0.300649 -19.710175  0.129031  18.444582  0.853044  6.652030e-04   \n",
       "17     0.215339 -19.091920 -0.161749  19.443190  0.257458  2.611869e-04   \n",
       "18    -0.136113 -19.408426 -0.001707  18.857084  0.112410  4.515182e-04   \n",
       "19    -0.605268 -20.070655  0.144772  17.597444  0.321298  1.438689e-03   \n",
       "20    -0.370862 -19.683125  0.089914  19.468610  0.424846  2.574775e-04   \n",
       "21    -0.247948 -19.855919  0.077096  18.549723  0.036047  6.019560e-04   \n",
       "22    -0.108503 -19.273756  0.105129  19.230565  0.774786  3.237848e-04   \n",
       "23     0.761146 -18.519220 -0.189076  19.689310  0.260755  2.116325e-04   \n",
       "24     0.349584 -19.007097 -0.131288  19.087632  0.902290  3.658652e-04   \n",
       "25     0.171881 -18.935203 -0.066535  19.381290  0.063009  2.795805e-04   \n",
       "26     0.109375 -19.319587 -0.015104  19.645468  0.448599  2.199642e-04   \n",
       "27     0.019211 -18.993927  0.013857  19.845883  0.663491  1.828928e-04   \n",
       "28     0.444718 -18.624932 -0.065392  19.678726  0.149713  2.144910e-04   \n",
       "29    -0.171293 -19.468727  0.028549  18.127034  0.058665  8.863778e-04   \n",
       "...         ...        ...       ...        ...       ...           ...   \n",
       "69772 -0.388521 -19.574390  0.077482  25.414506  0.498294  1.075304e-06   \n",
       "69773 -0.052506 -19.163066  0.037241  25.773485  0.555214  7.783135e-07   \n",
       "69774  0.387316 -18.722915 -0.136572  26.271172  0.961061  4.899972e-07   \n",
       "69775  0.268600 -19.024135 -0.081363  26.014187  0.264630  6.223541e-07   \n",
       "69776  0.087319 -19.300669 -0.033597  25.627969  0.583153  8.875281e-07   \n",
       "69777 -0.302569 -19.575877  0.071767  25.467937  0.304019  1.026218e-06   \n",
       "69778  0.380749 -18.792115 -0.140864  26.264444  0.509368  4.926733e-07   \n",
       "69779  0.421266 -18.886569 -0.186602  26.172166  0.348969  5.339890e-07   \n",
       "69780 -0.601684 -19.834943  0.229117  25.148399  0.938797  1.383121e-06   \n",
       "69781 -0.458299 -19.469629  0.156303  25.533773  0.929159  9.685310e-07   \n",
       "69782  0.393854 -19.190267 -0.215738  25.815071  0.024828  7.378499e-07   \n",
       "69783  0.042406 -19.375941 -0.031435  25.591418  0.570008  9.167275e-07   \n",
       "69784 -0.194608 -19.186644  0.007886  25.746767  0.184389  7.912917e-07   \n",
       "69785 -0.305197 -19.402761  0.063171  25.577427  0.055973  9.268542e-07   \n",
       "69786  0.317449 -19.036033 -0.117333  25.953835  0.276358  6.562772e-07   \n",
       "69787 -0.674798 -19.652815  0.215445  25.405560  0.480804  1.087696e-06   \n",
       "69788  0.080829 -19.079826 -0.070114  25.977244  0.648973  6.405274e-07   \n",
       "69789  0.249279 -19.202700 -0.097536  25.785947  0.850720  7.660198e-07   \n",
       "69790  0.532804 -18.810910 -0.186179  26.137618  0.684613  5.535198e-07   \n",
       "69791  0.313382 -19.029888 -0.082609  25.932319  0.269472  6.719957e-07   \n",
       "69792  0.116709 -19.193349 -0.053881  25.795883  0.533166  7.594007e-07   \n",
       "69793  0.001266 -19.272627 -0.020902  25.707026  0.743978  8.239257e-07   \n",
       "69794 -0.427050 -19.724813  0.211872  25.319152  0.206614  1.186640e-06   \n",
       "69795  0.263133 -18.847040 -0.126052  26.162176  0.432544  5.400598e-07   \n",
       "69796  0.468168 -18.634347 -0.095418  26.390075  0.286079  4.424022e-07   \n",
       "69797  0.593741 -18.864437 -0.153370  26.149996  0.387212  5.505302e-07   \n",
       "69798 -0.115211 -19.470031  0.069677  25.585765  0.843383  9.262212e-07   \n",
       "69799  0.012271 -19.311479 -0.077290  25.622645  0.211671  8.847044e-07   \n",
       "69800 -0.434992 -19.733681  0.141376  25.292332  0.953736  1.209056e-06   \n",
       "69801 -0.175239 -19.476710  0.086097  25.516713  0.956131  9.866546e-07   \n",
       "\n",
       "             x1         z  \n",
       "0      0.218513  0.037492  \n",
       "1      0.165804  0.066762  \n",
       "2      0.578635  0.038095  \n",
       "3     -1.797110  0.005747  \n",
       "4      0.477328  0.025644  \n",
       "5      0.990104  0.059560  \n",
       "6     -1.062122  0.028439  \n",
       "7     -0.455084  0.071904  \n",
       "8     -2.365134  0.087302  \n",
       "9     -0.685680  0.074700  \n",
       "10    -0.883674  0.139570  \n",
       "11     0.064733  0.137941  \n",
       "12     1.191536  0.126018  \n",
       "13     0.207892  0.112127  \n",
       "14    -1.470689  0.123547  \n",
       "15     0.117202  0.081846  \n",
       "16    -0.950074  0.090512  \n",
       "17     2.659582  0.106685  \n",
       "18     1.286130  0.094964  \n",
       "19     1.369842  0.073198  \n",
       "20     0.804840  0.138821  \n",
       "21     0.053329  0.100895  \n",
       "22    -2.014570  0.105280  \n",
       "23    -1.522254  0.092648  \n",
       "24     0.569649  0.088182  \n",
       "25     0.336721  0.097082  \n",
       "26    -0.563151  0.128241  \n",
       "27    -0.570184  0.121572  \n",
       "28    -2.176251  0.096545  \n",
       "29     0.742279  0.070911  \n",
       "...         ...       ...  \n",
       "69772  1.320255  1.362722  \n",
       "69773 -0.585733  1.336335  \n",
       "69774  0.377461  1.365368  \n",
       "69775 -0.119280  1.388122  \n",
       "69776  0.165216  1.332392  \n",
       "69777  0.701997  1.390973  \n",
       "69778  0.559656  1.397614  \n",
       "69779  1.496961  1.398751  \n",
       "69780 -1.070379  1.359897  \n",
       "69781 -0.295381  1.370127  \n",
       "69782  2.577840  1.371118  \n",
       "69783  0.511821  1.351802  \n",
       "69784  1.544061  1.334769  \n",
       "69785  0.971278  1.358296  \n",
       "69786  0.463418  1.363217  \n",
       "69787 -0.015458  1.398563  \n",
       "69788  1.266612  1.397881  \n",
       "69789  0.518042  1.362595  \n",
       "69790  0.470899  1.342327  \n",
       "69791 -0.490809  1.349202  \n",
       "69792  0.477061  1.362893  \n",
       "69793  0.585159  1.358024  \n",
       "69794 -2.165708  1.391052  \n",
       "69795  1.206096  1.373107  \n",
       "69796 -1.532318  1.380930  \n",
       "69797 -1.019623  1.375786  \n",
       "69798 -0.941589  1.397216  \n",
       "69799  2.094730  1.335124  \n",
       "69800 -0.081171  1.381751  \n",
       "69801 -0.864586  1.365028  \n",
       "\n",
       "[69802 rows x 8 columns]"
      ]
     },
     "execution_count": 119,
     "metadata": {},
     "output_type": "execute_result"
    }
   ],
   "source": [
    "sp.paramSamples"
   ]
  },
  {
   "cell_type": "code",
   "execution_count": 115,
   "metadata": {
    "collapsed": false
   },
   "outputs": [
    {
     "data": {
      "text/plain": [
       "69802"
      ]
     },
     "execution_count": 115,
     "metadata": {},
     "output_type": "execute_result"
    }
   ],
   "source": [
    "simTile.numSN"
   ]
  },
  {
   "cell_type": "code",
   "execution_count": 96,
   "metadata": {
    "collapsed": false
   },
   "outputs": [
    {
     "data": {
      "text/plain": [
       "<bound method SimulationTile.snParams of <__main__.SimulationTile object at 0x11592a750>>"
      ]
     },
     "execution_count": 96,
     "metadata": {},
     "output_type": "execute_result"
    }
   ],
   "source": [
    "simTile.snParams"
   ]
  },
  {
   "cell_type": "code",
   "execution_count": 91,
   "metadata": {
    "collapsed": false
   },
   "outputs": [
    {
     "data": {
      "text/plain": [
       "1.3999920837791637"
      ]
     },
     "execution_count": 91,
     "metadata": {},
     "output_type": "execute_result"
    }
   ],
   "source": [
    "simTile.zsamples.max()"
   ]
  },
  {
   "cell_type": "code",
   "execution_count": 93,
   "metadata": {
    "collapsed": false
   },
   "outputs": [
    {
     "data": {
      "text/plain": [
       "(array([   13.,    74.,   205.,   373.,   637.,   988.,  1379.,  1747.,\n",
       "         2221.,  2605.,  3178.,  3761.,  4372.,  5025.,  5603.,  6290.,\n",
       "         6771.,  7634.,  8157.,  8769.]),\n",
       " array([ 0.00574665,  0.07545893,  0.1451712 ,  0.21488347,  0.28459574,\n",
       "         0.35430801,  0.42402028,  0.49373255,  0.56344483,  0.6331571 ,\n",
       "         0.70286937,  0.77258164,  0.84229391,  0.91200618,  0.98171846,\n",
       "         1.05143073,  1.121143  ,  1.19085527,  1.26056754,  1.33027981,\n",
       "         1.39999208]),\n",
       " <a list of 1 Patch objects>)"
      ]
     },
     "execution_count": 93,
     "metadata": {},
     "output_type": "execute_result"
    },
    {
     "data": {
      "image/png": "[encoded data removed]",
      "text/plain": [
       "<matplotlib.figure.Figure at 0x1111433d0>"
      ]
     },
     "metadata": {},
     "output_type": "display_data"
    }
   ],
   "source": [
    "plt.hist(simTile.zsamples, bins=20, histtype='step')"
   ]
  },
  {
   "cell_type": "code",
   "execution_count": 75,
   "metadata": {
    "collapsed": false
   },
   "outputs": [
    {
     "data": {
      "text/plain": [
       "<matplotlib.collections.PathCollection at 0x115b9ff10>"
      ]
     },
     "execution_count": 75,
     "metadata": {},
     "output_type": "execute_result"
    },
    {
     "data": {
      "image/png": "[encoded data removed]",
      "text/plain": [
       "<matplotlib.figure.Figure at 0x114c3c850>"
      ]
     },
     "metadata": {},
     "output_type": "display_data"
    }
   ],
   "source": [
    "mapvals = np.ones(hp.nside2npix(NSIDE))* hp.UNSEEN\n",
    "mapvals[2] =1\n",
    "hp.mollview(mapvals, nest=True)\n",
    "hp.projscatter(np.radians(simTile.positions[1][:50]), np.radians(simTile.positions[0][:50]), **dict(s=0.01))"
   ]
  },
  {
   "cell_type": "code",
   "execution_count": 7,
   "metadata": {
    "collapsed": false
   },
   "outputs": [
    {
     "ename": "TypeError",
     "evalue": "Can't instantiate abstract class Universe with abstract methods SN, randomState, snParams",
     "output_type": "error",
     "traceback": [
      "\u001b[0;31m---------------------------------------------------------------------------\u001b[0m",
      "\u001b[0;31mTypeError\u001b[0m                                 Traceback (most recent call last)",
      "\u001b[0;32m<ipython-input-7-69f60c306fa5>\u001b[0m in \u001b[0;36m<module>\u001b[0;34m()\u001b[0m\n\u001b[0;32m----> 1\u001b[0;31m \u001b[0;32mclass\u001b[0m \u001b[0mTestUniverse\u001b[0m\u001b[0;34m(\u001b[0m\u001b[0msnsims\u001b[0m\u001b[0;34m.\u001b[0m\u001b[0mUniverse\u001b[0m\u001b[0;34m(\u001b[0m\u001b[0;34m)\u001b[0m\u001b[0;34m)\u001b[0m\u001b[0;34m:\u001b[0m\u001b[0;34m\u001b[0m\u001b[0m\n\u001b[0m\u001b[1;32m      2\u001b[0m     \u001b[0;32mpass\u001b[0m\u001b[0;34m\u001b[0m\u001b[0m\n",
      "\u001b[0;31mTypeError\u001b[0m: Can't instantiate abstract class Universe with abstract methods SN, randomState, snParams"
     ]
    }
   ],
   "source": [
    "class TestUniverse(snsims.Universe()):\n",
    "    pass"
   ]
  },
  {
   "cell_type": "code",
   "execution_count": null,
   "metadata": {
    "collapsed": true
   },
   "outputs": [],
   "source": [
    "zdist = snsims.PowerLawRates(rng=np.random.)"
   ]
  },
  {
   "cell_type": "code",
   "execution_count": 8,
   "metadata": {
    "collapsed": false
   },
   "outputs": [
    {
     "data": {
      "text/plain": [
       "41252.961249419277"
      ]
     },
     "execution_count": 8,
     "metadata": {},
     "output_type": "execute_result"
    }
   ],
   "source": [
    "np.pi * 4 * np.degrees(1.)**2"
   ]
  },
  {
   "cell_type": "code",
   "execution_count": 9,
   "metadata": {
    "collapsed": false
   },
   "outputs": [
    {
     "data": {
      "text/plain": [
       "1.2715657552083333e-06"
      ]
     },
     "execution_count": 9,
     "metadata": {},
     "output_type": "execute_result"
    }
   ],
   "source": [
    "1.0/ 12.0/ 256**2"
   ]
  },
  {
   "cell_type": "code",
   "execution_count": 10,
   "metadata": {
    "collapsed": true
   },
   "outputs": [],
   "source": [
    "rng = np.random.RandomState()"
   ]
  },
  {
   "cell_type": "code",
   "execution_count": 11,
   "metadata": {
    "collapsed": false
   },
   "outputs": [
    {
     "data": {
      "text/plain": [
       "256"
      ]
     },
     "execution_count": 11,
     "metadata": {},
     "output_type": "execute_result"
    }
   ],
   "source": [
    "hpTiles.nside"
   ]
  },
  {
   "cell_type": "code",
   "execution_count": 16,
   "metadata": {
    "collapsed": false
   },
   "outputs": [
    {
     "name": "stdout",
     "output_type": "stream",
     "text": [
      "('MT19937', array([3073425384,  721572093,  324176003,   39267041, 3626653914,\n",
      "       3985085923, 1380294436, 3557005841, 2964178669, 1101537875,\n",
      "       1368408024,   44468939,  619298274, 3929160200, 2170621016,\n",
      "       2058499305, 3417721533, 1004936176, 3849275170, 1613622492,\n",
      "       3007924338, 2727729992, 3937163633, 2970080813, 4099551066,\n",
      "        928970270, 2181773376,  964676670, 3718717698, 1706238191,\n",
      "       2665429196, 1735884066, 2464266679, 1490834566, 1456030911,\n",
      "        659386472, 1484599925,  926135046, 4127023524,  158555905,\n",
      "       1095312962, 2859013745,   25423105,  440675094, 3614159696,\n",
      "       2605522189, 3243664101, 2284792858, 3974532596,  250099225,\n",
      "       1008096424, 1446391930, 4045840461, 3239124686,  760177034,\n",
      "       2203922583,  598225014,  520174213,  640216294,  505968563,\n",
      "        357861367, 2841555917, 3531736505, 1441304339, 3827488825,\n",
      "       2297586174, 1337358235, 4241522755, 1973352907, 2295924304,\n",
      "        506553151, 2903906179,  943263302, 2553883505, 1760096556,\n",
      "       3162827885,  113430956,  404762513, 3299787010, 2792887216,\n",
      "       1503319023, 3995266961, 1573130872, 1060093398, 3381253981,\n",
      "         77312380, 3733135202, 2760254666, 3999405629,  968990781,\n",
      "       4191939245, 2746107739, 2518283876, 1629085087, 2812979158,\n",
      "       2820953688, 2473149245,  856076306, 1962167625,  828303302,\n",
      "       3153905155, 3502999817, 1351055618, 3326706260, 4192122264,\n",
      "        474152065,   96209869, 1579397538, 3708739490, 3340873548,\n",
      "       1339479920, 2548891819, 4208319639,  310915991, 2562775934,\n",
      "       4246224018, 2220768575,  648022455,  249339670, 2443529549,\n",
      "       2849081213, 2198031156, 2785545323, 1645067791,  178888510,\n",
      "       4082136619,  682535833, 2303581600, 1447462786, 2730231567,\n",
      "       3566569730, 2736680072,  321878087, 3986333644,  723403249,\n",
      "       2388845303, 2108836728,  205734890, 3251091364, 1359443038,\n",
      "       3862194642,  856347868,  843610999,  805427398,  935051632,\n",
      "        899484737,  179100426,  531553637, 1045073973, 3148935355,\n",
      "       2298837270, 3594504813, 2589989287, 1474590213, 2908951687,\n",
      "        809473494,    7781452, 3430792181, 4059929181, 1006442848,\n",
      "       4245834323, 3680411090, 2794606199,  197502268,  487907450,\n",
      "       3952529402, 2955058453, 1462455146, 2648560573, 3202105586,\n",
      "       3579579783, 1283297813, 2756345990, 1550847902, 3728196035,\n",
      "       1435780171,  623555535,  331975198, 3926144885, 3337182557,\n",
      "       3886926018, 1993402846, 3837658950, 3640635767, 4133560688,\n",
      "       2732352834,  367738766, 1127731445, 3684137962,  260391907,\n",
      "        837197409,  192994228, 3879052713, 1270874136, 3649864970,\n",
      "       1615594210, 3030194808, 2793835023, 3826037986,  938011012,\n",
      "       3325749472, 2844391548,  668500029, 3853054677, 1480476305,\n",
      "       2997615285, 1719516573, 1262139877, 2672704098, 4078676751,\n",
      "        701523345,  395793347, 2420177061, 4196787432, 2855065229,\n",
      "       3592274007, 1422798779, 2375420280, 4246820770,  149345949,\n",
      "       4285936084, 3593022969, 2523885204, 3059129203,  496810275,\n",
      "        127074493, 1442714916, 3440424518, 3951706976, 1429875902,\n",
      "       2462114174, 4256363770, 2880269303, 3403651245, 2535394251,\n",
      "       3987062073,  765587028, 4102265934, 1111288326,  614011882,\n",
      "       2706750467, 3920371767,  412538768, 3750826840, 2576242323,\n",
      "       3416281388, 1463115931, 3803987019, 1989233400, 1727588105,\n",
      "         48793640, 1938007596,   18875813,  641281110, 2612777255,\n",
      "        427002600, 4200948817,   59476183,   10319459, 3642125942,\n",
      "       3647364989, 1808564925, 2189473274, 3244873047, 3878099091,\n",
      "        423234360,  487202934, 2206046201, 1254192672,  838953284,\n",
      "       3411373835,  919492181, 4135912430,  617781134, 4047047006,\n",
      "       2325495216, 2979967776,  946731340, 3169275996, 3456072777,\n",
      "       2537746577,  983270447, 1564291185, 1442484936, 2097530203,\n",
      "       3306692796, 1742040214,   90258865, 1161566511,  474849933,\n",
      "       2301935586, 3631107596, 2271406820, 2660703770, 3246035983,\n",
      "       2970021348, 1913930058, 1583095916, 1129095030,  925752609,\n",
      "        598258569, 3725923243,   67506983,  212718387, 3869229757,\n",
      "       3993307440, 4165952149, 3361119507, 1285067356, 1975743452,\n",
      "       1885302466,  833179996, 2891782705,  473494668, 2194313456,\n",
      "       3123832123, 1985709904, 1431068963, 2402356276, 1195861076,\n",
      "       3117203965, 3943021307, 2441785227,  626870374, 1794407848,\n",
      "       3844295378,  981486584,  414745549, 1122733724, 1756217409,\n",
      "        870521452, 4100878329, 3338984745, 3127349252, 2323495647,\n",
      "        582524840, 2748247857, 3346922877, 3448167886, 3711279724,\n",
      "       1466226078, 1479473987, 1122216747, 3819087971, 2020766793,\n",
      "       1844508544, 1677945336,  994120113, 1484376281, 3835451030,\n",
      "       1466051844, 2129687250, 1711350790, 2114906922, 1289820369,\n",
      "       3998790693, 2941733876, 1031107819, 1469381259, 1891671555,\n",
      "       1285097570, 3768492415,  540111574,  642854153, 2304382582,\n",
      "       4110265989, 1426034882, 3826797221, 2308475500, 3276575755,\n",
      "       3492599874,  785513638, 3155206974, 3039706721, 2568508002,\n",
      "       3411025423,  183998572, 3204464968, 2350559235, 4235015680,\n",
      "       3230058958, 3182464976, 1434776515, 1439328017, 4015674892,\n",
      "       1741735223, 2853033675, 1902027807, 3888736923, 4244886467,\n",
      "       2587042600,  745295897, 3905966182, 1638202842, 3994807676,\n",
      "       3364918046, 2606993899, 4047823586, 4278827078, 1032425040,\n",
      "       2808326218,  842961675,  641353261, 3465017348, 2142138395,\n",
      "       3490227214, 2644715351, 4157217927, 2913681549,  101833215,\n",
      "       2265843729, 3859072740, 2722572145,  547045128,  885790822,\n",
      "       2062934818, 2110901384, 2821783622,   60977628, 4008236181,\n",
      "       4143822730, 4268536393, 3253671796, 2532532057, 1183049600,\n",
      "         64693047, 3229466636, 2268235236, 1296335049, 3847967887,\n",
      "        289654775, 2542132920, 2684243895, 3421453508, 1896133451,\n",
      "       2463093875,  509182334, 1459226290, 2055466260, 4002196981,\n",
      "       3088009195,  596037694, 1340865034, 3530977520,  170066128,\n",
      "       2447031513, 2959961169,  692811392,  300598983, 4094829925,\n",
      "       1092091949, 4245495466, 2248595557,  182288097, 2923738403,\n",
      "       2529428169,   36785070, 2085766829, 3394116708,  173881489,\n",
      "       2740975744, 2897137433,  646364040, 1157592821,  307133071,\n",
      "       4205046846, 3056203617, 3954109801,  176099178,  317464600,\n",
      "       3771935203, 3837005007, 1818041790, 2306006412, 3636238320,\n",
      "       1048663400, 2700602568, 1024806290,  511988069, 2056560008,\n",
      "       3804001346,  504001713, 2263056458, 1137850223, 2413224395,\n",
      "       1029560166, 3451356428, 2262634524, 3512531312, 2598776905,\n",
      "       3354518986, 1646108154, 1869447265, 2296291503, 2531821949,\n",
      "       2160212697, 4096559627, 3490307801, 3044005655, 3100634140,\n",
      "       1846509528, 1740572591, 2782635881, 3603464601, 3543980551,\n",
      "       1747042083, 2081406990, 2625525017, 2717679541, 1975381212,\n",
      "       4050384137, 2339161860,  802717690, 4088851327,  773669492,\n",
      "       1103076809, 3635753054,  703189521, 2424987644,  476979557,\n",
      "        905453230, 4142669302, 3293686881, 1297917864, 3067435251,\n",
      "       1908506179, 1245470829, 3134178175, 3140120961, 2209221953,\n",
      "       2432037690, 2713917691, 2995538974, 1287089061, 2519800231,\n",
      "        235486106,  370799786, 1329388765, 3723812289, 1132937829,\n",
      "       3025890209, 1584804922, 1645205107,   41486226, 2477394725,\n",
      "        520262227,  338959515,  127585416, 3109366235, 1281419193,\n",
      "       4120751153,  374816886,  576474907, 1736739337, 3920350535,\n",
      "        750182535, 3668664255, 1080563452,  469294917, 1734719870,\n",
      "       3448461767,  773551016, 2577249248, 3719993466,  361249356,\n",
      "       3370693352, 2429967407,  448346816, 4224755252, 1149003968,\n",
      "       3560525146, 3978728112, 3673368538, 2441445314, 1323594200,\n",
      "        541429563, 2816333925, 2564126205, 3922740474, 4074599913,\n",
      "       3626889402,  298326870, 1288114498,  844955788,  710126413,\n",
      "        377795331,  948071072, 3967262511, 1498208738, 2275744225,\n",
      "       2133668510,  453394498, 2448679248, 2021598224, 1256991157,\n",
      "       1373414843, 1028612966,  392579874, 1476868426, 2728955425,\n",
      "       1341425060, 2048784593, 4040899162, 1993534245, 1747435217,\n",
      "        676022815, 2522915530, 4182141589, 1830609429,   86329578,\n",
      "       1945993162, 4034103034,  488790457, 3422711702, 2161320496,\n",
      "       2192208884,  168766767, 2420269872,   46126714, 3553771184,\n",
      "        473263922, 3711559321, 1068414458, 2163985951], dtype=uint32), 612, 0, 0.0)\n",
      "('MT19937', array([1036876355, 1873300696, 2779425791, 2339800103, 3723880741,\n",
      "       1327008191, 2106492371, 3203408818,  701761016, 3043702971,\n",
      "       1871833405, 3219103356,  856212731, 3351154237,   39152719,\n",
      "        513061616, 2103980784,  108772343,  182654284, 1685416113,\n",
      "       4185648610, 4026330555,  795053916, 2362482727, 2781071686,\n",
      "       3236596564, 3394025798, 1750103809, 3892970399, 3474087018,\n",
      "       4102634357, 3711757517, 2301984460, 2737821047, 2216912524,\n",
      "        717776466, 3497452871, 1274676121, 1333709612, 1056772703,\n",
      "       3670424917, 2739579723, 3819878526, 2478480963, 4146654823,\n",
      "       3058203559, 2522998525, 2085635626, 1336284938, 2925938181,\n",
      "         38825661, 2960205374, 2493164034,  398438632, 1705719358,\n",
      "       3620913246, 2622837628, 3176186704,   14191055, 2442377354,\n",
      "       4059410324,  973581927, 4188131271,  138814531, 3906469862,\n",
      "       3629461658, 3818882571, 4052334261, 4275007254, 1614411297,\n",
      "       1680692855, 1449363529, 2281178495, 2493993333, 1677642278,\n",
      "        792491368,  476740251, 4209768305, 1841126576, 1429353952,\n",
      "       2467072645, 1885755481, 1694712675, 1601187635, 1548200975,\n",
      "       2845970427,  294724874, 1643076106, 4172658599, 1750253701,\n",
      "       1308787566, 2588934722, 1935830617, 3559175713,  906999510,\n",
      "       3218182432, 3512596646,  899292934, 2557299002, 1893358037,\n",
      "        560245378, 3710675862, 2615881014,  316679444, 2962671920,\n",
      "       1041044048, 4191770952, 4256937430,  196176005,  467970998,\n",
      "        243295635, 1167991073, 2784052680, 4245395638, 4125153613,\n",
      "       4110406074,  971923323,  695406079, 3496315824,  357909311,\n",
      "       1751676811, 1518790934, 4099952317,  816632113, 1447859772,\n",
      "        151931250, 1241139576, 3723893554, 4187475227,  544646380,\n",
      "       3946902843, 1807056253, 3043181223, 1551000349, 1073404255,\n",
      "       3428149666, 1251396176, 3067265653, 1720353205,  621002819,\n",
      "        381269683, 1574457509, 1535618566, 2944830233, 3719299781,\n",
      "       1733934070, 2493962751,  361231328, 2614254289, 1354145808,\n",
      "       4119697761, 1835898327, 3197791332, 2049218221, 1313376925,\n",
      "        577179965, 3635603244,  140357814, 1900571703, 2099956297,\n",
      "        768038933, 3518580897,  579300320, 3271633402,  466621525,\n",
      "       1485065653, 3056549327, 2188272461, 2542178961, 1668344371,\n",
      "       3851371285, 3925206647,  709127951, 1646927204,  518258762,\n",
      "       1366216418, 2556541645, 3807304381, 3661205834, 3557506052,\n",
      "       3820814610, 3683600217,  128589197, 2736611330, 1084631543,\n",
      "        103976581, 2328778793,  127407800, 3360596525, 3111753039,\n",
      "       3921146613, 4091460585, 3796179437, 1407938587, 1797275955,\n",
      "       2344447084, 2989806024,  954889156,  170447225,  508696342,\n",
      "       1134737180, 2464401803,  158615444, 3135444531, 4198544724,\n",
      "        451761227, 3393652488, 1736483808, 3368955719, 1535123677,\n",
      "       1803908011, 4231278232, 2016918174, 3219366995,   41276942,\n",
      "       3998088891, 3402197802, 4265839073, 1607575653,  901002693,\n",
      "       1650345235, 1233674544,  301056982, 3421733756, 1207490072,\n",
      "        357678952, 2792592700, 1208507379,   87382663, 2898975552,\n",
      "       4121951834,  288091137, 3011507510, 2936647913, 1361726961,\n",
      "       2131030738, 2401957532,  244292670, 2912098185, 3131746853,\n",
      "        710946553, 1310590855,  828128092, 2829560166, 1672188769,\n",
      "       4168160734, 3424896587, 2184399006, 1166552800,  773311304,\n",
      "       3037819697, 1012628299, 3556121983, 1587142922,  619295349,\n",
      "       1278214504,  400500958, 1842294939, 4055358454, 2089738669,\n",
      "       1338057974, 2237873265, 3547642918,  988666321,  124192261,\n",
      "       1107024663, 2789960060, 3215361605, 3125420009, 1594670884,\n",
      "       1372915126, 3429527440, 3827380320, 2935841362,  958290162,\n",
      "        392777370, 4065376931,  472106643, 1334192325, 1177772693,\n",
      "       3556426272, 3527220953, 4247750970, 1004470542, 2682049294,\n",
      "       1932672900,  170628749, 1248007132, 2905198590, 4248539190,\n",
      "       1685128005, 2875624084, 2535374743,  438992083, 2836054087,\n",
      "       2277855155, 1326966295, 1166744012, 3573405190,  254078052,\n",
      "        581265535, 3103093610, 2959223854, 3056413466, 2380887017,\n",
      "       2291293477, 2819738550, 4114662315, 1250419127, 1563227138,\n",
      "       1201964957, 3546386888, 3888018877,  284454258, 2784958536,\n",
      "       2207806479, 3690741963, 1234830708, 4193497192, 4136418936,\n",
      "        950983555, 3888271820, 3984536851, 3827811954,  118209135,\n",
      "       3308088518, 3851331820,    1142220, 1886534505, 2182782976,\n",
      "       2984223287, 1243355003, 1665063506,  636433656, 2900883970,\n",
      "       2204020674, 3780306391, 1749224308,  721743895, 3460509447,\n",
      "       1209292232, 1301920775, 1546007892, 3705656704,  529233471,\n",
      "       3798220620, 2449308472, 3713803064, 1757987421, 2681296959,\n",
      "        265611352, 1699480639,  906575079, 4135744975, 1943204351,\n",
      "       2923194593, 3888426566, 1501706401, 3403514531, 2469381782,\n",
      "       4113924989, 1877106740, 1182093305, 1312538987, 1436853736,\n",
      "        217401812, 2382845390, 1383461765, 2776017535,  865190439,\n",
      "       4176377162, 3283637082, 2764444697, 3626692814, 3911666744,\n",
      "       3735656167, 1328971956,  713585087,  324734679, 3738765443,\n",
      "        620548421, 3179430819, 2441777770, 4011838506, 3804062450,\n",
      "       4249237389, 2626496665, 2267766151,  909119903, 1872689780,\n",
      "        205500713,  800603238,  676737880, 2166541169, 3861260994,\n",
      "       1128262331,  466787138, 2584452918, 3073450335,  972405546,\n",
      "       2721965118, 2498859907, 1982673632, 2126393887, 3404368058,\n",
      "        232829502,  921076376,  744493451,   26155897, 2636491098,\n",
      "       3491693424, 2290944656, 1451168001, 2426950682,  987948841,\n",
      "       4138091625, 2908820844, 2825308699, 1570922876, 2570830376,\n",
      "       3050674656,  198691465, 1506571039, 3514114568, 2685358720,\n",
      "        706097535, 1573606884, 3154659239,  960942867, 3638367408,\n",
      "       2971793775,  750199376, 2132462121,  734916210, 4159699206,\n",
      "       2279796728, 1895637892, 1455719713, 1383778493, 3174607284,\n",
      "       3995126860,  629156619, 3346450115, 2413357890, 1873176402,\n",
      "       2666507922, 1628540549, 4087584431, 3934896989, 3900011295,\n",
      "       4118088745, 2649950965, 3375870151,  676953970, 2590173768,\n",
      "       1143865168,  199968969, 3498635368, 3440230550, 2731542902,\n",
      "       1616275386,   40439861, 3295934839,  520452868,  870214177,\n",
      "       1871666406, 1450536014, 1868540236, 1198004107, 2554142578,\n",
      "       1140137950,  361045438, 4240997144, 2692582835, 3715359274,\n",
      "       1442044036, 1889365377,  593226588,   17905039, 3802670942,\n",
      "       2291428237,  664302160, 3033639424, 2302470372,  862051112,\n",
      "       3614185840, 1071671715,  661608526, 1360565386, 2961985219,\n",
      "       1273173804, 2849601258, 3701226399, 1949801757, 1724853238,\n",
      "       1498737203, 2919293079, 2456444642, 2416810398, 2468777868,\n",
      "         69882202, 3002809241, 3842358921,   46557055, 4047219165,\n",
      "       1904330946, 3506763974,  437013797, 2833508535, 1553122145,\n",
      "       2120835724, 3358649587, 3554802404, 1562720183, 4088688103,\n",
      "       2171819985,  818399713, 1815358651, 2086218489, 2380443840,\n",
      "        559706664, 1378526888, 3781893223, 3447061169, 2757957170,\n",
      "       1760253679, 2336996612, 3862487136, 1613415701, 4162377139,\n",
      "       2143557560, 3568260582, 2009159720,  973207482, 2990825062,\n",
      "       1099635682, 3820628659, 4032190882,  732594213, 1687908530,\n",
      "       2144302959,  233849774, 2191849414, 1260516742, 2668887170,\n",
      "       1793134330, 4114733116, 3171745713,  419074767, 1320768468,\n",
      "       2936825417, 2402102589, 1877448989, 1213464208, 3477253456,\n",
      "       3291423849, 3794709374,  623607114, 2041498564, 3706963566,\n",
      "       1927449900, 2687050738, 3984843775, 2878798065, 1278693888,\n",
      "       4201082591, 2199892583, 1979451090,  799508583, 1983550457,\n",
      "       2857147608, 1928521170, 2863038637, 4136584148, 1417041018,\n",
      "       3794706096, 1253265950, 2067581477, 2234125844, 1512031418,\n",
      "       3194386532, 1437694302, 3071469735, 1810221887, 3418935807,\n",
      "       3600594931, 1008515550, 2576609164, 4114111515,  971232950,\n",
      "       1136189770, 1566397760, 1892342748,  846852555, 3818066311,\n",
      "       3151043532,  941811638, 3572361711, 1273275541, 3275511499,\n",
      "       2083306617, 3511341333, 1019761578, 3794661123, 2812634223,\n",
      "        409690034,  997362966, 3413774480, 3205556182, 2826186127,\n",
      "       3609595735,  891617009, 3678863430, 3705977217, 3330172029,\n",
      "       3930011607, 1740622828, 1298160148,  105980734, 1716290753,\n",
      "        917932258, 3119607871, 3662331243, 3694958268], dtype=uint32), 44, 0, 0.0)\n",
      "('MT19937', array([1036876355, 1873300696, 2779425791, 2339800103, 3723880741,\n",
      "       1327008191, 2106492371, 3203408818,  701761016, 3043702971,\n",
      "       1871833405, 3219103356,  856212731, 3351154237,   39152719,\n",
      "        513061616, 2103980784,  108772343,  182654284, 1685416113,\n",
      "       4185648610, 4026330555,  795053916, 2362482727, 2781071686,\n",
      "       3236596564, 3394025798, 1750103809, 3892970399, 3474087018,\n",
      "       4102634357, 3711757517, 2301984460, 2737821047, 2216912524,\n",
      "        717776466, 3497452871, 1274676121, 1333709612, 1056772703,\n",
      "       3670424917, 2739579723, 3819878526, 2478480963, 4146654823,\n",
      "       3058203559, 2522998525, 2085635626, 1336284938, 2925938181,\n",
      "         38825661, 2960205374, 2493164034,  398438632, 1705719358,\n",
      "       3620913246, 2622837628, 3176186704,   14191055, 2442377354,\n",
      "       4059410324,  973581927, 4188131271,  138814531, 3906469862,\n",
      "       3629461658, 3818882571, 4052334261, 4275007254, 1614411297,\n",
      "       1680692855, 1449363529, 2281178495, 2493993333, 1677642278,\n",
      "        792491368,  476740251, 4209768305, 1841126576, 1429353952,\n",
      "       2467072645, 1885755481, 1694712675, 1601187635, 1548200975,\n",
      "       2845970427,  294724874, 1643076106, 4172658599, 1750253701,\n",
      "       1308787566, 2588934722, 1935830617, 3559175713,  906999510,\n",
      "       3218182432, 3512596646,  899292934, 2557299002, 1893358037,\n",
      "        560245378, 3710675862, 2615881014,  316679444, 2962671920,\n",
      "       1041044048, 4191770952, 4256937430,  196176005,  467970998,\n",
      "        243295635, 1167991073, 2784052680, 4245395638, 4125153613,\n",
      "       4110406074,  971923323,  695406079, 3496315824,  357909311,\n",
      "       1751676811, 1518790934, 4099952317,  816632113, 1447859772,\n",
      "        151931250, 1241139576, 3723893554, 4187475227,  544646380,\n",
      "       3946902843, 1807056253, 3043181223, 1551000349, 1073404255,\n",
      "       3428149666, 1251396176, 3067265653, 1720353205,  621002819,\n",
      "        381269683, 1574457509, 1535618566, 2944830233, 3719299781,\n",
      "       1733934070, 2493962751,  361231328, 2614254289, 1354145808,\n",
      "       4119697761, 1835898327, 3197791332, 2049218221, 1313376925,\n",
      "        577179965, 3635603244,  140357814, 1900571703, 2099956297,\n",
      "        768038933, 3518580897,  579300320, 3271633402,  466621525,\n",
      "       1485065653, 3056549327, 2188272461, 2542178961, 1668344371,\n",
      "       3851371285, 3925206647,  709127951, 1646927204,  518258762,\n",
      "       1366216418, 2556541645, 3807304381, 3661205834, 3557506052,\n",
      "       3820814610, 3683600217,  128589197, 2736611330, 1084631543,\n",
      "        103976581, 2328778793,  127407800, 3360596525, 3111753039,\n",
      "       3921146613, 4091460585, 3796179437, 1407938587, 1797275955,\n",
      "       2344447084, 2989806024,  954889156,  170447225,  508696342,\n",
      "       1134737180, 2464401803,  158615444, 3135444531, 4198544724,\n",
      "        451761227, 3393652488, 1736483808, 3368955719, 1535123677,\n",
      "       1803908011, 4231278232, 2016918174, 3219366995,   41276942,\n",
      "       3998088891, 3402197802, 4265839073, 1607575653,  901002693,\n",
      "       1650345235, 1233674544,  301056982, 3421733756, 1207490072,\n",
      "        357678952, 2792592700, 1208507379,   87382663, 2898975552,\n",
      "       4121951834,  288091137, 3011507510, 2936647913, 1361726961,\n",
      "       2131030738, 2401957532,  244292670, 2912098185, 3131746853,\n",
      "        710946553, 1310590855,  828128092, 2829560166, 1672188769,\n",
      "       4168160734, 3424896587, 2184399006, 1166552800,  773311304,\n",
      "       3037819697, 1012628299, 3556121983, 1587142922,  619295349,\n",
      "       1278214504,  400500958, 1842294939, 4055358454, 2089738669,\n",
      "       1338057974, 2237873265, 3547642918,  988666321,  124192261,\n",
      "       1107024663, 2789960060, 3215361605, 3125420009, 1594670884,\n",
      "       1372915126, 3429527440, 3827380320, 2935841362,  958290162,\n",
      "        392777370, 4065376931,  472106643, 1334192325, 1177772693,\n",
      "       3556426272, 3527220953, 4247750970, 1004470542, 2682049294,\n",
      "       1932672900,  170628749, 1248007132, 2905198590, 4248539190,\n",
      "       1685128005, 2875624084, 2535374743,  438992083, 2836054087,\n",
      "       2277855155, 1326966295, 1166744012, 3573405190,  254078052,\n",
      "        581265535, 3103093610, 2959223854, 3056413466, 2380887017,\n",
      "       2291293477, 2819738550, 4114662315, 1250419127, 1563227138,\n",
      "       1201964957, 3546386888, 3888018877,  284454258, 2784958536,\n",
      "       2207806479, 3690741963, 1234830708, 4193497192, 4136418936,\n",
      "        950983555, 3888271820, 3984536851, 3827811954,  118209135,\n",
      "       3308088518, 3851331820,    1142220, 1886534505, 2182782976,\n",
      "       2984223287, 1243355003, 1665063506,  636433656, 2900883970,\n",
      "       2204020674, 3780306391, 1749224308,  721743895, 3460509447,\n",
      "       1209292232, 1301920775, 1546007892, 3705656704,  529233471,\n",
      "       3798220620, 2449308472, 3713803064, 1757987421, 2681296959,\n",
      "        265611352, 1699480639,  906575079, 4135744975, 1943204351,\n",
      "       2923194593, 3888426566, 1501706401, 3403514531, 2469381782,\n",
      "       4113924989, 1877106740, 1182093305, 1312538987, 1436853736,\n",
      "        217401812, 2382845390, 1383461765, 2776017535,  865190439,\n",
      "       4176377162, 3283637082, 2764444697, 3626692814, 3911666744,\n",
      "       3735656167, 1328971956,  713585087,  324734679, 3738765443,\n",
      "        620548421, 3179430819, 2441777770, 4011838506, 3804062450,\n",
      "       4249237389, 2626496665, 2267766151,  909119903, 1872689780,\n",
      "        205500713,  800603238,  676737880, 2166541169, 3861260994,\n",
      "       1128262331,  466787138, 2584452918, 3073450335,  972405546,\n",
      "       2721965118, 2498859907, 1982673632, 2126393887, 3404368058,\n",
      "        232829502,  921076376,  744493451,   26155897, 2636491098,\n",
      "       3491693424, 2290944656, 1451168001, 2426950682,  987948841,\n",
      "       4138091625, 2908820844, 2825308699, 1570922876, 2570830376,\n",
      "       3050674656,  198691465, 1506571039, 3514114568, 2685358720,\n",
      "        706097535, 1573606884, 3154659239,  960942867, 3638367408,\n",
      "       2971793775,  750199376, 2132462121,  734916210, 4159699206,\n",
      "       2279796728, 1895637892, 1455719713, 1383778493, 3174607284,\n",
      "       3995126860,  629156619, 3346450115, 2413357890, 1873176402,\n",
      "       2666507922, 1628540549, 4087584431, 3934896989, 3900011295,\n",
      "       4118088745, 2649950965, 3375870151,  676953970, 2590173768,\n",
      "       1143865168,  199968969, 3498635368, 3440230550, 2731542902,\n",
      "       1616275386,   40439861, 3295934839,  520452868,  870214177,\n",
      "       1871666406, 1450536014, 1868540236, 1198004107, 2554142578,\n",
      "       1140137950,  361045438, 4240997144, 2692582835, 3715359274,\n",
      "       1442044036, 1889365377,  593226588,   17905039, 3802670942,\n",
      "       2291428237,  664302160, 3033639424, 2302470372,  862051112,\n",
      "       3614185840, 1071671715,  661608526, 1360565386, 2961985219,\n",
      "       1273173804, 2849601258, 3701226399, 1949801757, 1724853238,\n",
      "       1498737203, 2919293079, 2456444642, 2416810398, 2468777868,\n",
      "         69882202, 3002809241, 3842358921,   46557055, 4047219165,\n",
      "       1904330946, 3506763974,  437013797, 2833508535, 1553122145,\n",
      "       2120835724, 3358649587, 3554802404, 1562720183, 4088688103,\n",
      "       2171819985,  818399713, 1815358651, 2086218489, 2380443840,\n",
      "        559706664, 1378526888, 3781893223, 3447061169, 2757957170,\n",
      "       1760253679, 2336996612, 3862487136, 1613415701, 4162377139,\n",
      "       2143557560, 3568260582, 2009159720,  973207482, 2990825062,\n",
      "       1099635682, 3820628659, 4032190882,  732594213, 1687908530,\n",
      "       2144302959,  233849774, 2191849414, 1260516742, 2668887170,\n",
      "       1793134330, 4114733116, 3171745713,  419074767, 1320768468,\n",
      "       2936825417, 2402102589, 1877448989, 1213464208, 3477253456,\n",
      "       3291423849, 3794709374,  623607114, 2041498564, 3706963566,\n",
      "       1927449900, 2687050738, 3984843775, 2878798065, 1278693888,\n",
      "       4201082591, 2199892583, 1979451090,  799508583, 1983550457,\n",
      "       2857147608, 1928521170, 2863038637, 4136584148, 1417041018,\n",
      "       3794706096, 1253265950, 2067581477, 2234125844, 1512031418,\n",
      "       3194386532, 1437694302, 3071469735, 1810221887, 3418935807,\n",
      "       3600594931, 1008515550, 2576609164, 4114111515,  971232950,\n",
      "       1136189770, 1566397760, 1892342748,  846852555, 3818066311,\n",
      "       3151043532,  941811638, 3572361711, 1273275541, 3275511499,\n",
      "       2083306617, 3511341333, 1019761578, 3794661123, 2812634223,\n",
      "        409690034,  997362966, 3413774480, 3205556182, 2826186127,\n",
      "       3609595735,  891617009, 3678863430, 3705977217, 3330172029,\n",
      "       3930011607, 1740622828, 1298160148,  105980734, 1716290753,\n",
      "        917932258, 3119607871, 3662331243, 3694958268], dtype=uint32), 96, 0, 0.0)\n",
      "('MT19937', array([1036876355, 1873300696, 2779425791, 2339800103, 3723880741,\n",
      "       1327008191, 2106492371, 3203408818,  701761016, 3043702971,\n",
      "       1871833405, 3219103356,  856212731, 3351154237,   39152719,\n",
      "        513061616, 2103980784,  108772343,  182654284, 1685416113,\n",
      "       4185648610, 4026330555,  795053916, 2362482727, 2781071686,\n",
      "       3236596564, 3394025798, 1750103809, 3892970399, 3474087018,\n",
      "       4102634357, 3711757517, 2301984460, 2737821047, 2216912524,\n",
      "        717776466, 3497452871, 1274676121, 1333709612, 1056772703,\n",
      "       3670424917, 2739579723, 3819878526, 2478480963, 4146654823,\n",
      "       3058203559, 2522998525, 2085635626, 1336284938, 2925938181,\n",
      "         38825661, 2960205374, 2493164034,  398438632, 1705719358,\n",
      "       3620913246, 2622837628, 3176186704,   14191055, 2442377354,\n",
      "       4059410324,  973581927, 4188131271,  138814531, 3906469862,\n",
      "       3629461658, 3818882571, 4052334261, 4275007254, 1614411297,\n",
      "       1680692855, 1449363529, 2281178495, 2493993333, 1677642278,\n",
      "        792491368,  476740251, 4209768305, 1841126576, 1429353952,\n",
      "       2467072645, 1885755481, 1694712675, 1601187635, 1548200975,\n",
      "       2845970427,  294724874, 1643076106, 4172658599, 1750253701,\n",
      "       1308787566, 2588934722, 1935830617, 3559175713,  906999510,\n",
      "       3218182432, 3512596646,  899292934, 2557299002, 1893358037,\n",
      "        560245378, 3710675862, 2615881014,  316679444, 2962671920,\n",
      "       1041044048, 4191770952, 4256937430,  196176005,  467970998,\n",
      "        243295635, 1167991073, 2784052680, 4245395638, 4125153613,\n",
      "       4110406074,  971923323,  695406079, 3496315824,  357909311,\n",
      "       1751676811, 1518790934, 4099952317,  816632113, 1447859772,\n",
      "        151931250, 1241139576, 3723893554, 4187475227,  544646380,\n",
      "       3946902843, 1807056253, 3043181223, 1551000349, 1073404255,\n",
      "       3428149666, 1251396176, 3067265653, 1720353205,  621002819,\n",
      "        381269683, 1574457509, 1535618566, 2944830233, 3719299781,\n",
      "       1733934070, 2493962751,  361231328, 2614254289, 1354145808,\n",
      "       4119697761, 1835898327, 3197791332, 2049218221, 1313376925,\n",
      "        577179965, 3635603244,  140357814, 1900571703, 2099956297,\n",
      "        768038933, 3518580897,  579300320, 3271633402,  466621525,\n",
      "       1485065653, 3056549327, 2188272461, 2542178961, 1668344371,\n",
      "       3851371285, 3925206647,  709127951, 1646927204,  518258762,\n",
      "       1366216418, 2556541645, 3807304381, 3661205834, 3557506052,\n",
      "       3820814610, 3683600217,  128589197, 2736611330, 1084631543,\n",
      "        103976581, 2328778793,  127407800, 3360596525, 3111753039,\n",
      "       3921146613, 4091460585, 3796179437, 1407938587, 1797275955,\n",
      "       2344447084, 2989806024,  954889156,  170447225,  508696342,\n",
      "       1134737180, 2464401803,  158615444, 3135444531, 4198544724,\n",
      "        451761227, 3393652488, 1736483808, 3368955719, 1535123677,\n",
      "       1803908011, 4231278232, 2016918174, 3219366995,   41276942,\n",
      "       3998088891, 3402197802, 4265839073, 1607575653,  901002693,\n",
      "       1650345235, 1233674544,  301056982, 3421733756, 1207490072,\n",
      "        357678952, 2792592700, 1208507379,   87382663, 2898975552,\n",
      "       4121951834,  288091137, 3011507510, 2936647913, 1361726961,\n",
      "       2131030738, 2401957532,  244292670, 2912098185, 3131746853,\n",
      "        710946553, 1310590855,  828128092, 2829560166, 1672188769,\n",
      "       4168160734, 3424896587, 2184399006, 1166552800,  773311304,\n",
      "       3037819697, 1012628299, 3556121983, 1587142922,  619295349,\n",
      "       1278214504,  400500958, 1842294939, 4055358454, 2089738669,\n",
      "       1338057974, 2237873265, 3547642918,  988666321,  124192261,\n",
      "       1107024663, 2789960060, 3215361605, 3125420009, 1594670884,\n",
      "       1372915126, 3429527440, 3827380320, 2935841362,  958290162,\n",
      "        392777370, 4065376931,  472106643, 1334192325, 1177772693,\n",
      "       3556426272, 3527220953, 4247750970, 1004470542, 2682049294,\n",
      "       1932672900,  170628749, 1248007132, 2905198590, 4248539190,\n",
      "       1685128005, 2875624084, 2535374743,  438992083, 2836054087,\n",
      "       2277855155, 1326966295, 1166744012, 3573405190,  254078052,\n",
      "        581265535, 3103093610, 2959223854, 3056413466, 2380887017,\n",
      "       2291293477, 2819738550, 4114662315, 1250419127, 1563227138,\n",
      "       1201964957, 3546386888, 3888018877,  284454258, 2784958536,\n",
      "       2207806479, 3690741963, 1234830708, 4193497192, 4136418936,\n",
      "        950983555, 3888271820, 3984536851, 3827811954,  118209135,\n",
      "       3308088518, 3851331820,    1142220, 1886534505, 2182782976,\n",
      "       2984223287, 1243355003, 1665063506,  636433656, 2900883970,\n",
      "       2204020674, 3780306391, 1749224308,  721743895, 3460509447,\n",
      "       1209292232, 1301920775, 1546007892, 3705656704,  529233471,\n",
      "       3798220620, 2449308472, 3713803064, 1757987421, 2681296959,\n",
      "        265611352, 1699480639,  906575079, 4135744975, 1943204351,\n",
      "       2923194593, 3888426566, 1501706401, 3403514531, 2469381782,\n",
      "       4113924989, 1877106740, 1182093305, 1312538987, 1436853736,\n",
      "        217401812, 2382845390, 1383461765, 2776017535,  865190439,\n",
      "       4176377162, 3283637082, 2764444697, 3626692814, 3911666744,\n",
      "       3735656167, 1328971956,  713585087,  324734679, 3738765443,\n",
      "        620548421, 3179430819, 2441777770, 4011838506, 3804062450,\n",
      "       4249237389, 2626496665, 2267766151,  909119903, 1872689780,\n",
      "        205500713,  800603238,  676737880, 2166541169, 3861260994,\n",
      "       1128262331,  466787138, 2584452918, 3073450335,  972405546,\n",
      "       2721965118, 2498859907, 1982673632, 2126393887, 3404368058,\n",
      "        232829502,  921076376,  744493451,   26155897, 2636491098,\n",
      "       3491693424, 2290944656, 1451168001, 2426950682,  987948841,\n",
      "       4138091625, 2908820844, 2825308699, 1570922876, 2570830376,\n",
      "       3050674656,  198691465, 1506571039, 3514114568, 2685358720,\n",
      "        706097535, 1573606884, 3154659239,  960942867, 3638367408,\n",
      "       2971793775,  750199376, 2132462121,  734916210, 4159699206,\n",
      "       2279796728, 1895637892, 1455719713, 1383778493, 3174607284,\n",
      "       3995126860,  629156619, 3346450115, 2413357890, 1873176402,\n",
      "       2666507922, 1628540549, 4087584431, 3934896989, 3900011295,\n",
      "       4118088745, 2649950965, 3375870151,  676953970, 2590173768,\n",
      "       1143865168,  199968969, 3498635368, 3440230550, 2731542902,\n",
      "       1616275386,   40439861, 3295934839,  520452868,  870214177,\n",
      "       1871666406, 1450536014, 1868540236, 1198004107, 2554142578,\n",
      "       1140137950,  361045438, 4240997144, 2692582835, 3715359274,\n",
      "       1442044036, 1889365377,  593226588,   17905039, 3802670942,\n",
      "       2291428237,  664302160, 3033639424, 2302470372,  862051112,\n",
      "       3614185840, 1071671715,  661608526, 1360565386, 2961985219,\n",
      "       1273173804, 2849601258, 3701226399, 1949801757, 1724853238,\n",
      "       1498737203, 2919293079, 2456444642, 2416810398, 2468777868,\n",
      "         69882202, 3002809241, 3842358921,   46557055, 4047219165,\n",
      "       1904330946, 3506763974,  437013797, 2833508535, 1553122145,\n",
      "       2120835724, 3358649587, 3554802404, 1562720183, 4088688103,\n",
      "       2171819985,  818399713, 1815358651, 2086218489, 2380443840,\n",
      "        559706664, 1378526888, 3781893223, 3447061169, 2757957170,\n",
      "       1760253679, 2336996612, 3862487136, 1613415701, 4162377139,\n",
      "       2143557560, 3568260582, 2009159720,  973207482, 2990825062,\n",
      "       1099635682, 3820628659, 4032190882,  732594213, 1687908530,\n",
      "       2144302959,  233849774, 2191849414, 1260516742, 2668887170,\n",
      "       1793134330, 4114733116, 3171745713,  419074767, 1320768468,\n",
      "       2936825417, 2402102589, 1877448989, 1213464208, 3477253456,\n",
      "       3291423849, 3794709374,  623607114, 2041498564, 3706963566,\n",
      "       1927449900, 2687050738, 3984843775, 2878798065, 1278693888,\n",
      "       4201082591, 2199892583, 1979451090,  799508583, 1983550457,\n",
      "       2857147608, 1928521170, 2863038637, 4136584148, 1417041018,\n",
      "       3794706096, 1253265950, 2067581477, 2234125844, 1512031418,\n",
      "       3194386532, 1437694302, 3071469735, 1810221887, 3418935807,\n",
      "       3600594931, 1008515550, 2576609164, 4114111515,  971232950,\n",
      "       1136189770, 1566397760, 1892342748,  846852555, 3818066311,\n",
      "       3151043532,  941811638, 3572361711, 1273275541, 3275511499,\n",
      "       2083306617, 3511341333, 1019761578, 3794661123, 2812634223,\n",
      "        409690034,  997362966, 3413774480, 3205556182, 2826186127,\n",
      "       3609595735,  891617009, 3678863430, 3705977217, 3330172029,\n",
      "       3930011607, 1740622828, 1298160148,  105980734, 1716290753,\n",
      "        917932258, 3119607871, 3662331243, 3694958268], dtype=uint32), 132, 0, 0.0)\n",
      "('MT19937', array([1036876355, 1873300696, 2779425791, 2339800103, 3723880741,\n",
      "       1327008191, 2106492371, 3203408818,  701761016, 3043702971,\n",
      "       1871833405, 3219103356,  856212731, 3351154237,   39152719,\n",
      "        513061616, 2103980784,  108772343,  182654284, 1685416113,\n",
      "       4185648610, 4026330555,  795053916, 2362482727, 2781071686,\n",
      "       3236596564, 3394025798, 1750103809, 3892970399, 3474087018,\n",
      "       4102634357, 3711757517, 2301984460, 2737821047, 2216912524,\n",
      "        717776466, 3497452871, 1274676121, 1333709612, 1056772703,\n",
      "       3670424917, 2739579723, 3819878526, 2478480963, 4146654823,\n",
      "       3058203559, 2522998525, 2085635626, 1336284938, 2925938181,\n",
      "         38825661, 2960205374, 2493164034,  398438632, 1705719358,\n",
      "       3620913246, 2622837628, 3176186704,   14191055, 2442377354,\n",
      "       4059410324,  973581927, 4188131271,  138814531, 3906469862,\n",
      "       3629461658, 3818882571, 4052334261, 4275007254, 1614411297,\n",
      "       1680692855, 1449363529, 2281178495, 2493993333, 1677642278,\n",
      "        792491368,  476740251, 4209768305, 1841126576, 1429353952,\n",
      "       2467072645, 1885755481, 1694712675, 1601187635, 1548200975,\n",
      "       2845970427,  294724874, 1643076106, 4172658599, 1750253701,\n",
      "       1308787566, 2588934722, 1935830617, 3559175713,  906999510,\n",
      "       3218182432, 3512596646,  899292934, 2557299002, 1893358037,\n",
      "        560245378, 3710675862, 2615881014,  316679444, 2962671920,\n",
      "       1041044048, 4191770952, 4256937430,  196176005,  467970998,\n",
      "        243295635, 1167991073, 2784052680, 4245395638, 4125153613,\n",
      "       4110406074,  971923323,  695406079, 3496315824,  357909311,\n",
      "       1751676811, 1518790934, 4099952317,  816632113, 1447859772,\n",
      "        151931250, 1241139576, 3723893554, 4187475227,  544646380,\n",
      "       3946902843, 1807056253, 3043181223, 1551000349, 1073404255,\n",
      "       3428149666, 1251396176, 3067265653, 1720353205,  621002819,\n",
      "        381269683, 1574457509, 1535618566, 2944830233, 3719299781,\n",
      "       1733934070, 2493962751,  361231328, 2614254289, 1354145808,\n",
      "       4119697761, 1835898327, 3197791332, 2049218221, 1313376925,\n",
      "        577179965, 3635603244,  140357814, 1900571703, 2099956297,\n",
      "        768038933, 3518580897,  579300320, 3271633402,  466621525,\n",
      "       1485065653, 3056549327, 2188272461, 2542178961, 1668344371,\n",
      "       3851371285, 3925206647,  709127951, 1646927204,  518258762,\n",
      "       1366216418, 2556541645, 3807304381, 3661205834, 3557506052,\n",
      "       3820814610, 3683600217,  128589197, 2736611330, 1084631543,\n",
      "        103976581, 2328778793,  127407800, 3360596525, 3111753039,\n",
      "       3921146613, 4091460585, 3796179437, 1407938587, 1797275955,\n",
      "       2344447084, 2989806024,  954889156,  170447225,  508696342,\n",
      "       1134737180, 2464401803,  158615444, 3135444531, 4198544724,\n",
      "        451761227, 3393652488, 1736483808, 3368955719, 1535123677,\n",
      "       1803908011, 4231278232, 2016918174, 3219366995,   41276942,\n",
      "       3998088891, 3402197802, 4265839073, 1607575653,  901002693,\n",
      "       1650345235, 1233674544,  301056982, 3421733756, 1207490072,\n",
      "        357678952, 2792592700, 1208507379,   87382663, 2898975552,\n",
      "       4121951834,  288091137, 3011507510, 2936647913, 1361726961,\n",
      "       2131030738, 2401957532,  244292670, 2912098185, 3131746853,\n",
      "        710946553, 1310590855,  828128092, 2829560166, 1672188769,\n",
      "       4168160734, 3424896587, 2184399006, 1166552800,  773311304,\n",
      "       3037819697, 1012628299, 3556121983, 1587142922,  619295349,\n",
      "       1278214504,  400500958, 1842294939, 4055358454, 2089738669,\n",
      "       1338057974, 2237873265, 3547642918,  988666321,  124192261,\n",
      "       1107024663, 2789960060, 3215361605, 3125420009, 1594670884,\n",
      "       1372915126, 3429527440, 3827380320, 2935841362,  958290162,\n",
      "        392777370, 4065376931,  472106643, 1334192325, 1177772693,\n",
      "       3556426272, 3527220953, 4247750970, 1004470542, 2682049294,\n",
      "       1932672900,  170628749, 1248007132, 2905198590, 4248539190,\n",
      "       1685128005, 2875624084, 2535374743,  438992083, 2836054087,\n",
      "       2277855155, 1326966295, 1166744012, 3573405190,  254078052,\n",
      "        581265535, 3103093610, 2959223854, 3056413466, 2380887017,\n",
      "       2291293477, 2819738550, 4114662315, 1250419127, 1563227138,\n",
      "       1201964957, 3546386888, 3888018877,  284454258, 2784958536,\n",
      "       2207806479, 3690741963, 1234830708, 4193497192, 4136418936,\n",
      "        950983555, 3888271820, 3984536851, 3827811954,  118209135,\n",
      "       3308088518, 3851331820,    1142220, 1886534505, 2182782976,\n",
      "       2984223287, 1243355003, 1665063506,  636433656, 2900883970,\n",
      "       2204020674, 3780306391, 1749224308,  721743895, 3460509447,\n",
      "       1209292232, 1301920775, 1546007892, 3705656704,  529233471,\n",
      "       3798220620, 2449308472, 3713803064, 1757987421, 2681296959,\n",
      "        265611352, 1699480639,  906575079, 4135744975, 1943204351,\n",
      "       2923194593, 3888426566, 1501706401, 3403514531, 2469381782,\n",
      "       4113924989, 1877106740, 1182093305, 1312538987, 1436853736,\n",
      "        217401812, 2382845390, 1383461765, 2776017535,  865190439,\n",
      "       4176377162, 3283637082, 2764444697, 3626692814, 3911666744,\n",
      "       3735656167, 1328971956,  713585087,  324734679, 3738765443,\n",
      "        620548421, 3179430819, 2441777770, 4011838506, 3804062450,\n",
      "       4249237389, 2626496665, 2267766151,  909119903, 1872689780,\n",
      "        205500713,  800603238,  676737880, 2166541169, 3861260994,\n",
      "       1128262331,  466787138, 2584452918, 3073450335,  972405546,\n",
      "       2721965118, 2498859907, 1982673632, 2126393887, 3404368058,\n",
      "        232829502,  921076376,  744493451,   26155897, 2636491098,\n",
      "       3491693424, 2290944656, 1451168001, 2426950682,  987948841,\n",
      "       4138091625, 2908820844, 2825308699, 1570922876, 2570830376,\n",
      "       3050674656,  198691465, 1506571039, 3514114568, 2685358720,\n",
      "        706097535, 1573606884, 3154659239,  960942867, 3638367408,\n",
      "       2971793775,  750199376, 2132462121,  734916210, 4159699206,\n",
      "       2279796728, 1895637892, 1455719713, 1383778493, 3174607284,\n",
      "       3995126860,  629156619, 3346450115, 2413357890, 1873176402,\n",
      "       2666507922, 1628540549, 4087584431, 3934896989, 3900011295,\n",
      "       4118088745, 2649950965, 3375870151,  676953970, 2590173768,\n",
      "       1143865168,  199968969, 3498635368, 3440230550, 2731542902,\n",
      "       1616275386,   40439861, 3295934839,  520452868,  870214177,\n",
      "       1871666406, 1450536014, 1868540236, 1198004107, 2554142578,\n",
      "       1140137950,  361045438, 4240997144, 2692582835, 3715359274,\n",
      "       1442044036, 1889365377,  593226588,   17905039, 3802670942,\n",
      "       2291428237,  664302160, 3033639424, 2302470372,  862051112,\n",
      "       3614185840, 1071671715,  661608526, 1360565386, 2961985219,\n",
      "       1273173804, 2849601258, 3701226399, 1949801757, 1724853238,\n",
      "       1498737203, 2919293079, 2456444642, 2416810398, 2468777868,\n",
      "         69882202, 3002809241, 3842358921,   46557055, 4047219165,\n",
      "       1904330946, 3506763974,  437013797, 2833508535, 1553122145,\n",
      "       2120835724, 3358649587, 3554802404, 1562720183, 4088688103,\n",
      "       2171819985,  818399713, 1815358651, 2086218489, 2380443840,\n",
      "        559706664, 1378526888, 3781893223, 3447061169, 2757957170,\n",
      "       1760253679, 2336996612, 3862487136, 1613415701, 4162377139,\n",
      "       2143557560, 3568260582, 2009159720,  973207482, 2990825062,\n",
      "       1099635682, 3820628659, 4032190882,  732594213, 1687908530,\n",
      "       2144302959,  233849774, 2191849414, 1260516742, 2668887170,\n",
      "       1793134330, 4114733116, 3171745713,  419074767, 1320768468,\n",
      "       2936825417, 2402102589, 1877448989, 1213464208, 3477253456,\n",
      "       3291423849, 3794709374,  623607114, 2041498564, 3706963566,\n",
      "       1927449900, 2687050738, 3984843775, 2878798065, 1278693888,\n",
      "       4201082591, 2199892583, 1979451090,  799508583, 1983550457,\n",
      "       2857147608, 1928521170, 2863038637, 4136584148, 1417041018,\n",
      "       3794706096, 1253265950, 2067581477, 2234125844, 1512031418,\n",
      "       3194386532, 1437694302, 3071469735, 1810221887, 3418935807,\n",
      "       3600594931, 1008515550, 2576609164, 4114111515,  971232950,\n",
      "       1136189770, 1566397760, 1892342748,  846852555, 3818066311,\n",
      "       3151043532,  941811638, 3572361711, 1273275541, 3275511499,\n",
      "       2083306617, 3511341333, 1019761578, 3794661123, 2812634223,\n",
      "        409690034,  997362966, 3413774480, 3205556182, 2826186127,\n",
      "       3609595735,  891617009, 3678863430, 3705977217, 3330172029,\n",
      "       3930011607, 1740622828, 1298160148,  105980734, 1716290753,\n",
      "        917932258, 3119607871, 3662331243, 3694958268], dtype=uint32), 160, 0, 0.0)\n",
      "('MT19937', array([1036876355, 1873300696, 2779425791, 2339800103, 3723880741,\n",
      "       1327008191, 2106492371, 3203408818,  701761016, 3043702971,\n",
      "       1871833405, 3219103356,  856212731, 3351154237,   39152719,\n",
      "        513061616, 2103980784,  108772343,  182654284, 1685416113,\n",
      "       4185648610, 4026330555,  795053916, 2362482727, 2781071686,\n",
      "       3236596564, 3394025798, 1750103809, 3892970399, 3474087018,\n",
      "       4102634357, 3711757517, 2301984460, 2737821047, 2216912524,\n",
      "        717776466, 3497452871, 1274676121, 1333709612, 1056772703,\n",
      "       3670424917, 2739579723, 3819878526, 2478480963, 4146654823,\n",
      "       3058203559, 2522998525, 2085635626, 1336284938, 2925938181,\n",
      "         38825661, 2960205374, 2493164034,  398438632, 1705719358,\n",
      "       3620913246, 2622837628, 3176186704,   14191055, 2442377354,\n",
      "       4059410324,  973581927, 4188131271,  138814531, 3906469862,\n",
      "       3629461658, 3818882571, 4052334261, 4275007254, 1614411297,\n",
      "       1680692855, 1449363529, 2281178495, 2493993333, 1677642278,\n",
      "        792491368,  476740251, 4209768305, 1841126576, 1429353952,\n",
      "       2467072645, 1885755481, 1694712675, 1601187635, 1548200975,\n",
      "       2845970427,  294724874, 1643076106, 4172658599, 1750253701,\n",
      "       1308787566, 2588934722, 1935830617, 3559175713,  906999510,\n",
      "       3218182432, 3512596646,  899292934, 2557299002, 1893358037,\n",
      "        560245378, 3710675862, 2615881014,  316679444, 2962671920,\n",
      "       1041044048, 4191770952, 4256937430,  196176005,  467970998,\n",
      "        243295635, 1167991073, 2784052680, 4245395638, 4125153613,\n",
      "       4110406074,  971923323,  695406079, 3496315824,  357909311,\n",
      "       1751676811, 1518790934, 4099952317,  816632113, 1447859772,\n",
      "        151931250, 1241139576, 3723893554, 4187475227,  544646380,\n",
      "       3946902843, 1807056253, 3043181223, 1551000349, 1073404255,\n",
      "       3428149666, 1251396176, 3067265653, 1720353205,  621002819,\n",
      "        381269683, 1574457509, 1535618566, 2944830233, 3719299781,\n",
      "       1733934070, 2493962751,  361231328, 2614254289, 1354145808,\n",
      "       4119697761, 1835898327, 3197791332, 2049218221, 1313376925,\n",
      "        577179965, 3635603244,  140357814, 1900571703, 2099956297,\n",
      "        768038933, 3518580897,  579300320, 3271633402,  466621525,\n",
      "       1485065653, 3056549327, 2188272461, 2542178961, 1668344371,\n",
      "       3851371285, 3925206647,  709127951, 1646927204,  518258762,\n",
      "       1366216418, 2556541645, 3807304381, 3661205834, 3557506052,\n",
      "       3820814610, 3683600217,  128589197, 2736611330, 1084631543,\n",
      "        103976581, 2328778793,  127407800, 3360596525, 3111753039,\n",
      "       3921146613, 4091460585, 3796179437, 1407938587, 1797275955,\n",
      "       2344447084, 2989806024,  954889156,  170447225,  508696342,\n",
      "       1134737180, 2464401803,  158615444, 3135444531, 4198544724,\n",
      "        451761227, 3393652488, 1736483808, 3368955719, 1535123677,\n",
      "       1803908011, 4231278232, 2016918174, 3219366995,   41276942,\n",
      "       3998088891, 3402197802, 4265839073, 1607575653,  901002693,\n",
      "       1650345235, 1233674544,  301056982, 3421733756, 1207490072,\n",
      "        357678952, 2792592700, 1208507379,   87382663, 2898975552,\n",
      "       4121951834,  288091137, 3011507510, 2936647913, 1361726961,\n",
      "       2131030738, 2401957532,  244292670, 2912098185, 3131746853,\n",
      "        710946553, 1310590855,  828128092, 2829560166, 1672188769,\n",
      "       4168160734, 3424896587, 2184399006, 1166552800,  773311304,\n",
      "       3037819697, 1012628299, 3556121983, 1587142922,  619295349,\n",
      "       1278214504,  400500958, 1842294939, 4055358454, 2089738669,\n",
      "       1338057974, 2237873265, 3547642918,  988666321,  124192261,\n",
      "       1107024663, 2789960060, 3215361605, 3125420009, 1594670884,\n",
      "       1372915126, 3429527440, 3827380320, 2935841362,  958290162,\n",
      "        392777370, 4065376931,  472106643, 1334192325, 1177772693,\n",
      "       3556426272, 3527220953, 4247750970, 1004470542, 2682049294,\n",
      "       1932672900,  170628749, 1248007132, 2905198590, 4248539190,\n",
      "       1685128005, 2875624084, 2535374743,  438992083, 2836054087,\n",
      "       2277855155, 1326966295, 1166744012, 3573405190,  254078052,\n",
      "        581265535, 3103093610, 2959223854, 3056413466, 2380887017,\n",
      "       2291293477, 2819738550, 4114662315, 1250419127, 1563227138,\n",
      "       1201964957, 3546386888, 3888018877,  284454258, 2784958536,\n",
      "       2207806479, 3690741963, 1234830708, 4193497192, 4136418936,\n",
      "        950983555, 3888271820, 3984536851, 3827811954,  118209135,\n",
      "       3308088518, 3851331820,    1142220, 1886534505, 2182782976,\n",
      "       2984223287, 1243355003, 1665063506,  636433656, 2900883970,\n",
      "       2204020674, 3780306391, 1749224308,  721743895, 3460509447,\n",
      "       1209292232, 1301920775, 1546007892, 3705656704,  529233471,\n",
      "       3798220620, 2449308472, 3713803064, 1757987421, 2681296959,\n",
      "        265611352, 1699480639,  906575079, 4135744975, 1943204351,\n",
      "       2923194593, 3888426566, 1501706401, 3403514531, 2469381782,\n",
      "       4113924989, 1877106740, 1182093305, 1312538987, 1436853736,\n",
      "        217401812, 2382845390, 1383461765, 2776017535,  865190439,\n",
      "       4176377162, 3283637082, 2764444697, 3626692814, 3911666744,\n",
      "       3735656167, 1328971956,  713585087,  324734679, 3738765443,\n",
      "        620548421, 3179430819, 2441777770, 4011838506, 3804062450,\n",
      "       4249237389, 2626496665, 2267766151,  909119903, 1872689780,\n",
      "        205500713,  800603238,  676737880, 2166541169, 3861260994,\n",
      "       1128262331,  466787138, 2584452918, 3073450335,  972405546,\n",
      "       2721965118, 2498859907, 1982673632, 2126393887, 3404368058,\n",
      "        232829502,  921076376,  744493451,   26155897, 2636491098,\n",
      "       3491693424, 2290944656, 1451168001, 2426950682,  987948841,\n",
      "       4138091625, 2908820844, 2825308699, 1570922876, 2570830376,\n",
      "       3050674656,  198691465, 1506571039, 3514114568, 2685358720,\n",
      "        706097535, 1573606884, 3154659239,  960942867, 3638367408,\n",
      "       2971793775,  750199376, 2132462121,  734916210, 4159699206,\n",
      "       2279796728, 1895637892, 1455719713, 1383778493, 3174607284,\n",
      "       3995126860,  629156619, 3346450115, 2413357890, 1873176402,\n",
      "       2666507922, 1628540549, 4087584431, 3934896989, 3900011295,\n",
      "       4118088745, 2649950965, 3375870151,  676953970, 2590173768,\n",
      "       1143865168,  199968969, 3498635368, 3440230550, 2731542902,\n",
      "       1616275386,   40439861, 3295934839,  520452868,  870214177,\n",
      "       1871666406, 1450536014, 1868540236, 1198004107, 2554142578,\n",
      "       1140137950,  361045438, 4240997144, 2692582835, 3715359274,\n",
      "       1442044036, 1889365377,  593226588,   17905039, 3802670942,\n",
      "       2291428237,  664302160, 3033639424, 2302470372,  862051112,\n",
      "       3614185840, 1071671715,  661608526, 1360565386, 2961985219,\n",
      "       1273173804, 2849601258, 3701226399, 1949801757, 1724853238,\n",
      "       1498737203, 2919293079, 2456444642, 2416810398, 2468777868,\n",
      "         69882202, 3002809241, 3842358921,   46557055, 4047219165,\n",
      "       1904330946, 3506763974,  437013797, 2833508535, 1553122145,\n",
      "       2120835724, 3358649587, 3554802404, 1562720183, 4088688103,\n",
      "       2171819985,  818399713, 1815358651, 2086218489, 2380443840,\n",
      "        559706664, 1378526888, 3781893223, 3447061169, 2757957170,\n",
      "       1760253679, 2336996612, 3862487136, 1613415701, 4162377139,\n",
      "       2143557560, 3568260582, 2009159720,  973207482, 2990825062,\n",
      "       1099635682, 3820628659, 4032190882,  732594213, 1687908530,\n",
      "       2144302959,  233849774, 2191849414, 1260516742, 2668887170,\n",
      "       1793134330, 4114733116, 3171745713,  419074767, 1320768468,\n",
      "       2936825417, 2402102589, 1877448989, 1213464208, 3477253456,\n",
      "       3291423849, 3794709374,  623607114, 2041498564, 3706963566,\n",
      "       1927449900, 2687050738, 3984843775, 2878798065, 1278693888,\n",
      "       4201082591, 2199892583, 1979451090,  799508583, 1983550457,\n",
      "       2857147608, 1928521170, 2863038637, 4136584148, 1417041018,\n",
      "       3794706096, 1253265950, 2067581477, 2234125844, 1512031418,\n",
      "       3194386532, 1437694302, 3071469735, 1810221887, 3418935807,\n",
      "       3600594931, 1008515550, 2576609164, 4114111515,  971232950,\n",
      "       1136189770, 1566397760, 1892342748,  846852555, 3818066311,\n",
      "       3151043532,  941811638, 3572361711, 1273275541, 3275511499,\n",
      "       2083306617, 3511341333, 1019761578, 3794661123, 2812634223,\n",
      "        409690034,  997362966, 3413774480, 3205556182, 2826186127,\n",
      "       3609595735,  891617009, 3678863430, 3705977217, 3330172029,\n",
      "       3930011607, 1740622828, 1298160148,  105980734, 1716290753,\n",
      "        917932258, 3119607871, 3662331243, 3694958268], dtype=uint32), 184, 0, 0.0)\n",
      "('MT19937', array([1036876355, 1873300696, 2779425791, 2339800103, 3723880741,\n",
      "       1327008191, 2106492371, 3203408818,  701761016, 3043702971,\n",
      "       1871833405, 3219103356,  856212731, 3351154237,   39152719,\n",
      "        513061616, 2103980784,  108772343,  182654284, 1685416113,\n",
      "       4185648610, 4026330555,  795053916, 2362482727, 2781071686,\n",
      "       3236596564, 3394025798, 1750103809, 3892970399, 3474087018,\n",
      "       4102634357, 3711757517, 2301984460, 2737821047, 2216912524,\n",
      "        717776466, 3497452871, 1274676121, 1333709612, 1056772703,\n",
      "       3670424917, 2739579723, 3819878526, 2478480963, 4146654823,\n",
      "       3058203559, 2522998525, 2085635626, 1336284938, 2925938181,\n",
      "         38825661, 2960205374, 2493164034,  398438632, 1705719358,\n",
      "       3620913246, 2622837628, 3176186704,   14191055, 2442377354,\n",
      "       4059410324,  973581927, 4188131271,  138814531, 3906469862,\n",
      "       3629461658, 3818882571, 4052334261, 4275007254, 1614411297,\n",
      "       1680692855, 1449363529, 2281178495, 2493993333, 1677642278,\n",
      "        792491368,  476740251, 4209768305, 1841126576, 1429353952,\n",
      "       2467072645, 1885755481, 1694712675, 1601187635, 1548200975,\n",
      "       2845970427,  294724874, 1643076106, 4172658599, 1750253701,\n",
      "       1308787566, 2588934722, 1935830617, 3559175713,  906999510,\n",
      "       3218182432, 3512596646,  899292934, 2557299002, 1893358037,\n",
      "        560245378, 3710675862, 2615881014,  316679444, 2962671920,\n",
      "       1041044048, 4191770952, 4256937430,  196176005,  467970998,\n",
      "        243295635, 1167991073, 2784052680, 4245395638, 4125153613,\n",
      "       4110406074,  971923323,  695406079, 3496315824,  357909311,\n",
      "       1751676811, 1518790934, 4099952317,  816632113, 1447859772,\n",
      "        151931250, 1241139576, 3723893554, 4187475227,  544646380,\n",
      "       3946902843, 1807056253, 3043181223, 1551000349, 1073404255,\n",
      "       3428149666, 1251396176, 3067265653, 1720353205,  621002819,\n",
      "        381269683, 1574457509, 1535618566, 2944830233, 3719299781,\n",
      "       1733934070, 2493962751,  361231328, 2614254289, 1354145808,\n",
      "       4119697761, 1835898327, 3197791332, 2049218221, 1313376925,\n",
      "        577179965, 3635603244,  140357814, 1900571703, 2099956297,\n",
      "        768038933, 3518580897,  579300320, 3271633402,  466621525,\n",
      "       1485065653, 3056549327, 2188272461, 2542178961, 1668344371,\n",
      "       3851371285, 3925206647,  709127951, 1646927204,  518258762,\n",
      "       1366216418, 2556541645, 3807304381, 3661205834, 3557506052,\n",
      "       3820814610, 3683600217,  128589197, 2736611330, 1084631543,\n",
      "        103976581, 2328778793,  127407800, 3360596525, 3111753039,\n",
      "       3921146613, 4091460585, 3796179437, 1407938587, 1797275955,\n",
      "       2344447084, 2989806024,  954889156,  170447225,  508696342,\n",
      "       1134737180, 2464401803,  158615444, 3135444531, 4198544724,\n",
      "        451761227, 3393652488, 1736483808, 3368955719, 1535123677,\n",
      "       1803908011, 4231278232, 2016918174, 3219366995,   41276942,\n",
      "       3998088891, 3402197802, 4265839073, 1607575653,  901002693,\n",
      "       1650345235, 1233674544,  301056982, 3421733756, 1207490072,\n",
      "        357678952, 2792592700, 1208507379,   87382663, 2898975552,\n",
      "       4121951834,  288091137, 3011507510, 2936647913, 1361726961,\n",
      "       2131030738, 2401957532,  244292670, 2912098185, 3131746853,\n",
      "        710946553, 1310590855,  828128092, 2829560166, 1672188769,\n",
      "       4168160734, 3424896587, 2184399006, 1166552800,  773311304,\n",
      "       3037819697, 1012628299, 3556121983, 1587142922,  619295349,\n",
      "       1278214504,  400500958, 1842294939, 4055358454, 2089738669,\n",
      "       1338057974, 2237873265, 3547642918,  988666321,  124192261,\n",
      "       1107024663, 2789960060, 3215361605, 3125420009, 1594670884,\n",
      "       1372915126, 3429527440, 3827380320, 2935841362,  958290162,\n",
      "        392777370, 4065376931,  472106643, 1334192325, 1177772693,\n",
      "       3556426272, 3527220953, 4247750970, 1004470542, 2682049294,\n",
      "       1932672900,  170628749, 1248007132, 2905198590, 4248539190,\n",
      "       1685128005, 2875624084, 2535374743,  438992083, 2836054087,\n",
      "       2277855155, 1326966295, 1166744012, 3573405190,  254078052,\n",
      "        581265535, 3103093610, 2959223854, 3056413466, 2380887017,\n",
      "       2291293477, 2819738550, 4114662315, 1250419127, 1563227138,\n",
      "       1201964957, 3546386888, 3888018877,  284454258, 2784958536,\n",
      "       2207806479, 3690741963, 1234830708, 4193497192, 4136418936,\n",
      "        950983555, 3888271820, 3984536851, 3827811954,  118209135,\n",
      "       3308088518, 3851331820,    1142220, 1886534505, 2182782976,\n",
      "       2984223287, 1243355003, 1665063506,  636433656, 2900883970,\n",
      "       2204020674, 3780306391, 1749224308,  721743895, 3460509447,\n",
      "       1209292232, 1301920775, 1546007892, 3705656704,  529233471,\n",
      "       3798220620, 2449308472, 3713803064, 1757987421, 2681296959,\n",
      "        265611352, 1699480639,  906575079, 4135744975, 1943204351,\n",
      "       2923194593, 3888426566, 1501706401, 3403514531, 2469381782,\n",
      "       4113924989, 1877106740, 1182093305, 1312538987, 1436853736,\n",
      "        217401812, 2382845390, 1383461765, 2776017535,  865190439,\n",
      "       4176377162, 3283637082, 2764444697, 3626692814, 3911666744,\n",
      "       3735656167, 1328971956,  713585087,  324734679, 3738765443,\n",
      "        620548421, 3179430819, 2441777770, 4011838506, 3804062450,\n",
      "       4249237389, 2626496665, 2267766151,  909119903, 1872689780,\n",
      "        205500713,  800603238,  676737880, 2166541169, 3861260994,\n",
      "       1128262331,  466787138, 2584452918, 3073450335,  972405546,\n",
      "       2721965118, 2498859907, 1982673632, 2126393887, 3404368058,\n",
      "        232829502,  921076376,  744493451,   26155897, 2636491098,\n",
      "       3491693424, 2290944656, 1451168001, 2426950682,  987948841,\n",
      "       4138091625, 2908820844, 2825308699, 1570922876, 2570830376,\n",
      "       3050674656,  198691465, 1506571039, 3514114568, 2685358720,\n",
      "        706097535, 1573606884, 3154659239,  960942867, 3638367408,\n",
      "       2971793775,  750199376, 2132462121,  734916210, 4159699206,\n",
      "       2279796728, 1895637892, 1455719713, 1383778493, 3174607284,\n",
      "       3995126860,  629156619, 3346450115, 2413357890, 1873176402,\n",
      "       2666507922, 1628540549, 4087584431, 3934896989, 3900011295,\n",
      "       4118088745, 2649950965, 3375870151,  676953970, 2590173768,\n",
      "       1143865168,  199968969, 3498635368, 3440230550, 2731542902,\n",
      "       1616275386,   40439861, 3295934839,  520452868,  870214177,\n",
      "       1871666406, 1450536014, 1868540236, 1198004107, 2554142578,\n",
      "       1140137950,  361045438, 4240997144, 2692582835, 3715359274,\n",
      "       1442044036, 1889365377,  593226588,   17905039, 3802670942,\n",
      "       2291428237,  664302160, 3033639424, 2302470372,  862051112,\n",
      "       3614185840, 1071671715,  661608526, 1360565386, 2961985219,\n",
      "       1273173804, 2849601258, 3701226399, 1949801757, 1724853238,\n",
      "       1498737203, 2919293079, 2456444642, 2416810398, 2468777868,\n",
      "         69882202, 3002809241, 3842358921,   46557055, 4047219165,\n",
      "       1904330946, 3506763974,  437013797, 2833508535, 1553122145,\n",
      "       2120835724, 3358649587, 3554802404, 1562720183, 4088688103,\n",
      "       2171819985,  818399713, 1815358651, 2086218489, 2380443840,\n",
      "        559706664, 1378526888, 3781893223, 3447061169, 2757957170,\n",
      "       1760253679, 2336996612, 3862487136, 1613415701, 4162377139,\n",
      "       2143557560, 3568260582, 2009159720,  973207482, 2990825062,\n",
      "       1099635682, 3820628659, 4032190882,  732594213, 1687908530,\n",
      "       2144302959,  233849774, 2191849414, 1260516742, 2668887170,\n",
      "       1793134330, 4114733116, 3171745713,  419074767, 1320768468,\n",
      "       2936825417, 2402102589, 1877448989, 1213464208, 3477253456,\n",
      "       3291423849, 3794709374,  623607114, 2041498564, 3706963566,\n",
      "       1927449900, 2687050738, 3984843775, 2878798065, 1278693888,\n",
      "       4201082591, 2199892583, 1979451090,  799508583, 1983550457,\n",
      "       2857147608, 1928521170, 2863038637, 4136584148, 1417041018,\n",
      "       3794706096, 1253265950, 2067581477, 2234125844, 1512031418,\n",
      "       3194386532, 1437694302, 3071469735, 1810221887, 3418935807,\n",
      "       3600594931, 1008515550, 2576609164, 4114111515,  971232950,\n",
      "       1136189770, 1566397760, 1892342748,  846852555, 3818066311,\n",
      "       3151043532,  941811638, 3572361711, 1273275541, 3275511499,\n",
      "       2083306617, 3511341333, 1019761578, 3794661123, 2812634223,\n",
      "        409690034,  997362966, 3413774480, 3205556182, 2826186127,\n",
      "       3609595735,  891617009, 3678863430, 3705977217, 3330172029,\n",
      "       3930011607, 1740622828, 1298160148,  105980734, 1716290753,\n",
      "        917932258, 3119607871, 3662331243, 3694958268], dtype=uint32), 208, 0, 0.0)\n",
      "('MT19937', array([1036876355, 1873300696, 2779425791, 2339800103, 3723880741,\n",
      "       1327008191, 2106492371, 3203408818,  701761016, 3043702971,\n",
      "       1871833405, 3219103356,  856212731, 3351154237,   39152719,\n",
      "        513061616, 2103980784,  108772343,  182654284, 1685416113,\n",
      "       4185648610, 4026330555,  795053916, 2362482727, 2781071686,\n",
      "       3236596564, 3394025798, 1750103809, 3892970399, 3474087018,\n",
      "       4102634357, 3711757517, 2301984460, 2737821047, 2216912524,\n",
      "        717776466, 3497452871, 1274676121, 1333709612, 1056772703,\n",
      "       3670424917, 2739579723, 3819878526, 2478480963, 4146654823,\n",
      "       3058203559, 2522998525, 2085635626, 1336284938, 2925938181,\n",
      "         38825661, 2960205374, 2493164034,  398438632, 1705719358,\n",
      "       3620913246, 2622837628, 3176186704,   14191055, 2442377354,\n",
      "       4059410324,  973581927, 4188131271,  138814531, 3906469862,\n",
      "       3629461658, 3818882571, 4052334261, 4275007254, 1614411297,\n",
      "       1680692855, 1449363529, 2281178495, 2493993333, 1677642278,\n",
      "        792491368,  476740251, 4209768305, 1841126576, 1429353952,\n",
      "       2467072645, 1885755481, 1694712675, 1601187635, 1548200975,\n",
      "       2845970427,  294724874, 1643076106, 4172658599, 1750253701,\n",
      "       1308787566, 2588934722, 1935830617, 3559175713,  906999510,\n",
      "       3218182432, 3512596646,  899292934, 2557299002, 1893358037,\n",
      "        560245378, 3710675862, 2615881014,  316679444, 2962671920,\n",
      "       1041044048, 4191770952, 4256937430,  196176005,  467970998,\n",
      "        243295635, 1167991073, 2784052680, 4245395638, 4125153613,\n",
      "       4110406074,  971923323,  695406079, 3496315824,  357909311,\n",
      "       1751676811, 1518790934, 4099952317,  816632113, 1447859772,\n",
      "        151931250, 1241139576, 3723893554, 4187475227,  544646380,\n",
      "       3946902843, 1807056253, 3043181223, 1551000349, 1073404255,\n",
      "       3428149666, 1251396176, 3067265653, 1720353205,  621002819,\n",
      "        381269683, 1574457509, 1535618566, 2944830233, 3719299781,\n",
      "       1733934070, 2493962751,  361231328, 2614254289, 1354145808,\n",
      "       4119697761, 1835898327, 3197791332, 2049218221, 1313376925,\n",
      "        577179965, 3635603244,  140357814, 1900571703, 2099956297,\n",
      "        768038933, 3518580897,  579300320, 3271633402,  466621525,\n",
      "       1485065653, 3056549327, 2188272461, 2542178961, 1668344371,\n",
      "       3851371285, 3925206647,  709127951, 1646927204,  518258762,\n",
      "       1366216418, 2556541645, 3807304381, 3661205834, 3557506052,\n",
      "       3820814610, 3683600217,  128589197, 2736611330, 1084631543,\n",
      "        103976581, 2328778793,  127407800, 3360596525, 3111753039,\n",
      "       3921146613, 4091460585, 3796179437, 1407938587, 1797275955,\n",
      "       2344447084, 2989806024,  954889156,  170447225,  508696342,\n",
      "       1134737180, 2464401803,  158615444, 3135444531, 4198544724,\n",
      "        451761227, 3393652488, 1736483808, 3368955719, 1535123677,\n",
      "       1803908011, 4231278232, 2016918174, 3219366995,   41276942,\n",
      "       3998088891, 3402197802, 4265839073, 1607575653,  901002693,\n",
      "       1650345235, 1233674544,  301056982, 3421733756, 1207490072,\n",
      "        357678952, 2792592700, 1208507379,   87382663, 2898975552,\n",
      "       4121951834,  288091137, 3011507510, 2936647913, 1361726961,\n",
      "       2131030738, 2401957532,  244292670, 2912098185, 3131746853,\n",
      "        710946553, 1310590855,  828128092, 2829560166, 1672188769,\n",
      "       4168160734, 3424896587, 2184399006, 1166552800,  773311304,\n",
      "       3037819697, 1012628299, 3556121983, 1587142922,  619295349,\n",
      "       1278214504,  400500958, 1842294939, 4055358454, 2089738669,\n",
      "       1338057974, 2237873265, 3547642918,  988666321,  124192261,\n",
      "       1107024663, 2789960060, 3215361605, 3125420009, 1594670884,\n",
      "       1372915126, 3429527440, 3827380320, 2935841362,  958290162,\n",
      "        392777370, 4065376931,  472106643, 1334192325, 1177772693,\n",
      "       3556426272, 3527220953, 4247750970, 1004470542, 2682049294,\n",
      "       1932672900,  170628749, 1248007132, 2905198590, 4248539190,\n",
      "       1685128005, 2875624084, 2535374743,  438992083, 2836054087,\n",
      "       2277855155, 1326966295, 1166744012, 3573405190,  254078052,\n",
      "        581265535, 3103093610, 2959223854, 3056413466, 2380887017,\n",
      "       2291293477, 2819738550, 4114662315, 1250419127, 1563227138,\n",
      "       1201964957, 3546386888, 3888018877,  284454258, 2784958536,\n",
      "       2207806479, 3690741963, 1234830708, 4193497192, 4136418936,\n",
      "        950983555, 3888271820, 3984536851, 3827811954,  118209135,\n",
      "       3308088518, 3851331820,    1142220, 1886534505, 2182782976,\n",
      "       2984223287, 1243355003, 1665063506,  636433656, 2900883970,\n",
      "       2204020674, 3780306391, 1749224308,  721743895, 3460509447,\n",
      "       1209292232, 1301920775, 1546007892, 3705656704,  529233471,\n",
      "       3798220620, 2449308472, 3713803064, 1757987421, 2681296959,\n",
      "        265611352, 1699480639,  906575079, 4135744975, 1943204351,\n",
      "       2923194593, 3888426566, 1501706401, 3403514531, 2469381782,\n",
      "       4113924989, 1877106740, 1182093305, 1312538987, 1436853736,\n",
      "        217401812, 2382845390, 1383461765, 2776017535,  865190439,\n",
      "       4176377162, 3283637082, 2764444697, 3626692814, 3911666744,\n",
      "       3735656167, 1328971956,  713585087,  324734679, 3738765443,\n",
      "        620548421, 3179430819, 2441777770, 4011838506, 3804062450,\n",
      "       4249237389, 2626496665, 2267766151,  909119903, 1872689780,\n",
      "        205500713,  800603238,  676737880, 2166541169, 3861260994,\n",
      "       1128262331,  466787138, 2584452918, 3073450335,  972405546,\n",
      "       2721965118, 2498859907, 1982673632, 2126393887, 3404368058,\n",
      "        232829502,  921076376,  744493451,   26155897, 2636491098,\n",
      "       3491693424, 2290944656, 1451168001, 2426950682,  987948841,\n",
      "       4138091625, 2908820844, 2825308699, 1570922876, 2570830376,\n",
      "       3050674656,  198691465, 1506571039, 3514114568, 2685358720,\n",
      "        706097535, 1573606884, 3154659239,  960942867, 3638367408,\n",
      "       2971793775,  750199376, 2132462121,  734916210, 4159699206,\n",
      "       2279796728, 1895637892, 1455719713, 1383778493, 3174607284,\n",
      "       3995126860,  629156619, 3346450115, 2413357890, 1873176402,\n",
      "       2666507922, 1628540549, 4087584431, 3934896989, 3900011295,\n",
      "       4118088745, 2649950965, 3375870151,  676953970, 2590173768,\n",
      "       1143865168,  199968969, 3498635368, 3440230550, 2731542902,\n",
      "       1616275386,   40439861, 3295934839,  520452868,  870214177,\n",
      "       1871666406, 1450536014, 1868540236, 1198004107, 2554142578,\n",
      "       1140137950,  361045438, 4240997144, 2692582835, 3715359274,\n",
      "       1442044036, 1889365377,  593226588,   17905039, 3802670942,\n",
      "       2291428237,  664302160, 3033639424, 2302470372,  862051112,\n",
      "       3614185840, 1071671715,  661608526, 1360565386, 2961985219,\n",
      "       1273173804, 2849601258, 3701226399, 1949801757, 1724853238,\n",
      "       1498737203, 2919293079, 2456444642, 2416810398, 2468777868,\n",
      "         69882202, 3002809241, 3842358921,   46557055, 4047219165,\n",
      "       1904330946, 3506763974,  437013797, 2833508535, 1553122145,\n",
      "       2120835724, 3358649587, 3554802404, 1562720183, 4088688103,\n",
      "       2171819985,  818399713, 1815358651, 2086218489, 2380443840,\n",
      "        559706664, 1378526888, 3781893223, 3447061169, 2757957170,\n",
      "       1760253679, 2336996612, 3862487136, 1613415701, 4162377139,\n",
      "       2143557560, 3568260582, 2009159720,  973207482, 2990825062,\n",
      "       1099635682, 3820628659, 4032190882,  732594213, 1687908530,\n",
      "       2144302959,  233849774, 2191849414, 1260516742, 2668887170,\n",
      "       1793134330, 4114733116, 3171745713,  419074767, 1320768468,\n",
      "       2936825417, 2402102589, 1877448989, 1213464208, 3477253456,\n",
      "       3291423849, 3794709374,  623607114, 2041498564, 3706963566,\n",
      "       1927449900, 2687050738, 3984843775, 2878798065, 1278693888,\n",
      "       4201082591, 2199892583, 1979451090,  799508583, 1983550457,\n",
      "       2857147608, 1928521170, 2863038637, 4136584148, 1417041018,\n",
      "       3794706096, 1253265950, 2067581477, 2234125844, 1512031418,\n",
      "       3194386532, 1437694302, 3071469735, 1810221887, 3418935807,\n",
      "       3600594931, 1008515550, 2576609164, 4114111515,  971232950,\n",
      "       1136189770, 1566397760, 1892342748,  846852555, 3818066311,\n",
      "       3151043532,  941811638, 3572361711, 1273275541, 3275511499,\n",
      "       2083306617, 3511341333, 1019761578, 3794661123, 2812634223,\n",
      "        409690034,  997362966, 3413774480, 3205556182, 2826186127,\n",
      "       3609595735,  891617009, 3678863430, 3705977217, 3330172029,\n",
      "       3930011607, 1740622828, 1298160148,  105980734, 1716290753,\n",
      "        917932258, 3119607871, 3662331243, 3694958268], dtype=uint32), 232, 0, 0.0)\n",
      "('MT19937', array([1036876355, 1873300696, 2779425791, 2339800103, 3723880741,\n",
      "       1327008191, 2106492371, 3203408818,  701761016, 3043702971,\n",
      "       1871833405, 3219103356,  856212731, 3351154237,   39152719,\n",
      "        513061616, 2103980784,  108772343,  182654284, 1685416113,\n",
      "       4185648610, 4026330555,  795053916, 2362482727, 2781071686,\n",
      "       3236596564, 3394025798, 1750103809, 3892970399, 3474087018,\n",
      "       4102634357, 3711757517, 2301984460, 2737821047, 2216912524,\n",
      "        717776466, 3497452871, 1274676121, 1333709612, 1056772703,\n",
      "       3670424917, 2739579723, 3819878526, 2478480963, 4146654823,\n",
      "       3058203559, 2522998525, 2085635626, 1336284938, 2925938181,\n",
      "         38825661, 2960205374, 2493164034,  398438632, 1705719358,\n",
      "       3620913246, 2622837628, 3176186704,   14191055, 2442377354,\n",
      "       4059410324,  973581927, 4188131271,  138814531, 3906469862,\n",
      "       3629461658, 3818882571, 4052334261, 4275007254, 1614411297,\n",
      "       1680692855, 1449363529, 2281178495, 2493993333, 1677642278,\n",
      "        792491368,  476740251, 4209768305, 1841126576, 1429353952,\n",
      "       2467072645, 1885755481, 1694712675, 1601187635, 1548200975,\n",
      "       2845970427,  294724874, 1643076106, 4172658599, 1750253701,\n",
      "       1308787566, 2588934722, 1935830617, 3559175713,  906999510,\n",
      "       3218182432, 3512596646,  899292934, 2557299002, 1893358037,\n",
      "        560245378, 3710675862, 2615881014,  316679444, 2962671920,\n",
      "       1041044048, 4191770952, 4256937430,  196176005,  467970998,\n",
      "        243295635, 1167991073, 2784052680, 4245395638, 4125153613,\n",
      "       4110406074,  971923323,  695406079, 3496315824,  357909311,\n",
      "       1751676811, 1518790934, 4099952317,  816632113, 1447859772,\n",
      "        151931250, 1241139576, 3723893554, 4187475227,  544646380,\n",
      "       3946902843, 1807056253, 3043181223, 1551000349, 1073404255,\n",
      "       3428149666, 1251396176, 3067265653, 1720353205,  621002819,\n",
      "        381269683, 1574457509, 1535618566, 2944830233, 3719299781,\n",
      "       1733934070, 2493962751,  361231328, 2614254289, 1354145808,\n",
      "       4119697761, 1835898327, 3197791332, 2049218221, 1313376925,\n",
      "        577179965, 3635603244,  140357814, 1900571703, 2099956297,\n",
      "        768038933, 3518580897,  579300320, 3271633402,  466621525,\n",
      "       1485065653, 3056549327, 2188272461, 2542178961, 1668344371,\n",
      "       3851371285, 3925206647,  709127951, 1646927204,  518258762,\n",
      "       1366216418, 2556541645, 3807304381, 3661205834, 3557506052,\n",
      "       3820814610, 3683600217,  128589197, 2736611330, 1084631543,\n",
      "        103976581, 2328778793,  127407800, 3360596525, 3111753039,\n",
      "       3921146613, 4091460585, 3796179437, 1407938587, 1797275955,\n",
      "       2344447084, 2989806024,  954889156,  170447225,  508696342,\n",
      "       1134737180, 2464401803,  158615444, 3135444531, 4198544724,\n",
      "        451761227, 3393652488, 1736483808, 3368955719, 1535123677,\n",
      "       1803908011, 4231278232, 2016918174, 3219366995,   41276942,\n",
      "       3998088891, 3402197802, 4265839073, 1607575653,  901002693,\n",
      "       1650345235, 1233674544,  301056982, 3421733756, 1207490072,\n",
      "        357678952, 2792592700, 1208507379,   87382663, 2898975552,\n",
      "       4121951834,  288091137, 3011507510, 2936647913, 1361726961,\n",
      "       2131030738, 2401957532,  244292670, 2912098185, 3131746853,\n",
      "        710946553, 1310590855,  828128092, 2829560166, 1672188769,\n",
      "       4168160734, 3424896587, 2184399006, 1166552800,  773311304,\n",
      "       3037819697, 1012628299, 3556121983, 1587142922,  619295349,\n",
      "       1278214504,  400500958, 1842294939, 4055358454, 2089738669,\n",
      "       1338057974, 2237873265, 3547642918,  988666321,  124192261,\n",
      "       1107024663, 2789960060, 3215361605, 3125420009, 1594670884,\n",
      "       1372915126, 3429527440, 3827380320, 2935841362,  958290162,\n",
      "        392777370, 4065376931,  472106643, 1334192325, 1177772693,\n",
      "       3556426272, 3527220953, 4247750970, 1004470542, 2682049294,\n",
      "       1932672900,  170628749, 1248007132, 2905198590, 4248539190,\n",
      "       1685128005, 2875624084, 2535374743,  438992083, 2836054087,\n",
      "       2277855155, 1326966295, 1166744012, 3573405190,  254078052,\n",
      "        581265535, 3103093610, 2959223854, 3056413466, 2380887017,\n",
      "       2291293477, 2819738550, 4114662315, 1250419127, 1563227138,\n",
      "       1201964957, 3546386888, 3888018877,  284454258, 2784958536,\n",
      "       2207806479, 3690741963, 1234830708, 4193497192, 4136418936,\n",
      "        950983555, 3888271820, 3984536851, 3827811954,  118209135,\n",
      "       3308088518, 3851331820,    1142220, 1886534505, 2182782976,\n",
      "       2984223287, 1243355003, 1665063506,  636433656, 2900883970,\n",
      "       2204020674, 3780306391, 1749224308,  721743895, 3460509447,\n",
      "       1209292232, 1301920775, 1546007892, 3705656704,  529233471,\n",
      "       3798220620, 2449308472, 3713803064, 1757987421, 2681296959,\n",
      "        265611352, 1699480639,  906575079, 4135744975, 1943204351,\n",
      "       2923194593, 3888426566, 1501706401, 3403514531, 2469381782,\n",
      "       4113924989, 1877106740, 1182093305, 1312538987, 1436853736,\n",
      "        217401812, 2382845390, 1383461765, 2776017535,  865190439,\n",
      "       4176377162, 3283637082, 2764444697, 3626692814, 3911666744,\n",
      "       3735656167, 1328971956,  713585087,  324734679, 3738765443,\n",
      "        620548421, 3179430819, 2441777770, 4011838506, 3804062450,\n",
      "       4249237389, 2626496665, 2267766151,  909119903, 1872689780,\n",
      "        205500713,  800603238,  676737880, 2166541169, 3861260994,\n",
      "       1128262331,  466787138, 2584452918, 3073450335,  972405546,\n",
      "       2721965118, 2498859907, 1982673632, 2126393887, 3404368058,\n",
      "        232829502,  921076376,  744493451,   26155897, 2636491098,\n",
      "       3491693424, 2290944656, 1451168001, 2426950682,  987948841,\n",
      "       4138091625, 2908820844, 2825308699, 1570922876, 2570830376,\n",
      "       3050674656,  198691465, 1506571039, 3514114568, 2685358720,\n",
      "        706097535, 1573606884, 3154659239,  960942867, 3638367408,\n",
      "       2971793775,  750199376, 2132462121,  734916210, 4159699206,\n",
      "       2279796728, 1895637892, 1455719713, 1383778493, 3174607284,\n",
      "       3995126860,  629156619, 3346450115, 2413357890, 1873176402,\n",
      "       2666507922, 1628540549, 4087584431, 3934896989, 3900011295,\n",
      "       4118088745, 2649950965, 3375870151,  676953970, 2590173768,\n",
      "       1143865168,  199968969, 3498635368, 3440230550, 2731542902,\n",
      "       1616275386,   40439861, 3295934839,  520452868,  870214177,\n",
      "       1871666406, 1450536014, 1868540236, 1198004107, 2554142578,\n",
      "       1140137950,  361045438, 4240997144, 2692582835, 3715359274,\n",
      "       1442044036, 1889365377,  593226588,   17905039, 3802670942,\n",
      "       2291428237,  664302160, 3033639424, 2302470372,  862051112,\n",
      "       3614185840, 1071671715,  661608526, 1360565386, 2961985219,\n",
      "       1273173804, 2849601258, 3701226399, 1949801757, 1724853238,\n",
      "       1498737203, 2919293079, 2456444642, 2416810398, 2468777868,\n",
      "         69882202, 3002809241, 3842358921,   46557055, 4047219165,\n",
      "       1904330946, 3506763974,  437013797, 2833508535, 1553122145,\n",
      "       2120835724, 3358649587, 3554802404, 1562720183, 4088688103,\n",
      "       2171819985,  818399713, 1815358651, 2086218489, 2380443840,\n",
      "        559706664, 1378526888, 3781893223, 3447061169, 2757957170,\n",
      "       1760253679, 2336996612, 3862487136, 1613415701, 4162377139,\n",
      "       2143557560, 3568260582, 2009159720,  973207482, 2990825062,\n",
      "       1099635682, 3820628659, 4032190882,  732594213, 1687908530,\n",
      "       2144302959,  233849774, 2191849414, 1260516742, 2668887170,\n",
      "       1793134330, 4114733116, 3171745713,  419074767, 1320768468,\n",
      "       2936825417, 2402102589, 1877448989, 1213464208, 3477253456,\n",
      "       3291423849, 3794709374,  623607114, 2041498564, 3706963566,\n",
      "       1927449900, 2687050738, 3984843775, 2878798065, 1278693888,\n",
      "       4201082591, 2199892583, 1979451090,  799508583, 1983550457,\n",
      "       2857147608, 1928521170, 2863038637, 4136584148, 1417041018,\n",
      "       3794706096, 1253265950, 2067581477, 2234125844, 1512031418,\n",
      "       3194386532, 1437694302, 3071469735, 1810221887, 3418935807,\n",
      "       3600594931, 1008515550, 2576609164, 4114111515,  971232950,\n",
      "       1136189770, 1566397760, 1892342748,  846852555, 3818066311,\n",
      "       3151043532,  941811638, 3572361711, 1273275541, 3275511499,\n",
      "       2083306617, 3511341333, 1019761578, 3794661123, 2812634223,\n",
      "        409690034,  997362966, 3413774480, 3205556182, 2826186127,\n",
      "       3609595735,  891617009, 3678863430, 3705977217, 3330172029,\n",
      "       3930011607, 1740622828, 1298160148,  105980734, 1716290753,\n",
      "        917932258, 3119607871, 3662331243, 3694958268], dtype=uint32), 248, 0, 0.0)\n",
      "('MT19937', array([1036876355, 1873300696, 2779425791, 2339800103, 3723880741,\n",
      "       1327008191, 2106492371, 3203408818,  701761016, 3043702971,\n",
      "       1871833405, 3219103356,  856212731, 3351154237,   39152719,\n",
      "        513061616, 2103980784,  108772343,  182654284, 1685416113,\n",
      "       4185648610, 4026330555,  795053916, 2362482727, 2781071686,\n",
      "       3236596564, 3394025798, 1750103809, 3892970399, 3474087018,\n",
      "       4102634357, 3711757517, 2301984460, 2737821047, 2216912524,\n",
      "        717776466, 3497452871, 1274676121, 1333709612, 1056772703,\n",
      "       3670424917, 2739579723, 3819878526, 2478480963, 4146654823,\n",
      "       3058203559, 2522998525, 2085635626, 1336284938, 2925938181,\n",
      "         38825661, 2960205374, 2493164034,  398438632, 1705719358,\n",
      "       3620913246, 2622837628, 3176186704,   14191055, 2442377354,\n",
      "       4059410324,  973581927, 4188131271,  138814531, 3906469862,\n",
      "       3629461658, 3818882571, 4052334261, 4275007254, 1614411297,\n",
      "       1680692855, 1449363529, 2281178495, 2493993333, 1677642278,\n",
      "        792491368,  476740251, 4209768305, 1841126576, 1429353952,\n",
      "       2467072645, 1885755481, 1694712675, 1601187635, 1548200975,\n",
      "       2845970427,  294724874, 1643076106, 4172658599, 1750253701,\n",
      "       1308787566, 2588934722, 1935830617, 3559175713,  906999510,\n",
      "       3218182432, 3512596646,  899292934, 2557299002, 1893358037,\n",
      "        560245378, 3710675862, 2615881014,  316679444, 2962671920,\n",
      "       1041044048, 4191770952, 4256937430,  196176005,  467970998,\n",
      "        243295635, 1167991073, 2784052680, 4245395638, 4125153613,\n",
      "       4110406074,  971923323,  695406079, 3496315824,  357909311,\n",
      "       1751676811, 1518790934, 4099952317,  816632113, 1447859772,\n",
      "        151931250, 1241139576, 3723893554, 4187475227,  544646380,\n",
      "       3946902843, 1807056253, 3043181223, 1551000349, 1073404255,\n",
      "       3428149666, 1251396176, 3067265653, 1720353205,  621002819,\n",
      "        381269683, 1574457509, 1535618566, 2944830233, 3719299781,\n",
      "       1733934070, 2493962751,  361231328, 2614254289, 1354145808,\n",
      "       4119697761, 1835898327, 3197791332, 2049218221, 1313376925,\n",
      "        577179965, 3635603244,  140357814, 1900571703, 2099956297,\n",
      "        768038933, 3518580897,  579300320, 3271633402,  466621525,\n",
      "       1485065653, 3056549327, 2188272461, 2542178961, 1668344371,\n",
      "       3851371285, 3925206647,  709127951, 1646927204,  518258762,\n",
      "       1366216418, 2556541645, 3807304381, 3661205834, 3557506052,\n",
      "       3820814610, 3683600217,  128589197, 2736611330, 1084631543,\n",
      "        103976581, 2328778793,  127407800, 3360596525, 3111753039,\n",
      "       3921146613, 4091460585, 3796179437, 1407938587, 1797275955,\n",
      "       2344447084, 2989806024,  954889156,  170447225,  508696342,\n",
      "       1134737180, 2464401803,  158615444, 3135444531, 4198544724,\n",
      "        451761227, 3393652488, 1736483808, 3368955719, 1535123677,\n",
      "       1803908011, 4231278232, 2016918174, 3219366995,   41276942,\n",
      "       3998088891, 3402197802, 4265839073, 1607575653,  901002693,\n",
      "       1650345235, 1233674544,  301056982, 3421733756, 1207490072,\n",
      "        357678952, 2792592700, 1208507379,   87382663, 2898975552,\n",
      "       4121951834,  288091137, 3011507510, 2936647913, 1361726961,\n",
      "       2131030738, 2401957532,  244292670, 2912098185, 3131746853,\n",
      "        710946553, 1310590855,  828128092, 2829560166, 1672188769,\n",
      "       4168160734, 3424896587, 2184399006, 1166552800,  773311304,\n",
      "       3037819697, 1012628299, 3556121983, 1587142922,  619295349,\n",
      "       1278214504,  400500958, 1842294939, 4055358454, 2089738669,\n",
      "       1338057974, 2237873265, 3547642918,  988666321,  124192261,\n",
      "       1107024663, 2789960060, 3215361605, 3125420009, 1594670884,\n",
      "       1372915126, 3429527440, 3827380320, 2935841362,  958290162,\n",
      "        392777370, 4065376931,  472106643, 1334192325, 1177772693,\n",
      "       3556426272, 3527220953, 4247750970, 1004470542, 2682049294,\n",
      "       1932672900,  170628749, 1248007132, 2905198590, 4248539190,\n",
      "       1685128005, 2875624084, 2535374743,  438992083, 2836054087,\n",
      "       2277855155, 1326966295, 1166744012, 3573405190,  254078052,\n",
      "        581265535, 3103093610, 2959223854, 3056413466, 2380887017,\n",
      "       2291293477, 2819738550, 4114662315, 1250419127, 1563227138,\n",
      "       1201964957, 3546386888, 3888018877,  284454258, 2784958536,\n",
      "       2207806479, 3690741963, 1234830708, 4193497192, 4136418936,\n",
      "        950983555, 3888271820, 3984536851, 3827811954,  118209135,\n",
      "       3308088518, 3851331820,    1142220, 1886534505, 2182782976,\n",
      "       2984223287, 1243355003, 1665063506,  636433656, 2900883970,\n",
      "       2204020674, 3780306391, 1749224308,  721743895, 3460509447,\n",
      "       1209292232, 1301920775, 1546007892, 3705656704,  529233471,\n",
      "       3798220620, 2449308472, 3713803064, 1757987421, 2681296959,\n",
      "        265611352, 1699480639,  906575079, 4135744975, 1943204351,\n",
      "       2923194593, 3888426566, 1501706401, 3403514531, 2469381782,\n",
      "       4113924989, 1877106740, 1182093305, 1312538987, 1436853736,\n",
      "        217401812, 2382845390, 1383461765, 2776017535,  865190439,\n",
      "       4176377162, 3283637082, 2764444697, 3626692814, 3911666744,\n",
      "       3735656167, 1328971956,  713585087,  324734679, 3738765443,\n",
      "        620548421, 3179430819, 2441777770, 4011838506, 3804062450,\n",
      "       4249237389, 2626496665, 2267766151,  909119903, 1872689780,\n",
      "        205500713,  800603238,  676737880, 2166541169, 3861260994,\n",
      "       1128262331,  466787138, 2584452918, 3073450335,  972405546,\n",
      "       2721965118, 2498859907, 1982673632, 2126393887, 3404368058,\n",
      "        232829502,  921076376,  744493451,   26155897, 2636491098,\n",
      "       3491693424, 2290944656, 1451168001, 2426950682,  987948841,\n",
      "       4138091625, 2908820844, 2825308699, 1570922876, 2570830376,\n",
      "       3050674656,  198691465, 1506571039, 3514114568, 2685358720,\n",
      "        706097535, 1573606884, 3154659239,  960942867, 3638367408,\n",
      "       2971793775,  750199376, 2132462121,  734916210, 4159699206,\n",
      "       2279796728, 1895637892, 1455719713, 1383778493, 3174607284,\n",
      "       3995126860,  629156619, 3346450115, 2413357890, 1873176402,\n",
      "       2666507922, 1628540549, 4087584431, 3934896989, 3900011295,\n",
      "       4118088745, 2649950965, 3375870151,  676953970, 2590173768,\n",
      "       1143865168,  199968969, 3498635368, 3440230550, 2731542902,\n",
      "       1616275386,   40439861, 3295934839,  520452868,  870214177,\n",
      "       1871666406, 1450536014, 1868540236, 1198004107, 2554142578,\n",
      "       1140137950,  361045438, 4240997144, 2692582835, 3715359274,\n",
      "       1442044036, 1889365377,  593226588,   17905039, 3802670942,\n",
      "       2291428237,  664302160, 3033639424, 2302470372,  862051112,\n",
      "       3614185840, 1071671715,  661608526, 1360565386, 2961985219,\n",
      "       1273173804, 2849601258, 3701226399, 1949801757, 1724853238,\n",
      "       1498737203, 2919293079, 2456444642, 2416810398, 2468777868,\n",
      "         69882202, 3002809241, 3842358921,   46557055, 4047219165,\n",
      "       1904330946, 3506763974,  437013797, 2833508535, 1553122145,\n",
      "       2120835724, 3358649587, 3554802404, 1562720183, 4088688103,\n",
      "       2171819985,  818399713, 1815358651, 2086218489, 2380443840,\n",
      "        559706664, 1378526888, 3781893223, 3447061169, 2757957170,\n",
      "       1760253679, 2336996612, 3862487136, 1613415701, 4162377139,\n",
      "       2143557560, 3568260582, 2009159720,  973207482, 2990825062,\n",
      "       1099635682, 3820628659, 4032190882,  732594213, 1687908530,\n",
      "       2144302959,  233849774, 2191849414, 1260516742, 2668887170,\n",
      "       1793134330, 4114733116, 3171745713,  419074767, 1320768468,\n",
      "       2936825417, 2402102589, 1877448989, 1213464208, 3477253456,\n",
      "       3291423849, 3794709374,  623607114, 2041498564, 3706963566,\n",
      "       1927449900, 2687050738, 3984843775, 2878798065, 1278693888,\n",
      "       4201082591, 2199892583, 1979451090,  799508583, 1983550457,\n",
      "       2857147608, 1928521170, 2863038637, 4136584148, 1417041018,\n",
      "       3794706096, 1253265950, 2067581477, 2234125844, 1512031418,\n",
      "       3194386532, 1437694302, 3071469735, 1810221887, 3418935807,\n",
      "       3600594931, 1008515550, 2576609164, 4114111515,  971232950,\n",
      "       1136189770, 1566397760, 1892342748,  846852555, 3818066311,\n",
      "       3151043532,  941811638, 3572361711, 1273275541, 3275511499,\n",
      "       2083306617, 3511341333, 1019761578, 3794661123, 2812634223,\n",
      "        409690034,  997362966, 3413774480, 3205556182, 2826186127,\n",
      "       3609595735,  891617009, 3678863430, 3705977217, 3330172029,\n",
      "       3930011607, 1740622828, 1298160148,  105980734, 1716290753,\n",
      "        917932258, 3119607871, 3662331243, 3694958268], dtype=uint32), 264, 0, 0.0)\n",
      "('MT19937', array([1036876355, 1873300696, 2779425791, 2339800103, 3723880741,\n",
      "       1327008191, 2106492371, 3203408818,  701761016, 3043702971,\n",
      "       1871833405, 3219103356,  856212731, 3351154237,   39152719,\n",
      "        513061616, 2103980784,  108772343,  182654284, 1685416113,\n",
      "       4185648610, 4026330555,  795053916, 2362482727, 2781071686,\n",
      "       3236596564, 3394025798, 1750103809, 3892970399, 3474087018,\n",
      "       4102634357, 3711757517, 2301984460, 2737821047, 2216912524,\n",
      "        717776466, 3497452871, 1274676121, 1333709612, 1056772703,\n",
      "       3670424917, 2739579723, 3819878526, 2478480963, 4146654823,\n",
      "       3058203559, 2522998525, 2085635626, 1336284938, 2925938181,\n",
      "         38825661, 2960205374, 2493164034,  398438632, 1705719358,\n",
      "       3620913246, 2622837628, 3176186704,   14191055, 2442377354,\n",
      "       4059410324,  973581927, 4188131271,  138814531, 3906469862,\n",
      "       3629461658, 3818882571, 4052334261, 4275007254, 1614411297,\n",
      "       1680692855, 1449363529, 2281178495, 2493993333, 1677642278,\n",
      "        792491368,  476740251, 4209768305, 1841126576, 1429353952,\n",
      "       2467072645, 1885755481, 1694712675, 1601187635, 1548200975,\n",
      "       2845970427,  294724874, 1643076106, 4172658599, 1750253701,\n",
      "       1308787566, 2588934722, 1935830617, 3559175713,  906999510,\n",
      "       3218182432, 3512596646,  899292934, 2557299002, 1893358037,\n",
      "        560245378, 3710675862, 2615881014,  316679444, 2962671920,\n",
      "       1041044048, 4191770952, 4256937430,  196176005,  467970998,\n",
      "        243295635, 1167991073, 2784052680, 4245395638, 4125153613,\n",
      "       4110406074,  971923323,  695406079, 3496315824,  357909311,\n",
      "       1751676811, 1518790934, 4099952317,  816632113, 1447859772,\n",
      "        151931250, 1241139576, 3723893554, 4187475227,  544646380,\n",
      "       3946902843, 1807056253, 3043181223, 1551000349, 1073404255,\n",
      "       3428149666, 1251396176, 3067265653, 1720353205,  621002819,\n",
      "        381269683, 1574457509, 1535618566, 2944830233, 3719299781,\n",
      "       1733934070, 2493962751,  361231328, 2614254289, 1354145808,\n",
      "       4119697761, 1835898327, 3197791332, 2049218221, 1313376925,\n",
      "        577179965, 3635603244,  140357814, 1900571703, 2099956297,\n",
      "        768038933, 3518580897,  579300320, 3271633402,  466621525,\n",
      "       1485065653, 3056549327, 2188272461, 2542178961, 1668344371,\n",
      "       3851371285, 3925206647,  709127951, 1646927204,  518258762,\n",
      "       1366216418, 2556541645, 3807304381, 3661205834, 3557506052,\n",
      "       3820814610, 3683600217,  128589197, 2736611330, 1084631543,\n",
      "        103976581, 2328778793,  127407800, 3360596525, 3111753039,\n",
      "       3921146613, 4091460585, 3796179437, 1407938587, 1797275955,\n",
      "       2344447084, 2989806024,  954889156,  170447225,  508696342,\n",
      "       1134737180, 2464401803,  158615444, 3135444531, 4198544724,\n",
      "        451761227, 3393652488, 1736483808, 3368955719, 1535123677,\n",
      "       1803908011, 4231278232, 2016918174, 3219366995,   41276942,\n",
      "       3998088891, 3402197802, 4265839073, 1607575653,  901002693,\n",
      "       1650345235, 1233674544,  301056982, 3421733756, 1207490072,\n",
      "        357678952, 2792592700, 1208507379,   87382663, 2898975552,\n",
      "       4121951834,  288091137, 3011507510, 2936647913, 1361726961,\n",
      "       2131030738, 2401957532,  244292670, 2912098185, 3131746853,\n",
      "        710946553, 1310590855,  828128092, 2829560166, 1672188769,\n",
      "       4168160734, 3424896587, 2184399006, 1166552800,  773311304,\n",
      "       3037819697, 1012628299, 3556121983, 1587142922,  619295349,\n",
      "       1278214504,  400500958, 1842294939, 4055358454, 2089738669,\n",
      "       1338057974, 2237873265, 3547642918,  988666321,  124192261,\n",
      "       1107024663, 2789960060, 3215361605, 3125420009, 1594670884,\n",
      "       1372915126, 3429527440, 3827380320, 2935841362,  958290162,\n",
      "        392777370, 4065376931,  472106643, 1334192325, 1177772693,\n",
      "       3556426272, 3527220953, 4247750970, 1004470542, 2682049294,\n",
      "       1932672900,  170628749, 1248007132, 2905198590, 4248539190,\n",
      "       1685128005, 2875624084, 2535374743,  438992083, 2836054087,\n",
      "       2277855155, 1326966295, 1166744012, 3573405190,  254078052,\n",
      "        581265535, 3103093610, 2959223854, 3056413466, 2380887017,\n",
      "       2291293477, 2819738550, 4114662315, 1250419127, 1563227138,\n",
      "       1201964957, 3546386888, 3888018877,  284454258, 2784958536,\n",
      "       2207806479, 3690741963, 1234830708, 4193497192, 4136418936,\n",
      "        950983555, 3888271820, 3984536851, 3827811954,  118209135,\n",
      "       3308088518, 3851331820,    1142220, 1886534505, 2182782976,\n",
      "       2984223287, 1243355003, 1665063506,  636433656, 2900883970,\n",
      "       2204020674, 3780306391, 1749224308,  721743895, 3460509447,\n",
      "       1209292232, 1301920775, 1546007892, 3705656704,  529233471,\n",
      "       3798220620, 2449308472, 3713803064, 1757987421, 2681296959,\n",
      "        265611352, 1699480639,  906575079, 4135744975, 1943204351,\n",
      "       2923194593, 3888426566, 1501706401, 3403514531, 2469381782,\n",
      "       4113924989, 1877106740, 1182093305, 1312538987, 1436853736,\n",
      "        217401812, 2382845390, 1383461765, 2776017535,  865190439,\n",
      "       4176377162, 3283637082, 2764444697, 3626692814, 3911666744,\n",
      "       3735656167, 1328971956,  713585087,  324734679, 3738765443,\n",
      "        620548421, 3179430819, 2441777770, 4011838506, 3804062450,\n",
      "       4249237389, 2626496665, 2267766151,  909119903, 1872689780,\n",
      "        205500713,  800603238,  676737880, 2166541169, 3861260994,\n",
      "       1128262331,  466787138, 2584452918, 3073450335,  972405546,\n",
      "       2721965118, 2498859907, 1982673632, 2126393887, 3404368058,\n",
      "        232829502,  921076376,  744493451,   26155897, 2636491098,\n",
      "       3491693424, 2290944656, 1451168001, 2426950682,  987948841,\n",
      "       4138091625, 2908820844, 2825308699, 1570922876, 2570830376,\n",
      "       3050674656,  198691465, 1506571039, 3514114568, 2685358720,\n",
      "        706097535, 1573606884, 3154659239,  960942867, 3638367408,\n",
      "       2971793775,  750199376, 2132462121,  734916210, 4159699206,\n",
      "       2279796728, 1895637892, 1455719713, 1383778493, 3174607284,\n",
      "       3995126860,  629156619, 3346450115, 2413357890, 1873176402,\n",
      "       2666507922, 1628540549, 4087584431, 3934896989, 3900011295,\n",
      "       4118088745, 2649950965, 3375870151,  676953970, 2590173768,\n",
      "       1143865168,  199968969, 3498635368, 3440230550, 2731542902,\n",
      "       1616275386,   40439861, 3295934839,  520452868,  870214177,\n",
      "       1871666406, 1450536014, 1868540236, 1198004107, 2554142578,\n",
      "       1140137950,  361045438, 4240997144, 2692582835, 3715359274,\n",
      "       1442044036, 1889365377,  593226588,   17905039, 3802670942,\n",
      "       2291428237,  664302160, 3033639424, 2302470372,  862051112,\n",
      "       3614185840, 1071671715,  661608526, 1360565386, 2961985219,\n",
      "       1273173804, 2849601258, 3701226399, 1949801757, 1724853238,\n",
      "       1498737203, 2919293079, 2456444642, 2416810398, 2468777868,\n",
      "         69882202, 3002809241, 3842358921,   46557055, 4047219165,\n",
      "       1904330946, 3506763974,  437013797, 2833508535, 1553122145,\n",
      "       2120835724, 3358649587, 3554802404, 1562720183, 4088688103,\n",
      "       2171819985,  818399713, 1815358651, 2086218489, 2380443840,\n",
      "        559706664, 1378526888, 3781893223, 3447061169, 2757957170,\n",
      "       1760253679, 2336996612, 3862487136, 1613415701, 4162377139,\n",
      "       2143557560, 3568260582, 2009159720,  973207482, 2990825062,\n",
      "       1099635682, 3820628659, 4032190882,  732594213, 1687908530,\n",
      "       2144302959,  233849774, 2191849414, 1260516742, 2668887170,\n",
      "       1793134330, 4114733116, 3171745713,  419074767, 1320768468,\n",
      "       2936825417, 2402102589, 1877448989, 1213464208, 3477253456,\n",
      "       3291423849, 3794709374,  623607114, 2041498564, 3706963566,\n",
      "       1927449900, 2687050738, 3984843775, 2878798065, 1278693888,\n",
      "       4201082591, 2199892583, 1979451090,  799508583, 1983550457,\n",
      "       2857147608, 1928521170, 2863038637, 4136584148, 1417041018,\n",
      "       3794706096, 1253265950, 2067581477, 2234125844, 1512031418,\n",
      "       3194386532, 1437694302, 3071469735, 1810221887, 3418935807,\n",
      "       3600594931, 1008515550, 2576609164, 4114111515,  971232950,\n",
      "       1136189770, 1566397760, 1892342748,  846852555, 3818066311,\n",
      "       3151043532,  941811638, 3572361711, 1273275541, 3275511499,\n",
      "       2083306617, 3511341333, 1019761578, 3794661123, 2812634223,\n",
      "        409690034,  997362966, 3413774480, 3205556182, 2826186127,\n",
      "       3609595735,  891617009, 3678863430, 3705977217, 3330172029,\n",
      "       3930011607, 1740622828, 1298160148,  105980734, 1716290753,\n",
      "        917932258, 3119607871, 3662331243, 3694958268], dtype=uint32), 272, 0, 0.0)\n",
      "('MT19937', array([1036876355, 1873300696, 2779425791, 2339800103, 3723880741,\n",
      "       1327008191, 2106492371, 3203408818,  701761016, 3043702971,\n",
      "       1871833405, 3219103356,  856212731, 3351154237,   39152719,\n",
      "        513061616, 2103980784,  108772343,  182654284, 1685416113,\n",
      "       4185648610, 4026330555,  795053916, 2362482727, 2781071686,\n",
      "       3236596564, 3394025798, 1750103809, 3892970399, 3474087018,\n",
      "       4102634357, 3711757517, 2301984460, 2737821047, 2216912524,\n",
      "        717776466, 3497452871, 1274676121, 1333709612, 1056772703,\n",
      "       3670424917, 2739579723, 3819878526, 2478480963, 4146654823,\n",
      "       3058203559, 2522998525, 2085635626, 1336284938, 2925938181,\n",
      "         38825661, 2960205374, 2493164034,  398438632, 1705719358,\n",
      "       3620913246, 2622837628, 3176186704,   14191055, 2442377354,\n",
      "       4059410324,  973581927, 4188131271,  138814531, 3906469862,\n",
      "       3629461658, 3818882571, 4052334261, 4275007254, 1614411297,\n",
      "       1680692855, 1449363529, 2281178495, 2493993333, 1677642278,\n",
      "        792491368,  476740251, 4209768305, 1841126576, 1429353952,\n",
      "       2467072645, 1885755481, 1694712675, 1601187635, 1548200975,\n",
      "       2845970427,  294724874, 1643076106, 4172658599, 1750253701,\n",
      "       1308787566, 2588934722, 1935830617, 3559175713,  906999510,\n",
      "       3218182432, 3512596646,  899292934, 2557299002, 1893358037,\n",
      "        560245378, 3710675862, 2615881014,  316679444, 2962671920,\n",
      "       1041044048, 4191770952, 4256937430,  196176005,  467970998,\n",
      "        243295635, 1167991073, 2784052680, 4245395638, 4125153613,\n",
      "       4110406074,  971923323,  695406079, 3496315824,  357909311,\n",
      "       1751676811, 1518790934, 4099952317,  816632113, 1447859772,\n",
      "        151931250, 1241139576, 3723893554, 4187475227,  544646380,\n",
      "       3946902843, 1807056253, 3043181223, 1551000349, 1073404255,\n",
      "       3428149666, 1251396176, 3067265653, 1720353205,  621002819,\n",
      "        381269683, 1574457509, 1535618566, 2944830233, 3719299781,\n",
      "       1733934070, 2493962751,  361231328, 2614254289, 1354145808,\n",
      "       4119697761, 1835898327, 3197791332, 2049218221, 1313376925,\n",
      "        577179965, 3635603244,  140357814, 1900571703, 2099956297,\n",
      "        768038933, 3518580897,  579300320, 3271633402,  466621525,\n",
      "       1485065653, 3056549327, 2188272461, 2542178961, 1668344371,\n",
      "       3851371285, 3925206647,  709127951, 1646927204,  518258762,\n",
      "       1366216418, 2556541645, 3807304381, 3661205834, 3557506052,\n",
      "       3820814610, 3683600217,  128589197, 2736611330, 1084631543,\n",
      "        103976581, 2328778793,  127407800, 3360596525, 3111753039,\n",
      "       3921146613, 4091460585, 3796179437, 1407938587, 1797275955,\n",
      "       2344447084, 2989806024,  954889156,  170447225,  508696342,\n",
      "       1134737180, 2464401803,  158615444, 3135444531, 4198544724,\n",
      "        451761227, 3393652488, 1736483808, 3368955719, 1535123677,\n",
      "       1803908011, 4231278232, 2016918174, 3219366995,   41276942,\n",
      "       3998088891, 3402197802, 4265839073, 1607575653,  901002693,\n",
      "       1650345235, 1233674544,  301056982, 3421733756, 1207490072,\n",
      "        357678952, 2792592700, 1208507379,   87382663, 2898975552,\n",
      "       4121951834,  288091137, 3011507510, 2936647913, 1361726961,\n",
      "       2131030738, 2401957532,  244292670, 2912098185, 3131746853,\n",
      "        710946553, 1310590855,  828128092, 2829560166, 1672188769,\n",
      "       4168160734, 3424896587, 2184399006, 1166552800,  773311304,\n",
      "       3037819697, 1012628299, 3556121983, 1587142922,  619295349,\n",
      "       1278214504,  400500958, 1842294939, 4055358454, 2089738669,\n",
      "       1338057974, 2237873265, 3547642918,  988666321,  124192261,\n",
      "       1107024663, 2789960060, 3215361605, 3125420009, 1594670884,\n",
      "       1372915126, 3429527440, 3827380320, 2935841362,  958290162,\n",
      "        392777370, 4065376931,  472106643, 1334192325, 1177772693,\n",
      "       3556426272, 3527220953, 4247750970, 1004470542, 2682049294,\n",
      "       1932672900,  170628749, 1248007132, 2905198590, 4248539190,\n",
      "       1685128005, 2875624084, 2535374743,  438992083, 2836054087,\n",
      "       2277855155, 1326966295, 1166744012, 3573405190,  254078052,\n",
      "        581265535, 3103093610, 2959223854, 3056413466, 2380887017,\n",
      "       2291293477, 2819738550, 4114662315, 1250419127, 1563227138,\n",
      "       1201964957, 3546386888, 3888018877,  284454258, 2784958536,\n",
      "       2207806479, 3690741963, 1234830708, 4193497192, 4136418936,\n",
      "        950983555, 3888271820, 3984536851, 3827811954,  118209135,\n",
      "       3308088518, 3851331820,    1142220, 1886534505, 2182782976,\n",
      "       2984223287, 1243355003, 1665063506,  636433656, 2900883970,\n",
      "       2204020674, 3780306391, 1749224308,  721743895, 3460509447,\n",
      "       1209292232, 1301920775, 1546007892, 3705656704,  529233471,\n",
      "       3798220620, 2449308472, 3713803064, 1757987421, 2681296959,\n",
      "        265611352, 1699480639,  906575079, 4135744975, 1943204351,\n",
      "       2923194593, 3888426566, 1501706401, 3403514531, 2469381782,\n",
      "       4113924989, 1877106740, 1182093305, 1312538987, 1436853736,\n",
      "        217401812, 2382845390, 1383461765, 2776017535,  865190439,\n",
      "       4176377162, 3283637082, 2764444697, 3626692814, 3911666744,\n",
      "       3735656167, 1328971956,  713585087,  324734679, 3738765443,\n",
      "        620548421, 3179430819, 2441777770, 4011838506, 3804062450,\n",
      "       4249237389, 2626496665, 2267766151,  909119903, 1872689780,\n",
      "        205500713,  800603238,  676737880, 2166541169, 3861260994,\n",
      "       1128262331,  466787138, 2584452918, 3073450335,  972405546,\n",
      "       2721965118, 2498859907, 1982673632, 2126393887, 3404368058,\n",
      "        232829502,  921076376,  744493451,   26155897, 2636491098,\n",
      "       3491693424, 2290944656, 1451168001, 2426950682,  987948841,\n",
      "       4138091625, 2908820844, 2825308699, 1570922876, 2570830376,\n",
      "       3050674656,  198691465, 1506571039, 3514114568, 2685358720,\n",
      "        706097535, 1573606884, 3154659239,  960942867, 3638367408,\n",
      "       2971793775,  750199376, 2132462121,  734916210, 4159699206,\n",
      "       2279796728, 1895637892, 1455719713, 1383778493, 3174607284,\n",
      "       3995126860,  629156619, 3346450115, 2413357890, 1873176402,\n",
      "       2666507922, 1628540549, 4087584431, 3934896989, 3900011295,\n",
      "       4118088745, 2649950965, 3375870151,  676953970, 2590173768,\n",
      "       1143865168,  199968969, 3498635368, 3440230550, 2731542902,\n",
      "       1616275386,   40439861, 3295934839,  520452868,  870214177,\n",
      "       1871666406, 1450536014, 1868540236, 1198004107, 2554142578,\n",
      "       1140137950,  361045438, 4240997144, 2692582835, 3715359274,\n",
      "       1442044036, 1889365377,  593226588,   17905039, 3802670942,\n",
      "       2291428237,  664302160, 3033639424, 2302470372,  862051112,\n",
      "       3614185840, 1071671715,  661608526, 1360565386, 2961985219,\n",
      "       1273173804, 2849601258, 3701226399, 1949801757, 1724853238,\n",
      "       1498737203, 2919293079, 2456444642, 2416810398, 2468777868,\n",
      "         69882202, 3002809241, 3842358921,   46557055, 4047219165,\n",
      "       1904330946, 3506763974,  437013797, 2833508535, 1553122145,\n",
      "       2120835724, 3358649587, 3554802404, 1562720183, 4088688103,\n",
      "       2171819985,  818399713, 1815358651, 2086218489, 2380443840,\n",
      "        559706664, 1378526888, 3781893223, 3447061169, 2757957170,\n",
      "       1760253679, 2336996612, 3862487136, 1613415701, 4162377139,\n",
      "       2143557560, 3568260582, 2009159720,  973207482, 2990825062,\n",
      "       1099635682, 3820628659, 4032190882,  732594213, 1687908530,\n",
      "       2144302959,  233849774, 2191849414, 1260516742, 2668887170,\n",
      "       1793134330, 4114733116, 3171745713,  419074767, 1320768468,\n",
      "       2936825417, 2402102589, 1877448989, 1213464208, 3477253456,\n",
      "       3291423849, 3794709374,  623607114, 2041498564, 3706963566,\n",
      "       1927449900, 2687050738, 3984843775, 2878798065, 1278693888,\n",
      "       4201082591, 2199892583, 1979451090,  799508583, 1983550457,\n",
      "       2857147608, 1928521170, 2863038637, 4136584148, 1417041018,\n",
      "       3794706096, 1253265950, 2067581477, 2234125844, 1512031418,\n",
      "       3194386532, 1437694302, 3071469735, 1810221887, 3418935807,\n",
      "       3600594931, 1008515550, 2576609164, 4114111515,  971232950,\n",
      "       1136189770, 1566397760, 1892342748,  846852555, 3818066311,\n",
      "       3151043532,  941811638, 3572361711, 1273275541, 3275511499,\n",
      "       2083306617, 3511341333, 1019761578, 3794661123, 2812634223,\n",
      "        409690034,  997362966, 3413774480, 3205556182, 2826186127,\n",
      "       3609595735,  891617009, 3678863430, 3705977217, 3330172029,\n",
      "       3930011607, 1740622828, 1298160148,  105980734, 1716290753,\n",
      "        917932258, 3119607871, 3662331243, 3694958268], dtype=uint32), 276, 0, 0.0)\n",
      "('MT19937', array([1036876355, 1873300696, 2779425791, 2339800103, 3723880741,\n",
      "       1327008191, 2106492371, 3203408818,  701761016, 3043702971,\n",
      "       1871833405, 3219103356,  856212731, 3351154237,   39152719,\n",
      "        513061616, 2103980784,  108772343,  182654284, 1685416113,\n",
      "       4185648610, 4026330555,  795053916, 2362482727, 2781071686,\n",
      "       3236596564, 3394025798, 1750103809, 3892970399, 3474087018,\n",
      "       4102634357, 3711757517, 2301984460, 2737821047, 2216912524,\n",
      "        717776466, 3497452871, 1274676121, 1333709612, 1056772703,\n",
      "       3670424917, 2739579723, 3819878526, 2478480963, 4146654823,\n",
      "       3058203559, 2522998525, 2085635626, 1336284938, 2925938181,\n",
      "         38825661, 2960205374, 2493164034,  398438632, 1705719358,\n",
      "       3620913246, 2622837628, 3176186704,   14191055, 2442377354,\n",
      "       4059410324,  973581927, 4188131271,  138814531, 3906469862,\n",
      "       3629461658, 3818882571, 4052334261, 4275007254, 1614411297,\n",
      "       1680692855, 1449363529, 2281178495, 2493993333, 1677642278,\n",
      "        792491368,  476740251, 4209768305, 1841126576, 1429353952,\n",
      "       2467072645, 1885755481, 1694712675, 1601187635, 1548200975,\n",
      "       2845970427,  294724874, 1643076106, 4172658599, 1750253701,\n",
      "       1308787566, 2588934722, 1935830617, 3559175713,  906999510,\n",
      "       3218182432, 3512596646,  899292934, 2557299002, 1893358037,\n",
      "        560245378, 3710675862, 2615881014,  316679444, 2962671920,\n",
      "       1041044048, 4191770952, 4256937430,  196176005,  467970998,\n",
      "        243295635, 1167991073, 2784052680, 4245395638, 4125153613,\n",
      "       4110406074,  971923323,  695406079, 3496315824,  357909311,\n",
      "       1751676811, 1518790934, 4099952317,  816632113, 1447859772,\n",
      "        151931250, 1241139576, 3723893554, 4187475227,  544646380,\n",
      "       3946902843, 1807056253, 3043181223, 1551000349, 1073404255,\n",
      "       3428149666, 1251396176, 3067265653, 1720353205,  621002819,\n",
      "        381269683, 1574457509, 1535618566, 2944830233, 3719299781,\n",
      "       1733934070, 2493962751,  361231328, 2614254289, 1354145808,\n",
      "       4119697761, 1835898327, 3197791332, 2049218221, 1313376925,\n",
      "        577179965, 3635603244,  140357814, 1900571703, 2099956297,\n",
      "        768038933, 3518580897,  579300320, 3271633402,  466621525,\n",
      "       1485065653, 3056549327, 2188272461, 2542178961, 1668344371,\n",
      "       3851371285, 3925206647,  709127951, 1646927204,  518258762,\n",
      "       1366216418, 2556541645, 3807304381, 3661205834, 3557506052,\n",
      "       3820814610, 3683600217,  128589197, 2736611330, 1084631543,\n",
      "        103976581, 2328778793,  127407800, 3360596525, 3111753039,\n",
      "       3921146613, 4091460585, 3796179437, 1407938587, 1797275955,\n",
      "       2344447084, 2989806024,  954889156,  170447225,  508696342,\n",
      "       1134737180, 2464401803,  158615444, 3135444531, 4198544724,\n",
      "        451761227, 3393652488, 1736483808, 3368955719, 1535123677,\n",
      "       1803908011, 4231278232, 2016918174, 3219366995,   41276942,\n",
      "       3998088891, 3402197802, 4265839073, 1607575653,  901002693,\n",
      "       1650345235, 1233674544,  301056982, 3421733756, 1207490072,\n",
      "        357678952, 2792592700, 1208507379,   87382663, 2898975552,\n",
      "       4121951834,  288091137, 3011507510, 2936647913, 1361726961,\n",
      "       2131030738, 2401957532,  244292670, 2912098185, 3131746853,\n",
      "        710946553, 1310590855,  828128092, 2829560166, 1672188769,\n",
      "       4168160734, 3424896587, 2184399006, 1166552800,  773311304,\n",
      "       3037819697, 1012628299, 3556121983, 1587142922,  619295349,\n",
      "       1278214504,  400500958, 1842294939, 4055358454, 2089738669,\n",
      "       1338057974, 2237873265, 3547642918,  988666321,  124192261,\n",
      "       1107024663, 2789960060, 3215361605, 3125420009, 1594670884,\n",
      "       1372915126, 3429527440, 3827380320, 2935841362,  958290162,\n",
      "        392777370, 4065376931,  472106643, 1334192325, 1177772693,\n",
      "       3556426272, 3527220953, 4247750970, 1004470542, 2682049294,\n",
      "       1932672900,  170628749, 1248007132, 2905198590, 4248539190,\n",
      "       1685128005, 2875624084, 2535374743,  438992083, 2836054087,\n",
      "       2277855155, 1326966295, 1166744012, 3573405190,  254078052,\n",
      "        581265535, 3103093610, 2959223854, 3056413466, 2380887017,\n",
      "       2291293477, 2819738550, 4114662315, 1250419127, 1563227138,\n",
      "       1201964957, 3546386888, 3888018877,  284454258, 2784958536,\n",
      "       2207806479, 3690741963, 1234830708, 4193497192, 4136418936,\n",
      "        950983555, 3888271820, 3984536851, 3827811954,  118209135,\n",
      "       3308088518, 3851331820,    1142220, 1886534505, 2182782976,\n",
      "       2984223287, 1243355003, 1665063506,  636433656, 2900883970,\n",
      "       2204020674, 3780306391, 1749224308,  721743895, 3460509447,\n",
      "       1209292232, 1301920775, 1546007892, 3705656704,  529233471,\n",
      "       3798220620, 2449308472, 3713803064, 1757987421, 2681296959,\n",
      "        265611352, 1699480639,  906575079, 4135744975, 1943204351,\n",
      "       2923194593, 3888426566, 1501706401, 3403514531, 2469381782,\n",
      "       4113924989, 1877106740, 1182093305, 1312538987, 1436853736,\n",
      "        217401812, 2382845390, 1383461765, 2776017535,  865190439,\n",
      "       4176377162, 3283637082, 2764444697, 3626692814, 3911666744,\n",
      "       3735656167, 1328971956,  713585087,  324734679, 3738765443,\n",
      "        620548421, 3179430819, 2441777770, 4011838506, 3804062450,\n",
      "       4249237389, 2626496665, 2267766151,  909119903, 1872689780,\n",
      "        205500713,  800603238,  676737880, 2166541169, 3861260994,\n",
      "       1128262331,  466787138, 2584452918, 3073450335,  972405546,\n",
      "       2721965118, 2498859907, 1982673632, 2126393887, 3404368058,\n",
      "        232829502,  921076376,  744493451,   26155897, 2636491098,\n",
      "       3491693424, 2290944656, 1451168001, 2426950682,  987948841,\n",
      "       4138091625, 2908820844, 2825308699, 1570922876, 2570830376,\n",
      "       3050674656,  198691465, 1506571039, 3514114568, 2685358720,\n",
      "        706097535, 1573606884, 3154659239,  960942867, 3638367408,\n",
      "       2971793775,  750199376, 2132462121,  734916210, 4159699206,\n",
      "       2279796728, 1895637892, 1455719713, 1383778493, 3174607284,\n",
      "       3995126860,  629156619, 3346450115, 2413357890, 1873176402,\n",
      "       2666507922, 1628540549, 4087584431, 3934896989, 3900011295,\n",
      "       4118088745, 2649950965, 3375870151,  676953970, 2590173768,\n",
      "       1143865168,  199968969, 3498635368, 3440230550, 2731542902,\n",
      "       1616275386,   40439861, 3295934839,  520452868,  870214177,\n",
      "       1871666406, 1450536014, 1868540236, 1198004107, 2554142578,\n",
      "       1140137950,  361045438, 4240997144, 2692582835, 3715359274,\n",
      "       1442044036, 1889365377,  593226588,   17905039, 3802670942,\n",
      "       2291428237,  664302160, 3033639424, 2302470372,  862051112,\n",
      "       3614185840, 1071671715,  661608526, 1360565386, 2961985219,\n",
      "       1273173804, 2849601258, 3701226399, 1949801757, 1724853238,\n",
      "       1498737203, 2919293079, 2456444642, 2416810398, 2468777868,\n",
      "         69882202, 3002809241, 3842358921,   46557055, 4047219165,\n",
      "       1904330946, 3506763974,  437013797, 2833508535, 1553122145,\n",
      "       2120835724, 3358649587, 3554802404, 1562720183, 4088688103,\n",
      "       2171819985,  818399713, 1815358651, 2086218489, 2380443840,\n",
      "        559706664, 1378526888, 3781893223, 3447061169, 2757957170,\n",
      "       1760253679, 2336996612, 3862487136, 1613415701, 4162377139,\n",
      "       2143557560, 3568260582, 2009159720,  973207482, 2990825062,\n",
      "       1099635682, 3820628659, 4032190882,  732594213, 1687908530,\n",
      "       2144302959,  233849774, 2191849414, 1260516742, 2668887170,\n",
      "       1793134330, 4114733116, 3171745713,  419074767, 1320768468,\n",
      "       2936825417, 2402102589, 1877448989, 1213464208, 3477253456,\n",
      "       3291423849, 3794709374,  623607114, 2041498564, 3706963566,\n",
      "       1927449900, 2687050738, 3984843775, 2878798065, 1278693888,\n",
      "       4201082591, 2199892583, 1979451090,  799508583, 1983550457,\n",
      "       2857147608, 1928521170, 2863038637, 4136584148, 1417041018,\n",
      "       3794706096, 1253265950, 2067581477, 2234125844, 1512031418,\n",
      "       3194386532, 1437694302, 3071469735, 1810221887, 3418935807,\n",
      "       3600594931, 1008515550, 2576609164, 4114111515,  971232950,\n",
      "       1136189770, 1566397760, 1892342748,  846852555, 3818066311,\n",
      "       3151043532,  941811638, 3572361711, 1273275541, 3275511499,\n",
      "       2083306617, 3511341333, 1019761578, 3794661123, 2812634223,\n",
      "        409690034,  997362966, 3413774480, 3205556182, 2826186127,\n",
      "       3609595735,  891617009, 3678863430, 3705977217, 3330172029,\n",
      "       3930011607, 1740622828, 1298160148,  105980734, 1716290753,\n",
      "        917932258, 3119607871, 3662331243, 3694958268], dtype=uint32), 280, 0, 0.0)\n",
      "('MT19937', array([1036876355, 1873300696, 2779425791, 2339800103, 3723880741,\n",
      "       1327008191, 2106492371, 3203408818,  701761016, 3043702971,\n",
      "       1871833405, 3219103356,  856212731, 3351154237,   39152719,\n",
      "        513061616, 2103980784,  108772343,  182654284, 1685416113,\n",
      "       4185648610, 4026330555,  795053916, 2362482727, 2781071686,\n",
      "       3236596564, 3394025798, 1750103809, 3892970399, 3474087018,\n",
      "       4102634357, 3711757517, 2301984460, 2737821047, 2216912524,\n",
      "        717776466, 3497452871, 1274676121, 1333709612, 1056772703,\n",
      "       3670424917, 2739579723, 3819878526, 2478480963, 4146654823,\n",
      "       3058203559, 2522998525, 2085635626, 1336284938, 2925938181,\n",
      "         38825661, 2960205374, 2493164034,  398438632, 1705719358,\n",
      "       3620913246, 2622837628, 3176186704,   14191055, 2442377354,\n",
      "       4059410324,  973581927, 4188131271,  138814531, 3906469862,\n",
      "       3629461658, 3818882571, 4052334261, 4275007254, 1614411297,\n",
      "       1680692855, 1449363529, 2281178495, 2493993333, 1677642278,\n",
      "        792491368,  476740251, 4209768305, 1841126576, 1429353952,\n",
      "       2467072645, 1885755481, 1694712675, 1601187635, 1548200975,\n",
      "       2845970427,  294724874, 1643076106, 4172658599, 1750253701,\n",
      "       1308787566, 2588934722, 1935830617, 3559175713,  906999510,\n",
      "       3218182432, 3512596646,  899292934, 2557299002, 1893358037,\n",
      "        560245378, 3710675862, 2615881014,  316679444, 2962671920,\n",
      "       1041044048, 4191770952, 4256937430,  196176005,  467970998,\n",
      "        243295635, 1167991073, 2784052680, 4245395638, 4125153613,\n",
      "       4110406074,  971923323,  695406079, 3496315824,  357909311,\n",
      "       1751676811, 1518790934, 4099952317,  816632113, 1447859772,\n",
      "        151931250, 1241139576, 3723893554, 4187475227,  544646380,\n",
      "       3946902843, 1807056253, 3043181223, 1551000349, 1073404255,\n",
      "       3428149666, 1251396176, 3067265653, 1720353205,  621002819,\n",
      "        381269683, 1574457509, 1535618566, 2944830233, 3719299781,\n",
      "       1733934070, 2493962751,  361231328, 2614254289, 1354145808,\n",
      "       4119697761, 1835898327, 3197791332, 2049218221, 1313376925,\n",
      "        577179965, 3635603244,  140357814, 1900571703, 2099956297,\n",
      "        768038933, 3518580897,  579300320, 3271633402,  466621525,\n",
      "       1485065653, 3056549327, 2188272461, 2542178961, 1668344371,\n",
      "       3851371285, 3925206647,  709127951, 1646927204,  518258762,\n",
      "       1366216418, 2556541645, 3807304381, 3661205834, 3557506052,\n",
      "       3820814610, 3683600217,  128589197, 2736611330, 1084631543,\n",
      "        103976581, 2328778793,  127407800, 3360596525, 3111753039,\n",
      "       3921146613, 4091460585, 3796179437, 1407938587, 1797275955,\n",
      "       2344447084, 2989806024,  954889156,  170447225,  508696342,\n",
      "       1134737180, 2464401803,  158615444, 3135444531, 4198544724,\n",
      "        451761227, 3393652488, 1736483808, 3368955719, 1535123677,\n",
      "       1803908011, 4231278232, 2016918174, 3219366995,   41276942,\n",
      "       3998088891, 3402197802, 4265839073, 1607575653,  901002693,\n",
      "       1650345235, 1233674544,  301056982, 3421733756, 1207490072,\n",
      "        357678952, 2792592700, 1208507379,   87382663, 2898975552,\n",
      "       4121951834,  288091137, 3011507510, 2936647913, 1361726961,\n",
      "       2131030738, 2401957532,  244292670, 2912098185, 3131746853,\n",
      "        710946553, 1310590855,  828128092, 2829560166, 1672188769,\n",
      "       4168160734, 3424896587, 2184399006, 1166552800,  773311304,\n",
      "       3037819697, 1012628299, 3556121983, 1587142922,  619295349,\n",
      "       1278214504,  400500958, 1842294939, 4055358454, 2089738669,\n",
      "       1338057974, 2237873265, 3547642918,  988666321,  124192261,\n",
      "       1107024663, 2789960060, 3215361605, 3125420009, 1594670884,\n",
      "       1372915126, 3429527440, 3827380320, 2935841362,  958290162,\n",
      "        392777370, 4065376931,  472106643, 1334192325, 1177772693,\n",
      "       3556426272, 3527220953, 4247750970, 1004470542, 2682049294,\n",
      "       1932672900,  170628749, 1248007132, 2905198590, 4248539190,\n",
      "       1685128005, 2875624084, 2535374743,  438992083, 2836054087,\n",
      "       2277855155, 1326966295, 1166744012, 3573405190,  254078052,\n",
      "        581265535, 3103093610, 2959223854, 3056413466, 2380887017,\n",
      "       2291293477, 2819738550, 4114662315, 1250419127, 1563227138,\n",
      "       1201964957, 3546386888, 3888018877,  284454258, 2784958536,\n",
      "       2207806479, 3690741963, 1234830708, 4193497192, 4136418936,\n",
      "        950983555, 3888271820, 3984536851, 3827811954,  118209135,\n",
      "       3308088518, 3851331820,    1142220, 1886534505, 2182782976,\n",
      "       2984223287, 1243355003, 1665063506,  636433656, 2900883970,\n",
      "       2204020674, 3780306391, 1749224308,  721743895, 3460509447,\n",
      "       1209292232, 1301920775, 1546007892, 3705656704,  529233471,\n",
      "       3798220620, 2449308472, 3713803064, 1757987421, 2681296959,\n",
      "        265611352, 1699480639,  906575079, 4135744975, 1943204351,\n",
      "       2923194593, 3888426566, 1501706401, 3403514531, 2469381782,\n",
      "       4113924989, 1877106740, 1182093305, 1312538987, 1436853736,\n",
      "        217401812, 2382845390, 1383461765, 2776017535,  865190439,\n",
      "       4176377162, 3283637082, 2764444697, 3626692814, 3911666744,\n",
      "       3735656167, 1328971956,  713585087,  324734679, 3738765443,\n",
      "        620548421, 3179430819, 2441777770, 4011838506, 3804062450,\n",
      "       4249237389, 2626496665, 2267766151,  909119903, 1872689780,\n",
      "        205500713,  800603238,  676737880, 2166541169, 3861260994,\n",
      "       1128262331,  466787138, 2584452918, 3073450335,  972405546,\n",
      "       2721965118, 2498859907, 1982673632, 2126393887, 3404368058,\n",
      "        232829502,  921076376,  744493451,   26155897, 2636491098,\n",
      "       3491693424, 2290944656, 1451168001, 2426950682,  987948841,\n",
      "       4138091625, 2908820844, 2825308699, 1570922876, 2570830376,\n",
      "       3050674656,  198691465, 1506571039, 3514114568, 2685358720,\n",
      "        706097535, 1573606884, 3154659239,  960942867, 3638367408,\n",
      "       2971793775,  750199376, 2132462121,  734916210, 4159699206,\n",
      "       2279796728, 1895637892, 1455719713, 1383778493, 3174607284,\n",
      "       3995126860,  629156619, 3346450115, 2413357890, 1873176402,\n",
      "       2666507922, 1628540549, 4087584431, 3934896989, 3900011295,\n",
      "       4118088745, 2649950965, 3375870151,  676953970, 2590173768,\n",
      "       1143865168,  199968969, 3498635368, 3440230550, 2731542902,\n",
      "       1616275386,   40439861, 3295934839,  520452868,  870214177,\n",
      "       1871666406, 1450536014, 1868540236, 1198004107, 2554142578,\n",
      "       1140137950,  361045438, 4240997144, 2692582835, 3715359274,\n",
      "       1442044036, 1889365377,  593226588,   17905039, 3802670942,\n",
      "       2291428237,  664302160, 3033639424, 2302470372,  862051112,\n",
      "       3614185840, 1071671715,  661608526, 1360565386, 2961985219,\n",
      "       1273173804, 2849601258, 3701226399, 1949801757, 1724853238,\n",
      "       1498737203, 2919293079, 2456444642, 2416810398, 2468777868,\n",
      "         69882202, 3002809241, 3842358921,   46557055, 4047219165,\n",
      "       1904330946, 3506763974,  437013797, 2833508535, 1553122145,\n",
      "       2120835724, 3358649587, 3554802404, 1562720183, 4088688103,\n",
      "       2171819985,  818399713, 1815358651, 2086218489, 2380443840,\n",
      "        559706664, 1378526888, 3781893223, 3447061169, 2757957170,\n",
      "       1760253679, 2336996612, 3862487136, 1613415701, 4162377139,\n",
      "       2143557560, 3568260582, 2009159720,  973207482, 2990825062,\n",
      "       1099635682, 3820628659, 4032190882,  732594213, 1687908530,\n",
      "       2144302959,  233849774, 2191849414, 1260516742, 2668887170,\n",
      "       1793134330, 4114733116, 3171745713,  419074767, 1320768468,\n",
      "       2936825417, 2402102589, 1877448989, 1213464208, 3477253456,\n",
      "       3291423849, 3794709374,  623607114, 2041498564, 3706963566,\n",
      "       1927449900, 2687050738, 3984843775, 2878798065, 1278693888,\n",
      "       4201082591, 2199892583, 1979451090,  799508583, 1983550457,\n",
      "       2857147608, 1928521170, 2863038637, 4136584148, 1417041018,\n",
      "       3794706096, 1253265950, 2067581477, 2234125844, 1512031418,\n",
      "       3194386532, 1437694302, 3071469735, 1810221887, 3418935807,\n",
      "       3600594931, 1008515550, 2576609164, 4114111515,  971232950,\n",
      "       1136189770, 1566397760, 1892342748,  846852555, 3818066311,\n",
      "       3151043532,  941811638, 3572361711, 1273275541, 3275511499,\n",
      "       2083306617, 3511341333, 1019761578, 3794661123, 2812634223,\n",
      "        409690034,  997362966, 3413774480, 3205556182, 2826186127,\n",
      "       3609595735,  891617009, 3678863430, 3705977217, 3330172029,\n",
      "       3930011607, 1740622828, 1298160148,  105980734, 1716290753,\n",
      "        917932258, 3119607871, 3662331243, 3694958268], dtype=uint32), 284, 0, 0.0)\n",
      "('MT19937', array([1036876355, 1873300696, 2779425791, 2339800103, 3723880741,\n",
      "       1327008191, 2106492371, 3203408818,  701761016, 3043702971,\n",
      "       1871833405, 3219103356,  856212731, 3351154237,   39152719,\n",
      "        513061616, 2103980784,  108772343,  182654284, 1685416113,\n",
      "       4185648610, 4026330555,  795053916, 2362482727, 2781071686,\n",
      "       3236596564, 3394025798, 1750103809, 3892970399, 3474087018,\n",
      "       4102634357, 3711757517, 2301984460, 2737821047, 2216912524,\n",
      "        717776466, 3497452871, 1274676121, 1333709612, 1056772703,\n",
      "       3670424917, 2739579723, 3819878526, 2478480963, 4146654823,\n",
      "       3058203559, 2522998525, 2085635626, 1336284938, 2925938181,\n",
      "         38825661, 2960205374, 2493164034,  398438632, 1705719358,\n",
      "       3620913246, 2622837628, 3176186704,   14191055, 2442377354,\n",
      "       4059410324,  973581927, 4188131271,  138814531, 3906469862,\n",
      "       3629461658, 3818882571, 4052334261, 4275007254, 1614411297,\n",
      "       1680692855, 1449363529, 2281178495, 2493993333, 1677642278,\n",
      "        792491368,  476740251, 4209768305, 1841126576, 1429353952,\n",
      "       2467072645, 1885755481, 1694712675, 1601187635, 1548200975,\n",
      "       2845970427,  294724874, 1643076106, 4172658599, 1750253701,\n",
      "       1308787566, 2588934722, 1935830617, 3559175713,  906999510,\n",
      "       3218182432, 3512596646,  899292934, 2557299002, 1893358037,\n",
      "        560245378, 3710675862, 2615881014,  316679444, 2962671920,\n",
      "       1041044048, 4191770952, 4256937430,  196176005,  467970998,\n",
      "        243295635, 1167991073, 2784052680, 4245395638, 4125153613,\n",
      "       4110406074,  971923323,  695406079, 3496315824,  357909311,\n",
      "       1751676811, 1518790934, 4099952317,  816632113, 1447859772,\n",
      "        151931250, 1241139576, 3723893554, 4187475227,  544646380,\n",
      "       3946902843, 1807056253, 3043181223, 1551000349, 1073404255,\n",
      "       3428149666, 1251396176, 3067265653, 1720353205,  621002819,\n",
      "        381269683, 1574457509, 1535618566, 2944830233, 3719299781,\n",
      "       1733934070, 2493962751,  361231328, 2614254289, 1354145808,\n",
      "       4119697761, 1835898327, 3197791332, 2049218221, 1313376925,\n",
      "        577179965, 3635603244,  140357814, 1900571703, 2099956297,\n",
      "        768038933, 3518580897,  579300320, 3271633402,  466621525,\n",
      "       1485065653, 3056549327, 2188272461, 2542178961, 1668344371,\n",
      "       3851371285, 3925206647,  709127951, 1646927204,  518258762,\n",
      "       1366216418, 2556541645, 3807304381, 3661205834, 3557506052,\n",
      "       3820814610, 3683600217,  128589197, 2736611330, 1084631543,\n",
      "        103976581, 2328778793,  127407800, 3360596525, 3111753039,\n",
      "       3921146613, 4091460585, 3796179437, 1407938587, 1797275955,\n",
      "       2344447084, 2989806024,  954889156,  170447225,  508696342,\n",
      "       1134737180, 2464401803,  158615444, 3135444531, 4198544724,\n",
      "        451761227, 3393652488, 1736483808, 3368955719, 1535123677,\n",
      "       1803908011, 4231278232, 2016918174, 3219366995,   41276942,\n",
      "       3998088891, 3402197802, 4265839073, 1607575653,  901002693,\n",
      "       1650345235, 1233674544,  301056982, 3421733756, 1207490072,\n",
      "        357678952, 2792592700, 1208507379,   87382663, 2898975552,\n",
      "       4121951834,  288091137, 3011507510, 2936647913, 1361726961,\n",
      "       2131030738, 2401957532,  244292670, 2912098185, 3131746853,\n",
      "        710946553, 1310590855,  828128092, 2829560166, 1672188769,\n",
      "       4168160734, 3424896587, 2184399006, 1166552800,  773311304,\n",
      "       3037819697, 1012628299, 3556121983, 1587142922,  619295349,\n",
      "       1278214504,  400500958, 1842294939, 4055358454, 2089738669,\n",
      "       1338057974, 2237873265, 3547642918,  988666321,  124192261,\n",
      "       1107024663, 2789960060, 3215361605, 3125420009, 1594670884,\n",
      "       1372915126, 3429527440, 3827380320, 2935841362,  958290162,\n",
      "        392777370, 4065376931,  472106643, 1334192325, 1177772693,\n",
      "       3556426272, 3527220953, 4247750970, 1004470542, 2682049294,\n",
      "       1932672900,  170628749, 1248007132, 2905198590, 4248539190,\n",
      "       1685128005, 2875624084, 2535374743,  438992083, 2836054087,\n",
      "       2277855155, 1326966295, 1166744012, 3573405190,  254078052,\n",
      "        581265535, 3103093610, 2959223854, 3056413466, 2380887017,\n",
      "       2291293477, 2819738550, 4114662315, 1250419127, 1563227138,\n",
      "       1201964957, 3546386888, 3888018877,  284454258, 2784958536,\n",
      "       2207806479, 3690741963, 1234830708, 4193497192, 4136418936,\n",
      "        950983555, 3888271820, 3984536851, 3827811954,  118209135,\n",
      "       3308088518, 3851331820,    1142220, 1886534505, 2182782976,\n",
      "       2984223287, 1243355003, 1665063506,  636433656, 2900883970,\n",
      "       2204020674, 3780306391, 1749224308,  721743895, 3460509447,\n",
      "       1209292232, 1301920775, 1546007892, 3705656704,  529233471,\n",
      "       3798220620, 2449308472, 3713803064, 1757987421, 2681296959,\n",
      "        265611352, 1699480639,  906575079, 4135744975, 1943204351,\n",
      "       2923194593, 3888426566, 1501706401, 3403514531, 2469381782,\n",
      "       4113924989, 1877106740, 1182093305, 1312538987, 1436853736,\n",
      "        217401812, 2382845390, 1383461765, 2776017535,  865190439,\n",
      "       4176377162, 3283637082, 2764444697, 3626692814, 3911666744,\n",
      "       3735656167, 1328971956,  713585087,  324734679, 3738765443,\n",
      "        620548421, 3179430819, 2441777770, 4011838506, 3804062450,\n",
      "       4249237389, 2626496665, 2267766151,  909119903, 1872689780,\n",
      "        205500713,  800603238,  676737880, 2166541169, 3861260994,\n",
      "       1128262331,  466787138, 2584452918, 3073450335,  972405546,\n",
      "       2721965118, 2498859907, 1982673632, 2126393887, 3404368058,\n",
      "        232829502,  921076376,  744493451,   26155897, 2636491098,\n",
      "       3491693424, 2290944656, 1451168001, 2426950682,  987948841,\n",
      "       4138091625, 2908820844, 2825308699, 1570922876, 2570830376,\n",
      "       3050674656,  198691465, 1506571039, 3514114568, 2685358720,\n",
      "        706097535, 1573606884, 3154659239,  960942867, 3638367408,\n",
      "       2971793775,  750199376, 2132462121,  734916210, 4159699206,\n",
      "       2279796728, 1895637892, 1455719713, 1383778493, 3174607284,\n",
      "       3995126860,  629156619, 3346450115, 2413357890, 1873176402,\n",
      "       2666507922, 1628540549, 4087584431, 3934896989, 3900011295,\n",
      "       4118088745, 2649950965, 3375870151,  676953970, 2590173768,\n",
      "       1143865168,  199968969, 3498635368, 3440230550, 2731542902,\n",
      "       1616275386,   40439861, 3295934839,  520452868,  870214177,\n",
      "       1871666406, 1450536014, 1868540236, 1198004107, 2554142578,\n",
      "       1140137950,  361045438, 4240997144, 2692582835, 3715359274,\n",
      "       1442044036, 1889365377,  593226588,   17905039, 3802670942,\n",
      "       2291428237,  664302160, 3033639424, 2302470372,  862051112,\n",
      "       3614185840, 1071671715,  661608526, 1360565386, 2961985219,\n",
      "       1273173804, 2849601258, 3701226399, 1949801757, 1724853238,\n",
      "       1498737203, 2919293079, 2456444642, 2416810398, 2468777868,\n",
      "         69882202, 3002809241, 3842358921,   46557055, 4047219165,\n",
      "       1904330946, 3506763974,  437013797, 2833508535, 1553122145,\n",
      "       2120835724, 3358649587, 3554802404, 1562720183, 4088688103,\n",
      "       2171819985,  818399713, 1815358651, 2086218489, 2380443840,\n",
      "        559706664, 1378526888, 3781893223, 3447061169, 2757957170,\n",
      "       1760253679, 2336996612, 3862487136, 1613415701, 4162377139,\n",
      "       2143557560, 3568260582, 2009159720,  973207482, 2990825062,\n",
      "       1099635682, 3820628659, 4032190882,  732594213, 1687908530,\n",
      "       2144302959,  233849774, 2191849414, 1260516742, 2668887170,\n",
      "       1793134330, 4114733116, 3171745713,  419074767, 1320768468,\n",
      "       2936825417, 2402102589, 1877448989, 1213464208, 3477253456,\n",
      "       3291423849, 3794709374,  623607114, 2041498564, 3706963566,\n",
      "       1927449900, 2687050738, 3984843775, 2878798065, 1278693888,\n",
      "       4201082591, 2199892583, 1979451090,  799508583, 1983550457,\n",
      "       2857147608, 1928521170, 2863038637, 4136584148, 1417041018,\n",
      "       3794706096, 1253265950, 2067581477, 2234125844, 1512031418,\n",
      "       3194386532, 1437694302, 3071469735, 1810221887, 3418935807,\n",
      "       3600594931, 1008515550, 2576609164, 4114111515,  971232950,\n",
      "       1136189770, 1566397760, 1892342748,  846852555, 3818066311,\n",
      "       3151043532,  941811638, 3572361711, 1273275541, 3275511499,\n",
      "       2083306617, 3511341333, 1019761578, 3794661123, 2812634223,\n",
      "        409690034,  997362966, 3413774480, 3205556182, 2826186127,\n",
      "       3609595735,  891617009, 3678863430, 3705977217, 3330172029,\n",
      "       3930011607, 1740622828, 1298160148,  105980734, 1716290753,\n",
      "        917932258, 3119607871, 3662331243, 3694958268], dtype=uint32), 288, 0, 0.0)\n",
      "('MT19937', array([1036876355, 1873300696, 2779425791, 2339800103, 3723880741,\n",
      "       1327008191, 2106492371, 3203408818,  701761016, 3043702971,\n",
      "       1871833405, 3219103356,  856212731, 3351154237,   39152719,\n",
      "        513061616, 2103980784,  108772343,  182654284, 1685416113,\n",
      "       4185648610, 4026330555,  795053916, 2362482727, 2781071686,\n",
      "       3236596564, 3394025798, 1750103809, 3892970399, 3474087018,\n",
      "       4102634357, 3711757517, 2301984460, 2737821047, 2216912524,\n",
      "        717776466, 3497452871, 1274676121, 1333709612, 1056772703,\n",
      "       3670424917, 2739579723, 3819878526, 2478480963, 4146654823,\n",
      "       3058203559, 2522998525, 2085635626, 1336284938, 2925938181,\n",
      "         38825661, 2960205374, 2493164034,  398438632, 1705719358,\n",
      "       3620913246, 2622837628, 3176186704,   14191055, 2442377354,\n",
      "       4059410324,  973581927, 4188131271,  138814531, 3906469862,\n",
      "       3629461658, 3818882571, 4052334261, 4275007254, 1614411297,\n",
      "       1680692855, 1449363529, 2281178495, 2493993333, 1677642278,\n",
      "        792491368,  476740251, 4209768305, 1841126576, 1429353952,\n",
      "       2467072645, 1885755481, 1694712675, 1601187635, 1548200975,\n",
      "       2845970427,  294724874, 1643076106, 4172658599, 1750253701,\n",
      "       1308787566, 2588934722, 1935830617, 3559175713,  906999510,\n",
      "       3218182432, 3512596646,  899292934, 2557299002, 1893358037,\n",
      "        560245378, 3710675862, 2615881014,  316679444, 2962671920,\n",
      "       1041044048, 4191770952, 4256937430,  196176005,  467970998,\n",
      "        243295635, 1167991073, 2784052680, 4245395638, 4125153613,\n",
      "       4110406074,  971923323,  695406079, 3496315824,  357909311,\n",
      "       1751676811, 1518790934, 4099952317,  816632113, 1447859772,\n",
      "        151931250, 1241139576, 3723893554, 4187475227,  544646380,\n",
      "       3946902843, 1807056253, 3043181223, 1551000349, 1073404255,\n",
      "       3428149666, 1251396176, 3067265653, 1720353205,  621002819,\n",
      "        381269683, 1574457509, 1535618566, 2944830233, 3719299781,\n",
      "       1733934070, 2493962751,  361231328, 2614254289, 1354145808,\n",
      "       4119697761, 1835898327, 3197791332, 2049218221, 1313376925,\n",
      "        577179965, 3635603244,  140357814, 1900571703, 2099956297,\n",
      "        768038933, 3518580897,  579300320, 3271633402,  466621525,\n",
      "       1485065653, 3056549327, 2188272461, 2542178961, 1668344371,\n",
      "       3851371285, 3925206647,  709127951, 1646927204,  518258762,\n",
      "       1366216418, 2556541645, 3807304381, 3661205834, 3557506052,\n",
      "       3820814610, 3683600217,  128589197, 2736611330, 1084631543,\n",
      "        103976581, 2328778793,  127407800, 3360596525, 3111753039,\n",
      "       3921146613, 4091460585, 3796179437, 1407938587, 1797275955,\n",
      "       2344447084, 2989806024,  954889156,  170447225,  508696342,\n",
      "       1134737180, 2464401803,  158615444, 3135444531, 4198544724,\n",
      "        451761227, 3393652488, 1736483808, 3368955719, 1535123677,\n",
      "       1803908011, 4231278232, 2016918174, 3219366995,   41276942,\n",
      "       3998088891, 3402197802, 4265839073, 1607575653,  901002693,\n",
      "       1650345235, 1233674544,  301056982, 3421733756, 1207490072,\n",
      "        357678952, 2792592700, 1208507379,   87382663, 2898975552,\n",
      "       4121951834,  288091137, 3011507510, 2936647913, 1361726961,\n",
      "       2131030738, 2401957532,  244292670, 2912098185, 3131746853,\n",
      "        710946553, 1310590855,  828128092, 2829560166, 1672188769,\n",
      "       4168160734, 3424896587, 2184399006, 1166552800,  773311304,\n",
      "       3037819697, 1012628299, 3556121983, 1587142922,  619295349,\n",
      "       1278214504,  400500958, 1842294939, 4055358454, 2089738669,\n",
      "       1338057974, 2237873265, 3547642918,  988666321,  124192261,\n",
      "       1107024663, 2789960060, 3215361605, 3125420009, 1594670884,\n",
      "       1372915126, 3429527440, 3827380320, 2935841362,  958290162,\n",
      "        392777370, 4065376931,  472106643, 1334192325, 1177772693,\n",
      "       3556426272, 3527220953, 4247750970, 1004470542, 2682049294,\n",
      "       1932672900,  170628749, 1248007132, 2905198590, 4248539190,\n",
      "       1685128005, 2875624084, 2535374743,  438992083, 2836054087,\n",
      "       2277855155, 1326966295, 1166744012, 3573405190,  254078052,\n",
      "        581265535, 3103093610, 2959223854, 3056413466, 2380887017,\n",
      "       2291293477, 2819738550, 4114662315, 1250419127, 1563227138,\n",
      "       1201964957, 3546386888, 3888018877,  284454258, 2784958536,\n",
      "       2207806479, 3690741963, 1234830708, 4193497192, 4136418936,\n",
      "        950983555, 3888271820, 3984536851, 3827811954,  118209135,\n",
      "       3308088518, 3851331820,    1142220, 1886534505, 2182782976,\n",
      "       2984223287, 1243355003, 1665063506,  636433656, 2900883970,\n",
      "       2204020674, 3780306391, 1749224308,  721743895, 3460509447,\n",
      "       1209292232, 1301920775, 1546007892, 3705656704,  529233471,\n",
      "       3798220620, 2449308472, 3713803064, 1757987421, 2681296959,\n",
      "        265611352, 1699480639,  906575079, 4135744975, 1943204351,\n",
      "       2923194593, 3888426566, 1501706401, 3403514531, 2469381782,\n",
      "       4113924989, 1877106740, 1182093305, 1312538987, 1436853736,\n",
      "        217401812, 2382845390, 1383461765, 2776017535,  865190439,\n",
      "       4176377162, 3283637082, 2764444697, 3626692814, 3911666744,\n",
      "       3735656167, 1328971956,  713585087,  324734679, 3738765443,\n",
      "        620548421, 3179430819, 2441777770, 4011838506, 3804062450,\n",
      "       4249237389, 2626496665, 2267766151,  909119903, 1872689780,\n",
      "        205500713,  800603238,  676737880, 2166541169, 3861260994,\n",
      "       1128262331,  466787138, 2584452918, 3073450335,  972405546,\n",
      "       2721965118, 2498859907, 1982673632, 2126393887, 3404368058,\n",
      "        232829502,  921076376,  744493451,   26155897, 2636491098,\n",
      "       3491693424, 2290944656, 1451168001, 2426950682,  987948841,\n",
      "       4138091625, 2908820844, 2825308699, 1570922876, 2570830376,\n",
      "       3050674656,  198691465, 1506571039, 3514114568, 2685358720,\n",
      "        706097535, 1573606884, 3154659239,  960942867, 3638367408,\n",
      "       2971793775,  750199376, 2132462121,  734916210, 4159699206,\n",
      "       2279796728, 1895637892, 1455719713, 1383778493, 3174607284,\n",
      "       3995126860,  629156619, 3346450115, 2413357890, 1873176402,\n",
      "       2666507922, 1628540549, 4087584431, 3934896989, 3900011295,\n",
      "       4118088745, 2649950965, 3375870151,  676953970, 2590173768,\n",
      "       1143865168,  199968969, 3498635368, 3440230550, 2731542902,\n",
      "       1616275386,   40439861, 3295934839,  520452868,  870214177,\n",
      "       1871666406, 1450536014, 1868540236, 1198004107, 2554142578,\n",
      "       1140137950,  361045438, 4240997144, 2692582835, 3715359274,\n",
      "       1442044036, 1889365377,  593226588,   17905039, 3802670942,\n",
      "       2291428237,  664302160, 3033639424, 2302470372,  862051112,\n",
      "       3614185840, 1071671715,  661608526, 1360565386, 2961985219,\n",
      "       1273173804, 2849601258, 3701226399, 1949801757, 1724853238,\n",
      "       1498737203, 2919293079, 2456444642, 2416810398, 2468777868,\n",
      "         69882202, 3002809241, 3842358921,   46557055, 4047219165,\n",
      "       1904330946, 3506763974,  437013797, 2833508535, 1553122145,\n",
      "       2120835724, 3358649587, 3554802404, 1562720183, 4088688103,\n",
      "       2171819985,  818399713, 1815358651, 2086218489, 2380443840,\n",
      "        559706664, 1378526888, 3781893223, 3447061169, 2757957170,\n",
      "       1760253679, 2336996612, 3862487136, 1613415701, 4162377139,\n",
      "       2143557560, 3568260582, 2009159720,  973207482, 2990825062,\n",
      "       1099635682, 3820628659, 4032190882,  732594213, 1687908530,\n",
      "       2144302959,  233849774, 2191849414, 1260516742, 2668887170,\n",
      "       1793134330, 4114733116, 3171745713,  419074767, 1320768468,\n",
      "       2936825417, 2402102589, 1877448989, 1213464208, 3477253456,\n",
      "       3291423849, 3794709374,  623607114, 2041498564, 3706963566,\n",
      "       1927449900, 2687050738, 3984843775, 2878798065, 1278693888,\n",
      "       4201082591, 2199892583, 1979451090,  799508583, 1983550457,\n",
      "       2857147608, 1928521170, 2863038637, 4136584148, 1417041018,\n",
      "       3794706096, 1253265950, 2067581477, 2234125844, 1512031418,\n",
      "       3194386532, 1437694302, 3071469735, 1810221887, 3418935807,\n",
      "       3600594931, 1008515550, 2576609164, 4114111515,  971232950,\n",
      "       1136189770, 1566397760, 1892342748,  846852555, 3818066311,\n",
      "       3151043532,  941811638, 3572361711, 1273275541, 3275511499,\n",
      "       2083306617, 3511341333, 1019761578, 3794661123, 2812634223,\n",
      "        409690034,  997362966, 3413774480, 3205556182, 2826186127,\n",
      "       3609595735,  891617009, 3678863430, 3705977217, 3330172029,\n",
      "       3930011607, 1740622828, 1298160148,  105980734, 1716290753,\n",
      "        917932258, 3119607871, 3662331243, 3694958268], dtype=uint32), 292, 0, 0.0)\n",
      "('MT19937', array([1036876355, 1873300696, 2779425791, 2339800103, 3723880741,\n",
      "       1327008191, 2106492371, 3203408818,  701761016, 3043702971,\n",
      "       1871833405, 3219103356,  856212731, 3351154237,   39152719,\n",
      "        513061616, 2103980784,  108772343,  182654284, 1685416113,\n",
      "       4185648610, 4026330555,  795053916, 2362482727, 2781071686,\n",
      "       3236596564, 3394025798, 1750103809, 3892970399, 3474087018,\n",
      "       4102634357, 3711757517, 2301984460, 2737821047, 2216912524,\n",
      "        717776466, 3497452871, 1274676121, 1333709612, 1056772703,\n",
      "       3670424917, 2739579723, 3819878526, 2478480963, 4146654823,\n",
      "       3058203559, 2522998525, 2085635626, 1336284938, 2925938181,\n",
      "         38825661, 2960205374, 2493164034,  398438632, 1705719358,\n",
      "       3620913246, 2622837628, 3176186704,   14191055, 2442377354,\n",
      "       4059410324,  973581927, 4188131271,  138814531, 3906469862,\n",
      "       3629461658, 3818882571, 4052334261, 4275007254, 1614411297,\n",
      "       1680692855, 1449363529, 2281178495, 2493993333, 1677642278,\n",
      "        792491368,  476740251, 4209768305, 1841126576, 1429353952,\n",
      "       2467072645, 1885755481, 1694712675, 1601187635, 1548200975,\n",
      "       2845970427,  294724874, 1643076106, 4172658599, 1750253701,\n",
      "       1308787566, 2588934722, 1935830617, 3559175713,  906999510,\n",
      "       3218182432, 3512596646,  899292934, 2557299002, 1893358037,\n",
      "        560245378, 3710675862, 2615881014,  316679444, 2962671920,\n",
      "       1041044048, 4191770952, 4256937430,  196176005,  467970998,\n",
      "        243295635, 1167991073, 2784052680, 4245395638, 4125153613,\n",
      "       4110406074,  971923323,  695406079, 3496315824,  357909311,\n",
      "       1751676811, 1518790934, 4099952317,  816632113, 1447859772,\n",
      "        151931250, 1241139576, 3723893554, 4187475227,  544646380,\n",
      "       3946902843, 1807056253, 3043181223, 1551000349, 1073404255,\n",
      "       3428149666, 1251396176, 3067265653, 1720353205,  621002819,\n",
      "        381269683, 1574457509, 1535618566, 2944830233, 3719299781,\n",
      "       1733934070, 2493962751,  361231328, 2614254289, 1354145808,\n",
      "       4119697761, 1835898327, 3197791332, 2049218221, 1313376925,\n",
      "        577179965, 3635603244,  140357814, 1900571703, 2099956297,\n",
      "        768038933, 3518580897,  579300320, 3271633402,  466621525,\n",
      "       1485065653, 3056549327, 2188272461, 2542178961, 1668344371,\n",
      "       3851371285, 3925206647,  709127951, 1646927204,  518258762,\n",
      "       1366216418, 2556541645, 3807304381, 3661205834, 3557506052,\n",
      "       3820814610, 3683600217,  128589197, 2736611330, 1084631543,\n",
      "        103976581, 2328778793,  127407800, 3360596525, 3111753039,\n",
      "       3921146613, 4091460585, 3796179437, 1407938587, 1797275955,\n",
      "       2344447084, 2989806024,  954889156,  170447225,  508696342,\n",
      "       1134737180, 2464401803,  158615444, 3135444531, 4198544724,\n",
      "        451761227, 3393652488, 1736483808, 3368955719, 1535123677,\n",
      "       1803908011, 4231278232, 2016918174, 3219366995,   41276942,\n",
      "       3998088891, 3402197802, 4265839073, 1607575653,  901002693,\n",
      "       1650345235, 1233674544,  301056982, 3421733756, 1207490072,\n",
      "        357678952, 2792592700, 1208507379,   87382663, 2898975552,\n",
      "       4121951834,  288091137, 3011507510, 2936647913, 1361726961,\n",
      "       2131030738, 2401957532,  244292670, 2912098185, 3131746853,\n",
      "        710946553, 1310590855,  828128092, 2829560166, 1672188769,\n",
      "       4168160734, 3424896587, 2184399006, 1166552800,  773311304,\n",
      "       3037819697, 1012628299, 3556121983, 1587142922,  619295349,\n",
      "       1278214504,  400500958, 1842294939, 4055358454, 2089738669,\n",
      "       1338057974, 2237873265, 3547642918,  988666321,  124192261,\n",
      "       1107024663, 2789960060, 3215361605, 3125420009, 1594670884,\n",
      "       1372915126, 3429527440, 3827380320, 2935841362,  958290162,\n",
      "        392777370, 4065376931,  472106643, 1334192325, 1177772693,\n",
      "       3556426272, 3527220953, 4247750970, 1004470542, 2682049294,\n",
      "       1932672900,  170628749, 1248007132, 2905198590, 4248539190,\n",
      "       1685128005, 2875624084, 2535374743,  438992083, 2836054087,\n",
      "       2277855155, 1326966295, 1166744012, 3573405190,  254078052,\n",
      "        581265535, 3103093610, 2959223854, 3056413466, 2380887017,\n",
      "       2291293477, 2819738550, 4114662315, 1250419127, 1563227138,\n",
      "       1201964957, 3546386888, 3888018877,  284454258, 2784958536,\n",
      "       2207806479, 3690741963, 1234830708, 4193497192, 4136418936,\n",
      "        950983555, 3888271820, 3984536851, 3827811954,  118209135,\n",
      "       3308088518, 3851331820,    1142220, 1886534505, 2182782976,\n",
      "       2984223287, 1243355003, 1665063506,  636433656, 2900883970,\n",
      "       2204020674, 3780306391, 1749224308,  721743895, 3460509447,\n",
      "       1209292232, 1301920775, 1546007892, 3705656704,  529233471,\n",
      "       3798220620, 2449308472, 3713803064, 1757987421, 2681296959,\n",
      "        265611352, 1699480639,  906575079, 4135744975, 1943204351,\n",
      "       2923194593, 3888426566, 1501706401, 3403514531, 2469381782,\n",
      "       4113924989, 1877106740, 1182093305, 1312538987, 1436853736,\n",
      "        217401812, 2382845390, 1383461765, 2776017535,  865190439,\n",
      "       4176377162, 3283637082, 2764444697, 3626692814, 3911666744,\n",
      "       3735656167, 1328971956,  713585087,  324734679, 3738765443,\n",
      "        620548421, 3179430819, 2441777770, 4011838506, 3804062450,\n",
      "       4249237389, 2626496665, 2267766151,  909119903, 1872689780,\n",
      "        205500713,  800603238,  676737880, 2166541169, 3861260994,\n",
      "       1128262331,  466787138, 2584452918, 3073450335,  972405546,\n",
      "       2721965118, 2498859907, 1982673632, 2126393887, 3404368058,\n",
      "        232829502,  921076376,  744493451,   26155897, 2636491098,\n",
      "       3491693424, 2290944656, 1451168001, 2426950682,  987948841,\n",
      "       4138091625, 2908820844, 2825308699, 1570922876, 2570830376,\n",
      "       3050674656,  198691465, 1506571039, 3514114568, 2685358720,\n",
      "        706097535, 1573606884, 3154659239,  960942867, 3638367408,\n",
      "       2971793775,  750199376, 2132462121,  734916210, 4159699206,\n",
      "       2279796728, 1895637892, 1455719713, 1383778493, 3174607284,\n",
      "       3995126860,  629156619, 3346450115, 2413357890, 1873176402,\n",
      "       2666507922, 1628540549, 4087584431, 3934896989, 3900011295,\n",
      "       4118088745, 2649950965, 3375870151,  676953970, 2590173768,\n",
      "       1143865168,  199968969, 3498635368, 3440230550, 2731542902,\n",
      "       1616275386,   40439861, 3295934839,  520452868,  870214177,\n",
      "       1871666406, 1450536014, 1868540236, 1198004107, 2554142578,\n",
      "       1140137950,  361045438, 4240997144, 2692582835, 3715359274,\n",
      "       1442044036, 1889365377,  593226588,   17905039, 3802670942,\n",
      "       2291428237,  664302160, 3033639424, 2302470372,  862051112,\n",
      "       3614185840, 1071671715,  661608526, 1360565386, 2961985219,\n",
      "       1273173804, 2849601258, 3701226399, 1949801757, 1724853238,\n",
      "       1498737203, 2919293079, 2456444642, 2416810398, 2468777868,\n",
      "         69882202, 3002809241, 3842358921,   46557055, 4047219165,\n",
      "       1904330946, 3506763974,  437013797, 2833508535, 1553122145,\n",
      "       2120835724, 3358649587, 3554802404, 1562720183, 4088688103,\n",
      "       2171819985,  818399713, 1815358651, 2086218489, 2380443840,\n",
      "        559706664, 1378526888, 3781893223, 3447061169, 2757957170,\n",
      "       1760253679, 2336996612, 3862487136, 1613415701, 4162377139,\n",
      "       2143557560, 3568260582, 2009159720,  973207482, 2990825062,\n",
      "       1099635682, 3820628659, 4032190882,  732594213, 1687908530,\n",
      "       2144302959,  233849774, 2191849414, 1260516742, 2668887170,\n",
      "       1793134330, 4114733116, 3171745713,  419074767, 1320768468,\n",
      "       2936825417, 2402102589, 1877448989, 1213464208, 3477253456,\n",
      "       3291423849, 3794709374,  623607114, 2041498564, 3706963566,\n",
      "       1927449900, 2687050738, 3984843775, 2878798065, 1278693888,\n",
      "       4201082591, 2199892583, 1979451090,  799508583, 1983550457,\n",
      "       2857147608, 1928521170, 2863038637, 4136584148, 1417041018,\n",
      "       3794706096, 1253265950, 2067581477, 2234125844, 1512031418,\n",
      "       3194386532, 1437694302, 3071469735, 1810221887, 3418935807,\n",
      "       3600594931, 1008515550, 2576609164, 4114111515,  971232950,\n",
      "       1136189770, 1566397760, 1892342748,  846852555, 3818066311,\n",
      "       3151043532,  941811638, 3572361711, 1273275541, 3275511499,\n",
      "       2083306617, 3511341333, 1019761578, 3794661123, 2812634223,\n",
      "        409690034,  997362966, 3413774480, 3205556182, 2826186127,\n",
      "       3609595735,  891617009, 3678863430, 3705977217, 3330172029,\n",
      "       3930011607, 1740622828, 1298160148,  105980734, 1716290753,\n",
      "        917932258, 3119607871, 3662331243, 3694958268], dtype=uint32), 296, 0, 0.0)\n",
      "('MT19937', array([1036876355, 1873300696, 2779425791, 2339800103, 3723880741,\n",
      "       1327008191, 2106492371, 3203408818,  701761016, 3043702971,\n",
      "       1871833405, 3219103356,  856212731, 3351154237,   39152719,\n",
      "        513061616, 2103980784,  108772343,  182654284, 1685416113,\n",
      "       4185648610, 4026330555,  795053916, 2362482727, 2781071686,\n",
      "       3236596564, 3394025798, 1750103809, 3892970399, 3474087018,\n",
      "       4102634357, 3711757517, 2301984460, 2737821047, 2216912524,\n",
      "        717776466, 3497452871, 1274676121, 1333709612, 1056772703,\n",
      "       3670424917, 2739579723, 3819878526, 2478480963, 4146654823,\n",
      "       3058203559, 2522998525, 2085635626, 1336284938, 2925938181,\n",
      "         38825661, 2960205374, 2493164034,  398438632, 1705719358,\n",
      "       3620913246, 2622837628, 3176186704,   14191055, 2442377354,\n",
      "       4059410324,  973581927, 4188131271,  138814531, 3906469862,\n",
      "       3629461658, 3818882571, 4052334261, 4275007254, 1614411297,\n",
      "       1680692855, 1449363529, 2281178495, 2493993333, 1677642278,\n",
      "        792491368,  476740251, 4209768305, 1841126576, 1429353952,\n",
      "       2467072645, 1885755481, 1694712675, 1601187635, 1548200975,\n",
      "       2845970427,  294724874, 1643076106, 4172658599, 1750253701,\n",
      "       1308787566, 2588934722, 1935830617, 3559175713,  906999510,\n",
      "       3218182432, 3512596646,  899292934, 2557299002, 1893358037,\n",
      "        560245378, 3710675862, 2615881014,  316679444, 2962671920,\n",
      "       1041044048, 4191770952, 4256937430,  196176005,  467970998,\n",
      "        243295635, 1167991073, 2784052680, 4245395638, 4125153613,\n",
      "       4110406074,  971923323,  695406079, 3496315824,  357909311,\n",
      "       1751676811, 1518790934, 4099952317,  816632113, 1447859772,\n",
      "        151931250, 1241139576, 3723893554, 4187475227,  544646380,\n",
      "       3946902843, 1807056253, 3043181223, 1551000349, 1073404255,\n",
      "       3428149666, 1251396176, 3067265653, 1720353205,  621002819,\n",
      "        381269683, 1574457509, 1535618566, 2944830233, 3719299781,\n",
      "       1733934070, 2493962751,  361231328, 2614254289, 1354145808,\n",
      "       4119697761, 1835898327, 3197791332, 2049218221, 1313376925,\n",
      "        577179965, 3635603244,  140357814, 1900571703, 2099956297,\n",
      "        768038933, 3518580897,  579300320, 3271633402,  466621525,\n",
      "       1485065653, 3056549327, 2188272461, 2542178961, 1668344371,\n",
      "       3851371285, 3925206647,  709127951, 1646927204,  518258762,\n",
      "       1366216418, 2556541645, 3807304381, 3661205834, 3557506052,\n",
      "       3820814610, 3683600217,  128589197, 2736611330, 1084631543,\n",
      "        103976581, 2328778793,  127407800, 3360596525, 3111753039,\n",
      "       3921146613, 4091460585, 3796179437, 1407938587, 1797275955,\n",
      "       2344447084, 2989806024,  954889156,  170447225,  508696342,\n",
      "       1134737180, 2464401803,  158615444, 3135444531, 4198544724,\n",
      "        451761227, 3393652488, 1736483808, 3368955719, 1535123677,\n",
      "       1803908011, 4231278232, 2016918174, 3219366995,   41276942,\n",
      "       3998088891, 3402197802, 4265839073, 1607575653,  901002693,\n",
      "       1650345235, 1233674544,  301056982, 3421733756, 1207490072,\n",
      "        357678952, 2792592700, 1208507379,   87382663, 2898975552,\n",
      "       4121951834,  288091137, 3011507510, 2936647913, 1361726961,\n",
      "       2131030738, 2401957532,  244292670, 2912098185, 3131746853,\n",
      "        710946553, 1310590855,  828128092, 2829560166, 1672188769,\n",
      "       4168160734, 3424896587, 2184399006, 1166552800,  773311304,\n",
      "       3037819697, 1012628299, 3556121983, 1587142922,  619295349,\n",
      "       1278214504,  400500958, 1842294939, 4055358454, 2089738669,\n",
      "       1338057974, 2237873265, 3547642918,  988666321,  124192261,\n",
      "       1107024663, 2789960060, 3215361605, 3125420009, 1594670884,\n",
      "       1372915126, 3429527440, 3827380320, 2935841362,  958290162,\n",
      "        392777370, 4065376931,  472106643, 1334192325, 1177772693,\n",
      "       3556426272, 3527220953, 4247750970, 1004470542, 2682049294,\n",
      "       1932672900,  170628749, 1248007132, 2905198590, 4248539190,\n",
      "       1685128005, 2875624084, 2535374743,  438992083, 2836054087,\n",
      "       2277855155, 1326966295, 1166744012, 3573405190,  254078052,\n",
      "        581265535, 3103093610, 2959223854, 3056413466, 2380887017,\n",
      "       2291293477, 2819738550, 4114662315, 1250419127, 1563227138,\n",
      "       1201964957, 3546386888, 3888018877,  284454258, 2784958536,\n",
      "       2207806479, 3690741963, 1234830708, 4193497192, 4136418936,\n",
      "        950983555, 3888271820, 3984536851, 3827811954,  118209135,\n",
      "       3308088518, 3851331820,    1142220, 1886534505, 2182782976,\n",
      "       2984223287, 1243355003, 1665063506,  636433656, 2900883970,\n",
      "       2204020674, 3780306391, 1749224308,  721743895, 3460509447,\n",
      "       1209292232, 1301920775, 1546007892, 3705656704,  529233471,\n",
      "       3798220620, 2449308472, 3713803064, 1757987421, 2681296959,\n",
      "        265611352, 1699480639,  906575079, 4135744975, 1943204351,\n",
      "       2923194593, 3888426566, 1501706401, 3403514531, 2469381782,\n",
      "       4113924989, 1877106740, 1182093305, 1312538987, 1436853736,\n",
      "        217401812, 2382845390, 1383461765, 2776017535,  865190439,\n",
      "       4176377162, 3283637082, 2764444697, 3626692814, 3911666744,\n",
      "       3735656167, 1328971956,  713585087,  324734679, 3738765443,\n",
      "        620548421, 3179430819, 2441777770, 4011838506, 3804062450,\n",
      "       4249237389, 2626496665, 2267766151,  909119903, 1872689780,\n",
      "        205500713,  800603238,  676737880, 2166541169, 3861260994,\n",
      "       1128262331,  466787138, 2584452918, 3073450335,  972405546,\n",
      "       2721965118, 2498859907, 1982673632, 2126393887, 3404368058,\n",
      "        232829502,  921076376,  744493451,   26155897, 2636491098,\n",
      "       3491693424, 2290944656, 1451168001, 2426950682,  987948841,\n",
      "       4138091625, 2908820844, 2825308699, 1570922876, 2570830376,\n",
      "       3050674656,  198691465, 1506571039, 3514114568, 2685358720,\n",
      "        706097535, 1573606884, 3154659239,  960942867, 3638367408,\n",
      "       2971793775,  750199376, 2132462121,  734916210, 4159699206,\n",
      "       2279796728, 1895637892, 1455719713, 1383778493, 3174607284,\n",
      "       3995126860,  629156619, 3346450115, 2413357890, 1873176402,\n",
      "       2666507922, 1628540549, 4087584431, 3934896989, 3900011295,\n",
      "       4118088745, 2649950965, 3375870151,  676953970, 2590173768,\n",
      "       1143865168,  199968969, 3498635368, 3440230550, 2731542902,\n",
      "       1616275386,   40439861, 3295934839,  520452868,  870214177,\n",
      "       1871666406, 1450536014, 1868540236, 1198004107, 2554142578,\n",
      "       1140137950,  361045438, 4240997144, 2692582835, 3715359274,\n",
      "       1442044036, 1889365377,  593226588,   17905039, 3802670942,\n",
      "       2291428237,  664302160, 3033639424, 2302470372,  862051112,\n",
      "       3614185840, 1071671715,  661608526, 1360565386, 2961985219,\n",
      "       1273173804, 2849601258, 3701226399, 1949801757, 1724853238,\n",
      "       1498737203, 2919293079, 2456444642, 2416810398, 2468777868,\n",
      "         69882202, 3002809241, 3842358921,   46557055, 4047219165,\n",
      "       1904330946, 3506763974,  437013797, 2833508535, 1553122145,\n",
      "       2120835724, 3358649587, 3554802404, 1562720183, 4088688103,\n",
      "       2171819985,  818399713, 1815358651, 2086218489, 2380443840,\n",
      "        559706664, 1378526888, 3781893223, 3447061169, 2757957170,\n",
      "       1760253679, 2336996612, 3862487136, 1613415701, 4162377139,\n",
      "       2143557560, 3568260582, 2009159720,  973207482, 2990825062,\n",
      "       1099635682, 3820628659, 4032190882,  732594213, 1687908530,\n",
      "       2144302959,  233849774, 2191849414, 1260516742, 2668887170,\n",
      "       1793134330, 4114733116, 3171745713,  419074767, 1320768468,\n",
      "       2936825417, 2402102589, 1877448989, 1213464208, 3477253456,\n",
      "       3291423849, 3794709374,  623607114, 2041498564, 3706963566,\n",
      "       1927449900, 2687050738, 3984843775, 2878798065, 1278693888,\n",
      "       4201082591, 2199892583, 1979451090,  799508583, 1983550457,\n",
      "       2857147608, 1928521170, 2863038637, 4136584148, 1417041018,\n",
      "       3794706096, 1253265950, 2067581477, 2234125844, 1512031418,\n",
      "       3194386532, 1437694302, 3071469735, 1810221887, 3418935807,\n",
      "       3600594931, 1008515550, 2576609164, 4114111515,  971232950,\n",
      "       1136189770, 1566397760, 1892342748,  846852555, 3818066311,\n",
      "       3151043532,  941811638, 3572361711, 1273275541, 3275511499,\n",
      "       2083306617, 3511341333, 1019761578, 3794661123, 2812634223,\n",
      "        409690034,  997362966, 3413774480, 3205556182, 2826186127,\n",
      "       3609595735,  891617009, 3678863430, 3705977217, 3330172029,\n",
      "       3930011607, 1740622828, 1298160148,  105980734, 1716290753,\n",
      "        917932258, 3119607871, 3662331243, 3694958268], dtype=uint32), 300, 0, 0.0)\n",
      "('MT19937', array([1036876355, 1873300696, 2779425791, 2339800103, 3723880741,\n",
      "       1327008191, 2106492371, 3203408818,  701761016, 3043702971,\n",
      "       1871833405, 3219103356,  856212731, 3351154237,   39152719,\n",
      "        513061616, 2103980784,  108772343,  182654284, 1685416113,\n",
      "       4185648610, 4026330555,  795053916, 2362482727, 2781071686,\n",
      "       3236596564, 3394025798, 1750103809, 3892970399, 3474087018,\n",
      "       4102634357, 3711757517, 2301984460, 2737821047, 2216912524,\n",
      "        717776466, 3497452871, 1274676121, 1333709612, 1056772703,\n",
      "       3670424917, 2739579723, 3819878526, 2478480963, 4146654823,\n",
      "       3058203559, 2522998525, 2085635626, 1336284938, 2925938181,\n",
      "         38825661, 2960205374, 2493164034,  398438632, 1705719358,\n",
      "       3620913246, 2622837628, 3176186704,   14191055, 2442377354,\n",
      "       4059410324,  973581927, 4188131271,  138814531, 3906469862,\n",
      "       3629461658, 3818882571, 4052334261, 4275007254, 1614411297,\n",
      "       1680692855, 1449363529, 2281178495, 2493993333, 1677642278,\n",
      "        792491368,  476740251, 4209768305, 1841126576, 1429353952,\n",
      "       2467072645, 1885755481, 1694712675, 1601187635, 1548200975,\n",
      "       2845970427,  294724874, 1643076106, 4172658599, 1750253701,\n",
      "       1308787566, 2588934722, 1935830617, 3559175713,  906999510,\n",
      "       3218182432, 3512596646,  899292934, 2557299002, 1893358037,\n",
      "        560245378, 3710675862, 2615881014,  316679444, 2962671920,\n",
      "       1041044048, 4191770952, 4256937430,  196176005,  467970998,\n",
      "        243295635, 1167991073, 2784052680, 4245395638, 4125153613,\n",
      "       4110406074,  971923323,  695406079, 3496315824,  357909311,\n",
      "       1751676811, 1518790934, 4099952317,  816632113, 1447859772,\n",
      "        151931250, 1241139576, 3723893554, 4187475227,  544646380,\n",
      "       3946902843, 1807056253, 3043181223, 1551000349, 1073404255,\n",
      "       3428149666, 1251396176, 3067265653, 1720353205,  621002819,\n",
      "        381269683, 1574457509, 1535618566, 2944830233, 3719299781,\n",
      "       1733934070, 2493962751,  361231328, 2614254289, 1354145808,\n",
      "       4119697761, 1835898327, 3197791332, 2049218221, 1313376925,\n",
      "        577179965, 3635603244,  140357814, 1900571703, 2099956297,\n",
      "        768038933, 3518580897,  579300320, 3271633402,  466621525,\n",
      "       1485065653, 3056549327, 2188272461, 2542178961, 1668344371,\n",
      "       3851371285, 3925206647,  709127951, 1646927204,  518258762,\n",
      "       1366216418, 2556541645, 3807304381, 3661205834, 3557506052,\n",
      "       3820814610, 3683600217,  128589197, 2736611330, 1084631543,\n",
      "        103976581, 2328778793,  127407800, 3360596525, 3111753039,\n",
      "       3921146613, 4091460585, 3796179437, 1407938587, 1797275955,\n",
      "       2344447084, 2989806024,  954889156,  170447225,  508696342,\n",
      "       1134737180, 2464401803,  158615444, 3135444531, 4198544724,\n",
      "        451761227, 3393652488, 1736483808, 3368955719, 1535123677,\n",
      "       1803908011, 4231278232, 2016918174, 3219366995,   41276942,\n",
      "       3998088891, 3402197802, 4265839073, 1607575653,  901002693,\n",
      "       1650345235, 1233674544,  301056982, 3421733756, 1207490072,\n",
      "        357678952, 2792592700, 1208507379,   87382663, 2898975552,\n",
      "       4121951834,  288091137, 3011507510, 2936647913, 1361726961,\n",
      "       2131030738, 2401957532,  244292670, 2912098185, 3131746853,\n",
      "        710946553, 1310590855,  828128092, 2829560166, 1672188769,\n",
      "       4168160734, 3424896587, 2184399006, 1166552800,  773311304,\n",
      "       3037819697, 1012628299, 3556121983, 1587142922,  619295349,\n",
      "       1278214504,  400500958, 1842294939, 4055358454, 2089738669,\n",
      "       1338057974, 2237873265, 3547642918,  988666321,  124192261,\n",
      "       1107024663, 2789960060, 3215361605, 3125420009, 1594670884,\n",
      "       1372915126, 3429527440, 3827380320, 2935841362,  958290162,\n",
      "        392777370, 4065376931,  472106643, 1334192325, 1177772693,\n",
      "       3556426272, 3527220953, 4247750970, 1004470542, 2682049294,\n",
      "       1932672900,  170628749, 1248007132, 2905198590, 4248539190,\n",
      "       1685128005, 2875624084, 2535374743,  438992083, 2836054087,\n",
      "       2277855155, 1326966295, 1166744012, 3573405190,  254078052,\n",
      "        581265535, 3103093610, 2959223854, 3056413466, 2380887017,\n",
      "       2291293477, 2819738550, 4114662315, 1250419127, 1563227138,\n",
      "       1201964957, 3546386888, 3888018877,  284454258, 2784958536,\n",
      "       2207806479, 3690741963, 1234830708, 4193497192, 4136418936,\n",
      "        950983555, 3888271820, 3984536851, 3827811954,  118209135,\n",
      "       3308088518, 3851331820,    1142220, 1886534505, 2182782976,\n",
      "       2984223287, 1243355003, 1665063506,  636433656, 2900883970,\n",
      "       2204020674, 3780306391, 1749224308,  721743895, 3460509447,\n",
      "       1209292232, 1301920775, 1546007892, 3705656704,  529233471,\n",
      "       3798220620, 2449308472, 3713803064, 1757987421, 2681296959,\n",
      "        265611352, 1699480639,  906575079, 4135744975, 1943204351,\n",
      "       2923194593, 3888426566, 1501706401, 3403514531, 2469381782,\n",
      "       4113924989, 1877106740, 1182093305, 1312538987, 1436853736,\n",
      "        217401812, 2382845390, 1383461765, 2776017535,  865190439,\n",
      "       4176377162, 3283637082, 2764444697, 3626692814, 3911666744,\n",
      "       3735656167, 1328971956,  713585087,  324734679, 3738765443,\n",
      "        620548421, 3179430819, 2441777770, 4011838506, 3804062450,\n",
      "       4249237389, 2626496665, 2267766151,  909119903, 1872689780,\n",
      "        205500713,  800603238,  676737880, 2166541169, 3861260994,\n",
      "       1128262331,  466787138, 2584452918, 3073450335,  972405546,\n",
      "       2721965118, 2498859907, 1982673632, 2126393887, 3404368058,\n",
      "        232829502,  921076376,  744493451,   26155897, 2636491098,\n",
      "       3491693424, 2290944656, 1451168001, 2426950682,  987948841,\n",
      "       4138091625, 2908820844, 2825308699, 1570922876, 2570830376,\n",
      "       3050674656,  198691465, 1506571039, 3514114568, 2685358720,\n",
      "        706097535, 1573606884, 3154659239,  960942867, 3638367408,\n",
      "       2971793775,  750199376, 2132462121,  734916210, 4159699206,\n",
      "       2279796728, 1895637892, 1455719713, 1383778493, 3174607284,\n",
      "       3995126860,  629156619, 3346450115, 2413357890, 1873176402,\n",
      "       2666507922, 1628540549, 4087584431, 3934896989, 3900011295,\n",
      "       4118088745, 2649950965, 3375870151,  676953970, 2590173768,\n",
      "       1143865168,  199968969, 3498635368, 3440230550, 2731542902,\n",
      "       1616275386,   40439861, 3295934839,  520452868,  870214177,\n",
      "       1871666406, 1450536014, 1868540236, 1198004107, 2554142578,\n",
      "       1140137950,  361045438, 4240997144, 2692582835, 3715359274,\n",
      "       1442044036, 1889365377,  593226588,   17905039, 3802670942,\n",
      "       2291428237,  664302160, 3033639424, 2302470372,  862051112,\n",
      "       3614185840, 1071671715,  661608526, 1360565386, 2961985219,\n",
      "       1273173804, 2849601258, 3701226399, 1949801757, 1724853238,\n",
      "       1498737203, 2919293079, 2456444642, 2416810398, 2468777868,\n",
      "         69882202, 3002809241, 3842358921,   46557055, 4047219165,\n",
      "       1904330946, 3506763974,  437013797, 2833508535, 1553122145,\n",
      "       2120835724, 3358649587, 3554802404, 1562720183, 4088688103,\n",
      "       2171819985,  818399713, 1815358651, 2086218489, 2380443840,\n",
      "        559706664, 1378526888, 3781893223, 3447061169, 2757957170,\n",
      "       1760253679, 2336996612, 3862487136, 1613415701, 4162377139,\n",
      "       2143557560, 3568260582, 2009159720,  973207482, 2990825062,\n",
      "       1099635682, 3820628659, 4032190882,  732594213, 1687908530,\n",
      "       2144302959,  233849774, 2191849414, 1260516742, 2668887170,\n",
      "       1793134330, 4114733116, 3171745713,  419074767, 1320768468,\n",
      "       2936825417, 2402102589, 1877448989, 1213464208, 3477253456,\n",
      "       3291423849, 3794709374,  623607114, 2041498564, 3706963566,\n",
      "       1927449900, 2687050738, 3984843775, 2878798065, 1278693888,\n",
      "       4201082591, 2199892583, 1979451090,  799508583, 1983550457,\n",
      "       2857147608, 1928521170, 2863038637, 4136584148, 1417041018,\n",
      "       3794706096, 1253265950, 2067581477, 2234125844, 1512031418,\n",
      "       3194386532, 1437694302, 3071469735, 1810221887, 3418935807,\n",
      "       3600594931, 1008515550, 2576609164, 4114111515,  971232950,\n",
      "       1136189770, 1566397760, 1892342748,  846852555, 3818066311,\n",
      "       3151043532,  941811638, 3572361711, 1273275541, 3275511499,\n",
      "       2083306617, 3511341333, 1019761578, 3794661123, 2812634223,\n",
      "        409690034,  997362966, 3413774480, 3205556182, 2826186127,\n",
      "       3609595735,  891617009, 3678863430, 3705977217, 3330172029,\n",
      "       3930011607, 1740622828, 1298160148,  105980734, 1716290753,\n",
      "        917932258, 3119607871, 3662331243, 3694958268], dtype=uint32), 304, 0, 0.0)\n"
     ]
    }
   ],
   "source": [
    "p, t = hpTiles.positions(23, 20, rng)"
   ]
  },
  {
   "cell_type": "code",
   "execution_count": 17,
   "metadata": {
    "collapsed": false
   },
   "outputs": [
    {
     "data": {
      "text/plain": [
       "array([ 0.80556144,  0.80335385,  0.80176178,  0.80259193,  0.80474502,\n",
       "        0.80468303,  0.80351648,  0.80483751,  0.8012384 ,  0.80291049,\n",
       "        0.80464681,  0.80217262,  0.80574301,  0.80291342,  0.80305263,\n",
       "        0.80643479,  0.80504134,  0.80201016,  0.80307029,  0.80482529])"
      ]
     },
     "execution_count": 17,
     "metadata": {},
     "output_type": "execute_result"
    }
   ],
   "source": [
    "p"
   ]
  },
  {
   "cell_type": "code",
   "execution_count": 18,
   "metadata": {
    "collapsed": false
   },
   "outputs": [
    {
     "data": {
      "text/plain": [
       "array([ 1.54689008,  1.54549507,  1.54708207,  1.54709994,  1.54654693,\n",
       "        1.54778268,  1.5484891 ,  1.54630112,  1.54711004,  1.54748579,\n",
       "        1.54632425,  1.54851335,  1.54735947,  1.54695191,  1.54871257,\n",
       "        1.5472008 ,  1.54719835,  1.54673222,  1.54856364,  1.54577162])"
      ]
     },
     "execution_count": 18,
     "metadata": {},
     "output_type": "execute_result"
    }
   ],
   "source": [
    "t"
   ]
  },
  {
   "cell_type": "code",
   "execution_count": 12,
   "metadata": {
    "collapsed": false
   },
   "outputs": [
    {
     "ename": "NameError",
     "evalue": "name 'hp' is not defined",
     "output_type": "error",
     "traceback": [
      "\u001b[0;31m---------------------------------------------------------------------------\u001b[0m",
      "\u001b[0;31mNameError\u001b[0m                                 Traceback (most recent call last)",
      "\u001b[0;32m<ipython-input-12-1d4e4c44d8ee>\u001b[0m in \u001b[0;36m<module>\u001b[0;34m()\u001b[0m\n\u001b[0;32m----> 1\u001b[0;31m \u001b[0mhp\u001b[0m\u001b[0;34m.\u001b[0m\u001b[0mpix2ang\u001b[0m\u001b[0;34m(\u001b[0m\u001b[0;36m256\u001b[0m\u001b[0;34m,\u001b[0m \u001b[0;36m23\u001b[0m\u001b[0;34m,\u001b[0m \u001b[0mnest\u001b[0m\u001b[0;34m=\u001b[0m\u001b[0mTrue\u001b[0m\u001b[0;34m)\u001b[0m\u001b[0;34m\u001b[0m\u001b[0m\n\u001b[0m",
      "\u001b[0;31mNameError\u001b[0m: name 'hp' is not defined"
     ]
    }
   ],
   "source": [
    "hp.pix2ang(256, 23, nest=True)"
   ]
  },
  {
   "cell_type": "code",
   "execution_count": 13,
   "metadata": {
    "collapsed": false
   },
   "outputs": [
    {
     "ename": "NameError",
     "evalue": "name 'phi_c' is not defined",
     "output_type": "error",
     "traceback": [
      "\u001b[0;31m---------------------------------------------------------------------------\u001b[0m",
      "\u001b[0;31mNameError\u001b[0m                                 Traceback (most recent call last)",
      "\u001b[0;32m<ipython-input-13-33313583f32b>\u001b[0m in \u001b[0;36m<module>\u001b[0;34m()\u001b[0m\n\u001b[0;32m----> 1\u001b[0;31m \u001b[0mhpTiles\u001b[0m\u001b[0;34m.\u001b[0m\u001b[0m_angularSamples\u001b[0m\u001b[0;34m(\u001b[0m\u001b[0mphi_c\u001b[0m\u001b[0;34m,\u001b[0m \u001b[0mtheta_c\u001b[0m\u001b[0;34m,\u001b[0m \u001b[0;36m0.13\u001b[0m\u001b[0;34m,\u001b[0m \u001b[0;36m20\u001b[0m\u001b[0;34m,\u001b[0m \u001b[0;36m23\u001b[0m\u001b[0;34m,\u001b[0m \u001b[0mrng\u001b[0m\u001b[0;34m)\u001b[0m\u001b[0;34m\u001b[0m\u001b[0m\n\u001b[0m",
      "\u001b[0;31mNameError\u001b[0m: name 'phi_c' is not defined"
     ]
    }
   ],
   "source": [
    "hpTiles._angularSamples(phi_c, theta_c, 0.13, 20, 23, rng)"
   ]
  },
  {
   "cell_type": "code",
   "execution_count": null,
   "metadata": {
    "collapsed": false
   },
   "outputs": [],
   "source": [
    "phi,theta = hpTiles.samplePatchOnSphere(phi_c, theta_c, 0.13, 20, rng, degrees=False)"
   ]
  },
  {
   "cell_type": "code",
   "execution_count": null,
   "metadata": {
    "collapsed": false
   },
   "outputs": [],
   "source": [
    "phi"
   ]
  },
  {
   "cell_type": "code",
   "execution_count": 14,
   "metadata": {
    "collapsed": false
   },
   "outputs": [
    {
     "data": {
      "text/plain": [
       "46.054687499999993"
      ]
     },
     "execution_count": 14,
     "metadata": {},
     "output_type": "execute_result"
    }
   ],
   "source": [
    "phi_c"
   ]
  },
  {
   "cell_type": "code",
   "execution_count": 18,
   "metadata": {
    "collapsed": false
   },
   "outputs": [
    {
     "data": {
      "text/plain": [
       "array([23, 23, 23, 23, 21, 23, 23, 23, 21, 23, 23, 22, 23, 22, 29, 21, 23,\n",
       "       23, 29, 23])"
      ]
     },
     "execution_count": 18,
     "metadata": {},
     "output_type": "execute_result"
    }
   ],
   "source": [
    "hp.ang2pix(256, theta, phi, nest=True)"
   ]
  },
  {
   "cell_type": "code",
   "execution_count": 14,
   "metadata": {
    "collapsed": true
   },
   "outputs": [],
   "source": [
    "import healpy as hp"
   ]
  },
  {
   "cell_type": "code",
   "execution_count": 10,
   "metadata": {
    "collapsed": true
   },
   "outputs": [],
   "source": [
    "theta_c, phi_c = np.degrees(hp.pix2ang(nside=256, ipix=23, nest=True))"
   ]
  },
  {
   "cell_type": "code",
   "execution_count": 9,
   "metadata": {
    "collapsed": false
   },
   "outputs": [
    {
     "data": {
      "text/plain": [
       "88.657007193856458"
      ]
     },
     "execution_count": 9,
     "metadata": {},
     "output_type": "execute_result"
    }
   ],
   "source": [
    "theta_c"
   ]
  },
  {
   "cell_type": "code",
   "execution_count": 35,
   "metadata": {
    "collapsed": false
   },
   "outputs": [
    {
     "data": {
      "text/plain": [
       "0.1292177098644825"
      ]
     },
     "execution_count": 35,
     "metadata": {},
     "output_type": "execute_result"
    }
   ],
   "source": [
    "np.sqrt(hp.nside2pixarea(256, degrees=True) / np.pi)"
   ]
  },
  {
   "cell_type": "code",
   "execution_count": 7,
   "metadata": {
    "collapsed": false
   },
   "outputs": [
    {
     "data": {
      "text/plain": [
       "array([187059, 187073, 194374, 194421, 195238, 195308, 196191, 196236,\n",
       "       196403, 200849, 201724, 203414, 203422, 203440, 203458, 203477,\n",
       "       204360, 204362, 204375, 204377, 204429, 205282, 205284, 205296,\n",
       "       205298, 205394, 206016, 206017, 206062, 206063, 206977, 210862,\n",
       "       210918, 211231, 211279, 211537, 212812, 212813, 214180, 214181,\n",
       "       214218, 214219, 214247, 214248, 215735, 215778, 215913, 218394,\n",
       "       220581, 220620, 221239, 221281, 225425, 230524, 230575, 232649,\n",
       "       232689, 233394, 233397, 233432, 233435, 234057, 234073, 234074,\n",
       "       234831, 234881, 235734, 235761, 235777, 235779, 235805, 235806,\n",
       "       236380, 236434, 239401, 239434, 246728, 246746, 247531, 247571,\n",
       "       251003, 251634, 251666, 251675, 251678, 253031, 253033, 253068,\n",
       "       253070, 253741, 253742, 253775, 253776, 254454, 254492, 255888,\n",
       "       266076, 266477, 266489, 266490, 266497, 269956])"
      ]
     },
     "execution_count": 7,
     "metadata": {},
     "output_type": "execute_result"
    }
   ],
   "source": [
    "hpTiles.pointingSequenceForTile(tileID=23, allPointings=None)"
   ]
  },
  {
   "cell_type": "code",
   "execution_count": 12,
   "metadata": {
    "collapsed": true
   },
   "outputs": [],
   "source": [
    "import healpy as hp"
   ]
  },
  {
   "cell_type": "code",
   "execution_count": 31,
   "metadata": {
    "collapsed": true
   },
   "outputs": [],
   "source": [
    "from lsst.sims.utils import samplePatchOnSphere"
   ]
  },
  {
   "cell_type": "code",
   "execution_count": null,
   "metadata": {
    "collapsed": true
   },
   "outputs": [],
   "source": [
    "samplePatchOnSphere()"
   ]
  },
  {
   "cell_type": "code",
   "execution_count": 48,
   "metadata": {
    "collapsed": true
   },
   "outputs": [],
   "source": [
    "def samplePatchOnSphere(phi, theta, delta, size):\n",
    "    \"\"\"\n",
    "    Uniformly distributes samples on a patch on a sphere between phi \\pm delta,\n",
    "    and theta \\pm delta on a sphere. Uniform distribution implies that the\n",
    "    number of points in a patch of sphere is proportional to the area of the\n",
    "    patch. Here, the coordinate system is the usual\n",
    "    spherical coordinate system but with the azimuthal angle theta going from\n",
    "    90 degrees at the North Pole, to -90 degrees at the South Pole, through\n",
    "    0. at the equator. \n",
    "    \n",
    "    This function is not equipped to handle wrap-around the ranges of theta\n",
    "    phi and therefore does not work at the poles.\n",
    " \n",
    "    Parameters\n",
    "    ----------\n",
    "    phi: float, mandatory, degrees\n",
    "\tcenter of the spherical patch in ra with range \n",
    "    theta: float, mandatory, degrees\n",
    "    delta: float, mandatory, degrees\n",
    "    size: int, mandatory\n",
    "        number of samples\n",
    "    seed : int, optional, defaults to 1\n",
    "        random Seed used for generating values\n",
    "    Returns\n",
    "    -------\n",
    "    tuple of (phivals, thetavals) where phivals and thetavals are arrays of \n",
    "        size size in degrees.\n",
    "    \"\"\"\n",
    "    u = rng.uniform(size=size)\n",
    "    v = rng.uniform(size=size)\n",
    "    phi = np.radians(phi)\n",
    "    theta = np.radians(theta)\n",
    "    delta = np.radians(delta)\n",
    "\n",
    "    phivals = 2. * delta * u + (phi - delta)\n",
    "    phivals = np.where ( phivals >= 0., phivals, phivals + 2. * np.pi)\n",
    "    \n",
    "    # use conventions in spherical coordinates\n",
    "    theta = np.pi/2.0 - theta\n",
    " \n",
    "    thetamax = theta + delta\n",
    "    thetamin = theta - delta\n",
    "\n",
    "    if thetamax > np.pi or thetamin < 0. :\n",
    "        raise ValueError('Function not implemented to cover wrap around poles')\n",
    "\n",
    "    # Cumulative Density Function is cos(thetamin) - cos(theta) / cos(thetamin) - cos(thetamax)\n",
    "    a = np.cos(thetamin) - np.cos(thetamax)\n",
    "    thetavals = np.arccos(-v * a + np.cos(thetamin))\n",
    "\n",
    "    # Get back to -pi/2 to pi/2 range of decs\n",
    "    thetavals = np.pi/2.0 - thetavals \n",
    "    return np.degrees(phivals) , np.degrees(thetavals)"
   ]
  },
  {
   "cell_type": "code",
   "execution_count": 30,
   "metadata": {
    "collapsed": false
   },
   "outputs": [],
   "source": [
    "class CoordSamples(snsims.PositionSamples, snsims.HealpixTiles):\n",
    "    def __init__(self, nside, hpOpSim, rng):\n",
    "        self.nside = nside\n",
    "        super(self.__class__, self).__init__(nside=nside, healpixelizedOpSim=hpOpSim)\n",
    "        self._rng = rng\n",
    "    @property\n",
    "    def randomState(self):\n",
    "        if self._rng is None:\n",
    "            raise ValueError('self._rng should not be None')\n",
    "        return self._rng\n",
    "    def positions(self, tileID, numSamples):\n",
    "        res_phi = \n",
    "        ang = hp.pix2ang(nside=self.nside, ipix=tileID, nest=True)\n",
    "        radius = np.degrees(np.sqrt(hp.nside2pixarea / np.pi))\n",
    "        phi_c, theta_c = np.degrees(ang[::-1])\n",
    "        phi, theta = super(self.__class__).samplePatchOnSphere(phi_c, theta_c, delta=radius, size=numSamples)\n",
    "        \n",
    "        return ang"
   ]
  },
  {
   "cell_type": "code",
   "execution_count": 51,
   "metadata": {
    "collapsed": false
   },
   "outputs": [
    {
     "data": {
      "text/plain": [
       "(0.80380593285207591, 1.5473566804970937)"
      ]
     },
     "execution_count": 51,
     "metadata": {},
     "output_type": "execute_result"
    }
   ],
   "source": [
    "ang[::-1]"
   ]
  },
  {
   "cell_type": "code",
   "execution_count": 27,
   "metadata": {
    "collapsed": true
   },
   "outputs": [],
   "source": [
    "rng = np.random.RandomState(23)"
   ]
  },
  {
   "cell_type": "code",
   "execution_count": 28,
   "metadata": {
    "collapsed": false
   },
   "outputs": [],
   "source": [
    "cs = CoordSamples(nside=256, hpOpSim=hpOpSim, rng=rng)"
   ]
  },
  {
   "cell_type": "code",
   "execution_count": 32,
   "metadata": {
    "collapsed": false
   },
   "outputs": [],
   "source": [
    "ang = cs.positions(23, 20)"
   ]
  },
  {
   "cell_type": "code",
   "execution_count": 34,
   "metadata": {
    "collapsed": true
   },
   "outputs": [],
   "source": [
    "area = hp.nside2pixarea(256)\n",
    "side = np.sqrt(area / np.pi) "
   ]
  },
  {
   "cell_type": "code",
   "execution_count": 46,
   "metadata": {
    "collapsed": false
   },
   "outputs": [],
   "source": [
    "res = samplePatchOnSphere(phi=ang[1], theta=ang[0], delta=side, size=100)"
   ]
  },
  {
   "cell_type": "code",
   "execution_count": 47,
   "metadata": {
    "collapsed": false
   },
   "outputs": [
    {
     "data": {
      "text/plain": [
       "array([23, 23, 29, 23, 29, 23, 22, 23, 23, 23, 23, 23, 29, 23, 22, 23, 23,\n",
       "       23, 23, 22, 21, 21, 22, 23, 66, 23, 23, 29, 22, 23, 23, 23, 23, 23,\n",
       "       23, 23, 23, 23, 29, 23, 23, 23, 22, 21, 22, 23, 21, 23, 23, 22, 22,\n",
       "       66, 23, 23, 23, 29, 23, 23, 23, 23, 22, 23, 23, 23, 22, 23, 23, 23,\n",
       "       23, 23, 23, 29, 23, 23, 23, 23, 23, 23, 21, 23, 23, 23, 23, 23, 23,\n",
       "       66, 23, 23, 23, 23, 23, 21, 23, 23, 23, 29, 21, 23, 23, 23])"
      ]
     },
     "execution_count": 47,
     "metadata": {},
     "output_type": "execute_result"
    }
   ],
   "source": [
    "hp.ang2pix(256, theta=res[1], phi=res[0], nest=True)"
   ]
  },
  {
   "cell_type": "code",
   "execution_count": 8,
   "metadata": {
    "collapsed": false
   },
   "outputs": [
    {
     "ename": "TypeError",
     "evalue": "__new__() got an unexpected keyword argument 'tileID'",
     "output_type": "error",
     "traceback": [
      "\u001b[0;31m---------------------------------------------------------------------------\u001b[0m",
      "\u001b[0;31mTypeError\u001b[0m                                 Traceback (most recent call last)",
      "\u001b[0;32m<ipython-input-8-2b02aba4cd2c>\u001b[0m in \u001b[0;36m<module>\u001b[0;34m()\u001b[0m\n\u001b[0;32m----> 1\u001b[0;31m \u001b[0msnsims\u001b[0m\u001b[0;34m.\u001b[0m\u001b[0mSimulatedTile\u001b[0m\u001b[0;34m(\u001b[0m\u001b[0mtileID\u001b[0m\u001b[0;34m=\u001b[0m\u001b[0;36m23\u001b[0m\u001b[0;34m)\u001b[0m\u001b[0;34m\u001b[0m\u001b[0m\n\u001b[0m",
      "\u001b[0;31mTypeError\u001b[0m: __new__() got an unexpected keyword argument 'tileID'"
     ]
    }
   ],
   "source": [
    "snsims.SimulatedTile(tileID=23)"
   ]
  },
  {
   "cell_type": "code",
   "execution_count": 9,
   "metadata": {
    "collapsed": true
   },
   "outputs": [],
   "source": [
    "class SimTile(snsims.SimulatedTile):\n",
    "    pass"
   ]
  },
  {
   "cell_type": "code",
   "execution_count": 11,
   "metadata": {
    "collapsed": false
   },
   "outputs": [
    {
     "ename": "TypeError",
     "evalue": "__new__() got an unexpected keyword argument 'tileID'",
     "output_type": "error",
     "traceback": [
      "\u001b[0;31m---------------------------------------------------------------------------\u001b[0m",
      "\u001b[0;31mTypeError\u001b[0m                                 Traceback (most recent call last)",
      "\u001b[0;32m<ipython-input-11-ddd1b068ea54>\u001b[0m in \u001b[0;36m<module>\u001b[0;34m()\u001b[0m\n\u001b[0;32m----> 1\u001b[0;31m \u001b[0msimulatedTile\u001b[0m \u001b[0;34m=\u001b[0m \u001b[0mSimTile\u001b[0m\u001b[0;34m(\u001b[0m\u001b[0mtileID\u001b[0m\u001b[0;34m=\u001b[0m\u001b[0;36m23\u001b[0m\u001b[0;34m)\u001b[0m\u001b[0;34m\u001b[0m\u001b[0m\n\u001b[0m",
      "\u001b[0;31mTypeError\u001b[0m: __new__() got an unexpected keyword argument 'tileID'"
     ]
    }
   ],
   "source": [
    "simulatedTile = SimTile(tileID=23)"
   ]
  },
  {
   "cell_type": "code",
   "execution_count": 12,
   "metadata": {
    "collapsed": true
   },
   "outputs": [],
   "source": [
    "from future.utils import with_metaclass"
   ]
  },
  {
   "cell_type": "code",
   "execution_count": 15,
   "metadata": {
    "collapsed": true
   },
   "outputs": [],
   "source": [
    "import abc"
   ]
  },
  {
   "cell_type": "code",
   "execution_count": null,
   "metadata": {
    "collapsed": true
   },
   "outputs": [],
   "source": []
  },
  {
   "cell_type": "code",
   "execution_count": 27,
   "metadata": {
    "collapsed": false
   },
   "outputs": [],
   "source": [
    "class TestDist(with_metaclass(abc.ABCMeta, snsims.Universe)):\n",
    "    @property\n",
    "    def randomState(self):\n",
    "        if self._rng is None:\n",
    "            self._rng = np.randomState(self.tileID)\n",
    "        return self._rng"
   ]
  },
  {
   "cell_type": "code",
   "execution_count": 23,
   "metadata": {
    "collapsed": false
   },
   "outputs": [],
   "source": [
    "class ConcreteImplementation(TestDist):\n",
    "    def __init__(self, tileID, NSIDE=1):\n",
    "        hpOpSim = oss.HealPixelizedOpSim.fromOpSimDB(NSIDE=NSIDE, opSimDBpath=opsimdb)\n",
    "        self.hpTile = snsims.HealpixTiles(nside=NSIDE, healpixelizedOpSim=hpOpSim)\n",
    "        self.tileID = tileID\n",
    "        self._rng = None\n",
    "    @property\n",
    "    def randomState(self):\n",
    "        if self._rng is None:\n",
    "            self._rng = np.randomState(self.tileID)\n",
    "        return self._rng\n",
    "\n",
    "    @property\n",
    "    def snParams(self):\n",
    "        "
   ]
  },
  {
   "cell_type": "code",
   "execution_count": 24,
   "metadata": {
    "collapsed": false
   },
   "outputs": [
    {
     "ename": "TypeError",
     "evalue": "Can't instantiate abstract class ConcreteImplementation with abstract methods SN, randomState, snParams",
     "output_type": "error",
     "traceback": [
      "\u001b[0;31m---------------------------------------------------------------------------\u001b[0m",
      "\u001b[0;31mTypeError\u001b[0m                                 Traceback (most recent call last)",
      "\u001b[0;32m<ipython-input-24-ca202b7be05e>\u001b[0m in \u001b[0;36m<module>\u001b[0;34m()\u001b[0m\n\u001b[0;32m----> 1\u001b[0;31m \u001b[0mimp\u001b[0m \u001b[0;34m=\u001b[0m \u001b[0mConcreteImplementation\u001b[0m\u001b[0;34m(\u001b[0m\u001b[0;34m)\u001b[0m\u001b[0;34m\u001b[0m\u001b[0m\n\u001b[0m",
      "\u001b[0;31mTypeError\u001b[0m: Can't instantiate abstract class ConcreteImplementation with abstract methods SN, randomState, snParams"
     ]
    }
   ],
   "source": [
    "imp = ConcreteImplementation()"
   ]
  },
  {
   "cell_type": "code",
   "execution_count": 28,
   "metadata": {
    "collapsed": true
   },
   "outputs": [],
   "source": [
    "import numpy as np"
   ]
  },
  {
   "cell_type": "code",
   "execution_count": 35,
   "metadata": {
    "collapsed": true
   },
   "outputs": [],
   "source": [
    "rng = np.random.RandomState(1)"
   ]
  },
  {
   "cell_type": "code",
   "execution_count": 36,
   "metadata": {
    "collapsed": false
   },
   "outputs": [
    {
     "data": {
      "text/plain": [
       "array([3391,   27,   16])"
      ]
     },
     "execution_count": 36,
     "metadata": {},
     "output_type": "execute_result"
    }
   ],
   "source": [
    "rng.poisson(lam=np.array([3405.3, 34., 21.2]))"
   ]
  },
  {
   "cell_type": "code",
   "execution_count": 37,
   "metadata": {
    "collapsed": true
   },
   "outputs": [],
   "source": [
    "state =rng.get_state()"
   ]
  },
  {
   "cell_type": "code",
   "execution_count": 38,
   "metadata": {
    "collapsed": false
   },
   "outputs": [
    {
     "data": {
      "text/plain": [
       "('MT19937', array([2629073562, 2983301384,  681580311, 4033622241,  792772838,\n",
       "        3306961981,   92883131, 1785085746, 3364128315, 2402025379,\n",
       "        3224868746, 1145213362, 3784365245, 1948434636, 2667646161,\n",
       "        2598854474,  921967201, 1345782310, 4019597455, 2906395199,\n",
       "        1349669984, 2676817993, 4201769589, 2002781766, 3540177092,\n",
       "        4224925813, 3661313599, 1709930435, 1812273278, 2973452884,\n",
       "        1592291796, 3452239013, 3588672187, 3228651068, 3191454495,\n",
       "        3286135343, 2640545275, 3096953148, 3746505897, 2292163827,\n",
       "        2164382601, 1581410039, 2413832827, 2536571847,  179684232,\n",
       "        1638923698, 3155158821, 1454330362, 4050607484,  607322300,\n",
       "        2216566078,  597866774, 1036426282,  732815996, 3131865469,\n",
       "        2440339870, 2814550949, 1479383443, 2449469876, 3810238677,\n",
       "        2923086221,  437801529, 2891199990, 1886893516, 3898673786,\n",
       "         376204646, 1392372379, 4123661669, 1140754642, 3539167101,\n",
       "        2386309702, 3740957436, 4033654965, 1720449988, 3434980330,\n",
       "        4213508374, 3576835843, 2818865106, 1653162115, 2935588114,\n",
       "        3870616539,  102614847, 1476834675, 1220770796, 1233652508,\n",
       "        2385138085, 1300608482, 2753953039,  262993567, 4009374062,\n",
       "        2143978386, 1613109469, 3072671496, 1223816410, 4088822114,\n",
       "        3382188205, 2250056281, 1926821318, 3806317775, 2882166470,\n",
       "          94227745, 2877123406, 1030225246, 1555072155,   95009460,\n",
       "        1855512191, 2840453856, 2478087736,  836340051, 1566383306,\n",
       "        2625414289, 3519123538,  840509954, 2373484829,  676528503,\n",
       "        2783662465, 3557034492, 2566048980, 2347785709, 3566819907,\n",
       "        1311855742,  198269976, 2693520819, 2127070362,  961491174,\n",
       "        3932714317,  837664826, 4277891831, 3535515583, 2831416447,\n",
       "        3505045078, 3763313683,  367436315, 3614057572, 3780746374,\n",
       "        2693039652, 2297021184, 2224934154,  698822522, 2718629137,\n",
       "        1175446314, 2603507610, 2067589016, 2280810156, 2037033584,\n",
       "        3956938481, 1112874779, 3264939860, 2054107185, 2354026721,\n",
       "        1958640221, 2844284824, 3775753525, 2462549847, 3562644229,\n",
       "        3683686884, 3714884555, 2266356233, 2808583945,  980888698,\n",
       "        1137581788, 2771236582, 1975939317, 1605707990,  614167064,\n",
       "         767063856, 4227905160, 3590303986, 2932373212, 2230415839,\n",
       "         127157074, 2328724316, 3356372094, 3215726425,  282321962,\n",
       "        4226412442,  106823192, 3925701436,  610765913,  281952627,\n",
       "        1832011890, 2670621135, 1012800992, 1489632964, 1371755819,\n",
       "        2529629289,  607643288, 3941535311, 3202770816,  284461833,\n",
       "        3696778854,  325625733, 2671656400, 1391137252, 1240723705,\n",
       "        3132941411,  314202987, 1301784708, 2575857120,  313287791,\n",
       "        3569720512,  981744121, 2986286440, 1051168756, 3881027887,\n",
       "        1088809168, 3421075971, 2655923113, 2577977181, 3968201444,\n",
       "        1406585576, 4001025594, 1854233928, 3825832114,  954907921,\n",
       "        3109212504, 1706316388, 1550715292, 2934259476, 1892992132,\n",
       "        4050317728, 4110743408,  359920673, 3542060425,  597068400,\n",
       "         843058885, 3799566677, 2064802063,  860032883, 2732673041,\n",
       "        3457529378, 3660165513, 1125914118, 4212233956, 3757086488,\n",
       "        2632116865,  462233764,  161423763,  141910303, 2265109737,\n",
       "        1983126147, 2231395445, 2147383559,  611750005, 2194081082,\n",
       "        1699618892, 3841025952, 1294478167,  936120505, 4102008957,\n",
       "        4268194620, 1994019922, 1187332833, 3953675561, 1917283619,\n",
       "         896867387, 1634068959, 3950876764,  485558549,   45383166,\n",
       "        2795959904, 1717914918, 3449856475, 3796449494, 3318166191,\n",
       "        1007512487,  480498390, 1730605673, 3972660041, 2287008439,\n",
       "         539639323, 1569683418, 3795864463,  453065119, 2449404120,\n",
       "         265049099, 3514892628, 2665563904, 2534523080, 1969344934,\n",
       "        4294466702, 1478959417, 1858551310, 3029422620, 4121720519,\n",
       "        2933843154, 3209557296, 3111170404, 4264711934, 2448282623,\n",
       "        1388503581, 1999436060,  818418468, 3283991819, 2356924521,\n",
       "        2684567658, 1424193429, 1187340812, 3847120877, 1987859863,\n",
       "        1879502046, 3422594099, 1419478013, 4148487199, 2538837125,\n",
       "        3694851522,  636350498, 1097832595, 3779331880,  351970715,\n",
       "        2534774459, 3389311029, 3762283879, 3742425828, 3882821767,\n",
       "           2683353, 1981273229, 4068324016,  539226467, 2411256222,\n",
       "        1780609115, 2059099269, 2889497980, 1123848930,  540086248,\n",
       "        3467353606, 3362203896, 4058078927,   93044840,  426751932,\n",
       "         824266620, 3444590461, 2122918776, 3339845861, 4233923286,\n",
       "        3733051177, 2957657929, 3110908772, 2551930098, 1294126893,\n",
       "        2213336821, 2124571119,   49780221, 2901327722, 2493306969,\n",
       "        2545470627,  102527300, 3876142393, 4097726412, 3510695954,\n",
       "         660912408, 2033930425, 1601509561,  969180562,  635252598,\n",
       "         177954239, 3054207519, 4122051269, 2787463443, 1664731394,\n",
       "        2907371963, 1484884283, 1560546623, 2902374922, 2395942225,\n",
       "         451352804, 3346805556, 3459298550, 3482428591,   10753957,\n",
       "        4101820340, 3306178891, 1122941824,  355877597, 1683964498,\n",
       "         238724805, 3926649337, 3197046734, 4277634633, 2288745211,\n",
       "        4202067531,  526022968, 4017453944, 1499184106, 2677441952,\n",
       "        2227353703, 1995296581, 1690255681, 2920887680,  605849491,\n",
       "        3072795503,  746910746, 2709796449, 1225135658,  657841564,\n",
       "        4070363626,  144842260, 3718575695, 3159187032,   88291794,\n",
       "        3129049475,  410962657, 1728726693, 2397606939, 4126386549,\n",
       "         751549633, 4226219908, 1549973222, 3060733996, 3741110422,\n",
       "        2530947598, 2627897488, 2317706652, 1170828427, 2671701715,\n",
       "        1153351468, 3762293788, 4093330405, 1641962571,  699324101,\n",
       "        3173743570, 1798831929, 3467616712, 4198420524, 2448981354,\n",
       "         499920867,  968642107, 2140815539, 4193124145, 1639223168,\n",
       "         284638153,  396985542, 3543438633,  237854258, 3938010494,\n",
       "          24441053, 2947436871, 1273496002,  719279415, 3574242559,\n",
       "        1040109604, 3849196601, 3250223302, 3411729501, 3031943234,\n",
       "        2932285520, 2932420675, 2011314805, 2480850074, 3207806491,\n",
       "         462404995, 3279042455, 4270524229, 1064389665, 1894847490,\n",
       "         721365878,  357178131, 2827490451, 2604438657,  242514037,\n",
       "         678802395, 1322770750, 2747624534, 4246466163, 4188936761,\n",
       "        1207204018,  980275996,  841637218, 1468131552, 4102349079,\n",
       "         586888764, 3105466755, 1628818384, 2991889790, 2801191520,\n",
       "        2114916962, 1124291831, 3242113092, 1082871720, 3625937786,\n",
       "        2796251125, 1651820702, 3427511545, 2035120316, 1024058911,\n",
       "        4209506140, 2527167744,  213886228, 2514956543, 2450260579,\n",
       "         327684603, 3444379103, 3884997363, 2844468873, 2261078634,\n",
       "        3926825101,  439487268, 3789435080, 1212963762, 4259079565,\n",
       "        2772611204, 2534236055, 2430244594,  916922266,  903950702,\n",
       "        3381351589, 2268543712, 3616954837, 1273083041, 1682465785,\n",
       "        1342921678, 2593265787, 3033724173, 2988544460, 1824668777,\n",
       "        1214999983,  257453352, 4187931679, 3523379959, 1481153225,\n",
       "        4290295859,  220376185, 4136013972,  511679284, 3510589272,\n",
       "        1404047266, 3712771231, 2125374725,   32037606, 3601685135,\n",
       "        3433623522,  841138647, 1610171318, 3920699442, 1084892922,\n",
       "        3146108732, 3672652561, 1148331655, 2473777375, 3039860130,\n",
       "        1170979324,  575756423, 1389255297,  339011744, 2351938991,\n",
       "        4050094885, 2773634239, 3715040333, 3920910597,  562407139,\n",
       "          29887881, 1623822350,  358193390, 1822261341, 1243290919,\n",
       "         755541153,  153529770,  994467513, 1339524978, 3174283928,\n",
       "        2782204324,  182251010, 1833692038, 3477775846, 2820237500,\n",
       "        2165639585, 4089211432, 4010345846, 1238643345, 3710224584,\n",
       "        2251039304, 1196168985, 3165387311, 3920626153, 1796963839,\n",
       "        2112227260, 3358845388,  593715887, 3046897033, 2968478428,\n",
       "        3846781604, 3565923316, 2452128692,   68338106, 1427007580,\n",
       "        2192917968,   75235680, 2134869635, 1857807303, 3745016485,\n",
       "        2601327385,   35512535,  559792668, 2093376088,  939608650,\n",
       "        2259549051, 2605376692, 2058599240, 2980581379, 3160415220,\n",
       "        2739135905,  254886981, 1652380747,  371107437, 1123937393,\n",
       "        4185309254,  864314942, 2739416220, 2185572068, 1163546293,\n",
       "        3491702910,  996401156, 1198755052, 2898003956,  745796080,\n",
       "        4127642404, 4237523457, 1274635091, 3144139009, 1600421663,\n",
       "        4226154574,  538248802,  373236455,  116925273], dtype=uint32), 16, 0, 0.0)"
      ]
     },
     "execution_count": 38,
     "metadata": {},
     "output_type": "execute_result"
    }
   ],
   "source": [
    "state"
   ]
  },
  {
   "cell_type": "code",
   "execution_count": null,
   "metadata": {
    "collapsed": true
   },
   "outputs": [],
   "source": [
    "rng.uniform()"
   ]
  },
  {
   "cell_type": "code",
   "execution_count": 40,
   "metadata": {
    "collapsed": true
   },
   "outputs": [],
   "source": [
    "zbin_edges = np.array([0., 1.0, 2.0, 3.0])"
   ]
  },
  {
   "cell_type": "code",
   "execution_count": 41,
   "metadata": {
    "collapsed": false
   },
   "outputs": [
    {
     "data": {
      "text/plain": [
       "array([ 0.,  1.,  2.,  3.])"
      ]
     },
     "execution_count": 41,
     "metadata": {},
     "output_type": "execute_result"
    }
   ],
   "source": [
    "zbin_edges"
   ]
  },
  {
   "cell_type": "code",
   "execution_count": 75,
   "metadata": {
    "collapsed": true
   },
   "outputs": [],
   "source": [
    "x = zbin_edges[:-1]"
   ]
  },
  {
   "cell_type": "code",
   "execution_count": 76,
   "metadata": {
    "collapsed": true
   },
   "outputs": [],
   "source": [
    "y = zbin_edges[1:]"
   ]
  },
  {
   "cell_type": "code",
   "execution_count": 77,
   "metadata": {
    "collapsed": false
   },
   "outputs": [
    {
     "data": {
      "text/plain": [
       "array([ 1.,  2.,  3.])"
      ]
     },
     "execution_count": 77,
     "metadata": {},
     "output_type": "execute_result"
    }
   ],
   "source": [
    "y"
   ]
  },
  {
   "cell_type": "code",
   "execution_count": 78,
   "metadata": {
    "collapsed": false
   },
   "outputs": [
    {
     "data": {
      "text/plain": [
       "[(0.0, 1.0), (1.0, 2.0), (2.0, 3.0)]"
      ]
     },
     "execution_count": 78,
     "metadata": {},
     "output_type": "execute_result"
    }
   ],
   "source": [
    "zip(x , y)"
   ]
  },
  {
   "cell_type": "code",
   "execution_count": 79,
   "metadata": {
    "collapsed": true
   },
   "outputs": [],
   "source": [
    "zz = (34, 23, 56)"
   ]
  },
  {
   "cell_type": "code",
   "execution_count": 52,
   "metadata": {
    "collapsed": false
   },
   "outputs": [
    {
     "data": {
      "text/plain": [
       "[34, 23, 56]"
      ]
     },
     "execution_count": 52,
     "metadata": {},
     "output_type": "execute_result"
    }
   ],
   "source": [
    "map(len, list(rng.uniform(low=xx, high=yy, size=zzz) for (xx, yy, zzz) in zip(x,y, zz)))"
   ]
  },
  {
   "cell_type": "code",
   "execution_count": 80,
   "metadata": {
    "collapsed": false
   },
   "outputs": [],
   "source": [
    "arr = list(rng.uniform(low=xx, high=yy, size=zzz).tolist() for (xx, yy, zzz) in zip(x,y, zz))"
   ]
  },
  {
   "cell_type": "code",
   "execution_count": 81,
   "metadata": {
    "collapsed": false
   },
   "outputs": [
    {
     "data": {
      "text/plain": [
       "[0.022271511532804156,\n",
       " 0.8211218982189646,\n",
       " 0.18846839966641848,\n",
       " 0.6857568991725472,\n",
       " 0.35520938933964374,\n",
       " 0.9742126278950913,\n",
       " 0.12277212944941995,\n",
       " 0.18756989261723955,\n",
       " 0.8894424754644789,\n",
       " 0.5834063146082279,\n",
       " 0.3092463846587796,\n",
       " 0.0007643854781880233,\n",
       " 0.22759773832225305,\n",
       " 0.1454036341712357,\n",
       " 0.2034338243700906,\n",
       " 0.8963225568040046,\n",
       " 0.8730943782696405,\n",
       " 0.7002894376334498,\n",
       " 0.47049767615220905,\n",
       " 0.8271360023322883,\n",
       " 0.49582639708521237,\n",
       " 0.36348868328490525,\n",
       " 0.27560310276085875,\n",
       " 0.9247408135383717,\n",
       " 0.38698923425629217,\n",
       " 0.49288087343132025,\n",
       " 0.2544381023144221,\n",
       " 0.8849665188380633,\n",
       " 0.38326345680528673,\n",
       " 0.29757471531387525,\n",
       " 0.7175949621947544,\n",
       " 0.19086994317230743,\n",
       " 0.11819262934703845,\n",
       " 0.8369977822135122,\n",
       " 1.7441359213695353,\n",
       " 1.5905205476471171,\n",
       " 1.2428915749648706,\n",
       " 1.623247145187584,\n",
       " 1.638355320741173,\n",
       " 1.3275694441123251,\n",
       " 1.0674893430675423,\n",
       " 1.8805385975643267,\n",
       " 1.4599567310742585,\n",
       " 1.76387271806643,\n",
       " 1.2538886209427398,\n",
       " 1.5913871822675167,\n",
       " 1.4287951603487978,\n",
       " 1.3821006425491396,\n",
       " 1.1267133838469228,\n",
       " 1.2442666632089758,\n",
       " 1.0793415829583188,\n",
       " 1.3028583047175786,\n",
       " 1.7417048002315554,\n",
       " 1.6150157249710488,\n",
       " 1.6724110989339258,\n",
       " 1.0083830795250317,\n",
       " 1.67837697225132,\n",
       " 2.5031806905428873,\n",
       " 2.230908450484179,\n",
       " 2.1748965089819223,\n",
       " 2.1849829655508297,\n",
       " 2.8442600050750984,\n",
       " 2.9825897893050852,\n",
       " 2.9137396248416314,\n",
       " 2.3473694203728126,\n",
       " 2.780224579691364,\n",
       " 2.5464545907014307,\n",
       " 2.816442397555938,\n",
       " 2.4837269511889057,\n",
       " 2.589951298299404,\n",
       " 2.7872634475242615,\n",
       " 2.1002346431031325,\n",
       " 2.537007116840541,\n",
       " 2.3659833466696543,\n",
       " 2.6043068436688723,\n",
       " 2.9588025156370006,\n",
       " 2.3928229449969622,\n",
       " 2.3929729979416163,\n",
       " 2.7906369935895987,\n",
       " 2.6450783990854263,\n",
       " 2.3938840078553767,\n",
       " 2.6889550482302513,\n",
       " 2.404001609054379,\n",
       " 2.136113154248122,\n",
       " 2.4506432686721347,\n",
       " 2.3344193926972725,\n",
       " 2.217968930061168,\n",
       " 2.92577480163644,\n",
       " 2.6896393990795575,\n",
       " 2.598820890623422,\n",
       " 2.746657472123005,\n",
       " 2.5419710617714415,\n",
       " 2.7005330726195025,\n",
       " 2.930559819249845,\n",
       " 2.862616694505222,\n",
       " 2.167441857506521,\n",
       " 2.2631390239238742,\n",
       " 2.0716102794418045,\n",
       " 2.978672805158347,\n",
       " 2.2363840986603756,\n",
       " 2.660598355928599,\n",
       " 2.0896306989274622,\n",
       " 2.2107709420870187,\n",
       " 2.5028243835184045,\n",
       " 2.104953668329928,\n",
       " 2.3888734026947245,\n",
       " 2.537987720139681,\n",
       " 2.3392041848850997,\n",
       " 2.5559002111265756,\n",
       " 2.536768321942464,\n",
       " 2.3906104987369057,\n",
       " 2.696270083101103,\n",
       " 2.678482453997924]"
      ]
     },
     "execution_count": 81,
     "metadata": {},
     "output_type": "execute_result"
    }
   ],
   "source": [
    "list(_x for lst in arr for _x in lst)"
   ]
  },
  {
   "cell_type": "code",
   "execution_count": 66,
   "metadata": {
    "collapsed": true
   },
   "outputs": [],
   "source": [
    "mylist = []\n",
    "for lst in arr:\n",
    "    for x in lst:\n",
    "        mylist.append(x)"
   ]
  },
  {
   "cell_type": "code",
   "execution_count": 67,
   "metadata": {
    "collapsed": false
   },
   "outputs": [
    {
     "data": {
      "text/plain": [
       "113"
      ]
     },
     "execution_count": 67,
     "metadata": {},
     "output_type": "execute_result"
    }
   ],
   "source": [
    "len(mylist)"
   ]
  },
  {
   "cell_type": "code",
   "execution_count": 68,
   "metadata": {
    "collapsed": false
   },
   "outputs": [
    {
     "data": {
      "text/plain": [
       "[0.5898236481098892,\n",
       " 0.03606831456985993,\n",
       " 0.20018211641098693,\n",
       " 0.7883011896679689,\n",
       " 0.012096760015357866,\n",
       " 0.3033456717085691,\n",
       " 0.021375961088070716,\n",
       " 0.9974849927283295,\n",
       " 0.5820299763434618,\n",
       " 0.29337627848605663,\n",
       " 0.9289494618931157,\n",
       " 0.5071194235482045,\n",
       " 0.4546922275524069,\n",
       " 0.5878715062961865,\n",
       " 0.2641376442105696,\n",
       " 0.3052882993474333,\n",
       " 0.37165457672418245,\n",
       " 0.24444799937161088,\n",
       " 0.5845472661166298,\n",
       " 0.6958461339323264,\n",
       " 0.07194722016400112,\n",
       " 0.9710833196254638,\n",
       " 0.7530706558694549,\n",
       " 0.8061631629534083,\n",
       " 0.7516404040812905,\n",
       " 0.0800609772712173,\n",
       " 0.48169628302117706,\n",
       " 0.44567295640165605,\n",
       " 0.6724726505249299,\n",
       " 0.4487372588243219,\n",
       " 0.7043133983839096,\n",
       " 0.6816453376026229,\n",
       " 0.6971485287527562,\n",
       " 0.6186007425615364,\n",
       " 1.1509807332796458,\n",
       " 1.760802456305756,\n",
       " 1.7810458221939571,\n",
       " 1.9041029859138048,\n",
       " 1.233768692604106,\n",
       " 1.1766788930723413,\n",
       " 1.3910991231067624,\n",
       " 1.3205646539951603,\n",
       " 1.815476929005626,\n",
       " 1.6135258996684316,\n",
       " 1.7600017523497489,\n",
       " 1.4276650996969642,\n",
       " 1.0994405629155892,\n",
       " 1.1150350120502464,\n",
       " 1.3734071317371952,\n",
       " 1.1938477675095072,\n",
       " 1.8207464986229382,\n",
       " 1.5996360084237167,\n",
       " 1.688845259018665,\n",
       " 1.4911099613042962,\n",
       " 1.0881736812421812,\n",
       " 1.2350776366861704,\n",
       " 1.461602080891622,\n",
       " 2.198591503053926,\n",
       " 2.0254762357788203,\n",
       " 2.7293976982561525,\n",
       " 2.724916747219119,\n",
       " 2.3303917463617028,\n",
       " 2.8434941260636553,\n",
       " 2.4284424759510737,\n",
       " 2.8646861447635343,\n",
       " 2.6570654246228895,\n",
       " 2.58103565741809,\n",
       " 2.200727488035091,\n",
       " 2.529546610478395,\n",
       " 2.8944324184275723,\n",
       " 2.304993975835216,\n",
       " 2.8709456091610535,\n",
       " 2.908745272858388,\n",
       " 2.3298445626818824,\n",
       " 2.683074366336564,\n",
       " 2.8992209495659687,\n",
       " 2.0756968817583035,\n",
       " 2.8785878632047703,\n",
       " 2.1908393632684806,\n",
       " 2.8497689100179304,\n",
       " 2.667118788699204,\n",
       " 2.344339195450054,\n",
       " 2.151375569992799,\n",
       " 2.6353709614884533,\n",
       " 2.8477880437147416,\n",
       " 2.8218493747640103,\n",
       " 2.6282395971306576,\n",
       " 2.956301509755232,\n",
       " 2.5899231270757697,\n",
       " 2.197832784647919,\n",
       " 2.429330722616492,\n",
       " 2.336745998701167,\n",
       " 2.991945011907281,\n",
       " 2.3802364961172646,\n",
       " 2.992700873664818,\n",
       " 2.5188042507334143,\n",
       " 2.1722797014771253,\n",
       " 2.07457407125148,\n",
       " 2.370305693773888,\n",
       " 2.1234188598147297,\n",
       " 2.6345187162918418,\n",
       " 2.413919845729409,\n",
       " 2.99091563252545,\n",
       " 2.929955623653318,\n",
       " 2.14923603230975,\n",
       " 2.3948822625368003,\n",
       " 2.4615797109623863,\n",
       " 2.560948755121945,\n",
       " 2.7803635232892683,\n",
       " 2.4871939090734236,\n",
       " 2.419993552010241,\n",
       " 2.2619997047193356,\n",
       " 2.9108061390867586]"
      ]
     },
     "execution_count": 68,
     "metadata": {},
     "output_type": "execute_result"
    }
   ],
   "source": [
    "mylist"
   ]
  },
  {
   "cell_type": "code",
   "execution_count": null,
   "metadata": {
    "collapsed": true
   },
   "outputs": [],
   "source": [
    "list(x for x in )"
   ]
  },
  {
   "cell_type": "code",
   "execution_count": 65,
   "metadata": {
    "collapsed": false
   },
   "outputs": [
    {
     "data": {
      "text/plain": [
       "(3,)"
      ]
     },
     "execution_count": 65,
     "metadata": {},
     "output_type": "execute_result"
    }
   ],
   "source": [
    "np.shape(arr)"
   ]
  },
  {
   "cell_type": "code",
   "execution_count": 61,
   "metadata": {
    "collapsed": false
   },
   "outputs": [
    {
     "data": {
      "text/plain": [
       "(3,)"
      ]
     },
     "execution_count": 61,
     "metadata": {},
     "output_type": "execute_result"
    }
   ],
   "source": [
    "np.shape(arr)"
   ]
  },
  {
   "cell_type": "code",
   "execution_count": 82,
   "metadata": {
    "collapsed": true
   },
   "outputs": [],
   "source": [
    "class coordSamples(snsims.HealpixTiles):\n",
    "    pass"
   ]
  },
  {
   "cell_type": "code",
   "execution_count": 18,
   "metadata": {
    "collapsed": true
   },
   "outputs": [],
   "source": [
    "from astropy.cosmology import Planck15"
   ]
  },
  {
   "cell_type": "code",
   "execution_count": 24,
   "metadata": {
    "collapsed": false
   },
   "outputs": [
    {
     "data": {
      "text/latex": [
       "$4.4903336 \\times 10^{10} \\; \\mathrm{Mpc^{3}}$"
      ],
      "text/plain": [
       "<Quantity 44903336379.47742 Mpc3>"
      ]
     },
     "execution_count": 24,
     "metadata": {},
     "output_type": "execute_result"
    }
   ],
   "source": [
    "Planck15.comoving_volume(z=1.4) - Planck15.comoving_volume(z=1.3)"
   ]
  },
  {
   "cell_type": "code",
   "execution_count": 25,
   "metadata": {
    "collapsed": false
   },
   "outputs": [
    {
     "data": {
      "text/latex": [
       "$3.3763831 \\times 10^{8} \\; \\mathrm{Mpc^{3}}$"
      ],
      "text/plain": [
       "<Quantity 337638307.78562444 Mpc3>"
      ]
     },
     "execution_count": 25,
     "metadata": {},
     "output_type": "execute_result"
    }
   ],
   "source": [
    "Planck15.comoving_volume(z=0.1) - Planck15.comoving_volume(z=0.01)"
   ]
  },
  {
   "cell_type": "code",
   "execution_count": 13,
   "metadata": {
    "collapsed": true
   },
   "outputs": [],
   "source": [
    "from lsst.sims.catUtils.supernovae import SNObject"
   ]
  },
  {
   "cell_type": "code",
   "execution_count": 15,
   "metadata": {
    "collapsed": false
   },
   "outputs": [],
   "source": [
    "snobj = SNObject(ra=54., dec=-47.)"
   ]
  },
  {
   "cell_type": "code",
   "execution_count": null,
   "metadata": {
    "collapsed": true
   },
   "outputs": [],
   "source": [
    "snobj.set(**dict(x0=1.4e-6, x1-))"
   ]
  },
  {
   "cell_type": "code",
   "execution_count": 70,
   "metadata": {
    "collapsed": true
   },
   "outputs": [],
   "source": [
    "t = ('expMJD', 'filter', 'fiveSigmaDepth')"
   ]
  },
  {
   "cell_type": "code",
   "execution_count": 74,
   "metadata": {
    "collapsed": false
   },
   "outputs": [
    {
     "data": {
      "text/plain": [
       "['expMJD', 'filter', 'fiveSigmaDepth']"
      ]
     },
     "execution_count": 74,
     "metadata": {},
     "output_type": "execute_result"
    }
   ],
   "source": [
    "list(t)"
   ]
  },
  {
   "cell_type": "code",
   "execution_count": null,
   "metadata": {
    "collapsed": true
   },
   "outputs": [],
   "source": []
  },
  {
   "cell_type": "code",
   "execution_count": 31,
   "metadata": {
    "collapsed": true
   },
   "outputs": [],
   "source": [
    "import healpy as hp"
   ]
  },
  {
   "cell_type": "code",
   "execution_count": 32,
   "metadata": {
    "collapsed": false
   },
   "outputs": [
    {
     "data": {
      "text/plain": [
       "array([   0,    1,    2, ..., 3069, 3070, 3071])"
      ]
     },
     "execution_count": 32,
     "metadata": {},
     "output_type": "execute_result"
    }
   ],
   "source": [
    "hp.ud_grade(np.arange(hp.nside2npix(16)), nside_out=256)"
   ]
  },
  {
   "cell_type": "code",
   "execution_count": null,
   "metadata": {
    "collapsed": true
   },
   "outputs": [],
   "source": []
  }
 ],
 "metadata": {
  "kernelspec": {
   "display_name": "Python [default]",
   "language": "python",
   "name": "python2"
  },
  "language_info": {
   "codemirror_mode": {
    "name": "ipython",
    "version": 2
   },
   "file_extension": ".py",
   "mimetype": "text/x-python",
   "name": "python",
   "nbconvert_exporter": "python",
   "pygments_lexer": "ipython2",
   "version": "2.7.12"
  }
 },
 "nbformat": 4,
 "nbformat_minor": 0
}
