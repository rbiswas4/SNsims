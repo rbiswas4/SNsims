{
 "cells": [
  {
   "cell_type": "code",
   "execution_count": 1,
   "metadata": {
    "collapsed": true
   },
   "outputs": [],
   "source": [
    "import os\n",
    "import numpy as np\n",
    "import pandas as pd"
   ]
  },
  {
   "cell_type": "markdown",
   "metadata": {},
   "source": [
    "Note For this to work, you will need the `lsst.sims` stack to be installed. \n",
    " - opsimsummary uses `healpy` which is installed with the sims stack, but also available from pip/conda\n",
    " - snsims uses the `lsst.sims` stack."
   ]
  },
  {
   "cell_type": "code",
   "execution_count": 2,
   "metadata": {
    "collapsed": true
   },
   "outputs": [],
   "source": [
    "import opsimsummary as oss\n",
    "import snsims\n",
    "import healpy as hp"
   ]
  },
  {
   "cell_type": "code",
   "execution_count": 3,
   "metadata": {
    "collapsed": true
   },
   "outputs": [],
   "source": [
    "%matplotlib inline\n",
    "import matplotlib.pyplot as plt"
   ]
  },
  {
   "cell_type": "markdown",
   "metadata": {},
   "source": [
    "## This section pertains to how to write a new Tiling class"
   ]
  },
  {
   "cell_type": "markdown",
   "metadata": {
    "collapsed": false
   },
   "source": [
    "```\n",
    "noTile = snsims.Tiling()\n",
    "---------------------------------------------------------------------------\n",
    "TypeError                                 Traceback (most recent call last)\n",
    "<ipython-input-9-5f6f8a94508e> in <module>()\n",
    "----> 1 noTile = snsims.Tiling()\n",
    "\n",
    "TypeError: Can't instantiate abstract class Tiling with abstract methods __init__, area, pointingSequenceForTile, tileIDSequence, tileIDsForSN\n",
    "```"
   ]
  },
  {
   "cell_type": "markdown",
   "metadata": {},
   "source": [
    "The class `snsims.Tiling` is an abstract Base class. Therefore, this cannot be instantiated. It must be subclassed, and the set of methods outlined have to be implemented for this to work."
   ]
  },
  {
   "cell_type": "code",
   "execution_count": 4,
   "metadata": {
    "collapsed": false
   },
   "outputs": [],
   "source": [
    "class NoTile(snsims.Tiling):\n",
    "    pass"
   ]
  },
  {
   "cell_type": "code",
   "execution_count": 5,
   "metadata": {
    "collapsed": false
   },
   "outputs": [
    {
     "ename": "TypeError",
     "evalue": "Can't instantiate abstract class NoTile with abstract methods __init__, area, pointingSequenceForTile, positions, tileIDSequence, tileIDsForSN",
     "output_type": "error",
     "traceback": [
      "\u001b[0;31m---------------------------------------------------------------------------\u001b[0m",
      "\u001b[0;31mTypeError\u001b[0m                                 Traceback (most recent call last)",
      "\u001b[0;32m<ipython-input-5-8ddedac7fb97>\u001b[0m in \u001b[0;36m<module>\u001b[0;34m()\u001b[0m\n\u001b[0;32m----> 1\u001b[0;31m \u001b[0mnoTile\u001b[0m \u001b[0;34m=\u001b[0m \u001b[0mNoTile\u001b[0m\u001b[0;34m(\u001b[0m\u001b[0;34m)\u001b[0m\u001b[0;34m\u001b[0m\u001b[0m\n\u001b[0m",
      "\u001b[0;31mTypeError\u001b[0m: Can't instantiate abstract class NoTile with abstract methods __init__, area, pointingSequenceForTile, positions, tileIDSequence, tileIDsForSN"
     ]
    }
   ],
   "source": [
    "noTile = NoTile()"
   ]
  },
  {
   "cell_type": "markdown",
   "metadata": {
    "collapsed": false
   },
   "source": [
    "\n",
    "```\n",
    "\"\"\"noTile = NoTile()\n",
    "---------------------------------------------------------------------------\n",
    "TypeError                                 Traceback (most recent call last)\n",
    "<ipython-input-4-8ddedac7fb97> in <module>()\n",
    "----> 1 noTile = NoTile()\n",
    "\n",
    "TypeError: Can't instantiate abstract class NoTile with abstract methods __init__, area, pointingSequenceForTile, positions, tileIDSequence, tileIDsForSN\n",
    "\"\"\"\n",
    "```"
   ]
  },
  {
   "cell_type": "markdown",
   "metadata": {},
   "source": [
    "The above fails because the methods are not implemented. Below is a stupid (ie. not useful) but minimalist class that would work:"
   ]
  },
  {
   "cell_type": "code",
   "execution_count": 6,
   "metadata": {
    "collapsed": false
   },
   "outputs": [],
   "source": [
    "class MyTile(snsims.Tiling):\n",
    "    def __init__(self):\n",
    "        pass\n",
    "    @property\n",
    "    def tileIDSequence(self):\n",
    "        return np.arange(100)\n",
    "    \n",
    "    def tileIDsForSN(self, ra, dec):\n",
    "        x = ra + dec\n",
    "        y = np.remainder(x, 100.)\n",
    "        return np.floor(y)\n",
    "    def area(self, tileID):\n",
    "        return 1.\n",
    "    def pointingSequenceForTile(self, tileID, pointings):\n",
    "        return None\n",
    "    def positions(self):\n",
    "        pass\n",
    "    "
   ]
  },
  {
   "cell_type": "code",
   "execution_count": 7,
   "metadata": {
    "collapsed": false
   },
   "outputs": [],
   "source": [
    "myTile = MyTile()"
   ]
  },
  {
   "cell_type": "markdown",
   "metadata": {},
   "source": [
    "## Using the class HealpixTiles"
   ]
  },
  {
   "cell_type": "markdown",
   "metadata": {},
   "source": [
    "Currently there is only concrete tiling class that has been implemented. This is the `snsims.HealpixTiles` class.\n",
    "\n",
    "This shows how to use the HealpixTiles Class"
   ]
  },
  {
   "cell_type": "code",
   "execution_count": 8,
   "metadata": {
    "collapsed": false
   },
   "outputs": [
    {
     "data": {
      "text/plain": [
       "True"
      ]
     },
     "execution_count": 8,
     "metadata": {},
     "output_type": "execute_result"
    }
   ],
   "source": [
    "issubclass(snsims.HealpixTiles, snsims.Tiling)"
   ]
  },
  {
   "cell_type": "code",
   "execution_count": 9,
   "metadata": {
    "collapsed": false
   },
   "outputs": [
    {
     "name": "stdout",
     "output_type": "stream",
     "text": [
      "Help on class HealpixTiles in module snsims.healpixTiles:\n",
      "\n",
      "class HealpixTiles(snsims.tessellations.Tiling)\n",
      " |  A concrete Tiling class based on Healpix Tiles. The user is\n",
      " |  allowed to choose the following parameters:\n",
      " |  \n",
      " |  Attributes\n",
      " |  ----------\n",
      " |  nside : int, power of 2, defaults to 256\n",
      " |      healpix nside parameter\n",
      " |  \n",
      " |  Method resolution order:\n",
      " |      HealpixTiles\n",
      " |      snsims.tessellations.Tiling\n",
      " |      __builtin__.object\n",
      " |  \n",
      " |  Methods defined here:\n",
      " |  \n",
      " |  __init__(self, nside=256, healpixelizedOpSim=None, preComputedMap=None)\n",
      " |      nside : int, power of 2, defaults to 256\n",
      " |          nside parameter of healpix. determines the size of the tiles\n",
      " |          so that there are 12 * nside **2 equally sized tiles covering\n",
      " |          the sphere.\n",
      " |  \n",
      " |  area(self, tileID)\n",
      " |  \n",
      " |  pointingSequenceForTile(self, tileID, allPointings, **kwargs)\n",
      " |      return a maximal sequence of pointings for a particular tileID\n",
      " |  \n",
      " |  positions(self, tileID, numSamples, rng=None)\n",
      " |      Return a tuple of (res_phi, res_theta) where res_phi and res_theta are\n",
      " |      spatially uniform samples  of positions of size numSamples within the\n",
      " |      healpix Tile with ipix=tileID in the nested scheme.\n",
      " |      \n",
      " |      Parameters\n",
      " |      ---------\n",
      " |      tileID : int, mandatory\n",
      " |      \n",
      " |      numSamples : number of positions required\n",
      " |      \n",
      " |      rng : instance of `np.random.RandomState`\n",
      " |      \n",
      " |      \n",
      " |      Returns\n",
      " |      -------\n",
      " |      \n",
      " |      .. notes : 1. The inelegant method is sampling a circle with a radius\n",
      " |          twice that required to have an area equal to the healpix tile. This\n",
      " |          operation can be done by self.samplePatchOnSphere and returns \n",
      " |          numSamples, some of which are not on the healpixTiles.\n",
      " |          2. `self._angularSamples` returns only those of this sequence which\n",
      " |          lie on the original tile.\n",
      " |          3. by repeating the process till the number obtained matches the number\n",
      " |          requested, we obtain nsamples on the tile.\n",
      " |          4. The method works as long as the radius is large enough so that\n",
      " |          corners of the tile are not outside the circle sampled.\n",
      " |  \n",
      " |  tileIDsForSN(self, ra, dec)\n",
      " |      Parameters\n",
      " |      ----------\n",
      " |      ra : `numpyp.ndarray` or float, degrees, mandatory\n",
      " |      dec : `numpy.ndarray` or float, degrees, mandatory\n",
      " |  \n",
      " |  tilesForPointing(self, pointing, alltiles=None, **kwargs)\n",
      " |      return a maximal sequence of tile ID s for a particular OpSim pointing\n",
      " |  \n",
      " |  ----------------------------------------------------------------------\n",
      " |  Data descriptors defined here:\n",
      " |  \n",
      " |  preComputedEngine\n",
      " |  \n",
      " |  preComputedMap\n",
      " |  \n",
      " |  tileIDSequence\n",
      " |  \n",
      " |  ----------------------------------------------------------------------\n",
      " |  Data and other attributes defined here:\n",
      " |  \n",
      " |  __abstractmethods__ = frozenset([])\n",
      " |  \n",
      " |  ----------------------------------------------------------------------\n",
      " |  Static methods inherited from snsims.tessellations.Tiling:\n",
      " |  \n",
      " |  samplePatchOnSphere(phi, theta, delta, size, rng, degrees=True)\n",
      " |      Uniformly distributes samples on a patch on a sphere between phi \\pm delta,\n",
      " |      and theta \\pm delta on a sphere. Uniform distribution implies that the\n",
      " |      number of points in a patch of sphere is proportional to the area of the\n",
      " |      patch. Here, the coordinate system is the usual\n",
      " |      spherical coordinate system with the azimuthal angle theta going from\n",
      " |      0 degrees at the North Pole, to 90 degrees at the South Pole, through\n",
      " |      0. at the equator. \n",
      " |      \n",
      " |      This function is not equipped to handle wrap-around the ranges of theta\n",
      " |      phi and therefore does not work at the poles.\n",
      " |      \n",
      " |      Parameters\n",
      " |      ----------\n",
      " |      phi: float, mandatory, degrees\n",
      " |          center of the spherical patch in ra with range \n",
      " |      theta: float, mandatory, degrees\n",
      " |      delta: float, mandatory, degrees\n",
      " |      size: int, mandatory\n",
      " |          number of samples\n",
      " |      seed : int, optional, defaults to 1\n",
      " |          random Seed used for generating values\n",
      " |      degrees : bool, optional, defaults to True\n",
      " |          if True, returns angles in degrees, else in\n",
      " |          radians\n",
      " |      \n",
      " |      Returns\n",
      " |      -------\n",
      " |      tuple of (phivals, thetavals) where phivals and thetavals are arrays of \n",
      " |          size size in degrees.\n",
      " |  \n",
      " |  ----------------------------------------------------------------------\n",
      " |  Data descriptors inherited from snsims.tessellations.Tiling:\n",
      " |  \n",
      " |  __dict__\n",
      " |      dictionary for instance variables (if defined)\n",
      " |  \n",
      " |  __weakref__\n",
      " |      list of weak references to the object (if defined)\n",
      "\n"
     ]
    }
   ],
   "source": [
    "help(snsims.HealpixTiles)"
   ]
  },
  {
   "cell_type": "code",
   "execution_count": 10,
   "metadata": {
    "collapsed": false
   },
   "outputs": [],
   "source": [
    "datadir = os.path.join(oss.__path__[0], 'example_data')\n",
    "opsimdb = os.path.join(datadir, 'enigma_1189_micro.db')"
   ]
  },
  {
   "cell_type": "code",
   "execution_count": 11,
   "metadata": {
    "collapsed": true
   },
   "outputs": [],
   "source": [
    "NSIDE = 4"
   ]
  },
  {
   "cell_type": "code",
   "execution_count": 12,
   "metadata": {
    "collapsed": false
   },
   "outputs": [
    {
     "name": "stdout",
     "output_type": "stream",
     "text": [
      " reading from database sqlite:////Users/rbiswas/.local/lib/python2.7/site-packages/opsimsummary/example_data/enigma_1189_micro.db\n",
      "SELECT * FROM Summary WHERE PROPID in (366, 364)\n"
     ]
    }
   ],
   "source": [
    "hpOpSim = oss.HealPixelizedOpSim.fromOpSimDB(opsimdb, NSIDE=NSIDE)"
   ]
  },
  {
   "cell_type": "code",
   "execution_count": 46,
   "metadata": {
    "collapsed": false
   },
   "outputs": [
    {
     "data": {
      "text/plain": [
       "4"
      ]
     },
     "execution_count": 46,
     "metadata": {},
     "output_type": "execute_result"
    }
   ],
   "source": [
    "NSIDE"
   ]
  },
  {
   "cell_type": "code",
   "execution_count": 39,
   "metadata": {
    "collapsed": false
   },
   "outputs": [],
   "source": [
    "hpTileshpOpSim = snsims.HealpixTiles(healpixelizedOpSim=hpOpSim, nside=NSIDE)"
   ]
  },
  {
   "cell_type": "code",
   "execution_count": 40,
   "metadata": {
    "collapsed": false
   },
   "outputs": [
    {
     "data": {
      "text/plain": [
       "array([], dtype=int64)"
      ]
     },
     "execution_count": 40,
     "metadata": {},
     "output_type": "execute_result"
    }
   ],
   "source": [
    "hpTileshpOpSim.pointingSequenceForTile(1, allPointings=None)"
   ]
  },
  {
   "cell_type": "code",
   "execution_count": 59,
   "metadata": {
    "collapsed": false
   },
   "outputs": [],
   "source": [
    "phi, theta = hpTileshpOpSim.positions(1, 10000)"
   ]
  },
  {
   "cell_type": "code",
   "execution_count": 60,
   "metadata": {
    "collapsed": false
   },
   "outputs": [],
   "source": [
    "mapvals = np.ones(hp.nside2npix(NSIDE)) * hp.UNSEEN"
   ]
  },
  {
   "cell_type": "code",
   "execution_count": 61,
   "metadata": {
    "collapsed": true
   },
   "outputs": [],
   "source": [
    "mapvals[1] = 100"
   ]
  },
  {
   "cell_type": "code",
   "execution_count": null,
   "metadata": {
    "collapsed": true
   },
   "outputs": [],
   "source": []
  },
  {
   "cell_type": "code",
   "execution_count": 62,
   "metadata": {
    "collapsed": false
   },
   "outputs": [
    {
     "data": {
      "text/plain": [
       "array([1, 1, 1, ..., 1, 1, 1])"
      ]
     },
     "execution_count": 62,
     "metadata": {},
     "output_type": "execute_result"
    }
   ],
   "source": [
    "hp.ang2pix(NSIDE, np.radians(theta), np.radians(phi), nest=True)"
   ]
  },
  {
   "cell_type": "code",
   "execution_count": 69,
   "metadata": {
    "collapsed": true
   },
   "outputs": [],
   "source": [
    "theta_c, phi_c = hp.pix2ang(4, 1, nest=True)"
   ]
  },
  {
   "cell_type": "code",
   "execution_count": 77,
   "metadata": {
    "collapsed": false
   },
   "outputs": [
    {
     "data": {
      "text/plain": [
       "<matplotlib.collections.PathCollection at 0x128dd7d50>"
      ]
     },
     "execution_count": 77,
     "metadata": {},
     "output_type": "execute_result"
    },
    {
     "data": {
      "image/png": "[encoded data removed]",
      "text/plain": [
       "<matplotlib.figure.Figure at 0x128258e10>"
      ]
     },
     "metadata": {},
     "output_type": "display_data"
    }
   ],
   "source": [
    "hp.mollview(mapvals, nest=True)\n",
    "hp.projscatter(np.radians(theta), np.radians(phi), **dict(s=0.0002))\n",
    "hp.projscatter(theta_c, phi_c, **dict(s=8., c='r'))"
   ]
  },
  {
   "cell_type": "code",
   "execution_count": 13,
   "metadata": {
    "collapsed": false
   },
   "outputs": [
    {
     "name": "stdout",
     "output_type": "stream",
     "text": [
      "10 loops, best of 3: 33.7 ms per loop\n"
     ]
    }
   ],
   "source": [
    "%timeit hpTileshpOpSim.pointingSequenceForTile(33, allPointings=None)"
   ]
  },
  {
   "cell_type": "code",
   "execution_count": 16,
   "metadata": {
    "collapsed": true
   },
   "outputs": [],
   "source": [
    "preCompMap = os.path.join(oss.__path__[0], 'example_data', 'healpixels_micro.db')"
   ]
  },
  {
   "cell_type": "code",
   "execution_count": 17,
   "metadata": {
    "collapsed": false
   },
   "outputs": [],
   "source": [
    "hpTilesMap = snsims.HealpixTiles(nside=1, preComputedMap=preCompMap)"
   ]
  },
  {
   "cell_type": "code",
   "execution_count": 18,
   "metadata": {
    "collapsed": false
   },
   "outputs": [
    {
     "data": {
      "text/plain": [
       "array([171077, 171078, 171079, ..., 272594, 272626, 272656])"
      ]
     },
     "execution_count": 18,
     "metadata": {},
     "output_type": "execute_result"
    }
   ],
   "source": [
    "hpTilesMap.pointingSequenceForTile(10, allPointings=None)"
   ]
  },
  {
   "cell_type": "code",
   "execution_count": 19,
   "metadata": {
    "collapsed": false
   },
   "outputs": [
    {
     "name": "stdout",
     "output_type": "stream",
     "text": [
      "10 loops, best of 3: 32 ms per loop\n"
     ]
    }
   ],
   "source": [
    "%timeit hpOpSim.obsHistIdsForTile(34)"
   ]
  },
  {
   "cell_type": "code",
   "execution_count": 21,
   "metadata": {
    "collapsed": true
   },
   "outputs": [],
   "source": [
    "hpTiles = snsims.HealpixTiles(healpixelizedOpSim=hpOpSim)"
   ]
  },
  {
   "cell_type": "code",
   "execution_count": 22,
   "metadata": {
    "collapsed": false
   },
   "outputs": [
    {
     "data": {
      "text/plain": [
       "array([185874, 185905, 187057, 187059, 187073, 187074, 194374, 194377,\n",
       "       194418, 194421, 195237, 195238, 195303, 195308, 196401, 201725,\n",
       "       203413, 203421, 203439, 203455, 203480, 204360, 204375, 205282,\n",
       "       205298, 206016, 206062, 206977, 210909, 211229, 211262, 212812,\n",
       "       214181, 214218, 214247, 215735, 215778, 215913, 218394, 220583,\n",
       "       220621, 230461, 230462, 230508, 230509, 233394, 233432, 234057,\n",
       "       234073, 234829, 234831, 234875, 234881, 235681, 235724, 235779,\n",
       "       235805, 236380, 236383, 236434, 236435, 239399, 239436, 243014,\n",
       "       243050, 244790, 246727, 246747, 248059, 248094, 250165, 250205,\n",
       "       251002, 251676, 253032, 253033, 253069, 253070, 253742, 253776,\n",
       "       255888, 255893, 262252, 266477, 266478, 266489, 269957])"
      ]
     },
     "execution_count": 22,
     "metadata": {},
     "output_type": "execute_result"
    }
   ],
   "source": [
    "hpTiles.pointingSequenceForTile(34, allPointings=None)"
   ]
  }
 ],
 "metadata": {
  "kernelspec": {
   "display_name": "Python 2",
   "language": "python",
   "name": "python2"
  },
  "language_info": {
   "codemirror_mode": {
    "name": "ipython",
    "version": 2
   },
   "file_extension": ".py",
   "mimetype": "text/x-python",
   "name": "python",
   "nbconvert_exporter": "python",
   "pygments_lexer": "ipython2",
   "version": "2.7.11"
  }
 },
 "nbformat": 4,
 "nbformat_minor": 0
}
