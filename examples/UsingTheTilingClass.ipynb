{
 "cells": [
  {
   "cell_type": "code",
   "execution_count": 1,
   "metadata": {
    "collapsed": true
   },
   "outputs": [],
   "source": [
    "import os\n",
    "import numpy as np\n",
    "import pandas as pd"
   ]
  },
  {
   "cell_type": "markdown",
   "metadata": {},
   "source": [
    "Note For this to work, you will need the `lsst.sims` stack to be installed. \n",
    " - opsimsummary uses `healpy` which is installed with the sims stack, but also available from pip/conda\n",
    " - snsims uses the `lsst.sims` stack."
   ]
  },
  {
   "cell_type": "code",
   "execution_count": 2,
   "metadata": {
    "collapsed": true
   },
   "outputs": [],
   "source": [
    "import opsimsummary as oss\n",
    "import snsims"
   ]
  },
  {
   "cell_type": "markdown",
   "metadata": {},
   "source": [
    "## This section pertains to how to write a new Tiling class"
   ]
  },
  {
   "cell_type": "markdown",
   "metadata": {
    "collapsed": false
   },
   "source": [
    "```\n",
    "noTile = snsims.Tiling()\n",
    "---------------------------------------------------------------------------\n",
    "TypeError                                 Traceback (most recent call last)\n",
    "<ipython-input-9-5f6f8a94508e> in <module>()\n",
    "----> 1 noTile = snsims.Tiling()\n",
    "\n",
    "TypeError: Can't instantiate abstract class Tiling with abstract methods __init__, area, pointingSequenceForTile, tileIDSequence, tileIDsForSN\n",
    "```"
   ]
  },
  {
   "cell_type": "markdown",
   "metadata": {},
   "source": [
    "The class `snsims.Tiling` is an abstract Base class. Therefore, this cannot be instantiated. It must be subclassed, and the set of methods outlined have to be implemented for this to work."
   ]
  },
  {
   "cell_type": "code",
   "execution_count": 3,
   "metadata": {
    "collapsed": false
   },
   "outputs": [],
   "source": [
    "class NoTile(snsims.Tiling):\n",
    "    pass"
   ]
  },
  {
   "cell_type": "markdown",
   "metadata": {
    "collapsed": false
   },
   "source": [
    "\n",
    "```\n",
    "\"\"\"noTile = NoTile()\n",
    "---------------------------------------------------------------------------\n",
    "TypeError                                 Traceback (most recent call last)\n",
    "<ipython-input-11-8ddedac7fb97> in <module>()\n",
    "----> 1 noTile = NoTile()\n",
    "\n",
    "TypeError: Can't instantiate abstract class NoTile with abstract methods __init__, area, pointingSequenceForTile, tileIDSequence, tileIDsForSN\n",
    "\"\"\"\n",
    "```"
   ]
  },
  {
   "cell_type": "markdown",
   "metadata": {},
   "source": [
    "The above fails because the methods are not implemented. Below is a stupid (ie. not useful) but minimalist class that would work:"
   ]
  },
  {
   "cell_type": "code",
   "execution_count": 4,
   "metadata": {
    "collapsed": false
   },
   "outputs": [],
   "source": [
    "class MyTile(snsims.Tiling):\n",
    "    def __init__(self):\n",
    "        pass\n",
    "    @property\n",
    "    def tileIDSequence(self):\n",
    "        return np.arange(100)\n",
    "    \n",
    "    def tileIDsForSN(self, ra, dec):\n",
    "        x = ra + dec\n",
    "        y = np.remainder(x, 100.)\n",
    "        return np.floor(y)\n",
    "    def area(self, tileID):\n",
    "        return 1.\n",
    "    def pointingSequenceForTile(self, tileID, pointings):\n",
    "        return None\n",
    "    "
   ]
  },
  {
   "cell_type": "code",
   "execution_count": 5,
   "metadata": {
    "collapsed": false
   },
   "outputs": [],
   "source": [
    "myTile = MyTile()"
   ]
  },
  {
   "cell_type": "markdown",
   "metadata": {},
   "source": [
    "## Using the class HealpixTiles"
   ]
  },
  {
   "cell_type": "markdown",
   "metadata": {},
   "source": [
    "Currently there is only concrete tiling class that has been implemented. This is the `snsims.HealpixTiles` class.\n",
    "\n",
    "This shows how to use the HealpixTiles Class"
   ]
  },
  {
   "cell_type": "code",
   "execution_count": 6,
   "metadata": {
    "collapsed": false
   },
   "outputs": [
    {
     "data": {
      "text/plain": [
       "True"
      ]
     },
     "execution_count": 6,
     "metadata": {},
     "output_type": "execute_result"
    }
   ],
   "source": [
    "issubclass(snsims.HealpixTiles, snsims.Tiling)"
   ]
  },
  {
   "cell_type": "code",
   "execution_count": 14,
   "metadata": {
    "collapsed": false
   },
   "outputs": [
    {
     "name": "stdout",
     "output_type": "stream",
     "text": [
      "Help on class HealpixTiles in module snsims.healpixTiles:\n",
      "\n",
      "class HealpixTiles(snsims.tessellations.Tiling)\n",
      " |  A concrete Tiling class based on Healpix Tiles. The user is\n",
      " |  allowed to choose the following parameters:\n",
      " |  \n",
      " |  Attributes\n",
      " |  ----------\n",
      " |  nside : int, power of 2, defaults to 256\n",
      " |      healpix nside parameter\n",
      " |  \n",
      " |  Method resolution order:\n",
      " |      HealpixTiles\n",
      " |      snsims.tessellations.Tiling\n",
      " |      __builtin__.object\n",
      " |  \n",
      " |  Methods defined here:\n",
      " |  \n",
      " |  __init__(self, nside=256, healpixelizedOpSim=None, preComputedMap=None)\n",
      " |      nside : int, power of 2, defaults to 256\n",
      " |          nside parameter of healpix. determines the size of the tiles\n",
      " |          so that there are 12 * nside **2 equally sized tiles covering\n",
      " |          the sphere.\n",
      " |  \n",
      " |  area(self, tileID)\n",
      " |  \n",
      " |  pointingSequenceForTile(self, tileID, allPointings, **kwargs)\n",
      " |      return a maximal sequence of pointings for a particular tileID\n",
      " |  \n",
      " |  tileIDsForSN(self, ra, dec)\n",
      " |      Parameters\n",
      " |      ----------\n",
      " |      ra : `numpyp.ndarray` or float, degrees, mandatory\n",
      " |      dec : `numpy.ndarray` or float, degrees, mandatory\n",
      " |  \n",
      " |  tilesForPointing(self, pointing, alltiles=None, **kwargs)\n",
      " |      return a maximal sequence of tile ID s for a particular OpSim pointing\n",
      " |  \n",
      " |  ----------------------------------------------------------------------\n",
      " |  Data descriptors defined here:\n",
      " |  \n",
      " |  preComputedEngine\n",
      " |  \n",
      " |  preComputedMap\n",
      " |  \n",
      " |  tileIDSequence\n",
      " |  \n",
      " |  ----------------------------------------------------------------------\n",
      " |  Data and other attributes defined here:\n",
      " |  \n",
      " |  __abstractmethods__ = frozenset([])\n",
      " |  \n",
      " |  ----------------------------------------------------------------------\n",
      " |  Data descriptors inherited from snsims.tessellations.Tiling:\n",
      " |  \n",
      " |  __dict__\n",
      " |      dictionary for instance variables (if defined)\n",
      " |  \n",
      " |  __weakref__\n",
      " |      list of weak references to the object (if defined)\n",
      "\n"
     ]
    }
   ],
   "source": [
    "help(snsims.HealpixTiles)"
   ]
  },
  {
   "cell_type": "code",
   "execution_count": 7,
   "metadata": {
    "collapsed": false
   },
   "outputs": [],
   "source": [
    "datadir = os.path.join(oss.__path__[0], 'example_data')\n",
    "opsimdb = os.path.join(datadir, 'enigma_1189_micro.db')"
   ]
  },
  {
   "cell_type": "code",
   "execution_count": 8,
   "metadata": {
    "collapsed": false
   },
   "outputs": [
    {
     "name": "stdout",
     "output_type": "stream",
     "text": [
      " reading from database sqlite:////Users/rbiswas/.local/lib/python2.7/site-packages/opsimsummary/example_data/enigma_1189_micro.db\n",
      "SELECT * FROM Summary WHERE PROPID in (366, 364)\n"
     ]
    }
   ],
   "source": [
    "hpOpSim = oss.HealPixelizedOpSim.fromOpSimDB(opsimdb)"
   ]
  },
  {
   "cell_type": "code",
   "execution_count": 9,
   "metadata": {
    "collapsed": false
   },
   "outputs": [],
   "source": [
    "hpTileshpOpSim = snsims.HealpixTiles(healpixelizedOpSim=hpOpSim)"
   ]
  },
  {
   "cell_type": "code",
   "execution_count": 11,
   "metadata": {
    "collapsed": false
   },
   "outputs": [
    {
     "data": {
      "text/plain": [
       "array([185874, 185905, 187057, 187059, 187073, 187074, 194374, 194377,\n",
       "       194418, 194421, 195237, 195238, 195303, 195308, 196401, 201725,\n",
       "       203413, 203421, 203439, 203455, 203480, 204360, 204375, 205282,\n",
       "       205298, 206016, 206062, 206977, 210909, 211229, 211262, 212812,\n",
       "       214181, 214218, 214247, 215735, 215778, 215913, 218394, 220583,\n",
       "       220621, 230461, 230462, 230508, 230509, 233394, 233432, 234057,\n",
       "       234073, 234829, 234831, 234875, 234881, 235681, 235724, 235779,\n",
       "       235805, 236380, 236383, 236434, 236435, 239399, 239436, 243014,\n",
       "       243050, 244790, 246727, 246747, 248059, 248094, 250165, 250205,\n",
       "       251002, 251676, 253032, 253033, 253069, 253070, 253742, 253776,\n",
       "       255888, 255893, 262252, 266477, 266478, 266489, 269957])"
      ]
     },
     "execution_count": 11,
     "metadata": {},
     "output_type": "execute_result"
    }
   ],
   "source": [
    "hpTileshpOpSim.pointingSequenceForTile(34, allPointings=None)"
   ]
  },
  {
   "cell_type": "code",
   "execution_count": 13,
   "metadata": {
    "collapsed": false
   },
   "outputs": [
    {
     "name": "stdout",
     "output_type": "stream",
     "text": [
      "10 loops, best of 3: 33.7 ms per loop\n"
     ]
    }
   ],
   "source": [
    "%timeit hpTileshpOpSim.pointingSequenceForTile(33, allPointings=None)"
   ]
  },
  {
   "cell_type": "code",
   "execution_count": 16,
   "metadata": {
    "collapsed": true
   },
   "outputs": [],
   "source": [
    "preCompMap = os.path.join(oss.__path__[0], 'example_data', 'healpixels_micro.db')"
   ]
  },
  {
   "cell_type": "code",
   "execution_count": 17,
   "metadata": {
    "collapsed": false
   },
   "outputs": [],
   "source": [
    "hpTilesMap = snsims.HealpixTiles(nside=1, preComputedMap=preCompMap)"
   ]
  },
  {
   "cell_type": "code",
   "execution_count": 18,
   "metadata": {
    "collapsed": false
   },
   "outputs": [
    {
     "data": {
      "text/plain": [
       "array([171077, 171078, 171079, ..., 272594, 272626, 272656])"
      ]
     },
     "execution_count": 18,
     "metadata": {},
     "output_type": "execute_result"
    }
   ],
   "source": [
    "hpTilesMap.pointingSequenceForTile(10, allPointings=None)"
   ]
  },
  {
   "cell_type": "code",
   "execution_count": 19,
   "metadata": {
    "collapsed": false
   },
   "outputs": [
    {
     "name": "stdout",
     "output_type": "stream",
     "text": [
      "10 loops, best of 3: 32 ms per loop\n"
     ]
    }
   ],
   "source": [
    "%timeit hpOpSim.obsHistIdsForTile(34)"
   ]
  },
  {
   "cell_type": "code",
   "execution_count": 21,
   "metadata": {
    "collapsed": true
   },
   "outputs": [],
   "source": [
    "hpTiles = snsims.HealpixTiles(healpixelizedOpSim=hpOpSim)"
   ]
  },
  {
   "cell_type": "code",
   "execution_count": 22,
   "metadata": {
    "collapsed": false
   },
   "outputs": [
    {
     "data": {
      "text/plain": [
       "array([185874, 185905, 187057, 187059, 187073, 187074, 194374, 194377,\n",
       "       194418, 194421, 195237, 195238, 195303, 195308, 196401, 201725,\n",
       "       203413, 203421, 203439, 203455, 203480, 204360, 204375, 205282,\n",
       "       205298, 206016, 206062, 206977, 210909, 211229, 211262, 212812,\n",
       "       214181, 214218, 214247, 215735, 215778, 215913, 218394, 220583,\n",
       "       220621, 230461, 230462, 230508, 230509, 233394, 233432, 234057,\n",
       "       234073, 234829, 234831, 234875, 234881, 235681, 235724, 235779,\n",
       "       235805, 236380, 236383, 236434, 236435, 239399, 239436, 243014,\n",
       "       243050, 244790, 246727, 246747, 248059, 248094, 250165, 250205,\n",
       "       251002, 251676, 253032, 253033, 253069, 253070, 253742, 253776,\n",
       "       255888, 255893, 262252, 266477, 266478, 266489, 269957])"
      ]
     },
     "execution_count": 22,
     "metadata": {},
     "output_type": "execute_result"
    }
   ],
   "source": [
    "hpTiles.pointingSequenceForTile(34, allPointings=None)"
   ]
  }
 ],
 "metadata": {
  "kernelspec": {
   "display_name": "Python 2",
   "language": "python",
   "name": "python2"
  },
  "language_info": {
   "codemirror_mode": {
    "name": "ipython",
    "version": 2
   },
   "file_extension": ".py",
   "mimetype": "text/x-python",
   "name": "python",
   "nbconvert_exporter": "python",
   "pygments_lexer": "ipython2",
   "version": "2.7.11"
  }
 },
 "nbformat": 4,
 "nbformat_minor": 0
}
