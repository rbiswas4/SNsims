{
 "metadata": {
  "name": "",
  "signature": "sha256:55cdb5765f187a053a7f9f27e3258a0270a47e0bdb2a1953b49763c600848ab7"
 },
 "nbformat": 3,
 "nbformat_minor": 0,
 "worksheets": [
  {
   "cells": [
    {
     "cell_type": "code",
     "collapsed": false,
     "input": [
      "%matplotlib inline\n",
      "import matplotlib.pyplot as plt\n",
      "from sqlalchemy import create_engine\n",
      "\n",
      "import numpy as np\n",
      "import pandas as pd\n",
      "import seaborn as sb\n",
      "import os\n",
      "import healpy as hp"
     ],
     "language": "python",
     "metadata": {},
     "outputs": [],
     "prompt_number": 22
    },
    {
     "cell_type": "code",
     "collapsed": false,
     "input": [
      "from lsst.sims.photUtils import noiseUtilities\n",
      "from lsst.sims.photUtils import Bandpass, Photometry, PhotometryBase"
     ],
     "language": "python",
     "metadata": {},
     "outputs": [],
     "prompt_number": 20
    },
    {
     "cell_type": "code",
     "collapsed": false,
     "input": [
      "engine = create_engine('sqlite:////Users/rbiswas/data/LSST/OpSimData/enigma_1189_sqlite.db')"
     ],
     "language": "python",
     "metadata": {},
     "outputs": [],
     "prompt_number": 5
    },
    {
     "cell_type": "code",
     "collapsed": false,
     "input": [
      "Summary  = pd.read_sql_table('Summary', engine)\n",
      "Proposal = pd.read_sql_table('Proposal', engine)\n",
      "Seeing   = pd.read_sql_table('Seeing', engine)\n",
      "Field    = pd.read_sql_table('Field', engine)"
     ],
     "language": "python",
     "metadata": {},
     "outputs": [],
     "prompt_number": 106
    },
    {
     "cell_type": "code",
     "collapsed": false,
     "input": [
      "Summary.drop_duplicates('expMJD', inplace=True)"
     ],
     "language": "python",
     "metadata": {},
     "outputs": [],
     "prompt_number": 107
    },
    {
     "cell_type": "code",
     "collapsed": false,
     "input": [
      "Summary.shape, Proposal.shape, Seeing.shape, Field.shape"
     ],
     "language": "python",
     "metadata": {},
     "outputs": [
      {
       "metadata": {},
       "output_type": "pyout",
       "prompt_number": 108,
       "text": [
        "((2469307, 45), (5, 6), (210384, 3), (5292, 8))"
       ]
      }
     ],
     "prompt_number": 108
    },
    {
     "cell_type": "code",
     "collapsed": false,
     "input": [
      "Summary.columns"
     ],
     "language": "python",
     "metadata": {},
     "outputs": [
      {
       "metadata": {},
       "output_type": "pyout",
       "prompt_number": 10,
       "text": [
        "Index([u'obsHistID', u'sessionID', u'propID', u'fieldID', u'fieldRA', u'fieldDec', u'filter', u'expDate', u'expMJD', u'night', u'visitTime', u'visitExpTime', u'finRank', u'finSeeing', u'transparency', u'airmass', u'vSkyBright', u'filtSkyBrightness', u'rotSkyPos', u'lst', u'altitude', u'azimuth', u'dist2Moon', u'solarElong', u'moonRA', u'moonDec', u'moonAlt', u'moonAZ', u'moonPhase', u'sunAlt', u'sunAz', u'phaseAngle', u'rScatter', u'mieScatter', u'moonIllum', u'moonBright', u'darkBright', u'rawSeeing', u'wind', u'humidity', u'slewDist', u'slewTime', u'fiveSigmaDepth', u'ditheredRA', u'ditheredDec'], dtype='object')"
       ]
      }
     ],
     "prompt_number": 10
    },
    {
     "cell_type": "code",
     "collapsed": false,
     "input": [
      "# Read in LSST bandpasses.\n",
      "bpdir = os.getenv(\"LSST_THROUGHPUTS_BASELINE\")\n",
      "filterlist = ('u', 'g', 'r', 'i', 'z', 'y')\n",
      "lsstbp = {}\n",
      "for f in filterlist:\n",
      "    lsstbp[f] = Bandpass()\n",
      "    lsstbp[f].readThroughput(os.path.join(bpdir, 'total_'+f+'.dat'))\n",
      "#dt, t = dtime(t)"
     ],
     "language": "python",
     "metadata": {},
     "outputs": [],
     "prompt_number": 45
    },
    {
     "cell_type": "code",
     "collapsed": false,
     "input": [
      "# Add gamma to dataframe\n",
      "Summary['gamma'] = Summary[['filter','fiveSigmaDepth','visitExpTime']].apply(lambda x:\n",
      "                                                    noiseUtilities.calcGamma(bandpass=lsstbp[x[0]], m5=x[1], expTime=x[2]), \n",
      "                                                    axis=1)"
     ],
     "language": "python",
     "metadata": {},
     "outputs": [],
     "prompt_number": 130
    },
    {
     "cell_type": "code",
     "collapsed": false,
     "input": [
      "fig, ax = plt.subplots(3, 2, sharex=True, sharey=True)\n",
      "Summary['gamma'].hist(by=Summary['filter'], histtype='step', lw=2., color='k', normed=1, bins=20, ax=ax)"
     ],
     "language": "python",
     "metadata": {},
     "outputs": [
      {
       "metadata": {},
       "output_type": "pyout",
       "prompt_number": 192,
       "text": [
        "array([<matplotlib.axes._subplots.AxesSubplot object at 0x127037dd0>,\n",
        "       <matplotlib.axes._subplots.AxesSubplot object at 0x12a80db90>,\n",
        "       <matplotlib.axes._subplots.AxesSubplot object at 0x12eb756d0>,\n",
        "       <matplotlib.axes._subplots.AxesSubplot object at 0x12f174e10>,\n",
        "       <matplotlib.axes._subplots.AxesSubplot object at 0x12f85cb10>,\n",
        "       <matplotlib.axes._subplots.AxesSubplot object at 0x12f1f0d10>], dtype=object)"
       ]
      },
      {
       "metadata": {},
       "output_type": "display_data",
       "png": "[encoded data removed]",
       "text": [
        "<matplotlib.figure.Figure at 0x12c6f69d0>"
       ]
      }
     ],
     "prompt_number": 192
    },
    {
     "cell_type": "code",
     "collapsed": false,
     "input": [
      "fig.savefig('GammaHist.pdf')"
     ],
     "language": "python",
     "metadata": {},
     "outputs": [],
     "prompt_number": 190
    },
    {
     "cell_type": "code",
     "collapsed": false,
     "input": [
      "type(ax)"
     ],
     "language": "python",
     "metadata": {},
     "outputs": [
      {
       "metadata": {},
       "output_type": "pyout",
       "prompt_number": 160,
       "text": [
        "numpy.ndarray"
       ]
      }
     ],
     "prompt_number": 160
    },
    {
     "cell_type": "code",
     "collapsed": false,
     "input": [
      "plt.savefig('gammaHists.pdf')"
     ],
     "language": "python",
     "metadata": {},
     "outputs": [
      {
       "metadata": {},
       "output_type": "display_data",
       "text": [
        "<matplotlib.figure.Figure at 0x1a4198490>"
       ]
      }
     ],
     "prompt_number": 158
    },
    {
     "cell_type": "code",
     "collapsed": false,
     "input": [
      "fs = Summary.groupby('filter')"
     ],
     "language": "python",
     "metadata": {},
     "outputs": [],
     "prompt_number": 131
    },
    {
     "cell_type": "code",
     "collapsed": false,
     "input": [
      "fs.groups.keys()"
     ],
     "language": "python",
     "metadata": {},
     "outputs": [
      {
       "metadata": {},
       "output_type": "pyout",
       "prompt_number": 132,
       "text": [
        "[u'g', u'i', u'r', u'u', u'y', u'z']"
       ]
      }
     ],
     "prompt_number": 132
    },
    {
     "cell_type": "code",
     "collapsed": false,
     "input": [
      "fig, ax  = plt.subplots()\n",
      "zip (fs.groups.keys(), map(lambda x: fs.get_group(x)['gamma'].hist(histtype='step', lw=2, normed=1, label=x, ax=ax), fs.groups.keys()))\n",
      "ax.legend(loc='best')\n",
      "ax.axvline(0.037, lw=2., color='b')\n",
      "ax.axvline(0.038, lw=2., color='g')\n",
      "ax.axvline(0.039, lw=2., color='r')\n",
      "ax.axvline(0.039, lw=2., color='m')\n",
      "ax.axvline(0.040, lw=2., color='y')\n",
      "ax.axvline(0.040, lw=2., color='c')"
     ],
     "language": "python",
     "metadata": {},
     "outputs": [
      {
       "metadata": {},
       "output_type": "pyout",
       "prompt_number": 205,
       "text": [
        "<matplotlib.lines.Line2D at 0x13760a150>"
       ]
      },
      {
       "metadata": {},
       "output_type": "display_data",
       "png": "[encoded data removed]",
       "text": [
        "<matplotlib.figure.Figure at 0x139d7f490>"
       ]
      }
     ],
     "prompt_number": 205
    },
    {
     "cell_type": "code",
     "collapsed": false,
     "input": [
      "fig.savefig('Gamma_paperVals_hist.pdf')"
     ],
     "language": "python",
     "metadata": {},
     "outputs": [],
     "prompt_number": 206
    }
   ],
   "metadata": {}
  }
 ]
}