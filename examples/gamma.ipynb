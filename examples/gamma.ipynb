{
 "cells": [
  {
   "cell_type": "code",
   "execution_count": 1,
   "metadata": {
    "collapsed": false
   },
   "outputs": [],
   "source": [
    "%matplotlib inline\n",
    "import matplotlib.pyplot as plt\n",
    "from sqlalchemy import create_engine\n",
    "\n",
    "import numpy as np\n",
    "import pandas as pd\n",
    "import seaborn as sb\n",
    "import os\n",
    "import healpy as hp"
   ]
  },
  {
   "cell_type": "code",
   "execution_count": 3,
   "metadata": {
    "collapsed": false
   },
   "outputs": [],
   "source": [
    "from lsst.sims.photUtils import noiseUtilities\n",
    "from lsst.sims.photUtils import Bandpass, Photometry#, PhotometryBase"
   ]
  },
  {
   "cell_type": "code",
   "execution_count": 5,
   "metadata": {
    "collapsed": false
   },
   "outputs": [],
   "source": [
    "engine = create_engine('sqlite:////Users/rbiswas/data/LSST/OpSimData/enigma_1189_sqlite.db')"
   ]
  },
  {
   "cell_type": "code",
   "execution_count": 6,
   "metadata": {
    "collapsed": false
   },
   "outputs": [],
   "source": [
    "Summary  = pd.read_sql_table('Summary', engine)\n",
    "Proposal = pd.read_sql_table('Proposal', engine)\n",
    "Seeing   = pd.read_sql_table('Seeing', engine)\n",
    "Field    = pd.read_sql_table('Field', engine)"
   ]
  },
  {
   "cell_type": "code",
   "execution_count": 7,
   "metadata": {
    "collapsed": false
   },
   "outputs": [],
   "source": [
    "Summary.drop_duplicates('expMJD', inplace=True)"
   ]
  },
  {
   "cell_type": "code",
   "execution_count": 8,
   "metadata": {
    "collapsed": false
   },
   "outputs": [
    {
     "data": {
      "text/plain": [
       "((2469307, 45), (5, 6), (210384, 3), (5292, 8))"
      ]
     },
     "execution_count": 8,
     "metadata": {},
     "output_type": "execute_result"
    }
   ],
   "source": [
    "Summary.shape, Proposal.shape, Seeing.shape, Field.shape"
   ]
  },
  {
   "cell_type": "code",
   "execution_count": 9,
   "metadata": {
    "collapsed": false
   },
   "outputs": [
    {
     "data": {
      "text/plain": [
       "Index([u'obsHistID', u'sessionID', u'propID', u'fieldID', u'fieldRA', u'fieldDec', u'filter', u'expDate', u'expMJD', u'night', u'visitTime', u'visitExpTime', u'finRank', u'finSeeing', u'transparency', u'airmass', u'vSkyBright', u'filtSkyBrightness', u'rotSkyPos', u'lst', u'altitude', u'azimuth', u'dist2Moon', u'solarElong', u'moonRA', u'moonDec', u'moonAlt', u'moonAZ', u'moonPhase', u'sunAlt', u'sunAz', u'phaseAngle', u'rScatter', u'mieScatter', u'moonIllum', u'moonBright', u'darkBright', u'rawSeeing', u'wind', u'humidity', u'slewDist', u'slewTime', u'fiveSigmaDepth', u'ditheredRA', u'ditheredDec'], dtype='object')"
      ]
     },
     "execution_count": 9,
     "metadata": {},
     "output_type": "execute_result"
    }
   ],
   "source": [
    "Summary.columns"
   ]
  },
  {
   "cell_type": "code",
   "execution_count": 10,
   "metadata": {
    "collapsed": false
   },
   "outputs": [],
   "source": [
    "# Read in LSST bandpasses.\n",
    "bpdir = os.getenv(\"LSST_THROUGHPUTS_BASELINE\")\n",
    "filterlist = ('u', 'g', 'r', 'i', 'z', 'y')\n",
    "lsstbp = {}\n",
    "for f in filterlist:\n",
    "    lsstbp[f] = Bandpass()\n",
    "    lsstbp[f].readThroughput(os.path.join(bpdir, 'total_'+f+'.dat'))\n",
    "#dt, t = dtime(t)"
   ]
  },
  {
   "cell_type": "code",
   "execution_count": 13,
   "metadata": {
    "collapsed": false
   },
   "outputs": [
    {
     "data": {
      "text/plain": [
       "array([  1.18805065e-08,   1.40275873e-08,   1.63586274e-08, ...,\n",
       "         0.00000000e+00,   0.00000000e+00,   0.00000000e+00])"
      ]
     },
     "execution_count": 13,
     "metadata": {},
     "output_type": "execute_result"
    }
   ],
   "source": [
    "lsstbp['g'].sb"
   ]
  },
  {
   "cell_type": "code",
   "execution_count": 15,
   "metadata": {
    "collapsed": true
   },
   "outputs": [],
   "source": [
    "from lsst.sims.photUtils.SignalToNoise import calcGamma"
   ]
  },
  {
   "cell_type": "code",
   "execution_count": 19,
   "metadata": {
    "collapsed": true
   },
   "outputs": [],
   "source": [
    "from lsst.sims.photUtils.PhotometricParameters import PhotometricParameters"
   ]
  },
  {
   "cell_type": "code",
   "execution_count": 20,
   "metadata": {
    "collapsed": true
   },
   "outputs": [],
   "source": [
    "phot = PhotometricParameters()"
   ]
  },
  {
   "cell_type": "code",
   "execution_count": 25,
   "metadata": {
    "collapsed": true
   },
   "outputs": [],
   "source": [
    "gamm = lambda x: calcGamma(bandpass=lsstbp[x[0]], m5=x[1], photParams=phot)"
   ]
  },
  {
   "cell_type": "code",
   "execution_count": 29,
   "metadata": {
    "collapsed": false
   },
   "outputs": [
    {
     "data": {
      "text/plain": [
       "obsHistID           1\n",
       "sessionID        1189\n",
       "propID            364\n",
       "fieldID           316\n",
       "fieldRA      1.676483\n",
       "Name: 0, dtype: object"
      ]
     },
     "execution_count": 29,
     "metadata": {},
     "output_type": "execute_result"
    }
   ],
   "source": [
    "Summary.ix[0]"
   ]
  },
  {
   "cell_type": "code",
   "execution_count": 30,
   "metadata": {
    "collapsed": false
   },
   "outputs": [],
   "source": [
    "# Add gamma to dataframe\n",
    "Summary['gamma'] = Summary[['filter','fiveSigmaDepth']].apply(lambda x:\n",
    "                                                    calcGamma(bandpass=lsstbp[x[0]], m5=x[1], photParams=phot), \n",
    "                                                    axis=1)"
   ]
  },
  {
   "cell_type": "code",
   "execution_count": 31,
   "metadata": {
    "collapsed": false
   },
   "outputs": [],
   "source": [
    "Summary['N0sq'] = Summary['gamma'] * 10.0 **(-0.2 * Summary['fiveSigmaDepth'])\n",
    "Summary['alpha'] = Summary['gamma'] "
   ]
  },
  {
   "cell_type": "code",
   "execution_count": 32,
   "metadata": {
    "collapsed": false
   },
   "outputs": [
    {
     "data": {
      "text/plain": [
       "array([[<matplotlib.axes._subplots.AxesSubplot object at 0x10b674cd0>,\n",
       "        <matplotlib.axes._subplots.AxesSubplot object at 0x185bfc910>],\n",
       "       [<matplotlib.axes._subplots.AxesSubplot object at 0x12e1f9350>,\n",
       "        <matplotlib.axes._subplots.AxesSubplot object at 0x183db05d0>],\n",
       "       [<matplotlib.axes._subplots.AxesSubplot object at 0x18339d710>,\n",
       "        <matplotlib.axes._subplots.AxesSubplot object at 0x1822a9410>]], dtype=object)"
      ]
     },
     "execution_count": 32,
     "metadata": {},
     "output_type": "execute_result"
    },
    {
     "data": {
      "image/png": "[encoded data removed]",
      "text/plain": [
       "<matplotlib.figure.Figure at 0x12db47e10>"
      ]
     },
     "metadata": {},
     "output_type": "display_data"
    }
   ],
   "source": [
    "Summary['alpha'].hist(by=Summary['filter'], histtype='step', lw=2.0, color='k', sharex=True, sharey=True)"
   ]
  },
  {
   "cell_type": "code",
   "execution_count": null,
   "metadata": {
    "collapsed": false
   },
   "outputs": [],
   "source": [
    "fig, ax = plt.subplots(3, 2, sharex=True, sharey=True)\n",
    "Summary['gamma'].hist(by=Summary['filter'], histtype='step', lw=2., color='k', normed=1, bins=20, ax=ax)"
   ]
  },
  {
   "cell_type": "code",
   "execution_count": 41,
   "metadata": {
    "collapsed": false
   },
   "outputs": [
    {
     "name": "stderr",
     "output_type": "stream",
     "text": [
      "/usr/local/manual/anaconda/lib/python2.7/site-packages/pandas/io/pytables.py:2558: PerformanceWarning: \n",
      "your performance may suffer as PyTables will pickle object types that it cannot\n",
      "map directly to c-types [inferred_type->mixed,key->axis0] [items->None]\n",
      "\n",
      "  warnings.warn(ws, PerformanceWarning)\n",
      "/usr/local/manual/anaconda/lib/python2.7/site-packages/pandas/io/pytables.py:2558: PerformanceWarning: \n",
      "your performance may suffer as PyTables will pickle object types that it cannot\n",
      "map directly to c-types [inferred_type->mixed,key->block0_items] [items->None]\n",
      "\n",
      "  warnings.warn(ws, PerformanceWarning)\n",
      "/usr/local/manual/anaconda/lib/python2.7/site-packages/pandas/io/pytables.py:2558: PerformanceWarning: \n",
      "your performance may suffer as PyTables will pickle object types that it cannot\n",
      "map directly to c-types [inferred_type->unicode,key->block1_items] [items->None]\n",
      "\n",
      "  warnings.warn(ws, PerformanceWarning)\n",
      "/usr/local/manual/anaconda/lib/python2.7/site-packages/pandas/io/pytables.py:2558: PerformanceWarning: \n",
      "your performance may suffer as PyTables will pickle object types that it cannot\n",
      "map directly to c-types [inferred_type->unicode,key->block2_values] [items->[u'filter']]\n",
      "\n",
      "  warnings.warn(ws, PerformanceWarning)\n",
      "/usr/local/manual/anaconda/lib/python2.7/site-packages/pandas/io/pytables.py:2558: PerformanceWarning: \n",
      "your performance may suffer as PyTables will pickle object types that it cannot\n",
      "map directly to c-types [inferred_type->unicode,key->block2_items] [items->None]\n",
      "\n",
      "  warnings.warn(ws, PerformanceWarning)\n"
     ]
    }
   ],
   "source": [
    "Summary.to_hdf('new_storage.h5', 'table')"
   ]
  },
  {
   "cell_type": "markdown",
   "metadata": {},
   "source": [
    "## Scratch"
   ]
  },
  {
   "cell_type": "code",
   "execution_count": 131,
   "metadata": {
    "collapsed": false
   },
   "outputs": [],
   "source": [
    "fs = Summary.groupby('filter')"
   ]
  },
  {
   "cell_type": "code",
   "execution_count": 132,
   "metadata": {
    "collapsed": false
   },
   "outputs": [
    {
     "data": {
      "text/plain": [
       "[u'g', u'i', u'r', u'u', u'y', u'z']"
      ]
     },
     "execution_count": 132,
     "metadata": {},
     "output_type": "execute_result"
    }
   ],
   "source": [
    "fs.groups.keys()"
   ]
  },
  {
   "cell_type": "code",
   "execution_count": 205,
   "metadata": {
    "collapsed": false
   },
   "outputs": [
    {
     "data": {
      "text/plain": [
       "<matplotlib.lines.Line2D at 0x13760a150>"
      ]
     },
     "execution_count": 205,
     "metadata": {},
     "output_type": "execute_result"
    },
    {
     "data": {
      "image/png": "[encoded data removed]",
      "text/plain": [
       "<matplotlib.figure.Figure at 0x139d7f490>"
      ]
     },
     "metadata": {},
     "output_type": "display_data"
    }
   ],
   "source": [
    "fig, ax  = plt.subplots()\n",
    "zip (fs.groups.keys(), map(lambda x: fs.get_group(x)['gamma'].hist(histtype='step', lw=2, normed=1, label=x, ax=ax), fs.groups.keys()))\n",
    "ax.legend(loc='best')\n",
    "ax.axvline(0.037, lw=2., color='b')\n",
    "ax.axvline(0.038, lw=2., color='g')\n",
    "ax.axvline(0.039, lw=2., color='r')\n",
    "ax.axvline(0.039, lw=2., color='m')\n",
    "ax.axvline(0.040, lw=2., color='y')\n",
    "ax.axvline(0.040, lw=2., color='c')"
   ]
  },
  {
   "cell_type": "code",
   "execution_count": 206,
   "metadata": {
    "collapsed": false
   },
   "outputs": [],
   "source": [
    "fig.savefig('Gamma_paperVals_hist.pdf')"
   ]
  }
 ],
 "metadata": {
  "kernelspec": {
   "display_name": "Python 2",
   "language": "python",
   "name": "python2"
  },
  "language_info": {
   "codemirror_mode": {
    "name": "ipython",
    "version": 2
   },
   "file_extension": ".py",
   "mimetype": "text/x-python",
   "name": "python",
   "nbconvert_exporter": "python",
   "pygments_lexer": "ipython2",
   "version": "2.7.10"
  }
 },
 "nbformat": 4,
 "nbformat_minor": 0
}
