{
 "metadata": {
  "name": "",
  "signature": "sha256:674ae70589af6dbe9ce695e451291d9587b82c7fd6fe63d02c812c94ded860d0"
 },
 "nbformat": 3,
 "nbformat_minor": 0,
 "worksheets": [
  {
   "cells": [
    {
     "cell_type": "code",
     "collapsed": false,
     "input": [
      "%matplotlib inline\n",
      "import matplotlib.pyplot as plt\n",
      "from sqlalchemy import create_engine\n",
      "\n",
      "import numpy as np\n",
      "import pandas as pd\n",
      "import seaborn as sb\n",
      "import os\n",
      "import healpy as hp"
     ],
     "language": "python",
     "metadata": {},
     "outputs": [],
     "prompt_number": 1
    },
    {
     "cell_type": "code",
     "collapsed": false,
     "input": [
      "Summary = pd.read_hdf('storage.h5', 'table')"
     ],
     "language": "python",
     "metadata": {},
     "outputs": [],
     "prompt_number": 2
    },
    {
     "cell_type": "code",
     "collapsed": false,
     "input": [
      "Summary.finSeeing"
     ],
     "language": "python",
     "metadata": {},
     "outputs": [
      {
       "html": [
        "<div style=\"max-height:1000px;max-width:1500px;overflow:auto;\">\n",
        "<table border=\"1\" class=\"dataframe\">\n",
        "  <thead>\n",
        "    <tr style=\"text-align: right;\">\n",
        "      <th></th>\n",
        "      <th>obsHistID</th>\n",
        "      <th>sessionID</th>\n",
        "      <th>propID</th>\n",
        "      <th>fieldID</th>\n",
        "      <th>fieldRA</th>\n",
        "      <th>fieldDec</th>\n",
        "      <th>filter</th>\n",
        "      <th>expDate</th>\n",
        "      <th>expMJD</th>\n",
        "      <th>night</th>\n",
        "      <th>...</th>\n",
        "      <th>wind</th>\n",
        "      <th>humidity</th>\n",
        "      <th>slewDist</th>\n",
        "      <th>slewTime</th>\n",
        "      <th>fiveSigmaDepth</th>\n",
        "      <th>ditheredRA</th>\n",
        "      <th>ditheredDec</th>\n",
        "      <th>gamma</th>\n",
        "      <th>N0sq</th>\n",
        "      <th>alpha</th>\n",
        "    </tr>\n",
        "  </thead>\n",
        "  <tbody>\n",
        "    <tr>\n",
        "      <th>0</th>\n",
        "      <td>1</td>\n",
        "      <td>1189</td>\n",
        "      <td>364</td>\n",
        "      <td>316</td>\n",
        "      <td>1.676483</td>\n",
        "      <td>-1.082473</td>\n",
        "      <td>y</td>\n",
        "      <td>2771</td>\n",
        "      <td>49353.032079</td>\n",
        "      <td>0</td>\n",
        "      <td>...</td>\n",
        "      <td>0</td>\n",
        "      <td>0</td>\n",
        "      <td>1.620307</td>\n",
        "      <td>0.000000</td>\n",
        "      <td>21.084291</td>\n",
        "      <td>1.643930</td>\n",
        "      <td>-1.108924</td>\n",
        "      <td>0.039924</td>\n",
        "      <td>0.000002</td>\n",
        "      <td>0.039924</td>\n",
        "    </tr>\n",
        "    <tr>\n",
        "      <th>1</th>\n",
        "      <td>2</td>\n",
        "      <td>1189</td>\n",
        "      <td>364</td>\n",
        "      <td>372</td>\n",
        "      <td>1.694120</td>\n",
        "      <td>-1.033972</td>\n",
        "      <td>y</td>\n",
        "      <td>2810</td>\n",
        "      <td>49353.032525</td>\n",
        "      <td>0</td>\n",
        "      <td>...</td>\n",
        "      <td>0</td>\n",
        "      <td>0</td>\n",
        "      <td>0.049266</td>\n",
        "      <td>4.542362</td>\n",
        "      <td>21.088257</td>\n",
        "      <td>1.664257</td>\n",
        "      <td>-1.060423</td>\n",
        "      <td>0.039924</td>\n",
        "      <td>0.000002</td>\n",
        "      <td>0.039924</td>\n",
        "    </tr>\n",
        "    <tr>\n",
        "      <th>2</th>\n",
        "      <td>3</td>\n",
        "      <td>1189</td>\n",
        "      <td>364</td>\n",
        "      <td>441</td>\n",
        "      <td>1.708513</td>\n",
        "      <td>-0.985271</td>\n",
        "      <td>y</td>\n",
        "      <td>2848</td>\n",
        "      <td>49353.032971</td>\n",
        "      <td>0</td>\n",
        "      <td>...</td>\n",
        "      <td>0</td>\n",
        "      <td>0</td>\n",
        "      <td>0.049298</td>\n",
        "      <td>4.561422</td>\n",
        "      <td>21.091100</td>\n",
        "      <td>1.680878</td>\n",
        "      <td>-1.011722</td>\n",
        "      <td>0.039924</td>\n",
        "      <td>0.000002</td>\n",
        "      <td>0.039924</td>\n",
        "    </tr>\n",
        "    <tr>\n",
        "      <th>3</th>\n",
        "      <td>4</td>\n",
        "      <td>1189</td>\n",
        "      <td>364</td>\n",
        "      <td>505</td>\n",
        "      <td>1.720374</td>\n",
        "      <td>-0.936476</td>\n",
        "      <td>y</td>\n",
        "      <td>2887</td>\n",
        "      <td>49353.033417</td>\n",
        "      <td>0</td>\n",
        "      <td>...</td>\n",
        "      <td>0</td>\n",
        "      <td>0</td>\n",
        "      <td>0.049266</td>\n",
        "      <td>4.570186</td>\n",
        "      <td>21.092714</td>\n",
        "      <td>1.694604</td>\n",
        "      <td>-0.962927</td>\n",
        "      <td>0.039924</td>\n",
        "      <td>0.000002</td>\n",
        "      <td>0.039924</td>\n",
        "    </tr>\n",
        "    <tr>\n",
        "      <th>4</th>\n",
        "      <td>5</td>\n",
        "      <td>1189</td>\n",
        "      <td>364</td>\n",
        "      <td>587</td>\n",
        "      <td>1.730248</td>\n",
        "      <td>-0.887672</td>\n",
        "      <td>y</td>\n",
        "      <td>2925</td>\n",
        "      <td>49353.033864</td>\n",
        "      <td>0</td>\n",
        "      <td>...</td>\n",
        "      <td>0</td>\n",
        "      <td>0</td>\n",
        "      <td>0.049177</td>\n",
        "      <td>4.568530</td>\n",
        "      <td>21.093091</td>\n",
        "      <td>1.706054</td>\n",
        "      <td>-0.914123</td>\n",
        "      <td>0.039924</td>\n",
        "      <td>0.000002</td>\n",
        "      <td>0.039924</td>\n",
        "    </tr>\n",
        "  </tbody>\n",
        "</table>\n",
        "<p>5 rows \u00d7 48 columns</p>\n",
        "</div>"
       ],
       "metadata": {},
       "output_type": "pyout",
       "prompt_number": 3,
       "text": [
        "   obsHistID  sessionID  propID  fieldID   fieldRA  fieldDec filter  expDate  \\\n",
        "0          1       1189     364      316  1.676483 -1.082473      y     2771   \n",
        "1          2       1189     364      372  1.694120 -1.033972      y     2810   \n",
        "2          3       1189     364      441  1.708513 -0.985271      y     2848   \n",
        "3          4       1189     364      505  1.720374 -0.936476      y     2887   \n",
        "4          5       1189     364      587  1.730248 -0.887672      y     2925   \n",
        "\n",
        "         expMJD  night    ...     wind  humidity  slewDist  slewTime  \\\n",
        "0  49353.032079      0    ...        0         0  1.620307  0.000000   \n",
        "1  49353.032525      0    ...        0         0  0.049266  4.542362   \n",
        "2  49353.032971      0    ...        0         0  0.049298  4.561422   \n",
        "3  49353.033417      0    ...        0         0  0.049266  4.570186   \n",
        "4  49353.033864      0    ...        0         0  0.049177  4.568530   \n",
        "\n",
        "   fiveSigmaDepth  ditheredRA  ditheredDec     gamma      N0sq     alpha  \n",
        "0       21.084291    1.643930    -1.108924  0.039924  0.000002  0.039924  \n",
        "1       21.088257    1.664257    -1.060423  0.039924  0.000002  0.039924  \n",
        "2       21.091100    1.680878    -1.011722  0.039924  0.000002  0.039924  \n",
        "3       21.092714    1.694604    -0.962927  0.039924  0.000002  0.039924  \n",
        "4       21.093091    1.706054    -0.914123  0.039924  0.000002  0.039924  \n",
        "\n",
        "[5 rows x 48 columns]"
       ]
      }
     ],
     "prompt_number": 3
    },
    {
     "cell_type": "code",
     "collapsed": false,
     "input": [
      "def add_simlibCols(opsimtable, pixSize=0.2):\n",
      "    \n",
      "    opsim_seeing = opsimtable['finSeeing']\n",
      "    # area = (opsim_seeing, pixsize=0.2):\n",
      "\n",
      "    opsimtable['simLibPsf'] = (opsim_seeing/2.35)/pixsize\n",
      "   \n",
      "    area = (1.51 * opsim_seeing)**2.\n",
      "    return opsimtable"
     ],
     "language": "python",
     "metadata": {},
     "outputs": []
    },
    {
     "cell_type": "code",
     "collapsed": false,
     "input": [
      "t = Summary.loc[Summary['obsHistID'].isin(range(5))]"
     ],
     "language": "python",
     "metadata": {},
     "outputs": [],
     "prompt_number": 11
    },
    {
     "cell_type": "code",
     "collapsed": false,
     "input": [
      "t"
     ],
     "language": "python",
     "metadata": {},
     "outputs": [
      {
       "html": [
        "<div style=\"max-height:1000px;max-width:1500px;overflow:auto;\">\n",
        "<table border=\"1\" class=\"dataframe\">\n",
        "  <thead>\n",
        "    <tr style=\"text-align: right;\">\n",
        "      <th></th>\n",
        "      <th>obsHistID</th>\n",
        "      <th>sessionID</th>\n",
        "      <th>propID</th>\n",
        "      <th>fieldID</th>\n",
        "      <th>fieldRA</th>\n",
        "      <th>fieldDec</th>\n",
        "      <th>filter</th>\n",
        "      <th>expDate</th>\n",
        "      <th>expMJD</th>\n",
        "      <th>night</th>\n",
        "      <th>...</th>\n",
        "      <th>wind</th>\n",
        "      <th>humidity</th>\n",
        "      <th>slewDist</th>\n",
        "      <th>slewTime</th>\n",
        "      <th>fiveSigmaDepth</th>\n",
        "      <th>ditheredRA</th>\n",
        "      <th>ditheredDec</th>\n",
        "      <th>gamma</th>\n",
        "      <th>N0sq</th>\n",
        "      <th>alpha</th>\n",
        "    </tr>\n",
        "  </thead>\n",
        "  <tbody>\n",
        "    <tr>\n",
        "      <th>0</th>\n",
        "      <td>1</td>\n",
        "      <td>1189</td>\n",
        "      <td>364</td>\n",
        "      <td>316</td>\n",
        "      <td>1.676483</td>\n",
        "      <td>-1.082473</td>\n",
        "      <td>y</td>\n",
        "      <td>2771</td>\n",
        "      <td>49353.032079</td>\n",
        "      <td>0</td>\n",
        "      <td>...</td>\n",
        "      <td>0</td>\n",
        "      <td>0</td>\n",
        "      <td>1.620307</td>\n",
        "      <td>0.000000</td>\n",
        "      <td>21.084291</td>\n",
        "      <td>1.643930</td>\n",
        "      <td>-1.108924</td>\n",
        "      <td>0.039924</td>\n",
        "      <td>0.000002</td>\n",
        "      <td>0.039924</td>\n",
        "    </tr>\n",
        "    <tr>\n",
        "      <th>1</th>\n",
        "      <td>2</td>\n",
        "      <td>1189</td>\n",
        "      <td>364</td>\n",
        "      <td>372</td>\n",
        "      <td>1.694120</td>\n",
        "      <td>-1.033972</td>\n",
        "      <td>y</td>\n",
        "      <td>2810</td>\n",
        "      <td>49353.032525</td>\n",
        "      <td>0</td>\n",
        "      <td>...</td>\n",
        "      <td>0</td>\n",
        "      <td>0</td>\n",
        "      <td>0.049266</td>\n",
        "      <td>4.542362</td>\n",
        "      <td>21.088257</td>\n",
        "      <td>1.664257</td>\n",
        "      <td>-1.060423</td>\n",
        "      <td>0.039924</td>\n",
        "      <td>0.000002</td>\n",
        "      <td>0.039924</td>\n",
        "    </tr>\n",
        "    <tr>\n",
        "      <th>2</th>\n",
        "      <td>3</td>\n",
        "      <td>1189</td>\n",
        "      <td>364</td>\n",
        "      <td>441</td>\n",
        "      <td>1.708513</td>\n",
        "      <td>-0.985271</td>\n",
        "      <td>y</td>\n",
        "      <td>2848</td>\n",
        "      <td>49353.032971</td>\n",
        "      <td>0</td>\n",
        "      <td>...</td>\n",
        "      <td>0</td>\n",
        "      <td>0</td>\n",
        "      <td>0.049298</td>\n",
        "      <td>4.561422</td>\n",
        "      <td>21.091100</td>\n",
        "      <td>1.680878</td>\n",
        "      <td>-1.011722</td>\n",
        "      <td>0.039924</td>\n",
        "      <td>0.000002</td>\n",
        "      <td>0.039924</td>\n",
        "    </tr>\n",
        "    <tr>\n",
        "      <th>3</th>\n",
        "      <td>4</td>\n",
        "      <td>1189</td>\n",
        "      <td>364</td>\n",
        "      <td>505</td>\n",
        "      <td>1.720374</td>\n",
        "      <td>-0.936476</td>\n",
        "      <td>y</td>\n",
        "      <td>2887</td>\n",
        "      <td>49353.033417</td>\n",
        "      <td>0</td>\n",
        "      <td>...</td>\n",
        "      <td>0</td>\n",
        "      <td>0</td>\n",
        "      <td>0.049266</td>\n",
        "      <td>4.570186</td>\n",
        "      <td>21.092714</td>\n",
        "      <td>1.694604</td>\n",
        "      <td>-0.962927</td>\n",
        "      <td>0.039924</td>\n",
        "      <td>0.000002</td>\n",
        "      <td>0.039924</td>\n",
        "    </tr>\n",
        "  </tbody>\n",
        "</table>\n",
        "<p>4 rows \u00d7 48 columns</p>\n",
        "</div>"
       ],
       "metadata": {},
       "output_type": "pyout",
       "prompt_number": 13,
       "text": [
        "   obsHistID  sessionID  propID  fieldID   fieldRA  fieldDec filter  expDate  \\\n",
        "0          1       1189     364      316  1.676483 -1.082473      y     2771   \n",
        "1          2       1189     364      372  1.694120 -1.033972      y     2810   \n",
        "2          3       1189     364      441  1.708513 -0.985271      y     2848   \n",
        "3          4       1189     364      505  1.720374 -0.936476      y     2887   \n",
        "\n",
        "         expMJD  night    ...     wind  humidity  slewDist  slewTime  \\\n",
        "0  49353.032079      0    ...        0         0  1.620307  0.000000   \n",
        "1  49353.032525      0    ...        0         0  0.049266  4.542362   \n",
        "2  49353.032971      0    ...        0         0  0.049298  4.561422   \n",
        "3  49353.033417      0    ...        0         0  0.049266  4.570186   \n",
        "\n",
        "   fiveSigmaDepth  ditheredRA  ditheredDec     gamma      N0sq     alpha  \n",
        "0       21.084291    1.643930    -1.108924  0.039924  0.000002  0.039924  \n",
        "1       21.088257    1.664257    -1.060423  0.039924  0.000002  0.039924  \n",
        "2       21.091100    1.680878    -1.011722  0.039924  0.000002  0.039924  \n",
        "3       21.092714    1.694604    -0.962927  0.039924  0.000002  0.039924  \n",
        "\n",
        "[4 rows x 48 columns]"
       ]
      }
     ],
     "prompt_number": 13
    },
    {
     "cell_type": "code",
     "collapsed": true,
     "input": [
      "Summary.loc[Summary[]]"
     ],
     "language": "python",
     "metadata": {},
     "outputs": []
    },
    {
     "cell_type": "code",
     "collapsed": false,
     "input": [
      "fig, ax = plt.subplots(2,3)"
     ],
     "language": "python",
     "metadata": {},
     "outputs": [
      {
       "metadata": {},
       "output_type": "display_data",
       "png": "[encoded data removed]",
       "text": [
        "<matplotlib.figure.Figure at 0x157c77390>"
       ]
      }
     ],
     "prompt_number": 75
    },
    {
     "cell_type": "code",
     "collapsed": false,
     "input": [],
     "language": "python",
     "metadata": {},
     "outputs": []
    },
    {
     "cell_type": "code",
     "collapsed": false,
     "input": [
      "Summary.fiveSigmaDepth.hist(by=Summary['filter'], ax=ax, histtype='step', color='b', lw=2.0)"
     ],
     "language": "python",
     "metadata": {},
     "outputs": [
      {
       "metadata": {},
       "output_type": "pyout",
       "prompt_number": 76,
       "text": [
        "array([<matplotlib.axes._subplots.AxesSubplot object at 0x157d84290>,\n",
        "       <matplotlib.axes._subplots.AxesSubplot object at 0x14f9b5990>,\n",
        "       <matplotlib.axes._subplots.AxesSubplot object at 0x14f9f97d0>,\n",
        "       <matplotlib.axes._subplots.AxesSubplot object at 0x159f07d50>,\n",
        "       <matplotlib.axes._subplots.AxesSubplot object at 0x159ed30d0>,\n",
        "       <matplotlib.axes._subplots.AxesSubplot object at 0x14fa16b90>], dtype=object)"
       ]
      }
     ],
     "prompt_number": 76
    },
    {
     "cell_type": "code",
     "collapsed": false,
     "input": [
      "fig"
     ],
     "language": "python",
     "metadata": {},
     "outputs": [
      {
       "metadata": {},
       "output_type": "pyout",
       "png": "[encoded data removed]",
       "prompt_number": 78,
       "text": [
        "<matplotlib.figure.Figure at 0x157c77390>"
       ]
      }
     ],
     "prompt_number": 78
    },
    {
     "cell_type": "code",
     "collapsed": false,
     "input": [
      "Summary.filtSkyBrightness.hist(by=Summary['filter'], ax=ax, color='r', lw=2.0, histtype='step')"
     ],
     "language": "python",
     "metadata": {},
     "outputs": [
      {
       "metadata": {},
       "output_type": "pyout",
       "prompt_number": 77,
       "text": [
        "array([<matplotlib.axes._subplots.AxesSubplot object at 0x157d84290>,\n",
        "       <matplotlib.axes._subplots.AxesSubplot object at 0x14f9b5990>,\n",
        "       <matplotlib.axes._subplots.AxesSubplot object at 0x14f9f97d0>,\n",
        "       <matplotlib.axes._subplots.AxesSubplot object at 0x159f07d50>,\n",
        "       <matplotlib.axes._subplots.AxesSubplot object at 0x159ed30d0>,\n",
        "       <matplotlib.axes._subplots.AxesSubplot object at 0x14fa16b90>], dtype=object)"
       ]
      }
     ],
     "prompt_number": 77
    },
    {
     "cell_type": "code",
     "collapsed": false,
     "input": [
      "t = Summary.loc[Summary['night'].isin(range(365))].head(100)"
     ],
     "language": "python",
     "metadata": {},
     "outputs": [],
     "prompt_number": 68
    },
    {
     "cell_type": "code",
     "collapsed": false,
     "input": [
      "np.unique(Summary.loc[Summary['night'].isin(range(365))]['filter'].values)"
     ],
     "language": "python",
     "metadata": {},
     "outputs": [
      {
       "metadata": {},
       "output_type": "pyout",
       "prompt_number": 74,
       "text": [
        "array([u'g', u'i', u'r', u'u', u'y', u'z'], dtype=object)"
       ]
      }
     ],
     "prompt_number": 74
    },
    {
     "cell_type": "code",
     "collapsed": false,
     "input": [
      "t.plot('expMJD', 'filtSkyBrightness')"
     ],
     "language": "python",
     "metadata": {},
     "outputs": [
      {
       "metadata": {},
       "output_type": "pyout",
       "prompt_number": 65,
       "text": [
        "<matplotlib.axes._subplots.AxesSubplot at 0x157c13110>"
       ]
      },
      {
       "metadata": {},
       "output_type": "display_data",
       "png": "[encoded data removed]",
       "text": [
        "<matplotlib.figure.Figure at 0x157c2d750>"
       ]
      }
     ],
     "prompt_number": 65
    },
    {
     "cell_type": "code",
     "collapsed": false,
     "input": [],
     "language": "python",
     "metadata": {},
     "outputs": [
      {
       "ename": "AttributeError",
       "evalue": "Unknown property subplots",
       "output_type": "pyerr",
       "traceback": [
        "\u001b[0;31m---------------------------------------------------------------------------\u001b[0m\n\u001b[0;31mAttributeError\u001b[0m                            Traceback (most recent call last)",
        "\u001b[0;32m<ipython-input-80-6959d5d317f9>\u001b[0m in \u001b[0;36m<module>\u001b[0;34m()\u001b[0m\n\u001b[0;32m----> 1\u001b[0;31m \u001b[0mSummary\u001b[0m\u001b[0;34m.\u001b[0m\u001b[0mfiveSigmaDepth\u001b[0m\u001b[0;34m.\u001b[0m\u001b[0mhist\u001b[0m\u001b[0;34m(\u001b[0m\u001b[0mby\u001b[0m\u001b[0;34m=\u001b[0m\u001b[0mSummary\u001b[0m\u001b[0;34m[\u001b[0m\u001b[0;34m'filter'\u001b[0m\u001b[0;34m]\u001b[0m\u001b[0;34m,\u001b[0m \u001b[0mhisttype\u001b[0m\u001b[0;34m=\u001b[0m\u001b[0;34m'step'\u001b[0m\u001b[0;34m,\u001b[0m \u001b[0mcolor\u001b[0m\u001b[0;34m=\u001b[0m\u001b[0;34m'b'\u001b[0m\u001b[0;34m,\u001b[0m \u001b[0mlw\u001b[0m\u001b[0;34m=\u001b[0m\u001b[0;36m2.0\u001b[0m\u001b[0;34m,\u001b[0m \u001b[0msubplots\u001b[0m\u001b[0;34m=\u001b[0m\u001b[0mFalse\u001b[0m\u001b[0;34m)\u001b[0m\u001b[0;34m\u001b[0m\u001b[0m\n\u001b[0m",
        "\u001b[0;32m/usr/local/manual/anaconda/lib/python2.7/site-packages/pandas/tools/plotting.pyc\u001b[0m in \u001b[0;36mhist_series\u001b[0;34m(self, by, ax, grid, xlabelsize, xrot, ylabelsize, yrot, figsize, bins, **kwds)\u001b[0m\n\u001b[1;32m   2839\u001b[0m         axes = grouped_hist(self, by=by, ax=ax, grid=grid, figsize=figsize, bins=bins,\n\u001b[1;32m   2840\u001b[0m                             \u001b[0mxlabelsize\u001b[0m\u001b[0;34m=\u001b[0m\u001b[0mxlabelsize\u001b[0m\u001b[0;34m,\u001b[0m \u001b[0mxrot\u001b[0m\u001b[0;34m=\u001b[0m\u001b[0mxrot\u001b[0m\u001b[0;34m,\u001b[0m \u001b[0mylabelsize\u001b[0m\u001b[0;34m=\u001b[0m\u001b[0mylabelsize\u001b[0m\u001b[0;34m,\u001b[0m \u001b[0myrot\u001b[0m\u001b[0;34m=\u001b[0m\u001b[0myrot\u001b[0m\u001b[0;34m,\u001b[0m\u001b[0;34m\u001b[0m\u001b[0m\n\u001b[0;32m-> 2841\u001b[0;31m                             **kwds)\n\u001b[0m\u001b[1;32m   2842\u001b[0m \u001b[0;34m\u001b[0m\u001b[0m\n\u001b[1;32m   2843\u001b[0m     \u001b[0;32mif\u001b[0m \u001b[0maxes\u001b[0m\u001b[0;34m.\u001b[0m\u001b[0mndim\u001b[0m \u001b[0;34m==\u001b[0m \u001b[0;36m1\u001b[0m \u001b[0;32mand\u001b[0m \u001b[0mlen\u001b[0m\u001b[0;34m(\u001b[0m\u001b[0maxes\u001b[0m\u001b[0;34m)\u001b[0m \u001b[0;34m==\u001b[0m \u001b[0;36m1\u001b[0m\u001b[0;34m:\u001b[0m\u001b[0;34m\u001b[0m\u001b[0m\n",
        "\u001b[0;32m/usr/local/manual/anaconda/lib/python2.7/site-packages/pandas/tools/plotting.pyc\u001b[0m in \u001b[0;36mgrouped_hist\u001b[0;34m(data, column, by, ax, bins, figsize, layout, sharex, sharey, rot, grid, xlabelsize, xrot, ylabelsize, yrot, **kwargs)\u001b[0m\n\u001b[1;32m   2879\u001b[0m     fig, axes = _grouped_plot(plot_group, data, column=column,\n\u001b[1;32m   2880\u001b[0m                               \u001b[0mby\u001b[0m\u001b[0;34m=\u001b[0m\u001b[0mby\u001b[0m\u001b[0;34m,\u001b[0m \u001b[0msharex\u001b[0m\u001b[0;34m=\u001b[0m\u001b[0msharex\u001b[0m\u001b[0;34m,\u001b[0m \u001b[0msharey\u001b[0m\u001b[0;34m=\u001b[0m\u001b[0msharey\u001b[0m\u001b[0;34m,\u001b[0m \u001b[0max\u001b[0m\u001b[0;34m=\u001b[0m\u001b[0max\u001b[0m\u001b[0;34m,\u001b[0m\u001b[0;34m\u001b[0m\u001b[0m\n\u001b[0;32m-> 2881\u001b[0;31m                               figsize=figsize, layout=layout, rot=rot)\n\u001b[0m\u001b[1;32m   2882\u001b[0m \u001b[0;34m\u001b[0m\u001b[0m\n\u001b[1;32m   2883\u001b[0m     _set_ticks_props(axes, xlabelsize=xlabelsize, xrot=xrot,\n",
        "\u001b[0;32m/usr/local/manual/anaconda/lib/python2.7/site-packages/pandas/tools/plotting.pyc\u001b[0m in \u001b[0;36m_grouped_plot\u001b[0;34m(plotf, data, column, by, numeric_only, figsize, sharex, sharey, layout, rot, ax, **kwargs)\u001b[0m\n\u001b[1;32m   2990\u001b[0m         \u001b[0;32mif\u001b[0m \u001b[0mnumeric_only\u001b[0m \u001b[0;32mand\u001b[0m \u001b[0misinstance\u001b[0m\u001b[0;34m(\u001b[0m\u001b[0mgroup\u001b[0m\u001b[0;34m,\u001b[0m \u001b[0mDataFrame\u001b[0m\u001b[0;34m)\u001b[0m\u001b[0;34m:\u001b[0m\u001b[0;34m\u001b[0m\u001b[0m\n\u001b[1;32m   2991\u001b[0m             \u001b[0mgroup\u001b[0m \u001b[0;34m=\u001b[0m \u001b[0mgroup\u001b[0m\u001b[0;34m.\u001b[0m\u001b[0m_get_numeric_data\u001b[0m\u001b[0;34m(\u001b[0m\u001b[0;34m)\u001b[0m\u001b[0;34m\u001b[0m\u001b[0m\n\u001b[0;32m-> 2992\u001b[0;31m         \u001b[0mplotf\u001b[0m\u001b[0;34m(\u001b[0m\u001b[0mgroup\u001b[0m\u001b[0;34m,\u001b[0m \u001b[0max\u001b[0m\u001b[0;34m,\u001b[0m \u001b[0;34m**\u001b[0m\u001b[0mkwargs\u001b[0m\u001b[0;34m)\u001b[0m\u001b[0;34m\u001b[0m\u001b[0m\n\u001b[0m\u001b[1;32m   2993\u001b[0m         \u001b[0max\u001b[0m\u001b[0;34m.\u001b[0m\u001b[0mset_title\u001b[0m\u001b[0;34m(\u001b[0m\u001b[0mcom\u001b[0m\u001b[0;34m.\u001b[0m\u001b[0mpprint_thing\u001b[0m\u001b[0;34m(\u001b[0m\u001b[0mkey\u001b[0m\u001b[0;34m)\u001b[0m\u001b[0;34m)\u001b[0m\u001b[0;34m\u001b[0m\u001b[0m\n\u001b[1;32m   2994\u001b[0m \u001b[0;34m\u001b[0m\u001b[0m\n",
        "\u001b[0;32m/usr/local/manual/anaconda/lib/python2.7/site-packages/pandas/tools/plotting.pyc\u001b[0m in \u001b[0;36mplot_group\u001b[0;34m(group, ax)\u001b[0m\n\u001b[1;32m   2873\u001b[0m     \"\"\"\n\u001b[1;32m   2874\u001b[0m     \u001b[0;32mdef\u001b[0m \u001b[0mplot_group\u001b[0m\u001b[0;34m(\u001b[0m\u001b[0mgroup\u001b[0m\u001b[0;34m,\u001b[0m \u001b[0max\u001b[0m\u001b[0;34m)\u001b[0m\u001b[0;34m:\u001b[0m\u001b[0;34m\u001b[0m\u001b[0m\n\u001b[0;32m-> 2875\u001b[0;31m         \u001b[0max\u001b[0m\u001b[0;34m.\u001b[0m\u001b[0mhist\u001b[0m\u001b[0;34m(\u001b[0m\u001b[0mgroup\u001b[0m\u001b[0;34m.\u001b[0m\u001b[0mdropna\u001b[0m\u001b[0;34m(\u001b[0m\u001b[0;34m)\u001b[0m\u001b[0;34m.\u001b[0m\u001b[0mvalues\u001b[0m\u001b[0;34m,\u001b[0m \u001b[0mbins\u001b[0m\u001b[0;34m=\u001b[0m\u001b[0mbins\u001b[0m\u001b[0;34m,\u001b[0m \u001b[0;34m**\u001b[0m\u001b[0mkwargs\u001b[0m\u001b[0;34m)\u001b[0m\u001b[0;34m\u001b[0m\u001b[0m\n\u001b[0m\u001b[1;32m   2876\u001b[0m \u001b[0;34m\u001b[0m\u001b[0m\n\u001b[1;32m   2877\u001b[0m     \u001b[0mxrot\u001b[0m \u001b[0;34m=\u001b[0m \u001b[0mxrot\u001b[0m \u001b[0;32mor\u001b[0m \u001b[0mrot\u001b[0m\u001b[0;34m\u001b[0m\u001b[0m\n",
        "\u001b[0;32m/usr/local/manual/anaconda/lib/python2.7/site-packages/matplotlib/axes/_axes.pyc\u001b[0m in \u001b[0;36mhist\u001b[0;34m(self, x, bins, range, normed, weights, cumulative, bottom, histtype, align, orientation, rwidth, log, color, label, stacked, **kwargs)\u001b[0m\n\u001b[1;32m   5886\u001b[0m             \u001b[0;32mif\u001b[0m \u001b[0mpatch\u001b[0m\u001b[0;34m:\u001b[0m\u001b[0;34m\u001b[0m\u001b[0m\n\u001b[1;32m   5887\u001b[0m                 \u001b[0mp\u001b[0m \u001b[0;34m=\u001b[0m \u001b[0mpatch\u001b[0m\u001b[0;34m[\u001b[0m\u001b[0;36m0\u001b[0m\u001b[0;34m]\u001b[0m\u001b[0;34m\u001b[0m\u001b[0m\n\u001b[0;32m-> 5888\u001b[0;31m                 \u001b[0mp\u001b[0m\u001b[0;34m.\u001b[0m\u001b[0mupdate\u001b[0m\u001b[0;34m(\u001b[0m\u001b[0mkwargs\u001b[0m\u001b[0;34m)\u001b[0m\u001b[0;34m\u001b[0m\u001b[0m\n\u001b[0m\u001b[1;32m   5889\u001b[0m                 \u001b[0;32mif\u001b[0m \u001b[0mlbl\u001b[0m \u001b[0;32mis\u001b[0m \u001b[0;32mnot\u001b[0m \u001b[0mNone\u001b[0m\u001b[0;34m:\u001b[0m\u001b[0;34m\u001b[0m\u001b[0m\n\u001b[1;32m   5890\u001b[0m                     \u001b[0mp\u001b[0m\u001b[0;34m.\u001b[0m\u001b[0mset_label\u001b[0m\u001b[0;34m(\u001b[0m\u001b[0mlbl\u001b[0m\u001b[0;34m)\u001b[0m\u001b[0;34m\u001b[0m\u001b[0m\n",
        "\u001b[0;32m/usr/local/manual/anaconda/lib/python2.7/site-packages/matplotlib/artist.pyc\u001b[0m in \u001b[0;36mupdate\u001b[0;34m(self, props)\u001b[0m\n\u001b[1;32m    755\u001b[0m             \u001b[0mfunc\u001b[0m \u001b[0;34m=\u001b[0m \u001b[0mgetattr\u001b[0m\u001b[0;34m(\u001b[0m\u001b[0mself\u001b[0m\u001b[0;34m,\u001b[0m \u001b[0;34m'set_'\u001b[0m \u001b[0;34m+\u001b[0m \u001b[0mk\u001b[0m\u001b[0;34m,\u001b[0m \u001b[0mNone\u001b[0m\u001b[0;34m)\u001b[0m\u001b[0;34m\u001b[0m\u001b[0m\n\u001b[1;32m    756\u001b[0m             \u001b[0;32mif\u001b[0m \u001b[0mfunc\u001b[0m \u001b[0;32mis\u001b[0m \u001b[0mNone\u001b[0m \u001b[0;32mor\u001b[0m \u001b[0;32mnot\u001b[0m \u001b[0msix\u001b[0m\u001b[0;34m.\u001b[0m\u001b[0mcallable\u001b[0m\u001b[0;34m(\u001b[0m\u001b[0mfunc\u001b[0m\u001b[0;34m)\u001b[0m\u001b[0;34m:\u001b[0m\u001b[0;34m\u001b[0m\u001b[0m\n\u001b[0;32m--> 757\u001b[0;31m                 \u001b[0;32mraise\u001b[0m \u001b[0mAttributeError\u001b[0m\u001b[0;34m(\u001b[0m\u001b[0;34m'Unknown property %s'\u001b[0m \u001b[0;34m%\u001b[0m \u001b[0mk\u001b[0m\u001b[0;34m)\u001b[0m\u001b[0;34m\u001b[0m\u001b[0m\n\u001b[0m\u001b[1;32m    758\u001b[0m             \u001b[0mfunc\u001b[0m\u001b[0;34m(\u001b[0m\u001b[0mv\u001b[0m\u001b[0;34m)\u001b[0m\u001b[0;34m\u001b[0m\u001b[0m\n\u001b[1;32m    759\u001b[0m             \u001b[0mchanged\u001b[0m \u001b[0;34m=\u001b[0m \u001b[0mTrue\u001b[0m\u001b[0;34m\u001b[0m\u001b[0m\n",
        "\u001b[0;31mAttributeError\u001b[0m: Unknown property subplots"
       ]
      },
      {
       "metadata": {},
       "output_type": "display_data",
       "png": "[encoded data removed]",
       "text": [
        "<matplotlib.figure.Figure at 0x159ce1b90>"
       ]
      }
     ],
     "prompt_number": 80
    }
   ],
   "metadata": {}
  }
 ]
}