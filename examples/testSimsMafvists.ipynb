{
 "metadata": {
  "name": "",
  "signature": "sha256:a958babfbd5c82485c90d1f9392bb6691b0915972d6f07dbe077e09ad2cb0b31"
 },
 "nbformat": 3,
 "nbformat_minor": 0,
 "worksheets": [
  {
   "cells": [
    {
     "cell_type": "code",
     "collapsed": false,
     "input": [
      "%matplotlib inline\n",
      "import matplotlib.pyplot as plt"
     ],
     "language": "python",
     "metadata": {},
     "outputs": [],
     "prompt_number": 11
    },
    {
     "cell_type": "code",
     "collapsed": false,
     "input": [
      "import numpy as np\n",
      "import lsst.sims.maf.db as db\n",
      "import lsst.sims.maf.metrics as metrics\n",
      "import lsst.sims.maf.slicers as slicers\n",
      "import lsst.sims.maf.metricBundles as metricBundles\n",
      "import lsst.sims.maf.plots as plots"
     ],
     "language": "python",
     "metadata": {},
     "outputs": [],
     "prompt_number": 1
    },
    {
     "cell_type": "code",
     "collapsed": false,
     "input": [
      "from lsst.sims.maf.metrics import BaseMetric"
     ],
     "language": "python",
     "metadata": {},
     "outputs": [],
     "prompt_number": 2
    },
    {
     "cell_type": "code",
     "collapsed": false,
     "input": [
      "help(BaseMetric)"
     ],
     "language": "python",
     "metadata": {},
     "outputs": [
      {
       "output_type": "stream",
       "stream": "stdout",
       "text": [
        "Help on class BaseMetric in module lsst.sims.maf.metrics.baseMetric:\n",
        "\n",
        "class BaseMetric(__builtin__.object)\n",
        " |  Base class for the metrics.\n",
        " |  \n",
        " |  Methods defined here:\n",
        " |  \n",
        " |  __init__(self, col=None, metricName=None, maps=None, units=None, metricDtype=None, badval=-666)\n",
        " |      Instantiate metric.\n",
        " |      \n",
        " |      'col' is a kwarg for purposes of the MAF driver; when actually using a metric, it must be set to\n",
        " |      the names of the data columns that the metric will operate on. This can be a single string or a list.\n",
        " |      \n",
        " |      'maps' is a list of any maps that the metric will need, accessed via slicePoint that is passed from the slicer.\n",
        " |      \n",
        " |      After inheriting from this base metric :\n",
        " |        * every metric object will have metricDtype (the type of data it calculates) set according to:\n",
        " |             -- kwarg (metricDtype='float', 'int', etc)\n",
        " |             -- 'float' (assumes float if not specified in kwarg)\n",
        " |             -- 'object' (if reduce functions are present and value not set in kwarg)\n",
        " |        * every metric object will have the data columns it requires added to the column registry\n",
        " |          (so the driver can know which columns to pull from the database)\n",
        " |  \n",
        " |  run(self, dataSlice, slicePoint=None)\n",
        " |  \n",
        " |  ----------------------------------------------------------------------\n",
        " |  Data descriptors defined here:\n",
        " |  \n",
        " |  __dict__\n",
        " |      dictionary for instance variables (if defined)\n",
        " |  \n",
        " |  __weakref__\n",
        " |      list of weak references to the object (if defined)\n",
        " |  \n",
        " |  ----------------------------------------------------------------------\n",
        " |  Data and other attributes defined here:\n",
        " |  \n",
        " |  __metaclass__ = <class 'lsst.sims.maf.metrics.baseMetric.MetricRegistr...\n",
        " |      Meta class for metrics, to build a registry of metric classes.\n",
        " |  \n",
        " |  colInfo = <lsst.sims.maf.utils.getColInfo.ColInfo object>\n",
        " |  \n",
        " |  colRegistry = <lsst.sims.maf.metrics.baseMetric.ColRegistry object>\n",
        " |  \n",
        " |  registry = {'AveSlewFracMetric': <class 'lsst.sims.maf.metrics.slewMet...\n",
        "\n"
       ]
      }
     ],
     "prompt_number": 3
    },
    {
     "cell_type": "code",
     "collapsed": false,
     "input": [
      "class visits(BaseMetric):\n",
      "    def __init__(self, mjdcol='expMJD', m5Col='fiveSigmaDepth', filterCol='filter',**kwargs):\n",
      "        # Set the values we want to keep for our class.\n",
      "        self.mjdcol = mjdcol\n",
      "        self.m5col = m5Col\n",
      "        ###self.percentile = percentile\n",
      "        # Now we have to call the BaseMetric's __init__ method, to get the \"framework\" part set up.\n",
      "        # We currently do this using 'super', which just calls BaseMetric's method.\n",
      "        # The call to super just basically looks like this .. you must pass the columns you need, and the kwargs.\n",
      "        super(visits, self).__init__(metricName='visits', col=[self.mjdcol, self.m5col, filterCol], \n",
      "                                     badval=np.nan, metricDtype=object, **kwargs)\n",
      "        \n",
      "    # Now write out \"run\" method, the part that does the metric calculation.\n",
      "    def run(self, dataSlice, slicePoint=None):\n",
      "        # for this calculation, I'll just call numpy's percentile function.\n",
      "        result = (dataSlice['obsHistID'], dataSlice['expMJD'], dataSlice['fiveSigmaDepth'], dataSlice['filter'])\n",
      "        return result"
     ],
     "language": "python",
     "metadata": {},
     "outputs": [],
     "prompt_number": 4
    },
    {
     "cell_type": "code",
     "collapsed": false,
     "input": [
      "from __future__ import division"
     ],
     "language": "python",
     "metadata": {},
     "outputs": [],
     "prompt_number": 6
    },
    {
     "cell_type": "code",
     "collapsed": false,
     "input": [
      "# UserPointsSlicer\n",
      "numSamples = 100\n",
      "ra = np.random.random(size=numSamples)/ numSamples*np.pi\n",
      "dec = np.random.random(size=numSamples)/ numSamples*(-np.pi)\n",
      "slicer = slicers.UserPointsSlicer(ra=ra,dec=dec)\n",
      "metric = visits()"
     ],
     "language": "python",
     "metadata": {},
     "outputs": [],
     "prompt_number": 25
    },
    {
     "cell_type": "code",
     "collapsed": false,
     "input": [
      "plt.plot(ra, dec, 'o')"
     ],
     "language": "python",
     "metadata": {},
     "outputs": [
      {
       "metadata": {},
       "output_type": "pyout",
       "prompt_number": 26,
       "text": [
        "[<matplotlib.lines.Line2D at 0x11a6330d0>]"
       ]
      },
      {
       "metadata": {},
       "output_type": "display_data",
       "png": "[encoded data removed]",
       "text": [
        "<matplotlib.figure.Figure at 0x1154b7cd0>"
       ]
      }
     ],
     "prompt_number": 26
    },
    {
     "cell_type": "code",
     "collapsed": false,
     "input": [
      "opsdb = db.OpsimDatabase('sqlite:////Users/rbiswas/data/LSST/OpSimData/enigma_1189_sqlite.db')"
     ],
     "language": "python",
     "metadata": {},
     "outputs": [],
     "prompt_number": 7
    },
    {
     "cell_type": "code",
     "collapsed": false,
     "input": [
      "sqlconstraint = 'night<365'"
     ],
     "language": "python",
     "metadata": {},
     "outputs": [],
     "prompt_number": 8
    },
    {
     "cell_type": "code",
     "collapsed": false,
     "input": [
      "bundle = metricBundles.MetricBundle(metric, slicer, sqlconstraint)"
     ],
     "language": "python",
     "metadata": {},
     "outputs": [],
     "prompt_number": 9
    },
    {
     "cell_type": "code",
     "collapsed": false,
     "input": [
      "bgroup = metricBundles.MetricBundleGroup({0: bundle}, opsdb, outDir='newmetric_test', resultsDb=None)\n",
      "bgroup.runAll()"
     ],
     "language": "python",
     "metadata": {},
     "outputs": [
      {
       "output_type": "stream",
       "stream": "stdout",
       "text": [
        "Querying database with constraint night<365\n",
        "Found 271946 visits"
       ]
      },
      {
       "output_type": "stream",
       "stream": "stdout",
       "text": [
        "\n",
        "Running:  [0]\n",
        "Completed metric generation."
       ]
      },
      {
       "output_type": "stream",
       "stream": "stdout",
       "text": [
        "\n",
        "Running reduce methods.\n",
        "Running summary statistics.\n",
        "Completed.\n"
       ]
      }
     ],
     "prompt_number": 10
    },
    {
     "cell_type": "code",
     "collapsed": false,
     "input": [
      "%timeit bundle.metricValues"
     ],
     "language": "python",
     "metadata": {},
     "outputs": [
      {
       "output_type": "stream",
       "stream": "stdout",
       "text": [
        "10000000 loops, best of 3: 72 ns per loop\n"
       ]
      }
     ],
     "prompt_number": 13
    },
    {
     "cell_type": "code",
     "collapsed": false,
     "input": [
      "v = visits()"
     ],
     "language": "python",
     "metadata": {},
     "outputs": [],
     "prompt_number": 15
    },
    {
     "cell_type": "code",
     "collapsed": false,
     "input": [
      "v.metricDtype"
     ],
     "language": "python",
     "metadata": {},
     "outputs": [
      {
       "metadata": {},
       "output_type": "pyout",
       "prompt_number": 16,
       "text": [
        "object"
       ]
      }
     ],
     "prompt_number": 16
    },
    {
     "cell_type": "code",
     "collapsed": false,
     "input": [
      "v.badval"
     ],
     "language": "python",
     "metadata": {},
     "outputs": [
      {
       "metadata": {},
       "output_type": "pyout",
       "prompt_number": 17,
       "text": [
        "nan"
       ]
      }
     ],
     "prompt_number": 17
    },
    {
     "cell_type": "code",
     "collapsed": false,
     "input": [
      "metric = visits()\n",
      "slicer = slicers.userPointsSlicer.UserPointsSlicer(ra=np.array([23.,25.]), dec=np.array([23.,25.]))\n",
      "sqlconstraint = 'night<365'\n",
      "myBundle = metricBundles.MetricBundle(metric, slicer, sqlconstraint)"
     ],
     "language": "python",
     "metadata": {},
     "outputs": [],
     "prompt_number": 18
    },
    {
     "cell_type": "code",
     "collapsed": false,
     "input": [
      "!pwd"
     ],
     "language": "python",
     "metadata": {},
     "outputs": [
      {
       "output_type": "stream",
       "stream": "stdout",
       "text": [
        "/Users/rbiswas/doc/projects/supernovae/SNsims/snsims\r\n"
       ]
      }
     ],
     "prompt_number": 19
    },
    {
     "cell_type": "code",
     "collapsed": false,
     "input": [
      "myBundle.r"
     ],
     "language": "python",
     "metadata": {},
     "outputs": []
    },
    {
     "cell_type": "code",
     "collapsed": false,
     "input": [
      "\n",
      "bgroup = metricBundles.MetricBundleGroup({0: myBundle}, opsdb, outDir='newmetric_test', resultsDb=None)\n",
      "bgroup.runAll()"
     ],
     "language": "python",
     "metadata": {},
     "outputs": []
    },
    {
     "cell_type": "code",
     "collapsed": false,
     "input": [
      "l = [1.2, 3.]"
     ],
     "language": "python",
     "metadata": {},
     "outputs": []
    },
    {
     "cell_type": "code",
     "collapsed": false,
     "input": [
      "type(l)"
     ],
     "language": "python",
     "metadata": {},
     "outputs": []
    },
    {
     "cell_type": "code",
     "collapsed": false,
     "input": [],
     "language": "python",
     "metadata": {},
     "outputs": []
    }
   ],
   "metadata": {}
  }
 ]
}