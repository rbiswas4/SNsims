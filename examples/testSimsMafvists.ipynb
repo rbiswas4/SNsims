{
 "metadata": {
  "name": "",
  "signature": "sha256:24fb9f8ab2dea1f6e104230aed1ece57893484490b575215aeb5306b4e4318c7"
 },
 "nbformat": 3,
 "nbformat_minor": 0,
 "worksheets": [
  {
   "cells": [
    {
     "cell_type": "code",
     "collapsed": false,
     "input": [
      "import numpy as np\n",
      "import lsst.sims.maf.db as db\n",
      "import lsst.sims.maf.metrics as metrics\n",
      "import lsst.sims.maf.slicers as slicers\n",
      "import lsst.sims.maf.metricBundles as metricBundles\n",
      "import lsst.sims.maf.plots as plots"
     ],
     "language": "python",
     "metadata": {},
     "outputs": [],
     "prompt_number": 1
    },
    {
     "cell_type": "code",
     "collapsed": false,
     "input": [
      "from lsst.sims.maf.metrics import BaseMetric"
     ],
     "language": "python",
     "metadata": {},
     "outputs": [],
     "prompt_number": 2
    },
    {
     "cell_type": "code",
     "collapsed": false,
     "input": [
      "help(BaseMetric)"
     ],
     "language": "python",
     "metadata": {},
     "outputs": [
      {
       "output_type": "stream",
       "stream": "stdout",
       "text": [
        "Help on class BaseMetric in module lsst.sims.maf.metrics.baseMetric:\n",
        "\n",
        "class BaseMetric(__builtin__.object)\n",
        " |  Base class for the metrics.\n",
        " |  \n",
        " |  Methods defined here:\n",
        " |  \n",
        " |  __init__(self, col=None, metricName=None, maps=None, units=None, metricDtype=None, badval=-666)\n",
        " |      Instantiate metric.\n",
        " |      \n",
        " |      'col' is a kwarg for purposes of the MAF driver; when actually using a metric, it must be set to\n",
        " |      the names of the data columns that the metric will operate on. This can be a single string or a list.\n",
        " |      \n",
        " |      'maps' is a list of any maps that the metric will need, accessed via slicePoint that is passed from the slicer.\n",
        " |      \n",
        " |      After inheriting from this base metric :\n",
        " |        * every metric object will have metricDtype (the type of data it calculates) set according to:\n",
        " |             -- kwarg (metricDtype='float', 'int', etc)\n",
        " |             -- 'float' (assumes float if not specified in kwarg)\n",
        " |             -- 'object' (if reduce functions are present and value not set in kwarg)\n",
        " |        * every metric object will have the data columns it requires added to the column registry\n",
        " |          (so the driver can know which columns to pull from the database)\n",
        " |  \n",
        " |  run(self, dataSlice, slicePoint=None)\n",
        " |  \n",
        " |  ----------------------------------------------------------------------\n",
        " |  Data descriptors defined here:\n",
        " |  \n",
        " |  __dict__\n",
        " |      dictionary for instance variables (if defined)\n",
        " |  \n",
        " |  __weakref__\n",
        " |      list of weak references to the object (if defined)\n",
        " |  \n",
        " |  ----------------------------------------------------------------------\n",
        " |  Data and other attributes defined here:\n",
        " |  \n",
        " |  __metaclass__ = <class 'lsst.sims.maf.metrics.baseMetric.MetricRegistr...\n",
        " |      Meta class for metrics, to build a registry of metric classes.\n",
        " |  \n",
        " |  colInfo = <lsst.sims.maf.utils.getColInfo.ColInfo object>\n",
        " |  \n",
        " |  colRegistry = <lsst.sims.maf.metrics.baseMetric.ColRegistry object>\n",
        " |  \n",
        " |  registry = {'AveSlewFracMetric': <class 'lsst.sims.maf.metrics.slewMet...\n",
        "\n"
       ]
      }
     ],
     "prompt_number": 3
    },
    {
     "cell_type": "code",
     "collapsed": false,
     "input": [
      "class visits(BaseMetric):\n",
      "    def __init__(self, mjdcol='expMJD', m5Col='fiveSigmaDepth', filterCol='filter',**kwargs):\n",
      "        # Set the values we want to keep for our class.\n",
      "        self.mjdcol = mjdcol\n",
      "        self.m5col = m5Col\n",
      "        ###self.percentile = percentile\n",
      "        # Now we have to call the BaseMetric's __init__ method, to get the \"framework\" part set up.\n",
      "        # We currently do this using 'super', which just calls BaseMetric's method.\n",
      "        # The call to super just basically looks like this .. you must pass the columns you need, and the kwargs.\n",
      "        super(visits, self).__init__(metricName='visits', col=[self.mjdcol, self.m5col, filterCol], \n",
      "                                     badval=np.nan, metricDtype=object, **kwargs)\n",
      "        \n",
      "    # Now write out \"run\" method, the part that does the metric calculation.\n",
      "    def run(self, dataSlice, slicePoint=None):\n",
      "        # for this calculation, I'll just call numpy's percentile function.\n",
      "        result = (dataSlice['obsHistID'], dataSlice['expMJD'], dataSlice['fiveSigmaDepth'], dataSlice['filter'])\n",
      "        return result"
     ],
     "language": "python",
     "metadata": {},
     "outputs": [
      {
       "ename": "Exception",
       "evalue": "Redefining metric __main__.visits! (there are >1 metrics with the same name)",
       "output_type": "pyerr",
       "traceback": [
        "\u001b[0;31m---------------------------------------------------------------------------\u001b[0m\n\u001b[0;31mException\u001b[0m                                 Traceback (most recent call last)",
        "\u001b[0;32m<ipython-input-5-55e08deca28b>\u001b[0m in \u001b[0;36m<module>\u001b[0;34m()\u001b[0m\n\u001b[0;32m----> 1\u001b[0;31m \u001b[0;32mclass\u001b[0m \u001b[0mvisits\u001b[0m\u001b[0;34m(\u001b[0m\u001b[0mBaseMetric\u001b[0m\u001b[0;34m)\u001b[0m\u001b[0;34m:\u001b[0m\u001b[0;34m\u001b[0m\u001b[0m\n\u001b[0m\u001b[1;32m      2\u001b[0m     \u001b[0;32mdef\u001b[0m \u001b[0m__init__\u001b[0m\u001b[0;34m(\u001b[0m\u001b[0mself\u001b[0m\u001b[0;34m,\u001b[0m \u001b[0mmjdcol\u001b[0m\u001b[0;34m=\u001b[0m\u001b[0;34m'expMJD'\u001b[0m\u001b[0;34m,\u001b[0m \u001b[0mm5Col\u001b[0m\u001b[0;34m=\u001b[0m\u001b[0;34m'fiveSigmaDepth'\u001b[0m\u001b[0;34m,\u001b[0m \u001b[0mfilterCol\u001b[0m\u001b[0;34m=\u001b[0m\u001b[0;34m'filter'\u001b[0m\u001b[0;34m,\u001b[0m\u001b[0;34m**\u001b[0m\u001b[0mkwargs\u001b[0m\u001b[0;34m)\u001b[0m\u001b[0;34m:\u001b[0m\u001b[0;34m\u001b[0m\u001b[0m\n\u001b[1;32m      3\u001b[0m         \u001b[0;31m# Set the values we want to keep for our class.\u001b[0m\u001b[0;34m\u001b[0m\u001b[0;34m\u001b[0m\u001b[0m\n\u001b[1;32m      4\u001b[0m         \u001b[0mself\u001b[0m\u001b[0;34m.\u001b[0m\u001b[0mmjdcol\u001b[0m \u001b[0;34m=\u001b[0m \u001b[0mmjdcol\u001b[0m\u001b[0;34m\u001b[0m\u001b[0m\n\u001b[1;32m      5\u001b[0m         \u001b[0mself\u001b[0m\u001b[0;34m.\u001b[0m\u001b[0mm5col\u001b[0m \u001b[0;34m=\u001b[0m \u001b[0mm5Col\u001b[0m\u001b[0;34m\u001b[0m\u001b[0m\n",
        "\u001b[0;32m/Users/rbiswas/src/LSST/sims_maf/python/lsst/sims/maf/metrics/baseMetric.pyc\u001b[0m in \u001b[0;36m__init__\u001b[0;34m(cls, name, bases, dict)\u001b[0m\n\u001b[1;32m     32\u001b[0m         \u001b[0mmetricname\u001b[0m \u001b[0;34m=\u001b[0m \u001b[0mmodname\u001b[0m \u001b[0;34m+\u001b[0m \u001b[0mname\u001b[0m\u001b[0;34m\u001b[0m\u001b[0m\n\u001b[1;32m     33\u001b[0m         \u001b[0;32mif\u001b[0m \u001b[0mmetricname\u001b[0m \u001b[0;32min\u001b[0m \u001b[0mcls\u001b[0m\u001b[0;34m.\u001b[0m\u001b[0mregistry\u001b[0m\u001b[0;34m:\u001b[0m\u001b[0;34m\u001b[0m\u001b[0m\n\u001b[0;32m---> 34\u001b[0;31m             \u001b[0;32mraise\u001b[0m \u001b[0mException\u001b[0m\u001b[0;34m(\u001b[0m\u001b[0;34m'Redefining metric %s! (there are >1 metrics with the same name)'\u001b[0m \u001b[0;34m%\u001b[0m\u001b[0;34m(\u001b[0m\u001b[0mmetricname\u001b[0m\u001b[0;34m)\u001b[0m\u001b[0;34m)\u001b[0m\u001b[0;34m\u001b[0m\u001b[0m\n\u001b[0m\u001b[1;32m     35\u001b[0m         \u001b[0;32mif\u001b[0m \u001b[0mmetricname\u001b[0m \u001b[0;32mnot\u001b[0m \u001b[0;32min\u001b[0m \u001b[0;34m[\u001b[0m\u001b[0;34m'BaseMetric'\u001b[0m\u001b[0;34m,\u001b[0m \u001b[0;34m'SimpleScalarMetric'\u001b[0m\u001b[0;34m]\u001b[0m\u001b[0;34m:\u001b[0m\u001b[0;34m\u001b[0m\u001b[0m\n\u001b[1;32m     36\u001b[0m             \u001b[0mcls\u001b[0m\u001b[0;34m.\u001b[0m\u001b[0mregistry\u001b[0m\u001b[0;34m[\u001b[0m\u001b[0mmetricname\u001b[0m\u001b[0;34m]\u001b[0m \u001b[0;34m=\u001b[0m \u001b[0mcls\u001b[0m\u001b[0;34m\u001b[0m\u001b[0m\n",
        "\u001b[0;31mException\u001b[0m: Redefining metric __main__.visits! (there are >1 metrics with the same name)"
       ]
      }
     ],
     "prompt_number": 5
    },
    {
     "cell_type": "code",
     "collapsed": false,
     "input": [
      "from __future__ import division\n",
      "\n",
      "np.array(range(numsamples)) / num"
     ],
     "language": "python",
     "metadata": {},
     "outputs": [
      {
       "metadata": {},
       "output_type": "pyout",
       "prompt_number": 21,
       "text": [
        "array([ 0.  ,  0.01,  0.02,  0.03,  0.04,  0.05,  0.06,  0.07,  0.08,\n",
        "        0.09,  0.1 ,  0.11,  0.12,  0.13,  0.14,  0.15,  0.16,  0.17,\n",
        "        0.18,  0.19,  0.2 ,  0.21,  0.22,  0.23,  0.24,  0.25,  0.26,\n",
        "        0.27,  0.28,  0.29,  0.3 ,  0.31,  0.32,  0.33,  0.34,  0.35,\n",
        "        0.36,  0.37,  0.38,  0.39,  0.4 ,  0.41,  0.42,  0.43,  0.44,\n",
        "        0.45,  0.46,  0.47,  0.48,  0.49,  0.5 ,  0.51,  0.52,  0.53,\n",
        "        0.54,  0.55,  0.56,  0.57,  0.58,  0.59,  0.6 ,  0.61,  0.62,\n",
        "        0.63,  0.64,  0.65,  0.66,  0.67,  0.68,  0.69,  0.7 ,  0.71,\n",
        "        0.72,  0.73,  0.74,  0.75,  0.76,  0.77,  0.78,  0.79,  0.8 ,\n",
        "        0.81,  0.82,  0.83,  0.84,  0.85,  0.86,  0.87,  0.88,  0.89,\n",
        "        0.9 ,  0.91,  0.92,  0.93,  0.94,  0.95,  0.96,  0.97,  0.98,  0.99])"
       ]
      }
     ],
     "prompt_number": 21
    },
    {
     "cell_type": "code",
     "collapsed": false,
     "input": [
      "# UserPointsSlicer\n",
      "numsamps\n",
      "ra = np.range(0, )/100.*np.pi\n",
      "dec = np.arange(0,101,1)/100.*(-np.pi)\n",
      "slicer = slicers.UserPointsSlicer(ra=ra,dec=dec)\n",
      "metric = visits()"
     ],
     "language": "python",
     "metadata": {},
     "outputs": [],
     "prompt_number": 6
    },
    {
     "cell_type": "code",
     "collapsed": false,
     "input": [
      "opsdb = db.OpsimDatabase('sqlite:////Users/rbiswas/data/LSST/OpSimData/enigma_1189_sqlite.db')"
     ],
     "language": "python",
     "metadata": {},
     "outputs": [],
     "prompt_number": 7
    },
    {
     "cell_type": "code",
     "collapsed": false,
     "input": [
      "sqlconstraint = 'night<365'"
     ],
     "language": "python",
     "metadata": {},
     "outputs": [],
     "prompt_number": 8
    },
    {
     "cell_type": "code",
     "collapsed": false,
     "input": [
      "bundle = metricBundles.MetricBundle(metric, slicer, sqlconstraint)"
     ],
     "language": "python",
     "metadata": {},
     "outputs": [],
     "prompt_number": 9
    },
    {
     "cell_type": "code",
     "collapsed": false,
     "input": [
      "bgroup = metricBundles.MetricBundleGroup({0: bundle}, opsdb, outDir='newmetric_test', resultsDb=None)\n",
      "bgroup.runAll()"
     ],
     "language": "python",
     "metadata": {},
     "outputs": [
      {
       "output_type": "stream",
       "stream": "stdout",
       "text": [
        "Querying database with constraint night<365\n",
        "Found 271946 visits"
       ]
      },
      {
       "output_type": "stream",
       "stream": "stdout",
       "text": [
        "\n",
        "Running:  [0]\n",
        "Completed metric generation."
       ]
      },
      {
       "output_type": "stream",
       "stream": "stdout",
       "text": [
        "\n",
        "Running reduce methods.\n",
        "Running summary statistics.\n",
        "Completed.\n"
       ]
      }
     ],
     "prompt_number": 10
    },
    {
     "cell_type": "code",
     "collapsed": false,
     "input": [
      "%timeit bundle.metricValues"
     ],
     "language": "python",
     "metadata": {},
     "outputs": [
      {
       "output_type": "stream",
       "stream": "stdout",
       "text": [
        "10000000 loops, best of 3: 72 ns per loop\n"
       ]
      }
     ],
     "prompt_number": 13
    },
    {
     "cell_type": "code",
     "collapsed": false,
     "input": [
      "v = visits()"
     ],
     "language": "python",
     "metadata": {},
     "outputs": [],
     "prompt_number": 15
    },
    {
     "cell_type": "code",
     "collapsed": false,
     "input": [
      "v.metricDtype"
     ],
     "language": "python",
     "metadata": {},
     "outputs": [
      {
       "metadata": {},
       "output_type": "pyout",
       "prompt_number": 16,
       "text": [
        "object"
       ]
      }
     ],
     "prompt_number": 16
    },
    {
     "cell_type": "code",
     "collapsed": false,
     "input": [
      "v.badval"
     ],
     "language": "python",
     "metadata": {},
     "outputs": [
      {
       "metadata": {},
       "output_type": "pyout",
       "prompt_number": 17,
       "text": [
        "nan"
       ]
      }
     ],
     "prompt_number": 17
    },
    {
     "cell_type": "code",
     "collapsed": false,
     "input": [
      "metric = visits()\n",
      "slicer = slicers.userPointsSlicer.UserPointsSlicer(ra=np.array([23.,25.]), dec=np.array([23.,25.]))\n",
      "sqlconstraint = 'night<365'\n",
      "myBundle = metricBundles.MetricBundle(metric, slicer, sqlconstraint)"
     ],
     "language": "python",
     "metadata": {},
     "outputs": [],
     "prompt_number": 18
    },
    {
     "cell_type": "code",
     "collapsed": false,
     "input": [
      "!pwd"
     ],
     "language": "python",
     "metadata": {},
     "outputs": [
      {
       "output_type": "stream",
       "stream": "stdout",
       "text": [
        "/Users/rbiswas/doc/projects/supernovae/SNsims/snsims\r\n"
       ]
      }
     ],
     "prompt_number": 19
    },
    {
     "cell_type": "code",
     "collapsed": false,
     "input": [
      "myBundle.r"
     ],
     "language": "python",
     "metadata": {},
     "outputs": []
    },
    {
     "cell_type": "code",
     "collapsed": false,
     "input": [
      "\n",
      "bgroup = metricBundles.MetricBundleGroup({0: myBundle}, opsdb, outDir='newmetric_test', resultsDb=None)\n",
      "bgroup.runAll()"
     ],
     "language": "python",
     "metadata": {},
     "outputs": []
    },
    {
     "cell_type": "code",
     "collapsed": false,
     "input": [
      "l = [1.2, 3.]"
     ],
     "language": "python",
     "metadata": {},
     "outputs": []
    },
    {
     "cell_type": "code",
     "collapsed": false,
     "input": [
      "type(l)"
     ],
     "language": "python",
     "metadata": {},
     "outputs": []
    },
    {
     "cell_type": "code",
     "collapsed": false,
     "input": [],
     "language": "python",
     "metadata": {},
     "outputs": []
    }
   ],
   "metadata": {}
  }
 ]
}