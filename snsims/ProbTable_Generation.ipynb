{
 "cells": [
  {
   "cell_type": "code",
   "execution_count": 1,
   "metadata": {
    "collapsed": false
   },
   "outputs": [
    {
     "name": "stderr",
     "output_type": "stream",
     "text": [
      "/usr/local/manual/anaconda/lib/python2.7/site-packages/matplotlib/__init__.py:872: UserWarning: axes.color_cycle is deprecated and replaced with axes.prop_cycle; please use the latter.\n",
      "  warnings.warn(self.msg_depr % (key, alt_key))\n"
     ]
    }
   ],
   "source": [
    "%matplotlib inline\n",
    "import matplotlib.pyplot as plt\n",
    "import seaborn as sns\n",
    "sns.set()\n",
    "from __future__ import division, print_function, absolute_import"
   ]
  },
  {
   "cell_type": "code",
   "execution_count": 2,
   "metadata": {
    "collapsed": true
   },
   "outputs": [],
   "source": [
    "import numpy as np\n",
    "import pymssql\n",
    "import pandas as pd\n",
    "import os"
   ]
  },
  {
   "cell_type": "code",
   "execution_count": 3,
   "metadata": {
    "collapsed": false
   },
   "outputs": [
    {
     "name": "stderr",
     "output_type": "stream",
     "text": [
      "/Users/rbiswas/src/LSST/sims_catalogs_generation/python/lsst/sims/catalogs/generation/db/dbConnection.py:438: UserWarning: Duplicate object type id 25 specified: \n",
      "Output object ids may not be unique.\n",
      "This may not be a problem if you do not want globally unique id values\n",
      "  'want globally unique id values')\n",
      "/Users/rbiswas/src/LSST/sims_catalogs_generation/python/lsst/sims/catalogs/generation/db/dbConnection.py:438: UserWarning: Duplicate object type id 40 specified: \n",
      "Output object ids may not be unique.\n",
      "This may not be a problem if you do not want globally unique id values\n",
      "  'want globally unique id values')\n"
     ]
    }
   ],
   "source": [
    "from lsst.sims.catalogs.measures.instance import InstanceCatalog\n",
    "import lsst.sims.catUtils.baseCatalogModels as bcm\n",
    "from lsst.sims.catalogs.generation.db import CatalogDBObject\n",
    "from lsst.sims.catUtils.baseCatalogModels.GalaxyModels import GalaxyTileObj\n",
    "from lsst.sims.utils import ObservationMetaData\n",
    "from lsst.utils import getPackageDir"
   ]
  },
  {
   "cell_type": "code",
   "execution_count": 4,
   "metadata": {
    "collapsed": true
   },
   "outputs": [],
   "source": [
    "from astropy.cosmology import FlatLambdaCDM\n",
    "cosmo = FlatLambdaCDM(Om0=0.25, H0=73.)"
   ]
  },
  {
   "cell_type": "code",
   "execution_count": 5,
   "metadata": {
    "collapsed": true
   },
   "outputs": [],
   "source": [
    "from lsst.daf.persistence import DbAuth\n",
    "import lsst.pex.config as pexConfig"
   ]
  },
  {
   "cell_type": "code",
   "execution_count": 6,
   "metadata": {
    "collapsed": false
   },
   "outputs": [],
   "source": [
    "# %%timeit \n",
    "# Connect to DataBase\n",
    "config = bcm.BaseCatalogConfig()\n",
    "config.load(os.path.join(getPackageDir(\"sims_catUtils\"), \"config\", \"db.py\"))\n",
    "DBConnection = pymssql.connect(user=DbAuth.username(config.host, config.port),\n",
    "                               password=DbAuth.password(config.host, config.port),\n",
    "                               database=config.database, port=config.port)\n",
    "db = DBConnection.cursor()\n",
    "\n"
   ]
  },
  {
   "cell_type": "code",
   "execution_count": 7,
   "metadata": {
    "collapsed": false
   },
   "outputs": [
    {
     "name": "stdout",
     "output_type": "stream",
     "text": [
      "13.758768 million galaxies in base patch\n",
      "7.158432 million galaxies in base patch at redshifts less than 1.4\n"
     ]
    }
   ],
   "source": [
    "# Quick test to check that this works\n",
    "db.execute(\"\"\"SELECT COUNT(*) FROM galaxy WHERE ra < 2 and ra > -2 and dec > -2 and dec < 2\"\"\")\n",
    "totgals = db.fetchall()[0][0]\n",
    "print('{0} million galaxies in base patch'.format(totgals/1e6))\n",
    "db.execute(\"\"\"SELECT COUNT(*) FROM galaxy WHERE ra < 2 and ra > -2 and dec > -2 and dec < 2 and redshift < 1.4\"\"\")\n",
    "SNgals = db.fetchall()[0][0]\n",
    "print('{0} million galaxies in base patch at redshifts less than 1.4'.format(SNgals/1e6))"
   ]
  },
  {
   "cell_type": "markdown",
   "metadata": {},
   "source": [
    "## Galaxies"
   ]
  },
  {
   "cell_type": "code",
   "execution_count": 8,
   "metadata": {
    "collapsed": false
   },
   "outputs": [],
   "source": [
    "from lsst.sims.catalogs.measures.instance import InstanceCatalog\n",
    "import lsst.sims.catUtils.baseCatalogModels as bcm\n",
    "from lsst.sims.catalogs.generation.db import CatalogDBObject\n",
    "from lsst.sims.catUtils.baseCatalogModels.GalaxyModels import GalaxyTileObj\n",
    "from lsst.sims.utils import ObservationMetaData"
   ]
  },
  {
   "cell_type": "markdown",
   "metadata": {
    "collapsed": true
   },
   "source": [
    "## probTable"
   ]
  },
  {
   "cell_type": "code",
   "execution_count": 9,
   "metadata": {
    "collapsed": true
   },
   "outputs": [],
   "source": [
    "query = \"\"\"SELECT MIN(redshift) as minz, MAX(redshift) as maxz, \n",
    "           MIN(mass_stellar) as minM, MAX(mass_stellar) as maxM, \n",
    "           COUNT(*)FROM galaxy \n",
    "           where redshift <= 1.4 \n",
    "           and ra > -2 and dec > -2 and ra < 2 and dec < 2\"\"\""
   ]
  },
  {
   "cell_type": "code",
   "execution_count": 10,
   "metadata": {
    "collapsed": false
   },
   "outputs": [],
   "source": [
    "db.execute(query)\n",
    "minz, maxz, minM, maxM, numGals = db.fetchall()[0]"
   ]
  },
  {
   "cell_type": "code",
   "execution_count": 11,
   "metadata": {
    "collapsed": false
   },
   "outputs": [
    {
     "name": "stdout",
     "output_type": "stream",
     "text": [
      "0.00645000021905 1.39999520779 68.9491577148 7158432 8.00000009349e-07\n"
     ]
    }
   ],
   "source": [
    "print(minz, maxz, maxM, numGals, minM)"
   ]
  },
  {
   "cell_type": "code",
   "execution_count": 12,
   "metadata": {
    "collapsed": true
   },
   "outputs": [],
   "source": [
    "numBins = 14\n",
    "maxredshift =1.4\n",
    "zbinwidth = maxredshift / numBins\n",
    "masswidth = (maxM - minM) / numBins"
   ]
  },
  {
   "cell_type": "code",
   "execution_count": 13,
   "metadata": {
    "collapsed": true
   },
   "outputs": [],
   "source": [
    "query = \"\"\"SELECT g.zbin, SUM(g.mass_stellar) as TotMass FROM\n",
    "           (SELECT FLOOR(redshift/{0}) AS zbin, mass_stellar \n",
    "           FROM galaxy \n",
    "           WHERE redshift <= {1} \n",
    "               AND ra > -2\n",
    "               AND dec > -2 \n",
    "               AND ra < 2 \n",
    "               AND dec < 2) g \n",
    "            GROUP BY g.zbin \n",
    "            ORDER BY g.zbin   \"\"\".format(zbinwidth, maxredshift)"
   ]
  },
  {
   "cell_type": "code",
   "execution_count": 14,
   "metadata": {
    "collapsed": false
   },
   "outputs": [],
   "source": [
    "db.execute(query)"
   ]
  },
  {
   "cell_type": "code",
   "execution_count": 15,
   "metadata": {
    "collapsed": false
   },
   "outputs": [],
   "source": [
    "df = pd.DataFrame.from_records(db.fetchall(), columns=['zbin', 'TotMass'])"
   ]
  },
  {
   "cell_type": "code",
   "execution_count": 16,
   "metadata": {
    "collapsed": false
   },
   "outputs": [],
   "source": [
    "df.zbin = df.zbin.astype(np.int)"
   ]
  },
  {
   "cell_type": "code",
   "execution_count": 17,
   "metadata": {
    "collapsed": false
   },
   "outputs": [],
   "source": [
    "zvals = np.linspace(0., maxredshift, numBins)"
   ]
  },
  {
   "cell_type": "code",
   "execution_count": 18,
   "metadata": {
    "collapsed": false
   },
   "outputs": [
    {
     "data": {
      "text/plain": [
       "zbin         int64\n",
       "TotMass    float64\n",
       "dtype: object"
      ]
     },
     "execution_count": 18,
     "metadata": {},
     "output_type": "execute_result"
    }
   ],
   "source": [
    "df.dtypes"
   ]
  },
  {
   "cell_type": "code",
   "execution_count": null,
   "metadata": {
    "collapsed": true
   },
   "outputs": [],
   "source": [
    "def totMassDF(db, numzBin, maxRedshift):\n",
    "    \n",
    "    zbinwidth = maxRedshift / numzBin\n",
    "    query = \"\"\"SELECT g.zbin, SUM(g.mass_stellar) as TotMass FROM\n",
    "           (SELECT FLOOR(redshift/{0}) AS zbin, mass_stellar \n",
    "           FROM galaxy \n",
    "           WHERE redshift <= {1} \n",
    "               AND ra > -2\n",
    "               AND dec > -2 \n",
    "               AND ra < 2 \n",
    "               AND dec < 2) g \n",
    "            GROUP BY g.zbin \n",
    "            ORDER BY g.zbin   \"\"\".format(zbinwidth, maxRedshift)\n",
    "    db.execute(query)\n",
    "    df = pd.DataFrame.from_records(db.fetchall(), columns=['zbin', 'TotMass'])\n",
    "    df.zbin = df.zbin.astype(np.int)\n",
    "    return df"
   ]
  },
  {
   "cell_type": "code",
   "execution_count": 19,
   "metadata": {
    "collapsed": true
   },
   "outputs": [],
   "source": [
    "gals = pd.read_csv('galdb.csv')"
   ]
  },
  {
   "cell_type": "code",
   "execution_count": 20,
   "metadata": {
    "collapsed": false
   },
   "outputs": [],
   "source": [
    "gals['zbin'] = gals.redshift // zbinwidth\n",
    "gals.zbin = gals.zbin.astype(np.int)"
   ]
  },
  {
   "cell_type": "code",
   "execution_count": 21,
   "metadata": {
    "collapsed": false
   },
   "outputs": [
    {
     "data": {
      "text/plain": [
       "id                int64\n",
       "mass_stellar    float64\n",
       "redshift        float64\n",
       "ra              float64\n",
       "dec             float64\n",
       "zbin              int64\n",
       "dtype: object"
      ]
     },
     "execution_count": 21,
     "metadata": {},
     "output_type": "execute_result"
    }
   ],
   "source": [
    "gals.dtypes"
   ]
  },
  {
   "cell_type": "code",
   "execution_count": 22,
   "metadata": {
    "collapsed": false
   },
   "outputs": [],
   "source": [
    "joined = pd.merge(gals[['id', 'redshift', 'zbin', 'mass_stellar']], \n",
    "                  df, how='inner', on='zbin') "
   ]
  },
  {
   "cell_type": "code",
   "execution_count": 23,
   "metadata": {
    "collapsed": false
   },
   "outputs": [],
   "source": [
    "joined['discreteProb'] = joined['mass_stellar'] / joined['TotMass']"
   ]
  },
  {
   "cell_type": "code",
   "execution_count": 24,
   "metadata": {
    "collapsed": true
   },
   "outputs": [],
   "source": [
    "joined[['id', 'discreteProb']].to_csv('prob_table_fatboy.csv', index=False)"
   ]
  },
  {
   "cell_type": "code",
   "execution_count": 25,
   "metadata": {
    "collapsed": false
   },
   "outputs": [
    {
     "name": "stdout",
     "output_type": "stream",
     "text": [
      "id,discreteProb\r\n",
      "2638779,5.13327484172e-07\r\n",
      "5796944,4.03083118733e-07\r\n",
      "876494,1.25705161462e-06\r\n",
      "646728,1.46857156737e-06\r\n",
      "196618,1.72303323581e-05\r\n",
      "11612237,4.99115038685e-08\r\n",
      "3479879,2.50250807804e-07\r\n",
      "11598278,3.99147137678e-08\r\n",
      "2632344,2.2189829087e-07\r\n"
     ]
    }
   ],
   "source": [
    "!head prob_table_fatboy.csv"
   ]
  },
  {
   "cell_type": "markdown",
   "metadata": {},
   "source": [
    "## Tests "
   ]
  },
  {
   "cell_type": "code",
   "execution_count": 28,
   "metadata": {
    "collapsed": true
   },
   "outputs": [],
   "source": [
    "def subplot_ind(rows, cols, i):\n",
    "    return (i // cols, i % cols)"
   ]
  },
  {
   "cell_type": "code",
   "execution_count": 32,
   "metadata": {
    "collapsed": false
   },
   "outputs": [
    {
     "data": {
      "image/png": "[encoded data removed]",
      "text/plain": [
       "<matplotlib.figure.Figure at 0x128137490>"
      ]
     },
     "metadata": {},
     "output_type": "display_data"
    }
   ],
   "source": [
    "figrows = 5\n",
    "figcols = 3\n",
    "normedVal = True\n",
    "numSN = 8000\n",
    "fig, ax = plt.subplots(figrows, figcols, sharex=True, sharey=False, squeeze=True, figsize=(25, 25))\n",
    "for i in range(numBins):\n",
    "    try:\n",
    "        sind = subplot_ind(figrows, figcols, i)\n",
    "        ax[sind[0], sind[1]].set_title('z = {0:.1f} - {1:0.1f}'.format(zvals[i], zvals[i] + np.diff(zvals)[0]))\n",
    "        ax[sind[0], sind[1]].hist(np.log(joined.query('zbin==@i').mass_stellar), weights=numSN * joined.query('zbin==@i').discreteProb, \n",
    "                                  histtype='step', lw=2., normed=normedVal, color='r')\n",
    "        ax[sind[0], sind[1]].hist(np.log(joined.query('zbin==@i').mass_stellar),\n",
    "                                  weights = numSN * np.ones(len(joined.query('zbin==@i').mass_stellar))/len(joined.query('zbin==@i')),\n",
    "                                  histtype='step', lw=2., normed=normedVal, color='k')\n",
    "        # ax[sind[0], sind[1]].axhline(df.query('zbin==@i').uprob.astype('float').unique()[0], ls='dotted')\n",
    "        #ax[sind[0], sind[1]].set_xscale('log')\n",
    "        #ax[sind[0], sind[1]].set_ylim(0, 100)\n",
    "    except IndexError:\n",
    "        break "
   ]
  },
  {
   "cell_type": "code",
   "execution_count": 30,
   "metadata": {
    "collapsed": true
   },
   "outputs": [],
   "source": [
    "fig.savefig('hostMasses.png')"
   ]
  },
  {
   "cell_type": "code",
   "execution_count": 34,
   "metadata": {
    "collapsed": false
   },
   "outputs": [
    {
     "data": {
      "text/plain": [
       "Index([u'id', u'redshift', u'zbin', u'mass_stellar', u'TotMass',\n",
       "       u'discreteProb'],\n",
       "      dtype='object')"
      ]
     },
     "execution_count": 34,
     "metadata": {},
     "output_type": "execute_result"
    }
   ],
   "source": [
    "joined.columns"
   ]
  },
  {
   "cell_type": "code",
   "execution_count": 37,
   "metadata": {
    "collapsed": false
   },
   "outputs": [
    {
     "name": "stdout",
     "output_type": "stream",
     "text": [
      "redshift > 0.0 and redshift < 0.1\n",
      "21949\n",
      "redshift > 0.1 and redshift < 0.2\n",
      "144655\n",
      "redshift > 0.2 and redshift < 0.3\n",
      "296921\n",
      "redshift > 0.3 and redshift < 0.4\n",
      "444037\n",
      "redshift > 0.4 and redshift < 0.5\n",
      "551192\n",
      "redshift > 0.5 and redshift < 0.6\n",
      "588683\n",
      "redshift > 0.6 and redshift < 0.8\n",
      "1185754\n",
      "redshift > 0.8 and redshift < 0.9\n",
      "604166\n",
      "redshift > 0.9 and redshift < 1.0\n",
      "634535\n",
      "redshift > 1.0 and redshift < 1.1\n",
      "676491\n",
      "redshift > 1.1 and redshift < 1.2\n",
      "695853\n",
      "redshift > 1.2 and redshift < 1.3\n",
      "677179\n",
      "redshift > 1.3 and redshift < 1.4\n",
      "637017\n"
     ]
    },
    {
     "data": {
      "image/png": "[encoded data removed]",
      "text/plain": [
       "<matplotlib.figure.Figure at 0x119e01dd0>"
      ]
     },
     "metadata": {},
     "output_type": "display_data"
    }
   ],
   "source": [
    "fig, ax = plt.subplots()\n",
    "for i in range(numBins-1):\n",
    "    s = 'redshift > {0:.1f} and redshift < {1:0.1f}'.format(zvals[i], zvals[i] + np.diff(zvals)[0])\n",
    "    #print(joined_second.query(s).mass_stellar.size)\n",
    "    print(s)\n",
    "    l = '{0:.1f}-{1:0.1f}'.format(zvals[i], zvals[i] + np.diff(zvals)[0])\n",
    "\n",
    "    print(len(joined.query(s)))\n",
    "    joined.query(s).plot('mass_stellar', 'discreteProb', ax=ax)\n",
    "\n"
   ]
  },
  {
   "cell_type": "code",
   "execution_count": 45,
   "metadata": {
    "collapsed": false
   },
   "outputs": [
    {
     "data": {
      "text/plain": [
       "(0.0, 0.012539542312440557)"
      ]
     },
     "execution_count": 45,
     "metadata": {},
     "output_type": "execute_result"
    },
    {
     "data": {
      "image/png": "[encoded data removed]",
      "text/plain": [
       "<matplotlib.figure.Figure at 0x129473090>"
      ]
     },
     "metadata": {},
     "output_type": "display_data"
    }
   ],
   "source": [
    "fig, ax = plt.subplots()\n",
    "joined.query('redshift < 0.1').plot('mass_stellar', 'discreteProb', ax=ax)\n",
    "# ax.set_ylim(0., joined.discreteProb.max())\n"
   ]
  },
  {
   "cell_type": "code",
   "execution_count": 48,
   "metadata": {
    "collapsed": false
   },
   "outputs": [
    {
     "data": {
      "text/html": [
       "<div>\n",
       "<table border=\"1\" class=\"dataframe\">\n",
       "  <thead>\n",
       "    <tr style=\"text-align: right;\">\n",
       "      <th></th>\n",
       "      <th>id</th>\n",
       "      <th>redshift</th>\n",
       "      <th>zbin</th>\n",
       "      <th>mass_stellar</th>\n",
       "      <th>TotMass</th>\n",
       "      <th>discreteProb</th>\n",
       "    </tr>\n",
       "  </thead>\n",
       "  <tbody>\n",
       "    <tr>\n",
       "      <th>7150744</th>\n",
       "      <td>23</td>\n",
       "      <td>0.079003</td>\n",
       "      <td>0</td>\n",
       "      <td>18.793427</td>\n",
       "      <td>1498.733051</td>\n",
       "      <td>0.012540</td>\n",
       "    </tr>\n",
       "    <tr>\n",
       "      <th>7150752</th>\n",
       "      <td>151</td>\n",
       "      <td>0.078980</td>\n",
       "      <td>0</td>\n",
       "      <td>15.367709</td>\n",
       "      <td>1498.733051</td>\n",
       "      <td>0.010254</td>\n",
       "    </tr>\n",
       "  </tbody>\n",
       "</table>\n",
       "</div>"
      ],
      "text/plain": [
       "          id  redshift  zbin  mass_stellar      TotMass  discreteProb\n",
       "7150744   23  0.079003     0     18.793427  1498.733051      0.012540\n",
       "7150752  151  0.078980     0     15.367709  1498.733051      0.010254"
      ]
     },
     "execution_count": 48,
     "metadata": {},
     "output_type": "execute_result"
    }
   ],
   "source": [
    "joined.query('discreteProb > 0.01')"
   ]
  },
  {
   "cell_type": "code",
   "execution_count": 39,
   "metadata": {
    "collapsed": true
   },
   "outputs": [],
   "source": [
    "test = joined.query('redshift < 0.1')"
   ]
  },
  {
   "cell_type": "code",
   "execution_count": 43,
   "metadata": {
    "collapsed": false
   },
   "outputs": [
    {
     "data": {
      "text/plain": [
       "0.00066723023091600886"
      ]
     },
     "execution_count": 43,
     "metadata": {},
     "output_type": "execute_result"
    }
   ],
   "source": [
    "1.0 / test.mass_stellar.sum()"
   ]
  },
  {
   "cell_type": "code",
   "execution_count": 54,
   "metadata": {
    "collapsed": false
   },
   "outputs": [
    {
     "data": {
      "text/html": [
       "<div>\n",
       "<table border=\"1\" class=\"dataframe\">\n",
       "  <thead>\n",
       "    <tr style=\"text-align: right;\">\n",
       "      <th></th>\n",
       "      <th>mass_stellar</th>\n",
       "      <th>TotMass</th>\n",
       "    </tr>\n",
       "  </thead>\n",
       "  <tbody>\n",
       "    <tr>\n",
       "      <th>2202</th>\n",
       "      <td>30.794590</td>\n",
       "      <td>109045.005856</td>\n",
       "    </tr>\n",
       "    <tr>\n",
       "      <th>12497</th>\n",
       "      <td>33.471626</td>\n",
       "      <td>109045.005856</td>\n",
       "    </tr>\n",
       "    <tr>\n",
       "      <th>18067</th>\n",
       "      <td>57.975323</td>\n",
       "      <td>109045.005856</td>\n",
       "    </tr>\n",
       "    <tr>\n",
       "      <th>19927</th>\n",
       "      <td>61.664181</td>\n",
       "      <td>109045.005856</td>\n",
       "    </tr>\n",
       "    <tr>\n",
       "      <th>32698</th>\n",
       "      <td>30.255306</td>\n",
       "      <td>109045.005856</td>\n",
       "    </tr>\n",
       "    <tr>\n",
       "      <th>40061</th>\n",
       "      <td>33.471626</td>\n",
       "      <td>109045.005856</td>\n",
       "    </tr>\n",
       "    <tr>\n",
       "      <th>41312</th>\n",
       "      <td>30.573492</td>\n",
       "      <td>109045.005856</td>\n",
       "    </tr>\n",
       "    <tr>\n",
       "      <th>41639</th>\n",
       "      <td>57.975323</td>\n",
       "      <td>109045.005856</td>\n",
       "    </tr>\n",
       "    <tr>\n",
       "      <th>45328</th>\n",
       "      <td>42.111847</td>\n",
       "      <td>109045.005856</td>\n",
       "    </tr>\n",
       "    <tr>\n",
       "      <th>53016</th>\n",
       "      <td>31.651009</td>\n",
       "      <td>109045.005856</td>\n",
       "    </tr>\n",
       "    <tr>\n",
       "      <th>53609</th>\n",
       "      <td>31.651009</td>\n",
       "      <td>109045.005856</td>\n",
       "    </tr>\n",
       "    <tr>\n",
       "      <th>55032</th>\n",
       "      <td>57.975323</td>\n",
       "      <td>109045.005856</td>\n",
       "    </tr>\n",
       "    <tr>\n",
       "      <th>55571</th>\n",
       "      <td>30.794590</td>\n",
       "      <td>109045.005856</td>\n",
       "    </tr>\n",
       "    <tr>\n",
       "      <th>62066</th>\n",
       "      <td>61.664181</td>\n",
       "      <td>109045.005856</td>\n",
       "    </tr>\n",
       "    <tr>\n",
       "      <th>80795</th>\n",
       "      <td>30.255306</td>\n",
       "      <td>109045.005856</td>\n",
       "    </tr>\n",
       "    <tr>\n",
       "      <th>81313</th>\n",
       "      <td>31.209532</td>\n",
       "      <td>109045.005856</td>\n",
       "    </tr>\n",
       "    <tr>\n",
       "      <th>85738</th>\n",
       "      <td>41.632030</td>\n",
       "      <td>109045.005856</td>\n",
       "    </tr>\n",
       "    <tr>\n",
       "      <th>86617</th>\n",
       "      <td>30.794590</td>\n",
       "      <td>109045.005856</td>\n",
       "    </tr>\n",
       "    <tr>\n",
       "      <th>87307</th>\n",
       "      <td>36.467682</td>\n",
       "      <td>109045.005856</td>\n",
       "    </tr>\n",
       "    <tr>\n",
       "      <th>88653</th>\n",
       "      <td>35.151379</td>\n",
       "      <td>109045.005856</td>\n",
       "    </tr>\n",
       "    <tr>\n",
       "      <th>89747</th>\n",
       "      <td>35.151379</td>\n",
       "      <td>109045.005856</td>\n",
       "    </tr>\n",
       "    <tr>\n",
       "      <th>93650</th>\n",
       "      <td>37.418106</td>\n",
       "      <td>109045.005856</td>\n",
       "    </tr>\n",
       "    <tr>\n",
       "      <th>96687</th>\n",
       "      <td>30.794590</td>\n",
       "      <td>109045.005856</td>\n",
       "    </tr>\n",
       "    <tr>\n",
       "      <th>100387</th>\n",
       "      <td>36.467682</td>\n",
       "      <td>109045.005856</td>\n",
       "    </tr>\n",
       "    <tr>\n",
       "      <th>100480</th>\n",
       "      <td>30.794590</td>\n",
       "      <td>109045.005856</td>\n",
       "    </tr>\n",
       "    <tr>\n",
       "      <th>104943</th>\n",
       "      <td>61.664181</td>\n",
       "      <td>109045.005856</td>\n",
       "    </tr>\n",
       "    <tr>\n",
       "      <th>116631</th>\n",
       "      <td>37.418106</td>\n",
       "      <td>109045.005856</td>\n",
       "    </tr>\n",
       "    <tr>\n",
       "      <th>124123</th>\n",
       "      <td>61.664181</td>\n",
       "      <td>109045.005856</td>\n",
       "    </tr>\n",
       "    <tr>\n",
       "      <th>124351</th>\n",
       "      <td>30.573492</td>\n",
       "      <td>109045.005856</td>\n",
       "    </tr>\n",
       "    <tr>\n",
       "      <th>125722</th>\n",
       "      <td>42.111847</td>\n",
       "      <td>109045.005856</td>\n",
       "    </tr>\n",
       "    <tr>\n",
       "      <th>...</th>\n",
       "      <td>...</td>\n",
       "      <td>...</td>\n",
       "    </tr>\n",
       "    <tr>\n",
       "      <th>7021825</th>\n",
       "      <td>65.748413</td>\n",
       "      <td>40228.394025</td>\n",
       "    </tr>\n",
       "    <tr>\n",
       "      <th>7022659</th>\n",
       "      <td>65.748413</td>\n",
       "      <td>40228.394025</td>\n",
       "    </tr>\n",
       "    <tr>\n",
       "      <th>7025881</th>\n",
       "      <td>35.367283</td>\n",
       "      <td>40228.394025</td>\n",
       "    </tr>\n",
       "    <tr>\n",
       "      <th>7027153</th>\n",
       "      <td>35.572285</td>\n",
       "      <td>40228.394025</td>\n",
       "    </tr>\n",
       "    <tr>\n",
       "      <th>7032510</th>\n",
       "      <td>30.082478</td>\n",
       "      <td>40228.394025</td>\n",
       "    </tr>\n",
       "    <tr>\n",
       "      <th>7041825</th>\n",
       "      <td>49.488762</td>\n",
       "      <td>40228.394025</td>\n",
       "    </tr>\n",
       "    <tr>\n",
       "      <th>7047415</th>\n",
       "      <td>30.082478</td>\n",
       "      <td>40228.394025</td>\n",
       "    </tr>\n",
       "    <tr>\n",
       "      <th>7049214</th>\n",
       "      <td>65.748413</td>\n",
       "      <td>40228.394025</td>\n",
       "    </tr>\n",
       "    <tr>\n",
       "      <th>7050755</th>\n",
       "      <td>38.512096</td>\n",
       "      <td>40228.394025</td>\n",
       "    </tr>\n",
       "    <tr>\n",
       "      <th>7053454</th>\n",
       "      <td>48.025307</td>\n",
       "      <td>40228.394025</td>\n",
       "    </tr>\n",
       "    <tr>\n",
       "      <th>7053873</th>\n",
       "      <td>30.082478</td>\n",
       "      <td>40228.394025</td>\n",
       "    </tr>\n",
       "    <tr>\n",
       "      <th>7059213</th>\n",
       "      <td>65.748413</td>\n",
       "      <td>40228.394025</td>\n",
       "    </tr>\n",
       "    <tr>\n",
       "      <th>7059646</th>\n",
       "      <td>35.367283</td>\n",
       "      <td>40228.394025</td>\n",
       "    </tr>\n",
       "    <tr>\n",
       "      <th>7087174</th>\n",
       "      <td>65.748413</td>\n",
       "      <td>40228.394025</td>\n",
       "    </tr>\n",
       "    <tr>\n",
       "      <th>7087272</th>\n",
       "      <td>49.488762</td>\n",
       "      <td>40228.394025</td>\n",
       "    </tr>\n",
       "    <tr>\n",
       "      <th>7088589</th>\n",
       "      <td>35.572285</td>\n",
       "      <td>40228.394025</td>\n",
       "    </tr>\n",
       "    <tr>\n",
       "      <th>7090888</th>\n",
       "      <td>49.488762</td>\n",
       "      <td>40228.394025</td>\n",
       "    </tr>\n",
       "    <tr>\n",
       "      <th>7110154</th>\n",
       "      <td>35.367283</td>\n",
       "      <td>40228.394025</td>\n",
       "    </tr>\n",
       "    <tr>\n",
       "      <th>7110582</th>\n",
       "      <td>65.748413</td>\n",
       "      <td>40228.394025</td>\n",
       "    </tr>\n",
       "    <tr>\n",
       "      <th>7111053</th>\n",
       "      <td>30.082478</td>\n",
       "      <td>40228.394025</td>\n",
       "    </tr>\n",
       "    <tr>\n",
       "      <th>7114196</th>\n",
       "      <td>30.082478</td>\n",
       "      <td>40228.394025</td>\n",
       "    </tr>\n",
       "    <tr>\n",
       "      <th>7116165</th>\n",
       "      <td>65.748413</td>\n",
       "      <td>40228.394025</td>\n",
       "    </tr>\n",
       "    <tr>\n",
       "      <th>7119189</th>\n",
       "      <td>35.367283</td>\n",
       "      <td>40228.394025</td>\n",
       "    </tr>\n",
       "    <tr>\n",
       "      <th>7119423</th>\n",
       "      <td>65.748413</td>\n",
       "      <td>40228.394025</td>\n",
       "    </tr>\n",
       "    <tr>\n",
       "      <th>7124318</th>\n",
       "      <td>48.025307</td>\n",
       "      <td>40228.394025</td>\n",
       "    </tr>\n",
       "    <tr>\n",
       "      <th>7125836</th>\n",
       "      <td>38.512096</td>\n",
       "      <td>40228.394025</td>\n",
       "    </tr>\n",
       "    <tr>\n",
       "      <th>7128060</th>\n",
       "      <td>35.572285</td>\n",
       "      <td>40228.394025</td>\n",
       "    </tr>\n",
       "    <tr>\n",
       "      <th>7130139</th>\n",
       "      <td>48.025307</td>\n",
       "      <td>40228.394025</td>\n",
       "    </tr>\n",
       "    <tr>\n",
       "      <th>7130372</th>\n",
       "      <td>65.748413</td>\n",
       "      <td>40228.394025</td>\n",
       "    </tr>\n",
       "    <tr>\n",
       "      <th>7131568</th>\n",
       "      <td>48.025307</td>\n",
       "      <td>40228.394025</td>\n",
       "    </tr>\n",
       "  </tbody>\n",
       "</table>\n",
       "<p>1388 rows × 2 columns</p>\n",
       "</div>"
      ],
      "text/plain": [
       "         mass_stellar        TotMass\n",
       "2202        30.794590  109045.005856\n",
       "12497       33.471626  109045.005856\n",
       "18067       57.975323  109045.005856\n",
       "19927       61.664181  109045.005856\n",
       "32698       30.255306  109045.005856\n",
       "40061       33.471626  109045.005856\n",
       "41312       30.573492  109045.005856\n",
       "41639       57.975323  109045.005856\n",
       "45328       42.111847  109045.005856\n",
       "53016       31.651009  109045.005856\n",
       "53609       31.651009  109045.005856\n",
       "55032       57.975323  109045.005856\n",
       "55571       30.794590  109045.005856\n",
       "62066       61.664181  109045.005856\n",
       "80795       30.255306  109045.005856\n",
       "81313       31.209532  109045.005856\n",
       "85738       41.632030  109045.005856\n",
       "86617       30.794590  109045.005856\n",
       "87307       36.467682  109045.005856\n",
       "88653       35.151379  109045.005856\n",
       "89747       35.151379  109045.005856\n",
       "93650       37.418106  109045.005856\n",
       "96687       30.794590  109045.005856\n",
       "100387      36.467682  109045.005856\n",
       "100480      30.794590  109045.005856\n",
       "104943      61.664181  109045.005856\n",
       "116631      37.418106  109045.005856\n",
       "124123      61.664181  109045.005856\n",
       "124351      30.573492  109045.005856\n",
       "125722      42.111847  109045.005856\n",
       "...               ...            ...\n",
       "7021825     65.748413   40228.394025\n",
       "7022659     65.748413   40228.394025\n",
       "7025881     35.367283   40228.394025\n",
       "7027153     35.572285   40228.394025\n",
       "7032510     30.082478   40228.394025\n",
       "7041825     49.488762   40228.394025\n",
       "7047415     30.082478   40228.394025\n",
       "7049214     65.748413   40228.394025\n",
       "7050755     38.512096   40228.394025\n",
       "7053454     48.025307   40228.394025\n",
       "7053873     30.082478   40228.394025\n",
       "7059213     65.748413   40228.394025\n",
       "7059646     35.367283   40228.394025\n",
       "7087174     65.748413   40228.394025\n",
       "7087272     49.488762   40228.394025\n",
       "7088589     35.572285   40228.394025\n",
       "7090888     49.488762   40228.394025\n",
       "7110154     35.367283   40228.394025\n",
       "7110582     65.748413   40228.394025\n",
       "7111053     30.082478   40228.394025\n",
       "7114196     30.082478   40228.394025\n",
       "7116165     65.748413   40228.394025\n",
       "7119189     35.367283   40228.394025\n",
       "7119423     65.748413   40228.394025\n",
       "7124318     48.025307   40228.394025\n",
       "7125836     38.512096   40228.394025\n",
       "7128060     35.572285   40228.394025\n",
       "7130139     48.025307   40228.394025\n",
       "7130372     65.748413   40228.394025\n",
       "7131568     48.025307   40228.394025\n",
       "\n",
       "[1388 rows x 2 columns]"
      ]
     },
     "execution_count": 54,
     "metadata": {},
     "output_type": "execute_result"
    }
   ],
   "source": [
    "joined.query('mass_stellar > 30')[['mass_stellar','TotMass']]"
   ]
  },
  {
   "cell_type": "code",
   "execution_count": 41,
   "metadata": {
    "collapsed": false
   },
   "outputs": [
    {
     "data": {
      "text/plain": [
       "7136483    0.000667\n",
       "7136484    0.000667\n",
       "7136485    0.000667\n",
       "7136486    0.000667\n",
       "7136487    0.000667\n",
       "7136488    0.000667\n",
       "7136489    0.000667\n",
       "7136490    0.000667\n",
       "7136491    0.000667\n",
       "7136492    0.000667\n",
       "7136493    0.000667\n",
       "7136494    0.000667\n",
       "7136495    0.000667\n",
       "7136496    0.000667\n",
       "7136497    0.000667\n",
       "7136498    0.000667\n",
       "7136499    0.000667\n",
       "7136500    0.000667\n",
       "7136501    0.000667\n",
       "7136502    0.000667\n",
       "7136503    0.000667\n",
       "7136504    0.000667\n",
       "7136505    0.000667\n",
       "7136506    0.000667\n",
       "7136507    0.000667\n",
       "7136508    0.000667\n",
       "7136509    0.000667\n",
       "7136510    0.000667\n",
       "7136511    0.000667\n",
       "7136512    0.000667\n",
       "             ...   \n",
       "7158402    0.000667\n",
       "7158403    0.000667\n",
       "7158404    0.000667\n",
       "7158405    0.000667\n",
       "7158406    0.000667\n",
       "7158407    0.000667\n",
       "7158408    0.000667\n",
       "7158409    0.000667\n",
       "7158410    0.000667\n",
       "7158411    0.000667\n",
       "7158412    0.000667\n",
       "7158413    0.000667\n",
       "7158414    0.000667\n",
       "7158415    0.000667\n",
       "7158416    0.000667\n",
       "7158417    0.000667\n",
       "7158418    0.000667\n",
       "7158419    0.000667\n",
       "7158420    0.000667\n",
       "7158421    0.000667\n",
       "7158422    0.000667\n",
       "7158423    0.000667\n",
       "7158424    0.000667\n",
       "7158425    0.000667\n",
       "7158426    0.000667\n",
       "7158427    0.000667\n",
       "7158428    0.000667\n",
       "7158429    0.000667\n",
       "7158430    0.000667\n",
       "7158431    0.000667\n",
       "dtype: float64"
      ]
     },
     "execution_count": 41,
     "metadata": {},
     "output_type": "execute_result"
    }
   ],
   "source": [
    "test.discreteProb / test.mass_stellar"
   ]
  },
  {
   "cell_type": "code",
   "execution_count": 49,
   "metadata": {
    "collapsed": false
   },
   "outputs": [
    {
     "data": {
      "text/html": [
       "<div>\n",
       "<table border=\"1\" class=\"dataframe\">\n",
       "  <thead>\n",
       "    <tr style=\"text-align: right;\">\n",
       "      <th></th>\n",
       "      <th>id</th>\n",
       "      <th>redshift</th>\n",
       "      <th>zbin</th>\n",
       "      <th>mass_stellar</th>\n",
       "      <th>TotMass</th>\n",
       "      <th>discreteProb</th>\n",
       "    </tr>\n",
       "  </thead>\n",
       "  <tbody>\n",
       "    <tr>\n",
       "      <th>0</th>\n",
       "      <td>2638779</td>\n",
       "      <td>0.407043</td>\n",
       "      <td>4</td>\n",
       "      <td>0.055976</td>\n",
       "      <td>109045.005856</td>\n",
       "      <td>5.133275e-07</td>\n",
       "    </tr>\n",
       "    <tr>\n",
       "      <th>1</th>\n",
       "      <td>5796944</td>\n",
       "      <td>0.477448</td>\n",
       "      <td>4</td>\n",
       "      <td>0.043954</td>\n",
       "      <td>109045.005856</td>\n",
       "      <td>4.030831e-07</td>\n",
       "    </tr>\n",
       "    <tr>\n",
       "      <th>2</th>\n",
       "      <td>876494</td>\n",
       "      <td>0.497270</td>\n",
       "      <td>4</td>\n",
       "      <td>0.137075</td>\n",
       "      <td>109045.005856</td>\n",
       "      <td>1.257052e-06</td>\n",
       "    </tr>\n",
       "    <tr>\n",
       "      <th>3</th>\n",
       "      <td>646728</td>\n",
       "      <td>0.407099</td>\n",
       "      <td>4</td>\n",
       "      <td>0.160140</td>\n",
       "      <td>109045.005856</td>\n",
       "      <td>1.468572e-06</td>\n",
       "    </tr>\n",
       "    <tr>\n",
       "      <th>4</th>\n",
       "      <td>196618</td>\n",
       "      <td>0.484248</td>\n",
       "      <td>4</td>\n",
       "      <td>1.878882</td>\n",
       "      <td>109045.005856</td>\n",
       "      <td>1.723033e-05</td>\n",
       "    </tr>\n",
       "  </tbody>\n",
       "</table>\n",
       "</div>"
      ],
      "text/plain": [
       "        id  redshift  zbin  mass_stellar        TotMass  discreteProb\n",
       "0  2638779  0.407043     4      0.055976  109045.005856  5.133275e-07\n",
       "1  5796944  0.477448     4      0.043954  109045.005856  4.030831e-07\n",
       "2   876494  0.497270     4      0.137075  109045.005856  1.257052e-06\n",
       "3   646728  0.407099     4      0.160140  109045.005856  1.468572e-06\n",
       "4   196618  0.484248     4      1.878882  109045.005856  1.723033e-05"
      ]
     },
     "execution_count": 49,
     "metadata": {},
     "output_type": "execute_result"
    }
   ],
   "source": [
    "joined.head()"
   ]
  },
  {
   "cell_type": "code",
   "execution_count": null,
   "metadata": {
    "collapsed": true
   },
   "outputs": [],
   "source": []
  }
 ],
 "metadata": {
  "kernelspec": {
   "display_name": "Python 2",
   "language": "python",
   "name": "python2"
  },
  "language_info": {
   "codemirror_mode": {
    "name": "ipython",
    "version": 2
   },
   "file_extension": ".py",
   "mimetype": "text/x-python",
   "name": "python",
   "nbconvert_exporter": "python",
   "pygments_lexer": "ipython2",
   "version": "2.7.11"
  }
 },
 "nbformat": 4,
 "nbformat_minor": 0
}
