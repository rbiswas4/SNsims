{
 "cells": [
  {
   "cell_type": "code",
   "execution_count": 1,
   "metadata": {
    "collapsed": false
   },
   "outputs": [
    {
     "name": "stderr",
     "output_type": "stream",
     "text": [
      "/usr/local/manual/anaconda/lib/python2.7/site-packages/matplotlib/__init__.py:872: UserWarning: axes.color_cycle is deprecated and replaced with axes.prop_cycle; please use the latter.\n",
      "  warnings.warn(self.msg_depr % (key, alt_key))\n"
     ]
    }
   ],
   "source": [
    "import numpy as np\n",
    "import pandas as pd\n",
    "import seaborn as sns\n",
    "sns.set()"
   ]
  },
  {
   "cell_type": "code",
   "execution_count": 2,
   "metadata": {
    "collapsed": true
   },
   "outputs": [],
   "source": [
    "%matplotlib inline\n",
    "import matplotlib.pyplot as plt\n",
    "import time"
   ]
  },
  {
   "cell_type": "code",
   "execution_count": 3,
   "metadata": {
    "collapsed": true
   },
   "outputs": [],
   "source": [
    "import sncosmo"
   ]
  },
  {
   "cell_type": "code",
   "execution_count": 4,
   "metadata": {
    "collapsed": false
   },
   "outputs": [],
   "source": [
    "from lsst.sims.utils import ObservationMetaData\n",
    "from lsst.sims.catalogs.measures.instance import InstanceCatalog"
   ]
  },
  {
   "cell_type": "code",
   "execution_count": 5,
   "metadata": {
    "collapsed": false
   },
   "outputs": [
    {
     "name": "stderr",
     "output_type": "stream",
     "text": [
      "/Users/rbiswas/src/LSST/sims_catalogs_generation/python/lsst/sims/catalogs/generation/db/dbConnection.py:438: UserWarning: Duplicate object type id 25 specified: \n",
      "Output object ids may not be unique.\n",
      "This may not be a problem if you do not want globally unique id values\n",
      "  'want globally unique id values')\n",
      "/Users/rbiswas/src/LSST/sims_catalogs_generation/python/lsst/sims/catalogs/generation/db/dbConnection.py:438: UserWarning: Duplicate object type id 40 specified: \n",
      "Output object ids may not be unique.\n",
      "This may not be a problem if you do not want globally unique id values\n",
      "  'want globally unique id values')\n"
     ]
    }
   ],
   "source": [
    "#The following is to get the object ids in the registry\n",
    "import lsst.sims.catUtils.baseCatalogModels as bcm\n",
    "from lsst.sims.catalogs.generation.db import CatalogDBObject\n",
    "from lsst.sims.catUtils.baseCatalogModels.GalaxyModels import GalaxyTileObj"
   ]
  },
  {
   "cell_type": "code",
   "execution_count": 6,
   "metadata": {
    "collapsed": true
   },
   "outputs": [],
   "source": [
    "import rates"
   ]
  },
  {
   "cell_type": "code",
   "execution_count": 7,
   "metadata": {
    "collapsed": false
   },
   "outputs": [],
   "source": [
    "from astropy.cosmology import FlatLambdaCDM\n",
    "cosmo = FlatLambdaCDM(Om0=0.25, H0=73.)"
   ]
  },
  {
   "cell_type": "code",
   "execution_count": 6,
   "metadata": {
    "collapsed": false
   },
   "outputs": [],
   "source": [
    "TwinklesArea = np.radians(1.0/6.)**2 \n",
    "AreaFactor = np.pi * (np.sqrt(2)*0.4)**2./(1./6.)**2"
   ]
  },
  {
   "cell_type": "code",
   "execution_count": 12,
   "metadata": {
    "collapsed": false
   },
   "outputs": [
    {
     "data": {
      "text/plain": [
       "36.191147369354432"
      ]
     },
     "execution_count": 12,
     "metadata": {},
     "output_type": "execute_result"
    }
   ],
   "source": [
    "AreaFactor"
   ]
  },
  {
   "cell_type": "code",
   "execution_count": 11,
   "metadata": {
    "collapsed": true
   },
   "outputs": [],
   "source": [
    "# Requirement\n",
    "# There should be 100 SN in the redshift range 0, 0.7 in teh Twinkles area in 1 year (season)"
   ]
  },
  {
   "cell_type": "code",
   "execution_count": 12,
   "metadata": {
    "collapsed": false
   },
   "outputs": [
    {
     "name": "stdout",
     "output_type": "stream",
     "text": [
      "131.740349077\n"
     ]
    }
   ],
   "source": [
    "factor = 100./rates.numSN(0., 0.7, 70, cosmo, fieldArea=TwinklesArea, DeltaT=0.5, snrate=rates.snRate).sum();\n",
    "print factor"
   ]
  },
  {
   "cell_type": "code",
   "execution_count": 13,
   "metadata": {
    "collapsed": false
   },
   "outputs": [
    {
     "data": {
      "text/plain": [
       "array([ 0.  ,  0.05,  0.1 ,  0.15,  0.2 ,  0.25,  0.3 ,  0.35,  0.4 ,\n",
       "        0.45,  0.5 ,  0.55,  0.6 ,  0.65,  0.7 ,  0.75,  0.8 ,  0.85,\n",
       "        0.9 ,  0.95,  1.  ,  1.05,  1.1 ,  1.15])"
      ]
     },
     "execution_count": 13,
     "metadata": {},
     "output_type": "execute_result"
    }
   ],
   "source": [
    "binwidth = 0.05\n",
    "zbins = np.arange(0., 1.2, binwidth);zbins"
   ]
  },
  {
   "cell_type": "code",
   "execution_count": 14,
   "metadata": {
    "collapsed": false
   },
   "outputs": [
    {
     "name": "stdout",
     "output_type": "stream",
     "text": [
      "24\n"
     ]
    }
   ],
   "source": [
    "zup = np.arange(binwidth, 1.2 + binwidth, binwidth)\n",
    "zmid = (zbins + zup ) /2.\n",
    "print len(zbins)"
   ]
  },
  {
   "cell_type": "code",
   "execution_count": 15,
   "metadata": {
    "collapsed": false
   },
   "outputs": [],
   "source": [
    "# Numbers of Supernova in a circular region of size 0.4 * sqrt(2) in the sprinkled region over 10 years\n",
    "snnum = factor*rates.numSN(0., 1.2+ binwidth, len(zbins), cosmo, AreaFactor* TwinklesArea, 10, snrate=rates.snRate)"
   ]
  },
  {
   "cell_type": "code",
   "execution_count": 16,
   "metadata": {
    "collapsed": false
   },
   "outputs": [
    {
     "data": {
      "image/png": "[encoded data removed]",
      "text/plain": [
       "<matplotlib.figure.Figure at 0x11560a050>"
      ]
     },
     "metadata": {},
     "output_type": "display_data"
    }
   ],
   "source": [
    "fig, ax = plt.subplots(2,1, sharex=True)\n",
    "_ = ax[0].plot(zmid, factor*rates.numSN(0., 1.2 + binwidth, len(zbins), cosmo, \n",
    "                                 TwinklesArea, 0.5, snrate=rates.snRate).cumsum())\n",
    "\n",
    "_ = ax[1].step(zmid, factor*rates.numSN(0., 1.2 + binwidth, len(zbins), cosmo, \n",
    "                                 TwinklesArea, 0.5, snrate=rates.snRate))\n",
    "ax[0].set_ylabel('Num SN < z')\n",
    "ax[1].set_ylabel('Num SN in z bins')\n",
    "_ = fig.suptitle('Num  SN in the Twinkles Field in 0.5 year')"
   ]
  },
  {
   "cell_type": "code",
   "execution_count": 17,
   "metadata": {
    "collapsed": false
   },
   "outputs": [
    {
     "data": {
      "text/plain": [
       "(array([   1.05412239,    7.30008054,   19.46694017,   37.10801177,\n",
       "          59.71467839,   86.73952331,  117.61698208,  151.78102231,\n",
       "         188.67962096,  227.78604028,  268.60708401,  310.68864052,\n",
       "         353.61889189,  397.02959617,  440.59584396,  484.03466126,\n",
       "         527.10278679,  569.59390187,  611.33554021,  652.18585626,\n",
       "         692.03038791,  730.77891228,  768.3624625 ,  804.73054909]),\n",
       " array([ 0.        ,  0.04791667,  0.09583333,  0.14375   ,  0.19166667,\n",
       "         0.23958333,  0.2875    ,  0.33541667,  0.38333333,  0.43125   ,\n",
       "         0.47916667,  0.52708333,  0.575     ,  0.62291667,  0.67083333,\n",
       "         0.71875   ,  0.76666667,  0.81458333,  0.8625    ,  0.91041667,\n",
       "         0.95833333,  1.00625   ,  1.05416667,  1.10208333,  1.15      ]),\n",
       " <a list of 1 Patch objects>)"
      ]
     },
     "execution_count": 17,
     "metadata": {},
     "output_type": "execute_result"
    },
    {
     "data": {
      "image/png": "[encoded data removed]",
      "text/plain": [
       "<matplotlib.figure.Figure at 0x115607350>"
      ]
     },
     "metadata": {},
     "output_type": "display_data"
    }
   ],
   "source": [
    "plt.hist(zbins, weights=snnum/AreaFactor, bins=24, histtype='step', alpha=1, lw=2, color='k')"
   ]
  },
  {
   "cell_type": "markdown",
   "metadata": {},
   "source": [
    "## Get Galaxies on Fatboy"
   ]
  },
  {
   "cell_type": "code",
   "execution_count": 7,
   "metadata": {
    "collapsed": false
   },
   "outputs": [],
   "source": [
    "degConv = np.array([1., 1./60., 1./3600.])\n",
    "raConv = degConv / 24.0 * 360.\n",
    "centralRA = np.dot(np.array([3., 32., 30]), raConv) #03h 32m 30s\n",
    "centralDec = np.dot(np.array([-28, 6., 0.]), degConv)\n",
    "patchRadius = 0.4 * np.sqrt(2)"
   ]
  },
  {
   "cell_type": "code",
   "execution_count": 8,
   "metadata": {
    "collapsed": false
   },
   "outputs": [
    {
     "data": {
      "text/plain": [
       "53.125"
      ]
     },
     "execution_count": 8,
     "metadata": {},
     "output_type": "execute_result"
    }
   ],
   "source": [
    "centralRA"
   ]
  },
  {
   "cell_type": "code",
   "execution_count": 19,
   "metadata": {
    "collapsed": false
   },
   "outputs": [],
   "source": [
    "TwinklesObsMetaData = ObservationMetaData(boundType='circle',pointingRA=centralRA,pointingDec=centralDec,\n",
    "                                          boundLength=patchRadius, mjd=49540.0)"
   ]
  },
  {
   "cell_type": "code",
   "execution_count": 20,
   "metadata": {
    "collapsed": false
   },
   "outputs": [
    {
     "name": "stderr",
     "output_type": "stream",
     "text": [
      "/usr/local/manual/anaconda/lib/python2.7/site-packages/sqlalchemy/dialects/mssql/base.py:1294: SAWarning: Did not recognize type 'geography' of column 'geopoint'\n",
      "  return fn(*arg, **kw)\n"
     ]
    }
   ],
   "source": [
    "galaxyTiled  = GalaxyTileObj()"
   ]
  },
  {
   "cell_type": "code",
   "execution_count": 21,
   "metadata": {
    "collapsed": false
   },
   "outputs": [],
   "source": [
    "class galCopy(InstanceCatalog):\n",
    "    column_outputs = ['galtileid', 'raJ2000', 'decJ2000', 'redshift', 'a_d', 'b_d', 'pa_disk']\n",
    "    override_formats = {'raJ2000': '%8e', 'decJ2000': '%8e', 'a_d': '%8e', 'b_d': '%8e', 'pa_disk': '%8e'}"
   ]
  },
  {
   "cell_type": "code",
   "execution_count": 22,
   "metadata": {
    "collapsed": true
   },
   "outputs": [],
   "source": [
    "TwinklesGalaxies = galCopy(galaxyTiled, obs_metadata=TwinklesObsMetaData)"
   ]
  },
  {
   "cell_type": "code",
   "execution_count": null,
   "metadata": {
    "collapsed": true
   },
   "outputs": [],
   "source": [
    "TwinklesGalaxies.write_catalog('TwinklesGalaxies.dat')"
   ]
  },
  {
   "cell_type": "code",
   "execution_count": 23,
   "metadata": {
    "collapsed": false
   },
   "outputs": [],
   "source": [
    "TwinkGalsdf = pd.read_csv('TwinklesGalaxies.dat', sep=',\\s+', engine='python', index_col=0)"
   ]
  },
  {
   "cell_type": "code",
   "execution_count": 24,
   "metadata": {
    "collapsed": true
   },
   "outputs": [],
   "source": [
    "TwinkGalsdf['zbin'] = TwinkGalsdf.redshift // binwidth"
   ]
  },
  {
   "cell_type": "code",
   "execution_count": 25,
   "metadata": {
    "collapsed": false
   },
   "outputs": [],
   "source": [
    "TwinkGalsdf.zbin = TwinkGalsdf.zbin.astype(int)"
   ]
  },
  {
   "cell_type": "code",
   "execution_count": 50,
   "metadata": {
    "collapsed": false
   },
   "outputs": [
    {
     "data": {
      "image/png": "[encoded data removed]",
      "text/plain": [
       "<matplotlib.figure.Figure at 0x118cf2910>"
      ]
     },
     "metadata": {},
     "output_type": "display_data"
    }
   ],
   "source": [
    "densfig, ax = plt.subplots(1, 2)\n",
    "ax[0].hexbin(np.degrees(TwinkGalsdf.raJ2000.values), np.degrees(TwinkGalsdf.decJ2000.values))\n",
    "ax[0].set_aspect('equal')\n",
    "ax[0].set_ylabel('dec')\n",
    "ax[0].set_xlabel('ra')\n",
    "ax[0].set_title('Sprinkled Region')\n",
    "densfig.savefig('Twinkles_Area.png')"
   ]
  },
  {
   "cell_type": "code",
   "execution_count": 29,
   "metadata": {
    "collapsed": true
   },
   "outputs": [],
   "source": [
    "zbinnedGals = TwinkGalsdf.groupby('zbin')"
   ]
  },
  {
   "cell_type": "code",
   "execution_count": 30,
   "metadata": {
    "collapsed": false
   },
   "outputs": [
    {
     "data": {
      "text/plain": [
       "(24, 24)"
      ]
     },
     "execution_count": 30,
     "metadata": {},
     "output_type": "execute_result"
    }
   ],
   "source": [
    "len(snnum), len(zmid)"
   ]
  },
  {
   "cell_type": "code",
   "execution_count": 31,
   "metadata": {
    "collapsed": true
   },
   "outputs": [],
   "source": [
    "zSummary  = pd.DataFrame({'zbin' : np.array(zmid // binwidth, dtype=np.int), \n",
    "                          'NumSNperzBin': snnum})"
   ]
  },
  {
   "cell_type": "code",
   "execution_count": 32,
   "metadata": {
    "collapsed": true
   },
   "outputs": [],
   "source": [
    "# Astropy cosmology object for CatSim Cosmology\n",
    "CatSimCosmo = FlatLambdaCDM(Om0=0.25, H0=73.)\n",
    "\n",
    "alphaTwinkles = 0.11\n",
    "betaTwinkles = -3.14\n",
    "cdistTwinkles = [0., 0.1]\n",
    "x1distTwinkles = [0, 1.]\n",
    "MTwinkles = [-19.3, 0.15]\n",
    "\n"
   ]
  },
  {
   "cell_type": "code",
   "execution_count": 33,
   "metadata": {
    "collapsed": true
   },
   "outputs": [],
   "source": [
    "def assignIds(snwithHosts, maxval=100):\n",
    "    snwithHosts['offset'] = 0\n",
    "    sngroups = snwithHosts.groupby('galtileid')\n",
    "    for host in (sngroups.count() > 0).index.values:\n",
    "        sn = sngroups.get_group(host)\n",
    "        idx  = sn.index\n",
    "        snwithHosts.loc[idx, 'offset'] = np.arange(len(sn))\n",
    "    return None"
   ]
  },
  {
   "cell_type": "code",
   "execution_count": 34,
   "metadata": {
    "collapsed": true
   },
   "outputs": [],
   "source": [
    "def assignSNHosts(galdf, numSN, seed):\n",
    "    if seed is not None:\n",
    "        np.random.seed(seed)\n",
    "    sngalids = np.random.choice(galdf.index.values, numSN, replace=True)\n",
    "    zvals = galdf.ix[sngalids,'redshift']\n",
    "    df = pd.DataFrame({'galtileid': sngalids, \n",
    "                      'redshift' : zvals.values})\n",
    "    return df"
   ]
  },
  {
   "cell_type": "code",
   "execution_count": 35,
   "metadata": {
    "collapsed": true
   },
   "outputs": [],
   "source": [
    "# Slow step: Takes about 20 mins\n",
    "def assignSN(zbinnedGals, SNzSummary, binList=[0, 1], maxval=10, seed=42):\n",
    "    \n",
    "    dfs = []\n",
    "    for idx in binList:\n",
    "        galdf = zbinnedGals.get_group(idx)\n",
    "        numSN = SNzSummary.NumSNperzBin[idx]\n",
    "        if idx == 0 :\n",
    "            snWithHosts = assignSNHosts(galdf, numSN, seed)\n",
    "        else:\n",
    "            snWithHosts = assignSNHosts(galdf, numSN, seed=None)\n",
    "        assignIds(snWithHosts, maxval=maxval)\n",
    "        dfs.append(snWithHosts)\n",
    "    snvals = pd.concat(dfs)\n",
    "    snvals['snid'] = snvals['galtileid'] *maxval + snvals['offset']\n",
    "    return snvals"
   ]
  },
  {
   "cell_type": "code",
   "execution_count": 36,
   "metadata": {
    "collapsed": false
   },
   "outputs": [
    {
     "data": {
      "text/plain": [
       "array([ 0,  1,  2,  3,  4,  5,  6,  7,  8,  9, 10, 11, 12, 13, 14, 15, 16,\n",
       "       17, 18, 19, 20, 21, 22, 23])"
      ]
     },
     "execution_count": 36,
     "metadata": {},
     "output_type": "execute_result"
    }
   ],
   "source": [
    "zSummary.zbin.values"
   ]
  },
  {
   "cell_type": "code",
   "execution_count": 38,
   "metadata": {
    "collapsed": false
   },
   "outputs": [
    {
     "name": "stderr",
     "output_type": "stream",
     "text": [
      "/usr/local/manual/anaconda/lib/python2.7/site-packages/ipykernel/__main__.py:4: DeprecationWarning: using a non-integer number instead of an integer will result in an error in the future\n"
     ]
    }
   ],
   "source": [
    "assignStart = time.time()\n",
    "snvals = assignSN(zbinnedGals, zSummary, binList=zSummary.zbin.values, maxval=100, seed=42)\n",
    "assignEnd = time.time()"
   ]
  },
  {
   "cell_type": "code",
   "execution_count": 39,
   "metadata": {
    "collapsed": false
   },
   "outputs": [
    {
     "data": {
      "text/plain": [
       "307900"
      ]
     },
     "execution_count": 39,
     "metadata": {},
     "output_type": "execute_result"
    }
   ],
   "source": [
    "len(snvals)"
   ]
  },
  {
   "cell_type": "code",
   "execution_count": 40,
   "metadata": {
    "collapsed": false
   },
   "outputs": [
    {
     "data": {
      "text/plain": [
       "<matplotlib.axes._subplots.AxesSubplot at 0x130ae7d50>"
      ]
     },
     "execution_count": 40,
     "metadata": {},
     "output_type": "execute_result"
    },
    {
     "data": {
      "image/png": "[encoded data removed]",
      "text/plain": [
       "<matplotlib.figure.Figure at 0x11afcbd10>"
      ]
     },
     "metadata": {},
     "output_type": "display_data"
    }
   ],
   "source": [
    "sns.distplot(snvals.redshift, rug=False, kde=False)"
   ]
  },
  {
   "cell_type": "code",
   "execution_count": 41,
   "metadata": {
    "collapsed": true
   },
   "outputs": [],
   "source": [
    "snvals.set_index(snvals['snid'], drop=True, verify_integrity=True, inplace=True)"
   ]
  },
  {
   "cell_type": "code",
   "execution_count": 42,
   "metadata": {
    "collapsed": false
   },
   "outputs": [
    {
     "data": {
      "text/plain": [
       "4028.5"
      ]
     },
     "execution_count": 42,
     "metadata": {},
     "output_type": "execute_result"
    }
   ],
   "source": [
    "snvals.query('redshift < 0.7').snid.size / 20."
   ]
  },
  {
   "cell_type": "code",
   "execution_count": 43,
   "metadata": {
    "collapsed": true
   },
   "outputs": [],
   "source": [
    "def assigSNParams(sntable, seed=42, cosmo=None, T0Min=0., T0Max=3650., \n",
    "                  MabsScatter= [-19.3, 0.15], cScatter=[0., 0.1], x1Scatter=[0., 1.], alpha=0.11, beta=-3.14 ):\n",
    "    if seed is not None:\n",
    "        np.random.seed(seed)\n",
    "        \n",
    "    model = sncosmo.Model(source='salt2')\n",
    "    if cosmo is None:\n",
    "        cosmo = FlatLambdaCDM(Om0=0.25, H0=73.)\n",
    "        \n",
    "    numSN = len(sntable)\n",
    "    zvals = sntable.redshift.values\n",
    "    cvals = np.random.normal(cScatter[0], cScatter[1], size=numSN)\n",
    "    x1vals = np.random.normal(x1Scatter[0], x1Scatter[1], size=numSN)\n",
    "    M  = np.random.normal(MabsScatter[0], MabsScatter[1], size=numSN)\n",
    "    \n",
    "    M += -alpha * x1vals - beta * cvals \n",
    "    t0 = np.random.uniform(T0Min, T0Max, size=numSN)\n",
    "    x0 = np.zeros(numSN)\n",
    "    mB = np.zeros(numSN)\n",
    "    # Slow Step\n",
    "    for i, Mabs in enumerate(M):\n",
    "        model.set(z=zvals[i], c=cvals[i], x1=x1vals[i])\n",
    "        model.set_source_peakabsmag(Mabs, 'bessellB', 'ab', cosmo=cosmo)\n",
    "        x0[i] = model.get('x0')\n",
    "        mB[i] = model.source.peakmag('bessellB', 'ab')\n",
    "    sntable['t0'] = t0\n",
    "    sntable['c'] = cvals\n",
    "    sntable['x1'] = x1vals\n",
    "    sntable['x0'] = x0\n",
    "    sntable['mB'] = mB\n",
    "    sntable['M'] = M\n",
    "    \n",
    "    print (alpha, beta, cScatter, x1Scatter, MabsScatter)\n",
    "    "
   ]
  },
  {
   "cell_type": "code",
   "execution_count": 45,
   "metadata": {
    "collapsed": false
   },
   "outputs": [
    {
     "name": "stdout",
     "output_type": "stream",
     "text": [
      "(0.11, -3.14, [0.0, 0.1], [0.0, 1.0], [-19.3, 0.15])\n"
     ]
    }
   ],
   "source": [
    "\n",
    "starttime = time.time()\n",
    "assigSNParams(sntable=snvals, cosmo=CatSimCosmo, alpha=alphaTwinkles, beta=betaTwinkles, MabsScatter=MTwinkles, \n",
    "              seed=24)\n",
    "endtime = time.time()\n",
    "\n"
   ]
  },
  {
   "cell_type": "code",
   "execution_count": 46,
   "metadata": {
    "collapsed": false
   },
   "outputs": [
    {
     "name": "stdout",
     "output_type": "stream",
     "text": [
      "315.075645924\n"
     ]
    }
   ],
   "source": [
    "print endtime - starttime"
   ]
  },
  {
   "cell_type": "code",
   "execution_count": 47,
   "metadata": {
    "collapsed": true
   },
   "outputs": [],
   "source": [
    "def assignPositions(sntable, Galsdf, seed=42):\n",
    "\n",
    "    radiansPerArcSec = (np.pi / 180.)* (1./60.)**2\n",
    "    if seed is not None:\n",
    "        np.random.seed(seed)\n",
    "    \n",
    "    r1 = np.random.normal(0., 1., sntable.snid.size)\n",
    "    r2 = np.random.normal(0., 1., sntable.snid.size)\n",
    "    \n",
    "    sntable['raJ2000'] = Galsdf.ix[sntable.galtileid, 'raJ2000'].values\n",
    "    sntable['decJ2000'] = Galsdf.ix[sntable.galtileid, 'decJ2000'].values\n",
    "    sntable['a_d'] = Galsdf.ix[sntable.galtileid, 'a_d'].values * radiansPerArcSec\n",
    "    sntable['b_d'] = Galsdf.ix[sntable.galtileid, 'b_d'].values * radiansPerArcSec\n",
    "\n",
    "    # convert from degrees to radians\n",
    "    sntable['theta'] = np.radians(Galsdf.ix[sntable.galtileid, 'pa_disk'].values)\n",
    "    \n",
    "    sntable['sndec'] = np.cos(-sntable['theta']) * sntable['a_d']* r1 + np.sin(-sntable['theta'])*sntable['b_d'] * r2\n",
    "    sntable['snra'] =  - np.sin(-sntable['theta']) * sntable['a_d']*r1 + np.cos(-sntable['theta'])* sntable['b_d'] * r2\n",
    "    sntable['snra'] += Galsdf.ix[sntable.galtileid, 'raJ2000'].values\n",
    "    sntable['sndec'] += Galsdf.ix[sntable.galtileid, 'decJ2000'].values\n",
    "    \n",
    "    sntable['sndec'] = np.degrees(sntable['sndec'])\n",
    "    sntable['snra'] = np.degrees(sntable['snra'])\n",
    "    sntable['raJ2000'] = np.degrees(sntable['raJ2000'])\n",
    "    sntable['decJ2000'] = np.degrees(sntable['decJ2000'])\n",
    "\n",
    "\n"
   ]
  },
  {
   "cell_type": "code",
   "execution_count": 48,
   "metadata": {
    "collapsed": true
   },
   "outputs": [],
   "source": [
    "\n",
    "assignPositions(snvals, TwinkGalsdf, seed=4 )"
   ]
  },
  {
   "cell_type": "code",
   "execution_count": 49,
   "metadata": {
    "collapsed": false
   },
   "outputs": [
    {
     "data": {
      "text/html": [
       "<div>\n",
       "<table border=\"1\" class=\"dataframe\">\n",
       "  <thead>\n",
       "    <tr style=\"text-align: right;\">\n",
       "      <th></th>\n",
       "      <th>galtileid</th>\n",
       "      <th>redshift</th>\n",
       "      <th>offset</th>\n",
       "      <th>snid</th>\n",
       "      <th>t0</th>\n",
       "      <th>c</th>\n",
       "      <th>x1</th>\n",
       "      <th>x0</th>\n",
       "      <th>mB</th>\n",
       "      <th>M</th>\n",
       "      <th>raJ2000</th>\n",
       "      <th>decJ2000</th>\n",
       "      <th>a_d</th>\n",
       "      <th>b_d</th>\n",
       "      <th>theta</th>\n",
       "      <th>sndec</th>\n",
       "      <th>snra</th>\n",
       "    </tr>\n",
       "    <tr>\n",
       "      <th>snid</th>\n",
       "      <th></th>\n",
       "      <th></th>\n",
       "      <th></th>\n",
       "      <th></th>\n",
       "      <th></th>\n",
       "      <th></th>\n",
       "      <th></th>\n",
       "      <th></th>\n",
       "      <th></th>\n",
       "      <th></th>\n",
       "      <th></th>\n",
       "      <th></th>\n",
       "      <th></th>\n",
       "      <th></th>\n",
       "      <th></th>\n",
       "      <th></th>\n",
       "      <th></th>\n",
       "    </tr>\n",
       "  </thead>\n",
       "  <tbody>\n",
       "    <tr>\n",
       "      <th>6001014685800</th>\n",
       "      <td>60010146858</td>\n",
       "      <td>0.0452</td>\n",
       "      <td>0</td>\n",
       "      <td>6001014685800</td>\n",
       "      <td>2171.169132</td>\n",
       "      <td>0.132921</td>\n",
       "      <td>0.163237</td>\n",
       "      <td>0.001343</td>\n",
       "      <td>17.677207</td>\n",
       "      <td>-18.743246</td>\n",
       "      <td>53.283190</td>\n",
       "      <td>-27.581455</td>\n",
       "      <td>0.000024</td>\n",
       "      <td>0.000020</td>\n",
       "      <td>1.765229</td>\n",
       "      <td>-27.581426</td>\n",
       "      <td>53.283265</td>\n",
       "    </tr>\n",
       "    <tr>\n",
       "      <th>6000001337700</th>\n",
       "      <td>60000013377</td>\n",
       "      <td>0.0376</td>\n",
       "      <td>0</td>\n",
       "      <td>6000001337700</td>\n",
       "      <td>3393.144905</td>\n",
       "      <td>-0.077003</td>\n",
       "      <td>0.121939</td>\n",
       "      <td>0.004584</td>\n",
       "      <td>16.345182</td>\n",
       "      <td>-19.662862</td>\n",
       "      <td>53.471716</td>\n",
       "      <td>-28.124917</td>\n",
       "      <td>0.000013</td>\n",
       "      <td>0.000008</td>\n",
       "      <td>2.615606</td>\n",
       "      <td>-28.124875</td>\n",
       "      <td>53.472507</td>\n",
       "    </tr>\n",
       "    <tr>\n",
       "      <th>6000067275900</th>\n",
       "      <td>60000672759</td>\n",
       "      <td>0.0410</td>\n",
       "      <td>0</td>\n",
       "      <td>6000067275900</td>\n",
       "      <td>3106.774493</td>\n",
       "      <td>-0.031628</td>\n",
       "      <td>0.405193</td>\n",
       "      <td>0.002616</td>\n",
       "      <td>16.953475</td>\n",
       "      <td>-19.248227</td>\n",
       "      <td>53.290667</td>\n",
       "      <td>-27.872414</td>\n",
       "      <td>0.000020</td>\n",
       "      <td>0.000017</td>\n",
       "      <td>0.214337</td>\n",
       "      <td>-27.873381</td>\n",
       "      <td>53.289702</td>\n",
       "    </tr>\n",
       "    <tr>\n",
       "      <th>6001014687900</th>\n",
       "      <td>60010146879</td>\n",
       "      <td>0.0452</td>\n",
       "      <td>0</td>\n",
       "      <td>6001014687900</td>\n",
       "      <td>2495.557828</td>\n",
       "      <td>-0.099081</td>\n",
       "      <td>-1.440927</td>\n",
       "      <td>0.002169</td>\n",
       "      <td>17.163804</td>\n",
       "      <td>-19.256649</td>\n",
       "      <td>53.737013</td>\n",
       "      <td>-27.971146</td>\n",
       "      <td>0.000024</td>\n",
       "      <td>0.000020</td>\n",
       "      <td>1.765229</td>\n",
       "      <td>-27.973330</td>\n",
       "      <td>53.737539</td>\n",
       "    </tr>\n",
       "    <tr>\n",
       "      <th>6000635785100</th>\n",
       "      <td>60006357851</td>\n",
       "      <td>0.0404</td>\n",
       "      <td>0</td>\n",
       "      <td>6000635785100</td>\n",
       "      <td>492.882871</td>\n",
       "      <td>-0.107082</td>\n",
       "      <td>2.146382</td>\n",
       "      <td>0.004358</td>\n",
       "      <td>16.390759</td>\n",
       "      <td>-19.777931</td>\n",
       "      <td>52.967633</td>\n",
       "      <td>-28.024174</td>\n",
       "      <td>0.000019</td>\n",
       "      <td>0.000017</td>\n",
       "      <td>2.232906</td>\n",
       "      <td>-28.023961</td>\n",
       "      <td>52.967234</td>\n",
       "    </tr>\n",
       "  </tbody>\n",
       "</table>\n",
       "</div>"
      ],
      "text/plain": [
       "                 galtileid  redshift  offset           snid           t0  \\\n",
       "snid                                                                       \n",
       "6001014685800  60010146858    0.0452       0  6001014685800  2171.169132   \n",
       "6000001337700  60000013377    0.0376       0  6000001337700  3393.144905   \n",
       "6000067275900  60000672759    0.0410       0  6000067275900  3106.774493   \n",
       "6001014687900  60010146879    0.0452       0  6001014687900  2495.557828   \n",
       "6000635785100  60006357851    0.0404       0  6000635785100   492.882871   \n",
       "\n",
       "                      c        x1        x0         mB          M    raJ2000  \\\n",
       "snid                                                                           \n",
       "6001014685800  0.132921  0.163237  0.001343  17.677207 -18.743246  53.283190   \n",
       "6000001337700 -0.077003  0.121939  0.004584  16.345182 -19.662862  53.471716   \n",
       "6000067275900 -0.031628  0.405193  0.002616  16.953475 -19.248227  53.290667   \n",
       "6001014687900 -0.099081 -1.440927  0.002169  17.163804 -19.256649  53.737013   \n",
       "6000635785100 -0.107082  2.146382  0.004358  16.390759 -19.777931  52.967633   \n",
       "\n",
       "                decJ2000       a_d       b_d     theta      sndec       snra  \n",
       "snid                                                                          \n",
       "6001014685800 -27.581455  0.000024  0.000020  1.765229 -27.581426  53.283265  \n",
       "6000001337700 -28.124917  0.000013  0.000008  2.615606 -28.124875  53.472507  \n",
       "6000067275900 -27.872414  0.000020  0.000017  0.214337 -27.873381  53.289702  \n",
       "6001014687900 -27.971146  0.000024  0.000020  1.765229 -27.973330  53.737539  \n",
       "6000635785100 -28.024174  0.000019  0.000017  2.232906 -28.023961  52.967234  "
      ]
     },
     "execution_count": 49,
     "metadata": {},
     "output_type": "execute_result"
    }
   ],
   "source": [
    "snvals.head()"
   ]
  },
  {
   "cell_type": "code",
   "execution_count": 56,
   "metadata": {
    "collapsed": false
   },
   "outputs": [
    {
     "data": {
      "image/png": "[encoded data removed]",
      "text/plain": [
       "<matplotlib.figure.Figure at 0x118cf2910>"
      ]
     },
     "execution_count": 56,
     "metadata": {},
     "output_type": "execute_result"
    }
   ],
   "source": [
    "ax[1].hexbin(snvals.snra, snvals.sndec)\n",
    "ax[1].set_aspect('equal')\n",
    "densfig"
   ]
  },
  {
   "cell_type": "code",
   "execution_count": null,
   "metadata": {
    "collapsed": false
   },
   "outputs": [],
   "source": [
    "sns.distplot(snvals.t0)\n",
    "             "
   ]
  },
  {
   "cell_type": "code",
   "execution_count": 63,
   "metadata": {
    "collapsed": false
   },
   "outputs": [
    {
     "data": {
      "text/plain": [
       "113.53605228552043"
      ]
     },
     "execution_count": 63,
     "metadata": {},
     "output_type": "execute_result"
    }
   ],
   "source": [
    "snvals.query('t0 < 50').redshift.size/ AreaFactor"
   ]
  },
  {
   "cell_type": "code",
   "execution_count": 64,
   "metadata": {
    "collapsed": false
   },
   "outputs": [
    {
     "data": {
      "text/plain": [
       "[<matplotlib.lines.Line2D at 0x119d618d0>]"
      ]
     },
     "execution_count": 64,
     "metadata": {},
     "output_type": "execute_result"
    },
    {
     "data": {
      "image/png": "[encoded data removed]",
      "text/plain": [
       "<matplotlib.figure.Figure at 0x11e01d350>"
      ]
     },
     "metadata": {},
     "output_type": "display_data"
    }
   ],
   "source": [
    "plt.plot(snvals.redshift, snvals.mB)"
   ]
  },
  {
   "cell_type": "code",
   "execution_count": null,
   "metadata": {
    "collapsed": false
   },
   "outputs": [],
   "source": [
    "snvals.query('redshift < 0.7 and t0 > 570 and t0 < 935').redshift.sum() / AreaFactor"
   ]
  },
  {
   "cell_type": "code",
   "execution_count": null,
   "metadata": {
    "collapsed": false
   },
   "outputs": [],
   "source": [
    "(snvals.index.values - snvals.galtileid * 100 ).max()"
   ]
  },
  {
   "cell_type": "code",
   "execution_count": null,
   "metadata": {
    "collapsed": true
   },
   "outputs": [],
   "source": [
    "snvals.head()"
   ]
  },
  {
   "cell_type": "code",
   "execution_count": null,
   "metadata": {
    "collapsed": false
   },
   "outputs": [],
   "source": [
    "60150 - 59580"
   ]
  },
  {
   "cell_type": "code",
   "execution_count": null,
   "metadata": {
    "collapsed": false
   },
   "outputs": [],
   "source": [
    "570 + 365\n"
   ]
  },
  {
   "cell_type": "code",
   "execution_count": null,
   "metadata": {
    "collapsed": false
   },
   "outputs": [],
   "source": [
    "snvals.to_csv('kraken_sim.csv')"
   ]
  },
  {
   "cell_type": "code",
   "execution_count": null,
   "metadata": {
    "collapsed": true
   },
   "outputs": [],
   "source": [
    "### OpSim"
   ]
  },
  {
   "cell_type": "code",
   "execution_count": 62,
   "metadata": {
    "collapsed": true
   },
   "outputs": [],
   "source": [
    "krakenvisits = pd.read_csv('/Users/rbiswas/doc/projects/LSST/Twinkles/code/SN_sims/SelectedKrakenVisits.csv')"
   ]
  },
  {
   "cell_type": "code",
   "execution_count": 13,
   "metadata": {
    "collapsed": true
   },
   "outputs": [],
   "source": [
    "from lsst.sims.photUtils import BandpassDict"
   ]
  },
  {
   "cell_type": "code",
   "execution_count": 14,
   "metadata": {
    "collapsed": true
   },
   "outputs": [],
   "source": [
    "lsst_bp = BandpassDict.loadTotalBandpassesFromFiles()"
   ]
  },
  {
   "cell_type": "code",
   "execution_count": 15,
   "metadata": {
    "collapsed": false
   },
   "outputs": [],
   "source": [
    "from lsst.sims.catUtils.supernovae import SNObject"
   ]
  },
  {
   "cell_type": "code",
   "execution_count": 18,
   "metadata": {
    "collapsed": false
   },
   "outputs": [],
   "source": [
    "snobj = SNObject(ra=centralRA, dec=centralDec)"
   ]
  },
  {
   "cell_type": "code",
   "execution_count": 78,
   "metadata": {
    "collapsed": false
   },
   "outputs": [
    {
     "data": {
      "text/plain": [
       "307900"
      ]
     },
     "execution_count": 78,
     "metadata": {},
     "output_type": "execute_result"
    }
   ],
   "source": [
    "len(snvals)"
   ]
  },
  {
   "cell_type": "code",
   "execution_count": 23,
   "metadata": {
    "collapsed": false
   },
   "outputs": [
    {
     "name": "stdout",
     "output_type": "stream",
     "text": [
      "307900\n"
     ]
    }
   ],
   "source": [
    "sntable = pd.read_csv('kraken_sim.csv'); print len(sntable)"
   ]
  },
  {
   "cell_type": "code",
   "execution_count": 26,
   "metadata": {
    "collapsed": true
   },
   "outputs": [],
   "source": [
    "Twinkles = sntable.query('snra < 0.116 + @centralRA and snra > -0.116 + @centralRA').query('sndec < 0.116 + @centralDec and sndec > -0.116 + @centralDec')"
   ]
  },
  {
   "cell_type": "code",
   "execution_count": null,
   "metadata": {
    "collapsed": true
   },
   "outputs": [],
   "source": []
  },
  {
   "cell_type": "code",
   "execution_count": 30,
   "metadata": {
    "collapsed": false
   },
   "outputs": [
    {
     "data": {
      "text/plain": [
       "117.8"
      ]
     },
     "execution_count": 30,
     "metadata": {},
     "output_type": "execute_result"
    }
   ],
   "source": [
    "len(Twinkles.query('redshift < 0.6'))/20."
   ]
  },
  {
   "cell_type": "code",
   "execution_count": 44,
   "metadata": {
    "collapsed": false
   },
   "outputs": [
    {
     "name": "stdout",
     "output_type": "stream",
     "text": [
      "u\n",
      "g\n",
      "r\n",
      "i\n",
      "z\n",
      "y\n"
     ]
    }
   ],
   "source": [
    "from astropy.units import Unit\n",
    "import os\n",
    "bandPassList = ['u', 'g', 'r', 'i', 'z', 'y']\n",
    "banddir = os.path.join(os.getenv('THROUGHPUTS_DIR'), 'baseline')\n",
    "\n",
    "for band in bandPassList:\n",
    "\n",
    "    # setup sncosmo bandpasses\n",
    "    bandfname = banddir + \"/total_\" + band + '.dat'\n",
    "\n",
    "\n",
    "    # register the LSST bands to the SNCosmo registry\n",
    "    # Not needed for LSST, but useful to compare independent codes\n",
    "    # Usually the next two lines can be merged,\n",
    "    # but there is an astropy bug currently which affects only OSX.\n",
    "    numpyband = np.loadtxt(bandfname)\n",
    "    print band\n",
    "    sncosmoband = sncosmo.Bandpass(wave=numpyband[:, 0],\n",
    "                                   trans=numpyband[:, 1],\n",
    "                                   wave_unit=Unit('nm'),\n",
    "                                   name=band)\n",
    "    sncosmo.registry.register(sncosmoband, force=True)"
   ]
  },
  {
   "cell_type": "code",
   "execution_count": 45,
   "metadata": {
    "collapsed": false
   },
   "outputs": [],
   "source": [
    "model = sncosmo.Model(source='salt2-extended')"
   ]
  },
  {
   "cell_type": "code",
   "execution_count": 50,
   "metadata": {
    "collapsed": false
   },
   "outputs": [
    {
     "data": {
      "text/plain": [
       "array(['g', 'i', 'r', ..., 'r', 'y', 'z'], dtype=object)"
      ]
     },
     "execution_count": 50,
     "metadata": {},
     "output_type": "execute_result"
    }
   ],
   "source": [
    "krakenvisits['filter'].values"
   ]
  },
  {
   "cell_type": "code",
   "execution_count": 63,
   "metadata": {
    "collapsed": false
   },
   "outputs": [],
   "source": [
    "for index, row in Twinkles.iterrows():\n",
    "    params = {'c':row['c'], 'x1':row['x1'], 'x0':row['x0'], 't0':row['t0']}\n",
    "    snid = row['snid']\n",
    "    model.set(**params)\n",
    "    krakenvisits['mag_'+str(int(snid))] = model.bandmag(band=krakenvisits['filter'].values, magsys='ab',time=krakenvisits.expMJD)\n",
    "    #flux = snobj.catsimBandFlux(krakenvisits.expMJD.iloc[0], lsst_bp[krakenvisits['filter'].iloc[0]])\n",
    "    #err = snobj.catsimBandFluxError(krakenvisits.expMJD.iloc[0], lsst_bp[krakenvisits['filter'].iloc[0]], krakenvisits.fiveSigmaDepth.iloc[0],flux)\n",
    "    #print flux , err\n",
    "\n",
    "\n"
   ]
  },
  {
   "cell_type": "code",
   "execution_count": 65,
   "metadata": {
    "collapsed": false
   },
   "outputs": [],
   "source": [
    "krakenvisits.to_csv('krakenvists_twinkles.csv')"
   ]
  },
  {
   "cell_type": "code",
   "execution_count": 72,
   "metadata": {
    "collapsed": true
   },
   "outputs": [],
   "source": [
    "def func(x):\n",
    "    x.mean() - x.min()"
   ]
  },
  {
   "cell_type": "code",
   "execution_count": 82,
   "metadata": {
    "collapsed": false
   },
   "outputs": [
    {
     "data": {
      "text/plain": [
       "7.1054273576010019e-15"
      ]
     },
     "execution_count": 82,
     "metadata": {},
     "output_type": "execute_result"
    }
   ],
   "source": [
    "krakenvisits.groupby('filter').get_group('y')['mag_'].mean() - krakenvisits.groupby('filter').get_group('y')['mag_6000184645801'].min()"
   ]
  },
  {
   "cell_type": "code",
   "execution_count": 85,
   "metadata": {
    "collapsed": false
   },
   "outputs": [],
   "source": [
    "Twinkles.set_index('snid', inplace=True)"
   ]
  },
  {
   "cell_type": "code",
   "execution_count": 101,
   "metadata": {
    "collapsed": false
   },
   "outputs": [
    {
     "data": {
      "text/plain": [
       "galtileid    6.000069e+10\n",
       "redshift     9.430000e-02\n",
       "offset       0.000000e+00\n",
       "snid.1       6.000069e+12\n",
       "t0           2.204630e+03\n",
       "c            4.991779e-02\n",
       "x1          -8.280758e-01\n",
       "x0           3.471541e-04\n",
       "mB           1.915094e+01\n",
       "M           -1.894504e+01\n",
       "raJ2000      5.308111e+01\n",
       "decJ2000    -2.786948e+01\n",
       "a_d          1.115542e-05\n",
       "b_d          3.669701e-06\n",
       "theta        5.066478e+00\n",
       "sndec       -2.786967e+01\n",
       "snra         5.308083e+01\n",
       "Name: 6000068561600, dtype: float64"
      ]
     },
     "execution_count": 101,
     "metadata": {},
     "output_type": "execute_result"
    }
   ],
   "source": [
    "Twinkles.iloc[0]"
   ]
  },
  {
   "cell_type": "code",
   "execution_count": 87,
   "metadata": {
    "collapsed": true
   },
   "outputs": [],
   "source": [
    "surveyStartDate = 59580"
   ]
  },
  {
   "cell_type": "code",
   "execution_count": 91,
   "metadata": {
    "collapsed": false
   },
   "outputs": [
    {
     "name": "stdout",
     "output_type": "stream",
     "text": [
      "61582.204722\n"
     ]
    }
   ],
   "source": [
    "T0Mjd = Twinkles.ix[6000184645801, \"t0\"] + surveyStartDate; print(T0Mjd)"
   ]
  },
  {
   "cell_type": "code",
   "execution_count": 98,
   "metadata": {
    "collapsed": false
   },
   "outputs": [
    {
     "data": {
      "text/plain": [
       "629    30.092484\n",
       "Name: mag_6000184645801, dtype: float64"
      ]
     },
     "execution_count": 98,
     "metadata": {},
     "output_type": "execute_result"
    }
   ],
   "source": [
    "krakenvisits.query('expMJD < @T0Mjd+70 and expMJD > @T0Mjd-20')['mag_6000184645801']"
   ]
  },
  {
   "cell_type": "code",
   "execution_count": 107,
   "metadata": {
    "collapsed": false
   },
   "outputs": [
    {
     "data": {
      "text/plain": [
       "<matplotlib.axes._subplots.AxesSubplot at 0x1278f8810>"
      ]
     },
     "execution_count": 107,
     "metadata": {},
     "output_type": "execute_result"
    },
    {
     "data": {
      "image/png": "[encoded data removed]",
      "text/plain": [
       "<matplotlib.figure.Figure at 0x127820e50>"
      ]
     },
     "metadata": {},
     "output_type": "display_data"
    }
   ],
   "source": [
    "krakenvisits.fiveSigmaDepth.hist()"
   ]
  },
  {
   "cell_type": "code",
   "execution_count": 128,
   "metadata": {
    "collapsed": false
   },
   "outputs": [],
   "source": [
    "names = [x for x in krakenvisits.columns if x.startswith('mag_')]\n",
    "potentialHSNR = [x for x in names if (krakenvisits[x] - krakenvisits['fsD']).min() < 0.]"
   ]
  },
  {
   "cell_type": "code",
   "execution_count": 129,
   "metadata": {
    "collapsed": false
   },
   "outputs": [
    {
     "data": {
      "text/plain": [
       "13883"
      ]
     },
     "execution_count": 129,
     "metadata": {},
     "output_type": "execute_result"
    }
   ],
   "source": [
    "len(names)"
   ]
  },
  {
   "cell_type": "code",
   "execution_count": 130,
   "metadata": {
    "collapsed": false
   },
   "outputs": [
    {
     "data": {
      "text/plain": [
       "1077"
      ]
     },
     "execution_count": 130,
     "metadata": {},
     "output_type": "execute_result"
    }
   ],
   "source": [
    "len(potentialHSNR)"
   ]
  },
  {
   "cell_type": "code",
   "execution_count": null,
   "metadata": {
    "collapsed": true
   },
   "outputs": [],
   "source": []
  },
  {
   "cell_type": "code",
   "execution_count": 113,
   "metadata": {
    "collapsed": false
   },
   "outputs": [
    {
     "data": {
      "text/html": [
       "<div>\n",
       "<table border=\"1\" class=\"dataframe\">\n",
       "  <thead>\n",
       "    <tr style=\"text-align: right;\">\n",
       "      <th></th>\n",
       "      <th>obsHistID</th>\n",
       "      <th>sessionID</th>\n",
       "      <th>propID</th>\n",
       "      <th>fieldID</th>\n",
       "      <th>fieldRA</th>\n",
       "      <th>fieldDec</th>\n",
       "      <th>filter</th>\n",
       "      <th>expDate</th>\n",
       "      <th>expMJD</th>\n",
       "      <th>night</th>\n",
       "      <th>...</th>\n",
       "      <th>mag_6000184645801</th>\n",
       "      <th>mag_6000184408901</th>\n",
       "      <th>mag_6000043638100</th>\n",
       "      <th>mag_6001586473901</th>\n",
       "      <th>mag_6000269054205</th>\n",
       "      <th>mag_6001531895002</th>\n",
       "      <th>mag_6000321245000</th>\n",
       "      <th>mag_6001417557202</th>\n",
       "      <th>mag_6000637885901</th>\n",
       "      <th>mag_6000221385203</th>\n",
       "    </tr>\n",
       "  </thead>\n",
       "  <tbody>\n",
       "    <tr>\n",
       "      <th>0</th>\n",
       "      <td>220</td>\n",
       "      <td>1042</td>\n",
       "      <td>152</td>\n",
       "      <td>1427</td>\n",
       "      <td>0.925184</td>\n",
       "      <td>-0.4789</td>\n",
       "      <td>g</td>\n",
       "      <td>11699</td>\n",
       "      <td>59580.135415</td>\n",
       "      <td>0</td>\n",
       "      <td>...</td>\n",
       "      <td>28.266336</td>\n",
       "      <td>27.866121</td>\n",
       "      <td>27.697391</td>\n",
       "      <td>28.145976</td>\n",
       "      <td>28.526304</td>\n",
       "      <td>28.404733</td>\n",
       "      <td>28.418325</td>\n",
       "      <td>28.005642</td>\n",
       "      <td>28.323475</td>\n",
       "      <td>27.438158</td>\n",
       "    </tr>\n",
       "    <tr>\n",
       "      <th>1</th>\n",
       "      <td>230</td>\n",
       "      <td>1042</td>\n",
       "      <td>152</td>\n",
       "      <td>1427</td>\n",
       "      <td>0.925184</td>\n",
       "      <td>-0.4789</td>\n",
       "      <td>i</td>\n",
       "      <td>12177</td>\n",
       "      <td>59580.140948</td>\n",
       "      <td>0</td>\n",
       "      <td>...</td>\n",
       "      <td>27.617377</td>\n",
       "      <td>27.784248</td>\n",
       "      <td>27.275260</td>\n",
       "      <td>27.878113</td>\n",
       "      <td>27.823338</td>\n",
       "      <td>28.086856</td>\n",
       "      <td>27.926815</td>\n",
       "      <td>27.864636</td>\n",
       "      <td>27.884126</td>\n",
       "      <td>27.228839</td>\n",
       "    </tr>\n",
       "    <tr>\n",
       "      <th>2</th>\n",
       "      <td>200</td>\n",
       "      <td>1042</td>\n",
       "      <td>152</td>\n",
       "      <td>1427</td>\n",
       "      <td>0.925184</td>\n",
       "      <td>-0.4789</td>\n",
       "      <td>r</td>\n",
       "      <td>10861</td>\n",
       "      <td>59580.125716</td>\n",
       "      <td>0</td>\n",
       "      <td>...</td>\n",
       "      <td>27.536583</td>\n",
       "      <td>27.479861</td>\n",
       "      <td>27.140664</td>\n",
       "      <td>27.601803</td>\n",
       "      <td>27.763960</td>\n",
       "      <td>27.868612</td>\n",
       "      <td>27.766292</td>\n",
       "      <td>27.558418</td>\n",
       "      <td>27.694935</td>\n",
       "      <td>27.015630</td>\n",
       "    </tr>\n",
       "    <tr>\n",
       "      <th>3</th>\n",
       "      <td>276</td>\n",
       "      <td>1042</td>\n",
       "      <td>152</td>\n",
       "      <td>1427</td>\n",
       "      <td>0.925184</td>\n",
       "      <td>-0.4789</td>\n",
       "      <td>y</td>\n",
       "      <td>14069</td>\n",
       "      <td>59580.162846</td>\n",
       "      <td>0</td>\n",
       "      <td>...</td>\n",
       "      <td>27.297952</td>\n",
       "      <td>27.498321</td>\n",
       "      <td>27.244944</td>\n",
       "      <td>27.282763</td>\n",
       "      <td>27.503450</td>\n",
       "      <td>27.734839</td>\n",
       "      <td>27.486826</td>\n",
       "      <td>27.409329</td>\n",
       "      <td>27.393466</td>\n",
       "      <td>27.239481</td>\n",
       "    </tr>\n",
       "    <tr>\n",
       "      <th>4</th>\n",
       "      <td>250</td>\n",
       "      <td>1042</td>\n",
       "      <td>152</td>\n",
       "      <td>1427</td>\n",
       "      <td>0.925184</td>\n",
       "      <td>-0.4789</td>\n",
       "      <td>z</td>\n",
       "      <td>13015</td>\n",
       "      <td>59580.150647</td>\n",
       "      <td>0</td>\n",
       "      <td>...</td>\n",
       "      <td>27.639220</td>\n",
       "      <td>27.791272</td>\n",
       "      <td>27.483809</td>\n",
       "      <td>27.668637</td>\n",
       "      <td>27.848579</td>\n",
       "      <td>28.062127</td>\n",
       "      <td>27.850256</td>\n",
       "      <td>27.750957</td>\n",
       "      <td>27.766323</td>\n",
       "      <td>27.452931</td>\n",
       "    </tr>\n",
       "  </tbody>\n",
       "</table>\n",
       "<p>5 rows × 13931 columns</p>\n",
       "</div>"
      ],
      "text/plain": [
       "   obsHistID  sessionID  propID  fieldID   fieldRA  fieldDec filter  expDate  \\\n",
       "0        220       1042     152     1427  0.925184   -0.4789      g    11699   \n",
       "1        230       1042     152     1427  0.925184   -0.4789      i    12177   \n",
       "2        200       1042     152     1427  0.925184   -0.4789      r    10861   \n",
       "3        276       1042     152     1427  0.925184   -0.4789      y    14069   \n",
       "4        250       1042     152     1427  0.925184   -0.4789      z    13015   \n",
       "\n",
       "         expMJD  night        ...          mag_6000184645801  \\\n",
       "0  59580.135415      0        ...                  28.266336   \n",
       "1  59580.140948      0        ...                  27.617377   \n",
       "2  59580.125716      0        ...                  27.536583   \n",
       "3  59580.162846      0        ...                  27.297952   \n",
       "4  59580.150647      0        ...                  27.639220   \n",
       "\n",
       "   mag_6000184408901  mag_6000043638100  mag_6001586473901  mag_6000269054205  \\\n",
       "0          27.866121          27.697391          28.145976          28.526304   \n",
       "1          27.784248          27.275260          27.878113          27.823338   \n",
       "2          27.479861          27.140664          27.601803          27.763960   \n",
       "3          27.498321          27.244944          27.282763          27.503450   \n",
       "4          27.791272          27.483809          27.668637          27.848579   \n",
       "\n",
       "   mag_6001531895002  mag_6000321245000  mag_6001417557202  mag_6000637885901  \\\n",
       "0          28.404733          28.418325          28.005642          28.323475   \n",
       "1          28.086856          27.926815          27.864636          27.884126   \n",
       "2          27.868612          27.766292          27.558418          27.694935   \n",
       "3          27.734839          27.486826          27.409329          27.393466   \n",
       "4          28.062127          27.850256          27.750957          27.766323   \n",
       "\n",
       "   mag_6000221385203  \n",
       "0          27.438158  \n",
       "1          27.228839  \n",
       "2          27.015630  \n",
       "3          27.239481  \n",
       "4          27.452931  \n",
       "\n",
       "[5 rows x 13931 columns]"
      ]
     },
     "execution_count": 113,
     "metadata": {},
     "output_type": "execute_result"
    }
   ],
   "source": [
    "krakenvisits.head()"
   ]
  },
  {
   "cell_type": "code",
   "execution_count": 112,
   "metadata": {
    "collapsed": false
   },
   "outputs": [
    {
     "data": {
      "text/plain": [
       "12492"
      ]
     },
     "execution_count": 112,
     "metadata": {},
     "output_type": "execute_result"
    }
   ],
   "source": [
    "len(potentialHSNR)"
   ]
  },
  {
   "cell_type": "code",
   "execution_count": null,
   "metadata": {
    "collapsed": true
   },
   "outputs": [],
   "source": [
    "krakenvisits['diffmag'] = krak"
   ]
  },
  {
   "cell_type": "code",
   "execution_count": 127,
   "metadata": {
    "collapsed": false
   },
   "outputs": [
    {
     "data": {
      "text/plain": [
       "obsHistID\n",
       "220        3.908477\n",
       "230        4.087858\n",
       "200        3.301766\n",
       "276        6.110050\n",
       "250        4.797234\n",
       "1637       6.737677\n",
       "2226       6.864731\n",
       "2942       6.899515\n",
       "3665       6.713532\n",
       "4571       6.800040\n",
       "185880     3.947187\n",
       "185900     4.325565\n",
       "185870     3.376788\n",
       "185946     5.896694\n",
       "185926     4.714461\n",
       "195066     3.841683\n",
       "195086     4.371412\n",
       "195056     3.508095\n",
       "195132     5.887972\n",
       "195112     4.856091\n",
       "201057     7.120544\n",
       "203015     3.384470\n",
       "203030     3.644025\n",
       "203005     3.000239\n",
       "203062     5.321185\n",
       "203036     4.158300\n",
       "204764     4.747926\n",
       "204784     4.512952\n",
       "204754     3.992537\n",
       "204830     5.456615\n",
       "             ...   \n",
       "2431086    3.907505\n",
       "2431056    3.025633\n",
       "2431132    5.338669\n",
       "2431112    4.288392\n",
       "2433151    3.491818\n",
       "2433171    3.742372\n",
       "2433141    3.073168\n",
       "2433217    5.400255\n",
       "2433197    4.274281\n",
       "2435233    3.832330\n",
       "2435253    4.060784\n",
       "2435223    3.398152\n",
       "2435299    5.711971\n",
       "2435279    4.587743\n",
       "2435922    6.764366\n",
       "2436607    6.526247\n",
       "2437301    6.811189\n",
       "2438631    6.732143\n",
       "2439331    7.074019\n",
       "2440036    6.771385\n",
       "2440831    3.573601\n",
       "2440841    3.650443\n",
       "2440811    2.978782\n",
       "2440887    5.393611\n",
       "2440861    4.211454\n",
       "2442752    4.307183\n",
       "2442772    4.173132\n",
       "2442742    3.537620\n",
       "2442799    5.482665\n",
       "2442775    4.734054\n",
       "dtype: float64"
      ]
     },
     "execution_count": 127,
     "metadata": {},
     "output_type": "execute_result"
    }
   ],
   "source": [
    "krakenvisits['mag_6000184645801'] - krakenvisits['fsD']"
   ]
  },
  {
   "cell_type": "code",
   "execution_count": 123,
   "metadata": {
    "collapsed": false
   },
   "outputs": [],
   "source": [
    "krakenvisits.set_index('obsHistID', inplace=True)"
   ]
  },
  {
   "cell_type": "code",
   "execution_count": 108,
   "metadata": {
    "collapsed": false
   },
   "outputs": [],
   "source": [
    "maxfsd = krakenvisits['mag_6000184645801'].min()"
   ]
  },
  {
   "cell_type": "code",
   "execution_count": 114,
   "metadata": {
    "collapsed": true
   },
   "outputs": [],
   "source": [
    "opsimvisits = pd.read_csv('/Users/rbiswas/doc/projects/LSST/Twinkles/code/SN_sims/SelectedKrakenVisits.csv')"
   ]
  },
  {
   "cell_type": "code",
   "execution_count": 126,
   "metadata": {
    "collapsed": false
   },
   "outputs": [],
   "source": [
    "krakenvisits['fsD'] = opsimvisits['fiveSigmaDepth']"
   ]
  },
  {
   "cell_type": "code",
   "execution_count": null,
   "metadata": {
    "collapsed": true
   },
   "outputs": [],
   "source": [
    "krakenvisits"
   ]
  },
  {
   "cell_type": "code",
   "execution_count": 118,
   "metadata": {
    "collapsed": false
   },
   "outputs": [],
   "source": [
    "opsimvisits.set_index('obsHistID', inplace=True)"
   ]
  },
  {
   "cell_type": "code",
   "execution_count": 119,
   "metadata": {
    "collapsed": false
   },
   "outputs": [
    {
     "data": {
      "text/plain": [
       "Index([u'sessionID', u'propID', u'fieldID', u'fieldRA', u'fieldDec', u'filter',\n",
       "       u'expDate', u'expMJD', u'night', u'visitTime', u'visitExpTime',\n",
       "       u'finRank', u'FWHMeff', u'FWHMgeom', u'transparency', u'airmass',\n",
       "       u'vSkyBright', u'filtSkyBrightness', u'rotSkyPos', u'rotTelPos', u'lst',\n",
       "       u'altitude', u'azimuth', u'dist2Moon', u'solarElong', u'moonRA',\n",
       "       u'moonDec', u'moonAlt', u'moonAZ', u'moonPhase', u'sunAlt', u'sunAz',\n",
       "       u'phaseAngle', u'rScatter', u'mieScatter', u'moonIllum', u'moonBright',\n",
       "       u'darkBright', u'rawSeeing', u'wind', u'humidity', u'slewDist',\n",
       "       u'slewTime', u'fiveSigmaDepth', u'ditheredRA', u'ditheredDec',\n",
       "       u'obsID'],\n",
       "      dtype='object')"
      ]
     },
     "execution_count": 119,
     "metadata": {},
     "output_type": "execute_result"
    }
   ],
   "source": [
    "opsimvisits.columns"
   ]
  },
  {
   "cell_type": "code",
   "execution_count": 25,
   "metadata": {
    "collapsed": false
   },
   "outputs": [
    {
     "data": {
      "text/plain": [
       "0.11666666666666667"
      ]
     },
     "execution_count": 25,
     "metadata": {},
     "output_type": "execute_result"
    }
   ],
   "source": [
    "3.5 / 30."
   ]
  },
  {
   "cell_type": "code",
   "execution_count": 8,
   "metadata": {
    "collapsed": false
   },
   "outputs": [
    {
     "data": {
      "text/plain": [
       "<matplotlib.lines.Line2D at 0x11935b650>"
      ]
     },
     "execution_count": 8,
     "metadata": {},
     "output_type": "execute_result"
    },
    {
     "data": {
      "image/png": "[encoded data removed]",
      "text/plain": [
       "<matplotlib.figure.Figure at 0x11935b610>"
      ]
     },
     "metadata": {},
     "output_type": "display_data"
    }
   ],
   "source": [
    "fig, ax = plt.subplots()\n",
    "ax.axhline(2.)"
   ]
  },
  {
   "cell_type": "code",
   "execution_count": 9,
   "metadata": {
    "collapsed": false
   },
   "outputs": [
    {
     "data": {
      "text/plain": [
       "85.450176"
      ]
     },
     "execution_count": 9,
     "metadata": {},
     "output_type": "execute_result"
    }
   ],
   "source": [
    "85450176 / 1e6"
   ]
  },
  {
   "cell_type": "code",
   "execution_count": 15,
   "metadata": {
    "collapsed": false
   },
   "outputs": [],
   "source": [
    "df = pd.read_csv('galDB.csv')"
   ]
  },
  {
   "cell_type": "code",
   "execution_count": 16,
   "metadata": {
    "collapsed": false
   },
   "outputs": [
    {
     "data": {
      "text/plain": [
       "7158432"
      ]
     },
     "execution_count": 16,
     "metadata": {},
     "output_type": "execute_result"
    }
   ],
   "source": [
    "len(df)"
   ]
  },
  {
   "cell_type": "code",
   "execution_count": 17,
   "metadata": {
    "collapsed": false
   },
   "outputs": [
    {
     "data": {
      "text/plain": [
       "Index([u'id', u'mass_stellar', u'redshift', u'ra', u'dec'], dtype='object')"
      ]
     },
     "execution_count": 17,
     "metadata": {},
     "output_type": "execute_result"
    }
   ],
   "source": [
    "df.columns"
   ]
  },
  {
   "cell_type": "code",
   "execution_count": 18,
   "metadata": {
    "collapsed": false
   },
   "outputs": [],
   "source": [
    "df['zbin'] = df.redshift // 0.1"
   ]
  },
  {
   "cell_type": "code",
   "execution_count": 19,
   "metadata": {
    "collapsed": true
   },
   "outputs": [],
   "source": [
    "grouped = df.groupby('zbin')"
   ]
  },
  {
   "cell_type": "code",
   "execution_count": 47,
   "metadata": {
    "collapsed": false
   },
   "outputs": [],
   "source": [
    "dfz = grouped.mass_stellar.agg({'totMass': np.sum}).reset_index()"
   ]
  },
  {
   "cell_type": "code",
   "execution_count": 49,
   "metadata": {
    "collapsed": false
   },
   "outputs": [
    {
     "data": {
      "text/plain": [
       "40228.394024895912"
      ]
     },
     "execution_count": 49,
     "metadata": {},
     "output_type": "execute_result"
    }
   ],
   "source": [
    "df.query('zbin==2').mass_stellar.sum()"
   ]
  },
  {
   "cell_type": "code",
   "execution_count": 48,
   "metadata": {
    "collapsed": false
   },
   "outputs": [
    {
     "data": {
      "text/plain": [
       "Index([u'zbin', u'totMass'], dtype='object')"
      ]
     },
     "execution_count": 48,
     "metadata": {},
     "output_type": "execute_result"
    }
   ],
   "source": [
    "dfz.columns"
   ]
  },
  {
   "cell_type": "code",
   "execution_count": 50,
   "metadata": {
    "collapsed": false
   },
   "outputs": [
    {
     "data": {
      "text/html": [
       "<div>\n",
       "<table border=\"1\" class=\"dataframe\">\n",
       "  <thead>\n",
       "    <tr style=\"text-align: right;\">\n",
       "      <th></th>\n",
       "      <th>zbin</th>\n",
       "      <th>totMass</th>\n",
       "    </tr>\n",
       "  </thead>\n",
       "  <tbody>\n",
       "    <tr>\n",
       "      <th>0</th>\n",
       "      <td>0</td>\n",
       "      <td>1498.733051</td>\n",
       "    </tr>\n",
       "    <tr>\n",
       "      <th>1</th>\n",
       "      <td>1</td>\n",
       "      <td>17977.700518</td>\n",
       "    </tr>\n",
       "    <tr>\n",
       "      <th>2</th>\n",
       "      <td>2</td>\n",
       "      <td>40228.394025</td>\n",
       "    </tr>\n",
       "    <tr>\n",
       "      <th>3</th>\n",
       "      <td>3</td>\n",
       "      <td>62289.793688</td>\n",
       "    </tr>\n",
       "    <tr>\n",
       "      <th>4</th>\n",
       "      <td>4</td>\n",
       "      <td>109045.005856</td>\n",
       "    </tr>\n",
       "    <tr>\n",
       "      <th>5</th>\n",
       "      <td>5</td>\n",
       "      <td>144177.387569</td>\n",
       "    </tr>\n",
       "    <tr>\n",
       "      <th>6</th>\n",
       "      <td>6</td>\n",
       "      <td>181239.424349</td>\n",
       "    </tr>\n",
       "    <tr>\n",
       "      <th>7</th>\n",
       "      <td>7</td>\n",
       "      <td>194796.572679</td>\n",
       "    </tr>\n",
       "    <tr>\n",
       "      <th>8</th>\n",
       "      <td>8</td>\n",
       "      <td>266515.219771</td>\n",
       "    </tr>\n",
       "    <tr>\n",
       "      <th>9</th>\n",
       "      <td>9</td>\n",
       "      <td>302274.588948</td>\n",
       "    </tr>\n",
       "    <tr>\n",
       "      <th>10</th>\n",
       "      <td>10</td>\n",
       "      <td>382184.159265</td>\n",
       "    </tr>\n",
       "    <tr>\n",
       "      <th>11</th>\n",
       "      <td>11</td>\n",
       "      <td>402857.803956</td>\n",
       "    </tr>\n",
       "    <tr>\n",
       "      <th>12</th>\n",
       "      <td>12</td>\n",
       "      <td>425411.184752</td>\n",
       "    </tr>\n",
       "    <tr>\n",
       "      <th>13</th>\n",
       "      <td>13</td>\n",
       "      <td>389674.732799</td>\n",
       "    </tr>\n",
       "  </tbody>\n",
       "</table>\n",
       "</div>"
      ],
      "text/plain": [
       "    zbin        totMass\n",
       "0      0    1498.733051\n",
       "1      1   17977.700518\n",
       "2      2   40228.394025\n",
       "3      3   62289.793688\n",
       "4      4  109045.005856\n",
       "5      5  144177.387569\n",
       "6      6  181239.424349\n",
       "7      7  194796.572679\n",
       "8      8  266515.219771\n",
       "9      9  302274.588948\n",
       "10    10  382184.159265\n",
       "11    11  402857.803956\n",
       "12    12  425411.184752\n",
       "13    13  389674.732799"
      ]
     },
     "execution_count": 50,
     "metadata": {},
     "output_type": "execute_result"
    }
   ],
   "source": [
    "dfz"
   ]
  },
  {
   "cell_type": "code",
   "execution_count": 51,
   "metadata": {
    "collapsed": false
   },
   "outputs": [],
   "source": [
    "joined = pd.merge(df, dfz, how='inner', on='zbin')"
   ]
  },
  {
   "cell_type": "code",
   "execution_count": 52,
   "metadata": {
    "collapsed": false
   },
   "outputs": [
    {
     "data": {
      "text/html": [
       "<div>\n",
       "<table border=\"1\" class=\"dataframe\">\n",
       "  <thead>\n",
       "    <tr style=\"text-align: right;\">\n",
       "      <th></th>\n",
       "      <th>id</th>\n",
       "      <th>mass_stellar</th>\n",
       "      <th>redshift</th>\n",
       "      <th>ra</th>\n",
       "      <th>dec</th>\n",
       "      <th>zbin</th>\n",
       "      <th>totMass</th>\n",
       "    </tr>\n",
       "  </thead>\n",
       "  <tbody>\n",
       "    <tr>\n",
       "      <th>0</th>\n",
       "      <td>2638779</td>\n",
       "      <td>0.055976</td>\n",
       "      <td>0.407043</td>\n",
       "      <td>0.000179</td>\n",
       "      <td>-0.003402</td>\n",
       "      <td>4</td>\n",
       "      <td>109045.005856</td>\n",
       "    </tr>\n",
       "    <tr>\n",
       "      <th>1</th>\n",
       "      <td>5796944</td>\n",
       "      <td>0.043954</td>\n",
       "      <td>0.477448</td>\n",
       "      <td>0.000197</td>\n",
       "      <td>-0.010526</td>\n",
       "      <td>4</td>\n",
       "      <td>109045.005856</td>\n",
       "    </tr>\n",
       "    <tr>\n",
       "      <th>2</th>\n",
       "      <td>876494</td>\n",
       "      <td>0.137075</td>\n",
       "      <td>0.497270</td>\n",
       "      <td>0.001083</td>\n",
       "      <td>-0.007933</td>\n",
       "      <td>4</td>\n",
       "      <td>109045.005856</td>\n",
       "    </tr>\n",
       "    <tr>\n",
       "      <th>3</th>\n",
       "      <td>646728</td>\n",
       "      <td>0.160140</td>\n",
       "      <td>0.407099</td>\n",
       "      <td>0.005305</td>\n",
       "      <td>-0.000600</td>\n",
       "      <td>4</td>\n",
       "      <td>109045.005856</td>\n",
       "    </tr>\n",
       "    <tr>\n",
       "      <th>4</th>\n",
       "      <td>196618</td>\n",
       "      <td>1.878882</td>\n",
       "      <td>0.484248</td>\n",
       "      <td>0.002452</td>\n",
       "      <td>-0.004041</td>\n",
       "      <td>4</td>\n",
       "      <td>109045.005856</td>\n",
       "    </tr>\n",
       "  </tbody>\n",
       "</table>\n",
       "</div>"
      ],
      "text/plain": [
       "        id  mass_stellar  redshift        ra       dec  zbin        totMass\n",
       "0  2638779      0.055976  0.407043  0.000179 -0.003402     4  109045.005856\n",
       "1  5796944      0.043954  0.477448  0.000197 -0.010526     4  109045.005856\n",
       "2   876494      0.137075  0.497270  0.001083 -0.007933     4  109045.005856\n",
       "3   646728      0.160140  0.407099  0.005305 -0.000600     4  109045.005856\n",
       "4   196618      1.878882  0.484248  0.002452 -0.004041     4  109045.005856"
      ]
     },
     "execution_count": 52,
     "metadata": {},
     "output_type": "execute_result"
    }
   ],
   "source": [
    "joined.head()"
   ]
  },
  {
   "cell_type": "code",
   "execution_count": 53,
   "metadata": {
    "collapsed": false
   },
   "outputs": [
    {
     "data": {
      "text/plain": [
       "True"
      ]
     },
     "execution_count": 53,
     "metadata": {},
     "output_type": "execute_result"
    }
   ],
   "source": [
    "len(joined) == len(df)"
   ]
  },
  {
   "cell_type": "code",
   "execution_count": 32,
   "metadata": {
    "collapsed": false
   },
   "outputs": [
    {
     "data": {
      "text/html": [
       "<div>\n",
       "<table border=\"1\" class=\"dataframe\">\n",
       "  <thead>\n",
       "    <tr style=\"text-align: right;\">\n",
       "      <th></th>\n",
       "      <th>id</th>\n",
       "      <th>mass_stellar</th>\n",
       "      <th>redshift</th>\n",
       "      <th>ra</th>\n",
       "      <th>dec</th>\n",
       "      <th>zbin</th>\n",
       "    </tr>\n",
       "  </thead>\n",
       "  <tbody>\n",
       "    <tr>\n",
       "      <th>0</th>\n",
       "      <td>2638779</td>\n",
       "      <td>0.055976</td>\n",
       "      <td>0.407043</td>\n",
       "      <td>0.000179</td>\n",
       "      <td>-0.003402</td>\n",
       "      <td>4</td>\n",
       "    </tr>\n",
       "    <tr>\n",
       "      <th>1</th>\n",
       "      <td>326781</td>\n",
       "      <td>0.197341</td>\n",
       "      <td>0.526173</td>\n",
       "      <td>0.004228</td>\n",
       "      <td>-0.000904</td>\n",
       "      <td>5</td>\n",
       "    </tr>\n",
       "    <tr>\n",
       "      <th>2</th>\n",
       "      <td>5967705</td>\n",
       "      <td>0.014831</td>\n",
       "      <td>0.707427</td>\n",
       "      <td>0.003078</td>\n",
       "      <td>-0.000042</td>\n",
       "      <td>7</td>\n",
       "    </tr>\n",
       "    <tr>\n",
       "      <th>3</th>\n",
       "      <td>5796944</td>\n",
       "      <td>0.043954</td>\n",
       "      <td>0.477448</td>\n",
       "      <td>0.000197</td>\n",
       "      <td>-0.010526</td>\n",
       "      <td>4</td>\n",
       "    </tr>\n",
       "    <tr>\n",
       "      <th>4</th>\n",
       "      <td>12792253</td>\n",
       "      <td>0.000018</td>\n",
       "      <td>0.162128</td>\n",
       "      <td>0.000595</td>\n",
       "      <td>-0.009723</td>\n",
       "      <td>1</td>\n",
       "    </tr>\n",
       "  </tbody>\n",
       "</table>\n",
       "</div>"
      ],
      "text/plain": [
       "         id  mass_stellar  redshift        ra       dec  zbin\n",
       "0   2638779      0.055976  0.407043  0.000179 -0.003402     4\n",
       "1    326781      0.197341  0.526173  0.004228 -0.000904     5\n",
       "2   5967705      0.014831  0.707427  0.003078 -0.000042     7\n",
       "3   5796944      0.043954  0.477448  0.000197 -0.010526     4\n",
       "4  12792253      0.000018  0.162128  0.000595 -0.009723     1"
      ]
     },
     "execution_count": 32,
     "metadata": {},
     "output_type": "execute_result"
    }
   ],
   "source": [
    "df.head()"
   ]
  },
  {
   "cell_type": "code",
   "execution_count": 54,
   "metadata": {
    "collapsed": true
   },
   "outputs": [],
   "source": [
    "joined['discreteProb'] = joined['mass_stellar'] / joined['totMass']"
   ]
  },
  {
   "cell_type": "code",
   "execution_count": 55,
   "metadata": {
    "collapsed": false
   },
   "outputs": [
    {
     "data": {
      "text/plain": [
       "Index([u'id', u'mass_stellar', u'redshift', u'ra', u'dec', u'zbin', u'totMass',\n",
       "       u'discreteProb'],\n",
       "      dtype='object')"
      ]
     },
     "execution_count": 55,
     "metadata": {},
     "output_type": "execute_result"
    }
   ],
   "source": [
    "joined.columns"
   ]
  },
  {
   "cell_type": "code",
   "execution_count": 66,
   "metadata": {
    "collapsed": false
   },
   "outputs": [
    {
     "data": {
      "text/plain": [
       "array([[<matplotlib.axes._subplots.AxesSubplot object at 0x1d12b90d0>,\n",
       "        <matplotlib.axes._subplots.AxesSubplot object at 0x1d1062510>,\n",
       "        <matplotlib.axes._subplots.AxesSubplot object at 0x1d0e234d0>,\n",
       "        <matplotlib.axes._subplots.AxesSubplot object at 0x1d0adeb50>],\n",
       "       [<matplotlib.axes._subplots.AxesSubplot object at 0x1cde85b10>,\n",
       "        <matplotlib.axes._subplots.AxesSubplot object at 0x1d0916f90>,\n",
       "        <matplotlib.axes._subplots.AxesSubplot object at 0x1cd8dbd90>,\n",
       "        <matplotlib.axes._subplots.AxesSubplot object at 0x1552b2690>],\n",
       "       [<matplotlib.axes._subplots.AxesSubplot object at 0x1afebdb10>,\n",
       "        <matplotlib.axes._subplots.AxesSubplot object at 0x1a6556510>,\n",
       "        <matplotlib.axes._subplots.AxesSubplot object at 0x1af7dd790>,\n",
       "        <matplotlib.axes._subplots.AxesSubplot object at 0x1bc1903d0>],\n",
       "       [<matplotlib.axes._subplots.AxesSubplot object at 0x1d23d8910>,\n",
       "        <matplotlib.axes._subplots.AxesSubplot object at 0x1d29ed590>,\n",
       "        <matplotlib.axes._subplots.AxesSubplot object at 0x1d56fb890>,\n",
       "        <matplotlib.axes._subplots.AxesSubplot object at 0x1d575b690>]], dtype=object)"
      ]
     },
     "execution_count": 66,
     "metadata": {},
     "output_type": "execute_result"
    },
    {
     "data": {
      "image/png": "[encoded data removed]",
      "text/plain": [
       "<matplotlib.figure.Figure at 0x18a847a50>"
      ]
     },
     "metadata": {},
     "output_type": "display_data"
    }
   ],
   "source": [
    "joined.hist('discreteProb', by='zbin', \n",
    "            sharex=True,grid=True, **{'log':True, 'histtype':'step', 'alpha':1,\n",
    "                                     'lw':2, 'color':'k'})"
   ]
  },
  {
   "cell_type": "code",
   "execution_count": 67,
   "metadata": {
    "collapsed": false
   },
   "outputs": [
    {
     "data": {
      "text/plain": [
       "(array([  7.09249700e+06,   5.55190000e+04,   6.33600000e+03,\n",
       "          2.13300000e+03,   1.03000000e+03,   5.56000000e+02,\n",
       "          2.88000000e+02,   5.00000000e+00,   2.50000000e+01,\n",
       "          4.30000000e+01]),\n",
       " array([  8.00000009e-07,   6.89491649e+00,   1.37898322e+01,\n",
       "          2.06847479e+01,   2.75796636e+01,   3.44745793e+01,\n",
       "          4.13694949e+01,   4.82644106e+01,   5.51593263e+01,\n",
       "          6.20542420e+01,   6.89491577e+01]),\n",
       " <a list of 10 Patch objects>)"
      ]
     },
     "execution_count": 67,
     "metadata": {},
     "output_type": "execute_result"
    },
    {
     "data": {
      "image/png": "[encoded data removed]",
      "text/plain": [
       "<matplotlib.figure.Figure at 0x12c446190>"
      ]
     },
     "metadata": {},
     "output_type": "display_data"
    }
   ],
   "source": [
    "fig, ax = plt.subplots()\n",
    "ax.hist(joined.mass_stellar)"
   ]
  },
  {
   "cell_type": "code",
   "execution_count": 68,
   "metadata": {
    "collapsed": true
   },
   "outputs": [],
   "source": [
    "ax.set_xscale('log')"
   ]
  },
  {
   "cell_type": "code",
   "execution_count": 69,
   "metadata": {
    "collapsed": false
   },
   "outputs": [
    {
     "data": {
      "image/png": "[encoded data removed]",
      "text/plain": [
       "<matplotlib.figure.Figure at 0x12c446190>"
      ]
     },
     "execution_count": 69,
     "metadata": {},
     "output_type": "execute_result"
    }
   ],
   "source": [
    "fig"
   ]
  },
  {
   "cell_type": "code",
   "execution_count": 73,
   "metadata": {
    "collapsed": false
   },
   "outputs": [],
   "source": [
    "num, bins = np.histogram(joined.mass_stellar)"
   ]
  },
  {
   "cell_type": "code",
   "execution_count": 74,
   "metadata": {
    "collapsed": true
   },
   "outputs": [],
   "source": [
    "x = np.histogram(joined.mass_stellar, bins=bins)"
   ]
  },
  {
   "cell_type": "code",
   "execution_count": 76,
   "metadata": {
    "collapsed": false
   },
   "outputs": [
    {
     "data": {
      "text/plain": [
       "array([1, 0, 0, 0, 0, 0, 0, 0, 0, 0])"
      ]
     },
     "execution_count": 76,
     "metadata": {},
     "output_type": "execute_result"
    }
   ],
   "source": [
    "x[0] / num[0]"
   ]
  },
  {
   "cell_type": "code",
   "execution_count": 77,
   "metadata": {
    "collapsed": false
   },
   "outputs": [
    {
     "data": {
      "text/plain": [
       "array([7092497,   55519,    6336,    2133,    1030,     556,     288,\n",
       "             5,      25,      43])"
      ]
     },
     "execution_count": 77,
     "metadata": {},
     "output_type": "execute_result"
    }
   ],
   "source": [
    "num"
   ]
  },
  {
   "cell_type": "code",
   "execution_count": 79,
   "metadata": {
    "collapsed": false
   },
   "outputs": [
    {
     "data": {
      "text/plain": [
       "array([1, 1, 1, 1, 1, 1, 1, 1, 1, 1])"
      ]
     },
     "execution_count": 79,
     "metadata": {},
     "output_type": "execute_result"
    }
   ],
   "source": [
    "x[0]/num"
   ]
  },
  {
   "cell_type": "code",
   "execution_count": null,
   "metadata": {
    "collapsed": true
   },
   "outputs": [],
   "source": []
  }
 ],
 "metadata": {
  "kernelspec": {
   "display_name": "Python 2",
   "language": "python",
   "name": "python2"
  },
  "language_info": {
   "codemirror_mode": {
    "name": "ipython",
    "version": 2
   },
   "file_extension": ".py",
   "mimetype": "text/x-python",
   "name": "python",
   "nbconvert_exporter": "python",
   "pygments_lexer": "ipython2",
   "version": "2.7.11"
  }
 },
 "nbformat": 4,
 "nbformat_minor": 0
}
