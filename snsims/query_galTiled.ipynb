{
 "cells": [
  {
   "cell_type": "code",
   "execution_count": 178,
   "metadata": {
    "collapsed": true
   },
   "outputs": [],
   "source": [
    "%matplotlib inline\n",
    "import matplotlib.pyplot as plt"
   ]
  },
  {
   "cell_type": "code",
   "execution_count": 179,
   "metadata": {
    "collapsed": true
   },
   "outputs": [],
   "source": [
    "import numpy as np\n",
    "import pymssql\n",
    "import pandas as pd"
   ]
  },
  {
   "cell_type": "code",
   "execution_count": 130,
   "metadata": {
    "collapsed": false
   },
   "outputs": [],
   "source": [
    "DBConnection = pymssql.connect(user=\"LSST-2\", password=\"L$$TUser\", database=\"LSSTCATSIM\", port='51433')"
   ]
  },
  {
   "cell_type": "code",
   "execution_count": 131,
   "metadata": {
    "collapsed": true
   },
   "outputs": [],
   "source": [
    "db = DBConnection.cursor()"
   ]
  },
  {
   "cell_type": "code",
   "execution_count": 5,
   "metadata": {
    "collapsed": false
   },
   "outputs": [],
   "source": [
    "def get_colnames(db, tableName, colNamePos=3, colList=range(7)):\n",
    "    \"\"\"\n",
    "    return the colNames in the table by reading the schema.\n",
    "    \n",
    "    Parameters\n",
    "    ----------\n",
    "    db : database Connection cursor, mandatory\n",
    "        cursor opened to the database in which the table is located\n",
    "    tableName : string, mandatory\n",
    "        Name of the table,\n",
    "    colNamePos : integer, optional, defaults to 3\n",
    "        The hierarchy of cols\n",
    "    colList : List of integers, optional, defaults to range(7)\n",
    "        indexes corresponding to the desired columns\n",
    "    \"\"\"\n",
    "    query = \"\"\"select * from information_schema.columns where table_name = '{0}'\"\"\".format(tableName)\n",
    "    db.execute(query)\n",
    "    x = db.fetchall()\n",
    "    x = np.array([xx[colNamePos] for xx in x])\n",
    "    \n",
    "    if colList is None:\n",
    "        return x\n",
    "    return x[colList]\n",
    "\n",
    "def get_table(db, tableName, colnames=None, index='id'):\n",
    "    \"\"\"\n",
    "    \n",
    "    \"\"\"\n",
    "    if colnames is None:\n",
    "        colNames = get_colnames(db, tableName)\n",
    "    \n",
    "    cols = \", \".join(colnames)\n",
    "    query = \"\"\"SELECT {0} FROM [LSSTCATSIM].[dbo].[{1}]\"\"\".format(cols, tableName)\n",
    "    print(query)\n",
    "    db.execute(query)\n",
    "    x = db.fetchall()\n",
    "    df = pd.DataFrame.from_records(x, columns=colnames, index=index)\n",
    "    return df"
   ]
  },
  {
   "cell_type": "code",
   "execution_count": 6,
   "metadata": {
    "collapsed": false
   },
   "outputs": [],
   "source": [
    "cols = get_colnames(db, 'tiles', colList=range(7))"
   ]
  },
  {
   "cell_type": "code",
   "execution_count": 7,
   "metadata": {
    "collapsed": false
   },
   "outputs": [
    {
     "name": "stdout",
     "output_type": "stream",
     "text": [
      "SELECT id, llx, lly, urx, ury, ramid, decmid FROM [LSSTCATSIM].[dbo].[tiles]\n"
     ]
    }
   ],
   "source": [
    "galTiles = get_table(db, 'tiles', colnames=cols)#.apply(np.radians)\n",
    "galTiles['decMidRad'] = np.radians( -galTiles['decmid'] + 90.)\n",
    "delta = np.radians(2.)\n",
    "galTiles['area'] = 2* delta * np.sin(delta) * np.sin(galTiles.decMidRad)"
   ]
  },
  {
   "cell_type": "code",
   "execution_count": 8,
   "metadata": {
    "collapsed": false
   },
   "outputs": [
    {
     "data": {
      "text/html": [
       "<div>\n",
       "<table border=\"1\" class=\"dataframe\">\n",
       "  <thead>\n",
       "    <tr style=\"text-align: right;\">\n",
       "      <th></th>\n",
       "      <th>llx</th>\n",
       "      <th>lly</th>\n",
       "      <th>urx</th>\n",
       "      <th>ury</th>\n",
       "      <th>ramid</th>\n",
       "      <th>decmid</th>\n",
       "      <th>decMidRad</th>\n",
       "      <th>area</th>\n",
       "    </tr>\n",
       "    <tr>\n",
       "      <th>id</th>\n",
       "      <th></th>\n",
       "      <th></th>\n",
       "      <th></th>\n",
       "      <th></th>\n",
       "      <th></th>\n",
       "      <th></th>\n",
       "      <th></th>\n",
       "      <th></th>\n",
       "    </tr>\n",
       "  </thead>\n",
       "  <tbody>\n",
       "    <tr>\n",
       "      <th>554</th>\n",
       "      <td>48</td>\n",
       "      <td>-34</td>\n",
       "      <td>52</td>\n",
       "      <td>-30</td>\n",
       "      <td>50</td>\n",
       "      <td>-32</td>\n",
       "      <td>2.129302</td>\n",
       "      <td>0.002066</td>\n",
       "    </tr>\n",
       "    <tr>\n",
       "      <th>555</th>\n",
       "      <td>48</td>\n",
       "      <td>-30</td>\n",
       "      <td>52</td>\n",
       "      <td>-26</td>\n",
       "      <td>50</td>\n",
       "      <td>-28</td>\n",
       "      <td>2.059489</td>\n",
       "      <td>0.002151</td>\n",
       "    </tr>\n",
       "    <tr>\n",
       "      <th>556</th>\n",
       "      <td>48</td>\n",
       "      <td>-26</td>\n",
       "      <td>52</td>\n",
       "      <td>-22</td>\n",
       "      <td>50</td>\n",
       "      <td>-24</td>\n",
       "      <td>1.989675</td>\n",
       "      <td>0.002226</td>\n",
       "    </tr>\n",
       "    <tr>\n",
       "      <th>599</th>\n",
       "      <td>52</td>\n",
       "      <td>-34</td>\n",
       "      <td>56</td>\n",
       "      <td>-30</td>\n",
       "      <td>54</td>\n",
       "      <td>-32</td>\n",
       "      <td>2.129302</td>\n",
       "      <td>0.002066</td>\n",
       "    </tr>\n",
       "    <tr>\n",
       "      <th>600</th>\n",
       "      <td>52</td>\n",
       "      <td>-30</td>\n",
       "      <td>56</td>\n",
       "      <td>-26</td>\n",
       "      <td>54</td>\n",
       "      <td>-28</td>\n",
       "      <td>2.059489</td>\n",
       "      <td>0.002151</td>\n",
       "    </tr>\n",
       "    <tr>\n",
       "      <th>601</th>\n",
       "      <td>52</td>\n",
       "      <td>-26</td>\n",
       "      <td>56</td>\n",
       "      <td>-22</td>\n",
       "      <td>54</td>\n",
       "      <td>-24</td>\n",
       "      <td>1.989675</td>\n",
       "      <td>0.002226</td>\n",
       "    </tr>\n",
       "    <tr>\n",
       "      <th>644</th>\n",
       "      <td>56</td>\n",
       "      <td>-34</td>\n",
       "      <td>60</td>\n",
       "      <td>-30</td>\n",
       "      <td>58</td>\n",
       "      <td>-32</td>\n",
       "      <td>2.129302</td>\n",
       "      <td>0.002066</td>\n",
       "    </tr>\n",
       "    <tr>\n",
       "      <th>645</th>\n",
       "      <td>56</td>\n",
       "      <td>-30</td>\n",
       "      <td>60</td>\n",
       "      <td>-26</td>\n",
       "      <td>58</td>\n",
       "      <td>-28</td>\n",
       "      <td>2.059489</td>\n",
       "      <td>0.002151</td>\n",
       "    </tr>\n",
       "    <tr>\n",
       "      <th>646</th>\n",
       "      <td>56</td>\n",
       "      <td>-26</td>\n",
       "      <td>60</td>\n",
       "      <td>-22</td>\n",
       "      <td>58</td>\n",
       "      <td>-24</td>\n",
       "      <td>1.989675</td>\n",
       "      <td>0.002226</td>\n",
       "    </tr>\n",
       "  </tbody>\n",
       "</table>\n",
       "</div>"
      ],
      "text/plain": [
       "     llx  lly  urx  ury  ramid  decmid  decMidRad      area\n",
       "id                                                         \n",
       "554   48  -34   52  -30     50     -32   2.129302  0.002066\n",
       "555   48  -30   52  -26     50     -28   2.059489  0.002151\n",
       "556   48  -26   52  -22     50     -24   1.989675  0.002226\n",
       "599   52  -34   56  -30     54     -32   2.129302  0.002066\n",
       "600   52  -30   56  -26     54     -28   2.059489  0.002151\n",
       "601   52  -26   56  -22     54     -24   1.989675  0.002226\n",
       "644   56  -34   60  -30     58     -32   2.129302  0.002066\n",
       "645   56  -30   60  -26     58     -28   2.059489  0.002151\n",
       "646   56  -26   60  -22     58     -24   1.989675  0.002226"
      ]
     },
     "execution_count": 8,
     "metadata": {},
     "output_type": "execute_result"
    }
   ],
   "source": [
    "galTiles.query('abs(ramid - 53.009) < 5 and abs(decmid + 27.439) < 5 ')"
   ]
  },
  {
   "cell_type": "code",
   "execution_count": 9,
   "metadata": {
    "collapsed": false
   },
   "outputs": [
    {
     "ename": "SyntaxError",
     "evalue": "invalid syntax (<ipython-input-9-f0e10433ab90>, line 1)",
     "output_type": "error",
     "traceback": [
      "\u001b[0;36m  File \u001b[0;32m\"<ipython-input-9-f0e10433ab90>\"\u001b[0;36m, line \u001b[0;32m1\u001b[0m\n\u001b[0;31m    from lsst.sims.catUtils.Ga\u001b[0m\n\u001b[0m                              ^\u001b[0m\n\u001b[0;31mSyntaxError\u001b[0m\u001b[0;31m:\u001b[0m invalid syntax\n"
     ]
    }
   ],
   "source": [
    "from lsst.sims.catUtils.Ga"
   ]
  },
  {
   "cell_type": "code",
   "execution_count": 10,
   "metadata": {
    "collapsed": false
   },
   "outputs": [
    {
     "data": {
      "text/plain": [
       "id\n",
       "0       0.000085\n",
       "1       0.000255\n",
       "2       0.000423\n",
       "3       0.000589\n",
       "4       0.000753\n",
       "5       0.000913\n",
       "6       0.001068\n",
       "7       0.001218\n",
       "8       0.001362\n",
       "9       0.001500\n",
       "10      0.001630\n",
       "11      0.001753\n",
       "12      0.001866\n",
       "13      0.001971\n",
       "14      0.002066\n",
       "15      0.002151\n",
       "16      0.002226\n",
       "17      0.002290\n",
       "18      0.002342\n",
       "19      0.002383\n",
       "20      0.002413\n",
       "21      0.002431\n",
       "22      0.002436\n",
       "23      0.002431\n",
       "24      0.002413\n",
       "25      0.002383\n",
       "26      0.002342\n",
       "27      0.002290\n",
       "28      0.002226\n",
       "29      0.002151\n",
       "          ...   \n",
       "4045    0.000753\n",
       "4046    0.000589\n",
       "4047    0.000423\n",
       "4048    0.000255\n",
       "2115    0.000085\n",
       "2160    0.000085\n",
       "2475    0.000085\n",
       "2519    0.000085\n",
       "2655    0.000085\n",
       "2835    0.000085\n",
       "3015    0.000085\n",
       "3060    0.000085\n",
       "3285    0.000085\n",
       "3330    0.000085\n",
       "3509    0.000085\n",
       "3554    0.000085\n",
       "3824    0.000085\n",
       "3915    0.000085\n",
       "3960    0.000085\n",
       "4004    0.000085\n",
       "4049    0.000085\n",
       "360     0.000085\n",
       "405     0.000085\n",
       "675     0.000085\n",
       "720     0.000085\n",
       "765     0.000085\n",
       "945     0.000085\n",
       "990     0.000085\n",
       "1215    0.000085\n",
       "1710    0.000085\n",
       "Name: area, dtype: float64"
      ]
     },
     "execution_count": 10,
     "metadata": {},
     "output_type": "execute_result"
    }
   ],
   "source": [
    "galTiles.area"
   ]
  },
  {
   "cell_type": "code",
   "execution_count": 11,
   "metadata": {
    "collapsed": true
   },
   "outputs": [],
   "source": [
    "def galTileArea(galTiles, id):\n",
    "    TwinklesObsMetaData = ObservationMetaData(boundType='box',pointingRA=centralRA,pointingDec=centralDec,\n",
    "                                              boundLength=patchRadius, mjd=49540.0)\n",
    "    "
   ]
  },
  {
   "cell_type": "code",
   "execution_count": 12,
   "metadata": {
    "collapsed": false
   },
   "outputs": [
    {
     "data": {
      "text/plain": [
       "count    4050.000000\n",
       "mean      180.000000\n",
       "std       103.929465\n",
       "min         2.000000\n",
       "25%        90.000000\n",
       "50%       180.000000\n",
       "75%       270.000000\n",
       "max       358.000000\n",
       "Name: ramid, dtype: float64"
      ]
     },
     "execution_count": 12,
     "metadata": {},
     "output_type": "execute_result"
    }
   ],
   "source": [
    "galTiles.ramid.describe()"
   ]
  },
  {
   "cell_type": "code",
   "execution_count": 9,
   "metadata": {
    "collapsed": false
   },
   "outputs": [],
   "source": [
    "delta = np.radians(2)"
   ]
  },
  {
   "cell_type": "code",
   "execution_count": 10,
   "metadata": {
    "collapsed": true
   },
   "outputs": [],
   "source": [
    "galTiles['decMidRad'] = np.radians( -galTiles['decmid'] + 90.)"
   ]
  },
  {
   "cell_type": "code",
   "execution_count": null,
   "metadata": {
    "collapsed": true
   },
   "outputs": [],
   "source": []
  },
  {
   "cell_type": "code",
   "execution_count": 11,
   "metadata": {
    "collapsed": false
   },
   "outputs": [],
   "source": [
    "galTiles['area'] = 2* delta * np.sin(delta) * np.sin(galTiles.decMidRad)"
   ]
  },
  {
   "cell_type": "code",
   "execution_count": 12,
   "metadata": {
    "collapsed": false
   },
   "outputs": [
    {
     "data": {
      "text/html": [
       "<div>\n",
       "<table border=\"1\" class=\"dataframe\">\n",
       "  <thead>\n",
       "    <tr style=\"text-align: right;\">\n",
       "      <th></th>\n",
       "      <th>llx</th>\n",
       "      <th>lly</th>\n",
       "      <th>urx</th>\n",
       "      <th>ury</th>\n",
       "      <th>ramid</th>\n",
       "      <th>decmid</th>\n",
       "      <th>decMidRad</th>\n",
       "      <th>area</th>\n",
       "    </tr>\n",
       "    <tr>\n",
       "      <th>id</th>\n",
       "      <th></th>\n",
       "      <th></th>\n",
       "      <th></th>\n",
       "      <th></th>\n",
       "      <th></th>\n",
       "      <th></th>\n",
       "      <th></th>\n",
       "      <th></th>\n",
       "    </tr>\n",
       "  </thead>\n",
       "  <tbody>\n",
       "    <tr>\n",
       "      <th>0</th>\n",
       "      <td>0</td>\n",
       "      <td>-90</td>\n",
       "      <td>4</td>\n",
       "      <td>-86</td>\n",
       "      <td>2</td>\n",
       "      <td>-88</td>\n",
       "      <td>3.106686</td>\n",
       "      <td>0.000085</td>\n",
       "    </tr>\n",
       "    <tr>\n",
       "      <th>1</th>\n",
       "      <td>0</td>\n",
       "      <td>-86</td>\n",
       "      <td>4</td>\n",
       "      <td>-82</td>\n",
       "      <td>2</td>\n",
       "      <td>-84</td>\n",
       "      <td>3.036873</td>\n",
       "      <td>0.000255</td>\n",
       "    </tr>\n",
       "    <tr>\n",
       "      <th>2</th>\n",
       "      <td>0</td>\n",
       "      <td>-82</td>\n",
       "      <td>4</td>\n",
       "      <td>-78</td>\n",
       "      <td>2</td>\n",
       "      <td>-80</td>\n",
       "      <td>2.967060</td>\n",
       "      <td>0.000423</td>\n",
       "    </tr>\n",
       "    <tr>\n",
       "      <th>3</th>\n",
       "      <td>0</td>\n",
       "      <td>-78</td>\n",
       "      <td>4</td>\n",
       "      <td>-74</td>\n",
       "      <td>2</td>\n",
       "      <td>-76</td>\n",
       "      <td>2.897247</td>\n",
       "      <td>0.000589</td>\n",
       "    </tr>\n",
       "    <tr>\n",
       "      <th>4</th>\n",
       "      <td>0</td>\n",
       "      <td>-74</td>\n",
       "      <td>4</td>\n",
       "      <td>-70</td>\n",
       "      <td>2</td>\n",
       "      <td>-72</td>\n",
       "      <td>2.827433</td>\n",
       "      <td>0.000753</td>\n",
       "    </tr>\n",
       "    <tr>\n",
       "      <th>5</th>\n",
       "      <td>0</td>\n",
       "      <td>-70</td>\n",
       "      <td>4</td>\n",
       "      <td>-66</td>\n",
       "      <td>2</td>\n",
       "      <td>-68</td>\n",
       "      <td>2.757620</td>\n",
       "      <td>0.000913</td>\n",
       "    </tr>\n",
       "    <tr>\n",
       "      <th>6</th>\n",
       "      <td>0</td>\n",
       "      <td>-66</td>\n",
       "      <td>4</td>\n",
       "      <td>-62</td>\n",
       "      <td>2</td>\n",
       "      <td>-64</td>\n",
       "      <td>2.687807</td>\n",
       "      <td>0.001068</td>\n",
       "    </tr>\n",
       "    <tr>\n",
       "      <th>7</th>\n",
       "      <td>0</td>\n",
       "      <td>-62</td>\n",
       "      <td>4</td>\n",
       "      <td>-58</td>\n",
       "      <td>2</td>\n",
       "      <td>-60</td>\n",
       "      <td>2.617994</td>\n",
       "      <td>0.001218</td>\n",
       "    </tr>\n",
       "    <tr>\n",
       "      <th>8</th>\n",
       "      <td>0</td>\n",
       "      <td>-58</td>\n",
       "      <td>4</td>\n",
       "      <td>-54</td>\n",
       "      <td>2</td>\n",
       "      <td>-56</td>\n",
       "      <td>2.548181</td>\n",
       "      <td>0.001362</td>\n",
       "    </tr>\n",
       "    <tr>\n",
       "      <th>9</th>\n",
       "      <td>0</td>\n",
       "      <td>-54</td>\n",
       "      <td>4</td>\n",
       "      <td>-50</td>\n",
       "      <td>2</td>\n",
       "      <td>-52</td>\n",
       "      <td>2.478368</td>\n",
       "      <td>0.001500</td>\n",
       "    </tr>\n",
       "    <tr>\n",
       "      <th>10</th>\n",
       "      <td>0</td>\n",
       "      <td>-50</td>\n",
       "      <td>4</td>\n",
       "      <td>-46</td>\n",
       "      <td>2</td>\n",
       "      <td>-48</td>\n",
       "      <td>2.408554</td>\n",
       "      <td>0.001630</td>\n",
       "    </tr>\n",
       "    <tr>\n",
       "      <th>11</th>\n",
       "      <td>0</td>\n",
       "      <td>-46</td>\n",
       "      <td>4</td>\n",
       "      <td>-42</td>\n",
       "      <td>2</td>\n",
       "      <td>-44</td>\n",
       "      <td>2.338741</td>\n",
       "      <td>0.001753</td>\n",
       "    </tr>\n",
       "    <tr>\n",
       "      <th>12</th>\n",
       "      <td>0</td>\n",
       "      <td>-42</td>\n",
       "      <td>4</td>\n",
       "      <td>-38</td>\n",
       "      <td>2</td>\n",
       "      <td>-40</td>\n",
       "      <td>2.268928</td>\n",
       "      <td>0.001866</td>\n",
       "    </tr>\n",
       "    <tr>\n",
       "      <th>13</th>\n",
       "      <td>0</td>\n",
       "      <td>-38</td>\n",
       "      <td>4</td>\n",
       "      <td>-34</td>\n",
       "      <td>2</td>\n",
       "      <td>-36</td>\n",
       "      <td>2.199115</td>\n",
       "      <td>0.001971</td>\n",
       "    </tr>\n",
       "    <tr>\n",
       "      <th>14</th>\n",
       "      <td>0</td>\n",
       "      <td>-34</td>\n",
       "      <td>4</td>\n",
       "      <td>-30</td>\n",
       "      <td>2</td>\n",
       "      <td>-32</td>\n",
       "      <td>2.129302</td>\n",
       "      <td>0.002066</td>\n",
       "    </tr>\n",
       "    <tr>\n",
       "      <th>15</th>\n",
       "      <td>0</td>\n",
       "      <td>-30</td>\n",
       "      <td>4</td>\n",
       "      <td>-26</td>\n",
       "      <td>2</td>\n",
       "      <td>-28</td>\n",
       "      <td>2.059489</td>\n",
       "      <td>0.002151</td>\n",
       "    </tr>\n",
       "    <tr>\n",
       "      <th>16</th>\n",
       "      <td>0</td>\n",
       "      <td>-26</td>\n",
       "      <td>4</td>\n",
       "      <td>-22</td>\n",
       "      <td>2</td>\n",
       "      <td>-24</td>\n",
       "      <td>1.989675</td>\n",
       "      <td>0.002226</td>\n",
       "    </tr>\n",
       "    <tr>\n",
       "      <th>17</th>\n",
       "      <td>0</td>\n",
       "      <td>-22</td>\n",
       "      <td>4</td>\n",
       "      <td>-18</td>\n",
       "      <td>2</td>\n",
       "      <td>-20</td>\n",
       "      <td>1.919862</td>\n",
       "      <td>0.002290</td>\n",
       "    </tr>\n",
       "    <tr>\n",
       "      <th>18</th>\n",
       "      <td>0</td>\n",
       "      <td>-18</td>\n",
       "      <td>4</td>\n",
       "      <td>-14</td>\n",
       "      <td>2</td>\n",
       "      <td>-16</td>\n",
       "      <td>1.850049</td>\n",
       "      <td>0.002342</td>\n",
       "    </tr>\n",
       "    <tr>\n",
       "      <th>19</th>\n",
       "      <td>0</td>\n",
       "      <td>-14</td>\n",
       "      <td>4</td>\n",
       "      <td>-10</td>\n",
       "      <td>2</td>\n",
       "      <td>-12</td>\n",
       "      <td>1.780236</td>\n",
       "      <td>0.002383</td>\n",
       "    </tr>\n",
       "    <tr>\n",
       "      <th>20</th>\n",
       "      <td>0</td>\n",
       "      <td>-10</td>\n",
       "      <td>4</td>\n",
       "      <td>-6</td>\n",
       "      <td>2</td>\n",
       "      <td>-8</td>\n",
       "      <td>1.710423</td>\n",
       "      <td>0.002413</td>\n",
       "    </tr>\n",
       "    <tr>\n",
       "      <th>21</th>\n",
       "      <td>0</td>\n",
       "      <td>-6</td>\n",
       "      <td>4</td>\n",
       "      <td>-2</td>\n",
       "      <td>2</td>\n",
       "      <td>-4</td>\n",
       "      <td>1.640609</td>\n",
       "      <td>0.002431</td>\n",
       "    </tr>\n",
       "    <tr>\n",
       "      <th>22</th>\n",
       "      <td>0</td>\n",
       "      <td>-2</td>\n",
       "      <td>4</td>\n",
       "      <td>2</td>\n",
       "      <td>2</td>\n",
       "      <td>0</td>\n",
       "      <td>1.570796</td>\n",
       "      <td>0.002436</td>\n",
       "    </tr>\n",
       "    <tr>\n",
       "      <th>23</th>\n",
       "      <td>0</td>\n",
       "      <td>2</td>\n",
       "      <td>4</td>\n",
       "      <td>6</td>\n",
       "      <td>2</td>\n",
       "      <td>4</td>\n",
       "      <td>1.500983</td>\n",
       "      <td>0.002431</td>\n",
       "    </tr>\n",
       "    <tr>\n",
       "      <th>24</th>\n",
       "      <td>0</td>\n",
       "      <td>6</td>\n",
       "      <td>4</td>\n",
       "      <td>10</td>\n",
       "      <td>2</td>\n",
       "      <td>8</td>\n",
       "      <td>1.431170</td>\n",
       "      <td>0.002413</td>\n",
       "    </tr>\n",
       "    <tr>\n",
       "      <th>25</th>\n",
       "      <td>0</td>\n",
       "      <td>10</td>\n",
       "      <td>4</td>\n",
       "      <td>14</td>\n",
       "      <td>2</td>\n",
       "      <td>12</td>\n",
       "      <td>1.361357</td>\n",
       "      <td>0.002383</td>\n",
       "    </tr>\n",
       "    <tr>\n",
       "      <th>26</th>\n",
       "      <td>0</td>\n",
       "      <td>14</td>\n",
       "      <td>4</td>\n",
       "      <td>18</td>\n",
       "      <td>2</td>\n",
       "      <td>16</td>\n",
       "      <td>1.291544</td>\n",
       "      <td>0.002342</td>\n",
       "    </tr>\n",
       "    <tr>\n",
       "      <th>27</th>\n",
       "      <td>0</td>\n",
       "      <td>18</td>\n",
       "      <td>4</td>\n",
       "      <td>22</td>\n",
       "      <td>2</td>\n",
       "      <td>20</td>\n",
       "      <td>1.221730</td>\n",
       "      <td>0.002290</td>\n",
       "    </tr>\n",
       "    <tr>\n",
       "      <th>28</th>\n",
       "      <td>0</td>\n",
       "      <td>22</td>\n",
       "      <td>4</td>\n",
       "      <td>26</td>\n",
       "      <td>2</td>\n",
       "      <td>24</td>\n",
       "      <td>1.151917</td>\n",
       "      <td>0.002226</td>\n",
       "    </tr>\n",
       "    <tr>\n",
       "      <th>29</th>\n",
       "      <td>0</td>\n",
       "      <td>26</td>\n",
       "      <td>4</td>\n",
       "      <td>30</td>\n",
       "      <td>2</td>\n",
       "      <td>28</td>\n",
       "      <td>1.082104</td>\n",
       "      <td>0.002151</td>\n",
       "    </tr>\n",
       "    <tr>\n",
       "      <th>...</th>\n",
       "      <td>...</td>\n",
       "      <td>...</td>\n",
       "      <td>...</td>\n",
       "      <td>...</td>\n",
       "      <td>...</td>\n",
       "      <td>...</td>\n",
       "      <td>...</td>\n",
       "      <td>...</td>\n",
       "    </tr>\n",
       "    <tr>\n",
       "      <th>4045</th>\n",
       "      <td>356</td>\n",
       "      <td>70</td>\n",
       "      <td>360</td>\n",
       "      <td>74</td>\n",
       "      <td>358</td>\n",
       "      <td>72</td>\n",
       "      <td>0.314159</td>\n",
       "      <td>0.000753</td>\n",
       "    </tr>\n",
       "    <tr>\n",
       "      <th>4046</th>\n",
       "      <td>356</td>\n",
       "      <td>74</td>\n",
       "      <td>360</td>\n",
       "      <td>78</td>\n",
       "      <td>358</td>\n",
       "      <td>76</td>\n",
       "      <td>0.244346</td>\n",
       "      <td>0.000589</td>\n",
       "    </tr>\n",
       "    <tr>\n",
       "      <th>4047</th>\n",
       "      <td>356</td>\n",
       "      <td>78</td>\n",
       "      <td>360</td>\n",
       "      <td>82</td>\n",
       "      <td>358</td>\n",
       "      <td>80</td>\n",
       "      <td>0.174533</td>\n",
       "      <td>0.000423</td>\n",
       "    </tr>\n",
       "    <tr>\n",
       "      <th>4048</th>\n",
       "      <td>356</td>\n",
       "      <td>82</td>\n",
       "      <td>360</td>\n",
       "      <td>86</td>\n",
       "      <td>358</td>\n",
       "      <td>84</td>\n",
       "      <td>0.104720</td>\n",
       "      <td>0.000255</td>\n",
       "    </tr>\n",
       "    <tr>\n",
       "      <th>2115</th>\n",
       "      <td>188</td>\n",
       "      <td>-90</td>\n",
       "      <td>192</td>\n",
       "      <td>-86</td>\n",
       "      <td>190</td>\n",
       "      <td>-88</td>\n",
       "      <td>3.106686</td>\n",
       "      <td>0.000085</td>\n",
       "    </tr>\n",
       "    <tr>\n",
       "      <th>2160</th>\n",
       "      <td>192</td>\n",
       "      <td>-90</td>\n",
       "      <td>196</td>\n",
       "      <td>-86</td>\n",
       "      <td>194</td>\n",
       "      <td>-88</td>\n",
       "      <td>3.106686</td>\n",
       "      <td>0.000085</td>\n",
       "    </tr>\n",
       "    <tr>\n",
       "      <th>2475</th>\n",
       "      <td>220</td>\n",
       "      <td>-90</td>\n",
       "      <td>224</td>\n",
       "      <td>-86</td>\n",
       "      <td>222</td>\n",
       "      <td>-88</td>\n",
       "      <td>3.106686</td>\n",
       "      <td>0.000085</td>\n",
       "    </tr>\n",
       "    <tr>\n",
       "      <th>2519</th>\n",
       "      <td>220</td>\n",
       "      <td>86</td>\n",
       "      <td>224</td>\n",
       "      <td>90</td>\n",
       "      <td>222</td>\n",
       "      <td>88</td>\n",
       "      <td>0.034907</td>\n",
       "      <td>0.000085</td>\n",
       "    </tr>\n",
       "    <tr>\n",
       "      <th>2655</th>\n",
       "      <td>236</td>\n",
       "      <td>-90</td>\n",
       "      <td>240</td>\n",
       "      <td>-86</td>\n",
       "      <td>238</td>\n",
       "      <td>-88</td>\n",
       "      <td>3.106686</td>\n",
       "      <td>0.000085</td>\n",
       "    </tr>\n",
       "    <tr>\n",
       "      <th>2835</th>\n",
       "      <td>252</td>\n",
       "      <td>-90</td>\n",
       "      <td>256</td>\n",
       "      <td>-86</td>\n",
       "      <td>254</td>\n",
       "      <td>-88</td>\n",
       "      <td>3.106686</td>\n",
       "      <td>0.000085</td>\n",
       "    </tr>\n",
       "    <tr>\n",
       "      <th>3015</th>\n",
       "      <td>268</td>\n",
       "      <td>-90</td>\n",
       "      <td>272</td>\n",
       "      <td>-86</td>\n",
       "      <td>270</td>\n",
       "      <td>-88</td>\n",
       "      <td>3.106686</td>\n",
       "      <td>0.000085</td>\n",
       "    </tr>\n",
       "    <tr>\n",
       "      <th>3060</th>\n",
       "      <td>272</td>\n",
       "      <td>-90</td>\n",
       "      <td>276</td>\n",
       "      <td>-86</td>\n",
       "      <td>274</td>\n",
       "      <td>-88</td>\n",
       "      <td>3.106686</td>\n",
       "      <td>0.000085</td>\n",
       "    </tr>\n",
       "    <tr>\n",
       "      <th>3285</th>\n",
       "      <td>292</td>\n",
       "      <td>-90</td>\n",
       "      <td>296</td>\n",
       "      <td>-86</td>\n",
       "      <td>294</td>\n",
       "      <td>-88</td>\n",
       "      <td>3.106686</td>\n",
       "      <td>0.000085</td>\n",
       "    </tr>\n",
       "    <tr>\n",
       "      <th>3330</th>\n",
       "      <td>296</td>\n",
       "      <td>-90</td>\n",
       "      <td>300</td>\n",
       "      <td>-86</td>\n",
       "      <td>298</td>\n",
       "      <td>-88</td>\n",
       "      <td>3.106686</td>\n",
       "      <td>0.000085</td>\n",
       "    </tr>\n",
       "    <tr>\n",
       "      <th>3509</th>\n",
       "      <td>308</td>\n",
       "      <td>86</td>\n",
       "      <td>312</td>\n",
       "      <td>90</td>\n",
       "      <td>310</td>\n",
       "      <td>88</td>\n",
       "      <td>0.034907</td>\n",
       "      <td>0.000085</td>\n",
       "    </tr>\n",
       "    <tr>\n",
       "      <th>3554</th>\n",
       "      <td>312</td>\n",
       "      <td>86</td>\n",
       "      <td>316</td>\n",
       "      <td>90</td>\n",
       "      <td>314</td>\n",
       "      <td>88</td>\n",
       "      <td>0.034907</td>\n",
       "      <td>0.000085</td>\n",
       "    </tr>\n",
       "    <tr>\n",
       "      <th>3824</th>\n",
       "      <td>336</td>\n",
       "      <td>86</td>\n",
       "      <td>340</td>\n",
       "      <td>90</td>\n",
       "      <td>338</td>\n",
       "      <td>88</td>\n",
       "      <td>0.034907</td>\n",
       "      <td>0.000085</td>\n",
       "    </tr>\n",
       "    <tr>\n",
       "      <th>3915</th>\n",
       "      <td>348</td>\n",
       "      <td>-90</td>\n",
       "      <td>352</td>\n",
       "      <td>-86</td>\n",
       "      <td>350</td>\n",
       "      <td>-88</td>\n",
       "      <td>3.106686</td>\n",
       "      <td>0.000085</td>\n",
       "    </tr>\n",
       "    <tr>\n",
       "      <th>3960</th>\n",
       "      <td>352</td>\n",
       "      <td>-90</td>\n",
       "      <td>356</td>\n",
       "      <td>-86</td>\n",
       "      <td>354</td>\n",
       "      <td>-88</td>\n",
       "      <td>3.106686</td>\n",
       "      <td>0.000085</td>\n",
       "    </tr>\n",
       "    <tr>\n",
       "      <th>4004</th>\n",
       "      <td>352</td>\n",
       "      <td>86</td>\n",
       "      <td>356</td>\n",
       "      <td>90</td>\n",
       "      <td>354</td>\n",
       "      <td>88</td>\n",
       "      <td>0.034907</td>\n",
       "      <td>0.000085</td>\n",
       "    </tr>\n",
       "    <tr>\n",
       "      <th>4049</th>\n",
       "      <td>356</td>\n",
       "      <td>86</td>\n",
       "      <td>360</td>\n",
       "      <td>90</td>\n",
       "      <td>358</td>\n",
       "      <td>88</td>\n",
       "      <td>0.034907</td>\n",
       "      <td>0.000085</td>\n",
       "    </tr>\n",
       "    <tr>\n",
       "      <th>360</th>\n",
       "      <td>32</td>\n",
       "      <td>-90</td>\n",
       "      <td>36</td>\n",
       "      <td>-86</td>\n",
       "      <td>34</td>\n",
       "      <td>-88</td>\n",
       "      <td>3.106686</td>\n",
       "      <td>0.000085</td>\n",
       "    </tr>\n",
       "    <tr>\n",
       "      <th>405</th>\n",
       "      <td>36</td>\n",
       "      <td>-90</td>\n",
       "      <td>40</td>\n",
       "      <td>-86</td>\n",
       "      <td>38</td>\n",
       "      <td>-88</td>\n",
       "      <td>3.106686</td>\n",
       "      <td>0.000085</td>\n",
       "    </tr>\n",
       "    <tr>\n",
       "      <th>675</th>\n",
       "      <td>60</td>\n",
       "      <td>-90</td>\n",
       "      <td>64</td>\n",
       "      <td>-86</td>\n",
       "      <td>62</td>\n",
       "      <td>-88</td>\n",
       "      <td>3.106686</td>\n",
       "      <td>0.000085</td>\n",
       "    </tr>\n",
       "    <tr>\n",
       "      <th>720</th>\n",
       "      <td>64</td>\n",
       "      <td>-90</td>\n",
       "      <td>68</td>\n",
       "      <td>-86</td>\n",
       "      <td>66</td>\n",
       "      <td>-88</td>\n",
       "      <td>3.106686</td>\n",
       "      <td>0.000085</td>\n",
       "    </tr>\n",
       "    <tr>\n",
       "      <th>765</th>\n",
       "      <td>68</td>\n",
       "      <td>-90</td>\n",
       "      <td>72</td>\n",
       "      <td>-86</td>\n",
       "      <td>70</td>\n",
       "      <td>-88</td>\n",
       "      <td>3.106686</td>\n",
       "      <td>0.000085</td>\n",
       "    </tr>\n",
       "    <tr>\n",
       "      <th>945</th>\n",
       "      <td>84</td>\n",
       "      <td>-90</td>\n",
       "      <td>88</td>\n",
       "      <td>-86</td>\n",
       "      <td>86</td>\n",
       "      <td>-88</td>\n",
       "      <td>3.106686</td>\n",
       "      <td>0.000085</td>\n",
       "    </tr>\n",
       "    <tr>\n",
       "      <th>990</th>\n",
       "      <td>88</td>\n",
       "      <td>-90</td>\n",
       "      <td>92</td>\n",
       "      <td>-86</td>\n",
       "      <td>90</td>\n",
       "      <td>-88</td>\n",
       "      <td>3.106686</td>\n",
       "      <td>0.000085</td>\n",
       "    </tr>\n",
       "    <tr>\n",
       "      <th>1215</th>\n",
       "      <td>108</td>\n",
       "      <td>-90</td>\n",
       "      <td>112</td>\n",
       "      <td>-86</td>\n",
       "      <td>110</td>\n",
       "      <td>-88</td>\n",
       "      <td>3.106686</td>\n",
       "      <td>0.000085</td>\n",
       "    </tr>\n",
       "    <tr>\n",
       "      <th>1710</th>\n",
       "      <td>152</td>\n",
       "      <td>-90</td>\n",
       "      <td>156</td>\n",
       "      <td>-86</td>\n",
       "      <td>154</td>\n",
       "      <td>-88</td>\n",
       "      <td>3.106686</td>\n",
       "      <td>0.000085</td>\n",
       "    </tr>\n",
       "  </tbody>\n",
       "</table>\n",
       "<p>4050 rows × 8 columns</p>\n",
       "</div>"
      ],
      "text/plain": [
       "      llx  lly  urx  ury  ramid  decmid  decMidRad      area\n",
       "id                                                          \n",
       "0       0  -90    4  -86      2     -88   3.106686  0.000085\n",
       "1       0  -86    4  -82      2     -84   3.036873  0.000255\n",
       "2       0  -82    4  -78      2     -80   2.967060  0.000423\n",
       "3       0  -78    4  -74      2     -76   2.897247  0.000589\n",
       "4       0  -74    4  -70      2     -72   2.827433  0.000753\n",
       "5       0  -70    4  -66      2     -68   2.757620  0.000913\n",
       "6       0  -66    4  -62      2     -64   2.687807  0.001068\n",
       "7       0  -62    4  -58      2     -60   2.617994  0.001218\n",
       "8       0  -58    4  -54      2     -56   2.548181  0.001362\n",
       "9       0  -54    4  -50      2     -52   2.478368  0.001500\n",
       "10      0  -50    4  -46      2     -48   2.408554  0.001630\n",
       "11      0  -46    4  -42      2     -44   2.338741  0.001753\n",
       "12      0  -42    4  -38      2     -40   2.268928  0.001866\n",
       "13      0  -38    4  -34      2     -36   2.199115  0.001971\n",
       "14      0  -34    4  -30      2     -32   2.129302  0.002066\n",
       "15      0  -30    4  -26      2     -28   2.059489  0.002151\n",
       "16      0  -26    4  -22      2     -24   1.989675  0.002226\n",
       "17      0  -22    4  -18      2     -20   1.919862  0.002290\n",
       "18      0  -18    4  -14      2     -16   1.850049  0.002342\n",
       "19      0  -14    4  -10      2     -12   1.780236  0.002383\n",
       "20      0  -10    4   -6      2      -8   1.710423  0.002413\n",
       "21      0   -6    4   -2      2      -4   1.640609  0.002431\n",
       "22      0   -2    4    2      2       0   1.570796  0.002436\n",
       "23      0    2    4    6      2       4   1.500983  0.002431\n",
       "24      0    6    4   10      2       8   1.431170  0.002413\n",
       "25      0   10    4   14      2      12   1.361357  0.002383\n",
       "26      0   14    4   18      2      16   1.291544  0.002342\n",
       "27      0   18    4   22      2      20   1.221730  0.002290\n",
       "28      0   22    4   26      2      24   1.151917  0.002226\n",
       "29      0   26    4   30      2      28   1.082104  0.002151\n",
       "...   ...  ...  ...  ...    ...     ...        ...       ...\n",
       "4045  356   70  360   74    358      72   0.314159  0.000753\n",
       "4046  356   74  360   78    358      76   0.244346  0.000589\n",
       "4047  356   78  360   82    358      80   0.174533  0.000423\n",
       "4048  356   82  360   86    358      84   0.104720  0.000255\n",
       "2115  188  -90  192  -86    190     -88   3.106686  0.000085\n",
       "2160  192  -90  196  -86    194     -88   3.106686  0.000085\n",
       "2475  220  -90  224  -86    222     -88   3.106686  0.000085\n",
       "2519  220   86  224   90    222      88   0.034907  0.000085\n",
       "2655  236  -90  240  -86    238     -88   3.106686  0.000085\n",
       "2835  252  -90  256  -86    254     -88   3.106686  0.000085\n",
       "3015  268  -90  272  -86    270     -88   3.106686  0.000085\n",
       "3060  272  -90  276  -86    274     -88   3.106686  0.000085\n",
       "3285  292  -90  296  -86    294     -88   3.106686  0.000085\n",
       "3330  296  -90  300  -86    298     -88   3.106686  0.000085\n",
       "3509  308   86  312   90    310      88   0.034907  0.000085\n",
       "3554  312   86  316   90    314      88   0.034907  0.000085\n",
       "3824  336   86  340   90    338      88   0.034907  0.000085\n",
       "3915  348  -90  352  -86    350     -88   3.106686  0.000085\n",
       "3960  352  -90  356  -86    354     -88   3.106686  0.000085\n",
       "4004  352   86  356   90    354      88   0.034907  0.000085\n",
       "4049  356   86  360   90    358      88   0.034907  0.000085\n",
       "360    32  -90   36  -86     34     -88   3.106686  0.000085\n",
       "405    36  -90   40  -86     38     -88   3.106686  0.000085\n",
       "675    60  -90   64  -86     62     -88   3.106686  0.000085\n",
       "720    64  -90   68  -86     66     -88   3.106686  0.000085\n",
       "765    68  -90   72  -86     70     -88   3.106686  0.000085\n",
       "945    84  -90   88  -86     86     -88   3.106686  0.000085\n",
       "990    88  -90   92  -86     90     -88   3.106686  0.000085\n",
       "1215  108  -90  112  -86    110     -88   3.106686  0.000085\n",
       "1710  152  -90  156  -86    154     -88   3.106686  0.000085\n",
       "\n",
       "[4050 rows x 8 columns]"
      ]
     },
     "execution_count": 12,
     "metadata": {},
     "output_type": "execute_result"
    }
   ],
   "source": [
    "galTiles"
   ]
  },
  {
   "cell_type": "markdown",
   "metadata": {},
   "source": [
    "## Galaxies"
   ]
  },
  {
   "cell_type": "code",
   "execution_count": 11,
   "metadata": {
    "collapsed": false
   },
   "outputs": [
    {
     "name": "stderr",
     "output_type": "stream",
     "text": [
      "/Users/rbiswas/src/LSST/sims_catalogs_generation/python/lsst/sims/catalogs/generation/db/dbConnection.py:438: UserWarning: Duplicate object type id 25 specified: \n",
      "Output object ids may not be unique.\n",
      "This may not be a problem if you do not want globally unique id values\n",
      "  'want globally unique id values')\n",
      "/Users/rbiswas/src/LSST/sims_catalogs_generation/python/lsst/sims/catalogs/generation/db/dbConnection.py:438: UserWarning: Duplicate object type id 40 specified: \n",
      "Output object ids may not be unique.\n",
      "This may not be a problem if you do not want globally unique id values\n",
      "  'want globally unique id values')\n"
     ]
    }
   ],
   "source": [
    "from lsst.sims.catalogs.measures.instance import InstanceCatalog\n",
    "import lsst.sims.catUtils.baseCatalogModels as bcm\n",
    "from lsst.sims.catalogs.generation.db import CatalogDBObject\n",
    "from lsst.sims.catUtils.baseCatalogModels.GalaxyModels import GalaxyTileObj\n",
    "from lsst.sims.utils import ObservationMetaData"
   ]
  },
  {
   "cell_type": "code",
   "execution_count": 109,
   "metadata": {
    "collapsed": false
   },
   "outputs": [],
   "source": [
    "def tileObsMetaData(id, galTileDF):\n",
    "    \"\"\"\n",
    "    \"\"\"\n",
    "    ra = galTileDF.ix[id, 'ramid']\n",
    "    dec = galTileDF.ix[id, 'decmid']\n",
    "    obsMetaData = ObservationMetaData(boundType='circle',\n",
    "                                      pointingRA=ra,\n",
    "                                      pointingDec=0.,\n",
    "                                      boundLength=2.)\n",
    "    return obsMetaData\n",
    "    "
   ]
  },
  {
   "cell_type": "code",
   "execution_count": 115,
   "metadata": {
    "collapsed": false
   },
   "outputs": [],
   "source": [
    "obsMetaData_base = tileObsMetaData(22, galTiles)"
   ]
  },
  {
   "cell_type": "code",
   "execution_count": 116,
   "metadata": {
    "collapsed": false
   },
   "outputs": [
    {
     "name": "stdout",
     "output_type": "stream",
     "text": [
      "2.0\n"
     ]
    }
   ],
   "source": [
    "print obsMetaData_base.pointingRA"
   ]
  },
  {
   "cell_type": "code",
   "execution_count": 15,
   "metadata": {
    "collapsed": false
   },
   "outputs": [],
   "source": [
    "galCols = get_colnames(db, 'galaxy', colNamePos=3, colList=None)"
   ]
  },
  {
   "cell_type": "code",
   "execution_count": 16,
   "metadata": {
    "collapsed": false
   },
   "outputs": [
    {
     "name": "stdout",
     "output_type": "stream",
     "text": [
      "[u'htmid' u'galid' u'ra' u'dec' u'redshift' u'rad_vel' u'u_ab' u'g_ab'\n",
      " u'r_ab' u'i_ab' u'z_ab' u'y_ab' u'sedid_bulge' u'sedid_disk' u'sedid_agn'\n",
      " u'av_b' u'rv_b' u'ext_model_b' u'av_d' u'rv_d' u'ext_model_d' u'glon'\n",
      " u'glat' u'pa_bulge' u'pa_disk' u'inc_bulge_deg' u'inc_disk_deg' u'a_b'\n",
      " u'b_b' u'bulge_n' u'bra' u'bdec' u'a_d' u'b_d' u'disk_n' u'dra' u'ddec'\n",
      " u'agnra' u'agndec' u'versionid' u'fluxnorm_bulge' u'fluxnorm_agn'\n",
      " u'absmag_r_total' u'gal_type' u'mass_stellar' u'mass_gas' u'mass_halo'\n",
      " u'ug_total_rest' u'gr_total_rest' u'ri_total_rest' u'iz_total_rest'\n",
      " u'zy_total_rest' u'isagn' u'agn_tau' u'agn_sfu' u'agn_sfg' u'agn_sfr'\n",
      " u'agn_sfi' u'agn_sfz' u'agn_sfy' u'fluxnorm_disk' u'magnorm_bulge'\n",
      " u'magnorm_disk' u'magnorm_agn' u'cx' u'cy' u'cz' u'geopoint'\n",
      " u'sedname_agn' u'sedname_bulge' u'sedname_disk' u'varsimobjid'\n",
      " u'varParamStr' u'type' u'mass_bulge' u'BulgeMinusDiskLSSTr'\n",
      " u'log10BulgeToTotLSSTrFlux' u'AbsiMag' u'AbsiMag0_1' u'z0_1umg' u'z0_1gmr'\n",
      " u'z0_1rmi' u'z0_1imz' u'z0_1zmy' u'ba_disk' u'ba_bulge'\n",
      " u'DiskHalfLightRadius' u'DiskLSSTu' u'DiskLSSTg' u'DiskLSSTr' u'DiskLSSTi'\n",
      " u'DiskLSSTz' u'DiskLSSTy' u'BulgeLSSTu' u'BulgeLSSTg' u'BulgeLSSTr'\n",
      " u'BulgeLSSTi' u'BulgeLSSTz' u'BulgeLSSTy' u'AGNID' u'BulgeHalfLightRadius'\n",
      " u't0_agn' u'id' u'myid']\n"
     ]
    }
   ],
   "source": [
    "print galCols"
   ]
  },
  {
   "cell_type": "code",
   "execution_count": 51,
   "metadata": {
    "collapsed": false
   },
   "outputs": [
    {
     "ename": "ValueError",
     "evalue": "Catalog Type gal_copy is duplicated",
     "output_type": "error",
     "traceback": [
      "\u001b[0;31m---------------------------------------------------------------------------\u001b[0m",
      "\u001b[0;31mValueError\u001b[0m                                Traceback (most recent call last)",
      "\u001b[0;32m<ipython-input-51-87c87e1d1dd9>\u001b[0m in \u001b[0;36m<module>\u001b[0;34m()\u001b[0m\n\u001b[0;32m----> 1\u001b[0;31m \u001b[0;32mclass\u001b[0m \u001b[0mgalCopy\u001b[0m\u001b[0;34m(\u001b[0m\u001b[0mInstanceCatalog\u001b[0m\u001b[0;34m)\u001b[0m\u001b[0;34m:\u001b[0m\u001b[0;34m\u001b[0m\u001b[0m\n\u001b[0m\u001b[1;32m      2\u001b[0m     \u001b[0mcolumn_outputs\u001b[0m \u001b[0;34m=\u001b[0m \u001b[0;34m[\u001b[0m\u001b[0;34m'galtileid'\u001b[0m\u001b[0;34m,\u001b[0m \u001b[0;34m'raJ2000'\u001b[0m\u001b[0;34m,\u001b[0m \u001b[0;34m'decJ2000'\u001b[0m\u001b[0;34m,\u001b[0m \u001b[0;34m'redshift'\u001b[0m\u001b[0;34m,\u001b[0m \u001b[0;34m'a_d'\u001b[0m\u001b[0;34m,\u001b[0m \u001b[0;34m'b_d'\u001b[0m\u001b[0;34m,\u001b[0m \u001b[0;34m'pa_disk'\u001b[0m\u001b[0;34m,\u001b[0m \u001b[0;34m'mass_stellar'\u001b[0m\u001b[0;34m,\u001b[0m \u001b[0;34m'absmag_r_total'\u001b[0m\u001b[0;34m]\u001b[0m\u001b[0;34m\u001b[0m\u001b[0m\n\u001b[1;32m      3\u001b[0m     override_formats = {'raJ2000': '%8e', 'decJ2000': '%8e', 'a_d': '%8e', 'b_d': '%8e', 'pa_disk': '%8e', \n\u001b[1;32m      4\u001b[0m                         'mass_stellar': '%8e', 'absmag_r_total': '%8e'}\n",
      "\u001b[0;32m/Users/rbiswas/src/LSST/sims_catalogs_measures/python/lsst/sims/catalogs/measures/instance/InstanceCatalog.pyc\u001b[0m in \u001b[0;36m__init__\u001b[0;34m(cls, name, bases, dct)\u001b[0m\n\u001b[1;32m     72\u001b[0m         \u001b[0;32mif\u001b[0m \u001b[0mcls\u001b[0m\u001b[0;34m.\u001b[0m\u001b[0mcatalog_type\u001b[0m \u001b[0;32min\u001b[0m \u001b[0mcls\u001b[0m\u001b[0;34m.\u001b[0m\u001b[0mregistry\u001b[0m\u001b[0;34m:\u001b[0m\u001b[0;34m\u001b[0m\u001b[0m\n\u001b[1;32m     73\u001b[0m             raise ValueError(\"Catalog Type %s is duplicated\"\n\u001b[0;32m---> 74\u001b[0;31m                              % cls.catalog_type)\n\u001b[0m\u001b[1;32m     75\u001b[0m         \u001b[0mcls\u001b[0m\u001b[0;34m.\u001b[0m\u001b[0mregistry\u001b[0m\u001b[0;34m[\u001b[0m\u001b[0mcls\u001b[0m\u001b[0;34m.\u001b[0m\u001b[0mcatalog_type\u001b[0m\u001b[0;34m]\u001b[0m \u001b[0;34m=\u001b[0m \u001b[0mcls\u001b[0m\u001b[0;34m\u001b[0m\u001b[0m\n\u001b[1;32m     76\u001b[0m \u001b[0;34m\u001b[0m\u001b[0m\n",
      "\u001b[0;31mValueError\u001b[0m: Catalog Type gal_copy is duplicated"
     ]
    }
   ],
   "source": [
    "class galCopy(InstanceCatalog):\n",
    "    column_outputs = ['galtileid', 'raJ2000', 'decJ2000', 'redshift', 'a_d', 'b_d', 'pa_disk', 'mass_stellar', 'absmag_r_total']\n",
    "    override_formats = {'raJ2000': '%8e', 'decJ2000': '%8e', 'a_d': '%8e', 'b_d': '%8e', 'pa_disk': '%8e', \n",
    "                        'mass_stellar': '%8e', 'absmag_r_total': '%8e'}"
   ]
  },
  {
   "cell_type": "code",
   "execution_count": 111,
   "metadata": {
    "collapsed": false
   },
   "outputs": [],
   "source": [
    "galaxyTiled = GalaxyTileObj()\n",
    "galaxyBase = galCopy(galaxyTiled, obs_metadata=obsMetaData_base, constraint='redshift < 0.1')"
   ]
  },
  {
   "cell_type": "code",
   "execution_count": 112,
   "metadata": {
    "collapsed": false
   },
   "outputs": [
    {
     "data": {
      "text/plain": [
       "2.0"
      ]
     },
     "execution_count": 112,
     "metadata": {},
     "output_type": "execute_result"
    }
   ],
   "source": [
    "obsMetaData_base.boundLength"
   ]
  },
  {
   "cell_type": "code",
   "execution_count": 113,
   "metadata": {
    "collapsed": true
   },
   "outputs": [],
   "source": [
    "galaxyBase.write_catalog('galaxyBase.csv')"
   ]
  },
  {
   "cell_type": "code",
   "execution_count": 114,
   "metadata": {
    "collapsed": false
   },
   "outputs": [
    {
     "name": "stdout",
     "output_type": "stream",
     "text": [
      "   17317 galaxyBase.csv\r\n"
     ]
    }
   ],
   "source": [
    "!wc -l galaxyBase.csv"
   ]
  },
  {
   "cell_type": "code",
   "execution_count": 117,
   "metadata": {
    "collapsed": false
   },
   "outputs": [
    {
     "name": "stderr",
     "output_type": "stream",
     "text": [
      "/usr/local/manual/anaconda/lib/python2.7/site-packages/ipykernel/__main__.py:1: ParserWarning: Falling back to the 'python' engine because the 'c' engine does not support regex separators; you can avoid this warning by specifying engine='python'.\n",
      "  if __name__ == '__main__':\n"
     ]
    }
   ],
   "source": [
    "df = pd.read_csv('galaxyBase.csv', delimiter=', ')\n",
    "df.rename(columns={df.columns[0]: df.columns[0][1:]}, inplace=True)\n",
    "df.set_index('galtileid', inplace=True)"
   ]
  },
  {
   "cell_type": "code",
   "execution_count": 118,
   "metadata": {
    "collapsed": false
   },
   "outputs": [],
   "source": [
    "x = df.raJ2000.values\n",
    "df['ra'] = np.piecewise(x, [x < 3., x >= 3], [lambda x: x, lambda x: x - 2.*np.pi])"
   ]
  },
  {
   "cell_type": "code",
   "execution_count": 119,
   "metadata": {
    "collapsed": false
   },
   "outputs": [
    {
     "data": {
      "text/plain": [
       "<matplotlib.axes._subplots.AxesSubplot at 0x122812d50>"
      ]
     },
     "execution_count": 119,
     "metadata": {},
     "output_type": "execute_result"
    },
    {
     "data": {
      "image/png": "[encoded data removed]",
      "text/plain": [
       "<matplotlib.figure.Figure at 0x122a79810>"
      ]
     },
     "metadata": {},
     "output_type": "display_data"
    }
   ],
   "source": [
    "df.raJ2000.apply(np.degrees).hist()"
   ]
  },
  {
   "cell_type": "code",
   "execution_count": 106,
   "metadata": {
    "collapsed": false
   },
   "outputs": [
    {
     "data": {
      "text/plain": [
       "array([  3.59995399e+02,   1.57587744e-02])"
      ]
     },
     "execution_count": 106,
     "metadata": {},
     "output_type": "execute_result"
    }
   ],
   "source": [
    "np.degrees(np.array([df.raJ2000.max(), df.raJ2000.min()]))"
   ]
  },
  {
   "cell_type": "code",
   "execution_count": 108,
   "metadata": {
    "collapsed": false
   },
   "outputs": [
    {
     "data": {
      "text/plain": [
       "<matplotlib.collections.PolyCollection at 0x122a9e050>"
      ]
     },
     "execution_count": 108,
     "metadata": {},
     "output_type": "execute_result"
    },
    {
     "data": {
      "image/png": "[encoded data removed]",
      "text/plain": [
       "<matplotlib.figure.Figure at 0x103b0f2d0>"
      ]
     },
     "metadata": {},
     "output_type": "display_data"
    }
   ],
   "source": [
    "plt.hexbin(df.raJ2000.apply(np.degrees), df.decJ2000.apply(np.degrees))"
   ]
  },
  {
   "cell_type": "raw",
   "metadata": {},
   "source": [
    "df.raJ2000.apply(np.degrees).describe()"
   ]
  },
  {
   "cell_type": "code",
   "execution_count": 59,
   "metadata": {
    "collapsed": false
   },
   "outputs": [
    {
     "data": {
      "text/plain": [
       "<matplotlib.axes._subplots.AxesSubplot at 0x11537a710>"
      ]
     },
     "execution_count": 59,
     "metadata": {},
     "output_type": "execute_result"
    },
    {
     "data": {
      "image/png": "[encoded data removed]",
      "text/plain": [
       "<matplotlib.figure.Figure at 0x13214a310>"
      ]
     },
     "metadata": {},
     "output_type": "display_data"
    }
   ],
   "source": [
    "df.query('redshift < 0.1').absmag_r_total.hist()"
   ]
  },
  {
   "cell_type": "code",
   "execution_count": 40,
   "metadata": {
    "collapsed": false
   },
   "outputs": [
    {
     "data": {
      "text/html": [
       "<div>\n",
       "<table border=\"1\" class=\"dataframe\">\n",
       "  <thead>\n",
       "    <tr style=\"text-align: right;\">\n",
       "      <th></th>\n",
       "      <th>raJ2000</th>\n",
       "      <th>decJ2000</th>\n",
       "      <th>redshift</th>\n",
       "      <th>a_d</th>\n",
       "      <th>b_d</th>\n",
       "      <th>pa_disk</th>\n",
       "      <th>mass_stellar</th>\n",
       "      <th>absmag_r_total</th>\n",
       "    </tr>\n",
       "    <tr>\n",
       "      <th>galtileid</th>\n",
       "      <th></th>\n",
       "      <th></th>\n",
       "      <th></th>\n",
       "      <th></th>\n",
       "      <th></th>\n",
       "      <th></th>\n",
       "      <th></th>\n",
       "      <th></th>\n",
       "    </tr>\n",
       "  </thead>\n",
       "  <tbody>\n",
       "    <tr>\n",
       "      <th>5380221</th>\n",
       "      <td>0.049738</td>\n",
       "      <td>-1.536042</td>\n",
       "      <td>1.1504</td>\n",
       "      <td>0.124971</td>\n",
       "      <td>0.036424</td>\n",
       "      <td>158.652800</td>\n",
       "      <td>0.388559</td>\n",
       "      <td>-20.39482</td>\n",
       "    </tr>\n",
       "    <tr>\n",
       "      <th>8745607</th>\n",
       "      <td>0.043380</td>\n",
       "      <td>-1.536014</td>\n",
       "      <td>1.1489</td>\n",
       "      <td>0.471920</td>\n",
       "      <td>0.286231</td>\n",
       "      <td>0.621346</td>\n",
       "      <td>0.062399</td>\n",
       "      <td>-18.91214</td>\n",
       "    </tr>\n",
       "    <tr>\n",
       "      <th>16752290</th>\n",
       "      <td>0.044144</td>\n",
       "      <td>-1.536021</td>\n",
       "      <td>1.1434</td>\n",
       "      <td>0.112597</td>\n",
       "      <td>0.069222</td>\n",
       "      <td>319.529600</td>\n",
       "      <td>0.000560</td>\n",
       "      <td>-15.63990</td>\n",
       "    </tr>\n",
       "    <tr>\n",
       "      <th>13551312</th>\n",
       "      <td>0.046477</td>\n",
       "      <td>-1.536098</td>\n",
       "      <td>1.1335</td>\n",
       "      <td>0.126130</td>\n",
       "      <td>0.080879</td>\n",
       "      <td>259.151500</td>\n",
       "      <td>0.026038</td>\n",
       "      <td>-17.90116</td>\n",
       "    </tr>\n",
       "    <tr>\n",
       "      <th>5401314</th>\n",
       "      <td>0.051571</td>\n",
       "      <td>-1.536053</td>\n",
       "      <td>1.1591</td>\n",
       "      <td>0.182993</td>\n",
       "      <td>0.092681</td>\n",
       "      <td>226.913200</td>\n",
       "      <td>0.166675</td>\n",
       "      <td>-19.67984</td>\n",
       "    </tr>\n",
       "  </tbody>\n",
       "</table>\n",
       "</div>"
      ],
      "text/plain": [
       "            raJ2000  decJ2000  redshift       a_d       b_d     pa_disk  \\\n",
       "galtileid                                                                 \n",
       "5380221    0.049738 -1.536042    1.1504  0.124971  0.036424  158.652800   \n",
       "8745607    0.043380 -1.536014    1.1489  0.471920  0.286231    0.621346   \n",
       "16752290   0.044144 -1.536021    1.1434  0.112597  0.069222  319.529600   \n",
       "13551312   0.046477 -1.536098    1.1335  0.126130  0.080879  259.151500   \n",
       "5401314    0.051571 -1.536053    1.1591  0.182993  0.092681  226.913200   \n",
       "\n",
       "           mass_stellar  absmag_r_total  \n",
       "galtileid                                \n",
       "5380221        0.388559       -20.39482  \n",
       "8745607        0.062399       -18.91214  \n",
       "16752290       0.000560       -15.63990  \n",
       "13551312       0.026038       -17.90116  \n",
       "5401314        0.166675       -19.67984  "
      ]
     },
     "execution_count": 40,
     "metadata": {},
     "output_type": "execute_result"
    }
   ],
   "source": [
    "df.head()"
   ]
  },
  {
   "cell_type": "code",
   "execution_count": 97,
   "metadata": {
    "collapsed": true
   },
   "outputs": [],
   "source": [
    "%matplotlib inline\n",
    "import matplotlib.pyplot as plt"
   ]
  },
  {
   "cell_type": "code",
   "execution_count": 110,
   "metadata": {
    "collapsed": false
   },
   "outputs": [
    {
     "data": {
      "text/plain": [
       "[<matplotlib.lines.Line2D at 0x1125f1090>]"
      ]
     },
     "execution_count": 110,
     "metadata": {},
     "output_type": "execute_result"
    },
    {
     "data": {
      "image/png": "[encoded data removed]",
      "text/plain": [
       "<matplotlib.figure.Figure at 0x1152e5b90>"
      ]
     },
     "metadata": {},
     "output_type": "display_data"
    }
   ],
   "source": [
    "plt.plot(galTiles.decmid, galTiles.decMidRad, 'o')"
   ]
  },
  {
   "cell_type": "code",
   "execution_count": 115,
   "metadata": {
    "collapsed": false
   },
   "outputs": [
    {
     "data": {
      "text/plain": [
       "[<matplotlib.lines.Line2D at 0x115738ad0>]"
      ]
     },
     "execution_count": 115,
     "metadata": {},
     "output_type": "execute_result"
    },
    {
     "data": {
      "image/png": "[encoded data removed]",
      "text/plain": [
       "<matplotlib.figure.Figure at 0x110d37f50>"
      ]
     },
     "metadata": {},
     "output_type": "display_data"
    }
   ],
   "source": [
    "plt.plot(galTiles.decmid, galTiles.area/np.pi /4., 'o')"
   ]
  },
  {
   "cell_type": "code",
   "execution_count": 103,
   "metadata": {
    "collapsed": false
   },
   "outputs": [
    {
     "data": {
      "text/plain": [
       "0.034906585039886591"
      ]
     },
     "execution_count": 103,
     "metadata": {},
     "output_type": "execute_result"
    }
   ],
   "source": [
    "np.radians(2)"
   ]
  },
  {
   "cell_type": "code",
   "execution_count": 40,
   "metadata": {
    "collapsed": true
   },
   "outputs": [],
   "source": []
  },
  {
   "cell_type": "code",
   "execution_count": 155,
   "metadata": {
    "collapsed": false
   },
   "outputs": [
    {
     "data": {
      "text/html": [
       "<div>\n",
       "<table border=\"1\" class=\"dataframe\">\n",
       "  <thead>\n",
       "    <tr style=\"text-align: right;\">\n",
       "      <th></th>\n",
       "      <th>llx</th>\n",
       "      <th>lly</th>\n",
       "      <th>urx</th>\n",
       "      <th>ury</th>\n",
       "      <th>ramid</th>\n",
       "      <th>decmid</th>\n",
       "      <th>area</th>\n",
       "      <th>decMidRad</th>\n",
       "    </tr>\n",
       "    <tr>\n",
       "      <th>id</th>\n",
       "      <th></th>\n",
       "      <th></th>\n",
       "      <th></th>\n",
       "      <th></th>\n",
       "      <th></th>\n",
       "      <th></th>\n",
       "      <th></th>\n",
       "      <th></th>\n",
       "    </tr>\n",
       "  </thead>\n",
       "  <tbody>\n",
       "    <tr>\n",
       "      <th>554</th>\n",
       "      <td>48</td>\n",
       "      <td>-34</td>\n",
       "      <td>52</td>\n",
       "      <td>-30</td>\n",
       "      <td>50</td>\n",
       "      <td>-32</td>\n",
       "      <td>0.002066</td>\n",
       "      <td>2.129302</td>\n",
       "    </tr>\n",
       "    <tr>\n",
       "      <th>555</th>\n",
       "      <td>48</td>\n",
       "      <td>-30</td>\n",
       "      <td>52</td>\n",
       "      <td>-26</td>\n",
       "      <td>50</td>\n",
       "      <td>-28</td>\n",
       "      <td>0.002151</td>\n",
       "      <td>2.059489</td>\n",
       "    </tr>\n",
       "    <tr>\n",
       "      <th>556</th>\n",
       "      <td>48</td>\n",
       "      <td>-26</td>\n",
       "      <td>52</td>\n",
       "      <td>-22</td>\n",
       "      <td>50</td>\n",
       "      <td>-24</td>\n",
       "      <td>0.002226</td>\n",
       "      <td>1.989675</td>\n",
       "    </tr>\n",
       "    <tr>\n",
       "      <th>599</th>\n",
       "      <td>52</td>\n",
       "      <td>-34</td>\n",
       "      <td>56</td>\n",
       "      <td>-30</td>\n",
       "      <td>54</td>\n",
       "      <td>-32</td>\n",
       "      <td>0.002066</td>\n",
       "      <td>2.129302</td>\n",
       "    </tr>\n",
       "    <tr>\n",
       "      <th>600</th>\n",
       "      <td>52</td>\n",
       "      <td>-30</td>\n",
       "      <td>56</td>\n",
       "      <td>-26</td>\n",
       "      <td>54</td>\n",
       "      <td>-28</td>\n",
       "      <td>0.002151</td>\n",
       "      <td>2.059489</td>\n",
       "    </tr>\n",
       "    <tr>\n",
       "      <th>601</th>\n",
       "      <td>52</td>\n",
       "      <td>-26</td>\n",
       "      <td>56</td>\n",
       "      <td>-22</td>\n",
       "      <td>54</td>\n",
       "      <td>-24</td>\n",
       "      <td>0.002226</td>\n",
       "      <td>1.989675</td>\n",
       "    </tr>\n",
       "  </tbody>\n",
       "</table>\n",
       "</div>"
      ],
      "text/plain": [
       "     llx  lly  urx  ury  ramid  decmid      area  decMidRad\n",
       "id                                                         \n",
       "554   48  -34   52  -30     50     -32  0.002066   2.129302\n",
       "555   48  -30   52  -26     50     -28  0.002151   2.059489\n",
       "556   48  -26   52  -22     50     -24  0.002226   1.989675\n",
       "599   52  -34   56  -30     54     -32  0.002066   2.129302\n",
       "600   52  -30   56  -26     54     -28  0.002151   2.059489\n",
       "601   52  -26   56  -22     54     -24  0.002226   1.989675"
      ]
     },
     "execution_count": 155,
     "metadata": {},
     "output_type": "execute_result"
    }
   ],
   "source": [
    "galTiles.query('abs(ramid-53) < 5 and abs(decmid+27.4) < 5')"
   ]
  },
  {
   "cell_type": "code",
   "execution_count": 42,
   "metadata": {
    "collapsed": false
   },
   "outputs": [
    {
     "ename": "KeyError",
     "evalue": "<built-in function id>",
     "output_type": "error",
     "traceback": [
      "\u001b[0;31m---------------------------------------------------------------------------\u001b[0m",
      "\u001b[0;31mKeyError\u001b[0m                                  Traceback (most recent call last)",
      "\u001b[0;32m<ipython-input-42-4d657744e01b>\u001b[0m in \u001b[0;36m<module>\u001b[0;34m()\u001b[0m\n\u001b[0;32m----> 1\u001b[0;31m \u001b[0mgalTiles\u001b[0m\u001b[0;34m[\u001b[0m\u001b[0;34m'obsMetaData'\u001b[0m\u001b[0;34m]\u001b[0m \u001b[0;34m=\u001b[0m \u001b[0mtileObsMetaData\u001b[0m\u001b[0;34m(\u001b[0m\u001b[0mid\u001b[0m\u001b[0;34m,\u001b[0m \u001b[0mgalTiles\u001b[0m\u001b[0;34m)\u001b[0m\u001b[0;34m\u001b[0m\u001b[0m\n\u001b[0m",
      "\u001b[0;32m<ipython-input-38-0f83ad3cb4d1>\u001b[0m in \u001b[0;36mtileObsMetaData\u001b[0;34m(id, galTileDF)\u001b[0m\n\u001b[1;32m      2\u001b[0m     \"\"\"\n\u001b[1;32m      3\u001b[0m     \"\"\"\n\u001b[0;32m----> 4\u001b[0;31m     \u001b[0mra\u001b[0m \u001b[0;34m=\u001b[0m \u001b[0mgalTiles\u001b[0m\u001b[0;34m.\u001b[0m\u001b[0mix\u001b[0m\u001b[0;34m[\u001b[0m\u001b[0mid\u001b[0m\u001b[0;34m,\u001b[0m \u001b[0;34m'ramid'\u001b[0m\u001b[0;34m]\u001b[0m\u001b[0;34m\u001b[0m\u001b[0m\n\u001b[0m\u001b[1;32m      5\u001b[0m     \u001b[0mdec\u001b[0m \u001b[0;34m=\u001b[0m \u001b[0mgalTiles\u001b[0m\u001b[0;34m.\u001b[0m\u001b[0mix\u001b[0m\u001b[0;34m[\u001b[0m\u001b[0mid\u001b[0m\u001b[0;34m,\u001b[0m \u001b[0;34m'decmid'\u001b[0m\u001b[0;34m]\u001b[0m\u001b[0;34m\u001b[0m\u001b[0m\n\u001b[1;32m      6\u001b[0m     obsMetaData = ObservationMetaData(boundType='box',\n",
      "\u001b[0;32m/usr/local/manual/anaconda/lib/python2.7/site-packages/pandas/core/indexing.pyc\u001b[0m in \u001b[0;36m__getitem__\u001b[0;34m(self, key)\u001b[0m\n\u001b[1;32m     66\u001b[0m                 \u001b[0;32mpass\u001b[0m\u001b[0;34m\u001b[0m\u001b[0m\n\u001b[1;32m     67\u001b[0m \u001b[0;34m\u001b[0m\u001b[0m\n\u001b[0;32m---> 68\u001b[0;31m             \u001b[0;32mreturn\u001b[0m \u001b[0mself\u001b[0m\u001b[0;34m.\u001b[0m\u001b[0m_getitem_tuple\u001b[0m\u001b[0;34m(\u001b[0m\u001b[0mkey\u001b[0m\u001b[0;34m)\u001b[0m\u001b[0;34m\u001b[0m\u001b[0m\n\u001b[0m\u001b[1;32m     69\u001b[0m         \u001b[0;32melse\u001b[0m\u001b[0;34m:\u001b[0m\u001b[0;34m\u001b[0m\u001b[0m\n\u001b[1;32m     70\u001b[0m             \u001b[0;32mreturn\u001b[0m \u001b[0mself\u001b[0m\u001b[0;34m.\u001b[0m\u001b[0m_getitem_axis\u001b[0m\u001b[0;34m(\u001b[0m\u001b[0mkey\u001b[0m\u001b[0;34m,\u001b[0m \u001b[0maxis\u001b[0m\u001b[0;34m=\u001b[0m\u001b[0;36m0\u001b[0m\u001b[0;34m)\u001b[0m\u001b[0;34m\u001b[0m\u001b[0m\n",
      "\u001b[0;32m/usr/local/manual/anaconda/lib/python2.7/site-packages/pandas/core/indexing.pyc\u001b[0m in \u001b[0;36m_getitem_tuple\u001b[0;34m(self, tup)\u001b[0m\n\u001b[1;32m    736\u001b[0m     \u001b[0;32mdef\u001b[0m \u001b[0m_getitem_tuple\u001b[0m\u001b[0;34m(\u001b[0m\u001b[0mself\u001b[0m\u001b[0;34m,\u001b[0m \u001b[0mtup\u001b[0m\u001b[0;34m)\u001b[0m\u001b[0;34m:\u001b[0m\u001b[0;34m\u001b[0m\u001b[0m\n\u001b[1;32m    737\u001b[0m         \u001b[0;32mtry\u001b[0m\u001b[0;34m:\u001b[0m\u001b[0;34m\u001b[0m\u001b[0m\n\u001b[0;32m--> 738\u001b[0;31m             \u001b[0;32mreturn\u001b[0m \u001b[0mself\u001b[0m\u001b[0;34m.\u001b[0m\u001b[0m_getitem_lowerdim\u001b[0m\u001b[0;34m(\u001b[0m\u001b[0mtup\u001b[0m\u001b[0;34m)\u001b[0m\u001b[0;34m\u001b[0m\u001b[0m\n\u001b[0m\u001b[1;32m    739\u001b[0m         \u001b[0;32mexcept\u001b[0m \u001b[0mIndexingError\u001b[0m\u001b[0;34m:\u001b[0m\u001b[0;34m\u001b[0m\u001b[0m\n\u001b[1;32m    740\u001b[0m             \u001b[0;32mpass\u001b[0m\u001b[0;34m\u001b[0m\u001b[0m\n",
      "\u001b[0;32m/usr/local/manual/anaconda/lib/python2.7/site-packages/pandas/core/indexing.pyc\u001b[0m in \u001b[0;36m_getitem_lowerdim\u001b[0;34m(self, tup)\u001b[0m\n\u001b[1;32m    861\u001b[0m         \u001b[0;32mfor\u001b[0m \u001b[0mi\u001b[0m\u001b[0;34m,\u001b[0m \u001b[0mkey\u001b[0m \u001b[0;32min\u001b[0m \u001b[0menumerate\u001b[0m\u001b[0;34m(\u001b[0m\u001b[0mtup\u001b[0m\u001b[0;34m)\u001b[0m\u001b[0;34m:\u001b[0m\u001b[0;34m\u001b[0m\u001b[0m\n\u001b[1;32m    862\u001b[0m             \u001b[0;32mif\u001b[0m \u001b[0mis_label_like\u001b[0m\u001b[0;34m(\u001b[0m\u001b[0mkey\u001b[0m\u001b[0;34m)\u001b[0m \u001b[0;32mor\u001b[0m \u001b[0misinstance\u001b[0m\u001b[0;34m(\u001b[0m\u001b[0mkey\u001b[0m\u001b[0;34m,\u001b[0m \u001b[0mtuple\u001b[0m\u001b[0;34m)\u001b[0m\u001b[0;34m:\u001b[0m\u001b[0;34m\u001b[0m\u001b[0m\n\u001b[0;32m--> 863\u001b[0;31m                 \u001b[0msection\u001b[0m \u001b[0;34m=\u001b[0m \u001b[0mself\u001b[0m\u001b[0;34m.\u001b[0m\u001b[0m_getitem_axis\u001b[0m\u001b[0;34m(\u001b[0m\u001b[0mkey\u001b[0m\u001b[0;34m,\u001b[0m \u001b[0maxis\u001b[0m\u001b[0;34m=\u001b[0m\u001b[0mi\u001b[0m\u001b[0;34m)\u001b[0m\u001b[0;34m\u001b[0m\u001b[0m\n\u001b[0m\u001b[1;32m    864\u001b[0m \u001b[0;34m\u001b[0m\u001b[0m\n\u001b[1;32m    865\u001b[0m                 \u001b[0;31m# we have yielded a scalar ?\u001b[0m\u001b[0;34m\u001b[0m\u001b[0;34m\u001b[0m\u001b[0m\n",
      "\u001b[0;32m/usr/local/manual/anaconda/lib/python2.7/site-packages/pandas/core/indexing.pyc\u001b[0m in \u001b[0;36m_getitem_axis\u001b[0;34m(self, key, axis)\u001b[0m\n\u001b[1;32m    965\u001b[0m                     \u001b[0;32mreturn\u001b[0m \u001b[0mself\u001b[0m\u001b[0;34m.\u001b[0m\u001b[0m_get_loc\u001b[0m\u001b[0;34m(\u001b[0m\u001b[0mkey\u001b[0m\u001b[0;34m,\u001b[0m \u001b[0maxis\u001b[0m\u001b[0;34m=\u001b[0m\u001b[0maxis\u001b[0m\u001b[0;34m)\u001b[0m\u001b[0;34m\u001b[0m\u001b[0m\n\u001b[1;32m    966\u001b[0m \u001b[0;34m\u001b[0m\u001b[0m\n\u001b[0;32m--> 967\u001b[0;31m             \u001b[0;32mreturn\u001b[0m \u001b[0mself\u001b[0m\u001b[0;34m.\u001b[0m\u001b[0m_get_label\u001b[0m\u001b[0;34m(\u001b[0m\u001b[0mkey\u001b[0m\u001b[0;34m,\u001b[0m \u001b[0maxis\u001b[0m\u001b[0;34m=\u001b[0m\u001b[0maxis\u001b[0m\u001b[0;34m)\u001b[0m\u001b[0;34m\u001b[0m\u001b[0m\n\u001b[0m\u001b[1;32m    968\u001b[0m \u001b[0;34m\u001b[0m\u001b[0m\n\u001b[1;32m    969\u001b[0m     \u001b[0;32mdef\u001b[0m \u001b[0m_getitem_iterable\u001b[0m\u001b[0;34m(\u001b[0m\u001b[0mself\u001b[0m\u001b[0;34m,\u001b[0m \u001b[0mkey\u001b[0m\u001b[0;34m,\u001b[0m \u001b[0maxis\u001b[0m\u001b[0;34m=\u001b[0m\u001b[0;36m0\u001b[0m\u001b[0;34m)\u001b[0m\u001b[0;34m:\u001b[0m\u001b[0;34m\u001b[0m\u001b[0m\n",
      "\u001b[0;32m/usr/local/manual/anaconda/lib/python2.7/site-packages/pandas/core/indexing.pyc\u001b[0m in \u001b[0;36m_get_label\u001b[0;34m(self, label, axis)\u001b[0m\n\u001b[1;32m     84\u001b[0m             \u001b[0;32mraise\u001b[0m \u001b[0mIndexingError\u001b[0m\u001b[0;34m(\u001b[0m\u001b[0;34m'no slices here, handle elsewhere'\u001b[0m\u001b[0;34m)\u001b[0m\u001b[0;34m\u001b[0m\u001b[0m\n\u001b[1;32m     85\u001b[0m \u001b[0;34m\u001b[0m\u001b[0m\n\u001b[0;32m---> 86\u001b[0;31m         \u001b[0;32mreturn\u001b[0m \u001b[0mself\u001b[0m\u001b[0;34m.\u001b[0m\u001b[0mobj\u001b[0m\u001b[0;34m.\u001b[0m\u001b[0m_xs\u001b[0m\u001b[0;34m(\u001b[0m\u001b[0mlabel\u001b[0m\u001b[0;34m,\u001b[0m \u001b[0maxis\u001b[0m\u001b[0;34m=\u001b[0m\u001b[0maxis\u001b[0m\u001b[0;34m)\u001b[0m\u001b[0;34m\u001b[0m\u001b[0m\n\u001b[0m\u001b[1;32m     87\u001b[0m \u001b[0;34m\u001b[0m\u001b[0m\n\u001b[1;32m     88\u001b[0m     \u001b[0;32mdef\u001b[0m \u001b[0m_get_loc\u001b[0m\u001b[0;34m(\u001b[0m\u001b[0mself\u001b[0m\u001b[0;34m,\u001b[0m \u001b[0mkey\u001b[0m\u001b[0;34m,\u001b[0m \u001b[0maxis\u001b[0m\u001b[0;34m=\u001b[0m\u001b[0;36m0\u001b[0m\u001b[0;34m)\u001b[0m\u001b[0;34m:\u001b[0m\u001b[0;34m\u001b[0m\u001b[0m\n",
      "\u001b[0;32m/usr/local/manual/anaconda/lib/python2.7/site-packages/pandas/core/generic.pyc\u001b[0m in \u001b[0;36mxs\u001b[0;34m(self, key, axis, level, copy, drop_level)\u001b[0m\n\u001b[1;32m   1484\u001b[0m                                                       drop_level=drop_level)\n\u001b[1;32m   1485\u001b[0m         \u001b[0;32melse\u001b[0m\u001b[0;34m:\u001b[0m\u001b[0;34m\u001b[0m\u001b[0m\n\u001b[0;32m-> 1486\u001b[0;31m             \u001b[0mloc\u001b[0m \u001b[0;34m=\u001b[0m \u001b[0mself\u001b[0m\u001b[0;34m.\u001b[0m\u001b[0mindex\u001b[0m\u001b[0;34m.\u001b[0m\u001b[0mget_loc\u001b[0m\u001b[0;34m(\u001b[0m\u001b[0mkey\u001b[0m\u001b[0;34m)\u001b[0m\u001b[0;34m\u001b[0m\u001b[0m\n\u001b[0m\u001b[1;32m   1487\u001b[0m \u001b[0;34m\u001b[0m\u001b[0m\n\u001b[1;32m   1488\u001b[0m             \u001b[0;32mif\u001b[0m \u001b[0misinstance\u001b[0m\u001b[0;34m(\u001b[0m\u001b[0mloc\u001b[0m\u001b[0;34m,\u001b[0m \u001b[0mnp\u001b[0m\u001b[0;34m.\u001b[0m\u001b[0mndarray\u001b[0m\u001b[0;34m)\u001b[0m\u001b[0;34m:\u001b[0m\u001b[0;34m\u001b[0m\u001b[0m\n",
      "\u001b[0;32m/usr/local/manual/anaconda/lib/python2.7/site-packages/pandas/core/index.pyc\u001b[0m in \u001b[0;36mget_loc\u001b[0;34m(self, key, method, tolerance)\u001b[0m\n\u001b[1;32m   1757\u001b[0m                                  'backfill or nearest lookups')\n\u001b[1;32m   1758\u001b[0m             \u001b[0mkey\u001b[0m \u001b[0;34m=\u001b[0m \u001b[0m_values_from_object\u001b[0m\u001b[0;34m(\u001b[0m\u001b[0mkey\u001b[0m\u001b[0;34m)\u001b[0m\u001b[0;34m\u001b[0m\u001b[0m\n\u001b[0;32m-> 1759\u001b[0;31m             \u001b[0;32mreturn\u001b[0m \u001b[0mself\u001b[0m\u001b[0;34m.\u001b[0m\u001b[0m_engine\u001b[0m\u001b[0;34m.\u001b[0m\u001b[0mget_loc\u001b[0m\u001b[0;34m(\u001b[0m\u001b[0mkey\u001b[0m\u001b[0;34m)\u001b[0m\u001b[0;34m\u001b[0m\u001b[0m\n\u001b[0m\u001b[1;32m   1760\u001b[0m \u001b[0;34m\u001b[0m\u001b[0m\n\u001b[1;32m   1761\u001b[0m         indexer = self.get_indexer([key], method=method,\n",
      "\u001b[0;32mpandas/index.pyx\u001b[0m in \u001b[0;36mpandas.index.IndexEngine.get_loc (pandas/index.c:3979)\u001b[0;34m()\u001b[0m\n",
      "\u001b[0;32mpandas/index.pyx\u001b[0m in \u001b[0;36mpandas.index.IndexEngine.get_loc (pandas/index.c:3908)\u001b[0;34m()\u001b[0m\n",
      "\u001b[0;31mKeyError\u001b[0m: <built-in function id>"
     ]
    }
   ],
   "source": [
    "galTiles['obsMetaData'] = tileObsMetaData(id, galTiles)"
   ]
  },
  {
   "cell_type": "code",
   "execution_count": 49,
   "metadata": {
    "collapsed": false
   },
   "outputs": [
    {
     "data": {
      "text/plain": [
       "<lsst.sims.utils.ObservationMetaData.ObservationMetaData at 0x11171c850>"
      ]
     },
     "execution_count": 49,
     "metadata": {},
     "output_type": "execute_result"
    }
   ],
   "source": [
    "tileObsMetaData(600, galTiles)"
   ]
  },
  {
   "cell_type": "code",
   "execution_count": null,
   "metadata": {
    "collapsed": true
   },
   "outputs": [],
   "source": [
    "ObservationMetaData()\n"
   ]
  },
  {
   "cell_type": "code",
   "execution_count": 41,
   "metadata": {
    "collapsed": true
   },
   "outputs": [],
   "source": [
    "obsMeta = tileObsMetaData(600, galTiles)"
   ]
  },
  {
   "cell_type": "code",
   "execution_count": null,
   "metadata": {
    "collapsed": true
   },
   "outputs": [],
   "source": [
    "from lsst.sims.catUtils."
   ]
  },
  {
   "cell_type": "code",
   "execution_count": 165,
   "metadata": {
    "collapsed": false
   },
   "outputs": [
    {
     "name": "stderr",
     "output_type": "stream",
     "text": [
      "/usr/local/manual/anaconda/lib/python2.7/site-packages/sqlalchemy/dialects/mssql/base.py:1294: SAWarning: Did not recognize type 'geography' of column 'geopoint'\n",
      "  return fn(*arg, **kw)\n"
     ]
    }
   ],
   "source": [
    "galaxyTiled  = GalaxyTileObj()"
   ]
  },
  {
   "cell_type": "code",
   "execution_count": null,
   "metadata": {
    "collapsed": true
   },
   "outputs": [],
   "source": []
  },
  {
   "cell_type": "code",
   "execution_count": 168,
   "metadata": {
    "collapsed": false
   },
   "outputs": [],
   "source": [
    "TwinklesGalaxies = galCopy(galaxyTiled, obs_metadata=obsMeta, constraint='mass_stellar')"
   ]
  },
  {
   "cell_type": "code",
   "execution_count": 191,
   "metadata": {
    "collapsed": true
   },
   "outputs": [],
   "source": [
    "import time"
   ]
  },
  {
   "cell_type": "code",
   "execution_count": 192,
   "metadata": {
    "collapsed": false
   },
   "outputs": [
    {
     "name": "stdout",
     "output_type": "stream",
     "text": [
      "734.053437948\n"
     ]
    }
   ],
   "source": [
    "tstart = time.time()\n",
    "TwinklesGalaxies.write_catalog('TwinkGals.dat')\n",
    "tend = time.time()\n",
    "print(tend - tstart)"
   ]
  },
  {
   "cell_type": "code",
   "execution_count": 193,
   "metadata": {
    "collapsed": false
   },
   "outputs": [
    {
     "name": "stdout",
     "output_type": "stream",
     "text": [
      " 12148154 TwinkGals.dat\r\n"
     ]
    }
   ],
   "source": [
    "!wc -l TwinkGals.dat "
   ]
  },
  {
   "cell_type": "code",
   "execution_count": 172,
   "metadata": {
    "collapsed": false
   },
   "outputs": [
    {
     "data": {
      "text/plain": [
       "12.148154"
      ]
     },
     "execution_count": 172,
     "metadata": {},
     "output_type": "execute_result"
    }
   ],
   "source": [
    "12148154 / 1e6"
   ]
  },
  {
   "cell_type": "code",
   "execution_count": 189,
   "metadata": {
    "collapsed": true
   },
   "outputs": [],
   "source": [
    "query = \"\"\"SELECT galtileid, raJ2000, decJ2000, redshift, a_d, b_d, pa_disk  FROM [LSSTCATSIM].[dbo].[galaxy]\"\"\""
   ]
  },
  {
   "cell_type": "code",
   "execution_count": 184,
   "metadata": {
    "collapsed": true
   },
   "outputs": [],
   "source": [
    "query = \"\"\"SELECT count(*)  FROM [LSSTCATSIM].[dbo].[galaxyBase]\"\"\""
   ]
  },
  {
   "cell_type": "code",
   "execution_count": 186,
   "metadata": {
    "collapsed": true
   },
   "outputs": [],
   "source": [
    "query = \"\"\"SELECT table_name FROM information_schema.tables\"\"\""
   ]
  },
  {
   "cell_type": "code",
   "execution_count": 190,
   "metadata": {
    "collapsed": false
   },
   "outputs": [
    {
     "ename": "ProgrammingError",
     "evalue": "(207, \"Invalid column name 'galtileid'.DB-Lib error message 20018, severity 16:\\nGeneral SQL Server error: Check messages from the SQL Server\\nDB-Lib error message 20018, severity 16:\\nGeneral SQL Server error: Check messages from the SQL Server\\nDB-Lib error message 20018, severity 16:\\nGeneral SQL Server error: Check messages from the SQL Server\\n\")",
     "output_type": "error",
     "traceback": [
      "\u001b[0;31m---------------------------------------------------------------------------\u001b[0m",
      "\u001b[0;31mProgrammingError\u001b[0m                          Traceback (most recent call last)",
      "\u001b[0;32m<ipython-input-190-7cf6de658251>\u001b[0m in \u001b[0;36m<module>\u001b[0;34m()\u001b[0m\n\u001b[0;32m----> 1\u001b[0;31m \u001b[0mdb\u001b[0m\u001b[0;34m.\u001b[0m\u001b[0mexecute\u001b[0m\u001b[0;34m(\u001b[0m\u001b[0mquery\u001b[0m\u001b[0;34m)\u001b[0m\u001b[0;34m\u001b[0m\u001b[0m\n\u001b[0m",
      "\u001b[0;32mpymssql.pyx\u001b[0m in \u001b[0;36mpymssql.Cursor.execute (pymssql.c:7455)\u001b[0;34m()\u001b[0m\n",
      "\u001b[0;31mProgrammingError\u001b[0m: (207, \"Invalid column name 'galtileid'.DB-Lib error message 20018, severity 16:\\nGeneral SQL Server error: Check messages from the SQL Server\\nDB-Lib error message 20018, severity 16:\\nGeneral SQL Server error: Check messages from the SQL Server\\nDB-Lib error message 20018, severity 16:\\nGeneral SQL Server error: Check messages from the SQL Server\\n\")"
     ]
    }
   ],
   "source": [
    "db.execute(query)"
   ]
  },
  {
   "cell_type": "code",
   "execution_count": 188,
   "metadata": {
    "collapsed": false
   },
   "outputs": [
    {
     "data": {
      "text/plain": [
       "[(u'StarMLT',),\n",
       " (u'StarMLTForceseek',),\n",
       " (u'galaxy_agn',),\n",
       " (u'StarAllForceseek',),\n",
       " (u'galaxy_bulge',),\n",
       " (u'StarAll',),\n",
       " (u'StarMSRGB',),\n",
       " (u'StarMSRGBForceseek',),\n",
       " (u'StarDwarfGalaxy',),\n",
       " (u'stars_mlt_part_1180',),\n",
       " (u'tiles',),\n",
       " (u'docColumnDescriptions',),\n",
       " (u'TwinkSN',),\n",
       " (u'galaxy_disk',),\n",
       " (u'stars_mlt_part_1220',),\n",
       " (u'docItems',),\n",
       " (u'SNStaging',),\n",
       " (u'stars_obafgk_part_1220',),\n",
       " (u'SNKrakenStaging',),\n",
       " (u'TwinkSNKraken',),\n",
       " (u'starsCenteredp80m10',),\n",
       " (u'density_map_pivot_starsMSRGB',),\n",
       " (u'ra_center_map_pivot_starsMSRGB',),\n",
       " (u'output_opsim3_61',),\n",
       " (u'decl_center_map_pivot_starsMSRGB',),\n",
       " (u'mltNameTable',),\n",
       " (u'MLTlookup',),\n",
       " (u'stars_partition_8700000000000_circle80m10',),\n",
       " (u'stars_mlt_part_1250',),\n",
       " (u'starsMSRGBp80m10',),\n",
       " (u'stars_obafgk_part_1250',),\n",
       " (u'gizisNameTable',),\n",
       " (u'starsMSRGBp80m10_forceseek',),\n",
       " (u'MLTfitTestTable',),\n",
       " (u'easterEggsFit',),\n",
       " (u'density_map_pivot_starsWD',),\n",
       " (u'sfdAstromEasterEggs',),\n",
       " (u'decl_center_map_pivot_starsWD',),\n",
       " (u'ra_center_map_pivot_starsWD',),\n",
       " (u'stars_mlt_part_1400',),\n",
       " (u'stars_obafgk_part_1400',),\n",
       " (u'starsCenteredp80m10_lookup',),\n",
       " (u'sfd_stars_partition_12200000000000_fit',),\n",
       " (u'sfd_stars_partition_11000000000000_fit',),\n",
       " (u'sfd_stars_partition_11600000000000_fit',),\n",
       " (u'stars_mlt_part_0870',),\n",
       " (u'sfd_stars_partition_11800000000000_fit',),\n",
       " (u'stars_obafgk_part_0870',),\n",
       " (u'sfd_stars_partition_14000000000000_fit',),\n",
       " (u'sfd_stars_partition_12500000000000_fit',),\n",
       " (u'sfd_stars_partition_12000000000000_fit',),\n",
       " (u'sfd_stars_partition_8700000000000_circle80m10_fit',),\n",
       " (u'sfd_stars_partition_8700000000000_fit',),\n",
       " (u'StarBHB',),\n",
       " (u'StarRRLy',),\n",
       " (u'StarWhiteDwarf',),\n",
       " (u'galaxy_tiled_supernova_tmp',),\n",
       " (u'variabilityMap',),\n",
       " (u'image',),\n",
       " (u'lens',),\n",
       " (u'galaxy',),\n",
       " (u'stars_obafgk_part_1160',),\n",
       " (u'stars_mlt_part_1100',),\n",
       " (u'sedIdMap',),\n",
       " (u'stars_mlt_part_1160',),\n",
       " (u'starsrrlyvar',),\n",
       " (u'stars_obafgk_part_1100',),\n",
       " (u'stars_mlt_part_1200',),\n",
       " (u'StarEclipsingBinary',),\n",
       " (u'AstromEasterEggs',),\n",
       " (u'StarCepheid',),\n",
       " (u'stars_obafgk_part_1180',),\n",
       " (u'stars_obafgk_part_1200',),\n",
       " (u'StarOBAFGK',),\n",
       " (u'sysdiagrams',),\n",
       " (u'StarOBAFGKForceseek',)]"
      ]
     },
     "execution_count": 188,
     "metadata": {},
     "output_type": "execute_result"
    }
   ],
   "source": [
    "db.fetchall()"
   ]
  },
  {
   "cell_type": "code",
   "execution_count": 159,
   "metadata": {
    "collapsed": false
   },
   "outputs": [
    {
     "name": "stdout",
     "output_type": "stream",
     "text": [
      "2.0\n"
     ]
    }
   ],
   "source": [
    "print(obsMeta.boundLength)"
   ]
  },
  {
   "cell_type": "code",
   "execution_count": 86,
   "metadata": {
    "collapsed": false
   },
   "outputs": [
    {
     "ename": "NameError",
     "evalue": "name 'centralRA' is not defined",
     "output_type": "error",
     "traceback": [
      "\u001b[0;31m---------------------------------------------------------------------------\u001b[0m",
      "\u001b[0;31mNameError\u001b[0m                                 Traceback (most recent call last)",
      "\u001b[0;32m<ipython-input-86-513353415cf0>\u001b[0m in \u001b[0;36m<module>\u001b[0;34m()\u001b[0m\n\u001b[0;32m----> 1\u001b[0;31m TwinklesObsMetaData = ObservationMetaData(boundType='box',pointingRA=centralRA,pointingDec=centralDec,\n\u001b[0m\u001b[1;32m      2\u001b[0m                                               boundLength=patchRadius, mjd=49540.0)\n\u001b[1;32m      3\u001b[0m \u001b[0;34m\u001b[0m\u001b[0m\n",
      "\u001b[0;31mNameError\u001b[0m: name 'centralRA' is not defined"
     ]
    }
   ],
   "source": [
    "obsMetaData = ObservationMetaData(boundType='box',pointingRA=,pointingDec=centralDec,\n",
    "                                              boundLength=2, mjd=49540.0)\n",
    "    "
   ]
  },
  {
   "cell_type": "code",
   "execution_count": 78,
   "metadata": {
    "collapsed": false
   },
   "outputs": [
    {
     "data": {
      "text/plain": [
       "[53.009138473031555, -27.438948808815123]"
      ]
     },
     "execution_count": 78,
     "metadata": {},
     "output_type": "execute_result"
    }
   ],
   "source": [
    "map(np.degrees, (0.925184, -0.4789))"
   ]
  },
  {
   "cell_type": "code",
   "execution_count": 59,
   "metadata": {
    "collapsed": false
   },
   "outputs": [],
   "source": [
    "x = get_colnames(db, 'tiles', colList=range(7))"
   ]
  },
  {
   "cell_type": "code",
   "execution_count": 48,
   "metadata": {
    "collapsed": false
   },
   "outputs": [
    {
     "data": {
      "text/plain": [
       "numpy.ndarray"
      ]
     },
     "execution_count": 48,
     "metadata": {},
     "output_type": "execute_result"
    }
   ],
   "source": [
    "type(x)"
   ]
  },
  {
   "cell_type": "code",
   "execution_count": 60,
   "metadata": {
    "collapsed": false
   },
   "outputs": [
    {
     "data": {
      "text/plain": [
       "array([u'id', u'llx', u'lly', u'urx', u'ury', u'ramid', u'decmid'], \n",
       "      dtype='<U10')"
      ]
     },
     "execution_count": 60,
     "metadata": {},
     "output_type": "execute_result"
    }
   ],
   "source": [
    "x"
   ]
  },
  {
   "cell_type": "code",
   "execution_count": null,
   "metadata": {
    "collapsed": true
   },
   "outputs": [],
   "source": [
    "def get_table(db, colnames):\n",
    "    \"\"\"SELECT TOP 10 id, llx, lly, urx, ury, ramid, decmid  FROM [LSSTCATSIM].[dbo].[tiles]\"\"\"\n",
    "    "
   ]
  },
  {
   "cell_type": "code",
   "execution_count": 177,
   "metadata": {
    "collapsed": true
   },
   "outputs": [],
   "source": [
    "query = \"\"\"SELECT TOP 10 id, llx, lly, urx, ury, ramid, decmid  FROM [LSSTCATSIM].[dbo].[tiles]\"\"\""
   ]
  },
  {
   "cell_type": "code",
   "execution_count": 178,
   "metadata": {
    "collapsed": false
   },
   "outputs": [],
   "source": [
    "db.execute(query)"
   ]
  },
  {
   "cell_type": "code",
   "execution_count": 179,
   "metadata": {
    "collapsed": false
   },
   "outputs": [
    {
     "data": {
      "text/plain": [
       "[(0, 0.0, -90.0, 4.0, -86.0, 2.0, -88.0),\n",
       " (1, 0.0, -86.0, 4.0, -82.0, 2.0, -84.0),\n",
       " (2, 0.0, -82.0, 4.0, -78.0, 2.0, -80.0),\n",
       " (3, 0.0, -78.0, 4.0, -74.0, 2.0, -76.0),\n",
       " (4, 0.0, -74.0, 4.0, -70.0, 2.0, -72.0),\n",
       " (5, 0.0, -70.0, 4.0, -66.0, 2.0, -68.0),\n",
       " (6, 0.0, -66.0, 4.0, -62.0, 2.0, -64.0),\n",
       " (7, 0.0, -62.0, 4.0, -58.0, 2.0, -60.0),\n",
       " (8, 0.0, -58.0, 4.0, -54.0, 2.0, -56.0),\n",
       " (9, 0.0, -54.0, 4.0, -50.0, 2.0, -52.0)]"
      ]
     },
     "execution_count": 179,
     "metadata": {},
     "output_type": "execute_result"
    }
   ],
   "source": [
    "db.fetchall()"
   ]
  },
  {
   "cell_type": "code",
   "execution_count": null,
   "metadata": {
    "collapsed": true
   },
   "outputs": [],
   "source": [
    "query  = \"\"\"SELECT t.name AS table_name FROM \"\"\""
   ]
  },
  {
   "cell_type": "code",
   "execution_count": 22,
   "metadata": {
    "collapsed": true
   },
   "outputs": [],
   "source": [
    "query = \"\"\"SELECT t.COLUMNS from tiles as t\"\"\""
   ]
  },
  {
   "cell_type": "code",
   "execution_count": 24,
   "metadata": {
    "collapsed": true
   },
   "outputs": [],
   "source": [
    "query = \"\"\"select * from information_schema.columns where table_name = 'tiles'\"\"\""
   ]
  },
  {
   "cell_type": "code",
   "execution_count": 25,
   "metadata": {
    "collapsed": false
   },
   "outputs": [],
   "source": [
    "db.execute(query)"
   ]
  },
  {
   "cell_type": "code",
   "execution_count": 26,
   "metadata": {
    "collapsed": false
   },
   "outputs": [
    {
     "data": {
      "text/plain": [
       "[(u'LSSTCATSIM',\n",
       "  u'dbo',\n",
       "  u'tiles',\n",
       "  u'id',\n",
       "  1,\n",
       "  None,\n",
       "  u'YES',\n",
       "  u'int',\n",
       "  None,\n",
       "  None,\n",
       "  10,\n",
       "  10,\n",
       "  0,\n",
       "  None,\n",
       "  None,\n",
       "  None,\n",
       "  None,\n",
       "  None,\n",
       "  None,\n",
       "  None,\n",
       "  None,\n",
       "  None,\n",
       "  None),\n",
       " (u'LSSTCATSIM',\n",
       "  u'dbo',\n",
       "  u'tiles',\n",
       "  u'llx',\n",
       "  2,\n",
       "  None,\n",
       "  u'YES',\n",
       "  u'float',\n",
       "  None,\n",
       "  None,\n",
       "  53,\n",
       "  2,\n",
       "  None,\n",
       "  None,\n",
       "  None,\n",
       "  None,\n",
       "  None,\n",
       "  None,\n",
       "  None,\n",
       "  None,\n",
       "  None,\n",
       "  None,\n",
       "  None),\n",
       " (u'LSSTCATSIM',\n",
       "  u'dbo',\n",
       "  u'tiles',\n",
       "  u'lly',\n",
       "  3,\n",
       "  None,\n",
       "  u'YES',\n",
       "  u'float',\n",
       "  None,\n",
       "  None,\n",
       "  53,\n",
       "  2,\n",
       "  None,\n",
       "  None,\n",
       "  None,\n",
       "  None,\n",
       "  None,\n",
       "  None,\n",
       "  None,\n",
       "  None,\n",
       "  None,\n",
       "  None,\n",
       "  None),\n",
       " (u'LSSTCATSIM',\n",
       "  u'dbo',\n",
       "  u'tiles',\n",
       "  u'urx',\n",
       "  4,\n",
       "  None,\n",
       "  u'YES',\n",
       "  u'float',\n",
       "  None,\n",
       "  None,\n",
       "  53,\n",
       "  2,\n",
       "  None,\n",
       "  None,\n",
       "  None,\n",
       "  None,\n",
       "  None,\n",
       "  None,\n",
       "  None,\n",
       "  None,\n",
       "  None,\n",
       "  None,\n",
       "  None),\n",
       " (u'LSSTCATSIM',\n",
       "  u'dbo',\n",
       "  u'tiles',\n",
       "  u'ury',\n",
       "  5,\n",
       "  None,\n",
       "  u'YES',\n",
       "  u'float',\n",
       "  None,\n",
       "  None,\n",
       "  53,\n",
       "  2,\n",
       "  None,\n",
       "  None,\n",
       "  None,\n",
       "  None,\n",
       "  None,\n",
       "  None,\n",
       "  None,\n",
       "  None,\n",
       "  None,\n",
       "  None,\n",
       "  None),\n",
       " (u'LSSTCATSIM',\n",
       "  u'dbo',\n",
       "  u'tiles',\n",
       "  u'ramid',\n",
       "  6,\n",
       "  None,\n",
       "  u'YES',\n",
       "  u'float',\n",
       "  None,\n",
       "  None,\n",
       "  53,\n",
       "  2,\n",
       "  None,\n",
       "  None,\n",
       "  None,\n",
       "  None,\n",
       "  None,\n",
       "  None,\n",
       "  None,\n",
       "  None,\n",
       "  None,\n",
       "  None,\n",
       "  None),\n",
       " (u'LSSTCATSIM',\n",
       "  u'dbo',\n",
       "  u'tiles',\n",
       "  u'decmid',\n",
       "  7,\n",
       "  None,\n",
       "  u'YES',\n",
       "  u'float',\n",
       "  None,\n",
       "  None,\n",
       "  53,\n",
       "  2,\n",
       "  None,\n",
       "  None,\n",
       "  None,\n",
       "  None,\n",
       "  None,\n",
       "  None,\n",
       "  None,\n",
       "  None,\n",
       "  None,\n",
       "  None,\n",
       "  None),\n",
       " (u'LSSTCATSIM',\n",
       "  u'dbo',\n",
       "  u'tiles',\n",
       "  u'center',\n",
       "  8,\n",
       "  None,\n",
       "  u'YES',\n",
       "  u'varchar',\n",
       "  255,\n",
       "  255,\n",
       "  None,\n",
       "  None,\n",
       "  None,\n",
       "  None,\n",
       "  None,\n",
       "  None,\n",
       "  u'iso_1',\n",
       "  None,\n",
       "  None,\n",
       "  u'SQL_Latin1_General_CP1_CI_AS',\n",
       "  None,\n",
       "  None,\n",
       "  None),\n",
       " (u'LSSTCATSIM',\n",
       "  u'dbo',\n",
       "  u'tiles',\n",
       "  u'bbox',\n",
       "  9,\n",
       "  None,\n",
       "  u'YES',\n",
       "  u'varchar',\n",
       "  255,\n",
       "  255,\n",
       "  None,\n",
       "  None,\n",
       "  None,\n",
       "  None,\n",
       "  None,\n",
       "  None,\n",
       "  u'iso_1',\n",
       "  None,\n",
       "  None,\n",
       "  u'SQL_Latin1_General_CP1_CI_AS',\n",
       "  None,\n",
       "  None,\n",
       "  None),\n",
       " (u'LSSTCATSIM',\n",
       "  u'dbo',\n",
       "  u'tiles',\n",
       "  u'geocenter',\n",
       "  10,\n",
       "  None,\n",
       "  u'YES',\n",
       "  u'geography',\n",
       "  -1,\n",
       "  -1,\n",
       "  None,\n",
       "  None,\n",
       "  None,\n",
       "  None,\n",
       "  None,\n",
       "  None,\n",
       "  None,\n",
       "  None,\n",
       "  None,\n",
       "  None,\n",
       "  None,\n",
       "  None,\n",
       "  None),\n",
       " (u'LSSTCATSIM',\n",
       "  u'dbo',\n",
       "  u'tiles',\n",
       "  u'geobox',\n",
       "  11,\n",
       "  None,\n",
       "  u'YES',\n",
       "  u'geography',\n",
       "  -1,\n",
       "  -1,\n",
       "  None,\n",
       "  None,\n",
       "  None,\n",
       "  None,\n",
       "  None,\n",
       "  None,\n",
       "  None,\n",
       "  None,\n",
       "  None,\n",
       "  None,\n",
       "  None,\n",
       "  None,\n",
       "  None),\n",
       " (u'LSSTCATSIM',\n",
       "  u'dbo',\n",
       "  u'tiles',\n",
       "  u'htmpoly',\n",
       "  12,\n",
       "  None,\n",
       "  u'YES',\n",
       "  u'nvarchar',\n",
       "  -1,\n",
       "  -1,\n",
       "  None,\n",
       "  None,\n",
       "  None,\n",
       "  None,\n",
       "  None,\n",
       "  None,\n",
       "  u'UNICODE',\n",
       "  None,\n",
       "  None,\n",
       "  u'SQL_Latin1_General_CP1_CI_AS',\n",
       "  None,\n",
       "  None,\n",
       "  None),\n",
       " (u'LSSTCATSIM',\n",
       "  u'dbo',\n",
       "  u'tiles',\n",
       "  u'corners',\n",
       "  13,\n",
       "  None,\n",
       "  u'YES',\n",
       "  u'tinyint',\n",
       "  None,\n",
       "  None,\n",
       "  3,\n",
       "  10,\n",
       "  0,\n",
       "  None,\n",
       "  None,\n",
       "  None,\n",
       "  None,\n",
       "  None,\n",
       "  None,\n",
       "  None,\n",
       "  None,\n",
       "  None,\n",
       "  None),\n",
       " (u'LSSTCATSIM',\n",
       "  u'dbo',\n",
       "  u'tiles',\n",
       "  u'htmpolybin',\n",
       "  14,\n",
       "  None,\n",
       "  u'YES',\n",
       "  u'varbinary',\n",
       "  -1,\n",
       "  -1,\n",
       "  None,\n",
       "  None,\n",
       "  None,\n",
       "  None,\n",
       "  None,\n",
       "  None,\n",
       "  None,\n",
       "  None,\n",
       "  None,\n",
       "  None,\n",
       "  None,\n",
       "  None,\n",
       "  None)]"
      ]
     },
     "execution_count": 26,
     "metadata": {},
     "output_type": "execute_result"
    }
   ],
   "source": [
    "db.fetchall()"
   ]
  },
  {
   "cell_type": "code",
   "execution_count": 116,
   "metadata": {
    "collapsed": true
   },
   "outputs": [],
   "source": [
    "import joblib"
   ]
  },
  {
   "cell_type": "code",
   "execution_count": 133,
   "metadata": {
    "collapsed": false
   },
   "outputs": [
    {
     "name": "stdout",
     "output_type": "stream",
     "text": [
      "100 loops, best of 3: 5.84 ms per loop\n"
     ]
    }
   ],
   "source": [
    "%%timeit \n",
    "joblib.dump(galTiles, 'galTile')\n",
    "gg = joblib.load('galTile')"
   ]
  },
  {
   "cell_type": "code",
   "execution_count": 137,
   "metadata": {
    "collapsed": false
   },
   "outputs": [],
   "source": [
    "import cPickle as pickle"
   ]
  },
  {
   "cell_type": "code",
   "execution_count": 140,
   "metadata": {
    "collapsed": false
   },
   "outputs": [
    {
     "name": "stdout",
     "output_type": "stream",
     "text": [
      "10 loops, best of 3: 22.2 ms per loop\n"
     ]
    }
   ],
   "source": [
    "%%timeit \n",
    "gT = pickle.pickle\n",
    "#gg = pickle.loads('galTile')"
   ]
  },
  {
   "cell_type": "code",
   "execution_count": 141,
   "metadata": {
    "collapsed": false
   },
   "outputs": [
    {
     "ename": "TypeError",
     "evalue": "an integer is required",
     "output_type": "error",
     "traceback": [
      "\u001b[0;31m---------------------------------------------------------------------------\u001b[0m",
      "\u001b[0;31mTypeError\u001b[0m                                 Traceback (most recent call last)",
      "\u001b[0;32m<ipython-input-141-ea095f35c282>\u001b[0m in \u001b[0;36m<module>\u001b[0;34m()\u001b[0m\n\u001b[0;32m----> 1\u001b[0;31m \u001b[0mpickle\u001b[0m\u001b[0;34m.\u001b[0m\u001b[0mPickler\u001b[0m\u001b[0;34m(\u001b[0m\u001b[0;34m'gtpick'\u001b[0m\u001b[0;34m,\u001b[0m \u001b[0mgalTiles\u001b[0m\u001b[0;34m)\u001b[0m\u001b[0;34m\u001b[0m\u001b[0m\n\u001b[0m",
      "\u001b[0;31mTypeError\u001b[0m: an integer is required"
     ]
    }
   ],
   "source": []
  },
  {
   "cell_type": "markdown",
   "metadata": {
    "collapsed": true
   },
   "source": [
    "## probTable"
   ]
  },
  {
   "cell_type": "code",
   "execution_count": 5,
   "metadata": {
    "collapsed": false
   },
   "outputs": [],
   "source": [
    "query = \"\"\"SELECT MAX(*) FROM (SELECT ra, dec, mass_stellar, redshift FROM galaxy) g\"\"\"\n"
   ]
  },
  {
   "cell_type": "code",
   "execution_count": 6,
   "metadata": {
    "collapsed": true
   },
   "outputs": [],
   "source": [
    "# get numGals\n",
    "query = \"\"\"SELECT  COUNT(*) FROM galaxy WHERE redshift < 1.4\"\"\"\n",
    "db.execute(query)\n",
    "numGals = db.fetchall()[0][0]"
   ]
  },
  {
   "cell_type": "code",
   "execution_count": 7,
   "metadata": {
    "collapsed": true
   },
   "outputs": [],
   "source": [
    "# Input \n",
    "numBins = 28"
   ]
  },
  {
   "cell_type": "code",
   "execution_count": 8,
   "metadata": {
    "collapsed": true
   },
   "outputs": [],
   "source": [
    "from __future__ import division"
   ]
  },
  {
   "cell_type": "code",
   "execution_count": 9,
   "metadata": {
    "collapsed": false
   },
   "outputs": [],
   "source": [
    "numGals\n",
    "numGalsperBin = np.round(numGals / numBins)"
   ]
  },
  {
   "cell_type": "code",
   "execution_count": 10,
   "metadata": {
    "collapsed": false
   },
   "outputs": [
    {
     "data": {
      "text/plain": [
       "323835.0"
      ]
     },
     "execution_count": 10,
     "metadata": {},
     "output_type": "execute_result"
    }
   ],
   "source": [
    "numGalsperBin"
   ]
  },
  {
   "cell_type": "code",
   "execution_count": 155,
   "metadata": {
    "collapsed": false
   },
   "outputs": [],
   "source": [
    "lowz = 0.\n",
    "highz = 0.4\n",
    "\n",
    "def nextz(db, lowz, highz, numBins=28, maxz=1.4, minz=0.):\n",
    "    \n",
    "    \n",
    "    query = \"\"\"SELECT  COUNT(*) FROM galaxy WHERE redshift < {0}\"\"\".format(maxz)\n",
    "    db.execute(query)\n",
    "    numGals = db.fetchall()[0][0]\n",
    "    numGalsperBin = int(np.round(numGals / numBins))\n",
    "    \n",
    "    print('numGalsperBin', numGalsperBin)\n",
    "    query = \"\"\"SELECT TOP {0} id, redshift FROM galaxy WHERE REDSHIFT < {1} AND REDSHIFT > {2} ORDER BY REDSHIFT \"\"\"\\\n",
    "        .format(numGalsperBin, highz, lowz)\n",
    "    print(query)\n",
    "    db.execute(query)\n",
    "    x = db.fetchall()\n",
    "    return x"
   ]
  },
  {
   "cell_type": "code",
   "execution_count": 147,
   "metadata": {
    "collapsed": false
   },
   "outputs": [],
   "source": [
    "#lowzh = pd.DataFrame.from_records(nextz(db, 0., 0.4))\n",
    "highz = lowz + 0.25"
   ]
  },
  {
   "cell_type": "code",
   "execution_count": 148,
   "metadata": {
    "collapsed": false
   },
   "outputs": [
    {
     "name": "stdout",
     "output_type": "stream",
     "text": [
      "('numGalsperBin', 323835)\n",
      "SELECT TOP 323835 id, redshift FROM galaxy WHERE REDSHIFT < 0.495504304767 AND REDSHIFT > 0.245504304767 ORDER BY REDSHIFT \n"
     ]
    }
   ],
   "source": [
    "lowz = nextz(db, lowz, highz)"
   ]
  },
  {
   "cell_type": "code",
   "execution_count": 149,
   "metadata": {
    "collapsed": false
   },
   "outputs": [
    {
     "name": "stdout",
     "output_type": "stream",
     "text": [
      "0.310272693634\n"
     ]
    }
   ],
   "source": [
    "print lowz"
   ]
  },
  {
   "cell_type": "code",
   "execution_count": 160,
   "metadata": {
    "collapsed": false
   },
   "outputs": [
    {
     "name": "stdout",
     "output_type": "stream",
     "text": [
      "('numGalsperBin', 323835)\n",
      "SELECT TOP 323835 id, redshift FROM galaxy WHERE REDSHIFT < 0.4 AND REDSHIFT > 0.0 ORDER BY REDSHIFT \n",
      "0.245504304767 0.491008609533 323835 323835 0.245504304767\n",
      "('numGalsperBin', 323835)\n",
      "SELECT TOP 323835 id, redshift FROM galaxy WHERE REDSHIFT < 0.491008609533 AND REDSHIFT > 0.245504304767 ORDER BY REDSHIFT \n",
      "0.310272693634 0.375041082501 323835 647670 0.0647683888674\n",
      "('numGalsperBin', 323835)\n",
      "SELECT TOP 323835 id, redshift FROM galaxy WHERE REDSHIFT < 0.375041082501 AND REDSHIFT > 0.310272693634 ORDER BY REDSHIFT \n",
      "0.365355104208 0.420437514782 323835 971505 0.055082410574\n",
      "('numGalsperBin', 323835)\n",
      "SELECT TOP 323835 id, redshift FROM galaxy WHERE REDSHIFT < 0.420437514782 AND REDSHIFT > 0.365355104208 ORDER BY REDSHIFT \n",
      "0.41892439127 0.472493678331 323835 1295340 0.0535692870617\n",
      "('numGalsperBin', 323835)\n",
      "SELECT TOP 323835 id, redshift FROM galaxy WHERE REDSHIFT < 0.472493678331 AND REDSHIFT > 0.41892439127 ORDER BY REDSHIFT \n",
      "0.472493588924 0.526062786579 314225 1609565 0.0535691976547\n",
      "('numGalsperBin', 323835)\n",
      "SELECT TOP 323835 id, redshift FROM galaxy WHERE REDSHIFT < 0.526062786579 AND REDSHIFT > 0.472493588924 ORDER BY REDSHIFT \n",
      "0.508430421352 0.54436725378 323835 1933400 0.035936832428\n",
      "('numGalsperBin', 323835)\n",
      "SELECT TOP 323835 id, redshift FROM galaxy WHERE REDSHIFT < 0.54436725378 AND REDSHIFT > 0.508430421352 ORDER BY REDSHIFT \n",
      "0.544365823269 0.580301225185 246519 2179919 0.0359354019165\n",
      "('numGalsperBin', 323835)\n",
      "SELECT TOP 323835 id, redshift FROM galaxy WHERE REDSHIFT < 0.580301225185 AND REDSHIFT > 0.544365823269 ORDER BY REDSHIFT \n",
      "0.580299377441 0.616232931614 267374 2447293 0.0359335541725\n",
      "('numGalsperBin', 323835)\n",
      "SELECT TOP 323835 id, redshift FROM galaxy WHERE REDSHIFT < 0.616232931614 AND REDSHIFT > 0.580299377441 ORDER BY REDSHIFT \n",
      "0.616232693195 0.652166008949 255378 2702671 0.0359333157539\n",
      "('numGalsperBin', 323835)\n",
      "SELECT TOP 323835 id, redshift FROM galaxy WHERE REDSHIFT < 0.652166008949 AND REDSHIFT > 0.616232693195 ORDER BY REDSHIFT \n",
      "0.652164816856 0.688096940517 304422 3007093 0.035932123661\n",
      "('numGalsperBin', 323835)\n",
      "SELECT TOP 323835 id, redshift FROM galaxy WHERE REDSHIFT < 0.688096940517 AND REDSHIFT > 0.652164816856 ORDER BY REDSHIFT \n",
      "0.688096225262 0.724027633667 265745 3272838 0.0359314084053\n",
      "('numGalsperBin', 323835)\n",
      "SELECT TOP 323835 id, redshift FROM galaxy WHERE REDSHIFT < 0.724027633667 AND REDSHIFT > 0.688096225262 ORDER BY REDSHIFT \n",
      "0.724027097225 0.759957969189 277102 3549940 0.0359308719635\n",
      "('numGalsperBin', 323835)\n",
      "SELECT TOP 323835 id, redshift FROM galaxy WHERE REDSHIFT < 0.759957969189 AND REDSHIFT > 0.724027097225 ORDER BY REDSHIFT \n",
      "0.759957492352 0.795887887478 244961 3794901 0.0359303951263\n",
      "('numGalsperBin', 323835)\n",
      "SELECT TOP 323835 id, redshift FROM galaxy WHERE REDSHIFT < 0.795887887478 AND REDSHIFT > 0.759957492352 ORDER BY REDSHIFT \n",
      "0.795886397362 0.831815302372 268613 4063514 0.0359289050102\n",
      "('numGalsperBin', 323835)\n",
      "SELECT TOP 323835 id, redshift FROM galaxy WHERE REDSHIFT < 0.831815302372 AND REDSHIFT > 0.795886397362 ORDER BY REDSHIFT \n",
      "0.830925703049 0.865965008736 323835 4387349 0.035039305687\n",
      "('numGalsperBin', 323835)\n",
      "SELECT TOP 323835 id, redshift FROM galaxy WHERE REDSHIFT < 0.865965008736 AND REDSHIFT > 0.830925703049 ORDER BY REDSHIFT \n",
      "0.86596262455 0.900999546051 237698 4625047 0.0350369215012\n",
      "('numGalsperBin', 323835)\n",
      "SELECT TOP 323835 id, redshift FROM galaxy WHERE REDSHIFT < 0.900999546051 AND REDSHIFT > 0.86596262455 ORDER BY REDSHIFT \n",
      "0.900997400284 0.936032176018 247774 4872821 0.0350347757339\n",
      "('numGalsperBin', 323835)\n",
      "SELECT TOP 323835 id, redshift FROM galaxy WHERE REDSHIFT < 0.936032176018 AND REDSHIFT > 0.900997400284 ORDER BY REDSHIFT \n",
      "0.936029970646 0.971062541008 283061 5155882 0.0350325703621\n",
      "('numGalsperBin', 323835)\n",
      "SELECT TOP 323835 id, redshift FROM galaxy WHERE REDSHIFT < 0.971062541008 AND REDSHIFT > 0.936029970646 ORDER BY REDSHIFT \n",
      "0.97106051445 1.00609105825 255707 5411589 0.0350305438042\n",
      "('numGalsperBin', 323835)\n",
      "SELECT TOP 323835 id, redshift FROM galaxy WHERE REDSHIFT < 1.00609105825 AND REDSHIFT > 0.97106051445 ORDER BY REDSHIFT \n",
      "1.00608944893 1.04111838341 316714 5728303 0.0350289344788\n",
      "('numGalsperBin', 323835)\n",
      "SELECT TOP 323835 id, redshift FROM galaxy WHERE REDSHIFT < 1.04111838341 AND REDSHIFT > 1.00608944893 ORDER BY REDSHIFT \n",
      "1.04111742973 1.07614541054 307693 6035996 0.0350279808044\n",
      "('numGalsperBin', 323835)\n",
      "SELECT TOP 323835 id, redshift FROM galaxy WHERE REDSHIFT < 1.07614541054 AND REDSHIFT > 1.04111742973 ORDER BY REDSHIFT \n",
      "1.07614517212 1.11117291451 283635 6319631 0.0350277423859\n",
      "('numGalsperBin', 323835)\n",
      "SELECT TOP 323835 id, redshift FROM galaxy WHERE REDSHIFT < 1.11117291451 AND REDSHIFT > 1.07614517212 ORDER BY REDSHIFT \n",
      "1.11036860943 1.14459204674 323835 6643466 0.0342234373093\n",
      "('numGalsperBin', 323835)\n",
      "SELECT TOP 323835 id, redshift FROM galaxy WHERE REDSHIFT < 1.14459204674 AND REDSHIFT > 1.11036860943 ORDER BY REDSHIFT \n",
      "1.14459133148 1.17881405354 297052 6940518 0.0342227220535\n",
      "('numGalsperBin', 323835)\n",
      "SELECT TOP 323835 id, redshift FROM galaxy WHERE REDSHIFT < 1.17881405354 AND REDSHIFT > 1.14459133148 ORDER BY REDSHIFT \n",
      "1.17881143093 1.21303153038 311893 7252411 0.0342200994492\n",
      "('numGalsperBin', 323835)\n",
      "SELECT TOP 323835 id, redshift FROM galaxy WHERE REDSHIFT < 1.21303153038 AND REDSHIFT > 1.17881143093 ORDER BY REDSHIFT \n",
      "1.21302974224 1.24724805355 279748 7532159 0.0342183113098\n",
      "('numGalsperBin', 323835)\n",
      "SELECT TOP 323835 id, redshift FROM galaxy WHERE REDSHIFT < 1.24724805355 AND REDSHIFT > 1.21302974224 ORDER BY REDSHIFT \n",
      "1.2463363409 1.27964293957 323835 7855994 0.0333065986633\n",
      "('numGalsperBin', 323835)\n",
      "SELECT TOP 323835 id, redshift FROM galaxy WHERE REDSHIFT < 1.27964293957 AND REDSHIFT > 1.2463363409 ORDER BY REDSHIFT \n",
      "1.27964055538 1.31294476986 254486 8110480 0.0333042144775\n"
     ]
    }
   ],
   "source": [
    "lowz = 0. \n",
    "zvals = [lowz]\n",
    "highz = 0.4\n",
    "totGals = 0\n",
    "for i in range(numBins):\n",
    "    x = nextz(db, lowz, highz)\n",
    "    lowz = x[-1][-1]\n",
    "    numGals = len(x)\n",
    "    totGals += numGals\n",
    "    highz = 2 * lowz - zvals[-1]\n",
    "    zvals.append(lowz)\n",
    "    print lowz, highz, numGals, totGals, highz - lowz "
   ]
  },
  {
   "cell_type": "code",
   "execution_count": 158,
   "metadata": {
    "collapsed": true
   },
   "outputs": [],
   "source": [
    "query = \"\"\"SELECT  FROM galaxy WHERE redshift > 0. and redshift < 1.4\"\"\""
   ]
  },
  {
   "cell_type": "code",
   "execution_count": 159,
   "metadata": {
    "collapsed": false
   },
   "outputs": [
    {
     "name": "stdout",
     "output_type": "stream",
     "text": [
      "[(9067377,)]\n"
     ]
    }
   ],
   "source": [
    "db.execute(query)\n",
    "print(db.fetchall())"
   ]
  },
  {
   "cell_type": "code",
   "execution_count": 125,
   "metadata": {
    "collapsed": false
   },
   "outputs": [
    {
     "name": "stdout",
     "output_type": "stream",
     "text": [
      "('numGalsperBin', 323835)\n",
      "SELECT TOP 323835 id, redshift FROM galaxy WHERE REDSHIFT < 0.15 AND REDSHIFT > 0.149999797344 ORDER BY REDSHIFT \n"
     ]
    },
    {
     "data": {
      "text/plain": [
       "0.14999979734420776"
      ]
     },
     "execution_count": 125,
     "metadata": {},
     "output_type": "execute_result"
    }
   ],
   "source": [
    "nextz(db, lowz, highz=)"
   ]
  },
  {
   "cell_type": "code",
   "execution_count": null,
   "metadata": {
    "collapsed": false
   },
   "outputs": [],
   "source": [
    "df.redshift.plot()"
   ]
  },
  {
   "cell_type": "code",
   "execution_count": 89,
   "metadata": {
    "collapsed": false
   },
   "outputs": [
    {
     "data": {
      "text/plain": [
       "'DECLARE @NUMGALS INT, @LOW FLOAT, @HIGH FLOAT\\n           SET @NUMGALS = 323835.0\\n           SET @HIGH = 0.4\\n           SET @LOW = 0.0\\n           SELECT TOP 32835 id, redshift FROM galaxy WHERE REDSHIFT < @HIGH AND REDSHIFT > @LOW ORDER BY REDSHIFT '"
      ]
     },
     "execution_count": 89,
     "metadata": {},
     "output_type": "execute_result"
    }
   ],
   "source": [
    "query"
   ]
  },
  {
   "cell_type": "code",
   "execution_count": 90,
   "metadata": {
    "collapsed": false
   },
   "outputs": [],
   "source": [
    "db.execute(query)"
   ]
  },
  {
   "cell_type": "code",
   "execution_count": 91,
   "metadata": {
    "collapsed": false
   },
   "outputs": [],
   "source": [
    "x = db.fetchall()"
   ]
  },
  {
   "cell_type": "code",
   "execution_count": 93,
   "metadata": {
    "collapsed": false
   },
   "outputs": [
    {
     "data": {
      "text/plain": [
       "0.12368220090866089"
      ]
     },
     "execution_count": 93,
     "metadata": {},
     "output_type": "execute_result"
    }
   ],
   "source": [
    "x[-1][-1]"
   ]
  },
  {
   "cell_type": "code",
   "execution_count": 48,
   "metadata": {
    "collapsed": false
   },
   "outputs": [],
   "source": [
    "df = pd.DataFrame.from_records(x)"
   ]
  },
  {
   "cell_type": "code",
   "execution_count": 49,
   "metadata": {
    "collapsed": false
   },
   "outputs": [],
   "source": [
    "df.rename(columns=dict(zip(df.columns, ['galid', 'redshift'])), inplace=True)"
   ]
  },
  {
   "cell_type": "code",
   "execution_count": 50,
   "metadata": {
    "collapsed": false
   },
   "outputs": [
    {
     "data": {
      "text/plain": [
       "Index([u'galid', u'redshift'], dtype='object')"
      ]
     },
     "execution_count": 50,
     "metadata": {},
     "output_type": "execute_result"
    }
   ],
   "source": [
    "df.columns"
   ]
  },
  {
   "cell_type": "code",
   "execution_count": 51,
   "metadata": {
    "collapsed": false
   },
   "outputs": [
    {
     "data": {
      "text/plain": [
       "False"
      ]
     },
     "execution_count": 51,
     "metadata": {},
     "output_type": "execute_result"
    }
   ],
   "source": [
    "any(df.redshift.diff() < 0.)"
   ]
  },
  {
   "cell_type": "code",
   "execution_count": 52,
   "metadata": {
    "collapsed": false
   },
   "outputs": [
    {
     "data": {
      "text/plain": [
       "<matplotlib.axes._subplots.AxesSubplot at 0x116c8c210>"
      ]
     },
     "execution_count": 52,
     "metadata": {},
     "output_type": "execute_result"
    },
    {
     "data": {
      "image/png": "[encoded data removed]",
      "text/plain": [
       "<matplotlib.figure.Figure at 0x11ae18790>"
      ]
     },
     "metadata": {},
     "output_type": "display_data"
    }
   ],
   "source": [
    "df.redshift.hist()"
   ]
  },
  {
   "cell_type": "code",
   "execution_count": 164,
   "metadata": {
    "collapsed": true
   },
   "outputs": [],
   "source": [
    "query = \\\n",
    "\"\"\"SELECT g.redshift, count(*)\n",
    "FROM\n",
    "(Select top 1000000 redshift // 0.1 as num from galaxy) g\n",
    "group by g.redshift\n",
    "ORDER BY redshift\"\"\""
   ]
  },
  {
   "cell_type": "code",
   "execution_count": 177,
   "metadata": {
    "collapsed": false
   },
   "outputs": [
    {
     "ename": "ProgrammingError",
     "evalue": "(102, \"Incorrect syntax near '*'.DB-Lib error message 20018, severity 15:\\nGeneral SQL Server error: Check messages from the SQL Server\\nDB-Lib error message 20018, severity 15:\\nGeneral SQL Server error: Check messages from the SQL Server\\n\")",
     "output_type": "error",
     "traceback": [
      "\u001b[0;31m---------------------------------------------------------------------------\u001b[0m",
      "\u001b[0;31mProgrammingError\u001b[0m                          Traceback (most recent call last)",
      "\u001b[0;32m<ipython-input-177-eab7a2358583>\u001b[0m in \u001b[0;36m<module>\u001b[0;34m()\u001b[0m\n\u001b[1;32m      1\u001b[0m \u001b[0mquery\u001b[0m \u001b[0;34m=\u001b[0m \u001b[0;34m\"\"\"SELECT g.bin COUNT(*) (SELECT top 1000 FLOOR(redshift/0.1) as bin from galaxy) g GROUP BY g.bin\"\"\"\u001b[0m\u001b[0;34m\u001b[0m\u001b[0m\n\u001b[0;32m----> 2\u001b[0;31m \u001b[0mdb\u001b[0m\u001b[0;34m.\u001b[0m\u001b[0mexecute\u001b[0m\u001b[0;34m(\u001b[0m\u001b[0mquery\u001b[0m\u001b[0;34m)\u001b[0m\u001b[0;34m\u001b[0m\u001b[0m\n\u001b[0m\u001b[1;32m      3\u001b[0m \u001b[0mss\u001b[0m \u001b[0;34m=\u001b[0m \u001b[0mdb\u001b[0m\u001b[0;34m.\u001b[0m\u001b[0mfetchall\u001b[0m\u001b[0;34m(\u001b[0m\u001b[0;34m)\u001b[0m\u001b[0;34m\u001b[0m\u001b[0m\n",
      "\u001b[0;32mpymssql.pyx\u001b[0m in \u001b[0;36mpymssql.Cursor.execute (pymssql.c:7455)\u001b[0;34m()\u001b[0m\n",
      "\u001b[0;31mProgrammingError\u001b[0m: (102, \"Incorrect syntax near '*'.DB-Lib error message 20018, severity 15:\\nGeneral SQL Server error: Check messages from the SQL Server\\nDB-Lib error message 20018, severity 15:\\nGeneral SQL Server error: Check messages from the SQL Server\\n\")"
     ]
    }
   ],
   "source": [
    "query = \"\"\"SELECT g.bin COUNT(*) (SELECT top 1000 FLOOR(redshift/0.1) as bin from galaxy) g GROUP BY g.bin\"\"\"\n",
    "db.execute(query)\n",
    "ss = db.fetchall()"
   ]
  },
  {
   "cell_type": "code",
   "execution_count": 174,
   "metadata": {
    "collapsed": false
   },
   "outputs": [
    {
     "data": {
      "text/plain": [
       "[(0.0,),\n",
       " (0.0,),\n",
       " (0.0,),\n",
       " (0.0,),\n",
       " (0.0,),\n",
       " (0.0,),\n",
       " (0.0,),\n",
       " (0.0,),\n",
       " (0.0,),\n",
       " (0.0,),\n",
       " (0.0,),\n",
       " (0.0,),\n",
       " (0.0,),\n",
       " (0.0,),\n",
       " (0.0,),\n",
       " (0.0,),\n",
       " (0.0,),\n",
       " (0.0,),\n",
       " (0.0,),\n",
       " (0.0,),\n",
       " (0.0,),\n",
       " (0.0,),\n",
       " (0.0,),\n",
       " (0.0,),\n",
       " (0.0,),\n",
       " (0.0,),\n",
       " (0.0,),\n",
       " (0.0,),\n",
       " (0.0,),\n",
       " (0.0,),\n",
       " (0.0,),\n",
       " (0.0,),\n",
       " (0.0,),\n",
       " (0.0,),\n",
       " (0.0,),\n",
       " (0.0,),\n",
       " (0.0,),\n",
       " (0.0,),\n",
       " (0.0,),\n",
       " (0.0,),\n",
       " (0.0,),\n",
       " (0.0,),\n",
       " (0.0,),\n",
       " (0.0,),\n",
       " (0.0,),\n",
       " (0.0,),\n",
       " (0.0,),\n",
       " (0.0,),\n",
       " (0.0,),\n",
       " (0.0,),\n",
       " (0.0,),\n",
       " (0.0,),\n",
       " (0.0,),\n",
       " (0.0,),\n",
       " (0.0,),\n",
       " (0.0,),\n",
       " (0.0,),\n",
       " (0.0,),\n",
       " (0.0,),\n",
       " (0.0,),\n",
       " (0.0,),\n",
       " (0.0,),\n",
       " (0.0,),\n",
       " (0.0,),\n",
       " (0.0,),\n",
       " (0.0,),\n",
       " (0.0,),\n",
       " (0.0,),\n",
       " (0.0,),\n",
       " (0.0,),\n",
       " (0.0,),\n",
       " (0.0,),\n",
       " (0.0,),\n",
       " (0.0,),\n",
       " (0.0,),\n",
       " (0.0,),\n",
       " (0.0,),\n",
       " (0.0,),\n",
       " (0.0,),\n",
       " (0.0,),\n",
       " (0.0,),\n",
       " (0.0,),\n",
       " (0.0,),\n",
       " (0.0,),\n",
       " (0.0,),\n",
       " (0.0,),\n",
       " (0.0,),\n",
       " (0.0,),\n",
       " (0.0,),\n",
       " (0.0,),\n",
       " (0.0,),\n",
       " (0.0,),\n",
       " (0.0,),\n",
       " (0.0,),\n",
       " (0.0,),\n",
       " (0.0,),\n",
       " (0.0,),\n",
       " (0.0,),\n",
       " (0.0,),\n",
       " (0.0,),\n",
       " (0.0,),\n",
       " (0.0,),\n",
       " (0.0,),\n",
       " (0.0,),\n",
       " (0.0,),\n",
       " (0.0,),\n",
       " (0.0,),\n",
       " (0.0,),\n",
       " (0.0,),\n",
       " (0.0,),\n",
       " (0.0,),\n",
       " (0.0,),\n",
       " (0.0,),\n",
       " (0.0,),\n",
       " (0.0,),\n",
       " (0.0,),\n",
       " (0.0,),\n",
       " (0.0,),\n",
       " (0.0,),\n",
       " (0.0,),\n",
       " (0.0,),\n",
       " (0.0,),\n",
       " (0.0,),\n",
       " (0.0,),\n",
       " (0.0,),\n",
       " (0.0,),\n",
       " (0.0,),\n",
       " (0.0,),\n",
       " (0.0,),\n",
       " (0.0,),\n",
       " (0.0,),\n",
       " (0.0,),\n",
       " (0.0,),\n",
       " (0.0,),\n",
       " (0.0,),\n",
       " (0.0,),\n",
       " (0.0,),\n",
       " (0.0,),\n",
       " (0.0,),\n",
       " (0.0,),\n",
       " (0.0,),\n",
       " (0.0,),\n",
       " (0.0,),\n",
       " (0.0,),\n",
       " (0.0,),\n",
       " (0.0,),\n",
       " (0.0,),\n",
       " (0.0,),\n",
       " (0.0,),\n",
       " (0.0,),\n",
       " (0.0,),\n",
       " (0.0,),\n",
       " (0.0,),\n",
       " (0.0,),\n",
       " (0.0,),\n",
       " (0.0,),\n",
       " (0.0,),\n",
       " (0.0,),\n",
       " (0.0,),\n",
       " (0.0,),\n",
       " (0.0,),\n",
       " (0.0,),\n",
       " (0.0,),\n",
       " (0.0,),\n",
       " (0.0,),\n",
       " (0.0,),\n",
       " (0.0,),\n",
       " (0.0,),\n",
       " (0.0,),\n",
       " (0.0,),\n",
       " (0.0,),\n",
       " (0.0,),\n",
       " (0.0,),\n",
       " (0.0,),\n",
       " (0.0,),\n",
       " (0.0,),\n",
       " (0.0,),\n",
       " (0.0,),\n",
       " (0.0,),\n",
       " (0.0,),\n",
       " (0.0,),\n",
       " (0.0,),\n",
       " (0.0,),\n",
       " (0.0,),\n",
       " (0.0,),\n",
       " (0.0,),\n",
       " (0.0,),\n",
       " (0.0,),\n",
       " (0.0,),\n",
       " (0.0,),\n",
       " (0.0,),\n",
       " (0.0,),\n",
       " (0.0,),\n",
       " (0.0,),\n",
       " (0.0,),\n",
       " (0.0,),\n",
       " (0.0,),\n",
       " (0.0,),\n",
       " (0.0,),\n",
       " (0.0,),\n",
       " (0.0,),\n",
       " (0.0,),\n",
       " (0.0,),\n",
       " (0.0,),\n",
       " (0.0,),\n",
       " (0.0,),\n",
       " (0.0,),\n",
       " (0.0,),\n",
       " (0.0,),\n",
       " (0.0,),\n",
       " (0.0,),\n",
       " (0.0,),\n",
       " (0.0,),\n",
       " (0.0,),\n",
       " (0.0,),\n",
       " (0.0,),\n",
       " (0.0,),\n",
       " (0.0,),\n",
       " (0.0,),\n",
       " (0.0,),\n",
       " (0.0,),\n",
       " (0.0,),\n",
       " (0.0,),\n",
       " (0.0,),\n",
       " (0.0,),\n",
       " (0.0,),\n",
       " (0.0,),\n",
       " (0.0,),\n",
       " (0.0,),\n",
       " (0.0,),\n",
       " (0.0,),\n",
       " (0.0,),\n",
       " (0.0,),\n",
       " (0.0,),\n",
       " (0.0,),\n",
       " (0.0,),\n",
       " (0.0,),\n",
       " (0.0,),\n",
       " (0.0,),\n",
       " (0.0,),\n",
       " (0.0,),\n",
       " (0.0,),\n",
       " (0.0,),\n",
       " (0.0,),\n",
       " (0.0,),\n",
       " (0.0,),\n",
       " (0.0,),\n",
       " (0.0,),\n",
       " (0.0,),\n",
       " (0.0,),\n",
       " (0.0,),\n",
       " (0.0,),\n",
       " (0.0,),\n",
       " (0.0,),\n",
       " (0.0,),\n",
       " (0.0,),\n",
       " (0.0,),\n",
       " (0.0,),\n",
       " (0.0,),\n",
       " (0.0,),\n",
       " (0.0,),\n",
       " (0.0,),\n",
       " (0.0,),\n",
       " (0.0,),\n",
       " (0.0,),\n",
       " (0.0,),\n",
       " (0.0,),\n",
       " (0.0,),\n",
       " (0.0,),\n",
       " (0.0,),\n",
       " (0.0,),\n",
       " (0.0,),\n",
       " (0.0,),\n",
       " (0.0,),\n",
       " (0.0,),\n",
       " (0.0,),\n",
       " (0.0,),\n",
       " (0.0,),\n",
       " (0.0,),\n",
       " (0.0,),\n",
       " (0.0,),\n",
       " (0.0,),\n",
       " (0.0,),\n",
       " (0.0,),\n",
       " (0.0,),\n",
       " (0.0,),\n",
       " (0.0,),\n",
       " (0.0,),\n",
       " (0.0,),\n",
       " (0.0,),\n",
       " (0.0,),\n",
       " (0.0,),\n",
       " (0.0,),\n",
       " (0.0,),\n",
       " (0.0,),\n",
       " (0.0,),\n",
       " (0.0,),\n",
       " (0.0,),\n",
       " (0.0,),\n",
       " (0.0,),\n",
       " (0.0,),\n",
       " (0.0,),\n",
       " (0.0,),\n",
       " (0.0,),\n",
       " (0.0,),\n",
       " (0.0,),\n",
       " (0.0,),\n",
       " (0.0,),\n",
       " (0.0,),\n",
       " (0.0,),\n",
       " (0.0,),\n",
       " (0.0,),\n",
       " (0.0,),\n",
       " (0.0,),\n",
       " (0.0,),\n",
       " (0.0,),\n",
       " (0.0,),\n",
       " (0.0,),\n",
       " (0.0,),\n",
       " (0.0,),\n",
       " (0.0,),\n",
       " (0.0,),\n",
       " (0.0,),\n",
       " (0.0,),\n",
       " (0.0,),\n",
       " (0.0,),\n",
       " (0.0,),\n",
       " (0.0,),\n",
       " (0.0,),\n",
       " (0.0,),\n",
       " (0.0,),\n",
       " (0.0,),\n",
       " (0.0,),\n",
       " (0.0,),\n",
       " (0.0,),\n",
       " (0.0,),\n",
       " (0.0,),\n",
       " (0.0,),\n",
       " (0.0,),\n",
       " (0.0,),\n",
       " (0.0,),\n",
       " (0.0,),\n",
       " (0.0,),\n",
       " (0.0,),\n",
       " (0.0,),\n",
       " (0.0,),\n",
       " (0.0,),\n",
       " (0.0,),\n",
       " (0.0,),\n",
       " (0.0,),\n",
       " (0.0,),\n",
       " (0.0,),\n",
       " (0.0,),\n",
       " (0.0,),\n",
       " (0.0,),\n",
       " (0.0,),\n",
       " (0.0,),\n",
       " (0.0,),\n",
       " (0.0,),\n",
       " (0.0,),\n",
       " (0.0,),\n",
       " (0.0,),\n",
       " (0.0,),\n",
       " (0.0,),\n",
       " (0.0,),\n",
       " (0.0,),\n",
       " (0.0,),\n",
       " (0.0,),\n",
       " (0.0,),\n",
       " (0.0,),\n",
       " (0.0,),\n",
       " (0.0,),\n",
       " (0.0,),\n",
       " (0.0,),\n",
       " (0.0,),\n",
       " (0.0,),\n",
       " (0.0,),\n",
       " (0.0,),\n",
       " (0.0,),\n",
       " (0.0,),\n",
       " (0.0,),\n",
       " (0.0,),\n",
       " (0.0,),\n",
       " (0.0,),\n",
       " (0.0,),\n",
       " (0.0,),\n",
       " (0.0,),\n",
       " (0.0,),\n",
       " (0.0,),\n",
       " (0.0,),\n",
       " (0.0,),\n",
       " (0.0,),\n",
       " (0.0,),\n",
       " (0.0,),\n",
       " (0.0,),\n",
       " (0.0,),\n",
       " (0.0,),\n",
       " (0.0,),\n",
       " (0.0,),\n",
       " (0.0,),\n",
       " (0.0,),\n",
       " (0.0,),\n",
       " (0.0,),\n",
       " (0.0,),\n",
       " (0.0,),\n",
       " (0.0,),\n",
       " (0.0,),\n",
       " (0.0,),\n",
       " (0.0,),\n",
       " (0.0,),\n",
       " (0.0,),\n",
       " (0.0,),\n",
       " (0.0,),\n",
       " (0.0,),\n",
       " (0.0,),\n",
       " (0.0,),\n",
       " (0.0,),\n",
       " (0.0,),\n",
       " (0.0,),\n",
       " (0.0,),\n",
       " (0.0,),\n",
       " (0.0,),\n",
       " (0.0,),\n",
       " (0.0,),\n",
       " (0.0,),\n",
       " (0.0,),\n",
       " (0.0,),\n",
       " (0.0,),\n",
       " (0.0,),\n",
       " (0.0,),\n",
       " (0.0,),\n",
       " (0.0,),\n",
       " (0.0,),\n",
       " (0.0,),\n",
       " (0.0,),\n",
       " (0.0,),\n",
       " (0.0,),\n",
       " (0.0,),\n",
       " (0.0,),\n",
       " (0.0,),\n",
       " (0.0,),\n",
       " (0.0,),\n",
       " (0.0,),\n",
       " (0.0,),\n",
       " (0.0,),\n",
       " (0.0,),\n",
       " (0.0,),\n",
       " (0.0,),\n",
       " (0.0,),\n",
       " (0.0,),\n",
       " (0.0,),\n",
       " (0.0,),\n",
       " (0.0,),\n",
       " (0.0,),\n",
       " (0.0,),\n",
       " (0.0,),\n",
       " (0.0,),\n",
       " (0.0,),\n",
       " (0.0,),\n",
       " (0.0,),\n",
       " (0.0,),\n",
       " (0.0,),\n",
       " (0.0,),\n",
       " (0.0,),\n",
       " (0.0,),\n",
       " (0.0,),\n",
       " (0.0,),\n",
       " (0.0,),\n",
       " (0.0,),\n",
       " (0.0,),\n",
       " (0.0,),\n",
       " (0.0,),\n",
       " (0.0,),\n",
       " (0.0,),\n",
       " (0.0,),\n",
       " (0.0,),\n",
       " (0.0,),\n",
       " (0.0,),\n",
       " (0.0,),\n",
       " (0.0,),\n",
       " (0.0,),\n",
       " (0.0,),\n",
       " (0.0,),\n",
       " (0.0,),\n",
       " (0.0,),\n",
       " (0.0,),\n",
       " (0.0,),\n",
       " (0.0,),\n",
       " (0.0,),\n",
       " (0.0,),\n",
       " (0.0,),\n",
       " (0.0,),\n",
       " (0.0,),\n",
       " (0.0,),\n",
       " (0.0,),\n",
       " (0.0,),\n",
       " (0.0,),\n",
       " (0.0,),\n",
       " (0.0,),\n",
       " (0.0,),\n",
       " (0.0,),\n",
       " (0.0,),\n",
       " (0.0,),\n",
       " (0.0,),\n",
       " (0.0,),\n",
       " (0.0,),\n",
       " (0.0,),\n",
       " (0.0,),\n",
       " (0.0,),\n",
       " (0.0,),\n",
       " (0.0,),\n",
       " (0.0,),\n",
       " (0.0,),\n",
       " (0.0,),\n",
       " (0.0,),\n",
       " (0.0,),\n",
       " (0.0,),\n",
       " (0.0,),\n",
       " (0.0,),\n",
       " (0.0,),\n",
       " (0.0,),\n",
       " (0.0,),\n",
       " (0.0,),\n",
       " (0.0,),\n",
       " (0.0,),\n",
       " (0.0,),\n",
       " (0.0,),\n",
       " (0.0,),\n",
       " (0.0,),\n",
       " (0.0,),\n",
       " (0.0,),\n",
       " (0.0,),\n",
       " (0.0,),\n",
       " (0.0,),\n",
       " (0.0,),\n",
       " (0.0,),\n",
       " (0.0,),\n",
       " (0.0,),\n",
       " (0.0,),\n",
       " (0.0,),\n",
       " (0.0,),\n",
       " (0.0,),\n",
       " (0.0,),\n",
       " (0.0,),\n",
       " (0.0,),\n",
       " (0.0,),\n",
       " (0.0,),\n",
       " (0.0,),\n",
       " (0.0,),\n",
       " (0.0,),\n",
       " (0.0,),\n",
       " (0.0,),\n",
       " (0.0,),\n",
       " (0.0,),\n",
       " (0.0,),\n",
       " (0.0,),\n",
       " (0.0,),\n",
       " (0.0,),\n",
       " (0.0,),\n",
       " (0.0,),\n",
       " (0.0,),\n",
       " (0.0,),\n",
       " (0.0,),\n",
       " (0.0,),\n",
       " (0.0,),\n",
       " (0.0,),\n",
       " (0.0,),\n",
       " (0.0,),\n",
       " (0.0,),\n",
       " (0.0,),\n",
       " (0.0,),\n",
       " (0.0,),\n",
       " (0.0,),\n",
       " (0.0,),\n",
       " (0.0,),\n",
       " (0.0,),\n",
       " (0.0,),\n",
       " (0.0,),\n",
       " (0.0,),\n",
       " (0.0,),\n",
       " (0.0,),\n",
       " (0.0,),\n",
       " (0.0,),\n",
       " (0.0,),\n",
       " (0.0,),\n",
       " (0.0,),\n",
       " (0.0,),\n",
       " (0.0,),\n",
       " (0.0,),\n",
       " (0.0,),\n",
       " (0.0,),\n",
       " (0.0,),\n",
       " (0.0,),\n",
       " (0.0,),\n",
       " (0.0,),\n",
       " (0.0,),\n",
       " (0.0,),\n",
       " (0.0,),\n",
       " (0.0,),\n",
       " (0.0,),\n",
       " (0.0,),\n",
       " (0.0,),\n",
       " (0.0,),\n",
       " (0.0,),\n",
       " (0.0,),\n",
       " (0.0,),\n",
       " (0.0,),\n",
       " (0.0,),\n",
       " (0.0,),\n",
       " (0.0,),\n",
       " (0.0,),\n",
       " (0.0,),\n",
       " (0.0,),\n",
       " (0.0,),\n",
       " (0.0,),\n",
       " (0.0,),\n",
       " (0.0,),\n",
       " (0.0,),\n",
       " (0.0,),\n",
       " (0.0,),\n",
       " (0.0,),\n",
       " (0.0,),\n",
       " (0.0,),\n",
       " (0.0,),\n",
       " (0.0,),\n",
       " (0.0,),\n",
       " (0.0,),\n",
       " (0.0,),\n",
       " (0.0,),\n",
       " (0.0,),\n",
       " (0.0,),\n",
       " (0.0,),\n",
       " (0.0,),\n",
       " (0.0,),\n",
       " (0.0,),\n",
       " (0.0,),\n",
       " (0.0,),\n",
       " (0.0,),\n",
       " (0.0,),\n",
       " (0.0,),\n",
       " (0.0,),\n",
       " (0.0,),\n",
       " (0.0,),\n",
       " (0.0,),\n",
       " (0.0,),\n",
       " (0.0,),\n",
       " (0.0,),\n",
       " (0.0,),\n",
       " (0.0,),\n",
       " (0.0,),\n",
       " (0.0,),\n",
       " (0.0,),\n",
       " (0.0,),\n",
       " (0.0,),\n",
       " (0.0,),\n",
       " (0.0,),\n",
       " (0.0,),\n",
       " (0.0,),\n",
       " (0.0,),\n",
       " (0.0,),\n",
       " (0.0,),\n",
       " (0.0,),\n",
       " (0.0,),\n",
       " (0.0,),\n",
       " (0.0,),\n",
       " (0.0,),\n",
       " (0.0,),\n",
       " (0.0,),\n",
       " (0.0,),\n",
       " (0.0,),\n",
       " (0.0,),\n",
       " (0.0,),\n",
       " (0.0,),\n",
       " (0.0,),\n",
       " (0.0,),\n",
       " (0.0,),\n",
       " (0.0,),\n",
       " (0.0,),\n",
       " (0.0,),\n",
       " (0.0,),\n",
       " (0.0,),\n",
       " (0.0,),\n",
       " (0.0,),\n",
       " (0.0,),\n",
       " (0.0,),\n",
       " (0.0,),\n",
       " (0.0,),\n",
       " (0.0,),\n",
       " (0.0,),\n",
       " (0.0,),\n",
       " (0.0,),\n",
       " (0.0,),\n",
       " (0.0,),\n",
       " (0.0,),\n",
       " (0.0,),\n",
       " (0.0,),\n",
       " (0.0,),\n",
       " (0.0,),\n",
       " (0.0,),\n",
       " (0.0,),\n",
       " (0.0,),\n",
       " (0.0,),\n",
       " (0.0,),\n",
       " (0.0,),\n",
       " (0.0,),\n",
       " (0.0,),\n",
       " (0.0,),\n",
       " (0.0,),\n",
       " (0.0,),\n",
       " (0.0,),\n",
       " (0.0,),\n",
       " (0.0,),\n",
       " (0.0,),\n",
       " (0.0,),\n",
       " (0.0,),\n",
       " (0.0,),\n",
       " (0.0,),\n",
       " (0.0,),\n",
       " (0.0,),\n",
       " (0.0,),\n",
       " (0.0,),\n",
       " (0.0,),\n",
       " (0.0,),\n",
       " (0.0,),\n",
       " (0.0,),\n",
       " (0.0,),\n",
       " (0.0,),\n",
       " (0.0,),\n",
       " (0.0,),\n",
       " (0.0,),\n",
       " (0.0,),\n",
       " (0.0,),\n",
       " (0.0,),\n",
       " (0.0,),\n",
       " (0.0,),\n",
       " (0.0,),\n",
       " (0.0,),\n",
       " (0.0,),\n",
       " (0.0,),\n",
       " (0.0,),\n",
       " (0.0,),\n",
       " (0.0,),\n",
       " (0.0,),\n",
       " (0.0,),\n",
       " (0.0,),\n",
       " (0.0,),\n",
       " (0.0,),\n",
       " (0.0,),\n",
       " (0.0,),\n",
       " (0.0,),\n",
       " (0.0,),\n",
       " (0.0,),\n",
       " (0.0,),\n",
       " (0.0,),\n",
       " (0.0,),\n",
       " (0.0,),\n",
       " (0.0,),\n",
       " (0.0,),\n",
       " (0.0,),\n",
       " (0.0,),\n",
       " (0.0,),\n",
       " (0.0,),\n",
       " (0.0,),\n",
       " (0.0,),\n",
       " (0.0,),\n",
       " (0.0,),\n",
       " (0.0,),\n",
       " (0.0,),\n",
       " (0.0,),\n",
       " (0.0,),\n",
       " (0.0,),\n",
       " (0.0,),\n",
       " (0.0,),\n",
       " (0.0,),\n",
       " (0.0,),\n",
       " (0.0,),\n",
       " (0.0,),\n",
       " (0.0,),\n",
       " (0.0,),\n",
       " (0.0,),\n",
       " (0.0,),\n",
       " (0.0,),\n",
       " (0.0,),\n",
       " (0.0,),\n",
       " (0.0,),\n",
       " (0.0,),\n",
       " (0.0,),\n",
       " (0.0,),\n",
       " (0.0,),\n",
       " (0.0,),\n",
       " (0.0,),\n",
       " (0.0,),\n",
       " (0.0,),\n",
       " (0.0,),\n",
       " (0.0,),\n",
       " (0.0,),\n",
       " (0.0,),\n",
       " (0.0,),\n",
       " (0.0,),\n",
       " (0.0,),\n",
       " (0.0,),\n",
       " (0.0,),\n",
       " (0.0,),\n",
       " (0.0,),\n",
       " (0.0,),\n",
       " (0.0,),\n",
       " (0.0,),\n",
       " (0.0,),\n",
       " (0.0,),\n",
       " (0.0,),\n",
       " (0.0,),\n",
       " (0.0,),\n",
       " (0.0,),\n",
       " (0.0,),\n",
       " (0.0,),\n",
       " (0.0,),\n",
       " (0.0,),\n",
       " (0.0,),\n",
       " (0.0,),\n",
       " (0.0,),\n",
       " (0.0,),\n",
       " (0.0,),\n",
       " (0.0,),\n",
       " (0.0,),\n",
       " (0.0,),\n",
       " (0.0,),\n",
       " (0.0,),\n",
       " (0.0,),\n",
       " (0.0,),\n",
       " (0.0,),\n",
       " (0.0,),\n",
       " (0.0,),\n",
       " (0.0,),\n",
       " (0.0,),\n",
       " (0.0,),\n",
       " (0.0,),\n",
       " (0.0,),\n",
       " (0.0,),\n",
       " (0.0,),\n",
       " (0.0,),\n",
       " (0.0,),\n",
       " (0.0,),\n",
       " (0.0,),\n",
       " (0.0,),\n",
       " (0.0,),\n",
       " (0.0,),\n",
       " (0.0,),\n",
       " (0.0,),\n",
       " (0.0,),\n",
       " (0.0,),\n",
       " (0.0,),\n",
       " (0.0,),\n",
       " (0.0,),\n",
       " (0.0,),\n",
       " (0.0,),\n",
       " (0.0,),\n",
       " (0.0,),\n",
       " (0.0,),\n",
       " (0.0,),\n",
       " (0.0,),\n",
       " (0.0,),\n",
       " (0.0,),\n",
       " (0.0,),\n",
       " (0.0,),\n",
       " (0.0,),\n",
       " (0.0,),\n",
       " (0.0,),\n",
       " (0.0,),\n",
       " (0.0,),\n",
       " (0.0,),\n",
       " (0.0,),\n",
       " (0.0,),\n",
       " (0.0,),\n",
       " (0.0,),\n",
       " (0.0,),\n",
       " (0.0,),\n",
       " (0.0,),\n",
       " (0.0,),\n",
       " (0.0,),\n",
       " (0.0,),\n",
       " (0.0,),\n",
       " (0.0,),\n",
       " (0.0,),\n",
       " (0.0,),\n",
       " (0.0,),\n",
       " (0.0,),\n",
       " (0.0,),\n",
       " (0.0,),\n",
       " (0.0,),\n",
       " (0.0,),\n",
       " (0.0,),\n",
       " (0.0,),\n",
       " (0.0,),\n",
       " (0.0,),\n",
       " (0.0,),\n",
       " (0.0,),\n",
       " (0.0,),\n",
       " (0.0,),\n",
       " (0.0,),\n",
       " (0.0,),\n",
       " (0.0,),\n",
       " (0.0,),\n",
       " (0.0,),\n",
       " (0.0,),\n",
       " (0.0,),\n",
       " (0.0,),\n",
       " (0.0,),\n",
       " (0.0,),\n",
       " (0.0,),\n",
       " (0.0,),\n",
       " (0.0,),\n",
       " (0.0,),\n",
       " (0.0,),\n",
       " (0.0,),\n",
       " (0.0,),\n",
       " (0.0,),\n",
       " (0.0,),\n",
       " (0.0,),\n",
       " (0.0,),\n",
       " (0.0,),\n",
       " (0.0,),\n",
       " (0.0,),\n",
       " (0.0,),\n",
       " (0.0,),\n",
       " (0.0,),\n",
       " (0.0,),\n",
       " (0.0,),\n",
       " (0.0,),\n",
       " (0.0,),\n",
       " (0.0,),\n",
       " (0.0,),\n",
       " (0.0,),\n",
       " (0.0,),\n",
       " (0.0,),\n",
       " (0.0,),\n",
       " (0.0,),\n",
       " (0.0,),\n",
       " (0.0,),\n",
       " (0.0,),\n",
       " (0.0,),\n",
       " (0.0,),\n",
       " (0.0,),\n",
       " (0.0,),\n",
       " (0.0,),\n",
       " (0.0,),\n",
       " (0.0,),\n",
       " (0.0,),\n",
       " (0.0,),\n",
       " (0.0,),\n",
       " (0.0,),\n",
       " (0.0,),\n",
       " (0.0,),\n",
       " (0.0,),\n",
       " (0.0,),\n",
       " (0.0,),\n",
       " (0.0,),\n",
       " (0.0,),\n",
       " (0.0,),\n",
       " (0.0,),\n",
       " (0.0,),\n",
       " (0.0,),\n",
       " (0.0,),\n",
       " (0.0,),\n",
       " (0.0,),\n",
       " (0.0,),\n",
       " (0.0,),\n",
       " (0.0,),\n",
       " (0.0,),\n",
       " (0.0,),\n",
       " (0.0,),\n",
       " (0.0,),\n",
       " (0.0,),\n",
       " (0.0,),\n",
       " (0.0,),\n",
       " (0.0,),\n",
       " (0.0,),\n",
       " (0.0,),\n",
       " (0.0,),\n",
       " (0.0,),\n",
       " (0.0,),\n",
       " (0.0,),\n",
       " (0.0,),\n",
       " (0.0,),\n",
       " (0.0,),\n",
       " (0.0,),\n",
       " (0.0,),\n",
       " (0.0,),\n",
       " (0.0,),\n",
       " (0.0,),\n",
       " (0.0,),\n",
       " (0.0,),\n",
       " (0.0,),\n",
       " (0.0,),\n",
       " (0.0,),\n",
       " (0.0,),\n",
       " (0.0,),\n",
       " (0.0,),\n",
       " (0.0,),\n",
       " (0.0,),\n",
       " (0.0,)]"
      ]
     },
     "execution_count": 174,
     "metadata": {},
     "output_type": "execute_result"
    }
   ],
   "source": [
    "ss"
   ]
  },
  {
   "cell_type": "code",
   "execution_count": null,
   "metadata": {
    "collapsed": true
   },
   "outputs": [],
   "source": [
    "fig, ax = plt.subplots()\n",
    "ax.axhline(2.)"
   ]
  },
  {
   "cell_type": "code",
   "execution_count": null,
   "metadata": {
    "collapsed": true
   },
   "outputs": [],
   "source": []
  }
 ],
 "metadata": {
  "kernelspec": {
   "display_name": "Python 2",
   "language": "python",
   "name": "python2"
  },
  "language_info": {
   "codemirror_mode": {
    "name": "ipython",
    "version": 2
   },
   "file_extension": ".py",
   "mimetype": "text/x-python",
   "name": "python",
   "nbconvert_exporter": "python",
   "pygments_lexer": "ipython2",
   "version": "2.7.11"
  }
 },
 "nbformat": 4,
 "nbformat_minor": 0
}
