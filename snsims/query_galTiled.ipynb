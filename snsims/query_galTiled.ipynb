{
 "cells": [
  {
   "cell_type": "code",
   "execution_count": 52,
   "metadata": {
    "collapsed": true
   },
   "outputs": [],
   "source": [
    "import numpy as np\n",
    "import pymssql\n",
    "import pandas as pd"
   ]
  },
  {
   "cell_type": "code",
   "execution_count": 194,
   "metadata": {
    "collapsed": true
   },
   "outputs": [],
   "source": [
    "DBConnection = pymssql.connect(user=\"LSST-2\", password=\"L$$TUser\", database=\"LSSTCATSIM\", port='51433')"
   ]
  },
  {
   "cell_type": "code",
   "execution_count": 195,
   "metadata": {
    "collapsed": true
   },
   "outputs": [],
   "source": [
    "db = DBConnection.cursor()"
   ]
  },
  {
   "cell_type": "code",
   "execution_count": 199,
   "metadata": {
    "collapsed": false
   },
   "outputs": [],
   "source": [
    "def get_colnames(db, tableName, colNamePos=3, colList=range(7)):\n",
    "    \"\"\"\n",
    "    return the colNames in the table by reading the schema.\n",
    "    \n",
    "    Parameters\n",
    "    ----------\n",
    "    db : database Connection cursor, mandatory\n",
    "        cursor opened to the database in which the table is located\n",
    "    tableName : string, mandatory\n",
    "        Name of the table,\n",
    "    colNamePos : integer, optional, defaults to 3\n",
    "        The hierarchy of cols\n",
    "    colList : List of integers, optional, defaults to range(7)\n",
    "        indexes corresponding to the desired columns\n",
    "    \"\"\"\n",
    "    query = \"\"\"select * from information_schema.columns where table_name = '{0}'\"\"\".format(tableName)\n",
    "    db.execute(query)\n",
    "    x = db.fetchall()\n",
    "    x = np.array([xx[colNamePos] for xx in x])\n",
    "    \n",
    "    if colList is None:\n",
    "        return x\n",
    "    return x[colList]\n",
    "\n",
    "def get_table(db, tableName, colnames=None, index='id'):\n",
    "    \"\"\"\n",
    "    \n",
    "    \"\"\"\n",
    "    if colnames is None:\n",
    "        colNames = get_colnames(db, tableName)\n",
    "    \n",
    "    cols = \", \".join(colnames)\n",
    "    query = \"\"\"SELECT {0} FROM [LSSTCATSIM].[dbo].[{1}]\"\"\".format(cols, tableName)\n",
    "    db.execute(query)\n",
    "    x = db.fetchall()\n",
    "    df = pd.DataFrame.from_records(x, columns=colnames, index=index)\n",
    "    return df"
   ]
  },
  {
   "cell_type": "code",
   "execution_count": 201,
   "metadata": {
    "collapsed": false
   },
   "outputs": [
    {
     "data": {
      "text/plain": [
       "array([u'htmid', u'galid', u'ra', u'dec', u'redshift', u'rad_vel', u'u_ab',\n",
       "       u'g_ab', u'r_ab', u'i_ab', u'z_ab', u'y_ab', u'sedid_bulge',\n",
       "       u'sedid_disk', u'sedid_agn', u'av_b', u'rv_b', u'ext_model_b',\n",
       "       u'av_d', u'rv_d', u'ext_model_d', u'glon', u'glat', u'pa_bulge',\n",
       "       u'pa_disk', u'inc_bulge_deg', u'inc_disk_deg', u'a_b', u'b_b',\n",
       "       u'bulge_n', u'bra', u'bdec', u'a_d', u'b_d', u'disk_n', u'dra',\n",
       "       u'ddec', u'agnra', u'agndec', u'versionid', u'fluxnorm_bulge',\n",
       "       u'fluxnorm_agn', u'absmag_r_total', u'gal_type', u'mass_stellar',\n",
       "       u'mass_gas', u'mass_halo', u'ug_total_rest', u'gr_total_rest',\n",
       "       u'ri_total_rest', u'iz_total_rest', u'zy_total_rest', u'isagn',\n",
       "       u'agn_tau', u'agn_sfu', u'agn_sfg', u'agn_sfr', u'agn_sfi',\n",
       "       u'agn_sfz', u'agn_sfy', u'fluxnorm_disk', u'magnorm_bulge',\n",
       "       u'magnorm_disk', u'magnorm_agn', u'cx', u'cy', u'cz', u'geopoint',\n",
       "       u'sedname_agn', u'sedname_bulge', u'sedname_disk', u'varsimobjid',\n",
       "       u'varParamStr', u'type', u'mass_bulge', u'BulgeMinusDiskLSSTr',\n",
       "       u'log10BulgeToTotLSSTrFlux', u'AbsiMag', u'AbsiMag0_1', u'z0_1umg',\n",
       "       u'z0_1gmr', u'z0_1rmi', u'z0_1imz', u'z0_1zmy', u'ba_disk',\n",
       "       u'ba_bulge', u'DiskHalfLightRadius', u'DiskLSSTu', u'DiskLSSTg',\n",
       "       u'DiskLSSTr', u'DiskLSSTi', u'DiskLSSTz', u'DiskLSSTy',\n",
       "       u'BulgeLSSTu', u'BulgeLSSTg', u'BulgeLSSTr', u'BulgeLSSTi',\n",
       "       u'BulgeLSSTz', u'BulgeLSSTy', u'AGNID', u'BulgeHalfLightRadius',\n",
       "       u't0_agn', u'id', u'myid'], \n",
       "      dtype='<U24')"
      ]
     },
     "execution_count": 201,
     "metadata": {},
     "output_type": "execute_result"
    }
   ],
   "source": [
    "get_colnames(db, 'galaxy', colList=None)"
   ]
  },
  {
   "cell_type": "code",
   "execution_count": 82,
   "metadata": {
    "collapsed": false
   },
   "outputs": [],
   "source": [
    "galTiles = get_table(db, 'tiles', colnames=x)#.apply(np.radians)"
   ]
  },
  {
   "cell_type": "code",
   "execution_count": 83,
   "metadata": {
    "collapsed": false
   },
   "outputs": [
    {
     "data": {
      "text/html": [
       "<div>\n",
       "<table border=\"1\" class=\"dataframe\">\n",
       "  <thead>\n",
       "    <tr style=\"text-align: right;\">\n",
       "      <th></th>\n",
       "      <th>llx</th>\n",
       "      <th>lly</th>\n",
       "      <th>urx</th>\n",
       "      <th>ury</th>\n",
       "      <th>ramid</th>\n",
       "      <th>decmid</th>\n",
       "    </tr>\n",
       "    <tr>\n",
       "      <th>id</th>\n",
       "      <th></th>\n",
       "      <th></th>\n",
       "      <th></th>\n",
       "      <th></th>\n",
       "      <th></th>\n",
       "      <th></th>\n",
       "    </tr>\n",
       "  </thead>\n",
       "  <tbody>\n",
       "    <tr>\n",
       "      <th>554</th>\n",
       "      <td>48</td>\n",
       "      <td>-34</td>\n",
       "      <td>52</td>\n",
       "      <td>-30</td>\n",
       "      <td>50</td>\n",
       "      <td>-32</td>\n",
       "    </tr>\n",
       "    <tr>\n",
       "      <th>555</th>\n",
       "      <td>48</td>\n",
       "      <td>-30</td>\n",
       "      <td>52</td>\n",
       "      <td>-26</td>\n",
       "      <td>50</td>\n",
       "      <td>-28</td>\n",
       "    </tr>\n",
       "    <tr>\n",
       "      <th>556</th>\n",
       "      <td>48</td>\n",
       "      <td>-26</td>\n",
       "      <td>52</td>\n",
       "      <td>-22</td>\n",
       "      <td>50</td>\n",
       "      <td>-24</td>\n",
       "    </tr>\n",
       "    <tr>\n",
       "      <th>599</th>\n",
       "      <td>52</td>\n",
       "      <td>-34</td>\n",
       "      <td>56</td>\n",
       "      <td>-30</td>\n",
       "      <td>54</td>\n",
       "      <td>-32</td>\n",
       "    </tr>\n",
       "    <tr>\n",
       "      <th>600</th>\n",
       "      <td>52</td>\n",
       "      <td>-30</td>\n",
       "      <td>56</td>\n",
       "      <td>-26</td>\n",
       "      <td>54</td>\n",
       "      <td>-28</td>\n",
       "    </tr>\n",
       "    <tr>\n",
       "      <th>601</th>\n",
       "      <td>52</td>\n",
       "      <td>-26</td>\n",
       "      <td>56</td>\n",
       "      <td>-22</td>\n",
       "      <td>54</td>\n",
       "      <td>-24</td>\n",
       "    </tr>\n",
       "    <tr>\n",
       "      <th>644</th>\n",
       "      <td>56</td>\n",
       "      <td>-34</td>\n",
       "      <td>60</td>\n",
       "      <td>-30</td>\n",
       "      <td>58</td>\n",
       "      <td>-32</td>\n",
       "    </tr>\n",
       "    <tr>\n",
       "      <th>645</th>\n",
       "      <td>56</td>\n",
       "      <td>-30</td>\n",
       "      <td>60</td>\n",
       "      <td>-26</td>\n",
       "      <td>58</td>\n",
       "      <td>-28</td>\n",
       "    </tr>\n",
       "    <tr>\n",
       "      <th>646</th>\n",
       "      <td>56</td>\n",
       "      <td>-26</td>\n",
       "      <td>60</td>\n",
       "      <td>-22</td>\n",
       "      <td>58</td>\n",
       "      <td>-24</td>\n",
       "    </tr>\n",
       "  </tbody>\n",
       "</table>\n",
       "</div>"
      ],
      "text/plain": [
       "     llx  lly  urx  ury  ramid  decmid\n",
       "id                                    \n",
       "554   48  -34   52  -30     50     -32\n",
       "555   48  -30   52  -26     50     -28\n",
       "556   48  -26   52  -22     50     -24\n",
       "599   52  -34   56  -30     54     -32\n",
       "600   52  -30   56  -26     54     -28\n",
       "601   52  -26   56  -22     54     -24\n",
       "644   56  -34   60  -30     58     -32\n",
       "645   56  -30   60  -26     58     -28\n",
       "646   56  -26   60  -22     58     -24"
      ]
     },
     "execution_count": 83,
     "metadata": {},
     "output_type": "execute_result"
    }
   ],
   "source": [
    "galTiles.query('abs(ramid - 53.009) < 5 and abs(decmid + 27.439) < 5 ')"
   ]
  },
  {
   "cell_type": "code",
   "execution_count": 85,
   "metadata": {
    "collapsed": true
   },
   "outputs": [],
   "source": [
    "def galTileArea(galTiles, id):\n",
    "    TwinklesObsMetaData = ObservationMetaData(boundType='box',pointingRA=centralRA,pointingDec=centralDec,\n",
    "                                              boundLength=patchRadius, mjd=49540.0)\n",
    "    "
   ]
  },
  {
   "cell_type": "code",
   "execution_count": 88,
   "metadata": {
    "collapsed": false
   },
   "outputs": [
    {
     "data": {
      "text/plain": [
       "count    4050.000000\n",
       "mean      180.000000\n",
       "std       103.929465\n",
       "min         2.000000\n",
       "25%        90.000000\n",
       "50%       180.000000\n",
       "75%       270.000000\n",
       "max       358.000000\n",
       "Name: ramid, dtype: float64"
      ]
     },
     "execution_count": 88,
     "metadata": {},
     "output_type": "execute_result"
    }
   ],
   "source": [
    "galTiles.ramid.describe()"
   ]
  },
  {
   "cell_type": "code",
   "execution_count": 90,
   "metadata": {
    "collapsed": false
   },
   "outputs": [],
   "source": [
    "delta = np.radians(2)"
   ]
  },
  {
   "cell_type": "code",
   "execution_count": 108,
   "metadata": {
    "collapsed": true
   },
   "outputs": [],
   "source": [
    "galTiles['decMidRad'] = np.radians( -galTiles['decmid'] + 90.)"
   ]
  },
  {
   "cell_type": "code",
   "execution_count": null,
   "metadata": {
    "collapsed": true
   },
   "outputs": [],
   "source": []
  },
  {
   "cell_type": "code",
   "execution_count": 112,
   "metadata": {
    "collapsed": false
   },
   "outputs": [],
   "source": [
    "galTiles['area'] = 2* delta * np.sin(delta) * np.sin(galTiles.decMidRad)"
   ]
  },
  {
   "cell_type": "code",
   "execution_count": 113,
   "metadata": {
    "collapsed": false
   },
   "outputs": [
    {
     "data": {
      "text/html": [
       "<div>\n",
       "<table border=\"1\" class=\"dataframe\">\n",
       "  <thead>\n",
       "    <tr style=\"text-align: right;\">\n",
       "      <th></th>\n",
       "      <th>llx</th>\n",
       "      <th>lly</th>\n",
       "      <th>urx</th>\n",
       "      <th>ury</th>\n",
       "      <th>ramid</th>\n",
       "      <th>decmid</th>\n",
       "      <th>area</th>\n",
       "      <th>decMidRad</th>\n",
       "    </tr>\n",
       "    <tr>\n",
       "      <th>id</th>\n",
       "      <th></th>\n",
       "      <th></th>\n",
       "      <th></th>\n",
       "      <th></th>\n",
       "      <th></th>\n",
       "      <th></th>\n",
       "      <th></th>\n",
       "      <th></th>\n",
       "    </tr>\n",
       "  </thead>\n",
       "  <tbody>\n",
       "    <tr>\n",
       "      <th>0</th>\n",
       "      <td>0</td>\n",
       "      <td>-90</td>\n",
       "      <td>4</td>\n",
       "      <td>-86</td>\n",
       "      <td>2</td>\n",
       "      <td>-88</td>\n",
       "      <td>0.000085</td>\n",
       "      <td>3.106686</td>\n",
       "    </tr>\n",
       "    <tr>\n",
       "      <th>1</th>\n",
       "      <td>0</td>\n",
       "      <td>-86</td>\n",
       "      <td>4</td>\n",
       "      <td>-82</td>\n",
       "      <td>2</td>\n",
       "      <td>-84</td>\n",
       "      <td>0.000255</td>\n",
       "      <td>3.036873</td>\n",
       "    </tr>\n",
       "    <tr>\n",
       "      <th>2</th>\n",
       "      <td>0</td>\n",
       "      <td>-82</td>\n",
       "      <td>4</td>\n",
       "      <td>-78</td>\n",
       "      <td>2</td>\n",
       "      <td>-80</td>\n",
       "      <td>0.000423</td>\n",
       "      <td>2.967060</td>\n",
       "    </tr>\n",
       "    <tr>\n",
       "      <th>3</th>\n",
       "      <td>0</td>\n",
       "      <td>-78</td>\n",
       "      <td>4</td>\n",
       "      <td>-74</td>\n",
       "      <td>2</td>\n",
       "      <td>-76</td>\n",
       "      <td>0.000589</td>\n",
       "      <td>2.897247</td>\n",
       "    </tr>\n",
       "    <tr>\n",
       "      <th>4</th>\n",
       "      <td>0</td>\n",
       "      <td>-74</td>\n",
       "      <td>4</td>\n",
       "      <td>-70</td>\n",
       "      <td>2</td>\n",
       "      <td>-72</td>\n",
       "      <td>0.000753</td>\n",
       "      <td>2.827433</td>\n",
       "    </tr>\n",
       "    <tr>\n",
       "      <th>5</th>\n",
       "      <td>0</td>\n",
       "      <td>-70</td>\n",
       "      <td>4</td>\n",
       "      <td>-66</td>\n",
       "      <td>2</td>\n",
       "      <td>-68</td>\n",
       "      <td>0.000913</td>\n",
       "      <td>2.757620</td>\n",
       "    </tr>\n",
       "    <tr>\n",
       "      <th>6</th>\n",
       "      <td>0</td>\n",
       "      <td>-66</td>\n",
       "      <td>4</td>\n",
       "      <td>-62</td>\n",
       "      <td>2</td>\n",
       "      <td>-64</td>\n",
       "      <td>0.001068</td>\n",
       "      <td>2.687807</td>\n",
       "    </tr>\n",
       "    <tr>\n",
       "      <th>7</th>\n",
       "      <td>0</td>\n",
       "      <td>-62</td>\n",
       "      <td>4</td>\n",
       "      <td>-58</td>\n",
       "      <td>2</td>\n",
       "      <td>-60</td>\n",
       "      <td>0.001218</td>\n",
       "      <td>2.617994</td>\n",
       "    </tr>\n",
       "    <tr>\n",
       "      <th>8</th>\n",
       "      <td>0</td>\n",
       "      <td>-58</td>\n",
       "      <td>4</td>\n",
       "      <td>-54</td>\n",
       "      <td>2</td>\n",
       "      <td>-56</td>\n",
       "      <td>0.001362</td>\n",
       "      <td>2.548181</td>\n",
       "    </tr>\n",
       "    <tr>\n",
       "      <th>9</th>\n",
       "      <td>0</td>\n",
       "      <td>-54</td>\n",
       "      <td>4</td>\n",
       "      <td>-50</td>\n",
       "      <td>2</td>\n",
       "      <td>-52</td>\n",
       "      <td>0.001500</td>\n",
       "      <td>2.478368</td>\n",
       "    </tr>\n",
       "    <tr>\n",
       "      <th>10</th>\n",
       "      <td>0</td>\n",
       "      <td>-50</td>\n",
       "      <td>4</td>\n",
       "      <td>-46</td>\n",
       "      <td>2</td>\n",
       "      <td>-48</td>\n",
       "      <td>0.001630</td>\n",
       "      <td>2.408554</td>\n",
       "    </tr>\n",
       "    <tr>\n",
       "      <th>11</th>\n",
       "      <td>0</td>\n",
       "      <td>-46</td>\n",
       "      <td>4</td>\n",
       "      <td>-42</td>\n",
       "      <td>2</td>\n",
       "      <td>-44</td>\n",
       "      <td>0.001753</td>\n",
       "      <td>2.338741</td>\n",
       "    </tr>\n",
       "    <tr>\n",
       "      <th>12</th>\n",
       "      <td>0</td>\n",
       "      <td>-42</td>\n",
       "      <td>4</td>\n",
       "      <td>-38</td>\n",
       "      <td>2</td>\n",
       "      <td>-40</td>\n",
       "      <td>0.001866</td>\n",
       "      <td>2.268928</td>\n",
       "    </tr>\n",
       "    <tr>\n",
       "      <th>13</th>\n",
       "      <td>0</td>\n",
       "      <td>-38</td>\n",
       "      <td>4</td>\n",
       "      <td>-34</td>\n",
       "      <td>2</td>\n",
       "      <td>-36</td>\n",
       "      <td>0.001971</td>\n",
       "      <td>2.199115</td>\n",
       "    </tr>\n",
       "    <tr>\n",
       "      <th>14</th>\n",
       "      <td>0</td>\n",
       "      <td>-34</td>\n",
       "      <td>4</td>\n",
       "      <td>-30</td>\n",
       "      <td>2</td>\n",
       "      <td>-32</td>\n",
       "      <td>0.002066</td>\n",
       "      <td>2.129302</td>\n",
       "    </tr>\n",
       "    <tr>\n",
       "      <th>15</th>\n",
       "      <td>0</td>\n",
       "      <td>-30</td>\n",
       "      <td>4</td>\n",
       "      <td>-26</td>\n",
       "      <td>2</td>\n",
       "      <td>-28</td>\n",
       "      <td>0.002151</td>\n",
       "      <td>2.059489</td>\n",
       "    </tr>\n",
       "    <tr>\n",
       "      <th>16</th>\n",
       "      <td>0</td>\n",
       "      <td>-26</td>\n",
       "      <td>4</td>\n",
       "      <td>-22</td>\n",
       "      <td>2</td>\n",
       "      <td>-24</td>\n",
       "      <td>0.002226</td>\n",
       "      <td>1.989675</td>\n",
       "    </tr>\n",
       "    <tr>\n",
       "      <th>17</th>\n",
       "      <td>0</td>\n",
       "      <td>-22</td>\n",
       "      <td>4</td>\n",
       "      <td>-18</td>\n",
       "      <td>2</td>\n",
       "      <td>-20</td>\n",
       "      <td>0.002290</td>\n",
       "      <td>1.919862</td>\n",
       "    </tr>\n",
       "    <tr>\n",
       "      <th>18</th>\n",
       "      <td>0</td>\n",
       "      <td>-18</td>\n",
       "      <td>4</td>\n",
       "      <td>-14</td>\n",
       "      <td>2</td>\n",
       "      <td>-16</td>\n",
       "      <td>0.002342</td>\n",
       "      <td>1.850049</td>\n",
       "    </tr>\n",
       "    <tr>\n",
       "      <th>19</th>\n",
       "      <td>0</td>\n",
       "      <td>-14</td>\n",
       "      <td>4</td>\n",
       "      <td>-10</td>\n",
       "      <td>2</td>\n",
       "      <td>-12</td>\n",
       "      <td>0.002383</td>\n",
       "      <td>1.780236</td>\n",
       "    </tr>\n",
       "    <tr>\n",
       "      <th>20</th>\n",
       "      <td>0</td>\n",
       "      <td>-10</td>\n",
       "      <td>4</td>\n",
       "      <td>-6</td>\n",
       "      <td>2</td>\n",
       "      <td>-8</td>\n",
       "      <td>0.002413</td>\n",
       "      <td>1.710423</td>\n",
       "    </tr>\n",
       "    <tr>\n",
       "      <th>21</th>\n",
       "      <td>0</td>\n",
       "      <td>-6</td>\n",
       "      <td>4</td>\n",
       "      <td>-2</td>\n",
       "      <td>2</td>\n",
       "      <td>-4</td>\n",
       "      <td>0.002431</td>\n",
       "      <td>1.640609</td>\n",
       "    </tr>\n",
       "    <tr>\n",
       "      <th>22</th>\n",
       "      <td>0</td>\n",
       "      <td>-2</td>\n",
       "      <td>4</td>\n",
       "      <td>2</td>\n",
       "      <td>2</td>\n",
       "      <td>0</td>\n",
       "      <td>0.002436</td>\n",
       "      <td>1.570796</td>\n",
       "    </tr>\n",
       "    <tr>\n",
       "      <th>23</th>\n",
       "      <td>0</td>\n",
       "      <td>2</td>\n",
       "      <td>4</td>\n",
       "      <td>6</td>\n",
       "      <td>2</td>\n",
       "      <td>4</td>\n",
       "      <td>0.002431</td>\n",
       "      <td>1.500983</td>\n",
       "    </tr>\n",
       "    <tr>\n",
       "      <th>24</th>\n",
       "      <td>0</td>\n",
       "      <td>6</td>\n",
       "      <td>4</td>\n",
       "      <td>10</td>\n",
       "      <td>2</td>\n",
       "      <td>8</td>\n",
       "      <td>0.002413</td>\n",
       "      <td>1.431170</td>\n",
       "    </tr>\n",
       "    <tr>\n",
       "      <th>25</th>\n",
       "      <td>0</td>\n",
       "      <td>10</td>\n",
       "      <td>4</td>\n",
       "      <td>14</td>\n",
       "      <td>2</td>\n",
       "      <td>12</td>\n",
       "      <td>0.002383</td>\n",
       "      <td>1.361357</td>\n",
       "    </tr>\n",
       "    <tr>\n",
       "      <th>26</th>\n",
       "      <td>0</td>\n",
       "      <td>14</td>\n",
       "      <td>4</td>\n",
       "      <td>18</td>\n",
       "      <td>2</td>\n",
       "      <td>16</td>\n",
       "      <td>0.002342</td>\n",
       "      <td>1.291544</td>\n",
       "    </tr>\n",
       "    <tr>\n",
       "      <th>27</th>\n",
       "      <td>0</td>\n",
       "      <td>18</td>\n",
       "      <td>4</td>\n",
       "      <td>22</td>\n",
       "      <td>2</td>\n",
       "      <td>20</td>\n",
       "      <td>0.002290</td>\n",
       "      <td>1.221730</td>\n",
       "    </tr>\n",
       "    <tr>\n",
       "      <th>28</th>\n",
       "      <td>0</td>\n",
       "      <td>22</td>\n",
       "      <td>4</td>\n",
       "      <td>26</td>\n",
       "      <td>2</td>\n",
       "      <td>24</td>\n",
       "      <td>0.002226</td>\n",
       "      <td>1.151917</td>\n",
       "    </tr>\n",
       "    <tr>\n",
       "      <th>29</th>\n",
       "      <td>0</td>\n",
       "      <td>26</td>\n",
       "      <td>4</td>\n",
       "      <td>30</td>\n",
       "      <td>2</td>\n",
       "      <td>28</td>\n",
       "      <td>0.002151</td>\n",
       "      <td>1.082104</td>\n",
       "    </tr>\n",
       "    <tr>\n",
       "      <th>...</th>\n",
       "      <td>...</td>\n",
       "      <td>...</td>\n",
       "      <td>...</td>\n",
       "      <td>...</td>\n",
       "      <td>...</td>\n",
       "      <td>...</td>\n",
       "      <td>...</td>\n",
       "      <td>...</td>\n",
       "    </tr>\n",
       "    <tr>\n",
       "      <th>4045</th>\n",
       "      <td>356</td>\n",
       "      <td>70</td>\n",
       "      <td>360</td>\n",
       "      <td>74</td>\n",
       "      <td>358</td>\n",
       "      <td>72</td>\n",
       "      <td>0.000753</td>\n",
       "      <td>0.314159</td>\n",
       "    </tr>\n",
       "    <tr>\n",
       "      <th>4046</th>\n",
       "      <td>356</td>\n",
       "      <td>74</td>\n",
       "      <td>360</td>\n",
       "      <td>78</td>\n",
       "      <td>358</td>\n",
       "      <td>76</td>\n",
       "      <td>0.000589</td>\n",
       "      <td>0.244346</td>\n",
       "    </tr>\n",
       "    <tr>\n",
       "      <th>4047</th>\n",
       "      <td>356</td>\n",
       "      <td>78</td>\n",
       "      <td>360</td>\n",
       "      <td>82</td>\n",
       "      <td>358</td>\n",
       "      <td>80</td>\n",
       "      <td>0.000423</td>\n",
       "      <td>0.174533</td>\n",
       "    </tr>\n",
       "    <tr>\n",
       "      <th>4048</th>\n",
       "      <td>356</td>\n",
       "      <td>82</td>\n",
       "      <td>360</td>\n",
       "      <td>86</td>\n",
       "      <td>358</td>\n",
       "      <td>84</td>\n",
       "      <td>0.000255</td>\n",
       "      <td>0.104720</td>\n",
       "    </tr>\n",
       "    <tr>\n",
       "      <th>2115</th>\n",
       "      <td>188</td>\n",
       "      <td>-90</td>\n",
       "      <td>192</td>\n",
       "      <td>-86</td>\n",
       "      <td>190</td>\n",
       "      <td>-88</td>\n",
       "      <td>0.000085</td>\n",
       "      <td>3.106686</td>\n",
       "    </tr>\n",
       "    <tr>\n",
       "      <th>2160</th>\n",
       "      <td>192</td>\n",
       "      <td>-90</td>\n",
       "      <td>196</td>\n",
       "      <td>-86</td>\n",
       "      <td>194</td>\n",
       "      <td>-88</td>\n",
       "      <td>0.000085</td>\n",
       "      <td>3.106686</td>\n",
       "    </tr>\n",
       "    <tr>\n",
       "      <th>2475</th>\n",
       "      <td>220</td>\n",
       "      <td>-90</td>\n",
       "      <td>224</td>\n",
       "      <td>-86</td>\n",
       "      <td>222</td>\n",
       "      <td>-88</td>\n",
       "      <td>0.000085</td>\n",
       "      <td>3.106686</td>\n",
       "    </tr>\n",
       "    <tr>\n",
       "      <th>2519</th>\n",
       "      <td>220</td>\n",
       "      <td>86</td>\n",
       "      <td>224</td>\n",
       "      <td>90</td>\n",
       "      <td>222</td>\n",
       "      <td>88</td>\n",
       "      <td>0.000085</td>\n",
       "      <td>0.034907</td>\n",
       "    </tr>\n",
       "    <tr>\n",
       "      <th>2655</th>\n",
       "      <td>236</td>\n",
       "      <td>-90</td>\n",
       "      <td>240</td>\n",
       "      <td>-86</td>\n",
       "      <td>238</td>\n",
       "      <td>-88</td>\n",
       "      <td>0.000085</td>\n",
       "      <td>3.106686</td>\n",
       "    </tr>\n",
       "    <tr>\n",
       "      <th>2835</th>\n",
       "      <td>252</td>\n",
       "      <td>-90</td>\n",
       "      <td>256</td>\n",
       "      <td>-86</td>\n",
       "      <td>254</td>\n",
       "      <td>-88</td>\n",
       "      <td>0.000085</td>\n",
       "      <td>3.106686</td>\n",
       "    </tr>\n",
       "    <tr>\n",
       "      <th>3015</th>\n",
       "      <td>268</td>\n",
       "      <td>-90</td>\n",
       "      <td>272</td>\n",
       "      <td>-86</td>\n",
       "      <td>270</td>\n",
       "      <td>-88</td>\n",
       "      <td>0.000085</td>\n",
       "      <td>3.106686</td>\n",
       "    </tr>\n",
       "    <tr>\n",
       "      <th>3060</th>\n",
       "      <td>272</td>\n",
       "      <td>-90</td>\n",
       "      <td>276</td>\n",
       "      <td>-86</td>\n",
       "      <td>274</td>\n",
       "      <td>-88</td>\n",
       "      <td>0.000085</td>\n",
       "      <td>3.106686</td>\n",
       "    </tr>\n",
       "    <tr>\n",
       "      <th>3285</th>\n",
       "      <td>292</td>\n",
       "      <td>-90</td>\n",
       "      <td>296</td>\n",
       "      <td>-86</td>\n",
       "      <td>294</td>\n",
       "      <td>-88</td>\n",
       "      <td>0.000085</td>\n",
       "      <td>3.106686</td>\n",
       "    </tr>\n",
       "    <tr>\n",
       "      <th>3330</th>\n",
       "      <td>296</td>\n",
       "      <td>-90</td>\n",
       "      <td>300</td>\n",
       "      <td>-86</td>\n",
       "      <td>298</td>\n",
       "      <td>-88</td>\n",
       "      <td>0.000085</td>\n",
       "      <td>3.106686</td>\n",
       "    </tr>\n",
       "    <tr>\n",
       "      <th>3509</th>\n",
       "      <td>308</td>\n",
       "      <td>86</td>\n",
       "      <td>312</td>\n",
       "      <td>90</td>\n",
       "      <td>310</td>\n",
       "      <td>88</td>\n",
       "      <td>0.000085</td>\n",
       "      <td>0.034907</td>\n",
       "    </tr>\n",
       "    <tr>\n",
       "      <th>3554</th>\n",
       "      <td>312</td>\n",
       "      <td>86</td>\n",
       "      <td>316</td>\n",
       "      <td>90</td>\n",
       "      <td>314</td>\n",
       "      <td>88</td>\n",
       "      <td>0.000085</td>\n",
       "      <td>0.034907</td>\n",
       "    </tr>\n",
       "    <tr>\n",
       "      <th>3824</th>\n",
       "      <td>336</td>\n",
       "      <td>86</td>\n",
       "      <td>340</td>\n",
       "      <td>90</td>\n",
       "      <td>338</td>\n",
       "      <td>88</td>\n",
       "      <td>0.000085</td>\n",
       "      <td>0.034907</td>\n",
       "    </tr>\n",
       "    <tr>\n",
       "      <th>3915</th>\n",
       "      <td>348</td>\n",
       "      <td>-90</td>\n",
       "      <td>352</td>\n",
       "      <td>-86</td>\n",
       "      <td>350</td>\n",
       "      <td>-88</td>\n",
       "      <td>0.000085</td>\n",
       "      <td>3.106686</td>\n",
       "    </tr>\n",
       "    <tr>\n",
       "      <th>3960</th>\n",
       "      <td>352</td>\n",
       "      <td>-90</td>\n",
       "      <td>356</td>\n",
       "      <td>-86</td>\n",
       "      <td>354</td>\n",
       "      <td>-88</td>\n",
       "      <td>0.000085</td>\n",
       "      <td>3.106686</td>\n",
       "    </tr>\n",
       "    <tr>\n",
       "      <th>4004</th>\n",
       "      <td>352</td>\n",
       "      <td>86</td>\n",
       "      <td>356</td>\n",
       "      <td>90</td>\n",
       "      <td>354</td>\n",
       "      <td>88</td>\n",
       "      <td>0.000085</td>\n",
       "      <td>0.034907</td>\n",
       "    </tr>\n",
       "    <tr>\n",
       "      <th>4049</th>\n",
       "      <td>356</td>\n",
       "      <td>86</td>\n",
       "      <td>360</td>\n",
       "      <td>90</td>\n",
       "      <td>358</td>\n",
       "      <td>88</td>\n",
       "      <td>0.000085</td>\n",
       "      <td>0.034907</td>\n",
       "    </tr>\n",
       "    <tr>\n",
       "      <th>360</th>\n",
       "      <td>32</td>\n",
       "      <td>-90</td>\n",
       "      <td>36</td>\n",
       "      <td>-86</td>\n",
       "      <td>34</td>\n",
       "      <td>-88</td>\n",
       "      <td>0.000085</td>\n",
       "      <td>3.106686</td>\n",
       "    </tr>\n",
       "    <tr>\n",
       "      <th>405</th>\n",
       "      <td>36</td>\n",
       "      <td>-90</td>\n",
       "      <td>40</td>\n",
       "      <td>-86</td>\n",
       "      <td>38</td>\n",
       "      <td>-88</td>\n",
       "      <td>0.000085</td>\n",
       "      <td>3.106686</td>\n",
       "    </tr>\n",
       "    <tr>\n",
       "      <th>675</th>\n",
       "      <td>60</td>\n",
       "      <td>-90</td>\n",
       "      <td>64</td>\n",
       "      <td>-86</td>\n",
       "      <td>62</td>\n",
       "      <td>-88</td>\n",
       "      <td>0.000085</td>\n",
       "      <td>3.106686</td>\n",
       "    </tr>\n",
       "    <tr>\n",
       "      <th>720</th>\n",
       "      <td>64</td>\n",
       "      <td>-90</td>\n",
       "      <td>68</td>\n",
       "      <td>-86</td>\n",
       "      <td>66</td>\n",
       "      <td>-88</td>\n",
       "      <td>0.000085</td>\n",
       "      <td>3.106686</td>\n",
       "    </tr>\n",
       "    <tr>\n",
       "      <th>765</th>\n",
       "      <td>68</td>\n",
       "      <td>-90</td>\n",
       "      <td>72</td>\n",
       "      <td>-86</td>\n",
       "      <td>70</td>\n",
       "      <td>-88</td>\n",
       "      <td>0.000085</td>\n",
       "      <td>3.106686</td>\n",
       "    </tr>\n",
       "    <tr>\n",
       "      <th>945</th>\n",
       "      <td>84</td>\n",
       "      <td>-90</td>\n",
       "      <td>88</td>\n",
       "      <td>-86</td>\n",
       "      <td>86</td>\n",
       "      <td>-88</td>\n",
       "      <td>0.000085</td>\n",
       "      <td>3.106686</td>\n",
       "    </tr>\n",
       "    <tr>\n",
       "      <th>990</th>\n",
       "      <td>88</td>\n",
       "      <td>-90</td>\n",
       "      <td>92</td>\n",
       "      <td>-86</td>\n",
       "      <td>90</td>\n",
       "      <td>-88</td>\n",
       "      <td>0.000085</td>\n",
       "      <td>3.106686</td>\n",
       "    </tr>\n",
       "    <tr>\n",
       "      <th>1215</th>\n",
       "      <td>108</td>\n",
       "      <td>-90</td>\n",
       "      <td>112</td>\n",
       "      <td>-86</td>\n",
       "      <td>110</td>\n",
       "      <td>-88</td>\n",
       "      <td>0.000085</td>\n",
       "      <td>3.106686</td>\n",
       "    </tr>\n",
       "    <tr>\n",
       "      <th>1710</th>\n",
       "      <td>152</td>\n",
       "      <td>-90</td>\n",
       "      <td>156</td>\n",
       "      <td>-86</td>\n",
       "      <td>154</td>\n",
       "      <td>-88</td>\n",
       "      <td>0.000085</td>\n",
       "      <td>3.106686</td>\n",
       "    </tr>\n",
       "  </tbody>\n",
       "</table>\n",
       "<p>4050 rows × 8 columns</p>\n",
       "</div>"
      ],
      "text/plain": [
       "      llx  lly  urx  ury  ramid  decmid      area  decMidRad\n",
       "id                                                          \n",
       "0       0  -90    4  -86      2     -88  0.000085   3.106686\n",
       "1       0  -86    4  -82      2     -84  0.000255   3.036873\n",
       "2       0  -82    4  -78      2     -80  0.000423   2.967060\n",
       "3       0  -78    4  -74      2     -76  0.000589   2.897247\n",
       "4       0  -74    4  -70      2     -72  0.000753   2.827433\n",
       "5       0  -70    4  -66      2     -68  0.000913   2.757620\n",
       "6       0  -66    4  -62      2     -64  0.001068   2.687807\n",
       "7       0  -62    4  -58      2     -60  0.001218   2.617994\n",
       "8       0  -58    4  -54      2     -56  0.001362   2.548181\n",
       "9       0  -54    4  -50      2     -52  0.001500   2.478368\n",
       "10      0  -50    4  -46      2     -48  0.001630   2.408554\n",
       "11      0  -46    4  -42      2     -44  0.001753   2.338741\n",
       "12      0  -42    4  -38      2     -40  0.001866   2.268928\n",
       "13      0  -38    4  -34      2     -36  0.001971   2.199115\n",
       "14      0  -34    4  -30      2     -32  0.002066   2.129302\n",
       "15      0  -30    4  -26      2     -28  0.002151   2.059489\n",
       "16      0  -26    4  -22      2     -24  0.002226   1.989675\n",
       "17      0  -22    4  -18      2     -20  0.002290   1.919862\n",
       "18      0  -18    4  -14      2     -16  0.002342   1.850049\n",
       "19      0  -14    4  -10      2     -12  0.002383   1.780236\n",
       "20      0  -10    4   -6      2      -8  0.002413   1.710423\n",
       "21      0   -6    4   -2      2      -4  0.002431   1.640609\n",
       "22      0   -2    4    2      2       0  0.002436   1.570796\n",
       "23      0    2    4    6      2       4  0.002431   1.500983\n",
       "24      0    6    4   10      2       8  0.002413   1.431170\n",
       "25      0   10    4   14      2      12  0.002383   1.361357\n",
       "26      0   14    4   18      2      16  0.002342   1.291544\n",
       "27      0   18    4   22      2      20  0.002290   1.221730\n",
       "28      0   22    4   26      2      24  0.002226   1.151917\n",
       "29      0   26    4   30      2      28  0.002151   1.082104\n",
       "...   ...  ...  ...  ...    ...     ...       ...        ...\n",
       "4045  356   70  360   74    358      72  0.000753   0.314159\n",
       "4046  356   74  360   78    358      76  0.000589   0.244346\n",
       "4047  356   78  360   82    358      80  0.000423   0.174533\n",
       "4048  356   82  360   86    358      84  0.000255   0.104720\n",
       "2115  188  -90  192  -86    190     -88  0.000085   3.106686\n",
       "2160  192  -90  196  -86    194     -88  0.000085   3.106686\n",
       "2475  220  -90  224  -86    222     -88  0.000085   3.106686\n",
       "2519  220   86  224   90    222      88  0.000085   0.034907\n",
       "2655  236  -90  240  -86    238     -88  0.000085   3.106686\n",
       "2835  252  -90  256  -86    254     -88  0.000085   3.106686\n",
       "3015  268  -90  272  -86    270     -88  0.000085   3.106686\n",
       "3060  272  -90  276  -86    274     -88  0.000085   3.106686\n",
       "3285  292  -90  296  -86    294     -88  0.000085   3.106686\n",
       "3330  296  -90  300  -86    298     -88  0.000085   3.106686\n",
       "3509  308   86  312   90    310      88  0.000085   0.034907\n",
       "3554  312   86  316   90    314      88  0.000085   0.034907\n",
       "3824  336   86  340   90    338      88  0.000085   0.034907\n",
       "3915  348  -90  352  -86    350     -88  0.000085   3.106686\n",
       "3960  352  -90  356  -86    354     -88  0.000085   3.106686\n",
       "4004  352   86  356   90    354      88  0.000085   0.034907\n",
       "4049  356   86  360   90    358      88  0.000085   0.034907\n",
       "360    32  -90   36  -86     34     -88  0.000085   3.106686\n",
       "405    36  -90   40  -86     38     -88  0.000085   3.106686\n",
       "675    60  -90   64  -86     62     -88  0.000085   3.106686\n",
       "720    64  -90   68  -86     66     -88  0.000085   3.106686\n",
       "765    68  -90   72  -86     70     -88  0.000085   3.106686\n",
       "945    84  -90   88  -86     86     -88  0.000085   3.106686\n",
       "990    88  -90   92  -86     90     -88  0.000085   3.106686\n",
       "1215  108  -90  112  -86    110     -88  0.000085   3.106686\n",
       "1710  152  -90  156  -86    154     -88  0.000085   3.106686\n",
       "\n",
       "[4050 rows x 8 columns]"
      ]
     },
     "execution_count": 113,
     "metadata": {},
     "output_type": "execute_result"
    }
   ],
   "source": [
    "galTiles"
   ]
  },
  {
   "cell_type": "code",
   "execution_count": 97,
   "metadata": {
    "collapsed": true
   },
   "outputs": [],
   "source": [
    "%matplotlib inline\n",
    "import matplotlib.pyplot as plt"
   ]
  },
  {
   "cell_type": "code",
   "execution_count": 110,
   "metadata": {
    "collapsed": false
   },
   "outputs": [
    {
     "data": {
      "text/plain": [
       "[<matplotlib.lines.Line2D at 0x1125f1090>]"
      ]
     },
     "execution_count": 110,
     "metadata": {},
     "output_type": "execute_result"
    },
    {
     "data": {
      "image/png": "[encoded data removed]",
      "text/plain": [
       "<matplotlib.figure.Figure at 0x1152e5b90>"
      ]
     },
     "metadata": {},
     "output_type": "display_data"
    }
   ],
   "source": [
    "plt.plot(galTiles.decmid, galTiles.decMidRad, 'o')"
   ]
  },
  {
   "cell_type": "code",
   "execution_count": 115,
   "metadata": {
    "collapsed": false
   },
   "outputs": [
    {
     "data": {
      "text/plain": [
       "[<matplotlib.lines.Line2D at 0x115738ad0>]"
      ]
     },
     "execution_count": 115,
     "metadata": {},
     "output_type": "execute_result"
    },
    {
     "data": {
      "image/png": "[encoded data removed]",
      "text/plain": [
       "<matplotlib.figure.Figure at 0x110d37f50>"
      ]
     },
     "metadata": {},
     "output_type": "display_data"
    }
   ],
   "source": [
    "plt.plot(galTiles.decmid, galTiles.area/np.pi /4., 'o')"
   ]
  },
  {
   "cell_type": "code",
   "execution_count": 103,
   "metadata": {
    "collapsed": false
   },
   "outputs": [
    {
     "data": {
      "text/plain": [
       "0.034906585039886591"
      ]
     },
     "execution_count": 103,
     "metadata": {},
     "output_type": "execute_result"
    }
   ],
   "source": [
    "np.radians(2)"
   ]
  },
  {
   "cell_type": "code",
   "execution_count": 84,
   "metadata": {
    "collapsed": true
   },
   "outputs": [],
   "source": [
    "from lsst.sims.utils import ObservationMetaData"
   ]
  },
  {
   "cell_type": "code",
   "execution_count": 155,
   "metadata": {
    "collapsed": false
   },
   "outputs": [
    {
     "data": {
      "text/html": [
       "<div>\n",
       "<table border=\"1\" class=\"dataframe\">\n",
       "  <thead>\n",
       "    <tr style=\"text-align: right;\">\n",
       "      <th></th>\n",
       "      <th>llx</th>\n",
       "      <th>lly</th>\n",
       "      <th>urx</th>\n",
       "      <th>ury</th>\n",
       "      <th>ramid</th>\n",
       "      <th>decmid</th>\n",
       "      <th>area</th>\n",
       "      <th>decMidRad</th>\n",
       "    </tr>\n",
       "    <tr>\n",
       "      <th>id</th>\n",
       "      <th></th>\n",
       "      <th></th>\n",
       "      <th></th>\n",
       "      <th></th>\n",
       "      <th></th>\n",
       "      <th></th>\n",
       "      <th></th>\n",
       "      <th></th>\n",
       "    </tr>\n",
       "  </thead>\n",
       "  <tbody>\n",
       "    <tr>\n",
       "      <th>554</th>\n",
       "      <td>48</td>\n",
       "      <td>-34</td>\n",
       "      <td>52</td>\n",
       "      <td>-30</td>\n",
       "      <td>50</td>\n",
       "      <td>-32</td>\n",
       "      <td>0.002066</td>\n",
       "      <td>2.129302</td>\n",
       "    </tr>\n",
       "    <tr>\n",
       "      <th>555</th>\n",
       "      <td>48</td>\n",
       "      <td>-30</td>\n",
       "      <td>52</td>\n",
       "      <td>-26</td>\n",
       "      <td>50</td>\n",
       "      <td>-28</td>\n",
       "      <td>0.002151</td>\n",
       "      <td>2.059489</td>\n",
       "    </tr>\n",
       "    <tr>\n",
       "      <th>556</th>\n",
       "      <td>48</td>\n",
       "      <td>-26</td>\n",
       "      <td>52</td>\n",
       "      <td>-22</td>\n",
       "      <td>50</td>\n",
       "      <td>-24</td>\n",
       "      <td>0.002226</td>\n",
       "      <td>1.989675</td>\n",
       "    </tr>\n",
       "    <tr>\n",
       "      <th>599</th>\n",
       "      <td>52</td>\n",
       "      <td>-34</td>\n",
       "      <td>56</td>\n",
       "      <td>-30</td>\n",
       "      <td>54</td>\n",
       "      <td>-32</td>\n",
       "      <td>0.002066</td>\n",
       "      <td>2.129302</td>\n",
       "    </tr>\n",
       "    <tr>\n",
       "      <th>600</th>\n",
       "      <td>52</td>\n",
       "      <td>-30</td>\n",
       "      <td>56</td>\n",
       "      <td>-26</td>\n",
       "      <td>54</td>\n",
       "      <td>-28</td>\n",
       "      <td>0.002151</td>\n",
       "      <td>2.059489</td>\n",
       "    </tr>\n",
       "    <tr>\n",
       "      <th>601</th>\n",
       "      <td>52</td>\n",
       "      <td>-26</td>\n",
       "      <td>56</td>\n",
       "      <td>-22</td>\n",
       "      <td>54</td>\n",
       "      <td>-24</td>\n",
       "      <td>0.002226</td>\n",
       "      <td>1.989675</td>\n",
       "    </tr>\n",
       "  </tbody>\n",
       "</table>\n",
       "</div>"
      ],
      "text/plain": [
       "     llx  lly  urx  ury  ramid  decmid      area  decMidRad\n",
       "id                                                         \n",
       "554   48  -34   52  -30     50     -32  0.002066   2.129302\n",
       "555   48  -30   52  -26     50     -28  0.002151   2.059489\n",
       "556   48  -26   52  -22     50     -24  0.002226   1.989675\n",
       "599   52  -34   56  -30     54     -32  0.002066   2.129302\n",
       "600   52  -30   56  -26     54     -28  0.002151   2.059489\n",
       "601   52  -26   56  -22     54     -24  0.002226   1.989675"
      ]
     },
     "execution_count": 155,
     "metadata": {},
     "output_type": "execute_result"
    }
   ],
   "source": [
    "galTiles.query('abs(ramid-53) < 5 and abs(decmid+27.4) < 5')"
   ]
  },
  {
   "cell_type": "code",
   "execution_count": 160,
   "metadata": {
    "collapsed": true
   },
   "outputs": [],
   "source": [
    "def tileObsMetaData(id, galTileDF):\n",
    "    \"\"\"\n",
    "    \"\"\"\n",
    "    ra = galTiles.ix[id, 'ramid']\n",
    "    dec = galTiles.ix[id, 'decmid']\n",
    "    obsMetaData = ObservationMetaData(boundType='box',\n",
    "                                      pointingRA=ra,\n",
    "                                      pointingDec=dec,\n",
    "                                      boundLength=2.)\n",
    "    return obsMetaData\n",
    "    "
   ]
  },
  {
   "cell_type": "code",
   "execution_count": null,
   "metadata": {
    "collapsed": true
   },
   "outputs": [],
   "source": [
    "ObservationMetaData()\n"
   ]
  },
  {
   "cell_type": "code",
   "execution_count": 161,
   "metadata": {
    "collapsed": true
   },
   "outputs": [],
   "source": [
    "obsMeta = tileObsMetaData(600, galTiles)"
   ]
  },
  {
   "cell_type": "code",
   "execution_count": null,
   "metadata": {
    "collapsed": true
   },
   "outputs": [],
   "source": [
    "from lsst.sims.catUtils."
   ]
  },
  {
   "cell_type": "code",
   "execution_count": 163,
   "metadata": {
    "collapsed": false
   },
   "outputs": [
    {
     "name": "stderr",
     "output_type": "stream",
     "text": [
      "/Users/rbiswas/src/LSST/sims_catalogs_generation/python/lsst/sims/catalogs/generation/db/dbConnection.py:438: UserWarning: Duplicate object type id 25 specified: \n",
      "Output object ids may not be unique.\n",
      "This may not be a problem if you do not want globally unique id values\n",
      "  'want globally unique id values')\n",
      "/Users/rbiswas/src/LSST/sims_catalogs_generation/python/lsst/sims/catalogs/generation/db/dbConnection.py:438: UserWarning: Duplicate object type id 40 specified: \n",
      "Output object ids may not be unique.\n",
      "This may not be a problem if you do not want globally unique id values\n",
      "  'want globally unique id values')\n"
     ]
    }
   ],
   "source": [
    "from lsst.sims.catalogs.measures.instance import InstanceCatalog\n",
    "import lsst.sims.catUtils.baseCatalogModels as bcm\n",
    "from lsst.sims.catalogs.generation.db import CatalogDBObject\n",
    "from lsst.sims.catUtils.baseCatalogModels.GalaxyModels import GalaxyTileObj"
   ]
  },
  {
   "cell_type": "code",
   "execution_count": 165,
   "metadata": {
    "collapsed": false
   },
   "outputs": [
    {
     "name": "stderr",
     "output_type": "stream",
     "text": [
      "/usr/local/manual/anaconda/lib/python2.7/site-packages/sqlalchemy/dialects/mssql/base.py:1294: SAWarning: Did not recognize type 'geography' of column 'geopoint'\n",
      "  return fn(*arg, **kw)\n"
     ]
    }
   ],
   "source": [
    "galaxyTiled  = GalaxyTileObj()"
   ]
  },
  {
   "cell_type": "code",
   "execution_count": 166,
   "metadata": {
    "collapsed": true
   },
   "outputs": [],
   "source": [
    "class galCopy(InstanceCatalog):\n",
    "    column_outputs = ['galtileid', 'raJ2000', 'decJ2000', 'redshift', 'a_d', 'b_d', 'pa_disk']\n",
    "    override_formats = {'raJ2000': '%8e', 'decJ2000': '%8e', 'a_d': '%8e', 'b_d': '%8e', 'pa_disk': '%8e'}"
   ]
  },
  {
   "cell_type": "code",
   "execution_count": null,
   "metadata": {
    "collapsed": true
   },
   "outputs": [],
   "source": []
  },
  {
   "cell_type": "code",
   "execution_count": 168,
   "metadata": {
    "collapsed": false
   },
   "outputs": [],
   "source": [
    "TwinklesGalaxies = galCopy(galaxyTiled, obs_metadata=obsMeta, constraint='mass_stellar')"
   ]
  },
  {
   "cell_type": "code",
   "execution_count": 191,
   "metadata": {
    "collapsed": true
   },
   "outputs": [],
   "source": [
    "import time"
   ]
  },
  {
   "cell_type": "code",
   "execution_count": 192,
   "metadata": {
    "collapsed": false
   },
   "outputs": [
    {
     "name": "stdout",
     "output_type": "stream",
     "text": [
      "734.053437948\n"
     ]
    }
   ],
   "source": [
    "tstart = time.time()\n",
    "TwinklesGalaxies.write_catalog('TwinkGals.dat')\n",
    "tend = time.time()\n",
    "print(tend - tstart)"
   ]
  },
  {
   "cell_type": "code",
   "execution_count": 193,
   "metadata": {
    "collapsed": false
   },
   "outputs": [
    {
     "name": "stdout",
     "output_type": "stream",
     "text": [
      " 12148154 TwinkGals.dat\r\n"
     ]
    }
   ],
   "source": [
    "!wc -l TwinkGals.dat "
   ]
  },
  {
   "cell_type": "code",
   "execution_count": 172,
   "metadata": {
    "collapsed": false
   },
   "outputs": [
    {
     "data": {
      "text/plain": [
       "12.148154"
      ]
     },
     "execution_count": 172,
     "metadata": {},
     "output_type": "execute_result"
    }
   ],
   "source": [
    "12148154 / 1e6"
   ]
  },
  {
   "cell_type": "code",
   "execution_count": 189,
   "metadata": {
    "collapsed": true
   },
   "outputs": [],
   "source": [
    "query = \"\"\"SELECT galtileid, raJ2000, decJ2000, redshift, a_d, b_d, pa_disk  FROM [LSSTCATSIM].[dbo].[galaxy]\"\"\""
   ]
  },
  {
   "cell_type": "code",
   "execution_count": 184,
   "metadata": {
    "collapsed": true
   },
   "outputs": [],
   "source": [
    "query = \"\"\"SELECT count(*)  FROM [LSSTCATSIM].[dbo].[galaxyBase]\"\"\""
   ]
  },
  {
   "cell_type": "code",
   "execution_count": 186,
   "metadata": {
    "collapsed": true
   },
   "outputs": [],
   "source": [
    "query = \"\"\"SELECT table_name FROM information_schema.tables\"\"\""
   ]
  },
  {
   "cell_type": "code",
   "execution_count": 190,
   "metadata": {
    "collapsed": false
   },
   "outputs": [
    {
     "ename": "ProgrammingError",
     "evalue": "(207, \"Invalid column name 'galtileid'.DB-Lib error message 20018, severity 16:\\nGeneral SQL Server error: Check messages from the SQL Server\\nDB-Lib error message 20018, severity 16:\\nGeneral SQL Server error: Check messages from the SQL Server\\nDB-Lib error message 20018, severity 16:\\nGeneral SQL Server error: Check messages from the SQL Server\\n\")",
     "output_type": "error",
     "traceback": [
      "\u001b[0;31m---------------------------------------------------------------------------\u001b[0m",
      "\u001b[0;31mProgrammingError\u001b[0m                          Traceback (most recent call last)",
      "\u001b[0;32m<ipython-input-190-7cf6de658251>\u001b[0m in \u001b[0;36m<module>\u001b[0;34m()\u001b[0m\n\u001b[0;32m----> 1\u001b[0;31m \u001b[0mdb\u001b[0m\u001b[0;34m.\u001b[0m\u001b[0mexecute\u001b[0m\u001b[0;34m(\u001b[0m\u001b[0mquery\u001b[0m\u001b[0;34m)\u001b[0m\u001b[0;34m\u001b[0m\u001b[0m\n\u001b[0m",
      "\u001b[0;32mpymssql.pyx\u001b[0m in \u001b[0;36mpymssql.Cursor.execute (pymssql.c:7455)\u001b[0;34m()\u001b[0m\n",
      "\u001b[0;31mProgrammingError\u001b[0m: (207, \"Invalid column name 'galtileid'.DB-Lib error message 20018, severity 16:\\nGeneral SQL Server error: Check messages from the SQL Server\\nDB-Lib error message 20018, severity 16:\\nGeneral SQL Server error: Check messages from the SQL Server\\nDB-Lib error message 20018, severity 16:\\nGeneral SQL Server error: Check messages from the SQL Server\\n\")"
     ]
    }
   ],
   "source": [
    "db.execute(query)"
   ]
  },
  {
   "cell_type": "code",
   "execution_count": 188,
   "metadata": {
    "collapsed": false
   },
   "outputs": [
    {
     "data": {
      "text/plain": [
       "[(u'StarMLT',),\n",
       " (u'StarMLTForceseek',),\n",
       " (u'galaxy_agn',),\n",
       " (u'StarAllForceseek',),\n",
       " (u'galaxy_bulge',),\n",
       " (u'StarAll',),\n",
       " (u'StarMSRGB',),\n",
       " (u'StarMSRGBForceseek',),\n",
       " (u'StarDwarfGalaxy',),\n",
       " (u'stars_mlt_part_1180',),\n",
       " (u'tiles',),\n",
       " (u'docColumnDescriptions',),\n",
       " (u'TwinkSN',),\n",
       " (u'galaxy_disk',),\n",
       " (u'stars_mlt_part_1220',),\n",
       " (u'docItems',),\n",
       " (u'SNStaging',),\n",
       " (u'stars_obafgk_part_1220',),\n",
       " (u'SNKrakenStaging',),\n",
       " (u'TwinkSNKraken',),\n",
       " (u'starsCenteredp80m10',),\n",
       " (u'density_map_pivot_starsMSRGB',),\n",
       " (u'ra_center_map_pivot_starsMSRGB',),\n",
       " (u'output_opsim3_61',),\n",
       " (u'decl_center_map_pivot_starsMSRGB',),\n",
       " (u'mltNameTable',),\n",
       " (u'MLTlookup',),\n",
       " (u'stars_partition_8700000000000_circle80m10',),\n",
       " (u'stars_mlt_part_1250',),\n",
       " (u'starsMSRGBp80m10',),\n",
       " (u'stars_obafgk_part_1250',),\n",
       " (u'gizisNameTable',),\n",
       " (u'starsMSRGBp80m10_forceseek',),\n",
       " (u'MLTfitTestTable',),\n",
       " (u'easterEggsFit',),\n",
       " (u'density_map_pivot_starsWD',),\n",
       " (u'sfdAstromEasterEggs',),\n",
       " (u'decl_center_map_pivot_starsWD',),\n",
       " (u'ra_center_map_pivot_starsWD',),\n",
       " (u'stars_mlt_part_1400',),\n",
       " (u'stars_obafgk_part_1400',),\n",
       " (u'starsCenteredp80m10_lookup',),\n",
       " (u'sfd_stars_partition_12200000000000_fit',),\n",
       " (u'sfd_stars_partition_11000000000000_fit',),\n",
       " (u'sfd_stars_partition_11600000000000_fit',),\n",
       " (u'stars_mlt_part_0870',),\n",
       " (u'sfd_stars_partition_11800000000000_fit',),\n",
       " (u'stars_obafgk_part_0870',),\n",
       " (u'sfd_stars_partition_14000000000000_fit',),\n",
       " (u'sfd_stars_partition_12500000000000_fit',),\n",
       " (u'sfd_stars_partition_12000000000000_fit',),\n",
       " (u'sfd_stars_partition_8700000000000_circle80m10_fit',),\n",
       " (u'sfd_stars_partition_8700000000000_fit',),\n",
       " (u'StarBHB',),\n",
       " (u'StarRRLy',),\n",
       " (u'StarWhiteDwarf',),\n",
       " (u'galaxy_tiled_supernova_tmp',),\n",
       " (u'variabilityMap',),\n",
       " (u'image',),\n",
       " (u'lens',),\n",
       " (u'galaxy',),\n",
       " (u'stars_obafgk_part_1160',),\n",
       " (u'stars_mlt_part_1100',),\n",
       " (u'sedIdMap',),\n",
       " (u'stars_mlt_part_1160',),\n",
       " (u'starsrrlyvar',),\n",
       " (u'stars_obafgk_part_1100',),\n",
       " (u'stars_mlt_part_1200',),\n",
       " (u'StarEclipsingBinary',),\n",
       " (u'AstromEasterEggs',),\n",
       " (u'StarCepheid',),\n",
       " (u'stars_obafgk_part_1180',),\n",
       " (u'stars_obafgk_part_1200',),\n",
       " (u'StarOBAFGK',),\n",
       " (u'sysdiagrams',),\n",
       " (u'StarOBAFGKForceseek',)]"
      ]
     },
     "execution_count": 188,
     "metadata": {},
     "output_type": "execute_result"
    }
   ],
   "source": [
    "db.fetchall()"
   ]
  },
  {
   "cell_type": "code",
   "execution_count": 159,
   "metadata": {
    "collapsed": false
   },
   "outputs": [
    {
     "name": "stdout",
     "output_type": "stream",
     "text": [
      "2.0\n"
     ]
    }
   ],
   "source": [
    "print(obsMeta.boundLength)"
   ]
  },
  {
   "cell_type": "code",
   "execution_count": 86,
   "metadata": {
    "collapsed": false
   },
   "outputs": [
    {
     "ename": "NameError",
     "evalue": "name 'centralRA' is not defined",
     "output_type": "error",
     "traceback": [
      "\u001b[0;31m---------------------------------------------------------------------------\u001b[0m",
      "\u001b[0;31mNameError\u001b[0m                                 Traceback (most recent call last)",
      "\u001b[0;32m<ipython-input-86-513353415cf0>\u001b[0m in \u001b[0;36m<module>\u001b[0;34m()\u001b[0m\n\u001b[0;32m----> 1\u001b[0;31m TwinklesObsMetaData = ObservationMetaData(boundType='box',pointingRA=centralRA,pointingDec=centralDec,\n\u001b[0m\u001b[1;32m      2\u001b[0m                                               boundLength=patchRadius, mjd=49540.0)\n\u001b[1;32m      3\u001b[0m \u001b[0;34m\u001b[0m\u001b[0m\n",
      "\u001b[0;31mNameError\u001b[0m: name 'centralRA' is not defined"
     ]
    }
   ],
   "source": [
    "obsMetaData = ObservationMetaData(boundType='box',pointingRA=,pointingDec=centralDec,\n",
    "                                              boundLength=2, mjd=49540.0)\n",
    "    "
   ]
  },
  {
   "cell_type": "code",
   "execution_count": 78,
   "metadata": {
    "collapsed": false
   },
   "outputs": [
    {
     "data": {
      "text/plain": [
       "[53.009138473031555, -27.438948808815123]"
      ]
     },
     "execution_count": 78,
     "metadata": {},
     "output_type": "execute_result"
    }
   ],
   "source": [
    "map(np.degrees, (0.925184, -0.4789))"
   ]
  },
  {
   "cell_type": "code",
   "execution_count": 59,
   "metadata": {
    "collapsed": false
   },
   "outputs": [],
   "source": [
    "x = get_colnames(db, 'tiles', colList=range(7))"
   ]
  },
  {
   "cell_type": "code",
   "execution_count": 48,
   "metadata": {
    "collapsed": false
   },
   "outputs": [
    {
     "data": {
      "text/plain": [
       "numpy.ndarray"
      ]
     },
     "execution_count": 48,
     "metadata": {},
     "output_type": "execute_result"
    }
   ],
   "source": [
    "type(x)"
   ]
  },
  {
   "cell_type": "code",
   "execution_count": 60,
   "metadata": {
    "collapsed": false
   },
   "outputs": [
    {
     "data": {
      "text/plain": [
       "array([u'id', u'llx', u'lly', u'urx', u'ury', u'ramid', u'decmid'], \n",
       "      dtype='<U10')"
      ]
     },
     "execution_count": 60,
     "metadata": {},
     "output_type": "execute_result"
    }
   ],
   "source": [
    "x"
   ]
  },
  {
   "cell_type": "code",
   "execution_count": null,
   "metadata": {
    "collapsed": true
   },
   "outputs": [],
   "source": [
    "def get_table(db, colnames):\n",
    "    \"\"\"SELECT TOP 10 id, llx, lly, urx, ury, ramid, decmid  FROM [LSSTCATSIM].[dbo].[tiles]\"\"\"\n",
    "    "
   ]
  },
  {
   "cell_type": "code",
   "execution_count": 177,
   "metadata": {
    "collapsed": true
   },
   "outputs": [],
   "source": [
    "query = \"\"\"SELECT TOP 10 id, llx, lly, urx, ury, ramid, decmid  FROM [LSSTCATSIM].[dbo].[tiles]\"\"\""
   ]
  },
  {
   "cell_type": "code",
   "execution_count": 178,
   "metadata": {
    "collapsed": false
   },
   "outputs": [],
   "source": [
    "db.execute(query)"
   ]
  },
  {
   "cell_type": "code",
   "execution_count": 179,
   "metadata": {
    "collapsed": false
   },
   "outputs": [
    {
     "data": {
      "text/plain": [
       "[(0, 0.0, -90.0, 4.0, -86.0, 2.0, -88.0),\n",
       " (1, 0.0, -86.0, 4.0, -82.0, 2.0, -84.0),\n",
       " (2, 0.0, -82.0, 4.0, -78.0, 2.0, -80.0),\n",
       " (3, 0.0, -78.0, 4.0, -74.0, 2.0, -76.0),\n",
       " (4, 0.0, -74.0, 4.0, -70.0, 2.0, -72.0),\n",
       " (5, 0.0, -70.0, 4.0, -66.0, 2.0, -68.0),\n",
       " (6, 0.0, -66.0, 4.0, -62.0, 2.0, -64.0),\n",
       " (7, 0.0, -62.0, 4.0, -58.0, 2.0, -60.0),\n",
       " (8, 0.0, -58.0, 4.0, -54.0, 2.0, -56.0),\n",
       " (9, 0.0, -54.0, 4.0, -50.0, 2.0, -52.0)]"
      ]
     },
     "execution_count": 179,
     "metadata": {},
     "output_type": "execute_result"
    }
   ],
   "source": [
    "db.fetchall()"
   ]
  },
  {
   "cell_type": "code",
   "execution_count": null,
   "metadata": {
    "collapsed": true
   },
   "outputs": [],
   "source": [
    "query  = \"\"\"SELECT t.name AS table_name FROM \"\"\""
   ]
  },
  {
   "cell_type": "code",
   "execution_count": 22,
   "metadata": {
    "collapsed": true
   },
   "outputs": [],
   "source": [
    "query = \"\"\"SELECT t.COLUMNS from tiles as t\"\"\""
   ]
  },
  {
   "cell_type": "code",
   "execution_count": 24,
   "metadata": {
    "collapsed": true
   },
   "outputs": [],
   "source": [
    "query = \"\"\"select * from information_schema.columns where table_name = 'tiles'\"\"\""
   ]
  },
  {
   "cell_type": "code",
   "execution_count": 25,
   "metadata": {
    "collapsed": false
   },
   "outputs": [],
   "source": [
    "db.execute(query)"
   ]
  },
  {
   "cell_type": "code",
   "execution_count": 26,
   "metadata": {
    "collapsed": false
   },
   "outputs": [
    {
     "data": {
      "text/plain": [
       "[(u'LSSTCATSIM',\n",
       "  u'dbo',\n",
       "  u'tiles',\n",
       "  u'id',\n",
       "  1,\n",
       "  None,\n",
       "  u'YES',\n",
       "  u'int',\n",
       "  None,\n",
       "  None,\n",
       "  10,\n",
       "  10,\n",
       "  0,\n",
       "  None,\n",
       "  None,\n",
       "  None,\n",
       "  None,\n",
       "  None,\n",
       "  None,\n",
       "  None,\n",
       "  None,\n",
       "  None,\n",
       "  None),\n",
       " (u'LSSTCATSIM',\n",
       "  u'dbo',\n",
       "  u'tiles',\n",
       "  u'llx',\n",
       "  2,\n",
       "  None,\n",
       "  u'YES',\n",
       "  u'float',\n",
       "  None,\n",
       "  None,\n",
       "  53,\n",
       "  2,\n",
       "  None,\n",
       "  None,\n",
       "  None,\n",
       "  None,\n",
       "  None,\n",
       "  None,\n",
       "  None,\n",
       "  None,\n",
       "  None,\n",
       "  None,\n",
       "  None),\n",
       " (u'LSSTCATSIM',\n",
       "  u'dbo',\n",
       "  u'tiles',\n",
       "  u'lly',\n",
       "  3,\n",
       "  None,\n",
       "  u'YES',\n",
       "  u'float',\n",
       "  None,\n",
       "  None,\n",
       "  53,\n",
       "  2,\n",
       "  None,\n",
       "  None,\n",
       "  None,\n",
       "  None,\n",
       "  None,\n",
       "  None,\n",
       "  None,\n",
       "  None,\n",
       "  None,\n",
       "  None,\n",
       "  None),\n",
       " (u'LSSTCATSIM',\n",
       "  u'dbo',\n",
       "  u'tiles',\n",
       "  u'urx',\n",
       "  4,\n",
       "  None,\n",
       "  u'YES',\n",
       "  u'float',\n",
       "  None,\n",
       "  None,\n",
       "  53,\n",
       "  2,\n",
       "  None,\n",
       "  None,\n",
       "  None,\n",
       "  None,\n",
       "  None,\n",
       "  None,\n",
       "  None,\n",
       "  None,\n",
       "  None,\n",
       "  None,\n",
       "  None),\n",
       " (u'LSSTCATSIM',\n",
       "  u'dbo',\n",
       "  u'tiles',\n",
       "  u'ury',\n",
       "  5,\n",
       "  None,\n",
       "  u'YES',\n",
       "  u'float',\n",
       "  None,\n",
       "  None,\n",
       "  53,\n",
       "  2,\n",
       "  None,\n",
       "  None,\n",
       "  None,\n",
       "  None,\n",
       "  None,\n",
       "  None,\n",
       "  None,\n",
       "  None,\n",
       "  None,\n",
       "  None,\n",
       "  None),\n",
       " (u'LSSTCATSIM',\n",
       "  u'dbo',\n",
       "  u'tiles',\n",
       "  u'ramid',\n",
       "  6,\n",
       "  None,\n",
       "  u'YES',\n",
       "  u'float',\n",
       "  None,\n",
       "  None,\n",
       "  53,\n",
       "  2,\n",
       "  None,\n",
       "  None,\n",
       "  None,\n",
       "  None,\n",
       "  None,\n",
       "  None,\n",
       "  None,\n",
       "  None,\n",
       "  None,\n",
       "  None,\n",
       "  None),\n",
       " (u'LSSTCATSIM',\n",
       "  u'dbo',\n",
       "  u'tiles',\n",
       "  u'decmid',\n",
       "  7,\n",
       "  None,\n",
       "  u'YES',\n",
       "  u'float',\n",
       "  None,\n",
       "  None,\n",
       "  53,\n",
       "  2,\n",
       "  None,\n",
       "  None,\n",
       "  None,\n",
       "  None,\n",
       "  None,\n",
       "  None,\n",
       "  None,\n",
       "  None,\n",
       "  None,\n",
       "  None,\n",
       "  None),\n",
       " (u'LSSTCATSIM',\n",
       "  u'dbo',\n",
       "  u'tiles',\n",
       "  u'center',\n",
       "  8,\n",
       "  None,\n",
       "  u'YES',\n",
       "  u'varchar',\n",
       "  255,\n",
       "  255,\n",
       "  None,\n",
       "  None,\n",
       "  None,\n",
       "  None,\n",
       "  None,\n",
       "  None,\n",
       "  u'iso_1',\n",
       "  None,\n",
       "  None,\n",
       "  u'SQL_Latin1_General_CP1_CI_AS',\n",
       "  None,\n",
       "  None,\n",
       "  None),\n",
       " (u'LSSTCATSIM',\n",
       "  u'dbo',\n",
       "  u'tiles',\n",
       "  u'bbox',\n",
       "  9,\n",
       "  None,\n",
       "  u'YES',\n",
       "  u'varchar',\n",
       "  255,\n",
       "  255,\n",
       "  None,\n",
       "  None,\n",
       "  None,\n",
       "  None,\n",
       "  None,\n",
       "  None,\n",
       "  u'iso_1',\n",
       "  None,\n",
       "  None,\n",
       "  u'SQL_Latin1_General_CP1_CI_AS',\n",
       "  None,\n",
       "  None,\n",
       "  None),\n",
       " (u'LSSTCATSIM',\n",
       "  u'dbo',\n",
       "  u'tiles',\n",
       "  u'geocenter',\n",
       "  10,\n",
       "  None,\n",
       "  u'YES',\n",
       "  u'geography',\n",
       "  -1,\n",
       "  -1,\n",
       "  None,\n",
       "  None,\n",
       "  None,\n",
       "  None,\n",
       "  None,\n",
       "  None,\n",
       "  None,\n",
       "  None,\n",
       "  None,\n",
       "  None,\n",
       "  None,\n",
       "  None,\n",
       "  None),\n",
       " (u'LSSTCATSIM',\n",
       "  u'dbo',\n",
       "  u'tiles',\n",
       "  u'geobox',\n",
       "  11,\n",
       "  None,\n",
       "  u'YES',\n",
       "  u'geography',\n",
       "  -1,\n",
       "  -1,\n",
       "  None,\n",
       "  None,\n",
       "  None,\n",
       "  None,\n",
       "  None,\n",
       "  None,\n",
       "  None,\n",
       "  None,\n",
       "  None,\n",
       "  None,\n",
       "  None,\n",
       "  None,\n",
       "  None),\n",
       " (u'LSSTCATSIM',\n",
       "  u'dbo',\n",
       "  u'tiles',\n",
       "  u'htmpoly',\n",
       "  12,\n",
       "  None,\n",
       "  u'YES',\n",
       "  u'nvarchar',\n",
       "  -1,\n",
       "  -1,\n",
       "  None,\n",
       "  None,\n",
       "  None,\n",
       "  None,\n",
       "  None,\n",
       "  None,\n",
       "  u'UNICODE',\n",
       "  None,\n",
       "  None,\n",
       "  u'SQL_Latin1_General_CP1_CI_AS',\n",
       "  None,\n",
       "  None,\n",
       "  None),\n",
       " (u'LSSTCATSIM',\n",
       "  u'dbo',\n",
       "  u'tiles',\n",
       "  u'corners',\n",
       "  13,\n",
       "  None,\n",
       "  u'YES',\n",
       "  u'tinyint',\n",
       "  None,\n",
       "  None,\n",
       "  3,\n",
       "  10,\n",
       "  0,\n",
       "  None,\n",
       "  None,\n",
       "  None,\n",
       "  None,\n",
       "  None,\n",
       "  None,\n",
       "  None,\n",
       "  None,\n",
       "  None,\n",
       "  None),\n",
       " (u'LSSTCATSIM',\n",
       "  u'dbo',\n",
       "  u'tiles',\n",
       "  u'htmpolybin',\n",
       "  14,\n",
       "  None,\n",
       "  u'YES',\n",
       "  u'varbinary',\n",
       "  -1,\n",
       "  -1,\n",
       "  None,\n",
       "  None,\n",
       "  None,\n",
       "  None,\n",
       "  None,\n",
       "  None,\n",
       "  None,\n",
       "  None,\n",
       "  None,\n",
       "  None,\n",
       "  None,\n",
       "  None,\n",
       "  None)]"
      ]
     },
     "execution_count": 26,
     "metadata": {},
     "output_type": "execute_result"
    }
   ],
   "source": [
    "db.fetchall()"
   ]
  },
  {
   "cell_type": "code",
   "execution_count": 116,
   "metadata": {
    "collapsed": true
   },
   "outputs": [],
   "source": [
    "import joblib"
   ]
  },
  {
   "cell_type": "code",
   "execution_count": 133,
   "metadata": {
    "collapsed": false
   },
   "outputs": [
    {
     "name": "stdout",
     "output_type": "stream",
     "text": [
      "100 loops, best of 3: 5.84 ms per loop\n"
     ]
    }
   ],
   "source": [
    "%%timeit \n",
    "joblib.dump(galTiles, 'galTile')\n",
    "gg = joblib.load('galTile')"
   ]
  },
  {
   "cell_type": "code",
   "execution_count": 137,
   "metadata": {
    "collapsed": false
   },
   "outputs": [],
   "source": [
    "import cPickle as pickle"
   ]
  },
  {
   "cell_type": "code",
   "execution_count": 140,
   "metadata": {
    "collapsed": false
   },
   "outputs": [
    {
     "name": "stdout",
     "output_type": "stream",
     "text": [
      "10 loops, best of 3: 22.2 ms per loop\n"
     ]
    }
   ],
   "source": [
    "%%timeit \n",
    "gT = pickle.pickle\n",
    "#gg = pickle.loads('galTile')"
   ]
  },
  {
   "cell_type": "code",
   "execution_count": 141,
   "metadata": {
    "collapsed": false
   },
   "outputs": [
    {
     "ename": "TypeError",
     "evalue": "an integer is required",
     "output_type": "error",
     "traceback": [
      "\u001b[0;31m---------------------------------------------------------------------------\u001b[0m",
      "\u001b[0;31mTypeError\u001b[0m                                 Traceback (most recent call last)",
      "\u001b[0;32m<ipython-input-141-ea095f35c282>\u001b[0m in \u001b[0;36m<module>\u001b[0;34m()\u001b[0m\n\u001b[0;32m----> 1\u001b[0;31m \u001b[0mpickle\u001b[0m\u001b[0;34m.\u001b[0m\u001b[0mPickler\u001b[0m\u001b[0;34m(\u001b[0m\u001b[0;34m'gtpick'\u001b[0m\u001b[0;34m,\u001b[0m \u001b[0mgalTiles\u001b[0m\u001b[0;34m)\u001b[0m\u001b[0;34m\u001b[0m\u001b[0m\n\u001b[0m",
      "\u001b[0;31mTypeError\u001b[0m: an integer is required"
     ]
    }
   ],
   "source": []
  },
  {
   "cell_type": "code",
   "execution_count": null,
   "metadata": {
    "collapsed": true
   },
   "outputs": [],
   "source": []
  }
 ],
 "metadata": {
  "kernelspec": {
   "display_name": "Python 2",
   "language": "python",
   "name": "python2"
  },
  "language_info": {
   "codemirror_mode": {
    "name": "ipython",
    "version": 2
   },
   "file_extension": ".py",
   "mimetype": "text/x-python",
   "name": "python",
   "nbconvert_exporter": "python",
   "pygments_lexer": "ipython2",
   "version": "2.7.11"
  }
 },
 "nbformat": 4,
 "nbformat_minor": 0
}
