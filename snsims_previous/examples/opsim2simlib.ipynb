{
 "metadata": {
  "name": "",
  "signature": "sha256:531bff7d61db587a06db8a03812c268c6b4467d701c6a10769c98d2b436391b6"
 },
 "nbformat": 3,
 "nbformat_minor": 0,
 "worksheets": [
  {
   "cells": [
    {
     "cell_type": "code",
     "collapsed": false,
     "input": [
      "import numpy as np"
     ],
     "language": "python",
     "metadata": {},
     "outputs": [],
     "prompt_number": 1
    },
    {
     "cell_type": "code",
     "collapsed": false,
     "input": [
      "def area(opsim_seeing, pixsize=0.2):\n",
      "\n",
      "    simlibpsf = (opsim_seeing/2.35)/pixsize\n",
      "    area = (1.51 * opsim_seeing)**2.\n",
      "    return area"
     ],
     "language": "python",
     "metadata": {},
     "outputs": [],
     "prompt_number": 3
    },
    {
     "cell_type": "code",
     "collapsed": false,
     "input": [
      "def simlib_zptavg(area, opsim_snr, opsim_magsky, opsim_maglim):\n",
      "    \n",
      "    arg = area * opsim_snr * opsim_snr\n",
      "    zpt_approx = 2.0 * opsim_maglim - opsim_magsky + 2.5 * np.log10(arg)\n",
      "    \n",
      "    # ARG again in David Cinabro's code\n",
      "    val = -0.4 * (opsim_magsky - opsim_maglim)\n",
      "    tmp = 10.0 ** val\n",
      "    zpt_cor = 2.5 * np.log10(1.0 + 1.0 / (area * tmp))\n",
      "    \n",
      "    simlib_zptavg = zpt_approx + zpt_cor\n",
      "    return simlib_zptavg\n",
      "    \n",
      "    "
     ],
     "language": "python",
     "metadata": {},
     "outputs": [],
     "prompt_number": 2
    },
    {
     "cell_type": "code",
     "collapsed": false,
     "input": [
      "def simlib_skysig(area, opsim_magsky, simlib_zptavg):\n",
      "    \n",
      "    arg = - 0.4 * (opsim_magsky - simlib_zptavg)\n",
      "    fsky_asec = 10.0 ** arg\n",
      "    fsky_pix = fsky_asec / npix_asec\n",
      "    simlib_skynoise = np.sqrt(fsky_pix)\n",
      "    \n",
      "    return simlib_skynoise"
     ],
     "language": "python",
     "metadata": {},
     "outputs": [],
     "prompt_number": 4
    }
   ],
   "metadata": {}
  }
 ]
}